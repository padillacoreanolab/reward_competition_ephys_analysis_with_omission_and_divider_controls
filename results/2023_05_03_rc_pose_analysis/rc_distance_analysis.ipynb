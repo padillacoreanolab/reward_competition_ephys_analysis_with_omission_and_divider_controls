{
 "cells": [
  {
   "cell_type": "markdown",
   "metadata": {},
   "source": [
    "# Analysis examples"
   ]
  },
  {
   "cell_type": "code",
   "execution_count": 175,
   "metadata": {},
   "outputs": [],
   "source": [
    "import os\n",
    "import glob\n",
    "from collections import defaultdict\n",
    "import math"
   ]
  },
  {
   "cell_type": "code",
   "execution_count": 2,
   "metadata": {},
   "outputs": [],
   "source": [
    "import pandas as pd\n",
    "import h5py\n",
    "import numpy as np\n",
    "import matplotlib.pyplot as plt\n"
   ]
  },
  {
   "cell_type": "code",
   "execution_count": 26,
   "metadata": {},
   "outputs": [],
   "source": [
    "import seaborn as sns\n",
    "import matplotlib as mpl\n",
    "import matplotlib.pyplot as plt"
   ]
  },
  {
   "cell_type": "markdown",
   "metadata": {
    "id": "XdoDboCtNhUB"
   },
   "source": [
    "In this notebook we'll show examples of how you might use the predictions exported from SLEAP. We'll work with an [Analysis HDF5](https://sleap.ai/tutorials/analysis.html) file (rather than the `.slp` predictions file). This HDF5 file can be exported from SLEAP.\n",
    "\n",
    "We advise building your post-SLEAP analysis pipeline around these HDF5 files rather than trying to work directly with the `.slp` files used by SLEAP.\n",
    "\n",
    "**Note**: You can work with these HDF5 directly in Python (as we'll do here) or MATLAB without having SLEAP itself installed."
   ]
  },
  {
   "cell_type": "markdown",
   "metadata": {
    "id": "ZaQ_poYbffRz"
   },
   "source": [
    "We can set the path and filename to the analysis HDF5. In our case, this is just `predictions.analysis.h5`. If you're running analysis code on your local computer this will be the full path and filename of your HDF5. If you're running analysis code on Colab, then you'll probably copy files to Colab via Google Drive and should use the path to your file there."
   ]
  },
  {
   "cell_type": "markdown",
   "metadata": {},
   "source": [
    "# Reading in the CS Tone spreadsheet"
   ]
  },
  {
   "cell_type": "code",
   "execution_count": 34,
   "metadata": {},
   "outputs": [],
   "source": [
    "tone_df = pd.read_csv(\"./proc/20221125_144832_omission_subject_6_1_top_1_base_2_merged.timestamps.csv\", index_col=0)"
   ]
  },
  {
   "cell_type": "code",
   "execution_count": 41,
   "metadata": {},
   "outputs": [],
   "source": [
    "tone_df[\"20_second_before\"] = tone_df[\"filled_frame_number\"] - 30 * 5\n",
    "tone_df[\"20_second_after\"] = tone_df[\"filled_frame_number\"] + 30 * 5"
   ]
  },
  {
   "cell_type": "code",
   "execution_count": 36,
   "metadata": {},
   "outputs": [
    {
     "data": {
      "text/html": [
       "<div>\n",
       "<style scoped>\n",
       "    .dataframe tbody tr th:only-of-type {\n",
       "        vertical-align: middle;\n",
       "    }\n",
       "\n",
       "    .dataframe tbody tr th {\n",
       "        vertical-align: top;\n",
       "    }\n",
       "\n",
       "    .dataframe thead th {\n",
       "        text-align: right;\n",
       "    }\n",
       "</style>\n",
       "<table border=\"1\" class=\"dataframe\">\n",
       "  <thead>\n",
       "    <tr style=\"text-align: right;\">\n",
       "      <th></th>\n",
       "      <th>voltage_time_stamp</th>\n",
       "      <th>frame_number</th>\n",
       "      <th>PosTimestamp</th>\n",
       "      <th>video_time</th>\n",
       "      <th>video_seconds</th>\n",
       "      <th>filled_voltage_time_stamp</th>\n",
       "      <th>filled_frame_number</th>\n",
       "      <th>filled_PosTimestamp</th>\n",
       "      <th>filled_video_time</th>\n",
       "      <th>filled_video_seconds</th>\n",
       "      <th>time</th>\n",
       "      <th>state</th>\n",
       "      <th>trial_number</th>\n",
       "      <th>filled_state</th>\n",
       "      <th>filled_trial_number</th>\n",
       "    </tr>\n",
       "  </thead>\n",
       "  <tbody>\n",
       "    <tr>\n",
       "      <th>25388554</th>\n",
       "      <td>29063065</td>\n",
       "      <td>NaN</td>\n",
       "      <td>NaN</td>\n",
       "      <td>NaN</td>\n",
       "      <td>NaN</td>\n",
       "      <td>29063065</td>\n",
       "      <td>25335.0</td>\n",
       "      <td>29061683.0</td>\n",
       "      <td>1809.642857</td>\n",
       "      <td>1809.0</td>\n",
       "      <td>NaN</td>\n",
       "      <td>NaN</td>\n",
       "      <td>NaN</td>\n",
       "      <td>1.0</td>\n",
       "      <td>16.0</td>\n",
       "    </tr>\n",
       "    <tr>\n",
       "      <th>25388555</th>\n",
       "      <td>29063066</td>\n",
       "      <td>NaN</td>\n",
       "      <td>NaN</td>\n",
       "      <td>NaN</td>\n",
       "      <td>NaN</td>\n",
       "      <td>29063066</td>\n",
       "      <td>25335.0</td>\n",
       "      <td>29061683.0</td>\n",
       "      <td>1809.642857</td>\n",
       "      <td>1809.0</td>\n",
       "      <td>NaN</td>\n",
       "      <td>NaN</td>\n",
       "      <td>NaN</td>\n",
       "      <td>1.0</td>\n",
       "      <td>16.0</td>\n",
       "    </tr>\n",
       "    <tr>\n",
       "      <th>25388556</th>\n",
       "      <td>29063067</td>\n",
       "      <td>NaN</td>\n",
       "      <td>NaN</td>\n",
       "      <td>NaN</td>\n",
       "      <td>NaN</td>\n",
       "      <td>29063067</td>\n",
       "      <td>25335.0</td>\n",
       "      <td>29061683.0</td>\n",
       "      <td>1809.642857</td>\n",
       "      <td>1809.0</td>\n",
       "      <td>NaN</td>\n",
       "      <td>NaN</td>\n",
       "      <td>NaN</td>\n",
       "      <td>1.0</td>\n",
       "      <td>16.0</td>\n",
       "    </tr>\n",
       "    <tr>\n",
       "      <th>25388557</th>\n",
       "      <td>29063068</td>\n",
       "      <td>NaN</td>\n",
       "      <td>NaN</td>\n",
       "      <td>NaN</td>\n",
       "      <td>NaN</td>\n",
       "      <td>29063068</td>\n",
       "      <td>25335.0</td>\n",
       "      <td>29061683.0</td>\n",
       "      <td>1809.642857</td>\n",
       "      <td>1809.0</td>\n",
       "      <td>NaN</td>\n",
       "      <td>NaN</td>\n",
       "      <td>NaN</td>\n",
       "      <td>1.0</td>\n",
       "      <td>16.0</td>\n",
       "    </tr>\n",
       "    <tr>\n",
       "      <th>25388558</th>\n",
       "      <td>29063069</td>\n",
       "      <td>NaN</td>\n",
       "      <td>NaN</td>\n",
       "      <td>NaN</td>\n",
       "      <td>NaN</td>\n",
       "      <td>29063069</td>\n",
       "      <td>25335.0</td>\n",
       "      <td>29061683.0</td>\n",
       "      <td>1809.642857</td>\n",
       "      <td>1809.0</td>\n",
       "      <td>NaN</td>\n",
       "      <td>NaN</td>\n",
       "      <td>NaN</td>\n",
       "      <td>1.0</td>\n",
       "      <td>16.0</td>\n",
       "    </tr>\n",
       "  </tbody>\n",
       "</table>\n",
       "</div>"
      ],
      "text/plain": [
       "          voltage_time_stamp  frame_number  PosTimestamp  video_time  \\\n",
       "25388554            29063065           NaN           NaN         NaN   \n",
       "25388555            29063066           NaN           NaN         NaN   \n",
       "25388556            29063067           NaN           NaN         NaN   \n",
       "25388557            29063068           NaN           NaN         NaN   \n",
       "25388558            29063069           NaN           NaN         NaN   \n",
       "\n",
       "          video_seconds  filled_voltage_time_stamp  filled_frame_number  \\\n",
       "25388554            NaN                   29063065              25335.0   \n",
       "25388555            NaN                   29063066              25335.0   \n",
       "25388556            NaN                   29063067              25335.0   \n",
       "25388557            NaN                   29063068              25335.0   \n",
       "25388558            NaN                   29063069              25335.0   \n",
       "\n",
       "          filled_PosTimestamp  filled_video_time  filled_video_seconds  time  \\\n",
       "25388554           29061683.0        1809.642857                1809.0   NaN   \n",
       "25388555           29061683.0        1809.642857                1809.0   NaN   \n",
       "25388556           29061683.0        1809.642857                1809.0   NaN   \n",
       "25388557           29061683.0        1809.642857                1809.0   NaN   \n",
       "25388558           29061683.0        1809.642857                1809.0   NaN   \n",
       "\n",
       "          state  trial_number  filled_state  filled_trial_number  \n",
       "25388554    NaN           NaN           1.0                 16.0  \n",
       "25388555    NaN           NaN           1.0                 16.0  \n",
       "25388556    NaN           NaN           1.0                 16.0  \n",
       "25388557    NaN           NaN           1.0                 16.0  \n",
       "25388558    NaN           NaN           1.0                 16.0  "
      ]
     },
     "execution_count": 36,
     "metadata": {},
     "output_type": "execute_result"
    }
   ],
   "source": [
    "tone_df.tail()"
   ]
  },
  {
   "cell_type": "code",
   "execution_count": 109,
   "metadata": {},
   "outputs": [],
   "source": [
    "tone_start_only_df = tone_df.dropna(subset=\"state\").reset_index(drop=True)\n",
    "tone_start_only_df = tone_start_only_df[tone_start_only_df[\"filled_state\"] == 1]"
   ]
  },
  {
   "cell_type": "code",
   "execution_count": 110,
   "metadata": {},
   "outputs": [
    {
     "data": {
      "text/html": [
       "<div>\n",
       "<style scoped>\n",
       "    .dataframe tbody tr th:only-of-type {\n",
       "        vertical-align: middle;\n",
       "    }\n",
       "\n",
       "    .dataframe tbody tr th {\n",
       "        vertical-align: top;\n",
       "    }\n",
       "\n",
       "    .dataframe thead th {\n",
       "        text-align: right;\n",
       "    }\n",
       "</style>\n",
       "<table border=\"1\" class=\"dataframe\">\n",
       "  <thead>\n",
       "    <tr style=\"text-align: right;\">\n",
       "      <th></th>\n",
       "      <th>voltage_time_stamp</th>\n",
       "      <th>frame_number</th>\n",
       "      <th>PosTimestamp</th>\n",
       "      <th>video_time</th>\n",
       "      <th>video_seconds</th>\n",
       "      <th>filled_voltage_time_stamp</th>\n",
       "      <th>filled_frame_number</th>\n",
       "      <th>filled_PosTimestamp</th>\n",
       "      <th>filled_video_time</th>\n",
       "      <th>filled_video_seconds</th>\n",
       "      <th>time</th>\n",
       "      <th>state</th>\n",
       "      <th>trial_number</th>\n",
       "      <th>filled_state</th>\n",
       "      <th>filled_trial_number</th>\n",
       "      <th>20_second_before</th>\n",
       "      <th>20_second_after</th>\n",
       "    </tr>\n",
       "  </thead>\n",
       "  <tbody>\n",
       "    <tr>\n",
       "      <th>0</th>\n",
       "      <td>3680870</td>\n",
       "      <td>NaN</td>\n",
       "      <td>NaN</td>\n",
       "      <td>NaN</td>\n",
       "      <td>NaN</td>\n",
       "      <td>3680870</td>\n",
       "      <td>NaN</td>\n",
       "      <td>NaN</td>\n",
       "      <td>NaN</td>\n",
       "      <td>NaN</td>\n",
       "      <td>3680870.0</td>\n",
       "      <td>1.0</td>\n",
       "      <td>1.0</td>\n",
       "      <td>1.0</td>\n",
       "      <td>1.0</td>\n",
       "      <td>NaN</td>\n",
       "      <td>NaN</td>\n",
       "    </tr>\n",
       "    <tr>\n",
       "      <th>2</th>\n",
       "      <td>5025667</td>\n",
       "      <td>NaN</td>\n",
       "      <td>NaN</td>\n",
       "      <td>NaN</td>\n",
       "      <td>NaN</td>\n",
       "      <td>5025667</td>\n",
       "      <td>1343.0</td>\n",
       "      <td>5025162.0</td>\n",
       "      <td>95.928571</td>\n",
       "      <td>95.0</td>\n",
       "      <td>5025667.0</td>\n",
       "      <td>1.0</td>\n",
       "      <td>2.0</td>\n",
       "      <td>1.0</td>\n",
       "      <td>2.0</td>\n",
       "      <td>1193.0</td>\n",
       "      <td>1493.0</td>\n",
       "    </tr>\n",
       "    <tr>\n",
       "      <th>4</th>\n",
       "      <td>6625665</td>\n",
       "      <td>NaN</td>\n",
       "      <td>NaN</td>\n",
       "      <td>NaN</td>\n",
       "      <td>NaN</td>\n",
       "      <td>6625665</td>\n",
       "      <td>2939.0</td>\n",
       "      <td>6624455.0</td>\n",
       "      <td>209.928571</td>\n",
       "      <td>209.0</td>\n",
       "      <td>6625665.0</td>\n",
       "      <td>1.0</td>\n",
       "      <td>3.0</td>\n",
       "      <td>1.0</td>\n",
       "      <td>3.0</td>\n",
       "      <td>2789.0</td>\n",
       "      <td>3089.0</td>\n",
       "    </tr>\n",
       "    <tr>\n",
       "      <th>6</th>\n",
       "      <td>8425664</td>\n",
       "      <td>NaN</td>\n",
       "      <td>NaN</td>\n",
       "      <td>NaN</td>\n",
       "      <td>NaN</td>\n",
       "      <td>8425664</td>\n",
       "      <td>4736.0</td>\n",
       "      <td>8424700.0</td>\n",
       "      <td>338.285714</td>\n",
       "      <td>338.0</td>\n",
       "      <td>8425664.0</td>\n",
       "      <td>1.0</td>\n",
       "      <td>4.0</td>\n",
       "      <td>1.0</td>\n",
       "      <td>4.0</td>\n",
       "      <td>4586.0</td>\n",
       "      <td>4886.0</td>\n",
       "    </tr>\n",
       "    <tr>\n",
       "      <th>8</th>\n",
       "      <td>10025660</td>\n",
       "      <td>NaN</td>\n",
       "      <td>NaN</td>\n",
       "      <td>NaN</td>\n",
       "      <td>NaN</td>\n",
       "      <td>10025660</td>\n",
       "      <td>6334.0</td>\n",
       "      <td>10025379.0</td>\n",
       "      <td>452.428571</td>\n",
       "      <td>452.0</td>\n",
       "      <td>10025660.0</td>\n",
       "      <td>1.0</td>\n",
       "      <td>5.0</td>\n",
       "      <td>1.0</td>\n",
       "      <td>5.0</td>\n",
       "      <td>6184.0</td>\n",
       "      <td>6484.0</td>\n",
       "    </tr>\n",
       "    <tr>\n",
       "      <th>10</th>\n",
       "      <td>11525660</td>\n",
       "      <td>NaN</td>\n",
       "      <td>NaN</td>\n",
       "      <td>NaN</td>\n",
       "      <td>NaN</td>\n",
       "      <td>11525660</td>\n",
       "      <td>7831.0</td>\n",
       "      <td>11524890.0</td>\n",
       "      <td>559.357143</td>\n",
       "      <td>559.0</td>\n",
       "      <td>11525660.0</td>\n",
       "      <td>1.0</td>\n",
       "      <td>6.0</td>\n",
       "      <td>1.0</td>\n",
       "      <td>6.0</td>\n",
       "      <td>7681.0</td>\n",
       "      <td>7981.0</td>\n",
       "    </tr>\n",
       "    <tr>\n",
       "      <th>12</th>\n",
       "      <td>13525658</td>\n",
       "      <td>NaN</td>\n",
       "      <td>NaN</td>\n",
       "      <td>NaN</td>\n",
       "      <td>NaN</td>\n",
       "      <td>13525658</td>\n",
       "      <td>9827.0</td>\n",
       "      <td>13524700.0</td>\n",
       "      <td>701.928571</td>\n",
       "      <td>701.0</td>\n",
       "      <td>13525658.0</td>\n",
       "      <td>1.0</td>\n",
       "      <td>7.0</td>\n",
       "      <td>1.0</td>\n",
       "      <td>7.0</td>\n",
       "      <td>9677.0</td>\n",
       "      <td>9977.0</td>\n",
       "    </tr>\n",
       "    <tr>\n",
       "      <th>14</th>\n",
       "      <td>15425657</td>\n",
       "      <td>NaN</td>\n",
       "      <td>NaN</td>\n",
       "      <td>NaN</td>\n",
       "      <td>NaN</td>\n",
       "      <td>15425657</td>\n",
       "      <td>11723.0</td>\n",
       "      <td>15424727.0</td>\n",
       "      <td>837.357143</td>\n",
       "      <td>837.0</td>\n",
       "      <td>15425657.0</td>\n",
       "      <td>1.0</td>\n",
       "      <td>8.0</td>\n",
       "      <td>1.0</td>\n",
       "      <td>8.0</td>\n",
       "      <td>11573.0</td>\n",
       "      <td>11873.0</td>\n",
       "    </tr>\n",
       "    <tr>\n",
       "      <th>16</th>\n",
       "      <td>17225655</td>\n",
       "      <td>NaN</td>\n",
       "      <td>NaN</td>\n",
       "      <td>NaN</td>\n",
       "      <td>NaN</td>\n",
       "      <td>17225655</td>\n",
       "      <td>13520.0</td>\n",
       "      <td>17224971.0</td>\n",
       "      <td>965.714286</td>\n",
       "      <td>965.0</td>\n",
       "      <td>17225655.0</td>\n",
       "      <td>1.0</td>\n",
       "      <td>9.0</td>\n",
       "      <td>1.0</td>\n",
       "      <td>9.0</td>\n",
       "      <td>13370.0</td>\n",
       "      <td>13670.0</td>\n",
       "    </tr>\n",
       "    <tr>\n",
       "      <th>18</th>\n",
       "      <td>18825652</td>\n",
       "      <td>NaN</td>\n",
       "      <td>NaN</td>\n",
       "      <td>NaN</td>\n",
       "      <td>NaN</td>\n",
       "      <td>18825652</td>\n",
       "      <td>15118.0</td>\n",
       "      <td>18825651.0</td>\n",
       "      <td>1079.857143</td>\n",
       "      <td>1079.0</td>\n",
       "      <td>18825652.0</td>\n",
       "      <td>1.0</td>\n",
       "      <td>10.0</td>\n",
       "      <td>1.0</td>\n",
       "      <td>10.0</td>\n",
       "      <td>14968.0</td>\n",
       "      <td>15268.0</td>\n",
       "    </tr>\n",
       "    <tr>\n",
       "      <th>20</th>\n",
       "      <td>20625651</td>\n",
       "      <td>NaN</td>\n",
       "      <td>NaN</td>\n",
       "      <td>NaN</td>\n",
       "      <td>NaN</td>\n",
       "      <td>20625651</td>\n",
       "      <td>16913.0</td>\n",
       "      <td>20624509.0</td>\n",
       "      <td>1208.071429</td>\n",
       "      <td>1208.0</td>\n",
       "      <td>20625651.0</td>\n",
       "      <td>1.0</td>\n",
       "      <td>11.0</td>\n",
       "      <td>1.0</td>\n",
       "      <td>11.0</td>\n",
       "      <td>16763.0</td>\n",
       "      <td>17063.0</td>\n",
       "    </tr>\n",
       "    <tr>\n",
       "      <th>22</th>\n",
       "      <td>22625649</td>\n",
       "      <td>NaN</td>\n",
       "      <td>NaN</td>\n",
       "      <td>NaN</td>\n",
       "      <td>NaN</td>\n",
       "      <td>22625649</td>\n",
       "      <td>18909.0</td>\n",
       "      <td>22624319.0</td>\n",
       "      <td>1350.642857</td>\n",
       "      <td>1350.0</td>\n",
       "      <td>22625649.0</td>\n",
       "      <td>1.0</td>\n",
       "      <td>12.0</td>\n",
       "      <td>1.0</td>\n",
       "      <td>12.0</td>\n",
       "      <td>18759.0</td>\n",
       "      <td>19059.0</td>\n",
       "    </tr>\n",
       "    <tr>\n",
       "      <th>24</th>\n",
       "      <td>24425647</td>\n",
       "      <td>NaN</td>\n",
       "      <td>NaN</td>\n",
       "      <td>NaN</td>\n",
       "      <td>NaN</td>\n",
       "      <td>24425647</td>\n",
       "      <td>20706.0</td>\n",
       "      <td>24424564.0</td>\n",
       "      <td>1479.000000</td>\n",
       "      <td>1479.0</td>\n",
       "      <td>24425647.0</td>\n",
       "      <td>1.0</td>\n",
       "      <td>13.0</td>\n",
       "      <td>1.0</td>\n",
       "      <td>13.0</td>\n",
       "      <td>20556.0</td>\n",
       "      <td>20856.0</td>\n",
       "    </tr>\n",
       "    <tr>\n",
       "      <th>26</th>\n",
       "      <td>26825644</td>\n",
       "      <td>NaN</td>\n",
       "      <td>NaN</td>\n",
       "      <td>NaN</td>\n",
       "      <td>NaN</td>\n",
       "      <td>26825644</td>\n",
       "      <td>23102.0</td>\n",
       "      <td>26824890.0</td>\n",
       "      <td>1650.142857</td>\n",
       "      <td>1650.0</td>\n",
       "      <td>26825644.0</td>\n",
       "      <td>1.0</td>\n",
       "      <td>14.0</td>\n",
       "      <td>1.0</td>\n",
       "      <td>14.0</td>\n",
       "      <td>22952.0</td>\n",
       "      <td>23252.0</td>\n",
       "    </tr>\n",
       "    <tr>\n",
       "      <th>28</th>\n",
       "      <td>28625643</td>\n",
       "      <td>NaN</td>\n",
       "      <td>NaN</td>\n",
       "      <td>NaN</td>\n",
       "      <td>NaN</td>\n",
       "      <td>28625643</td>\n",
       "      <td>24899.0</td>\n",
       "      <td>28625134.0</td>\n",
       "      <td>1778.500000</td>\n",
       "      <td>1778.0</td>\n",
       "      <td>28625643.0</td>\n",
       "      <td>1.0</td>\n",
       "      <td>15.0</td>\n",
       "      <td>1.0</td>\n",
       "      <td>15.0</td>\n",
       "      <td>24749.0</td>\n",
       "      <td>25049.0</td>\n",
       "    </tr>\n",
       "    <tr>\n",
       "      <th>30</th>\n",
       "      <td>29025242</td>\n",
       "      <td>NaN</td>\n",
       "      <td>NaN</td>\n",
       "      <td>NaN</td>\n",
       "      <td>NaN</td>\n",
       "      <td>29025242</td>\n",
       "      <td>25297.0</td>\n",
       "      <td>29024265.0</td>\n",
       "      <td>1806.928571</td>\n",
       "      <td>1806.0</td>\n",
       "      <td>29025242.0</td>\n",
       "      <td>1.0</td>\n",
       "      <td>16.0</td>\n",
       "      <td>1.0</td>\n",
       "      <td>16.0</td>\n",
       "      <td>25147.0</td>\n",
       "      <td>25447.0</td>\n",
       "    </tr>\n",
       "  </tbody>\n",
       "</table>\n",
       "</div>"
      ],
      "text/plain": [
       "    voltage_time_stamp  frame_number  PosTimestamp  video_time  video_seconds  \\\n",
       "0              3680870           NaN           NaN         NaN            NaN   \n",
       "2              5025667           NaN           NaN         NaN            NaN   \n",
       "4              6625665           NaN           NaN         NaN            NaN   \n",
       "6              8425664           NaN           NaN         NaN            NaN   \n",
       "8             10025660           NaN           NaN         NaN            NaN   \n",
       "10            11525660           NaN           NaN         NaN            NaN   \n",
       "12            13525658           NaN           NaN         NaN            NaN   \n",
       "14            15425657           NaN           NaN         NaN            NaN   \n",
       "16            17225655           NaN           NaN         NaN            NaN   \n",
       "18            18825652           NaN           NaN         NaN            NaN   \n",
       "20            20625651           NaN           NaN         NaN            NaN   \n",
       "22            22625649           NaN           NaN         NaN            NaN   \n",
       "24            24425647           NaN           NaN         NaN            NaN   \n",
       "26            26825644           NaN           NaN         NaN            NaN   \n",
       "28            28625643           NaN           NaN         NaN            NaN   \n",
       "30            29025242           NaN           NaN         NaN            NaN   \n",
       "\n",
       "    filled_voltage_time_stamp  filled_frame_number  filled_PosTimestamp  \\\n",
       "0                     3680870                  NaN                  NaN   \n",
       "2                     5025667               1343.0            5025162.0   \n",
       "4                     6625665               2939.0            6624455.0   \n",
       "6                     8425664               4736.0            8424700.0   \n",
       "8                    10025660               6334.0           10025379.0   \n",
       "10                   11525660               7831.0           11524890.0   \n",
       "12                   13525658               9827.0           13524700.0   \n",
       "14                   15425657              11723.0           15424727.0   \n",
       "16                   17225655              13520.0           17224971.0   \n",
       "18                   18825652              15118.0           18825651.0   \n",
       "20                   20625651              16913.0           20624509.0   \n",
       "22                   22625649              18909.0           22624319.0   \n",
       "24                   24425647              20706.0           24424564.0   \n",
       "26                   26825644              23102.0           26824890.0   \n",
       "28                   28625643              24899.0           28625134.0   \n",
       "30                   29025242              25297.0           29024265.0   \n",
       "\n",
       "    filled_video_time  filled_video_seconds        time  state  trial_number  \\\n",
       "0                 NaN                   NaN   3680870.0    1.0           1.0   \n",
       "2           95.928571                  95.0   5025667.0    1.0           2.0   \n",
       "4          209.928571                 209.0   6625665.0    1.0           3.0   \n",
       "6          338.285714                 338.0   8425664.0    1.0           4.0   \n",
       "8          452.428571                 452.0  10025660.0    1.0           5.0   \n",
       "10         559.357143                 559.0  11525660.0    1.0           6.0   \n",
       "12         701.928571                 701.0  13525658.0    1.0           7.0   \n",
       "14         837.357143                 837.0  15425657.0    1.0           8.0   \n",
       "16         965.714286                 965.0  17225655.0    1.0           9.0   \n",
       "18        1079.857143                1079.0  18825652.0    1.0          10.0   \n",
       "20        1208.071429                1208.0  20625651.0    1.0          11.0   \n",
       "22        1350.642857                1350.0  22625649.0    1.0          12.0   \n",
       "24        1479.000000                1479.0  24425647.0    1.0          13.0   \n",
       "26        1650.142857                1650.0  26825644.0    1.0          14.0   \n",
       "28        1778.500000                1778.0  28625643.0    1.0          15.0   \n",
       "30        1806.928571                1806.0  29025242.0    1.0          16.0   \n",
       "\n",
       "    filled_state  filled_trial_number  20_second_before  20_second_after  \n",
       "0            1.0                  1.0               NaN              NaN  \n",
       "2            1.0                  2.0            1193.0           1493.0  \n",
       "4            1.0                  3.0            2789.0           3089.0  \n",
       "6            1.0                  4.0            4586.0           4886.0  \n",
       "8            1.0                  5.0            6184.0           6484.0  \n",
       "10           1.0                  6.0            7681.0           7981.0  \n",
       "12           1.0                  7.0            9677.0           9977.0  \n",
       "14           1.0                  8.0           11573.0          11873.0  \n",
       "16           1.0                  9.0           13370.0          13670.0  \n",
       "18           1.0                 10.0           14968.0          15268.0  \n",
       "20           1.0                 11.0           16763.0          17063.0  \n",
       "22           1.0                 12.0           18759.0          19059.0  \n",
       "24           1.0                 13.0           20556.0          20856.0  \n",
       "26           1.0                 14.0           22952.0          23252.0  \n",
       "28           1.0                 15.0           24749.0          25049.0  \n",
       "30           1.0                 16.0           25147.0          25447.0  "
      ]
     },
     "execution_count": 110,
     "metadata": {},
     "output_type": "execute_result"
    }
   ],
   "source": [
    "tone_start_only_df "
   ]
  },
  {
   "cell_type": "markdown",
   "metadata": {},
   "source": [
    "# Getting the coordinates of the 4 corners and the reward port"
   ]
  },
  {
   "cell_type": "code",
   "execution_count": 7,
   "metadata": {
    "id": "ppJTyt2zgD8f"
   },
   "outputs": [],
   "source": [
    "filename = \"./predictions/orientation_20221125_144832_omission_and_competition_subejct_6_1_and_6_2.1.fixed.round_4.predictions.analysis.h5\""
   ]
  },
  {
   "cell_type": "markdown",
   "metadata": {
    "id": "u7r5L5WVgKUV"
   },
   "source": [
    "## Loading the data\n",
    "\n",
    "We use the [h5py](https://www.h5py.org) package to load data from the HDF5. This is already installed in Colab. If your running analysis code on your local machine and have SLEAP installed, then `h5py` and other packages we use are already installed in your SLEAP conda environment. Otherwise, you may need to use `conda` or `pip` to install `h5py` as well as `numpy`, `scipy`, `matplotlib`, `seaborn`, and any other packages you want use in your analysis code.\n",
    "\n",
    "Let's load the file and take a peek."
   ]
  },
  {
   "cell_type": "code",
   "execution_count": 8,
   "metadata": {
    "colab": {
     "base_uri": "https://localhost:8080/"
    },
    "id": "Sua2AKkTM8PN",
    "outputId": "3c6179d5-6b55-4bb9-e839-38941bb9cce8"
   },
   "outputs": [
    {
     "name": "stdout",
     "output_type": "stream",
     "text": [
      "===filename===\n",
      "./predictions/orientation_20221125_144832_omission_and_competition_subejct_6_1_and_6_2.1.fixed.round_4.predictions.analysis.h5\n",
      "\n",
      "===HDF5 datasets===\n",
      "['edge_inds', 'edge_names', 'instance_scores', 'labels_path', 'node_names', 'point_scores', 'provenance', 'track_names', 'track_occupancy', 'tracking_scores', 'tracks', 'video_ind', 'video_path']\n",
      "\n",
      "===locations data shape===\n",
      "(17946, 9, 2, 1)\n",
      "\n",
      "===nodes===\n",
      "0: reward_port\n",
      "1: box_top_left\n",
      "2: box_top_right\n",
      "3: box_bottom_left\n",
      "4: box_bottom_right\n",
      "5: video_top_right\n",
      "6: video_top_left\n",
      "7: video_bottom_right\n",
      "8: video_bottom_left\n",
      "\n"
     ]
    }
   ],
   "source": [
    "import h5py\n",
    "import numpy as np\n",
    "\n",
    "with h5py.File(filename, \"r\") as f:\n",
    "    dset_names = list(f.keys())\n",
    "    locations = f[\"tracks\"][:].T\n",
    "    node_names = [n.decode() for n in f[\"node_names\"][:]]\n",
    "\n",
    "print(\"===filename===\")\n",
    "print(filename)\n",
    "print()\n",
    "\n",
    "print(\"===HDF5 datasets===\")\n",
    "print(dset_names)\n",
    "print()\n",
    "\n",
    "print(\"===locations data shape===\")\n",
    "print(locations.shape)\n",
    "print()\n",
    "\n",
    "print(\"===nodes===\")\n",
    "for i, name in enumerate(node_names):\n",
    "    print(f\"{i}: {name}\")\n",
    "print()\n"
   ]
  },
  {
   "cell_type": "markdown",
   "metadata": {
    "id": "2gDkifEXhyoW"
   },
   "source": [
    "In our example file, the shape of the locations matrix (the `tracks` dataset) is (3000, 13, 2, 2) **after it is transposed** (with the `.T`). We transpose the data when loading it in Python; no transpose is needed when using MATLAB. This is because Python and MATLAB expect matrices to be stored differently.\n",
    "\n",
    "Here's what each dimension of the matrix means:\n",
    "\n",
    "- 3000: the number of frames;\n",
    "\n",
    "- 13: the number of nodes in the skeleton (we've also loaded and displayed the `node_names` dataset with the names of these 13 nodes);\n",
    "\n",
    "- 2: for the x and y coordinates;\n",
    "\n",
    "- 2: the number of distinct animal identities which were found (we have 2 flies in the video clip and they were tracked perfectly, so we ended up with exactly 2 track, but there may be more tracks than animals if tracking didn't work as well).\n",
    "\n",
    "We can get these counts from the shape of the matrix, like so:\n"
   ]
  },
  {
   "cell_type": "code",
   "execution_count": 9,
   "metadata": {
    "colab": {
     "base_uri": "https://localhost:8080/"
    },
    "id": "WA5Jxw1_M8PQ",
    "outputId": "a3a31de2-28a3-4b69-8533-1c5d567aae5f",
    "scrolled": false
   },
   "outputs": [
    {
     "name": "stdout",
     "output_type": "stream",
     "text": [
      "frame count: 17946\n",
      "node count: 9\n",
      "instance count: 1\n"
     ]
    }
   ],
   "source": [
    "frame_count, node_count, _, instance_count = locations.shape\n",
    "\n",
    "print(\"frame count:\", frame_count)\n",
    "print(\"node count:\", node_count)\n",
    "print(\"instance count:\", instance_count)"
   ]
  },
  {
   "cell_type": "code",
   "execution_count": 10,
   "metadata": {},
   "outputs": [],
   "source": [
    "corner_locations = locations[0,:,:,:]"
   ]
  },
  {
   "cell_type": "code",
   "execution_count": 11,
   "metadata": {},
   "outputs": [
    {
     "data": {
      "text/plain": [
       "array([[[ 968.26515974],\n",
       "        [ 907.14479439]],\n",
       "\n",
       "       [[ 755.2509712 ],\n",
       "        [ 266.24712379]],\n",
       "\n",
       "       [[1222.84983662],\n",
       "        [ 278.00031358]],\n",
       "\n",
       "       [[ 720.34187828],\n",
       "        [ 860.34669824]],\n",
       "\n",
       "       [[1237.4059467 ],\n",
       "        [ 887.33905551]],\n",
       "\n",
       "       [[1540.41525426],\n",
       "        [   0.        ]],\n",
       "\n",
       "       [[ 383.2257975 ],\n",
       "        [   5.90701579]],\n",
       "\n",
       "       [[1552.25474786],\n",
       "        [1080.        ]],\n",
       "\n",
       "       [[ 393.25450823],\n",
       "        [1080.        ]]])"
      ]
     },
     "execution_count": 11,
     "metadata": {},
     "output_type": "execute_result"
    }
   ],
   "source": [
    "corner_locations"
   ]
  },
  {
   "cell_type": "code",
   "execution_count": 12,
   "metadata": {},
   "outputs": [
    {
     "data": {
      "text/plain": [
       "array([968.26515974])"
      ]
     },
     "execution_count": 12,
     "metadata": {},
     "output_type": "execute_result"
    }
   ],
   "source": [
    "corner_locations[0][0]"
   ]
  },
  {
   "cell_type": "code",
   "execution_count": 13,
   "metadata": {
    "scrolled": true
   },
   "outputs": [
    {
     "data": {
      "text/plain": [
       "['reward_port',\n",
       " 'box_top_left',\n",
       " 'box_top_right',\n",
       " 'box_bottom_left',\n",
       " 'box_bottom_right',\n",
       " 'video_top_right',\n",
       " 'video_top_left',\n",
       " 'video_bottom_right',\n",
       " 'video_bottom_left']"
      ]
     },
     "execution_count": 13,
     "metadata": {},
     "output_type": "execute_result"
    }
   ],
   "source": [
    "node_names"
   ]
  },
  {
   "cell_type": "code",
   "execution_count": 14,
   "metadata": {},
   "outputs": [],
   "source": [
    "node_name_to_coordinates = {name: coordinate for name, coordinate in zip(node_names, corner_locations)}"
   ]
  },
  {
   "cell_type": "code",
   "execution_count": 15,
   "metadata": {},
   "outputs": [
    {
     "data": {
      "text/plain": [
       "{'reward_port': array([[968.26515974],\n",
       "        [907.14479439]]),\n",
       " 'box_top_left': array([[755.2509712 ],\n",
       "        [266.24712379]]),\n",
       " 'box_top_right': array([[1222.84983662],\n",
       "        [ 278.00031358]]),\n",
       " 'box_bottom_left': array([[720.34187828],\n",
       "        [860.34669824]]),\n",
       " 'box_bottom_right': array([[1237.4059467 ],\n",
       "        [ 887.33905551]]),\n",
       " 'video_top_right': array([[1540.41525426],\n",
       "        [   0.        ]]),\n",
       " 'video_top_left': array([[383.2257975 ],\n",
       "        [  5.90701579]]),\n",
       " 'video_bottom_right': array([[1552.25474786],\n",
       "        [1080.        ]]),\n",
       " 'video_bottom_left': array([[ 393.25450823],\n",
       "        [1080.        ]])}"
      ]
     },
     "execution_count": 15,
     "metadata": {},
     "output_type": "execute_result"
    }
   ],
   "source": [
    "node_name_to_coordinates"
   ]
  },
  {
   "cell_type": "code",
   "execution_count": 16,
   "metadata": {},
   "outputs": [],
   "source": [
    "corner_to_color = {\"reward_port\": \"orange\", \"top_right\": \"red\", \"top_left\": \"yellow\", \"bottom_right\": \"green\", \"bottom_left\": \"blue\"}"
   ]
  },
  {
   "cell_type": "code",
   "execution_count": 17,
   "metadata": {
    "scrolled": true
   },
   "outputs": [
    {
     "data": {
      "text/plain": [
       "Text(0.5, 1.0, 'Location of each corner in Reward Competition')"
      ]
     },
     "execution_count": 17,
     "metadata": {},
     "output_type": "execute_result"
    },
    {
     "data": {
      "image/png": "[encoded data removed]",
      "text/plain": [
       "<Figure size 700x700 with 1 Axes>"
      ]
     },
     "metadata": {},
     "output_type": "display_data"
    }
   ],
   "source": [
    "plt.figure(figsize=(7,7))\n",
    "\n",
    "for name, coordinate in node_name_to_coordinates.items():\n",
    "    corner_direction = name.strip(\"box\").strip(\"video\").strip(\"_\")\n",
    "    plt.scatter(coordinate[0], coordinate[1], label=name, c=corner_to_color[corner_direction])\n",
    "\n",
    "\n",
    "plt.legend()\n",
    "\n",
    "plt.title('Location of each corner in Reward Competition')"
   ]
  },
  {
   "cell_type": "markdown",
   "metadata": {},
   "source": [
    "# Getting the coordinates of each mouse to the reward port"
   ]
  },
  {
   "cell_type": "code",
   "execution_count": 18,
   "metadata": {},
   "outputs": [],
   "source": [
    "filename = \"./predictions/20221125_144832_omission_and_competition_subejct_6_1_and_6_2.1.fixed.round_4.predictions.analysis.h5\""
   ]
  },
  {
   "cell_type": "markdown",
   "metadata": {
    "id": "u7r5L5WVgKUV"
   },
   "source": [
    "## Loading the data\n",
    "\n",
    "We use the [h5py](https://www.h5py.org) package to load data from the HDF5. This is already installed in Colab. If your running analysis code on your local machine and have SLEAP installed, then `h5py` and other packages we use are already installed in your SLEAP conda environment. Otherwise, you may need to use `conda` or `pip` to install `h5py` as well as `numpy`, `scipy`, `matplotlib`, `seaborn`, and any other packages you want use in your analysis code.\n",
    "\n",
    "Let's load the file and take a peek."
   ]
  },
  {
   "cell_type": "code",
   "execution_count": 19,
   "metadata": {
    "colab": {
     "base_uri": "https://localhost:8080/"
    },
    "id": "Sua2AKkTM8PN",
    "outputId": "3c6179d5-6b55-4bb9-e839-38941bb9cce8",
    "scrolled": true
   },
   "outputs": [
    {
     "name": "stdout",
     "output_type": "stream",
     "text": [
      "===filename===\n",
      "./predictions/20221125_144832_omission_and_competition_subejct_6_1_and_6_2.1.fixed.round_4.predictions.analysis.h5\n",
      "\n",
      "===HDF5 datasets===\n",
      "['edge_inds', 'edge_names', 'instance_scores', 'labels_path', 'node_names', 'point_scores', 'provenance', 'track_names', 'track_occupancy', 'tracking_scores', 'tracks', 'video_ind', 'video_path']\n",
      "\n",
      "===locations data shape===\n",
      "(25336, 6, 2, 1)\n",
      "\n",
      "===nodes===\n",
      "0: left_ear\n",
      "1: right_ear\n",
      "2: nose\n",
      "3: tail_base\n",
      "4: thorax\n",
      "5: forehead\n",
      "\n"
     ]
    }
   ],
   "source": [
    "with h5py.File(filename, \"r\") as f:\n",
    "    dset_names = list(f.keys())\n",
    "    locations = f[\"tracks\"][:].T\n",
    "    node_names = [n.decode() for n in f[\"node_names\"][:]]\n",
    "    track_names = f[\"track_names\"][:].T\n",
    "    track_names = [str(name.decode('UTF-8')) for name in track_names]\n",
    "\n",
    "print(\"===filename===\")\n",
    "print(filename)\n",
    "print()\n",
    "\n",
    "print(\"===HDF5 datasets===\")\n",
    "print(dset_names)\n",
    "print()\n",
    "\n",
    "print(\"===locations data shape===\")\n",
    "print(locations.shape)\n",
    "print()\n",
    "\n",
    "print(\"===nodes===\")\n",
    "for i, name in enumerate(node_names):\n",
    "    print(f\"{i}: {name}\")\n",
    "print()\n"
   ]
  },
  {
   "cell_type": "code",
   "execution_count": 20,
   "metadata": {},
   "outputs": [
    {
     "data": {
      "text/plain": [
       "['track_0']"
      ]
     },
     "execution_count": 20,
     "metadata": {},
     "output_type": "execute_result"
    }
   ],
   "source": [
    "track_names"
   ]
  },
  {
   "cell_type": "markdown",
   "metadata": {
    "id": "2gDkifEXhyoW"
   },
   "source": [
    "In our example file, the shape of the locations matrix (the `tracks` dataset) is (3000, 13, 2, 2) **after it is transposed** (with the `.T`). We transpose the data when loading it in Python; no transpose is needed when using MATLAB. This is because Python and MATLAB expect matrices to be stored differently.\n",
    "\n",
    "Here's what each dimension of the matrix means:\n",
    "\n",
    "- 3000: the number of frames;\n",
    "\n",
    "- 13: the number of nodes in the skeleton (we've also loaded and displayed the `node_names` dataset with the names of these 13 nodes);\n",
    "\n",
    "- 2: for the x and y coordinates;\n",
    "\n",
    "- 2: the number of distinct animal identities which were found (we have 2 flies in the video clip and they were tracked perfectly, so we ended up with exactly 2 track, but there may be more tracks than animals if tracking didn't work as well).\n",
    "\n",
    "We can get these counts from the shape of the matrix, like so:\n"
   ]
  },
  {
   "cell_type": "code",
   "execution_count": 21,
   "metadata": {
    "colab": {
     "base_uri": "https://localhost:8080/"
    },
    "id": "WA5Jxw1_M8PQ",
    "outputId": "a3a31de2-28a3-4b69-8533-1c5d567aae5f"
   },
   "outputs": [
    {
     "name": "stdout",
     "output_type": "stream",
     "text": [
      "frame count: 25336\n",
      "node count: 6\n",
      "instance count: 1\n"
     ]
    }
   ],
   "source": [
    "frame_count, node_count, _, instance_count = locations.shape\n",
    "\n",
    "print(\"frame count:\", frame_count)\n",
    "print(\"node count:\", node_count)\n",
    "print(\"instance count:\", instance_count)"
   ]
  },
  {
   "cell_type": "markdown",
   "metadata": {
    "id": "2JKWBGbqjoH6"
   },
   "source": [
    "Now that we've loaded the data, let's see some different things we can do with it..."
   ]
  },
  {
   "cell_type": "markdown",
   "metadata": {
    "id": "sS28-dipM8PS"
   },
   "source": [
    "## Fill missing values"
   ]
  },
  {
   "cell_type": "code",
   "execution_count": 22,
   "metadata": {},
   "outputs": [],
   "source": [
    "from scipy.interpolate import interp1d\n",
    "\n",
    "def fill_missing(Y, kind=\"linear\"):\n",
    "    \"\"\"Fills missing values independently along each dimension after the first.\"\"\"\n",
    "\n",
    "    # Store initial shape.\n",
    "    initial_shape = Y.shape\n",
    "\n",
    "    # Flatten after first dim.\n",
    "    Y = Y.reshape((initial_shape[0], -1))\n",
    "\n",
    "    # Interpolate along each slice.\n",
    "    for i in range(Y.shape[-1]):\n",
    "        y = Y[:, i]\n",
    "\n",
    "        # Build interpolant.\n",
    "        x = np.flatnonzero(~np.isnan(y))\n",
    "        f = interp1d(x, y[x], kind=kind, fill_value=np.nan, bounds_error=False)\n",
    "\n",
    "        # Fill missing\n",
    "        xq = np.flatnonzero(np.isnan(y))\n",
    "        y[xq] = f(xq)\n",
    "        \n",
    "        # Fill leading or trailing NaNs with the nearest non-NaN values\n",
    "        mask = np.isnan(y)\n",
    "        y[mask] = np.interp(np.flatnonzero(mask), np.flatnonzero(~mask), y[~mask])\n",
    "\n",
    "        # Save slice\n",
    "        Y[:, i] = y\n",
    "\n",
    "    # Restore to initial shape.\n",
    "    Y = Y.reshape(initial_shape)\n",
    "\n",
    "    return Y"
   ]
  },
  {
   "cell_type": "code",
   "execution_count": 23,
   "metadata": {
    "id": "-zadxB39M8PU"
   },
   "outputs": [],
   "source": [
    "locations = fill_missing(locations)"
   ]
  },
  {
   "cell_type": "markdown",
   "metadata": {
    "id": "1dt3i6T9mHUh"
   },
   "source": [
    "## Visualize thorax movement across video"
   ]
  },
  {
   "cell_type": "code",
   "execution_count": 27,
   "metadata": {},
   "outputs": [
    {
     "data": {
      "text/plain": [
       "['left_ear', 'right_ear', 'nose', 'tail_base', 'thorax', 'forehead']"
      ]
     },
     "execution_count": 27,
     "metadata": {},
     "output_type": "execute_result"
    }
   ],
   "source": [
    "node_names"
   ]
  },
  {
   "cell_type": "code",
   "execution_count": 28,
   "metadata": {},
   "outputs": [],
   "source": [
    "body_part_to_loc = {}\n",
    "for index, body_part in enumerate(node_names):\n",
    "    body_part_to_loc[body_part] = locations[:, index, :, :]"
   ]
  },
  {
   "cell_type": "code",
   "execution_count": 29,
   "metadata": {
    "id": "mMjBC4rCM8Pa"
   },
   "outputs": [],
   "source": [
    "sns.set('notebook', 'ticks', font_scale=1.2)\n",
    "mpl.rcParams['figure.figsize'] = [15,6]"
   ]
  },
  {
   "cell_type": "markdown",
   "metadata": {},
   "source": [
    "### SLEAP Coordinates\n"
   ]
  },
  {
   "cell_type": "code",
   "execution_count": 30,
   "metadata": {},
   "outputs": [
    {
     "data": {
      "text/plain": [
       "array([[[1228.16040039],\n",
       "        [ 843.96142578]],\n",
       "\n",
       "       [[1228.16040039],\n",
       "        [ 843.96142578]],\n",
       "\n",
       "       [[1228.16040039],\n",
       "        [ 843.96142578]],\n",
       "\n",
       "       ...,\n",
       "\n",
       "       [[ 959.8237915 ],\n",
       "        [ 791.78588867]],\n",
       "\n",
       "       [[ 948.15484619],\n",
       "        [ 788.296875  ]],\n",
       "\n",
       "       [[ 948.15783691],\n",
       "        [ 788.29571533]]])"
      ]
     },
     "execution_count": 30,
     "metadata": {},
     "output_type": "execute_result"
    }
   ],
   "source": [
    "body_part_to_loc[\"thorax\"]"
   ]
  },
  {
   "cell_type": "code",
   "execution_count": 44,
   "metadata": {
    "scrolled": true
   },
   "outputs": [
    {
     "data": {
      "text/html": [
       "<div>\n",
       "<style scoped>\n",
       "    .dataframe tbody tr th:only-of-type {\n",
       "        vertical-align: middle;\n",
       "    }\n",
       "\n",
       "    .dataframe tbody tr th {\n",
       "        vertical-align: top;\n",
       "    }\n",
       "\n",
       "    .dataframe thead th {\n",
       "        text-align: right;\n",
       "    }\n",
       "</style>\n",
       "<table border=\"1\" class=\"dataframe\">\n",
       "  <thead>\n",
       "    <tr style=\"text-align: right;\">\n",
       "      <th></th>\n",
       "      <th>voltage_time_stamp</th>\n",
       "      <th>frame_number</th>\n",
       "      <th>PosTimestamp</th>\n",
       "      <th>video_time</th>\n",
       "      <th>video_seconds</th>\n",
       "      <th>filled_voltage_time_stamp</th>\n",
       "      <th>filled_frame_number</th>\n",
       "      <th>filled_PosTimestamp</th>\n",
       "      <th>filled_video_time</th>\n",
       "      <th>filled_video_seconds</th>\n",
       "      <th>time</th>\n",
       "      <th>state</th>\n",
       "      <th>trial_number</th>\n",
       "      <th>filled_state</th>\n",
       "      <th>filled_trial_number</th>\n",
       "      <th>20_second_before</th>\n",
       "      <th>20_second_after</th>\n",
       "    </tr>\n",
       "  </thead>\n",
       "  <tbody>\n",
       "    <tr>\n",
       "      <th>0</th>\n",
       "      <td>3680870</td>\n",
       "      <td>NaN</td>\n",
       "      <td>NaN</td>\n",
       "      <td>NaN</td>\n",
       "      <td>NaN</td>\n",
       "      <td>3680870</td>\n",
       "      <td>NaN</td>\n",
       "      <td>NaN</td>\n",
       "      <td>NaN</td>\n",
       "      <td>NaN</td>\n",
       "      <td>3680870.0</td>\n",
       "      <td>1.0</td>\n",
       "      <td>1.0</td>\n",
       "      <td>1.0</td>\n",
       "      <td>1.0</td>\n",
       "      <td>NaN</td>\n",
       "      <td>NaN</td>\n",
       "    </tr>\n",
       "    <tr>\n",
       "      <th>1</th>\n",
       "      <td>3825268</td>\n",
       "      <td>NaN</td>\n",
       "      <td>NaN</td>\n",
       "      <td>NaN</td>\n",
       "      <td>NaN</td>\n",
       "      <td>3825268</td>\n",
       "      <td>145.0</td>\n",
       "      <td>3824999.0</td>\n",
       "      <td>10.357143</td>\n",
       "      <td>10.0</td>\n",
       "      <td>3825268.0</td>\n",
       "      <td>0.0</td>\n",
       "      <td>1.0</td>\n",
       "      <td>0.0</td>\n",
       "      <td>1.0</td>\n",
       "      <td>-5.0</td>\n",
       "      <td>295.0</td>\n",
       "    </tr>\n",
       "    <tr>\n",
       "      <th>2</th>\n",
       "      <td>5025667</td>\n",
       "      <td>NaN</td>\n",
       "      <td>NaN</td>\n",
       "      <td>NaN</td>\n",
       "      <td>NaN</td>\n",
       "      <td>5025667</td>\n",
       "      <td>1343.0</td>\n",
       "      <td>5025162.0</td>\n",
       "      <td>95.928571</td>\n",
       "      <td>95.0</td>\n",
       "      <td>5025667.0</td>\n",
       "      <td>1.0</td>\n",
       "      <td>2.0</td>\n",
       "      <td>1.0</td>\n",
       "      <td>2.0</td>\n",
       "      <td>1193.0</td>\n",
       "      <td>1493.0</td>\n",
       "    </tr>\n",
       "    <tr>\n",
       "      <th>3</th>\n",
       "      <td>5225666</td>\n",
       "      <td>NaN</td>\n",
       "      <td>NaN</td>\n",
       "      <td>NaN</td>\n",
       "      <td>NaN</td>\n",
       "      <td>5225666</td>\n",
       "      <td>1542.0</td>\n",
       "      <td>5224727.0</td>\n",
       "      <td>110.142857</td>\n",
       "      <td>110.0</td>\n",
       "      <td>5225666.0</td>\n",
       "      <td>0.0</td>\n",
       "      <td>2.0</td>\n",
       "      <td>0.0</td>\n",
       "      <td>2.0</td>\n",
       "      <td>1392.0</td>\n",
       "      <td>1692.0</td>\n",
       "    </tr>\n",
       "    <tr>\n",
       "      <th>4</th>\n",
       "      <td>6625665</td>\n",
       "      <td>NaN</td>\n",
       "      <td>NaN</td>\n",
       "      <td>NaN</td>\n",
       "      <td>NaN</td>\n",
       "      <td>6625665</td>\n",
       "      <td>2939.0</td>\n",
       "      <td>6624455.0</td>\n",
       "      <td>209.928571</td>\n",
       "      <td>209.0</td>\n",
       "      <td>6625665.0</td>\n",
       "      <td>1.0</td>\n",
       "      <td>3.0</td>\n",
       "      <td>1.0</td>\n",
       "      <td>3.0</td>\n",
       "      <td>2789.0</td>\n",
       "      <td>3089.0</td>\n",
       "    </tr>\n",
       "    <tr>\n",
       "      <th>5</th>\n",
       "      <td>6825665</td>\n",
       "      <td>NaN</td>\n",
       "      <td>NaN</td>\n",
       "      <td>NaN</td>\n",
       "      <td>NaN</td>\n",
       "      <td>6825665</td>\n",
       "      <td>3140.0</td>\n",
       "      <td>6825406.0</td>\n",
       "      <td>224.285714</td>\n",
       "      <td>224.0</td>\n",
       "      <td>6825665.0</td>\n",
       "      <td>0.0</td>\n",
       "      <td>3.0</td>\n",
       "      <td>0.0</td>\n",
       "      <td>3.0</td>\n",
       "      <td>2990.0</td>\n",
       "      <td>3290.0</td>\n",
       "    </tr>\n",
       "    <tr>\n",
       "      <th>6</th>\n",
       "      <td>8425664</td>\n",
       "      <td>NaN</td>\n",
       "      <td>NaN</td>\n",
       "      <td>NaN</td>\n",
       "      <td>NaN</td>\n",
       "      <td>8425664</td>\n",
       "      <td>4736.0</td>\n",
       "      <td>8424700.0</td>\n",
       "      <td>338.285714</td>\n",
       "      <td>338.0</td>\n",
       "      <td>8425664.0</td>\n",
       "      <td>1.0</td>\n",
       "      <td>4.0</td>\n",
       "      <td>1.0</td>\n",
       "      <td>4.0</td>\n",
       "      <td>4586.0</td>\n",
       "      <td>4886.0</td>\n",
       "    </tr>\n",
       "    <tr>\n",
       "      <th>7</th>\n",
       "      <td>8625663</td>\n",
       "      <td>NaN</td>\n",
       "      <td>NaN</td>\n",
       "      <td>NaN</td>\n",
       "      <td>NaN</td>\n",
       "      <td>8625663</td>\n",
       "      <td>4937.0</td>\n",
       "      <td>8625651.0</td>\n",
       "      <td>352.642857</td>\n",
       "      <td>352.0</td>\n",
       "      <td>8625663.0</td>\n",
       "      <td>0.0</td>\n",
       "      <td>4.0</td>\n",
       "      <td>0.0</td>\n",
       "      <td>4.0</td>\n",
       "      <td>4787.0</td>\n",
       "      <td>5087.0</td>\n",
       "    </tr>\n",
       "    <tr>\n",
       "      <th>8</th>\n",
       "      <td>10025660</td>\n",
       "      <td>NaN</td>\n",
       "      <td>NaN</td>\n",
       "      <td>NaN</td>\n",
       "      <td>NaN</td>\n",
       "      <td>10025660</td>\n",
       "      <td>6334.0</td>\n",
       "      <td>10025379.0</td>\n",
       "      <td>452.428571</td>\n",
       "      <td>452.0</td>\n",
       "      <td>10025660.0</td>\n",
       "      <td>1.0</td>\n",
       "      <td>5.0</td>\n",
       "      <td>1.0</td>\n",
       "      <td>5.0</td>\n",
       "      <td>6184.0</td>\n",
       "      <td>6484.0</td>\n",
       "    </tr>\n",
       "    <tr>\n",
       "      <th>9</th>\n",
       "      <td>10225662</td>\n",
       "      <td>NaN</td>\n",
       "      <td>NaN</td>\n",
       "      <td>NaN</td>\n",
       "      <td>NaN</td>\n",
       "      <td>10225662</td>\n",
       "      <td>6533.0</td>\n",
       "      <td>10224944.0</td>\n",
       "      <td>466.642857</td>\n",
       "      <td>466.0</td>\n",
       "      <td>10225662.0</td>\n",
       "      <td>0.0</td>\n",
       "      <td>5.0</td>\n",
       "      <td>0.0</td>\n",
       "      <td>5.0</td>\n",
       "      <td>6383.0</td>\n",
       "      <td>6683.0</td>\n",
       "    </tr>\n",
       "    <tr>\n",
       "      <th>10</th>\n",
       "      <td>11525660</td>\n",
       "      <td>NaN</td>\n",
       "      <td>NaN</td>\n",
       "      <td>NaN</td>\n",
       "      <td>NaN</td>\n",
       "      <td>11525660</td>\n",
       "      <td>7831.0</td>\n",
       "      <td>11524890.0</td>\n",
       "      <td>559.357143</td>\n",
       "      <td>559.0</td>\n",
       "      <td>11525660.0</td>\n",
       "      <td>1.0</td>\n",
       "      <td>6.0</td>\n",
       "      <td>1.0</td>\n",
       "      <td>6.0</td>\n",
       "      <td>7681.0</td>\n",
       "      <td>7981.0</td>\n",
       "    </tr>\n",
       "    <tr>\n",
       "      <th>11</th>\n",
       "      <td>11725660</td>\n",
       "      <td>NaN</td>\n",
       "      <td>NaN</td>\n",
       "      <td>NaN</td>\n",
       "      <td>NaN</td>\n",
       "      <td>11725660</td>\n",
       "      <td>8030.0</td>\n",
       "      <td>11724455.0</td>\n",
       "      <td>573.571429</td>\n",
       "      <td>573.0</td>\n",
       "      <td>11725660.0</td>\n",
       "      <td>0.0</td>\n",
       "      <td>6.0</td>\n",
       "      <td>0.0</td>\n",
       "      <td>6.0</td>\n",
       "      <td>7880.0</td>\n",
       "      <td>8180.0</td>\n",
       "    </tr>\n",
       "    <tr>\n",
       "      <th>12</th>\n",
       "      <td>13525658</td>\n",
       "      <td>NaN</td>\n",
       "      <td>NaN</td>\n",
       "      <td>NaN</td>\n",
       "      <td>NaN</td>\n",
       "      <td>13525658</td>\n",
       "      <td>9827.0</td>\n",
       "      <td>13524700.0</td>\n",
       "      <td>701.928571</td>\n",
       "      <td>701.0</td>\n",
       "      <td>13525658.0</td>\n",
       "      <td>1.0</td>\n",
       "      <td>7.0</td>\n",
       "      <td>1.0</td>\n",
       "      <td>7.0</td>\n",
       "      <td>9677.0</td>\n",
       "      <td>9977.0</td>\n",
       "    </tr>\n",
       "    <tr>\n",
       "      <th>13</th>\n",
       "      <td>13725661</td>\n",
       "      <td>NaN</td>\n",
       "      <td>NaN</td>\n",
       "      <td>NaN</td>\n",
       "      <td>NaN</td>\n",
       "      <td>13725661</td>\n",
       "      <td>10027.0</td>\n",
       "      <td>13725651.0</td>\n",
       "      <td>716.214286</td>\n",
       "      <td>716.0</td>\n",
       "      <td>13725661.0</td>\n",
       "      <td>0.0</td>\n",
       "      <td>7.0</td>\n",
       "      <td>0.0</td>\n",
       "      <td>7.0</td>\n",
       "      <td>9877.0</td>\n",
       "      <td>10177.0</td>\n",
       "    </tr>\n",
       "    <tr>\n",
       "      <th>14</th>\n",
       "      <td>15425657</td>\n",
       "      <td>NaN</td>\n",
       "      <td>NaN</td>\n",
       "      <td>NaN</td>\n",
       "      <td>NaN</td>\n",
       "      <td>15425657</td>\n",
       "      <td>11723.0</td>\n",
       "      <td>15424727.0</td>\n",
       "      <td>837.357143</td>\n",
       "      <td>837.0</td>\n",
       "      <td>15425657.0</td>\n",
       "      <td>1.0</td>\n",
       "      <td>8.0</td>\n",
       "      <td>1.0</td>\n",
       "      <td>8.0</td>\n",
       "      <td>11573.0</td>\n",
       "      <td>11873.0</td>\n",
       "    </tr>\n",
       "    <tr>\n",
       "      <th>15</th>\n",
       "      <td>15625656</td>\n",
       "      <td>NaN</td>\n",
       "      <td>NaN</td>\n",
       "      <td>NaN</td>\n",
       "      <td>NaN</td>\n",
       "      <td>15625656</td>\n",
       "      <td>11922.0</td>\n",
       "      <td>15624292.0</td>\n",
       "      <td>851.571429</td>\n",
       "      <td>851.0</td>\n",
       "      <td>15625656.0</td>\n",
       "      <td>0.0</td>\n",
       "      <td>8.0</td>\n",
       "      <td>0.0</td>\n",
       "      <td>8.0</td>\n",
       "      <td>11772.0</td>\n",
       "      <td>12072.0</td>\n",
       "    </tr>\n",
       "    <tr>\n",
       "      <th>16</th>\n",
       "      <td>17225655</td>\n",
       "      <td>NaN</td>\n",
       "      <td>NaN</td>\n",
       "      <td>NaN</td>\n",
       "      <td>NaN</td>\n",
       "      <td>17225655</td>\n",
       "      <td>13520.0</td>\n",
       "      <td>17224971.0</td>\n",
       "      <td>965.714286</td>\n",
       "      <td>965.0</td>\n",
       "      <td>17225655.0</td>\n",
       "      <td>1.0</td>\n",
       "      <td>9.0</td>\n",
       "      <td>1.0</td>\n",
       "      <td>9.0</td>\n",
       "      <td>13370.0</td>\n",
       "      <td>13670.0</td>\n",
       "    </tr>\n",
       "    <tr>\n",
       "      <th>17</th>\n",
       "      <td>17425651</td>\n",
       "      <td>NaN</td>\n",
       "      <td>NaN</td>\n",
       "      <td>NaN</td>\n",
       "      <td>NaN</td>\n",
       "      <td>17425651</td>\n",
       "      <td>13719.0</td>\n",
       "      <td>17424537.0</td>\n",
       "      <td>979.928571</td>\n",
       "      <td>979.0</td>\n",
       "      <td>17425651.0</td>\n",
       "      <td>0.0</td>\n",
       "      <td>9.0</td>\n",
       "      <td>0.0</td>\n",
       "      <td>9.0</td>\n",
       "      <td>13569.0</td>\n",
       "      <td>13869.0</td>\n",
       "    </tr>\n",
       "    <tr>\n",
       "      <th>18</th>\n",
       "      <td>18825652</td>\n",
       "      <td>NaN</td>\n",
       "      <td>NaN</td>\n",
       "      <td>NaN</td>\n",
       "      <td>NaN</td>\n",
       "      <td>18825652</td>\n",
       "      <td>15118.0</td>\n",
       "      <td>18825651.0</td>\n",
       "      <td>1079.857143</td>\n",
       "      <td>1079.0</td>\n",
       "      <td>18825652.0</td>\n",
       "      <td>1.0</td>\n",
       "      <td>10.0</td>\n",
       "      <td>1.0</td>\n",
       "      <td>10.0</td>\n",
       "      <td>14968.0</td>\n",
       "      <td>15268.0</td>\n",
       "    </tr>\n",
       "    <tr>\n",
       "      <th>19</th>\n",
       "      <td>19025653</td>\n",
       "      <td>NaN</td>\n",
       "      <td>NaN</td>\n",
       "      <td>NaN</td>\n",
       "      <td>NaN</td>\n",
       "      <td>19025653</td>\n",
       "      <td>15317.0</td>\n",
       "      <td>19025216.0</td>\n",
       "      <td>1094.071429</td>\n",
       "      <td>1094.0</td>\n",
       "      <td>19025653.0</td>\n",
       "      <td>0.0</td>\n",
       "      <td>10.0</td>\n",
       "      <td>0.0</td>\n",
       "      <td>10.0</td>\n",
       "      <td>15167.0</td>\n",
       "      <td>15467.0</td>\n",
       "    </tr>\n",
       "    <tr>\n",
       "      <th>20</th>\n",
       "      <td>20625651</td>\n",
       "      <td>NaN</td>\n",
       "      <td>NaN</td>\n",
       "      <td>NaN</td>\n",
       "      <td>NaN</td>\n",
       "      <td>20625651</td>\n",
       "      <td>16913.0</td>\n",
       "      <td>20624509.0</td>\n",
       "      <td>1208.071429</td>\n",
       "      <td>1208.0</td>\n",
       "      <td>20625651.0</td>\n",
       "      <td>1.0</td>\n",
       "      <td>11.0</td>\n",
       "      <td>1.0</td>\n",
       "      <td>11.0</td>\n",
       "      <td>16763.0</td>\n",
       "      <td>17063.0</td>\n",
       "    </tr>\n",
       "    <tr>\n",
       "      <th>21</th>\n",
       "      <td>20825651</td>\n",
       "      <td>NaN</td>\n",
       "      <td>NaN</td>\n",
       "      <td>NaN</td>\n",
       "      <td>NaN</td>\n",
       "      <td>20825651</td>\n",
       "      <td>17114.0</td>\n",
       "      <td>20825460.0</td>\n",
       "      <td>1222.428571</td>\n",
       "      <td>1222.0</td>\n",
       "      <td>20825651.0</td>\n",
       "      <td>0.0</td>\n",
       "      <td>11.0</td>\n",
       "      <td>0.0</td>\n",
       "      <td>11.0</td>\n",
       "      <td>16964.0</td>\n",
       "      <td>17264.0</td>\n",
       "    </tr>\n",
       "    <tr>\n",
       "      <th>22</th>\n",
       "      <td>22625649</td>\n",
       "      <td>NaN</td>\n",
       "      <td>NaN</td>\n",
       "      <td>NaN</td>\n",
       "      <td>NaN</td>\n",
       "      <td>22625649</td>\n",
       "      <td>18909.0</td>\n",
       "      <td>22624319.0</td>\n",
       "      <td>1350.642857</td>\n",
       "      <td>1350.0</td>\n",
       "      <td>22625649.0</td>\n",
       "      <td>1.0</td>\n",
       "      <td>12.0</td>\n",
       "      <td>1.0</td>\n",
       "      <td>12.0</td>\n",
       "      <td>18759.0</td>\n",
       "      <td>19059.0</td>\n",
       "    </tr>\n",
       "    <tr>\n",
       "      <th>23</th>\n",
       "      <td>22825649</td>\n",
       "      <td>NaN</td>\n",
       "      <td>NaN</td>\n",
       "      <td>NaN</td>\n",
       "      <td>NaN</td>\n",
       "      <td>22825649</td>\n",
       "      <td>19110.0</td>\n",
       "      <td>22825270.0</td>\n",
       "      <td>1365.000000</td>\n",
       "      <td>1365.0</td>\n",
       "      <td>22825649.0</td>\n",
       "      <td>0.0</td>\n",
       "      <td>12.0</td>\n",
       "      <td>0.0</td>\n",
       "      <td>12.0</td>\n",
       "      <td>18960.0</td>\n",
       "      <td>19260.0</td>\n",
       "    </tr>\n",
       "    <tr>\n",
       "      <th>24</th>\n",
       "      <td>24425647</td>\n",
       "      <td>NaN</td>\n",
       "      <td>NaN</td>\n",
       "      <td>NaN</td>\n",
       "      <td>NaN</td>\n",
       "      <td>24425647</td>\n",
       "      <td>20706.0</td>\n",
       "      <td>24424564.0</td>\n",
       "      <td>1479.000000</td>\n",
       "      <td>1479.0</td>\n",
       "      <td>24425647.0</td>\n",
       "      <td>1.0</td>\n",
       "      <td>13.0</td>\n",
       "      <td>1.0</td>\n",
       "      <td>13.0</td>\n",
       "      <td>20556.0</td>\n",
       "      <td>20856.0</td>\n",
       "    </tr>\n",
       "    <tr>\n",
       "      <th>25</th>\n",
       "      <td>24625644</td>\n",
       "      <td>NaN</td>\n",
       "      <td>NaN</td>\n",
       "      <td>NaN</td>\n",
       "      <td>NaN</td>\n",
       "      <td>24625644</td>\n",
       "      <td>20907.0</td>\n",
       "      <td>24625515.0</td>\n",
       "      <td>1493.357143</td>\n",
       "      <td>1493.0</td>\n",
       "      <td>24625644.0</td>\n",
       "      <td>0.0</td>\n",
       "      <td>13.0</td>\n",
       "      <td>0.0</td>\n",
       "      <td>13.0</td>\n",
       "      <td>20757.0</td>\n",
       "      <td>21057.0</td>\n",
       "    </tr>\n",
       "    <tr>\n",
       "      <th>26</th>\n",
       "      <td>26825644</td>\n",
       "      <td>NaN</td>\n",
       "      <td>NaN</td>\n",
       "      <td>NaN</td>\n",
       "      <td>NaN</td>\n",
       "      <td>26825644</td>\n",
       "      <td>23102.0</td>\n",
       "      <td>26824890.0</td>\n",
       "      <td>1650.142857</td>\n",
       "      <td>1650.0</td>\n",
       "      <td>26825644.0</td>\n",
       "      <td>1.0</td>\n",
       "      <td>14.0</td>\n",
       "      <td>1.0</td>\n",
       "      <td>14.0</td>\n",
       "      <td>22952.0</td>\n",
       "      <td>23252.0</td>\n",
       "    </tr>\n",
       "    <tr>\n",
       "      <th>27</th>\n",
       "      <td>27025644</td>\n",
       "      <td>NaN</td>\n",
       "      <td>NaN</td>\n",
       "      <td>NaN</td>\n",
       "      <td>NaN</td>\n",
       "      <td>27025644</td>\n",
       "      <td>23301.0</td>\n",
       "      <td>27024455.0</td>\n",
       "      <td>1664.357143</td>\n",
       "      <td>1664.0</td>\n",
       "      <td>27025644.0</td>\n",
       "      <td>0.0</td>\n",
       "      <td>14.0</td>\n",
       "      <td>0.0</td>\n",
       "      <td>14.0</td>\n",
       "      <td>23151.0</td>\n",
       "      <td>23451.0</td>\n",
       "    </tr>\n",
       "    <tr>\n",
       "      <th>28</th>\n",
       "      <td>28625643</td>\n",
       "      <td>NaN</td>\n",
       "      <td>NaN</td>\n",
       "      <td>NaN</td>\n",
       "      <td>NaN</td>\n",
       "      <td>28625643</td>\n",
       "      <td>24899.0</td>\n",
       "      <td>28625134.0</td>\n",
       "      <td>1778.500000</td>\n",
       "      <td>1778.0</td>\n",
       "      <td>28625643.0</td>\n",
       "      <td>1.0</td>\n",
       "      <td>15.0</td>\n",
       "      <td>1.0</td>\n",
       "      <td>15.0</td>\n",
       "      <td>24749.0</td>\n",
       "      <td>25049.0</td>\n",
       "    </tr>\n",
       "    <tr>\n",
       "      <th>29</th>\n",
       "      <td>28825643</td>\n",
       "      <td>NaN</td>\n",
       "      <td>NaN</td>\n",
       "      <td>NaN</td>\n",
       "      <td>NaN</td>\n",
       "      <td>28825643</td>\n",
       "      <td>25098.0</td>\n",
       "      <td>28824700.0</td>\n",
       "      <td>1792.714286</td>\n",
       "      <td>1792.0</td>\n",
       "      <td>28825643.0</td>\n",
       "      <td>0.0</td>\n",
       "      <td>15.0</td>\n",
       "      <td>0.0</td>\n",
       "      <td>15.0</td>\n",
       "      <td>24948.0</td>\n",
       "      <td>25248.0</td>\n",
       "    </tr>\n",
       "    <tr>\n",
       "      <th>30</th>\n",
       "      <td>29025242</td>\n",
       "      <td>NaN</td>\n",
       "      <td>NaN</td>\n",
       "      <td>NaN</td>\n",
       "      <td>NaN</td>\n",
       "      <td>29025242</td>\n",
       "      <td>25297.0</td>\n",
       "      <td>29024265.0</td>\n",
       "      <td>1806.928571</td>\n",
       "      <td>1806.0</td>\n",
       "      <td>29025242.0</td>\n",
       "      <td>1.0</td>\n",
       "      <td>16.0</td>\n",
       "      <td>1.0</td>\n",
       "      <td>16.0</td>\n",
       "      <td>25147.0</td>\n",
       "      <td>25447.0</td>\n",
       "    </tr>\n",
       "  </tbody>\n",
       "</table>\n",
       "</div>"
      ],
      "text/plain": [
       "    voltage_time_stamp  frame_number  PosTimestamp  video_time  video_seconds  \\\n",
       "0              3680870           NaN           NaN         NaN            NaN   \n",
       "1              3825268           NaN           NaN         NaN            NaN   \n",
       "2              5025667           NaN           NaN         NaN            NaN   \n",
       "3              5225666           NaN           NaN         NaN            NaN   \n",
       "4              6625665           NaN           NaN         NaN            NaN   \n",
       "5              6825665           NaN           NaN         NaN            NaN   \n",
       "6              8425664           NaN           NaN         NaN            NaN   \n",
       "7              8625663           NaN           NaN         NaN            NaN   \n",
       "8             10025660           NaN           NaN         NaN            NaN   \n",
       "9             10225662           NaN           NaN         NaN            NaN   \n",
       "10            11525660           NaN           NaN         NaN            NaN   \n",
       "11            11725660           NaN           NaN         NaN            NaN   \n",
       "12            13525658           NaN           NaN         NaN            NaN   \n",
       "13            13725661           NaN           NaN         NaN            NaN   \n",
       "14            15425657           NaN           NaN         NaN            NaN   \n",
       "15            15625656           NaN           NaN         NaN            NaN   \n",
       "16            17225655           NaN           NaN         NaN            NaN   \n",
       "17            17425651           NaN           NaN         NaN            NaN   \n",
       "18            18825652           NaN           NaN         NaN            NaN   \n",
       "19            19025653           NaN           NaN         NaN            NaN   \n",
       "20            20625651           NaN           NaN         NaN            NaN   \n",
       "21            20825651           NaN           NaN         NaN            NaN   \n",
       "22            22625649           NaN           NaN         NaN            NaN   \n",
       "23            22825649           NaN           NaN         NaN            NaN   \n",
       "24            24425647           NaN           NaN         NaN            NaN   \n",
       "25            24625644           NaN           NaN         NaN            NaN   \n",
       "26            26825644           NaN           NaN         NaN            NaN   \n",
       "27            27025644           NaN           NaN         NaN            NaN   \n",
       "28            28625643           NaN           NaN         NaN            NaN   \n",
       "29            28825643           NaN           NaN         NaN            NaN   \n",
       "30            29025242           NaN           NaN         NaN            NaN   \n",
       "\n",
       "    filled_voltage_time_stamp  filled_frame_number  filled_PosTimestamp  \\\n",
       "0                     3680870                  NaN                  NaN   \n",
       "1                     3825268                145.0            3824999.0   \n",
       "2                     5025667               1343.0            5025162.0   \n",
       "3                     5225666               1542.0            5224727.0   \n",
       "4                     6625665               2939.0            6624455.0   \n",
       "5                     6825665               3140.0            6825406.0   \n",
       "6                     8425664               4736.0            8424700.0   \n",
       "7                     8625663               4937.0            8625651.0   \n",
       "8                    10025660               6334.0           10025379.0   \n",
       "9                    10225662               6533.0           10224944.0   \n",
       "10                   11525660               7831.0           11524890.0   \n",
       "11                   11725660               8030.0           11724455.0   \n",
       "12                   13525658               9827.0           13524700.0   \n",
       "13                   13725661              10027.0           13725651.0   \n",
       "14                   15425657              11723.0           15424727.0   \n",
       "15                   15625656              11922.0           15624292.0   \n",
       "16                   17225655              13520.0           17224971.0   \n",
       "17                   17425651              13719.0           17424537.0   \n",
       "18                   18825652              15118.0           18825651.0   \n",
       "19                   19025653              15317.0           19025216.0   \n",
       "20                   20625651              16913.0           20624509.0   \n",
       "21                   20825651              17114.0           20825460.0   \n",
       "22                   22625649              18909.0           22624319.0   \n",
       "23                   22825649              19110.0           22825270.0   \n",
       "24                   24425647              20706.0           24424564.0   \n",
       "25                   24625644              20907.0           24625515.0   \n",
       "26                   26825644              23102.0           26824890.0   \n",
       "27                   27025644              23301.0           27024455.0   \n",
       "28                   28625643              24899.0           28625134.0   \n",
       "29                   28825643              25098.0           28824700.0   \n",
       "30                   29025242              25297.0           29024265.0   \n",
       "\n",
       "    filled_video_time  filled_video_seconds        time  state  trial_number  \\\n",
       "0                 NaN                   NaN   3680870.0    1.0           1.0   \n",
       "1           10.357143                  10.0   3825268.0    0.0           1.0   \n",
       "2           95.928571                  95.0   5025667.0    1.0           2.0   \n",
       "3          110.142857                 110.0   5225666.0    0.0           2.0   \n",
       "4          209.928571                 209.0   6625665.0    1.0           3.0   \n",
       "5          224.285714                 224.0   6825665.0    0.0           3.0   \n",
       "6          338.285714                 338.0   8425664.0    1.0           4.0   \n",
       "7          352.642857                 352.0   8625663.0    0.0           4.0   \n",
       "8          452.428571                 452.0  10025660.0    1.0           5.0   \n",
       "9          466.642857                 466.0  10225662.0    0.0           5.0   \n",
       "10         559.357143                 559.0  11525660.0    1.0           6.0   \n",
       "11         573.571429                 573.0  11725660.0    0.0           6.0   \n",
       "12         701.928571                 701.0  13525658.0    1.0           7.0   \n",
       "13         716.214286                 716.0  13725661.0    0.0           7.0   \n",
       "14         837.357143                 837.0  15425657.0    1.0           8.0   \n",
       "15         851.571429                 851.0  15625656.0    0.0           8.0   \n",
       "16         965.714286                 965.0  17225655.0    1.0           9.0   \n",
       "17         979.928571                 979.0  17425651.0    0.0           9.0   \n",
       "18        1079.857143                1079.0  18825652.0    1.0          10.0   \n",
       "19        1094.071429                1094.0  19025653.0    0.0          10.0   \n",
       "20        1208.071429                1208.0  20625651.0    1.0          11.0   \n",
       "21        1222.428571                1222.0  20825651.0    0.0          11.0   \n",
       "22        1350.642857                1350.0  22625649.0    1.0          12.0   \n",
       "23        1365.000000                1365.0  22825649.0    0.0          12.0   \n",
       "24        1479.000000                1479.0  24425647.0    1.0          13.0   \n",
       "25        1493.357143                1493.0  24625644.0    0.0          13.0   \n",
       "26        1650.142857                1650.0  26825644.0    1.0          14.0   \n",
       "27        1664.357143                1664.0  27025644.0    0.0          14.0   \n",
       "28        1778.500000                1778.0  28625643.0    1.0          15.0   \n",
       "29        1792.714286                1792.0  28825643.0    0.0          15.0   \n",
       "30        1806.928571                1806.0  29025242.0    1.0          16.0   \n",
       "\n",
       "    filled_state  filled_trial_number  20_second_before  20_second_after  \n",
       "0            1.0                  1.0               NaN              NaN  \n",
       "1            0.0                  1.0              -5.0            295.0  \n",
       "2            1.0                  2.0            1193.0           1493.0  \n",
       "3            0.0                  2.0            1392.0           1692.0  \n",
       "4            1.0                  3.0            2789.0           3089.0  \n",
       "5            0.0                  3.0            2990.0           3290.0  \n",
       "6            1.0                  4.0            4586.0           4886.0  \n",
       "7            0.0                  4.0            4787.0           5087.0  \n",
       "8            1.0                  5.0            6184.0           6484.0  \n",
       "9            0.0                  5.0            6383.0           6683.0  \n",
       "10           1.0                  6.0            7681.0           7981.0  \n",
       "11           0.0                  6.0            7880.0           8180.0  \n",
       "12           1.0                  7.0            9677.0           9977.0  \n",
       "13           0.0                  7.0            9877.0          10177.0  \n",
       "14           1.0                  8.0           11573.0          11873.0  \n",
       "15           0.0                  8.0           11772.0          12072.0  \n",
       "16           1.0                  9.0           13370.0          13670.0  \n",
       "17           0.0                  9.0           13569.0          13869.0  \n",
       "18           1.0                 10.0           14968.0          15268.0  \n",
       "19           0.0                 10.0           15167.0          15467.0  \n",
       "20           1.0                 11.0           16763.0          17063.0  \n",
       "21           0.0                 11.0           16964.0          17264.0  \n",
       "22           1.0                 12.0           18759.0          19059.0  \n",
       "23           0.0                 12.0           18960.0          19260.0  \n",
       "24           1.0                 13.0           20556.0          20856.0  \n",
       "25           0.0                 13.0           20757.0          21057.0  \n",
       "26           1.0                 14.0           22952.0          23252.0  \n",
       "27           0.0                 14.0           23151.0          23451.0  \n",
       "28           1.0                 15.0           24749.0          25049.0  \n",
       "29           0.0                 15.0           24948.0          25248.0  \n",
       "30           1.0                 16.0           25147.0          25447.0  "
      ]
     },
     "execution_count": 44,
     "metadata": {},
     "output_type": "execute_result"
    }
   ],
   "source": [
    "tone_start_only_df"
   ]
  },
  {
   "cell_type": "code",
   "execution_count": 111,
   "metadata": {
    "colab": {
     "base_uri": "https://localhost:8080/",
     "height": 831
    },
    "id": "lZ9wU0jzM8Pb",
    "outputId": "ff2a6c7b-0854-4d4f-dbad-4b33fad198a0",
    "scrolled": true
   },
   "outputs": [
    {
     "data": {
      "text/plain": [
       "Text(0.5, 1.0, 'Thorax locations')"
      ]
     },
     "execution_count": 111,
     "metadata": {},
     "output_type": "execute_result"
    },
    {
     "data": {
      "image/png": "[encoded data removed]",
      "text/plain": [
       "<Figure size 1500x600 with 1 Axes>"
      ]
     },
     "metadata": {},
     "output_type": "display_data"
    }
   ],
   "source": [
    "fig, ax = plt.subplots()\n",
    "\n",
    "plt.plot(body_part_to_loc[\"thorax\"][:,0,0], c='orange', label='{} X'.format(track_names[0]))\n",
    "\n",
    "plt.plot(-1*body_part_to_loc[\"thorax\"][:,1,0], c='orange', linestyle=\"--\", label=\"{} Y\".format(track_names[0]))\n",
    "\n",
    "for index, row in tone_start_only_df.dropna(subset=\"filled_frame_number\").iterrows():\n",
    "    plt.axvline(x=row[\"20_second_before\"], color=\"red\", linestyle=\"--\", linewidth=3)\n",
    "    plt.axvline(x=row[\"20_second_after\"], color=\"red\", linestyle=\"--\", linewidth=3)\n",
    "\n",
    "    plt.axvline(x=row[\"filled_frame_number\"], color=\"red\", linewidth=3)\n",
    "\n",
    "plt.legend(loc=\"center right\")\n",
    "plt.title('Thorax locations')\n",
    "\n",
    "\n"
   ]
  },
  {
   "cell_type": "code",
   "execution_count": 112,
   "metadata": {},
   "outputs": [],
   "source": [
    "x_min = 4500"
   ]
  },
  {
   "cell_type": "code",
   "execution_count": 113,
   "metadata": {},
   "outputs": [
    {
     "data": {
      "text/plain": [
       "Text(0.5, 1.0, 'Thorax locations')"
      ]
     },
     "execution_count": 113,
     "metadata": {},
     "output_type": "execute_result"
    },
    {
     "data": {
      "image/png": "[encoded data removed]",
      "text/plain": [
       "<Figure size 1500x600 with 1 Axes>"
      ]
     },
     "metadata": {},
     "output_type": "display_data"
    }
   ],
   "source": [
    "fig, ax = plt.subplots()\n",
    "\n",
    "plt.plot(body_part_to_loc[\"thorax\"][:,0,0], c='orange', label='{} X'.format(track_names[0]))\n",
    "\n",
    "plt.plot(-1*body_part_to_loc[\"thorax\"][:,1,0], c='orange', linestyle=\"--\", label=\"{} Y\".format(track_names[0]))\n",
    "\n",
    "for index, row in tone_start_only_df.dropna(subset=\"filled_frame_number\").iterrows():\n",
    "    plt.axvline(x=row[\"20_second_before\"], color=\"red\", linestyle=\":\", linewidth=3)\n",
    "    plt.axvline(x=row[\"20_second_after\"], color=\"red\", linestyle=\"-\", linewidth=3)\n",
    "\n",
    "    plt.axvline(x=row[\"filled_frame_number\"], color=\"red\", linestyle=\"--\", linewidth=3)\n",
    "\n",
    "plt.xlim(x_min, x_min + 3000)\n",
    "    \n",
    "plt.legend(loc=\"center right\")\n",
    "plt.title('Thorax locations')"
   ]
  },
  {
   "cell_type": "code",
   "execution_count": 114,
   "metadata": {
    "scrolled": true
   },
   "outputs": [
    {
     "data": {
      "text/plain": [
       "Text(0.5, 1.0, 'Thorax tracks')"
      ]
     },
     "execution_count": 114,
     "metadata": {},
     "output_type": "execute_result"
    },
    {
     "data": {
      "image/png": "[encoded data removed]",
      "text/plain": [
       "<Figure size 700x700 with 1 Axes>"
      ]
     },
     "metadata": {},
     "output_type": "display_data"
    }
   ],
   "source": [
    "plt.figure(figsize=(7,7))\n",
    "\n",
    "\n",
    "\n",
    "plt.plot(body_part_to_loc[\"thorax\"][:,0,0],body_part_to_loc[\"thorax\"][:,1,0], c='#400000',label=\"{}\".format(track_names[0]))\n",
    "\n",
    "\n",
    "for name, coordinate in node_name_to_coordinates.items():\n",
    "    corner_direction = name.strip(\"box\").strip(\"video\").strip(\"_\")\n",
    "    plt.scatter(coordinate[0], coordinate[1], label=name, c=corner_to_color[corner_direction])\n",
    "    \n",
    "    \n",
    "plt.legend()\n",
    "\n",
    "plt.title('Thorax tracks')"
   ]
  },
  {
   "cell_type": "markdown",
   "metadata": {},
   "source": [
    "# Calculating the distances from the port to the thorax"
   ]
  },
  {
   "cell_type": "markdown",
   "metadata": {},
   "source": [
    "### Example"
   ]
  },
  {
   "cell_type": "markdown",
   "metadata": {},
   "source": [
    "- example with one frame and one animal\n",
    "    - need to use flatten because arrays are in different orientations"
   ]
  },
  {
   "cell_type": "code",
   "execution_count": 54,
   "metadata": {},
   "outputs": [
    {
     "data": {
      "text/plain": [
       "array([1228.16040039])"
      ]
     },
     "execution_count": 54,
     "metadata": {},
     "output_type": "execute_result"
    }
   ],
   "source": [
    "body_part_to_loc[\"thorax\"][0,0,:].flatten()"
   ]
  },
  {
   "cell_type": "code",
   "execution_count": 55,
   "metadata": {},
   "outputs": [
    {
     "data": {
      "text/plain": [
       "array([968.26515974, 907.14479439])"
      ]
     },
     "execution_count": 55,
     "metadata": {},
     "output_type": "execute_result"
    }
   ],
   "source": [
    "node_name_to_coordinates[\"reward_port\"].flatten()"
   ]
  },
  {
   "cell_type": "markdown",
   "metadata": {},
   "source": [
    "### Steps to take"
   ]
  },
  {
   "cell_type": "markdown",
   "metadata": {},
   "source": [
    "- Get the x-coordinate of the reward port"
   ]
  },
  {
   "cell_type": "code",
   "execution_count": 57,
   "metadata": {},
   "outputs": [],
   "source": [
    "reward_port_x_coordinate = node_name_to_coordinates[\"reward_port\"][0]"
   ]
  },
  {
   "cell_type": "code",
   "execution_count": 58,
   "metadata": {},
   "outputs": [
    {
     "data": {
      "text/plain": [
       "array([968.26515974])"
      ]
     },
     "execution_count": 58,
     "metadata": {},
     "output_type": "execute_result"
    }
   ],
   "source": [
    "reward_port_x_coordinate"
   ]
  },
  {
   "cell_type": "markdown",
   "metadata": {},
   "source": [
    "- Get the y-coordinate of the reward port"
   ]
  },
  {
   "cell_type": "code",
   "execution_count": 59,
   "metadata": {},
   "outputs": [],
   "source": [
    "reward_port_y_coordinate = node_name_to_coordinates[\"reward_port\"][1]"
   ]
  },
  {
   "cell_type": "code",
   "execution_count": 60,
   "metadata": {},
   "outputs": [
    {
     "data": {
      "text/plain": [
       "array([907.14479439])"
      ]
     },
     "execution_count": 60,
     "metadata": {},
     "output_type": "execute_result"
    }
   ],
   "source": [
    "reward_port_y_coordinate"
   ]
  },
  {
   "cell_type": "markdown",
   "metadata": {},
   "source": [
    "- Get all the thorax coordinates for the 0th mouse"
   ]
  },
  {
   "cell_type": "code",
   "execution_count": 62,
   "metadata": {},
   "outputs": [],
   "source": [
    "mouse_0_thorax = body_part_to_loc[\"thorax\"][:,:,0]\n",
    "# mouse_1_thorax = body_part_to_loc[\"thorax\"][:,:,1]"
   ]
  },
  {
   "cell_type": "code",
   "execution_count": 63,
   "metadata": {
    "scrolled": true
   },
   "outputs": [
    {
     "data": {
      "text/plain": [
       "array([[1228.16040039,  843.96142578],\n",
       "       [1228.16040039,  843.96142578],\n",
       "       [1228.16040039,  843.96142578],\n",
       "       ...,\n",
       "       [ 959.8237915 ,  791.78588867],\n",
       "       [ 948.15484619,  788.296875  ],\n",
       "       [ 948.15783691,  788.29571533]])"
      ]
     },
     "execution_count": 63,
     "metadata": {},
     "output_type": "execute_result"
    }
   ],
   "source": [
    "mouse_0_thorax"
   ]
  },
  {
   "cell_type": "markdown",
   "metadata": {},
   "source": [
    "- Get the x and y coordinates for the thorax"
   ]
  },
  {
   "cell_type": "code",
   "execution_count": 64,
   "metadata": {},
   "outputs": [],
   "source": [
    "mouse_0_thorax_x = mouse_0_thorax[:, 0]\n",
    "mouse_0_thorax_y = mouse_0_thorax[:, 1]"
   ]
  },
  {
   "cell_type": "code",
   "execution_count": 65,
   "metadata": {},
   "outputs": [
    {
     "data": {
      "text/plain": [
       "array([1228.16040039, 1228.16040039, 1228.16040039, ...,  959.8237915 ,\n",
       "        948.15484619,  948.15783691])"
      ]
     },
     "execution_count": 65,
     "metadata": {},
     "output_type": "execute_result"
    }
   ],
   "source": [
    "mouse_0_thorax_x"
   ]
  },
  {
   "cell_type": "code",
   "execution_count": 66,
   "metadata": {},
   "outputs": [
    {
     "data": {
      "text/plain": [
       "array([843.96142578, 843.96142578, 843.96142578, ..., 791.78588867,\n",
       "       788.296875  , 788.29571533])"
      ]
     },
     "execution_count": 66,
     "metadata": {},
     "output_type": "execute_result"
    }
   ],
   "source": [
    "mouse_0_thorax_y"
   ]
  },
  {
   "cell_type": "markdown",
   "metadata": {},
   "source": [
    "- Calculating the distance for all the frames in both mice"
   ]
  },
  {
   "cell_type": "code",
   "execution_count": 67,
   "metadata": {},
   "outputs": [],
   "source": [
    "mouse_0_thorax_to_reward_port = ((mouse_0_thorax_x - reward_port_x_coordinate) ** 2 + (mouse_0_thorax_y - reward_port_y_coordinate) ** 2) ** 0.5"
   ]
  },
  {
   "cell_type": "code",
   "execution_count": 68,
   "metadata": {},
   "outputs": [
    {
     "data": {
      "text/plain": [
       "array([267.46527659, 267.46527659, 267.46527659, ..., 115.66734122,\n",
       "       120.53734962, 120.53799411])"
      ]
     },
     "execution_count": 68,
     "metadata": {},
     "output_type": "execute_result"
    }
   ],
   "source": [
    "mouse_0_thorax_to_reward_port"
   ]
  },
  {
   "cell_type": "markdown",
   "metadata": {},
   "source": [
    "- Turning this into a function"
   ]
  },
  {
   "cell_type": "code",
   "execution_count": 69,
   "metadata": {},
   "outputs": [],
   "source": [
    "def get_distance_of_array_to_point(node_from_single_subject_arr, location_coordinate):\n",
    "    \"\"\"\n",
    "    \"\"\"\n",
    "    x_difference = node_from_single_subject_arr[:,0] - location_coordinate[0]\n",
    "    y_difference = node_from_single_subject_arr[:,1] - location_coordinate[1]\n",
    "    return ((x_difference)**2 + (y_difference)**2)**0.5"
   ]
  },
  {
   "cell_type": "code",
   "execution_count": 70,
   "metadata": {},
   "outputs": [],
   "source": [
    "mouse_0_thorax_to_reward_port = get_distance_of_array_to_point(mouse_0_thorax, node_name_to_coordinates[\"reward_port\"])"
   ]
  },
  {
   "cell_type": "code",
   "execution_count": 71,
   "metadata": {},
   "outputs": [],
   "source": [
    "# mouse_1_thorax_to_reward_port = get_distance_of_array_to_point(mouse_1_thorax, node_name_to_coordinates[\"reward_port\"])"
   ]
  },
  {
   "cell_type": "code",
   "execution_count": 72,
   "metadata": {
    "scrolled": true
   },
   "outputs": [
    {
     "data": {
      "text/plain": [
       "array([267.46527659, 267.46527659, 267.46527659, ..., 115.66734122,\n",
       "       120.53734962, 120.53799411])"
      ]
     },
     "execution_count": 72,
     "metadata": {},
     "output_type": "execute_result"
    }
   ],
   "source": [
    "mouse_0_thorax_to_reward_port"
   ]
  },
  {
   "cell_type": "code",
   "execution_count": 73,
   "metadata": {},
   "outputs": [
    {
     "data": {
      "text/html": [
       "<div>\n",
       "<style scoped>\n",
       "    .dataframe tbody tr th:only-of-type {\n",
       "        vertical-align: middle;\n",
       "    }\n",
       "\n",
       "    .dataframe tbody tr th {\n",
       "        vertical-align: top;\n",
       "    }\n",
       "\n",
       "    .dataframe thead th {\n",
       "        text-align: right;\n",
       "    }\n",
       "</style>\n",
       "<table border=\"1\" class=\"dataframe\">\n",
       "  <thead>\n",
       "    <tr style=\"text-align: right;\">\n",
       "      <th></th>\n",
       "      <th>voltage_time_stamp</th>\n",
       "      <th>frame_number</th>\n",
       "      <th>PosTimestamp</th>\n",
       "      <th>video_time</th>\n",
       "      <th>video_seconds</th>\n",
       "      <th>filled_voltage_time_stamp</th>\n",
       "      <th>filled_frame_number</th>\n",
       "      <th>filled_PosTimestamp</th>\n",
       "      <th>filled_video_time</th>\n",
       "      <th>filled_video_seconds</th>\n",
       "      <th>time</th>\n",
       "      <th>state</th>\n",
       "      <th>trial_number</th>\n",
       "      <th>filled_state</th>\n",
       "      <th>filled_trial_number</th>\n",
       "      <th>20_second_before</th>\n",
       "      <th>20_second_after</th>\n",
       "    </tr>\n",
       "  </thead>\n",
       "  <tbody>\n",
       "    <tr>\n",
       "      <th>0</th>\n",
       "      <td>3680870</td>\n",
       "      <td>NaN</td>\n",
       "      <td>NaN</td>\n",
       "      <td>NaN</td>\n",
       "      <td>NaN</td>\n",
       "      <td>3680870</td>\n",
       "      <td>NaN</td>\n",
       "      <td>NaN</td>\n",
       "      <td>NaN</td>\n",
       "      <td>NaN</td>\n",
       "      <td>3680870.0</td>\n",
       "      <td>1.0</td>\n",
       "      <td>1.0</td>\n",
       "      <td>1.0</td>\n",
       "      <td>1.0</td>\n",
       "      <td>NaN</td>\n",
       "      <td>NaN</td>\n",
       "    </tr>\n",
       "    <tr>\n",
       "      <th>1</th>\n",
       "      <td>3680871</td>\n",
       "      <td>NaN</td>\n",
       "      <td>NaN</td>\n",
       "      <td>NaN</td>\n",
       "      <td>NaN</td>\n",
       "      <td>3680871</td>\n",
       "      <td>NaN</td>\n",
       "      <td>NaN</td>\n",
       "      <td>NaN</td>\n",
       "      <td>NaN</td>\n",
       "      <td>NaN</td>\n",
       "      <td>NaN</td>\n",
       "      <td>NaN</td>\n",
       "      <td>1.0</td>\n",
       "      <td>1.0</td>\n",
       "      <td>NaN</td>\n",
       "      <td>NaN</td>\n",
       "    </tr>\n",
       "    <tr>\n",
       "      <th>2</th>\n",
       "      <td>3680872</td>\n",
       "      <td>NaN</td>\n",
       "      <td>NaN</td>\n",
       "      <td>NaN</td>\n",
       "      <td>NaN</td>\n",
       "      <td>3680872</td>\n",
       "      <td>NaN</td>\n",
       "      <td>NaN</td>\n",
       "      <td>NaN</td>\n",
       "      <td>NaN</td>\n",
       "      <td>NaN</td>\n",
       "      <td>NaN</td>\n",
       "      <td>NaN</td>\n",
       "      <td>1.0</td>\n",
       "      <td>1.0</td>\n",
       "      <td>NaN</td>\n",
       "      <td>NaN</td>\n",
       "    </tr>\n",
       "    <tr>\n",
       "      <th>3</th>\n",
       "      <td>3680873</td>\n",
       "      <td>NaN</td>\n",
       "      <td>NaN</td>\n",
       "      <td>NaN</td>\n",
       "      <td>NaN</td>\n",
       "      <td>3680873</td>\n",
       "      <td>NaN</td>\n",
       "      <td>NaN</td>\n",
       "      <td>NaN</td>\n",
       "      <td>NaN</td>\n",
       "      <td>NaN</td>\n",
       "      <td>NaN</td>\n",
       "      <td>NaN</td>\n",
       "      <td>1.0</td>\n",
       "      <td>1.0</td>\n",
       "      <td>NaN</td>\n",
       "      <td>NaN</td>\n",
       "    </tr>\n",
       "    <tr>\n",
       "      <th>4</th>\n",
       "      <td>3680874</td>\n",
       "      <td>NaN</td>\n",
       "      <td>NaN</td>\n",
       "      <td>NaN</td>\n",
       "      <td>NaN</td>\n",
       "      <td>3680874</td>\n",
       "      <td>NaN</td>\n",
       "      <td>NaN</td>\n",
       "      <td>NaN</td>\n",
       "      <td>NaN</td>\n",
       "      <td>NaN</td>\n",
       "      <td>NaN</td>\n",
       "      <td>NaN</td>\n",
       "      <td>1.0</td>\n",
       "      <td>1.0</td>\n",
       "      <td>NaN</td>\n",
       "      <td>NaN</td>\n",
       "    </tr>\n",
       "  </tbody>\n",
       "</table>\n",
       "</div>"
      ],
      "text/plain": [
       "   voltage_time_stamp  frame_number  PosTimestamp  video_time  video_seconds  \\\n",
       "0             3680870           NaN           NaN         NaN            NaN   \n",
       "1             3680871           NaN           NaN         NaN            NaN   \n",
       "2             3680872           NaN           NaN         NaN            NaN   \n",
       "3             3680873           NaN           NaN         NaN            NaN   \n",
       "4             3680874           NaN           NaN         NaN            NaN   \n",
       "\n",
       "   filled_voltage_time_stamp  filled_frame_number  filled_PosTimestamp  \\\n",
       "0                    3680870                  NaN                  NaN   \n",
       "1                    3680871                  NaN                  NaN   \n",
       "2                    3680872                  NaN                  NaN   \n",
       "3                    3680873                  NaN                  NaN   \n",
       "4                    3680874                  NaN                  NaN   \n",
       "\n",
       "   filled_video_time  filled_video_seconds       time  state  trial_number  \\\n",
       "0                NaN                   NaN  3680870.0    1.0           1.0   \n",
       "1                NaN                   NaN        NaN    NaN           NaN   \n",
       "2                NaN                   NaN        NaN    NaN           NaN   \n",
       "3                NaN                   NaN        NaN    NaN           NaN   \n",
       "4                NaN                   NaN        NaN    NaN           NaN   \n",
       "\n",
       "   filled_state  filled_trial_number  20_second_before  20_second_after  \n",
       "0           1.0                  1.0               NaN              NaN  \n",
       "1           1.0                  1.0               NaN              NaN  \n",
       "2           1.0                  1.0               NaN              NaN  \n",
       "3           1.0                  1.0               NaN              NaN  \n",
       "4           1.0                  1.0               NaN              NaN  "
      ]
     },
     "execution_count": 73,
     "metadata": {},
     "output_type": "execute_result"
    }
   ],
   "source": [
    "tone_df.head()"
   ]
  },
  {
   "cell_type": "code",
   "execution_count": 115,
   "metadata": {
    "scrolled": true
   },
   "outputs": [
    {
     "data": {
      "text/plain": [
       "Text(0.5, 1.0, 'Thorax to Reward Port Distance')"
      ]
     },
     "execution_count": 115,
     "metadata": {},
     "output_type": "execute_result"
    },
    {
     "data": {
      "image/png": "[encoded data removed]",
      "text/plain": [
       "<Figure size 1500x600 with 1 Axes>"
      ]
     },
     "metadata": {},
     "output_type": "display_data"
    }
   ],
   "source": [
    "fig, ax = plt.subplots()\n",
    "\n",
    "plt.plot(mouse_0_thorax_to_reward_port, c='#400000', label='{}'.format(track_names[0]))\n",
    "# plt.plot(mouse_1_thorax_to_reward_port, c='#001620', label='{}'.format(track_names[1]))\n",
    "for index, row in tone_start_only_df.dropna(subset=\"filled_frame_number\").iterrows():\n",
    "    plt.axvline(x=row[\"20_second_before\"], color=\"red\", linestyle=\":\", linewidth=3)\n",
    "    plt.axvline(x=row[\"20_second_after\"], color=\"red\", linestyle=\"-\", linewidth=3)\n",
    "\n",
    "    plt.axvline(x=row[\"filled_frame_number\"], color=\"red\", linestyle=\"--\", linewidth=3)\n",
    "\n",
    "plt.legend(loc=\"center right\")\n",
    "plt.title('Thorax to Reward Port Distance')"
   ]
  },
  {
   "cell_type": "code",
   "execution_count": 116,
   "metadata": {},
   "outputs": [],
   "source": [
    "x_min = 9500"
   ]
  },
  {
   "cell_type": "code",
   "execution_count": 117,
   "metadata": {},
   "outputs": [],
   "source": [
    "x_range = 6000"
   ]
  },
  {
   "cell_type": "code",
   "execution_count": 118,
   "metadata": {},
   "outputs": [
    {
     "data": {
      "text/plain": [
       "Text(0.5, 1.0, 'Thorax to Reward Port Distance')"
      ]
     },
     "execution_count": 118,
     "metadata": {},
     "output_type": "execute_result"
    },
    {
     "data": {
      "image/png": "[encoded data removed]",
      "text/plain": [
       "<Figure size 1500x600 with 1 Axes>"
      ]
     },
     "metadata": {},
     "output_type": "display_data"
    }
   ],
   "source": [
    "fig, ax = plt.subplots()\n",
    "\n",
    "plt.plot(mouse_0_thorax_to_reward_port, c='#400000', label='{}'.format(track_names[0]))\n",
    "\n",
    "for index, row in tone_start_only_df.dropna(subset=\"filled_frame_number\").iterrows():\n",
    "    plt.axvline(x=row[\"20_second_before\"], color=\"red\", linestyle=\":\", linewidth=3)\n",
    "    plt.axvline(x=row[\"20_second_after\"], color=\"red\", linestyle=\"-\", linewidth=3)\n",
    "\n",
    "    plt.axvline(x=row[\"filled_frame_number\"], color=\"red\", linestyle=\"--\", linewidth=3)\n",
    "\n",
    "plt.xlim(x_min, x_min + x_range)\n",
    "plt.xticks(np.arange(x_min, x_min + x_range, 500))\n",
    "\n",
    "plt.legend()\n",
    "plt.title('Thorax to Reward Port Distance')\n"
   ]
  },
  {
   "cell_type": "code",
   "execution_count": null,
   "metadata": {},
   "outputs": [],
   "source": []
  },
  {
   "cell_type": "markdown",
   "metadata": {
    "id": "jPe_mc-wM8Pd"
   },
   "source": [
    "## More advanced visualizations\n",
    "\n",
    "For some additional analysis, we'll first smooth and differentiate the data with a Savitzky-Golay filter to extract velocities of each joint."
   ]
  },
  {
   "cell_type": "markdown",
   "metadata": {},
   "source": [
    "# Calculating the velocity to the port"
   ]
  },
  {
   "cell_type": "code",
   "execution_count": 119,
   "metadata": {
    "id": "IPCHkT1-M8Pd"
   },
   "outputs": [],
   "source": [
    "from scipy.signal import savgol_filter\n",
    "\n",
    "def smooth_diff(node_loc, win=25, poly=3):\n",
    "    \"\"\"\n",
    "    node_loc is a [frames, 2] array\n",
    "    \n",
    "    win defines the window to smooth over\n",
    "    \n",
    "    poly defines the order of the polynomial\n",
    "    to fit with\n",
    "    \n",
    "    \"\"\"\n",
    "    node_loc_vel = np.zeros_like(node_loc)\n",
    "    \n",
    "    for c in range(node_loc.shape[-1]):\n",
    "        node_loc_vel[:, c] = savgol_filter(node_loc[:, c], win, poly, deriv=1)\n",
    "#     return node_loc_vel\n",
    "    \n",
    "    node_vel = np.linalg.norm(node_loc_vel,axis=1)\n",
    "\n",
    "    return node_vel"
   ]
  },
  {
   "cell_type": "code",
   "execution_count": 120,
   "metadata": {},
   "outputs": [],
   "source": [
    "def moving_average(a, n=3) :\n",
    "    ret = np.cumsum(a, dtype=float)\n",
    "    ret[n:] = ret[n:] - ret[:-n]\n",
    "    return ret[n - 1:] / n"
   ]
  },
  {
   "cell_type": "markdown",
   "metadata": {},
   "source": [
    "- We need to multiply one of the x-coordinates for one of the mouse by -1 to account for reflecting side"
   ]
  },
  {
   "cell_type": "code",
   "execution_count": 121,
   "metadata": {},
   "outputs": [],
   "source": [
    "mouse_0_thorax_to_port_velocity = moving_average(np.diff(mouse_0_thorax_to_reward_port, prepend=mouse_0_thorax_to_reward_port[0]), n=3) * -1\n",
    "# mouse_1_thorax_to_port_velocity = moving_average(np.diff(mouse_1_thorax_to_reward_port, prepend=mouse_1_thorax_to_reward_port[0]), n=3) * -1\n"
   ]
  },
  {
   "cell_type": "code",
   "execution_count": 122,
   "metadata": {},
   "outputs": [
    {
     "data": {
      "text/plain": [
       "Text(0.5, 1.0, 'Thorax to Reward Port Velocity')"
      ]
     },
     "execution_count": 122,
     "metadata": {},
     "output_type": "execute_result"
    },
    {
     "data": {
      "image/png": "[encoded data removed]",
      "text/plain": [
       "<Figure size 1500x600 with 1 Axes>"
      ]
     },
     "metadata": {},
     "output_type": "display_data"
    }
   ],
   "source": [
    "fig, ax = plt.subplots()\n",
    "\n",
    "plt.plot(mouse_0_thorax_to_port_velocity, c='#400000', label='{}'.format(track_names[0]))\n",
    "# plt.plot(mouse_1_thorax_to_port_velocity, c='#001620', label='{}'.format(track_names[1]))\n",
    "\n",
    "for index, row in tone_start_only_df.dropna(subset=\"filled_frame_number\").iterrows():\n",
    "    plt.axvline(x=row[\"20_second_before\"], color=\"red\", linestyle=\":\", linewidth=3)\n",
    "    plt.axvline(x=row[\"20_second_after\"], color=\"red\", linestyle=\"-\", linewidth=3)\n",
    "\n",
    "    plt.axvline(x=row[\"filled_frame_number\"], color=\"red\", linestyle=\"--\", linewidth=3)\n",
    "\n",
    "    \n",
    "    \n",
    "plt.legend(loc=\"center right\")\n",
    "plt.title('Thorax to Reward Port Velocity')"
   ]
  },
  {
   "cell_type": "code",
   "execution_count": 123,
   "metadata": {},
   "outputs": [
    {
     "data": {
      "text/plain": [
       "Text(0.5, 1.0, 'Thorax to Reward Port Velocity')"
      ]
     },
     "execution_count": 123,
     "metadata": {},
     "output_type": "execute_result"
    },
    {
     "data": {
      "image/png": "[encoded data removed]",
      "text/plain": [
       "<Figure size 1500x600 with 1 Axes>"
      ]
     },
     "metadata": {},
     "output_type": "display_data"
    }
   ],
   "source": [
    "\n",
    "\n",
    "fig, ax = plt.subplots()\n",
    "\n",
    "plt.plot(mouse_0_thorax_to_port_velocity, c='#400000', label='{}'.format(track_names[0]))\n",
    "# plt.plot(mouse_1_thorax_to_port_velocity, c='#001620', label='{}'.format(track_names[1]))\n",
    "\n",
    "for index, row in tone_start_only_df.dropna(subset=\"filled_frame_number\").iterrows():\n",
    "    plt.axvline(x=row[\"20_second_before\"], color=\"red\", linestyle=\":\", linewidth=3)\n",
    "    plt.axvline(x=row[\"20_second_after\"], color=\"red\", linestyle=\"-\", linewidth=3)\n",
    "\n",
    "    plt.axvline(x=row[\"filled_frame_number\"], color=\"red\", linestyle=\"--\", linewidth=3)\n",
    "\n",
    "plt.xlim(x_min, x_min + x_range)\n",
    "plt.xticks(np.arange(x_min, x_min + x_range, 500))\n",
    "\n",
    "plt.legend()\n",
    "plt.title('Thorax to Reward Port Velocity')"
   ]
  },
  {
   "cell_type": "markdown",
   "metadata": {},
   "source": [
    "# TODO: Making Histograms"
   ]
  },
  {
   "cell_type": "code",
   "execution_count": 124,
   "metadata": {
    "scrolled": true
   },
   "outputs": [
    {
     "data": {
      "text/html": [
       "<div>\n",
       "<style scoped>\n",
       "    .dataframe tbody tr th:only-of-type {\n",
       "        vertical-align: middle;\n",
       "    }\n",
       "\n",
       "    .dataframe tbody tr th {\n",
       "        vertical-align: top;\n",
       "    }\n",
       "\n",
       "    .dataframe thead th {\n",
       "        text-align: right;\n",
       "    }\n",
       "</style>\n",
       "<table border=\"1\" class=\"dataframe\">\n",
       "  <thead>\n",
       "    <tr style=\"text-align: right;\">\n",
       "      <th></th>\n",
       "      <th>voltage_time_stamp</th>\n",
       "      <th>frame_number</th>\n",
       "      <th>PosTimestamp</th>\n",
       "      <th>video_time</th>\n",
       "      <th>video_seconds</th>\n",
       "      <th>filled_voltage_time_stamp</th>\n",
       "      <th>filled_frame_number</th>\n",
       "      <th>filled_PosTimestamp</th>\n",
       "      <th>filled_video_time</th>\n",
       "      <th>filled_video_seconds</th>\n",
       "      <th>time</th>\n",
       "      <th>state</th>\n",
       "      <th>trial_number</th>\n",
       "      <th>filled_state</th>\n",
       "      <th>filled_trial_number</th>\n",
       "      <th>20_second_before</th>\n",
       "      <th>20_second_after</th>\n",
       "    </tr>\n",
       "  </thead>\n",
       "  <tbody>\n",
       "    <tr>\n",
       "      <th>0</th>\n",
       "      <td>3680870</td>\n",
       "      <td>NaN</td>\n",
       "      <td>NaN</td>\n",
       "      <td>NaN</td>\n",
       "      <td>NaN</td>\n",
       "      <td>3680870</td>\n",
       "      <td>NaN</td>\n",
       "      <td>NaN</td>\n",
       "      <td>NaN</td>\n",
       "      <td>NaN</td>\n",
       "      <td>3680870.0</td>\n",
       "      <td>1.0</td>\n",
       "      <td>1.0</td>\n",
       "      <td>1.0</td>\n",
       "      <td>1.0</td>\n",
       "      <td>NaN</td>\n",
       "      <td>NaN</td>\n",
       "    </tr>\n",
       "    <tr>\n",
       "      <th>1</th>\n",
       "      <td>3680871</td>\n",
       "      <td>NaN</td>\n",
       "      <td>NaN</td>\n",
       "      <td>NaN</td>\n",
       "      <td>NaN</td>\n",
       "      <td>3680871</td>\n",
       "      <td>NaN</td>\n",
       "      <td>NaN</td>\n",
       "      <td>NaN</td>\n",
       "      <td>NaN</td>\n",
       "      <td>NaN</td>\n",
       "      <td>NaN</td>\n",
       "      <td>NaN</td>\n",
       "      <td>1.0</td>\n",
       "      <td>1.0</td>\n",
       "      <td>NaN</td>\n",
       "      <td>NaN</td>\n",
       "    </tr>\n",
       "    <tr>\n",
       "      <th>2</th>\n",
       "      <td>3680872</td>\n",
       "      <td>NaN</td>\n",
       "      <td>NaN</td>\n",
       "      <td>NaN</td>\n",
       "      <td>NaN</td>\n",
       "      <td>3680872</td>\n",
       "      <td>NaN</td>\n",
       "      <td>NaN</td>\n",
       "      <td>NaN</td>\n",
       "      <td>NaN</td>\n",
       "      <td>NaN</td>\n",
       "      <td>NaN</td>\n",
       "      <td>NaN</td>\n",
       "      <td>1.0</td>\n",
       "      <td>1.0</td>\n",
       "      <td>NaN</td>\n",
       "      <td>NaN</td>\n",
       "    </tr>\n",
       "    <tr>\n",
       "      <th>3</th>\n",
       "      <td>3680873</td>\n",
       "      <td>NaN</td>\n",
       "      <td>NaN</td>\n",
       "      <td>NaN</td>\n",
       "      <td>NaN</td>\n",
       "      <td>3680873</td>\n",
       "      <td>NaN</td>\n",
       "      <td>NaN</td>\n",
       "      <td>NaN</td>\n",
       "      <td>NaN</td>\n",
       "      <td>NaN</td>\n",
       "      <td>NaN</td>\n",
       "      <td>NaN</td>\n",
       "      <td>1.0</td>\n",
       "      <td>1.0</td>\n",
       "      <td>NaN</td>\n",
       "      <td>NaN</td>\n",
       "    </tr>\n",
       "    <tr>\n",
       "      <th>4</th>\n",
       "      <td>3680874</td>\n",
       "      <td>NaN</td>\n",
       "      <td>NaN</td>\n",
       "      <td>NaN</td>\n",
       "      <td>NaN</td>\n",
       "      <td>3680874</td>\n",
       "      <td>NaN</td>\n",
       "      <td>NaN</td>\n",
       "      <td>NaN</td>\n",
       "      <td>NaN</td>\n",
       "      <td>NaN</td>\n",
       "      <td>NaN</td>\n",
       "      <td>NaN</td>\n",
       "      <td>1.0</td>\n",
       "      <td>1.0</td>\n",
       "      <td>NaN</td>\n",
       "      <td>NaN</td>\n",
       "    </tr>\n",
       "    <tr>\n",
       "      <th>...</th>\n",
       "      <td>...</td>\n",
       "      <td>...</td>\n",
       "      <td>...</td>\n",
       "      <td>...</td>\n",
       "      <td>...</td>\n",
       "      <td>...</td>\n",
       "      <td>...</td>\n",
       "      <td>...</td>\n",
       "      <td>...</td>\n",
       "      <td>...</td>\n",
       "      <td>...</td>\n",
       "      <td>...</td>\n",
       "      <td>...</td>\n",
       "      <td>...</td>\n",
       "      <td>...</td>\n",
       "      <td>...</td>\n",
       "      <td>...</td>\n",
       "    </tr>\n",
       "    <tr>\n",
       "      <th>25388554</th>\n",
       "      <td>29063065</td>\n",
       "      <td>NaN</td>\n",
       "      <td>NaN</td>\n",
       "      <td>NaN</td>\n",
       "      <td>NaN</td>\n",
       "      <td>29063065</td>\n",
       "      <td>25335.0</td>\n",
       "      <td>29061683.0</td>\n",
       "      <td>1809.642857</td>\n",
       "      <td>1809.0</td>\n",
       "      <td>NaN</td>\n",
       "      <td>NaN</td>\n",
       "      <td>NaN</td>\n",
       "      <td>1.0</td>\n",
       "      <td>16.0</td>\n",
       "      <td>25185.0</td>\n",
       "      <td>25485.0</td>\n",
       "    </tr>\n",
       "    <tr>\n",
       "      <th>25388555</th>\n",
       "      <td>29063066</td>\n",
       "      <td>NaN</td>\n",
       "      <td>NaN</td>\n",
       "      <td>NaN</td>\n",
       "      <td>NaN</td>\n",
       "      <td>29063066</td>\n",
       "      <td>25335.0</td>\n",
       "      <td>29061683.0</td>\n",
       "      <td>1809.642857</td>\n",
       "      <td>1809.0</td>\n",
       "      <td>NaN</td>\n",
       "      <td>NaN</td>\n",
       "      <td>NaN</td>\n",
       "      <td>1.0</td>\n",
       "      <td>16.0</td>\n",
       "      <td>25185.0</td>\n",
       "      <td>25485.0</td>\n",
       "    </tr>\n",
       "    <tr>\n",
       "      <th>25388556</th>\n",
       "      <td>29063067</td>\n",
       "      <td>NaN</td>\n",
       "      <td>NaN</td>\n",
       "      <td>NaN</td>\n",
       "      <td>NaN</td>\n",
       "      <td>29063067</td>\n",
       "      <td>25335.0</td>\n",
       "      <td>29061683.0</td>\n",
       "      <td>1809.642857</td>\n",
       "      <td>1809.0</td>\n",
       "      <td>NaN</td>\n",
       "      <td>NaN</td>\n",
       "      <td>NaN</td>\n",
       "      <td>1.0</td>\n",
       "      <td>16.0</td>\n",
       "      <td>25185.0</td>\n",
       "      <td>25485.0</td>\n",
       "    </tr>\n",
       "    <tr>\n",
       "      <th>25388557</th>\n",
       "      <td>29063068</td>\n",
       "      <td>NaN</td>\n",
       "      <td>NaN</td>\n",
       "      <td>NaN</td>\n",
       "      <td>NaN</td>\n",
       "      <td>29063068</td>\n",
       "      <td>25335.0</td>\n",
       "      <td>29061683.0</td>\n",
       "      <td>1809.642857</td>\n",
       "      <td>1809.0</td>\n",
       "      <td>NaN</td>\n",
       "      <td>NaN</td>\n",
       "      <td>NaN</td>\n",
       "      <td>1.0</td>\n",
       "      <td>16.0</td>\n",
       "      <td>25185.0</td>\n",
       "      <td>25485.0</td>\n",
       "    </tr>\n",
       "    <tr>\n",
       "      <th>25388558</th>\n",
       "      <td>29063069</td>\n",
       "      <td>NaN</td>\n",
       "      <td>NaN</td>\n",
       "      <td>NaN</td>\n",
       "      <td>NaN</td>\n",
       "      <td>29063069</td>\n",
       "      <td>25335.0</td>\n",
       "      <td>29061683.0</td>\n",
       "      <td>1809.642857</td>\n",
       "      <td>1809.0</td>\n",
       "      <td>NaN</td>\n",
       "      <td>NaN</td>\n",
       "      <td>NaN</td>\n",
       "      <td>1.0</td>\n",
       "      <td>16.0</td>\n",
       "      <td>25185.0</td>\n",
       "      <td>25485.0</td>\n",
       "    </tr>\n",
       "  </tbody>\n",
       "</table>\n",
       "<p>25388559 rows × 17 columns</p>\n",
       "</div>"
      ],
      "text/plain": [
       "          voltage_time_stamp  frame_number  PosTimestamp  video_time  \\\n",
       "0                    3680870           NaN           NaN         NaN   \n",
       "1                    3680871           NaN           NaN         NaN   \n",
       "2                    3680872           NaN           NaN         NaN   \n",
       "3                    3680873           NaN           NaN         NaN   \n",
       "4                    3680874           NaN           NaN         NaN   \n",
       "...                      ...           ...           ...         ...   \n",
       "25388554            29063065           NaN           NaN         NaN   \n",
       "25388555            29063066           NaN           NaN         NaN   \n",
       "25388556            29063067           NaN           NaN         NaN   \n",
       "25388557            29063068           NaN           NaN         NaN   \n",
       "25388558            29063069           NaN           NaN         NaN   \n",
       "\n",
       "          video_seconds  filled_voltage_time_stamp  filled_frame_number  \\\n",
       "0                   NaN                    3680870                  NaN   \n",
       "1                   NaN                    3680871                  NaN   \n",
       "2                   NaN                    3680872                  NaN   \n",
       "3                   NaN                    3680873                  NaN   \n",
       "4                   NaN                    3680874                  NaN   \n",
       "...                 ...                        ...                  ...   \n",
       "25388554            NaN                   29063065              25335.0   \n",
       "25388555            NaN                   29063066              25335.0   \n",
       "25388556            NaN                   29063067              25335.0   \n",
       "25388557            NaN                   29063068              25335.0   \n",
       "25388558            NaN                   29063069              25335.0   \n",
       "\n",
       "          filled_PosTimestamp  filled_video_time  filled_video_seconds  \\\n",
       "0                         NaN                NaN                   NaN   \n",
       "1                         NaN                NaN                   NaN   \n",
       "2                         NaN                NaN                   NaN   \n",
       "3                         NaN                NaN                   NaN   \n",
       "4                         NaN                NaN                   NaN   \n",
       "...                       ...                ...                   ...   \n",
       "25388554           29061683.0        1809.642857                1809.0   \n",
       "25388555           29061683.0        1809.642857                1809.0   \n",
       "25388556           29061683.0        1809.642857                1809.0   \n",
       "25388557           29061683.0        1809.642857                1809.0   \n",
       "25388558           29061683.0        1809.642857                1809.0   \n",
       "\n",
       "               time  state  trial_number  filled_state  filled_trial_number  \\\n",
       "0         3680870.0    1.0           1.0           1.0                  1.0   \n",
       "1               NaN    NaN           NaN           1.0                  1.0   \n",
       "2               NaN    NaN           NaN           1.0                  1.0   \n",
       "3               NaN    NaN           NaN           1.0                  1.0   \n",
       "4               NaN    NaN           NaN           1.0                  1.0   \n",
       "...             ...    ...           ...           ...                  ...   \n",
       "25388554        NaN    NaN           NaN           1.0                 16.0   \n",
       "25388555        NaN    NaN           NaN           1.0                 16.0   \n",
       "25388556        NaN    NaN           NaN           1.0                 16.0   \n",
       "25388557        NaN    NaN           NaN           1.0                 16.0   \n",
       "25388558        NaN    NaN           NaN           1.0                 16.0   \n",
       "\n",
       "          20_second_before  20_second_after  \n",
       "0                      NaN              NaN  \n",
       "1                      NaN              NaN  \n",
       "2                      NaN              NaN  \n",
       "3                      NaN              NaN  \n",
       "4                      NaN              NaN  \n",
       "...                    ...              ...  \n",
       "25388554           25185.0          25485.0  \n",
       "25388555           25185.0          25485.0  \n",
       "25388556           25185.0          25485.0  \n",
       "25388557           25185.0          25485.0  \n",
       "25388558           25185.0          25485.0  \n",
       "\n",
       "[25388559 rows x 17 columns]"
      ]
     },
     "execution_count": 124,
     "metadata": {},
     "output_type": "execute_result"
    }
   ],
   "source": [
    "tone_df"
   ]
  },
  {
   "cell_type": "code",
   "execution_count": 134,
   "metadata": {},
   "outputs": [],
   "source": [
    "before_tone_frame_bin = []\n",
    "for num in range(-4,0):\n",
    "    before_tone_frame_bin.append((num * 14, (num + 1) * 14))\n",
    "    \n",
    "after_tone_frame_bin = []    \n",
    "for num in range(0, 5):\n",
    "    after_tone_frame_bin.append((num * 14, (num + 1) * 14))"
   ]
  },
  {
   "cell_type": "code",
   "execution_count": 135,
   "metadata": {},
   "outputs": [
    {
     "data": {
      "text/plain": [
       "[(-56, -42), (-42, -28), (-28, -14), (-14, 0)]"
      ]
     },
     "execution_count": 135,
     "metadata": {},
     "output_type": "execute_result"
    }
   ],
   "source": [
    "before_tone_frame_bin"
   ]
  },
  {
   "cell_type": "code",
   "execution_count": 136,
   "metadata": {},
   "outputs": [
    {
     "data": {
      "text/plain": [
       "[(0, 14), (14, 28), (28, 42), (42, 56), (56, 70)]"
      ]
     },
     "execution_count": 136,
     "metadata": {},
     "output_type": "execute_result"
    }
   ],
   "source": [
    "after_tone_frame_bin"
   ]
  },
  {
   "cell_type": "code",
   "execution_count": 163,
   "metadata": {
    "scrolled": false
   },
   "outputs": [],
   "source": [
    "before_tone_mean_distance = []\n",
    "after_tone_mean_distance = []\n",
    "\n",
    "for frame_number in tone_start_only_df[\"filled_frame_number\"].dropna().iloc[:-1]:\n",
    "    \n",
    "    for before_tone_frame in before_tone_frame_bin:\n",
    "        first_before_tone_frame = int(frame_number + before_tone_frame[0])\n",
    "        second_before_tone_frame = int(frame_number + before_tone_frame[1])\n",
    "        before_tone_mean_distance.append(mouse_0_thorax_to_reward_port[first_before_tone_frame: second_before_tone_frame].mean())\n",
    "\n",
    "    for after_tone_frame in after_tone_frame_bin:\n",
    "        first_after_tone_frame = int(frame_number + after_tone_frame[0])\n",
    "        second_after_tone_frame = int(frame_number + after_tone_frame[1])\n",
    "        after_tone_mean_distance.append(mouse_0_thorax_to_reward_port[first_after_tone_frame: second_after_tone_frame].mean())\n",
    "\n",
    "before_tone_mean_distance = np.array(before_tone_mean_distance)\n",
    "after_tone_mean_distance = np.array(after_tone_mean_distance)\n",
    "\n"
   ]
  },
  {
   "cell_type": "code",
   "execution_count": 158,
   "metadata": {},
   "outputs": [],
   "source": [
    "bins=[0, 4, 8, 12, 16, 20]"
   ]
  },
  {
   "cell_type": "code",
   "execution_count": 176,
   "metadata": {},
   "outputs": [],
   "source": [
    "min_distance = int(np.concatenate([before_tone_mean_distance, after_tone_mean_distance]).min())\n",
    "max_distance = int(np.concatenate([before_tone_mean_distance, after_tone_mean_distance]).max())\n",
    "\n",
    "min_distance = int(math.trunc(min_distance / 10.0)) * 10\n",
    "max_distance = int(math.ceil(max_distance / 10.0)) * 10"
   ]
  },
  {
   "cell_type": "code",
   "execution_count": 190,
   "metadata": {},
   "outputs": [],
   "source": [
    "spaced_out_bins = np.linspace(min_distance, max_distance, num=20)"
   ]
  },
  {
   "cell_type": "code",
   "execution_count": 191,
   "metadata": {},
   "outputs": [
    {
     "data": {
      "text/plain": [
       "array([ 70.        ,  77.36842105,  84.73684211,  92.10526316,\n",
       "        99.47368421, 106.84210526, 114.21052632, 121.57894737,\n",
       "       128.94736842, 136.31578947, 143.68421053, 151.05263158,\n",
       "       158.42105263, 165.78947368, 173.15789474, 180.52631579,\n",
       "       187.89473684, 195.26315789, 202.63157895, 210.        ])"
      ]
     },
     "execution_count": 191,
     "metadata": {},
     "output_type": "execute_result"
    }
   ],
   "source": [
    "spaced_out_bins"
   ]
  },
  {
   "cell_type": "code",
   "execution_count": 197,
   "metadata": {},
   "outputs": [
    {
     "data": {
      "text/plain": [
       "<matplotlib.legend.Legend at 0x7f4a51dd1a30>"
      ]
     },
     "execution_count": 197,
     "metadata": {},
     "output_type": "execute_result"
    },
    {
     "data": {
      "image/png": "[encoded data removed]",
      "text/plain": [
       "<Figure size 1500x600 with 1 Axes>"
      ]
     },
     "metadata": {},
     "output_type": "display_data"
    }
   ],
   "source": [
    "plt.hist(after_tone_mean_distance, bins=spaced_out_bins,  alpha=0.75, label=\"After Tone\")\n",
    "plt.hist(before_tone_mean_distance, bins=spaced_out_bins,  alpha=0.5, label=\"Before Tone\")\n",
    "plt.legend()"
   ]
  },
  {
   "cell_type": "markdown",
   "metadata": {},
   "source": [
    "## Adding the trial information"
   ]
  },
  {
   "cell_type": "code",
   "execution_count": null,
   "metadata": {},
   "outputs": [],
   "source": []
  },
  {
   "cell_type": "markdown",
   "metadata": {},
   "source": [
    "# OLD STUFF BELOW"
   ]
  },
  {
   "cell_type": "code",
   "execution_count": 58,
   "metadata": {},
   "outputs": [
    {
     "data": {
      "text/plain": [
       "array([-0.        , -0.        , -0.        , ...,  0.96025097,\n",
       "        1.00941397,  1.07827144])"
      ]
     },
     "execution_count": 58,
     "metadata": {},
     "output_type": "execute_result"
    }
   ],
   "source": [
    "mouse_0_thorax_to_port_velocity"
   ]
  },
  {
   "cell_type": "code",
   "execution_count": 59,
   "metadata": {},
   "outputs": [
    {
     "ename": "NameError",
     "evalue": "name 'thx_vel_mouse_left' is not defined",
     "output_type": "error",
     "traceback": [
      "\u001b[0;31m---------------------------------------------------------------------------\u001b[0m",
      "\u001b[0;31mNameError\u001b[0m                                 Traceback (most recent call last)",
      "Cell \u001b[0;32mIn[59], line 1\u001b[0m\n\u001b[0;32m----> 1\u001b[0m \u001b[43mthx_vel_mouse_left\u001b[49m\u001b[38;5;241m.\u001b[39mshape\n",
      "\u001b[0;31mNameError\u001b[0m: name 'thx_vel_mouse_left' is not defined"
     ]
    }
   ],
   "source": [
    "thx_vel_mouse_left.shape"
   ]
  },
  {
   "cell_type": "code",
   "execution_count": null,
   "metadata": {},
   "outputs": [],
   "source": [
    "thx_vel_mouse_right.shape"
   ]
  },
  {
   "cell_type": "code",
   "execution_count": null,
   "metadata": {},
   "outputs": [],
   "source": [
    "thx_acc_mouse_left = moving_average(np.diff(thx_vel_mouse_left, prepend=thx_vel_mouse_left[0]), n=1)\n",
    "thx_acc_mouse_right = moving_average(np.diff(thx_vel_mouse_right, prepend=thx_vel_mouse_right[0]), n=1)"
   ]
  },
  {
   "cell_type": "code",
   "execution_count": null,
   "metadata": {},
   "outputs": [],
   "source": [
    "thx_acc_mouse_left.shape"
   ]
  },
  {
   "cell_type": "code",
   "execution_count": null,
   "metadata": {},
   "outputs": [],
   "source": [
    "thx_acc_mouse_right.shape"
   ]
  },
  {
   "cell_type": "markdown",
   "metadata": {},
   "source": [
    "- Thorax Distance"
   ]
  },
  {
   "cell_type": "code",
   "execution_count": null,
   "metadata": {},
   "outputs": [],
   "source": [
    "thx_distance = np.absolute(body_part_to_loc[\"thorax\"][:, 0, 0] - body_part_to_loc[\"thorax\"][:, 0, 1])[1:-1]"
   ]
  },
  {
   "cell_type": "code",
   "execution_count": null,
   "metadata": {},
   "outputs": [],
   "source": [
    "thx_distance.shape"
   ]
  },
  {
   "cell_type": "markdown",
   "metadata": {
    "id": "5CzJhQcPM8Pg"
   },
   "source": [
    "### Visualizing thorax x-y dynamics and velocity for fly 0"
   ]
  },
  {
   "cell_type": "code",
   "execution_count": null,
   "metadata": {},
   "outputs": [],
   "source": [
    "thx_vel_mouse_left[:10]"
   ]
  },
  {
   "cell_type": "code",
   "execution_count": null,
   "metadata": {},
   "outputs": [],
   "source": [
    "fig = plt.figure(figsize=(15,7))\n",
    "ax1 = fig.add_subplot(211)\n",
    "ax1.plot(thx_vel_mouse_left, 'k', label='x')\n",
    "ax1.legend()\n",
    "ax1.set_xticks([])\n",
    "plt.axhline(y=0, color='r', linestyle='-')\n",
    "ax1.set_title('Thorax Velocity')\n"
   ]
  },
  {
   "cell_type": "code",
   "execution_count": null,
   "metadata": {
    "scrolled": true
   },
   "outputs": [],
   "source": [
    "fig = plt.figure(figsize=(15,7))\n",
    "ax1 = fig.add_subplot(211)\n",
    "ax1.plot(thx_acc_mouse_left, 'k', label='x')\n",
    "ax1.legend()\n",
    "ax1.set_xticks([])\n",
    "plt.axhline(y=0, color='r', linestyle='-')\n",
    "ax1.set_title('Thorax Acceleration')\n"
   ]
  },
  {
   "cell_type": "code",
   "execution_count": null,
   "metadata": {},
   "outputs": [],
   "source": [
    "fig = plt.figure(figsize=(15,7))\n",
    "ax1 = fig.add_subplot(211)\n",
    "ax1.plot(thx_vel_mouse_right, 'k', label='x')\n",
    "ax1.legend()\n",
    "ax1.set_xticks([])\n",
    "plt.axhline(y=0, color='r', linestyle='-')\n",
    "ax1.set_title('Thorax Velocity')\n"
   ]
  },
  {
   "cell_type": "code",
   "execution_count": null,
   "metadata": {
    "scrolled": true
   },
   "outputs": [],
   "source": [
    "fig = plt.figure(figsize=(15,7))\n",
    "ax1 = fig.add_subplot(211)\n",
    "ax1.plot(thx_acc_mouse_right, 'k', label='x')\n",
    "ax1.legend()\n",
    "ax1.set_xticks([])\n",
    "plt.axhline(y=0, color='r', linestyle='-')\n",
    "ax1.set_title('Thorax Acceleration')"
   ]
  },
  {
   "cell_type": "markdown",
   "metadata": {},
   "source": [
    "# Clustering with UMAP"
   ]
  },
  {
   "cell_type": "code",
   "execution_count": null,
   "metadata": {},
   "outputs": [],
   "source": [
    "reducer = umap.UMAP()"
   ]
  },
  {
   "cell_type": "code",
   "execution_count": null,
   "metadata": {
    "scrolled": true
   },
   "outputs": [],
   "source": [
    "all_vel_acc = np.vstack([thx_vel_mouse_left, thx_vel_mouse_right, thx_acc_mouse_left, thx_acc_mouse_right, thx_distance]).T\n"
   ]
  },
  {
   "cell_type": "code",
   "execution_count": null,
   "metadata": {},
   "outputs": [],
   "source": [
    "from sklearn.preprocessing import StandardScaler"
   ]
  },
  {
   "cell_type": "code",
   "execution_count": null,
   "metadata": {},
   "outputs": [],
   "source": [
    "scaled_vel_acc = StandardScaler().fit_transform(all_vel_acc)\n"
   ]
  },
  {
   "cell_type": "code",
   "execution_count": null,
   "metadata": {},
   "outputs": [],
   "source": [
    "all_vel_acc.shape"
   ]
  },
  {
   "cell_type": "code",
   "execution_count": null,
   "metadata": {},
   "outputs": [],
   "source": [
    "scaled_vel_acc.shape"
   ]
  },
  {
   "cell_type": "code",
   "execution_count": null,
   "metadata": {},
   "outputs": [],
   "source": [
    "embedding = reducer.fit_transform(scaled_vel_acc)"
   ]
  },
  {
   "cell_type": "code",
   "execution_count": null,
   "metadata": {},
   "outputs": [],
   "source": [
    "embedding.shape"
   ]
  },
  {
   "cell_type": "code",
   "execution_count": null,
   "metadata": {},
   "outputs": [],
   "source": [
    "plt.scatter(\n",
    "    embedding[:, 0],\n",
    "    embedding[:, 1])\n",
    "#     c=[sns.color_palette()[x] for x in penguins.species.map({\"Adelie\":0, \"Chinstrap\":1, \"Gentoo\":2})])\n",
    "plt.gca().set_aspect('equal', 'datalim')\n",
    "plt.title('UMAP projection of the Penguin dataset', fontsize=24);"
   ]
  },
  {
   "cell_type": "code",
   "execution_count": null,
   "metadata": {},
   "outputs": [],
   "source": []
  },
  {
   "cell_type": "code",
   "execution_count": null,
   "metadata": {},
   "outputs": [],
   "source": [
    "from io import BytesIO\n",
    "from PIL import Image\n",
    "import base64"
   ]
  },
  {
   "cell_type": "code",
   "execution_count": null,
   "metadata": {},
   "outputs": [],
   "source": [
    "import cv2\n",
    "from PIL import Image"
   ]
  },
  {
   "cell_type": "markdown",
   "metadata": {},
   "source": [
    "- Putting all the images to file"
   ]
  },
  {
   "cell_type": "code",
   "execution_count": null,
   "metadata": {},
   "outputs": [],
   "source": [
    "video_path=\"./data/cd1_predicted_frames/CAGE4_TUBETEST_1v2.fixed.mp4\""
   ]
  },
  {
   "cell_type": "code",
   "execution_count": null,
   "metadata": {},
   "outputs": [],
   "source": []
  },
  {
   "cell_type": "code",
   "execution_count": null,
   "metadata": {},
   "outputs": [],
   "source": [
    "vidcap = cv2.VideoCapture(video_path)\n",
    "success, image = vidcap.read()\n",
    "image = cv2.resize(image, (0,0), fx=0.5, fy=0.5) \n",
    "count = 0\n",
    "index_to_file_path = {}\n",
    "while success:\n",
    "    try:\n",
    "        index_to_file_path[count] = \"./data/example_frames/frame{}.jpg\".format(count)    \n",
    "        cv2.imwrite(index_to_file_path[count], image)     # save frame as JPEG file      \n",
    "        success, image = vidcap.read()\n",
    "        image = cv2.resize(image, (0,0), fx=0.1, fy=0.1) \n",
    "        count += 1\n",
    "    except:\n",
    "        print(\"error with {}\".format(index_to_file_path[count]))\n"
   ]
  },
  {
   "cell_type": "code",
   "execution_count": null,
   "metadata": {},
   "outputs": [],
   "source": [
    "frame_number = 5"
   ]
  },
  {
   "cell_type": "code",
   "execution_count": null,
   "metadata": {},
   "outputs": [],
   "source": [
    "cap = cv2.VideoCapture(\"./data/cd1_predicted_frames/CAGE4_TUBETEST_1v2.fixed.mp4\")\n",
    "cap.set(cv2.CAP_PROP_POS_FRAMES, frame_number-1)\n",
    "res, frame = cap.read()"
   ]
  },
  {
   "cell_type": "code",
   "execution_count": null,
   "metadata": {},
   "outputs": [],
   "source": [
    "length = int(cap.get(cv2.CAP_PROP_FRAME_COUNT))"
   ]
  },
  {
   "cell_type": "code",
   "execution_count": null,
   "metadata": {},
   "outputs": [],
   "source": [
    "length"
   ]
  },
  {
   "cell_type": "code",
   "execution_count": null,
   "metadata": {
    "scrolled": true
   },
   "outputs": [],
   "source": [
    "Image.fromarray(frame)"
   ]
  },
  {
   "cell_type": "code",
   "execution_count": null,
   "metadata": {},
   "outputs": [],
   "source": [
    "type(Image.fromarray(frame))"
   ]
  },
  {
   "cell_type": "code",
   "execution_count": null,
   "metadata": {},
   "outputs": [],
   "source": [
    "embedding[:,0]"
   ]
  },
  {
   "cell_type": "code",
   "execution_count": null,
   "metadata": {},
   "outputs": [],
   "source": [
    "embedding[:,0].shape[0]"
   ]
  },
  {
   "cell_type": "code",
   "execution_count": null,
   "metadata": {},
   "outputs": [],
   "source": [
    "\"./Screenshotfrom2023-03-1013-06-39.png\""
   ]
  },
  {
   "cell_type": "code",
   "execution_count": null,
   "metadata": {},
   "outputs": [],
   "source": [
    "from bokeh.plotting import figure, output_file, show, ColumnDataSource\n",
    "from bokeh.models import HoverTool\n",
    "\n",
    "output_file(\"toolbar.html\")\n",
    "\n",
    "source = ColumnDataSource(\n",
    "        data=dict(\n",
    "            x=embedding[:,0],\n",
    "            y=embedding[:,1],\n",
    "            imgs = [\"{}\".format(index_to_file_path[index]) for index in range(embedding[:,0].shape[0])]\n",
    "        )\n",
    "    )\n",
    "\n",
    "hover = HoverTool(\n",
    "        tooltips=\"\"\"\n",
    "        <div>\n",
    "            <div>\n",
    "                <img\n",
    "                    src=\"@imgs\" height=\"160\" alt=\"@imgs\" width=\"160\"\n",
    "                    style=\"float: left; margin: 0px 15px 15px 0px;\"\n",
    "                    border=\"2\"\n",
    "                ></img>\n",
    "            </div>\n",
    "            <div>\n",
    "                <span style=\"font-size: 17px; font-weight: bold;\">@desc</span>\n",
    "                <span style=\"font-size: 15px; color: #966;\">[$index]</span>\n",
    "            </div>\n",
    "            <div>\n",
    "                <span style=\"font-size: 15px;\">Location</span>\n",
    "                <span style=\"font-size: 10px; color: #696;\">($x, $y)</span>\n",
    "            </div>\n",
    "        </div>\n",
    "        \"\"\"\n",
    "    )\n",
    "\n",
    "p = figure(tools=[hover],\n",
    "           title=\"Mouse over the dots\")\n",
    "\n",
    "p.circle('x', 'y', size=20, source=source)\n",
    "\n",
    "show(p)"
   ]
  },
  {
   "cell_type": "raw",
   "metadata": {},
   "source": [
    "from bokeh.plotting import figure, output_file, show, ColumnDataSource\n",
    "from bokeh.models import HoverTool\n",
    "\n",
    "output_file(\"toolbar.html\")\n",
    "\n",
    "source = ColumnDataSource(\n",
    "        data=dict(\n",
    "            x=embedding[:,0],\n",
    "            y=embedding[:,1],\n",
    "            imgs = ['<img src=\"{}\">'.format(index_to_file_path[index]) for index in range(embedding[:,0].shape[0])]\n",
    "        )\n",
    "    )\n",
    "\n",
    "hover = HoverTool(\n",
    "        tooltips=\"\"\"\n",
    "        <div>\n",
    "            <div>\n",
    "                <img\n",
    "                    src=\"@imgs\" height=\"42\" alt=\"@imgs\" width=\"42\"\n",
    "                    style=\"float: left; margin: 0px 15px 15px 0px;\"\n",
    "                    border=\"2\"\n",
    "                ></img>\n",
    "            </div>\n",
    "            <div>\n",
    "                <span style=\"font-size: 17px; font-weight: bold;\">@desc</span>\n",
    "                <span style=\"font-size: 15px; color: #966;\">[$index]</span>\n",
    "            </div>\n",
    "            <div>\n",
    "                <span style=\"font-size: 15px;\">Location</span>\n",
    "                <span style=\"font-size: 10px; color: #696;\">($x, $y)</span>\n",
    "            </div>\n",
    "        </div>\n",
    "        \"\"\"\n",
    "    )\n",
    "\n",
    "p = figure(tools=[hover],\n",
    "           title=\"Mouse over the dots\")\n",
    "\n",
    "p.circle('x', 'y', size=20, source=source)\n",
    "\n",
    "show(p)"
   ]
  },
  {
   "cell_type": "raw",
   "metadata": {},
   "source": [
    "from bokeh.plotting import figure, output_file, show, ColumnDataSource\n",
    "from bokeh.models import HoverTool\n",
    "\n",
    "output_file(\"toolbar.html\")\n",
    "\n",
    "source = ColumnDataSource(\n",
    "        data=dict(\n",
    "            x=[1, 2, 3, 4, 5],\n",
    "            y=[2, 5, 8, 2, 7],\n",
    "            desc=['A', 'b', 'C', 'd', 'E'],\n",
    "            imgs = [\n",
    "                'http://bokeh.pydata.org/static/snake.jpg',\n",
    "                'http://bokeh.pydata.org/static/snake2.png',\n",
    "                'http://bokeh.pydata.org/static/snake3D.png',\n",
    "                'http://bokeh.pydata.org/static/snake4_TheRevenge.png',\n",
    "                'http://bokeh.pydata.org/static/snakebite.jpg'\n",
    "            ]\n",
    "        )\n",
    "    )\n",
    "\n",
    "hover = HoverTool(\n",
    "        tooltips=\"\"\"\n",
    "        <div>\n",
    "            <div>\n",
    "                <img\n",
    "                    src=\"@imgs\" height=\"42\" alt=\"@imgs\" width=\"42\"\n",
    "                    style=\"float: left; margin: 0px 15px 15px 0px;\"\n",
    "                    border=\"2\"\n",
    "                ></img>\n",
    "            </div>\n",
    "            <div>\n",
    "                <span style=\"font-size: 17px; font-weight: bold;\">@desc</span>\n",
    "                <span style=\"font-size: 15px; color: #966;\">[$index]</span>\n",
    "            </div>\n",
    "            <div>\n",
    "                <span style=\"font-size: 15px;\">Location</span>\n",
    "                <span style=\"font-size: 10px; color: #696;\">($x, $y)</span>\n",
    "            </div>\n",
    "        </div>\n",
    "        \"\"\"\n",
    "    )\n",
    "\n",
    "p = figure(tools=[hover],\n",
    "           title=\"Mouse over the dots\")\n",
    "\n",
    "p.circle('x', 'y', size=20, source=source)\n",
    "\n",
    "show(p)"
   ]
  },
  {
   "cell_type": "code",
   "execution_count": null,
   "metadata": {},
   "outputs": [],
   "source": [
    "res"
   ]
  },
  {
   "cell_type": "code",
   "execution_count": null,
   "metadata": {},
   "outputs": [],
   "source": []
  },
  {
   "cell_type": "markdown",
   "metadata": {
    "id": "u7r5L5WVgKUV"
   },
   "source": [
    "## Loading the data\n",
    "\n",
    "We use the [h5py](https://www.h5py.org) package to load data from the HDF5. This is already installed in Colab. If your running analysis code on your local machine and have SLEAP installed, then `h5py` and other packages we use are already installed in your SLEAP conda environment. Otherwise, you may need to use `conda` or `pip` to install `h5py` as well as `numpy`, `scipy`, `matplotlib`, `seaborn`, and any other packages you want use in your analysis code.\n",
    "\n",
    "Let's load the file and take a peek."
   ]
  },
  {
   "cell_type": "code",
   "execution_count": null,
   "metadata": {
    "colab": {
     "base_uri": "https://localhost:8080/"
    },
    "id": "Sua2AKkTM8PN",
    "outputId": "3c6179d5-6b55-4bb9-e839-38941bb9cce8"
   },
   "outputs": [],
   "source": [
    "import h5py\n",
    "import numpy as np\n",
    "\n",
    "with h5py.File(filename, \"r\") as f:\n",
    "    dset_names = list(f.keys())\n",
    "    locations = f[\"tracks\"][:].T\n",
    "    node_names = [n.decode() for n in f[\"node_names\"][:]]\n",
    "\n",
    "print(\"===filename===\")\n",
    "print(filename)\n",
    "print()\n",
    "\n",
    "print(\"===HDF5 datasets===\")\n",
    "print(dset_names)\n",
    "print()\n",
    "\n",
    "print(\"===locations data shape===\")\n",
    "print(locations.shape)\n",
    "print()\n",
    "\n",
    "print(\"===nodes===\")\n",
    "for i, name in enumerate(node_names):\n",
    "    print(f\"{i}: {name}\")\n",
    "print()\n"
   ]
  },
  {
   "cell_type": "markdown",
   "metadata": {
    "id": "2gDkifEXhyoW"
   },
   "source": [
    "In our example file, the shape of the locations matrix (the `tracks` dataset) is (3000, 13, 2, 2) **after it is transposed** (with the `.T`). We transpose the data when loading it in Python; no transpose is needed when using MATLAB. This is because Python and MATLAB expect matrices to be stored differently.\n",
    "\n",
    "Here's what each dimension of the matrix means:\n",
    "\n",
    "- 3000: the number of frames;\n",
    "\n",
    "- 13: the number of nodes in the skeleton (we've also loaded and displayed the `node_names` dataset with the names of these 13 nodes);\n",
    "\n",
    "- 2: for the x and y coordinates;\n",
    "\n",
    "- 2: the number of distinct animal identities which were found (we have 2 flies in the video clip and they were tracked perfectly, so we ended up with exactly 2 track, but there may be more tracks than animals if tracking didn't work as well).\n",
    "\n",
    "We can get these counts from the shape of the matrix, like so:\n"
   ]
  },
  {
   "cell_type": "code",
   "execution_count": null,
   "metadata": {
    "colab": {
     "base_uri": "https://localhost:8080/"
    },
    "id": "WA5Jxw1_M8PQ",
    "outputId": "a3a31de2-28a3-4b69-8533-1c5d567aae5f"
   },
   "outputs": [],
   "source": [
    "frame_count, node_count, _, instance_count = locations.shape\n",
    "\n",
    "print(\"frame count:\", frame_count)\n",
    "print(\"node count:\", node_count)\n",
    "print(\"instance count:\", instance_count)"
   ]
  },
  {
   "cell_type": "markdown",
   "metadata": {
    "id": "2JKWBGbqjoH6"
   },
   "source": [
    "Now that we've loaded the data, let's see some different things we can do with it..."
   ]
  },
  {
   "cell_type": "markdown",
   "metadata": {
    "id": "sS28-dipM8PS"
   },
   "source": [
    "## Fill missing values"
   ]
  },
  {
   "cell_type": "code",
   "execution_count": null,
   "metadata": {
    "id": "96mH1IPbM8PS"
   },
   "outputs": [],
   "source": [
    "from scipy.interpolate import interp1d\n",
    "\n",
    "def fill_missing(Y, kind=\"linear\"):\n",
    "    \"\"\"Fills missing values independently along each dimension after the first.\"\"\"\n",
    "\n",
    "    # Store initial shape.\n",
    "    initial_shape = Y.shape\n",
    "\n",
    "    # Flatten after first dim.\n",
    "    Y = Y.reshape((initial_shape[0], -1))\n",
    "\n",
    "    # Interpolate along each slice.\n",
    "    for i in range(Y.shape[-1]):\n",
    "        y = Y[:, i]\n",
    "\n",
    "        # Build interpolant.\n",
    "        x = np.flatnonzero(~np.isnan(y))\n",
    "        f = interp1d(x, y[x], kind=kind, fill_value=np.nan, bounds_error=False)\n",
    "\n",
    "        # Fill missing\n",
    "        xq = np.flatnonzero(np.isnan(y))\n",
    "        y[xq] = f(xq)\n",
    "        \n",
    "        # Fill leading or trailing NaNs with the nearest non-NaN values\n",
    "        mask = np.isnan(y)\n",
    "        y[mask] = np.interp(np.flatnonzero(mask), np.flatnonzero(~mask), y[~mask])\n",
    "\n",
    "        # Save slice\n",
    "        Y[:, i] = y\n",
    "\n",
    "    # Restore to initial shape.\n",
    "    Y = Y.reshape(initial_shape)\n",
    "\n",
    "    return Y"
   ]
  },
  {
   "cell_type": "code",
   "execution_count": null,
   "metadata": {
    "id": "-zadxB39M8PU"
   },
   "outputs": [],
   "source": [
    "locations = fill_missing(locations)"
   ]
  },
  {
   "cell_type": "markdown",
   "metadata": {
    "id": "1dt3i6T9mHUh"
   },
   "source": [
    "## Visualize thorax movement across video"
   ]
  },
  {
   "cell_type": "code",
   "execution_count": null,
   "metadata": {},
   "outputs": [],
   "source": [
    "node_names"
   ]
  },
  {
   "cell_type": "code",
   "execution_count": null,
   "metadata": {},
   "outputs": [],
   "source": [
    "body_part_to_loc = {}\n",
    "for index, body_part in enumerate(node_names):\n",
    "    body_part_to_loc[body_part] = locations[:, index, :, :]"
   ]
  },
  {
   "cell_type": "code",
   "execution_count": null,
   "metadata": {
    "id": "S3XvZKKJM8PZ"
   },
   "outputs": [],
   "source": [
    "import seaborn as sns\n",
    "import matplotlib as mpl\n",
    "import matplotlib.pyplot as plt"
   ]
  },
  {
   "cell_type": "code",
   "execution_count": null,
   "metadata": {
    "id": "mMjBC4rCM8Pa"
   },
   "outputs": [],
   "source": [
    "sns.set('notebook', 'ticks', font_scale=1.2)\n",
    "mpl.rcParams['figure.figsize'] = [15,6]"
   ]
  },
  {
   "cell_type": "markdown",
   "metadata": {},
   "source": [
    "### SLEAP Coordinates\n"
   ]
  },
  {
   "cell_type": "code",
   "execution_count": null,
   "metadata": {},
   "outputs": [],
   "source": [
    "body_part_to_loc[\"thorax\"]"
   ]
  },
  {
   "cell_type": "code",
   "execution_count": null,
   "metadata": {
    "colab": {
     "base_uri": "https://localhost:8080/",
     "height": 831
    },
    "id": "lZ9wU0jzM8Pb",
    "outputId": "ff2a6c7b-0854-4d4f-dbad-4b33fad198a0"
   },
   "outputs": [],
   "source": [
    "fig, ax = plt.subplots()\n",
    "\n",
    "plt.plot(body_part_to_loc[\"thorax\"][:,0,0], c='orange', label='Left Mouse X')\n",
    "plt.plot(body_part_to_loc[\"thorax\"][:,0,1], c='blue', label='Right Mouse X')\n",
    "\n",
    "plt.plot(-1*body_part_to_loc[\"thorax\"][:,1,0], c='orange', linestyle=\"--\", label=\"Left Mouse Y\")\n",
    "plt.plot(-1*body_part_to_loc[\"thorax\"][:,1,1], c='blue', linestyle=\"--\", label=\"Right Mouse Y\")\n",
    "\n",
    "plt.legend(loc=\"center right\")\n",
    "plt.title('Thorax locations')\n",
    "\n",
    "\n"
   ]
  },
  {
   "cell_type": "code",
   "execution_count": null,
   "metadata": {},
   "outputs": [],
   "source": [
    "plt.figure(figsize=(7,7))\n",
    "plt.plot(body_part_to_loc[\"thorax\"][:,0,0],body_part_to_loc[\"thorax\"][:,1,0], 'orange',label='Left Mouse')\n",
    "plt.plot(body_part_to_loc[\"thorax\"][:,0,1],body_part_to_loc[\"thorax\"][:,1,1], 'blue',label='Right Mouse')\n",
    "plt.legend()\n",
    "\n",
    "# plt.xticks([])\n",
    "\n",
    "plt.title('Thorax tracks')"
   ]
  },
  {
   "cell_type": "markdown",
   "metadata": {
    "id": "jPe_mc-wM8Pd"
   },
   "source": [
    "## More advanced visualizations\n",
    "\n",
    "For some additional analysis, we'll first smooth and differentiate the data with a Savitzky-Golay filter to extract velocities of each joint."
   ]
  },
  {
   "cell_type": "code",
   "execution_count": null,
   "metadata": {
    "id": "IPCHkT1-M8Pd"
   },
   "outputs": [],
   "source": [
    "from scipy.signal import savgol_filter\n",
    "\n",
    "def smooth_diff(node_loc, win=25, poly=3):\n",
    "    \"\"\"\n",
    "    node_loc is a [frames, 2] array\n",
    "    \n",
    "    win defines the window to smooth over\n",
    "    \n",
    "    poly defines the order of the polynomial\n",
    "    to fit with\n",
    "    \n",
    "    \"\"\"\n",
    "    node_loc_vel = np.zeros_like(node_loc)\n",
    "    \n",
    "    for c in range(node_loc.shape[-1]):\n",
    "        node_loc_vel[:, c] = savgol_filter(node_loc[:, c], win, poly, deriv=1)\n",
    "#     return node_loc_vel\n",
    "    \n",
    "    node_vel = np.linalg.norm(node_loc_vel,axis=1)\n",
    "\n",
    "    return node_vel"
   ]
  },
  {
   "cell_type": "code",
   "execution_count": null,
   "metadata": {},
   "outputs": [],
   "source": [
    "def moving_average(a, n=3) :\n",
    "    ret = np.cumsum(a, dtype=float)\n",
    "    ret[n:] = ret[n:] - ret[:-n]\n",
    "    return ret[n - 1:] / n"
   ]
  },
  {
   "cell_type": "markdown",
   "metadata": {
    "id": "Vpq6cw9pM8Pe"
   },
   "source": [
    "There are two flies. Let's get results for each separately."
   ]
  },
  {
   "cell_type": "raw",
   "metadata": {
    "id": "jcRqRSUlM8Pf"
   },
   "source": [
    "thx_vel_mouse_left = smooth_diff(body_part_to_loc[\"thorax\"][:, :, 0])\n",
    "thx_vel_mouse_right = smooth_diff(body_part_to_loc[\"thorax\"][:, :, 1])"
   ]
  },
  {
   "cell_type": "markdown",
   "metadata": {},
   "source": [
    "- We need to multiply one of the x-coordinates for one of the mouse by -1 to account for reflecting side"
   ]
  },
  {
   "cell_type": "code",
   "execution_count": null,
   "metadata": {},
   "outputs": [],
   "source": [
    "thx_vel_mouse_left = moving_average(np.diff(body_part_to_loc[\"thorax\"][:, 0, 0], prepend=body_part_to_loc[\"thorax\"][:, 0, 0][0]), n=3)\n",
    "thx_vel_mouse_right = moving_average(np.diff(-1*body_part_to_loc[\"thorax\"][:, 0, 1], prepend=body_part_to_loc[\"thorax\"][:, 0, 1][0]), n=3)"
   ]
  },
  {
   "cell_type": "code",
   "execution_count": null,
   "metadata": {},
   "outputs": [],
   "source": [
    "thx_vel_mouse_left.shape"
   ]
  },
  {
   "cell_type": "code",
   "execution_count": null,
   "metadata": {},
   "outputs": [],
   "source": [
    "thx_vel_mouse_right.shape"
   ]
  },
  {
   "cell_type": "code",
   "execution_count": null,
   "metadata": {},
   "outputs": [],
   "source": [
    "thx_acc_mouse_left = moving_average(np.diff(thx_vel_mouse_left, prepend=thx_vel_mouse_left[0]), n=1)\n",
    "thx_acc_mouse_right = moving_average(np.diff(thx_vel_mouse_right, prepend=thx_vel_mouse_right[0]), n=1)"
   ]
  },
  {
   "cell_type": "code",
   "execution_count": null,
   "metadata": {},
   "outputs": [],
   "source": [
    "thx_acc_mouse_left.shape"
   ]
  },
  {
   "cell_type": "code",
   "execution_count": null,
   "metadata": {},
   "outputs": [],
   "source": [
    "thx_acc_mouse_right.shape"
   ]
  },
  {
   "cell_type": "markdown",
   "metadata": {},
   "source": [
    "- Thorax Distance"
   ]
  },
  {
   "cell_type": "code",
   "execution_count": null,
   "metadata": {},
   "outputs": [],
   "source": [
    "thx_distance = np.absolute(body_part_to_loc[\"thorax\"][:, 0, 0] - body_part_to_loc[\"thorax\"][:, 0, 1])[1:-1]"
   ]
  },
  {
   "cell_type": "code",
   "execution_count": null,
   "metadata": {},
   "outputs": [],
   "source": [
    "thx_distance.shape"
   ]
  },
  {
   "cell_type": "markdown",
   "metadata": {
    "id": "5CzJhQcPM8Pg"
   },
   "source": [
    "### Visualizing thorax x-y dynamics and velocity for fly 0"
   ]
  },
  {
   "cell_type": "code",
   "execution_count": null,
   "metadata": {},
   "outputs": [],
   "source": [
    "thx_vel_mouse_left[:10]"
   ]
  },
  {
   "cell_type": "code",
   "execution_count": null,
   "metadata": {},
   "outputs": [],
   "source": [
    "fig = plt.figure(figsize=(15,7))\n",
    "ax1 = fig.add_subplot(211)\n",
    "ax1.plot(thx_vel_mouse_left, 'k', label='x')\n",
    "ax1.legend()\n",
    "ax1.set_xticks([])\n",
    "plt.axhline(y=0, color='r', linestyle='-')\n",
    "ax1.set_title('Thorax Velocity')\n"
   ]
  },
  {
   "cell_type": "code",
   "execution_count": null,
   "metadata": {
    "scrolled": true
   },
   "outputs": [],
   "source": [
    "fig = plt.figure(figsize=(15,7))\n",
    "ax1 = fig.add_subplot(211)\n",
    "ax1.plot(thx_acc_mouse_left, 'k', label='x')\n",
    "ax1.legend()\n",
    "ax1.set_xticks([])\n",
    "plt.axhline(y=0, color='r', linestyle='-')\n",
    "ax1.set_title('Thorax Acceleration')\n"
   ]
  },
  {
   "cell_type": "code",
   "execution_count": null,
   "metadata": {},
   "outputs": [],
   "source": [
    "fig = plt.figure(figsize=(15,7))\n",
    "ax1 = fig.add_subplot(211)\n",
    "ax1.plot(thx_vel_mouse_right, 'k', label='x')\n",
    "ax1.legend()\n",
    "ax1.set_xticks([])\n",
    "plt.axhline(y=0, color='r', linestyle='-')\n",
    "ax1.set_title('Thorax Velocity')\n"
   ]
  },
  {
   "cell_type": "code",
   "execution_count": null,
   "metadata": {
    "scrolled": true
   },
   "outputs": [],
   "source": [
    "fig = plt.figure(figsize=(15,7))\n",
    "ax1 = fig.add_subplot(211)\n",
    "ax1.plot(thx_acc_mouse_right, 'k', label='x')\n",
    "ax1.legend()\n",
    "ax1.set_xticks([])\n",
    "plt.axhline(y=0, color='r', linestyle='-')\n",
    "ax1.set_title('Thorax Acceleration')"
   ]
  },
  {
   "cell_type": "code",
   "execution_count": null,
   "metadata": {},
   "outputs": [],
   "source": []
  },
  {
   "cell_type": "markdown",
   "metadata": {
    "id": "2JKWBGbqjoH6"
   },
   "source": [
    "Now that we've loaded the data, let's see some different things we can do with it..."
   ]
  },
  {
   "cell_type": "markdown",
   "metadata": {
    "id": "sS28-dipM8PS"
   },
   "source": [
    "## Fill missing values"
   ]
  },
  {
   "cell_type": "code",
   "execution_count": null,
   "metadata": {
    "id": "96mH1IPbM8PS"
   },
   "outputs": [],
   "source": [
    "from scipy.interpolate import interp1d\n",
    "\n",
    "def fill_missing(Y, kind=\"linear\"):\n",
    "    \"\"\"Fills missing values independently along each dimension after the first.\"\"\"\n",
    "\n",
    "    # Store initial shape.\n",
    "    initial_shape = Y.shape\n",
    "\n",
    "    # Flatten after first dim.\n",
    "    Y = Y.reshape((initial_shape[0], -1))\n",
    "\n",
    "    # Interpolate along each slice.\n",
    "    for i in range(Y.shape[-1]):\n",
    "        y = Y[:, i]\n",
    "\n",
    "        # Build interpolant.\n",
    "        x = np.flatnonzero(~np.isnan(y))\n",
    "        f = interp1d(x, y[x], kind=kind, fill_value=np.nan, bounds_error=False)\n",
    "\n",
    "        # Fill missing\n",
    "        xq = np.flatnonzero(np.isnan(y))\n",
    "        y[xq] = f(xq)\n",
    "        \n",
    "        # Fill leading or trailing NaNs with the nearest non-NaN values\n",
    "        mask = np.isnan(y)\n",
    "        y[mask] = np.interp(np.flatnonzero(mask), np.flatnonzero(~mask), y[~mask])\n",
    "\n",
    "        # Save slice\n",
    "        Y[:, i] = y\n",
    "\n",
    "    # Restore to initial shape.\n",
    "    Y = Y.reshape(initial_shape)\n",
    "\n",
    "    return Y"
   ]
  },
  {
   "cell_type": "code",
   "execution_count": null,
   "metadata": {
    "id": "-zadxB39M8PU"
   },
   "outputs": [],
   "source": [
    "locations = fill_missing(locations)"
   ]
  },
  {
   "cell_type": "markdown",
   "metadata": {
    "id": "1dt3i6T9mHUh"
   },
   "source": [
    "## Visualize thorax movement across video"
   ]
  },
  {
   "cell_type": "code",
   "execution_count": null,
   "metadata": {},
   "outputs": [],
   "source": [
    "node_names"
   ]
  },
  {
   "cell_type": "code",
   "execution_count": null,
   "metadata": {},
   "outputs": [],
   "source": [
    "body_part_to_loc = {}\n",
    "for index, body_part in enumerate(node_names):\n",
    "    body_part_to_loc[body_part] = locations[:, index, :, :]"
   ]
  },
  {
   "cell_type": "code",
   "execution_count": null,
   "metadata": {
    "id": "S3XvZKKJM8PZ"
   },
   "outputs": [],
   "source": [
    "import seaborn as sns\n",
    "import matplotlib as mpl\n",
    "import matplotlib.pyplot as plt"
   ]
  },
  {
   "cell_type": "code",
   "execution_count": null,
   "metadata": {
    "id": "mMjBC4rCM8Pa"
   },
   "outputs": [],
   "source": [
    "sns.set('notebook', 'ticks', font_scale=1.2)\n",
    "mpl.rcParams['figure.figsize'] = [15,6]"
   ]
  },
  {
   "cell_type": "markdown",
   "metadata": {},
   "source": [
    "### SLEAP Coordinates\n"
   ]
  },
  {
   "cell_type": "code",
   "execution_count": null,
   "metadata": {},
   "outputs": [],
   "source": [
    "body_part_to_loc[\"thorax\"]"
   ]
  },
  {
   "cell_type": "code",
   "execution_count": null,
   "metadata": {
    "colab": {
     "base_uri": "https://localhost:8080/",
     "height": 831
    },
    "id": "lZ9wU0jzM8Pb",
    "outputId": "ff2a6c7b-0854-4d4f-dbad-4b33fad198a0"
   },
   "outputs": [],
   "source": [
    "fig, ax = plt.subplots()\n",
    "\n",
    "plt.plot(body_part_to_loc[\"thorax\"][:,0,0], c='orange', label='Left Mouse X')\n",
    "plt.plot(body_part_to_loc[\"thorax\"][:,0,1], c='blue', label='Right Mouse X')\n",
    "\n",
    "plt.plot(-1*body_part_to_loc[\"thorax\"][:,1,0], c='orange', linestyle=\"--\", label=\"Left Mouse Y\")\n",
    "plt.plot(-1*body_part_to_loc[\"thorax\"][:,1,1], c='blue', linestyle=\"--\", label=\"Right Mouse Y\")\n",
    "\n",
    "plt.legend(loc=\"center right\")\n",
    "plt.title('Thorax locations')\n",
    "\n",
    "\n"
   ]
  },
  {
   "cell_type": "code",
   "execution_count": null,
   "metadata": {},
   "outputs": [],
   "source": [
    "plt.figure(figsize=(7,7))\n",
    "plt.plot(body_part_to_loc[\"thorax\"][:,0,0],body_part_to_loc[\"thorax\"][:,1,0], 'orange',label='Left Mouse')\n",
    "plt.plot(body_part_to_loc[\"thorax\"][:,0,1],body_part_to_loc[\"thorax\"][:,1,1], 'blue',label='Right Mouse')\n",
    "plt.legend()\n",
    "\n",
    "# plt.xticks([])\n",
    "\n",
    "plt.title('Thorax tracks')"
   ]
  },
  {
   "cell_type": "markdown",
   "metadata": {
    "id": "jPe_mc-wM8Pd"
   },
   "source": [
    "## More advanced visualizations\n",
    "\n",
    "For some additional analysis, we'll first smooth and differentiate the data with a Savitzky-Golay filter to extract velocities of each joint."
   ]
  },
  {
   "cell_type": "code",
   "execution_count": null,
   "metadata": {
    "id": "IPCHkT1-M8Pd"
   },
   "outputs": [],
   "source": [
    "from scipy.signal import savgol_filter\n",
    "\n",
    "def smooth_diff(node_loc, win=25, poly=3):\n",
    "    \"\"\"\n",
    "    node_loc is a [frames, 2] array\n",
    "    \n",
    "    win defines the window to smooth over\n",
    "    \n",
    "    poly defines the order of the polynomial\n",
    "    to fit with\n",
    "    \n",
    "    \"\"\"\n",
    "    node_loc_vel = np.zeros_like(node_loc)\n",
    "    \n",
    "    for c in range(node_loc.shape[-1]):\n",
    "        node_loc_vel[:, c] = savgol_filter(node_loc[:, c], win, poly, deriv=1)\n",
    "#     return node_loc_vel\n",
    "    \n",
    "    node_vel = np.linalg.norm(node_loc_vel,axis=1)\n",
    "\n",
    "    return node_vel"
   ]
  },
  {
   "cell_type": "code",
   "execution_count": null,
   "metadata": {},
   "outputs": [],
   "source": [
    "def moving_average(a, n=3) :\n",
    "    ret = np.cumsum(a, dtype=float)\n",
    "    ret[n:] = ret[n:] - ret[:-n]\n",
    "    return ret[n - 1:] / n"
   ]
  },
  {
   "cell_type": "markdown",
   "metadata": {
    "id": "Vpq6cw9pM8Pe"
   },
   "source": [
    "There are two flies. Let's get results for each separately."
   ]
  },
  {
   "cell_type": "raw",
   "metadata": {
    "id": "jcRqRSUlM8Pf"
   },
   "source": [
    "thx_vel_mouse_left = smooth_diff(body_part_to_loc[\"thorax\"][:, :, 0])\n",
    "thx_vel_mouse_right = smooth_diff(body_part_to_loc[\"thorax\"][:, :, 1])"
   ]
  },
  {
   "cell_type": "markdown",
   "metadata": {},
   "source": [
    "- We need to multiply one of the x-coordinates for one of the mouse by -1 to account for reflecting side"
   ]
  },
  {
   "cell_type": "code",
   "execution_count": null,
   "metadata": {},
   "outputs": [],
   "source": [
    "thx_vel_mouse_left = moving_average(np.diff(body_part_to_loc[\"thorax\"][:, 0, 0], prepend=body_part_to_loc[\"thorax\"][:, 0, 0][0]), n=3)\n",
    "thx_vel_mouse_right = moving_average(np.diff(-1*body_part_to_loc[\"thorax\"][:, 0, 1], prepend=body_part_to_loc[\"thorax\"][:, 0, 1][0]), n=3)"
   ]
  },
  {
   "cell_type": "code",
   "execution_count": null,
   "metadata": {},
   "outputs": [],
   "source": [
    "thx_vel_mouse_left.shape"
   ]
  },
  {
   "cell_type": "code",
   "execution_count": null,
   "metadata": {},
   "outputs": [],
   "source": [
    "thx_vel_mouse_right.shape"
   ]
  },
  {
   "cell_type": "code",
   "execution_count": null,
   "metadata": {},
   "outputs": [],
   "source": [
    "thx_acc_mouse_left = moving_average(np.diff(thx_vel_mouse_left, prepend=thx_vel_mouse_left[0]), n=1)\n",
    "thx_acc_mouse_right = moving_average(np.diff(thx_vel_mouse_right, prepend=thx_vel_mouse_right[0]), n=1)"
   ]
  },
  {
   "cell_type": "code",
   "execution_count": null,
   "metadata": {},
   "outputs": [],
   "source": [
    "thx_acc_mouse_left.shape"
   ]
  },
  {
   "cell_type": "code",
   "execution_count": null,
   "metadata": {},
   "outputs": [],
   "source": [
    "thx_acc_mouse_right.shape"
   ]
  },
  {
   "cell_type": "markdown",
   "metadata": {},
   "source": [
    "- Thorax Distance"
   ]
  },
  {
   "cell_type": "code",
   "execution_count": null,
   "metadata": {},
   "outputs": [],
   "source": [
    "thx_distance = np.absolute(body_part_to_loc[\"thorax\"][:, 0, 0] - body_part_to_loc[\"thorax\"][:, 0, 1])[1:-1]"
   ]
  },
  {
   "cell_type": "code",
   "execution_count": null,
   "metadata": {},
   "outputs": [],
   "source": [
    "thx_distance.shape"
   ]
  },
  {
   "cell_type": "markdown",
   "metadata": {
    "id": "5CzJhQcPM8Pg"
   },
   "source": [
    "### Visualizing thorax x-y dynamics and velocity for fly 0"
   ]
  },
  {
   "cell_type": "code",
   "execution_count": null,
   "metadata": {},
   "outputs": [],
   "source": [
    "thx_vel_mouse_left[:10]"
   ]
  },
  {
   "cell_type": "code",
   "execution_count": null,
   "metadata": {},
   "outputs": [],
   "source": [
    "fig = plt.figure(figsize=(15,7))\n",
    "ax1 = fig.add_subplot(211)\n",
    "ax1.plot(thx_vel_mouse_left, 'k', label='x')\n",
    "ax1.legend()\n",
    "ax1.set_xticks([])\n",
    "plt.axhline(y=0, color='r', linestyle='-')\n",
    "ax1.set_title('Thorax Velocity')\n"
   ]
  },
  {
   "cell_type": "code",
   "execution_count": null,
   "metadata": {
    "scrolled": true
   },
   "outputs": [],
   "source": [
    "fig = plt.figure(figsize=(15,7))\n",
    "ax1 = fig.add_subplot(211)\n",
    "ax1.plot(thx_acc_mouse_left, 'k', label='x')\n",
    "ax1.legend()\n",
    "ax1.set_xticks([])\n",
    "plt.axhline(y=0, color='r', linestyle='-')\n",
    "ax1.set_title('Thorax Acceleration')\n"
   ]
  },
  {
   "cell_type": "code",
   "execution_count": null,
   "metadata": {},
   "outputs": [],
   "source": [
    "fig = plt.figure(figsize=(15,7))\n",
    "ax1 = fig.add_subplot(211)\n",
    "ax1.plot(thx_vel_mouse_right, 'k', label='x')\n",
    "ax1.legend()\n",
    "ax1.set_xticks([])\n",
    "plt.axhline(y=0, color='r', linestyle='-')\n",
    "ax1.set_title('Thorax Velocity')\n"
   ]
  },
  {
   "cell_type": "code",
   "execution_count": null,
   "metadata": {
    "scrolled": false
   },
   "outputs": [],
   "source": [
    "fig = plt.figure(figsize=(15,7))\n",
    "ax1 = fig.add_subplot(211)\n",
    "ax1.plot(thx_acc_mouse_right, 'k', label='x')\n",
    "ax1.legend()\n",
    "ax1.set_xticks([])\n",
    "plt.axhline(y=0, color='r', linestyle='-')\n",
    "ax1.set_title('Thorax Acceleration')"
   ]
  },
  {
   "cell_type": "markdown",
   "metadata": {},
   "source": [
    "# Penguins Test"
   ]
  },
  {
   "cell_type": "code",
   "execution_count": null,
   "metadata": {},
   "outputs": [],
   "source": [
    "penguins = pd.read_csv(\"https://raw.githubusercontent.com/allisonhorst/palmerpenguins/c19a904462482430170bfe2c718775ddb7dbb885/inst/extdata/penguins.csv\")\n",
    "penguins.head()"
   ]
  },
  {
   "cell_type": "code",
   "execution_count": null,
   "metadata": {},
   "outputs": [],
   "source": [
    "penguin_data = penguins[\n",
    "    [\n",
    "        \"bill_length_mm\",\n",
    "        \"bill_depth_mm\",\n",
    "        \"flipper_length_mm\",\n",
    "        \"body_mass_g\",\n",
    "    ]\n",
    "].values"
   ]
  },
  {
   "cell_type": "code",
   "execution_count": null,
   "metadata": {
    "scrolled": true
   },
   "outputs": [],
   "source": [
    "penguin_data.shape"
   ]
  },
  {
   "cell_type": "markdown",
   "metadata": {},
   "source": [
    "# Clustering with UMAP"
   ]
  },
  {
   "cell_type": "code",
   "execution_count": null,
   "metadata": {},
   "outputs": [],
   "source": [
    "reducer = umap.UMAP()"
   ]
  },
  {
   "cell_type": "code",
   "execution_count": null,
   "metadata": {
    "scrolled": true
   },
   "outputs": [],
   "source": [
    "all_vel_acc = np.vstack([thx_vel_mouse_left, thx_vel_mouse_right, thx_acc_mouse_left, thx_acc_mouse_right, thx_distance]).T\n"
   ]
  },
  {
   "cell_type": "code",
   "execution_count": null,
   "metadata": {},
   "outputs": [],
   "source": [
    "from sklearn.preprocessing import StandardScaler"
   ]
  },
  {
   "cell_type": "code",
   "execution_count": null,
   "metadata": {},
   "outputs": [],
   "source": [
    "scaled_vel_acc = StandardScaler().fit_transform(all_vel_acc)\n"
   ]
  },
  {
   "cell_type": "code",
   "execution_count": null,
   "metadata": {},
   "outputs": [],
   "source": [
    "all_vel_acc.shape"
   ]
  },
  {
   "cell_type": "code",
   "execution_count": null,
   "metadata": {},
   "outputs": [],
   "source": [
    "scaled_vel_acc.shape"
   ]
  },
  {
   "cell_type": "code",
   "execution_count": null,
   "metadata": {},
   "outputs": [],
   "source": [
    "embedding = reducer.fit_transform(scaled_vel_acc)"
   ]
  },
  {
   "cell_type": "code",
   "execution_count": null,
   "metadata": {},
   "outputs": [],
   "source": [
    "embedding.shape"
   ]
  },
  {
   "cell_type": "code",
   "execution_count": null,
   "metadata": {},
   "outputs": [],
   "source": [
    "plt.scatter(\n",
    "    embedding[:, 0],\n",
    "    embedding[:, 1])\n",
    "#     c=[sns.color_palette()[x] for x in penguins.species.map({\"Adelie\":0, \"Chinstrap\":1, \"Gentoo\":2})])\n",
    "plt.gca().set_aspect('equal', 'datalim')\n",
    "plt.title('UMAP projection of the Penguin dataset', fontsize=24);"
   ]
  },
  {
   "cell_type": "code",
   "execution_count": null,
   "metadata": {},
   "outputs": [],
   "source": []
  },
  {
   "cell_type": "code",
   "execution_count": null,
   "metadata": {},
   "outputs": [],
   "source": [
    "from io import BytesIO\n",
    "from PIL import Image\n",
    "import base64"
   ]
  },
  {
   "cell_type": "code",
   "execution_count": null,
   "metadata": {},
   "outputs": [],
   "source": [
    "import cv2\n",
    "from PIL import Image"
   ]
  },
  {
   "cell_type": "markdown",
   "metadata": {},
   "source": [
    "- Putting all the images to file"
   ]
  },
  {
   "cell_type": "code",
   "execution_count": null,
   "metadata": {},
   "outputs": [],
   "source": [
    "video_path=\"./data/cd1_predicted_frames/CAGE4_TUBETEST_1v2.fixed.mp4\""
   ]
  },
  {
   "cell_type": "code",
   "execution_count": null,
   "metadata": {},
   "outputs": [],
   "source": []
  },
  {
   "cell_type": "code",
   "execution_count": null,
   "metadata": {},
   "outputs": [],
   "source": [
    "vidcap = cv2.VideoCapture(video_path)\n",
    "success, image = vidcap.read()\n",
    "image = cv2.resize(image, (0,0), fx=0.5, fy=0.5) \n",
    "count = 0\n",
    "index_to_file_path = {}\n",
    "while success:\n",
    "    try:\n",
    "        index_to_file_path[count] = \"./data/example_frames/frame{}.jpg\".format(count)    \n",
    "        cv2.imwrite(index_to_file_path[count], image)     # save frame as JPEG file      \n",
    "        success, image = vidcap.read()\n",
    "        image = cv2.resize(image, (0,0), fx=0.1, fy=0.1) \n",
    "        count += 1\n",
    "    except:\n",
    "        print(\"error with {}\".format(index_to_file_path[count]))\n"
   ]
  },
  {
   "cell_type": "code",
   "execution_count": null,
   "metadata": {},
   "outputs": [],
   "source": [
    "frame_number = 5"
   ]
  },
  {
   "cell_type": "code",
   "execution_count": null,
   "metadata": {},
   "outputs": [],
   "source": [
    "cap = cv2.VideoCapture(\"./data/cd1_predicted_frames/CAGE4_TUBETEST_1v2.fixed.mp4\")\n",
    "cap.set(cv2.CAP_PROP_POS_FRAMES, frame_number-1)\n",
    "res, frame = cap.read()"
   ]
  },
  {
   "cell_type": "code",
   "execution_count": null,
   "metadata": {},
   "outputs": [],
   "source": [
    "length = int(cap.get(cv2.CAP_PROP_FRAME_COUNT))"
   ]
  },
  {
   "cell_type": "code",
   "execution_count": null,
   "metadata": {},
   "outputs": [],
   "source": [
    "length"
   ]
  },
  {
   "cell_type": "code",
   "execution_count": null,
   "metadata": {
    "scrolled": true
   },
   "outputs": [],
   "source": [
    "Image.fromarray(frame)"
   ]
  },
  {
   "cell_type": "code",
   "execution_count": null,
   "metadata": {},
   "outputs": [],
   "source": [
    "type(Image.fromarray(frame))"
   ]
  },
  {
   "cell_type": "code",
   "execution_count": null,
   "metadata": {},
   "outputs": [],
   "source": [
    "embedding[:,0]"
   ]
  },
  {
   "cell_type": "code",
   "execution_count": null,
   "metadata": {},
   "outputs": [],
   "source": [
    "embedding[:,0].shape[0]"
   ]
  },
  {
   "cell_type": "code",
   "execution_count": null,
   "metadata": {},
   "outputs": [],
   "source": [
    "\"./Screenshotfrom2023-03-1013-06-39.png\""
   ]
  },
  {
   "cell_type": "code",
   "execution_count": null,
   "metadata": {},
   "outputs": [],
   "source": [
    "from bokeh.plotting import figure, output_file, show, ColumnDataSource\n",
    "from bokeh.models import HoverTool\n",
    "\n",
    "output_file(\"toolbar.html\")\n",
    "\n",
    "source = ColumnDataSource(\n",
    "        data=dict(\n",
    "            x=embedding[:,0],\n",
    "            y=embedding[:,1],\n",
    "            imgs = [\"{}\".format(index_to_file_path[index]) for index in range(embedding[:,0].shape[0])]\n",
    "        )\n",
    "    )\n",
    "\n",
    "hover = HoverTool(\n",
    "        tooltips=\"\"\"\n",
    "        <div>\n",
    "            <div>\n",
    "                <img\n",
    "                    src=\"@imgs\" height=\"160\" alt=\"@imgs\" width=\"160\"\n",
    "                    style=\"float: left; margin: 0px 15px 15px 0px;\"\n",
    "                    border=\"2\"\n",
    "                ></img>\n",
    "            </div>\n",
    "            <div>\n",
    "                <span style=\"font-size: 17px; font-weight: bold;\">@desc</span>\n",
    "                <span style=\"font-size: 15px; color: #966;\">[$index]</span>\n",
    "            </div>\n",
    "            <div>\n",
    "                <span style=\"font-size: 15px;\">Location</span>\n",
    "                <span style=\"font-size: 10px; color: #696;\">($x, $y)</span>\n",
    "            </div>\n",
    "        </div>\n",
    "        \"\"\"\n",
    "    )\n",
    "\n",
    "p = figure(tools=[hover],\n",
    "           title=\"Mouse over the dots\")\n",
    "\n",
    "p.circle('x', 'y', size=20, source=source)\n",
    "\n",
    "show(p)"
   ]
  },
  {
   "cell_type": "markdown",
   "metadata": {},
   "source": [
    "# Clustering with all videos"
   ]
  },
  {
   "cell_type": "code",
   "execution_count": null,
   "metadata": {},
   "outputs": [],
   "source": [
    "raise ValueError"
   ]
  },
  {
   "cell_type": "code",
   "execution_count": null,
   "metadata": {},
   "outputs": [],
   "source": [
    "all_file_predicted_coordinates = sorted(glob.glob(\"./data/cd1_predicted_frames/analysis_h5/*.h5\"))"
   ]
  },
  {
   "cell_type": "code",
   "execution_count": null,
   "metadata": {},
   "outputs": [],
   "source": [
    "all_file_videos = sorted(glob.glob(\"./data/cd1_predicted_frames/*.mp4\"))"
   ]
  },
  {
   "cell_type": "code",
   "execution_count": null,
   "metadata": {},
   "outputs": [],
   "source": [
    "all_file_predicted_coordinates[:5]"
   ]
  },
  {
   "cell_type": "code",
   "execution_count": null,
   "metadata": {},
   "outputs": [],
   "source": [
    "all_file_videos[:5]"
   ]
  },
  {
   "cell_type": "code",
   "execution_count": null,
   "metadata": {},
   "outputs": [],
   "source": [
    "video_basename_to_h5_and_video = defaultdict(dict)\n",
    "for video_path in all_file_videos:\n",
    "    video_basename = os.path.basename(video_path)\n",
    "    video_fileroot = video_basename.split(\".\")[0]\n",
    "    video_basename_to_h5_and_video[video_fileroot][\"video_path\"] = video_path\n",
    "    # getting h5 file\n",
    "    video_basename_to_h5_and_video[video_fileroot][\"h5_path\"] = [path for path in all_file_predicted_coordinates if video_fileroot in path][0]"
   ]
  },
  {
   "cell_type": "code",
   "execution_count": null,
   "metadata": {
    "scrolled": true
   },
   "outputs": [],
   "source": [
    "video_basename_to_h5_and_video"
   ]
  }
 ],
 "metadata": {
  "colab": {
   "collapsed_sections": [],
   "name": "Analysis examples.ipynb",
   "provenance": [],
   "toc_visible": true
  },
  "kernelspec": {
   "display_name": "Python 3 (ipykernel)",
   "language": "python",
   "name": "python3"
  },
  "language_info": {
   "codemirror_mode": {
    "name": "ipython",
    "version": 3
   },
   "file_extension": ".py",
   "mimetype": "text/x-python",
   "name": "python",
   "nbconvert_exporter": "python",
   "pygments_lexer": "ipython3",
   "version": "3.9.16"
  }
 },
 "nbformat": 4,
 "nbformat_minor": 4
}

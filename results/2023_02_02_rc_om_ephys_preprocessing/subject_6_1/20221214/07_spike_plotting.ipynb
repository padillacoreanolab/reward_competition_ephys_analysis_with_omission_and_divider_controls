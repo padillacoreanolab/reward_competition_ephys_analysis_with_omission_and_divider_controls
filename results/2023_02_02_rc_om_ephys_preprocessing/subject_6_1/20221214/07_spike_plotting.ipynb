{
 "cells": [
  {
   "cell_type": "markdown",
   "id": "238a6b1a",
   "metadata": {},
   "source": [
    "# Spike Gadgets Ephys and Video Syncing"
   ]
  },
  {
   "cell_type": "code",
   "execution_count": 1,
   "id": "7650e225",
   "metadata": {},
   "outputs": [],
   "source": [
    "import os\n",
    "import re\n",
    "import sys\n",
    "from collections import defaultdict\n",
    "import random\n",
    "from random import randrange\n",
    "import glob\n",
    "import warnings"
   ]
  },
  {
   "cell_type": "code",
   "execution_count": 2,
   "id": "708b2d99",
   "metadata": {},
   "outputs": [],
   "source": [
    "import numpy as np\n",
    "import pandas as pd\n",
    "# import cv2\n",
    "from IPython.display import Video\n",
    "import matplotlib.pyplot as plt"
   ]
  },
  {
   "cell_type": "code",
   "execution_count": 3,
   "id": "a0a6d069",
   "metadata": {},
   "outputs": [],
   "source": [
    "# setting path\n",
    "sys.path.append('../../../src')"
   ]
  },
  {
   "cell_type": "code",
   "execution_count": 4,
   "id": "9a656325",
   "metadata": {},
   "outputs": [],
   "source": [
    "%matplotlib inline"
   ]
  },
  {
   "cell_type": "code",
   "execution_count": 5,
   "id": "0a14db26",
   "metadata": {},
   "outputs": [],
   "source": [
    "import spikeinterface"
   ]
  },
  {
   "cell_type": "code",
   "execution_count": 6,
   "id": "9fddb437",
   "metadata": {},
   "outputs": [
    {
     "name": "stderr",
     "output_type": "stream",
     "text": [
      "/tmp/ipykernel_3230062/634830499.py:3: DeprecationWarning: The 'toolkit' module is deprecated. Use spikeinterface.preprocessing/postptocessing/qualitymetrics instead\n",
      "  import spikeinterface.toolkit as st\n"
     ]
    }
   ],
   "source": [
    "import spikeinterface as si  # import core only\n",
    "import spikeinterface.extractors as se\n",
    "import spikeinterface.toolkit as st\n",
    "import spikeinterface.sorters as ss\n",
    "import spikeinterface.comparison as sc\n",
    "import spikeinterface.widgets as sw"
   ]
  },
  {
   "cell_type": "code",
   "execution_count": 7,
   "id": "bf1f02f5",
   "metadata": {},
   "outputs": [],
   "source": [
    "import spikeinterface.core"
   ]
  },
  {
   "cell_type": "code",
   "execution_count": 8,
   "id": "46a90c07",
   "metadata": {},
   "outputs": [],
   "source": [
    "from probeinterface import get_probe\n",
    "from probeinterface.plotting import plot_probe, plot_probe_group\n",
    "from probeinterface import write_prb, read_prb"
   ]
  },
  {
   "cell_type": "code",
   "execution_count": 9,
   "id": "06c10da3",
   "metadata": {},
   "outputs": [],
   "source": [
    "import spikeinterface.full as si"
   ]
  },
  {
   "cell_type": "markdown",
   "id": "2db623b3",
   "metadata": {},
   "source": [
    "# Reading in the Timestamp Information"
   ]
  },
  {
   "cell_type": "code",
   "execution_count": 10,
   "id": "b909afc9",
   "metadata": {},
   "outputs": [],
   "source": [
    "tone_label_file_ending = \"tone_label_df\""
   ]
  },
  {
   "cell_type": "code",
   "execution_count": 11,
   "id": "3c16a42a",
   "metadata": {},
   "outputs": [],
   "source": [
    "tone_label_path = glob.glob(\"./proc/*{}.csv*\".format(tone_label_file_ending))[0]"
   ]
  },
  {
   "cell_type": "code",
   "execution_count": 12,
   "id": "bfc5f740",
   "metadata": {},
   "outputs": [
    {
     "data": {
      "text/plain": [
       "'./proc/20221214_125409_om_and_comp_6_1_top_1_base_2_vs_6_3_tone_label_df.csv'"
      ]
     },
     "execution_count": 12,
     "metadata": {},
     "output_type": "execute_result"
    }
   ],
   "source": [
    "tone_label_path"
   ]
  },
  {
   "cell_type": "code",
   "execution_count": 13,
   "id": "0b2bb36b",
   "metadata": {},
   "outputs": [],
   "source": [
    "recording_name = os.path.splitext(os.path.basename(tone_label_path))[0].strip(tone_label_file_ending)"
   ]
  },
  {
   "cell_type": "code",
   "execution_count": 14,
   "id": "ce8adb23",
   "metadata": {},
   "outputs": [
    {
     "data": {
      "text/plain": [
       "'20221214_125409_om_and_comp_6_1_top_1_base_2_vs_6_3'"
      ]
     },
     "execution_count": 14,
     "metadata": {},
     "output_type": "execute_result"
    }
   ],
   "source": [
    "recording_name"
   ]
  },
  {
   "cell_type": "code",
   "execution_count": 15,
   "id": "35d7c055",
   "metadata": {},
   "outputs": [],
   "source": [
    "tone_time_stamps_df = pd.read_csv(tone_label_path, index_col=0)"
   ]
  },
  {
   "cell_type": "code",
   "execution_count": 16,
   "id": "4970692c",
   "metadata": {},
   "outputs": [
    {
     "data": {
      "text/html": [
       "<div>\n",
       "<style scoped>\n",
       "    .dataframe tbody tr th:only-of-type {\n",
       "        vertical-align: middle;\n",
       "    }\n",
       "\n",
       "    .dataframe tbody tr th {\n",
       "        vertical-align: top;\n",
       "    }\n",
       "\n",
       "    .dataframe thead th {\n",
       "        text-align: right;\n",
       "    }\n",
       "</style>\n",
       "<table border=\"1\" class=\"dataframe\">\n",
       "  <thead>\n",
       "    <tr style=\"text-align: right;\">\n",
       "      <th></th>\n",
       "      <th>tone_time_stamp</th>\n",
       "      <th>tone_category</th>\n",
       "      <th>tone_clock_time_omission</th>\n",
       "      <th>tone_clock_time_comp</th>\n",
       "    </tr>\n",
       "  </thead>\n",
       "  <tbody>\n",
       "    <tr>\n",
       "      <th>0</th>\n",
       "      <td>1408048</td>\n",
       "      <td>rewarded</td>\n",
       "      <td>60.40240</td>\n",
       "      <td>-1269.52745</td>\n",
       "    </tr>\n",
       "    <tr>\n",
       "      <th>1</th>\n",
       "      <td>3008051</td>\n",
       "      <td>rewarded</td>\n",
       "      <td>140.40255</td>\n",
       "      <td>-1189.52730</td>\n",
       "    </tr>\n",
       "    <tr>\n",
       "      <th>2</th>\n",
       "      <td>4808043</td>\n",
       "      <td>rewarded</td>\n",
       "      <td>230.40215</td>\n",
       "      <td>-1099.52770</td>\n",
       "    </tr>\n",
       "    <tr>\n",
       "      <th>3</th>\n",
       "      <td>6408042</td>\n",
       "      <td>omission</td>\n",
       "      <td>310.40210</td>\n",
       "      <td>-1019.52775</td>\n",
       "    </tr>\n",
       "    <tr>\n",
       "      <th>4</th>\n",
       "      <td>7908040</td>\n",
       "      <td>rewarded</td>\n",
       "      <td>385.40200</td>\n",
       "      <td>-944.52785</td>\n",
       "    </tr>\n",
       "    <tr>\n",
       "      <th>5</th>\n",
       "      <td>9908037</td>\n",
       "      <td>rewarded</td>\n",
       "      <td>485.40185</td>\n",
       "      <td>-844.52800</td>\n",
       "    </tr>\n",
       "    <tr>\n",
       "      <th>6</th>\n",
       "      <td>11808035</td>\n",
       "      <td>rewarded</td>\n",
       "      <td>580.40175</td>\n",
       "      <td>-749.52810</td>\n",
       "    </tr>\n",
       "    <tr>\n",
       "      <th>7</th>\n",
       "      <td>13608031</td>\n",
       "      <td>rewarded</td>\n",
       "      <td>670.40155</td>\n",
       "      <td>-659.52830</td>\n",
       "    </tr>\n",
       "    <tr>\n",
       "      <th>8</th>\n",
       "      <td>15208032</td>\n",
       "      <td>omission</td>\n",
       "      <td>750.40160</td>\n",
       "      <td>-579.52825</td>\n",
       "    </tr>\n",
       "    <tr>\n",
       "      <th>9</th>\n",
       "      <td>17008029</td>\n",
       "      <td>rewarded</td>\n",
       "      <td>840.40145</td>\n",
       "      <td>-489.52840</td>\n",
       "    </tr>\n",
       "    <tr>\n",
       "      <th>10</th>\n",
       "      <td>19008027</td>\n",
       "      <td>rewarded</td>\n",
       "      <td>940.40135</td>\n",
       "      <td>-389.52850</td>\n",
       "    </tr>\n",
       "    <tr>\n",
       "      <th>11</th>\n",
       "      <td>20808026</td>\n",
       "      <td>omission</td>\n",
       "      <td>1030.40130</td>\n",
       "      <td>-299.52855</td>\n",
       "    </tr>\n",
       "    <tr>\n",
       "      <th>12</th>\n",
       "      <td>23208023</td>\n",
       "      <td>rewarded</td>\n",
       "      <td>1150.40115</td>\n",
       "      <td>-179.52870</td>\n",
       "    </tr>\n",
       "    <tr>\n",
       "      <th>13</th>\n",
       "      <td>25008021</td>\n",
       "      <td>rewarded</td>\n",
       "      <td>1240.40105</td>\n",
       "      <td>-89.52880</td>\n",
       "    </tr>\n",
       "    <tr>\n",
       "      <th>14</th>\n",
       "      <td>27998597</td>\n",
       "      <td>loss</td>\n",
       "      <td>1389.92985</td>\n",
       "      <td>60.00000</td>\n",
       "    </tr>\n",
       "    <tr>\n",
       "      <th>15</th>\n",
       "      <td>29598593</td>\n",
       "      <td>win</td>\n",
       "      <td>1469.92965</td>\n",
       "      <td>139.99980</td>\n",
       "    </tr>\n",
       "    <tr>\n",
       "      <th>16</th>\n",
       "      <td>31398591</td>\n",
       "      <td>win</td>\n",
       "      <td>1559.92955</td>\n",
       "      <td>229.99970</td>\n",
       "    </tr>\n",
       "    <tr>\n",
       "      <th>17</th>\n",
       "      <td>32998593</td>\n",
       "      <td>win</td>\n",
       "      <td>1639.92965</td>\n",
       "      <td>309.99980</td>\n",
       "    </tr>\n",
       "    <tr>\n",
       "      <th>18</th>\n",
       "      <td>34498591</td>\n",
       "      <td>win</td>\n",
       "      <td>1714.92955</td>\n",
       "      <td>384.99970</td>\n",
       "    </tr>\n",
       "    <tr>\n",
       "      <th>19</th>\n",
       "      <td>36498588</td>\n",
       "      <td>win</td>\n",
       "      <td>1814.92940</td>\n",
       "      <td>484.99955</td>\n",
       "    </tr>\n",
       "    <tr>\n",
       "      <th>20</th>\n",
       "      <td>38398586</td>\n",
       "      <td>win</td>\n",
       "      <td>1909.92930</td>\n",
       "      <td>579.99945</td>\n",
       "    </tr>\n",
       "    <tr>\n",
       "      <th>21</th>\n",
       "      <td>40198584</td>\n",
       "      <td>win</td>\n",
       "      <td>1999.92920</td>\n",
       "      <td>669.99935</td>\n",
       "    </tr>\n",
       "    <tr>\n",
       "      <th>22</th>\n",
       "      <td>41798580</td>\n",
       "      <td>win</td>\n",
       "      <td>2079.92900</td>\n",
       "      <td>749.99915</td>\n",
       "    </tr>\n",
       "    <tr>\n",
       "      <th>23</th>\n",
       "      <td>43598581</td>\n",
       "      <td>win</td>\n",
       "      <td>2169.92905</td>\n",
       "      <td>839.99920</td>\n",
       "    </tr>\n",
       "    <tr>\n",
       "      <th>24</th>\n",
       "      <td>45598579</td>\n",
       "      <td>win</td>\n",
       "      <td>2269.92895</td>\n",
       "      <td>939.99910</td>\n",
       "    </tr>\n",
       "    <tr>\n",
       "      <th>25</th>\n",
       "      <td>47398577</td>\n",
       "      <td>win</td>\n",
       "      <td>2359.92885</td>\n",
       "      <td>1029.99900</td>\n",
       "    </tr>\n",
       "    <tr>\n",
       "      <th>26</th>\n",
       "      <td>49798572</td>\n",
       "      <td>loss</td>\n",
       "      <td>2479.92860</td>\n",
       "      <td>1149.99875</td>\n",
       "    </tr>\n",
       "    <tr>\n",
       "      <th>27</th>\n",
       "      <td>51598570</td>\n",
       "      <td>loss</td>\n",
       "      <td>2569.92850</td>\n",
       "      <td>1239.99865</td>\n",
       "    </tr>\n",
       "    <tr>\n",
       "      <th>28</th>\n",
       "      <td>53298568</td>\n",
       "      <td>loss</td>\n",
       "      <td>2654.92840</td>\n",
       "      <td>1324.99855</td>\n",
       "    </tr>\n",
       "    <tr>\n",
       "      <th>29</th>\n",
       "      <td>55098566</td>\n",
       "      <td>loss</td>\n",
       "      <td>2744.92830</td>\n",
       "      <td>1414.99845</td>\n",
       "    </tr>\n",
       "    <tr>\n",
       "      <th>30</th>\n",
       "      <td>56998564</td>\n",
       "      <td>win</td>\n",
       "      <td>2839.92820</td>\n",
       "      <td>1509.99835</td>\n",
       "    </tr>\n",
       "    <tr>\n",
       "      <th>31</th>\n",
       "      <td>59398564</td>\n",
       "      <td>loss</td>\n",
       "      <td>2959.92820</td>\n",
       "      <td>1629.99835</td>\n",
       "    </tr>\n",
       "    <tr>\n",
       "      <th>32</th>\n",
       "      <td>60998563</td>\n",
       "      <td>loss</td>\n",
       "      <td>3039.92815</td>\n",
       "      <td>1709.99830</td>\n",
       "    </tr>\n",
       "  </tbody>\n",
       "</table>\n",
       "</div>"
      ],
      "text/plain": [
       "    tone_time_stamp tone_category  tone_clock_time_omission  \\\n",
       "0           1408048      rewarded                  60.40240   \n",
       "1           3008051      rewarded                 140.40255   \n",
       "2           4808043      rewarded                 230.40215   \n",
       "3           6408042      omission                 310.40210   \n",
       "4           7908040      rewarded                 385.40200   \n",
       "5           9908037      rewarded                 485.40185   \n",
       "6          11808035      rewarded                 580.40175   \n",
       "7          13608031      rewarded                 670.40155   \n",
       "8          15208032      omission                 750.40160   \n",
       "9          17008029      rewarded                 840.40145   \n",
       "10         19008027      rewarded                 940.40135   \n",
       "11         20808026      omission                1030.40130   \n",
       "12         23208023      rewarded                1150.40115   \n",
       "13         25008021      rewarded                1240.40105   \n",
       "14         27998597          loss                1389.92985   \n",
       "15         29598593           win                1469.92965   \n",
       "16         31398591           win                1559.92955   \n",
       "17         32998593           win                1639.92965   \n",
       "18         34498591           win                1714.92955   \n",
       "19         36498588           win                1814.92940   \n",
       "20         38398586           win                1909.92930   \n",
       "21         40198584           win                1999.92920   \n",
       "22         41798580           win                2079.92900   \n",
       "23         43598581           win                2169.92905   \n",
       "24         45598579           win                2269.92895   \n",
       "25         47398577           win                2359.92885   \n",
       "26         49798572          loss                2479.92860   \n",
       "27         51598570          loss                2569.92850   \n",
       "28         53298568          loss                2654.92840   \n",
       "29         55098566          loss                2744.92830   \n",
       "30         56998564           win                2839.92820   \n",
       "31         59398564          loss                2959.92820   \n",
       "32         60998563          loss                3039.92815   \n",
       "\n",
       "    tone_clock_time_comp  \n",
       "0            -1269.52745  \n",
       "1            -1189.52730  \n",
       "2            -1099.52770  \n",
       "3            -1019.52775  \n",
       "4             -944.52785  \n",
       "5             -844.52800  \n",
       "6             -749.52810  \n",
       "7             -659.52830  \n",
       "8             -579.52825  \n",
       "9             -489.52840  \n",
       "10            -389.52850  \n",
       "11            -299.52855  \n",
       "12            -179.52870  \n",
       "13             -89.52880  \n",
       "14              60.00000  \n",
       "15             139.99980  \n",
       "16             229.99970  \n",
       "17             309.99980  \n",
       "18             384.99970  \n",
       "19             484.99955  \n",
       "20             579.99945  \n",
       "21             669.99935  \n",
       "22             749.99915  \n",
       "23             839.99920  \n",
       "24             939.99910  \n",
       "25            1029.99900  \n",
       "26            1149.99875  \n",
       "27            1239.99865  \n",
       "28            1324.99855  \n",
       "29            1414.99845  \n",
       "30            1509.99835  \n",
       "31            1629.99835  \n",
       "32            1709.99830  "
      ]
     },
     "execution_count": 16,
     "metadata": {},
     "output_type": "execute_result"
    }
   ],
   "source": [
    "tone_time_stamps_df"
   ]
  },
  {
   "cell_type": "markdown",
   "id": "83748a43",
   "metadata": {},
   "source": [
    "# Reading in Phy"
   ]
  },
  {
   "cell_type": "markdown",
   "id": "c232c0a1",
   "metadata": {},
   "source": [
    "- Which unit the spike came from"
   ]
  },
  {
   "cell_type": "code",
   "execution_count": 17,
   "id": "56a4f6d6",
   "metadata": {},
   "outputs": [],
   "source": [
    "spike_clusters_path = glob.glob(\"./proc/**/phy/spike_clusters.npy\", recursive=True)[0]"
   ]
  },
  {
   "cell_type": "code",
   "execution_count": 18,
   "id": "aacbb9d7",
   "metadata": {},
   "outputs": [
    {
     "data": {
      "text/plain": [
       "'.'"
      ]
     },
     "execution_count": 18,
     "metadata": {},
     "output_type": "execute_result"
    }
   ],
   "source": [
    "spike_clusters_path[0]"
   ]
  },
  {
   "cell_type": "code",
   "execution_count": 19,
   "id": "bb561ed6",
   "metadata": {},
   "outputs": [],
   "source": [
    "spike_clusters = np.load(spike_clusters_path)"
   ]
  },
  {
   "cell_type": "code",
   "execution_count": 20,
   "id": "5989cef7",
   "metadata": {},
   "outputs": [
    {
     "data": {
      "text/plain": [
       "array([ 39, 170,  60,  60,  88, 183,  19,  67, 174,  20], dtype=int32)"
      ]
     },
     "execution_count": 20,
     "metadata": {},
     "output_type": "execute_result"
    }
   ],
   "source": [
    "spike_clusters[:10]"
   ]
  },
  {
   "cell_type": "markdown",
   "id": "c6570be1",
   "metadata": {},
   "source": [
    "- The classification of each unit"
   ]
  },
  {
   "cell_type": "code",
   "execution_count": 21,
   "id": "dcfe4435",
   "metadata": {},
   "outputs": [],
   "source": [
    "cluster_info_path = glob.glob(\"./proc/**/phy/cluster_info.tsv\", recursive=True)[0]"
   ]
  },
  {
   "cell_type": "code",
   "execution_count": 22,
   "id": "8406e0f4",
   "metadata": {},
   "outputs": [],
   "source": [
    "cluster_group_df = pd.read_csv(cluster_info_path, sep=\"\\t\")"
   ]
  },
  {
   "cell_type": "code",
   "execution_count": 23,
   "id": "c0ccd932",
   "metadata": {},
   "outputs": [
    {
     "data": {
      "text/html": [
       "<div>\n",
       "<style scoped>\n",
       "    .dataframe tbody tr th:only-of-type {\n",
       "        vertical-align: middle;\n",
       "    }\n",
       "\n",
       "    .dataframe tbody tr th {\n",
       "        vertical-align: top;\n",
       "    }\n",
       "\n",
       "    .dataframe thead th {\n",
       "        text-align: right;\n",
       "    }\n",
       "</style>\n",
       "<table border=\"1\" class=\"dataframe\">\n",
       "  <thead>\n",
       "    <tr style=\"text-align: right;\">\n",
       "      <th></th>\n",
       "      <th>cluster_id</th>\n",
       "      <th>amp</th>\n",
       "      <th>ch</th>\n",
       "      <th>channel_group</th>\n",
       "      <th>depth</th>\n",
       "      <th>fr</th>\n",
       "      <th>group</th>\n",
       "      <th>n_spikes</th>\n",
       "      <th>sh</th>\n",
       "      <th>si_unit_id</th>\n",
       "    </tr>\n",
       "  </thead>\n",
       "  <tbody>\n",
       "    <tr>\n",
       "      <th>0</th>\n",
       "      <td>0</td>\n",
       "      <td>427.0</td>\n",
       "      <td>0</td>\n",
       "      <td>0.0</td>\n",
       "      <td>0.0</td>\n",
       "      <td>0.263283</td>\n",
       "      <td>noise</td>\n",
       "      <td>844</td>\n",
       "      <td>0</td>\n",
       "      <td>1.0</td>\n",
       "    </tr>\n",
       "    <tr>\n",
       "      <th>1</th>\n",
       "      <td>2</td>\n",
       "      <td>188.0</td>\n",
       "      <td>1</td>\n",
       "      <td>0.0</td>\n",
       "      <td>20.0</td>\n",
       "      <td>1.147027</td>\n",
       "      <td>mua</td>\n",
       "      <td>3677</td>\n",
       "      <td>0</td>\n",
       "      <td>3.0</td>\n",
       "    </tr>\n",
       "    <tr>\n",
       "      <th>2</th>\n",
       "      <td>3</td>\n",
       "      <td>193.0</td>\n",
       "      <td>1</td>\n",
       "      <td>0.0</td>\n",
       "      <td>20.0</td>\n",
       "      <td>0.859724</td>\n",
       "      <td>noise</td>\n",
       "      <td>2756</td>\n",
       "      <td>0</td>\n",
       "      <td>4.0</td>\n",
       "    </tr>\n",
       "    <tr>\n",
       "      <th>3</th>\n",
       "      <td>4</td>\n",
       "      <td>871.0</td>\n",
       "      <td>2</td>\n",
       "      <td>0.0</td>\n",
       "      <td>40.0</td>\n",
       "      <td>12.211762</td>\n",
       "      <td>mua</td>\n",
       "      <td>39147</td>\n",
       "      <td>0</td>\n",
       "      <td>5.0</td>\n",
       "    </tr>\n",
       "    <tr>\n",
       "      <th>4</th>\n",
       "      <td>5</td>\n",
       "      <td>504.0</td>\n",
       "      <td>2</td>\n",
       "      <td>0.0</td>\n",
       "      <td>40.0</td>\n",
       "      <td>3.960782</td>\n",
       "      <td>mua</td>\n",
       "      <td>12697</td>\n",
       "      <td>0</td>\n",
       "      <td>6.0</td>\n",
       "    </tr>\n",
       "    <tr>\n",
       "      <th>...</th>\n",
       "      <td>...</td>\n",
       "      <td>...</td>\n",
       "      <td>...</td>\n",
       "      <td>...</td>\n",
       "      <td>...</td>\n",
       "      <td>...</td>\n",
       "      <td>...</td>\n",
       "      <td>...</td>\n",
       "      <td>...</td>\n",
       "      <td>...</td>\n",
       "    </tr>\n",
       "    <tr>\n",
       "      <th>93</th>\n",
       "      <td>183</td>\n",
       "      <td>932.0</td>\n",
       "      <td>29</td>\n",
       "      <td>0.0</td>\n",
       "      <td>580.0</td>\n",
       "      <td>9.470066</td>\n",
       "      <td>good</td>\n",
       "      <td>30358</td>\n",
       "      <td>0</td>\n",
       "      <td>73.0</td>\n",
       "    </tr>\n",
       "    <tr>\n",
       "      <th>94</th>\n",
       "      <td>187</td>\n",
       "      <td>568.0</td>\n",
       "      <td>6</td>\n",
       "      <td>0.0</td>\n",
       "      <td>120.0</td>\n",
       "      <td>0.096079</td>\n",
       "      <td>mua</td>\n",
       "      <td>308</td>\n",
       "      <td>0</td>\n",
       "      <td>19.0</td>\n",
       "    </tr>\n",
       "    <tr>\n",
       "      <th>95</th>\n",
       "      <td>188</td>\n",
       "      <td>568.0</td>\n",
       "      <td>6</td>\n",
       "      <td>0.0</td>\n",
       "      <td>120.0</td>\n",
       "      <td>0.664446</td>\n",
       "      <td>good</td>\n",
       "      <td>2130</td>\n",
       "      <td>0</td>\n",
       "      <td>19.0</td>\n",
       "    </tr>\n",
       "    <tr>\n",
       "      <th>96</th>\n",
       "      <td>197</td>\n",
       "      <td>932.0</td>\n",
       "      <td>29</td>\n",
       "      <td>0.0</td>\n",
       "      <td>580.0</td>\n",
       "      <td>0.351563</td>\n",
       "      <td>mua</td>\n",
       "      <td>1127</td>\n",
       "      <td>0</td>\n",
       "      <td>73.0</td>\n",
       "    </tr>\n",
       "    <tr>\n",
       "      <th>97</th>\n",
       "      <td>198</td>\n",
       "      <td>932.0</td>\n",
       "      <td>29</td>\n",
       "      <td>0.0</td>\n",
       "      <td>580.0</td>\n",
       "      <td>0.006551</td>\n",
       "      <td>mua</td>\n",
       "      <td>21</td>\n",
       "      <td>0</td>\n",
       "      <td>73.0</td>\n",
       "    </tr>\n",
       "  </tbody>\n",
       "</table>\n",
       "<p>98 rows × 10 columns</p>\n",
       "</div>"
      ],
      "text/plain": [
       "    cluster_id    amp  ch  channel_group  depth         fr  group  n_spikes  \\\n",
       "0            0  427.0   0            0.0    0.0   0.263283  noise       844   \n",
       "1            2  188.0   1            0.0   20.0   1.147027    mua      3677   \n",
       "2            3  193.0   1            0.0   20.0   0.859724  noise      2756   \n",
       "3            4  871.0   2            0.0   40.0  12.211762    mua     39147   \n",
       "4            5  504.0   2            0.0   40.0   3.960782    mua     12697   \n",
       "..         ...    ...  ..            ...    ...        ...    ...       ...   \n",
       "93         183  932.0  29            0.0  580.0   9.470066   good     30358   \n",
       "94         187  568.0   6            0.0  120.0   0.096079    mua       308   \n",
       "95         188  568.0   6            0.0  120.0   0.664446   good      2130   \n",
       "96         197  932.0  29            0.0  580.0   0.351563    mua      1127   \n",
       "97         198  932.0  29            0.0  580.0   0.006551    mua        21   \n",
       "\n",
       "    sh  si_unit_id  \n",
       "0    0         1.0  \n",
       "1    0         3.0  \n",
       "2    0         4.0  \n",
       "3    0         5.0  \n",
       "4    0         6.0  \n",
       "..  ..         ...  \n",
       "93   0        73.0  \n",
       "94   0        19.0  \n",
       "95   0        19.0  \n",
       "96   0        73.0  \n",
       "97   0        73.0  \n",
       "\n",
       "[98 rows x 10 columns]"
      ]
     },
     "execution_count": 23,
     "metadata": {},
     "output_type": "execute_result"
    }
   ],
   "source": [
    "cluster_group_df"
   ]
  },
  {
   "cell_type": "markdown",
   "id": "996eab81",
   "metadata": {},
   "source": [
    "- Filtering for the good units"
   ]
  },
  {
   "cell_type": "code",
   "execution_count": 24,
   "id": "8e4cf4f9",
   "metadata": {},
   "outputs": [],
   "source": [
    "good_unit_cluster_info_df = cluster_group_df[cluster_group_df[\"group\"] == \"good\"]"
   ]
  },
  {
   "cell_type": "code",
   "execution_count": 25,
   "id": "0b025678",
   "metadata": {},
   "outputs": [
    {
     "data": {
      "text/html": [
       "<div>\n",
       "<style scoped>\n",
       "    .dataframe tbody tr th:only-of-type {\n",
       "        vertical-align: middle;\n",
       "    }\n",
       "\n",
       "    .dataframe tbody tr th {\n",
       "        vertical-align: top;\n",
       "    }\n",
       "\n",
       "    .dataframe thead th {\n",
       "        text-align: right;\n",
       "    }\n",
       "</style>\n",
       "<table border=\"1\" class=\"dataframe\">\n",
       "  <thead>\n",
       "    <tr style=\"text-align: right;\">\n",
       "      <th></th>\n",
       "      <th>cluster_id</th>\n",
       "      <th>amp</th>\n",
       "      <th>ch</th>\n",
       "      <th>channel_group</th>\n",
       "      <th>depth</th>\n",
       "      <th>fr</th>\n",
       "      <th>group</th>\n",
       "      <th>n_spikes</th>\n",
       "      <th>sh</th>\n",
       "      <th>si_unit_id</th>\n",
       "    </tr>\n",
       "  </thead>\n",
       "  <tbody>\n",
       "    <tr>\n",
       "      <th>15</th>\n",
       "      <td>16</td>\n",
       "      <td>1147.5</td>\n",
       "      <td>6</td>\n",
       "      <td>0.0</td>\n",
       "      <td>120.0</td>\n",
       "      <td>0.864403</td>\n",
       "      <td>good</td>\n",
       "      <td>2771</td>\n",
       "      <td>0</td>\n",
       "      <td>17.0</td>\n",
       "    </tr>\n",
       "    <tr>\n",
       "      <th>18</th>\n",
       "      <td>20</td>\n",
       "      <td>1113.0</td>\n",
       "      <td>7</td>\n",
       "      <td>0.0</td>\n",
       "      <td>140.0</td>\n",
       "      <td>5.995296</td>\n",
       "      <td>good</td>\n",
       "      <td>19219</td>\n",
       "      <td>0</td>\n",
       "      <td>21.0</td>\n",
       "    </tr>\n",
       "    <tr>\n",
       "      <th>22</th>\n",
       "      <td>24</td>\n",
       "      <td>1206.0</td>\n",
       "      <td>9</td>\n",
       "      <td>0.0</td>\n",
       "      <td>180.0</td>\n",
       "      <td>5.371091</td>\n",
       "      <td>good</td>\n",
       "      <td>17218</td>\n",
       "      <td>0</td>\n",
       "      <td>25.0</td>\n",
       "    </tr>\n",
       "    <tr>\n",
       "      <th>35</th>\n",
       "      <td>50</td>\n",
       "      <td>1644.0</td>\n",
       "      <td>21</td>\n",
       "      <td>0.0</td>\n",
       "      <td>420.0</td>\n",
       "      <td>1.107409</td>\n",
       "      <td>good</td>\n",
       "      <td>3550</td>\n",
       "      <td>0</td>\n",
       "      <td>51.0</td>\n",
       "    </tr>\n",
       "    <tr>\n",
       "      <th>36</th>\n",
       "      <td>52</td>\n",
       "      <td>870.0</td>\n",
       "      <td>21</td>\n",
       "      <td>0.0</td>\n",
       "      <td>420.0</td>\n",
       "      <td>1.168551</td>\n",
       "      <td>good</td>\n",
       "      <td>3746</td>\n",
       "      <td>0</td>\n",
       "      <td>53.0</td>\n",
       "    </tr>\n",
       "    <tr>\n",
       "      <th>38</th>\n",
       "      <td>54</td>\n",
       "      <td>448.5</td>\n",
       "      <td>22</td>\n",
       "      <td>0.0</td>\n",
       "      <td>440.0</td>\n",
       "      <td>7.901600</td>\n",
       "      <td>good</td>\n",
       "      <td>25330</td>\n",
       "      <td>0</td>\n",
       "      <td>55.0</td>\n",
       "    </tr>\n",
       "    <tr>\n",
       "      <th>43</th>\n",
       "      <td>59</td>\n",
       "      <td>253.0</td>\n",
       "      <td>24</td>\n",
       "      <td>0.0</td>\n",
       "      <td>480.0</td>\n",
       "      <td>1.836116</td>\n",
       "      <td>good</td>\n",
       "      <td>5886</td>\n",
       "      <td>0</td>\n",
       "      <td>60.0</td>\n",
       "    </tr>\n",
       "    <tr>\n",
       "      <th>47</th>\n",
       "      <td>64</td>\n",
       "      <td>633.0</td>\n",
       "      <td>26</td>\n",
       "      <td>0.0</td>\n",
       "      <td>520.0</td>\n",
       "      <td>2.901412</td>\n",
       "      <td>good</td>\n",
       "      <td>9301</td>\n",
       "      <td>0</td>\n",
       "      <td>65.0</td>\n",
       "    </tr>\n",
       "    <tr>\n",
       "      <th>81</th>\n",
       "      <td>156</td>\n",
       "      <td>440.0</td>\n",
       "      <td>19</td>\n",
       "      <td>0.0</td>\n",
       "      <td>380.0</td>\n",
       "      <td>0.868770</td>\n",
       "      <td>good</td>\n",
       "      <td>2785</td>\n",
       "      <td>0</td>\n",
       "      <td>47.0</td>\n",
       "    </tr>\n",
       "    <tr>\n",
       "      <th>84</th>\n",
       "      <td>163</td>\n",
       "      <td>542.0</td>\n",
       "      <td>21</td>\n",
       "      <td>0.0</td>\n",
       "      <td>420.0</td>\n",
       "      <td>1.598101</td>\n",
       "      <td>good</td>\n",
       "      <td>5123</td>\n",
       "      <td>0</td>\n",
       "      <td>52.0</td>\n",
       "    </tr>\n",
       "    <tr>\n",
       "      <th>91</th>\n",
       "      <td>174</td>\n",
       "      <td>932.0</td>\n",
       "      <td>29</td>\n",
       "      <td>0.0</td>\n",
       "      <td>580.0</td>\n",
       "      <td>13.647338</td>\n",
       "      <td>good</td>\n",
       "      <td>43749</td>\n",
       "      <td>0</td>\n",
       "      <td>73.0</td>\n",
       "    </tr>\n",
       "    <tr>\n",
       "      <th>92</th>\n",
       "      <td>182</td>\n",
       "      <td>269.0</td>\n",
       "      <td>30</td>\n",
       "      <td>0.0</td>\n",
       "      <td>600.0</td>\n",
       "      <td>0.453258</td>\n",
       "      <td>good</td>\n",
       "      <td>1453</td>\n",
       "      <td>0</td>\n",
       "      <td>74.0</td>\n",
       "    </tr>\n",
       "    <tr>\n",
       "      <th>93</th>\n",
       "      <td>183</td>\n",
       "      <td>932.0</td>\n",
       "      <td>29</td>\n",
       "      <td>0.0</td>\n",
       "      <td>580.0</td>\n",
       "      <td>9.470066</td>\n",
       "      <td>good</td>\n",
       "      <td>30358</td>\n",
       "      <td>0</td>\n",
       "      <td>73.0</td>\n",
       "    </tr>\n",
       "    <tr>\n",
       "      <th>95</th>\n",
       "      <td>188</td>\n",
       "      <td>568.0</td>\n",
       "      <td>6</td>\n",
       "      <td>0.0</td>\n",
       "      <td>120.0</td>\n",
       "      <td>0.664446</td>\n",
       "      <td>good</td>\n",
       "      <td>2130</td>\n",
       "      <td>0</td>\n",
       "      <td>19.0</td>\n",
       "    </tr>\n",
       "  </tbody>\n",
       "</table>\n",
       "</div>"
      ],
      "text/plain": [
       "    cluster_id     amp  ch  channel_group  depth         fr group  n_spikes  \\\n",
       "15          16  1147.5   6            0.0  120.0   0.864403  good      2771   \n",
       "18          20  1113.0   7            0.0  140.0   5.995296  good     19219   \n",
       "22          24  1206.0   9            0.0  180.0   5.371091  good     17218   \n",
       "35          50  1644.0  21            0.0  420.0   1.107409  good      3550   \n",
       "36          52   870.0  21            0.0  420.0   1.168551  good      3746   \n",
       "38          54   448.5  22            0.0  440.0   7.901600  good     25330   \n",
       "43          59   253.0  24            0.0  480.0   1.836116  good      5886   \n",
       "47          64   633.0  26            0.0  520.0   2.901412  good      9301   \n",
       "81         156   440.0  19            0.0  380.0   0.868770  good      2785   \n",
       "84         163   542.0  21            0.0  420.0   1.598101  good      5123   \n",
       "91         174   932.0  29            0.0  580.0  13.647338  good     43749   \n",
       "92         182   269.0  30            0.0  600.0   0.453258  good      1453   \n",
       "93         183   932.0  29            0.0  580.0   9.470066  good     30358   \n",
       "95         188   568.0   6            0.0  120.0   0.664446  good      2130   \n",
       "\n",
       "    sh  si_unit_id  \n",
       "15   0        17.0  \n",
       "18   0        21.0  \n",
       "22   0        25.0  \n",
       "35   0        51.0  \n",
       "36   0        53.0  \n",
       "38   0        55.0  \n",
       "43   0        60.0  \n",
       "47   0        65.0  \n",
       "81   0        47.0  \n",
       "84   0        52.0  \n",
       "91   0        73.0  \n",
       "92   0        74.0  \n",
       "93   0        73.0  \n",
       "95   0        19.0  "
      ]
     },
     "execution_count": 25,
     "metadata": {},
     "output_type": "execute_result"
    }
   ],
   "source": [
    "good_unit_cluster_info_df"
   ]
  },
  {
   "cell_type": "code",
   "execution_count": 26,
   "id": "34f115c5",
   "metadata": {},
   "outputs": [],
   "source": [
    "good_unit_unique_ids = good_unit_cluster_info_df[\"cluster_id\"].values"
   ]
  },
  {
   "cell_type": "code",
   "execution_count": 27,
   "id": "689f0a11",
   "metadata": {},
   "outputs": [
    {
     "data": {
      "text/plain": [
       "array([ 16,  20,  24,  50,  52,  54,  59,  64, 156, 163, 174, 182, 183,\n",
       "       188])"
      ]
     },
     "execution_count": 27,
     "metadata": {},
     "output_type": "execute_result"
    }
   ],
   "source": [
    "good_unit_unique_ids"
   ]
  },
  {
   "cell_type": "markdown",
   "id": "8df40705",
   "metadata": {},
   "source": [
    "- The times that all the spikes happened"
   ]
  },
  {
   "cell_type": "code",
   "execution_count": 28,
   "id": "da137975",
   "metadata": {},
   "outputs": [],
   "source": [
    "spike_time_path = glob.glob(\"./proc/**/phy/spike_times.npy\", recursive=True)[0]"
   ]
  },
  {
   "cell_type": "code",
   "execution_count": 29,
   "id": "dce0df0b",
   "metadata": {},
   "outputs": [],
   "source": [
    "spike_times = np.load(spike_time_path)"
   ]
  },
  {
   "cell_type": "code",
   "execution_count": 30,
   "id": "f75b9c7b",
   "metadata": {
    "scrolled": true
   },
   "outputs": [
    {
     "data": {
      "text/plain": [
       "array([[ 11],\n",
       "       [ 89],\n",
       "       [143],\n",
       "       [178],\n",
       "       [215],\n",
       "       [260],\n",
       "       [309],\n",
       "       [344],\n",
       "       [413],\n",
       "       [487]])"
      ]
     },
     "execution_count": 30,
     "metadata": {},
     "output_type": "execute_result"
    }
   ],
   "source": [
    "spike_times[:10]"
   ]
  },
  {
   "cell_type": "markdown",
   "id": "64f332f2",
   "metadata": {},
   "source": [
    "- Getting a list of the IDs that were good from the list of unit ids for all the firings"
   ]
  },
  {
   "cell_type": "code",
   "execution_count": 31,
   "id": "587f7955",
   "metadata": {},
   "outputs": [],
   "source": [
    "good_unit_mask = np.isin(spike_clusters, good_unit_unique_ids)"
   ]
  },
  {
   "cell_type": "code",
   "execution_count": 32,
   "id": "aed7d410",
   "metadata": {},
   "outputs": [],
   "source": [
    "good_unit_all_ids = spike_clusters[good_unit_mask]"
   ]
  },
  {
   "cell_type": "code",
   "execution_count": 33,
   "id": "d5bd0606",
   "metadata": {},
   "outputs": [
    {
     "data": {
      "text/plain": [
       "(172619,)"
      ]
     },
     "execution_count": 33,
     "metadata": {},
     "output_type": "execute_result"
    }
   ],
   "source": [
    "good_unit_all_ids.shape"
   ]
  },
  {
   "cell_type": "code",
   "execution_count": 34,
   "id": "cdea972c",
   "metadata": {},
   "outputs": [
    {
     "data": {
      "text/plain": [
       "array([183, 174,  20, 183,  24, 182, 183,  54,  54,  64], dtype=int32)"
      ]
     },
     "execution_count": 34,
     "metadata": {},
     "output_type": "execute_result"
    }
   ],
   "source": [
    "good_unit_all_ids[:10]"
   ]
  },
  {
   "cell_type": "markdown",
   "id": "3d2d10a7",
   "metadata": {},
   "source": [
    "- Getting the time that the good units fired"
   ]
  },
  {
   "cell_type": "code",
   "execution_count": 35,
   "id": "8646f320",
   "metadata": {},
   "outputs": [],
   "source": [
    "good_unit_times = spike_times[good_unit_mask].T[0]"
   ]
  },
  {
   "cell_type": "code",
   "execution_count": 36,
   "id": "9fa8a305",
   "metadata": {},
   "outputs": [
    {
     "data": {
      "text/plain": [
       "(172619,)"
      ]
     },
     "execution_count": 36,
     "metadata": {},
     "output_type": "execute_result"
    }
   ],
   "source": [
    "good_unit_times.shape"
   ]
  },
  {
   "cell_type": "code",
   "execution_count": 37,
   "id": "495079b1",
   "metadata": {},
   "outputs": [
    {
     "data": {
      "text/plain": [
       "array([ 260,  413,  487,  821, 1190, 1588, 1640, 1701, 2087, 2467])"
      ]
     },
     "execution_count": 37,
     "metadata": {},
     "output_type": "execute_result"
    }
   ],
   "source": [
    "good_unit_times[:10]"
   ]
  },
  {
   "cell_type": "code",
   "execution_count": 38,
   "id": "e37c27cb",
   "metadata": {},
   "outputs": [
    {
     "data": {
      "text/plain": [
       "array([64108851, 64109062, 64109114, 64109909, 64110757, 64110943,\n",
       "       64111416, 64112221, 64112277, 64113530])"
      ]
     },
     "execution_count": 38,
     "metadata": {},
     "output_type": "execute_result"
    }
   ],
   "source": [
    "good_unit_times[-10:]"
   ]
  },
  {
   "cell_type": "markdown",
   "id": "d08cf31b",
   "metadata": {},
   "source": [
    "- spike_times are indexed based on the start of the recording, not the start of the streaming\n",
    "    - Last spike ends right before the end of the recording time"
   ]
  },
  {
   "cell_type": "code",
   "execution_count": 39,
   "id": "7f79db6a",
   "metadata": {
    "scrolled": true
   },
   "outputs": [
    {
     "data": {
      "text/plain": [
       "array([[      11],\n",
       "       [      89],\n",
       "       [     143],\n",
       "       ...,\n",
       "       [64113456],\n",
       "       [64113530],\n",
       "       [64113594]])"
      ]
     },
     "execution_count": 39,
     "metadata": {},
     "output_type": "execute_result"
    }
   ],
   "source": [
    "spike_times"
   ]
  },
  {
   "cell_type": "code",
   "execution_count": 40,
   "id": "2af8edc0",
   "metadata": {},
   "outputs": [
    {
     "data": {
      "text/plain": [
       "array([3205.6797])"
      ]
     },
     "execution_count": 40,
     "metadata": {},
     "output_type": "execute_result"
    }
   ],
   "source": [
    "spike_times[-1]/20000"
   ]
  },
  {
   "cell_type": "markdown",
   "id": "d645201f",
   "metadata": {},
   "source": [
    "## Syncing the unit times with the ECU times"
   ]
  },
  {
   "cell_type": "code",
   "execution_count": 41,
   "id": "f1c358b1",
   "metadata": {},
   "outputs": [],
   "source": [
    "tone_time_stamps = tone_time_stamps_df[\"tone_time_stamp\"].values"
   ]
  },
  {
   "cell_type": "code",
   "execution_count": 42,
   "id": "66f3de46",
   "metadata": {},
   "outputs": [
    {
     "data": {
      "text/plain": [
       "array([ 1408048,  3008051,  4808043,  6408042,  7908040,  9908037,\n",
       "       11808035, 13608031, 15208032, 17008029, 19008027, 20808026,\n",
       "       23208023, 25008021, 27998597, 29598593, 31398591, 32998593,\n",
       "       34498591, 36498588, 38398586, 40198584, 41798580, 43598581,\n",
       "       45598579, 47398577, 49798572, 51598570, 53298568, 55098566,\n",
       "       56998564, 59398564, 60998563])"
      ]
     },
     "execution_count": 42,
     "metadata": {},
     "output_type": "execute_result"
    }
   ],
   "source": [
    "tone_time_stamps"
   ]
  },
  {
   "cell_type": "markdown",
   "id": "2eb290cf",
   "metadata": {},
   "source": [
    "## Seeing which tone time each unit time is closest to"
   ]
  },
  {
   "cell_type": "markdown",
   "id": "80d38dd8",
   "metadata": {},
   "source": [
    "- We will divide all the time up into bins of before and after each tone. Then we will see which time bin the neuron firing falls into.\n",
    "    - So everything in the 0 bin would be before the first time bin. The 1 bin would be everything in between the first and second time bin. The last would be everything after last time bin."
   ]
  },
  {
   "cell_type": "code",
   "execution_count": 43,
   "id": "2717af55",
   "metadata": {},
   "outputs": [],
   "source": [
    "good_unit_bins = np.digitize(good_unit_times, tone_time_stamps_df[\"tone_time_stamp\"], right=True)"
   ]
  },
  {
   "cell_type": "code",
   "execution_count": 44,
   "id": "dd4989ae",
   "metadata": {},
   "outputs": [
    {
     "data": {
      "text/plain": [
       "(172619,)"
      ]
     },
     "execution_count": 44,
     "metadata": {},
     "output_type": "execute_result"
    }
   ],
   "source": [
    "good_unit_bins.shape"
   ]
  },
  {
   "cell_type": "code",
   "execution_count": 45,
   "id": "47c0cddc",
   "metadata": {},
   "outputs": [
    {
     "data": {
      "text/plain": [
       "array([0, 0, 0, 0, 0, 0, 0, 0, 0, 0])"
      ]
     },
     "execution_count": 45,
     "metadata": {},
     "output_type": "execute_result"
    }
   ],
   "source": [
    "good_unit_bins[:10]"
   ]
  },
  {
   "cell_type": "code",
   "execution_count": 46,
   "id": "b9988522",
   "metadata": {},
   "outputs": [
    {
     "data": {
      "text/plain": [
       "array([33, 33, 33, 33, 33, 33, 33, 33, 33, 33])"
      ]
     },
     "execution_count": 46,
     "metadata": {},
     "output_type": "execute_result"
    }
   ],
   "source": [
    "good_unit_bins[-10:]"
   ]
  },
  {
   "cell_type": "markdown",
   "id": "92696852",
   "metadata": {},
   "source": [
    "- Seeing if the firing time is within a 10 second interval before or 10 second after any tone"
   ]
  },
  {
   "cell_type": "code",
   "execution_count": 47,
   "id": "ddf51d7a",
   "metadata": {},
   "outputs": [],
   "source": [
    "from collections import defaultdict"
   ]
  },
  {
   "cell_type": "code",
   "execution_count": 48,
   "id": "c465e5ee",
   "metadata": {},
   "outputs": [
    {
     "data": {
      "text/plain": [
       "(172619,)"
      ]
     },
     "execution_count": 48,
     "metadata": {},
     "output_type": "execute_result"
    }
   ],
   "source": [
    "good_unit_bins.shape"
   ]
  },
  {
   "cell_type": "code",
   "execution_count": 49,
   "id": "29d06824",
   "metadata": {},
   "outputs": [
    {
     "data": {
      "text/plain": [
       "(172619,)"
      ]
     },
     "execution_count": 49,
     "metadata": {},
     "output_type": "execute_result"
    }
   ],
   "source": [
    "good_unit_times.shape"
   ]
  },
  {
   "cell_type": "code",
   "execution_count": 50,
   "id": "4071ea96",
   "metadata": {},
   "outputs": [
    {
     "data": {
      "text/plain": [
       "(172619,)"
      ]
     },
     "execution_count": 50,
     "metadata": {},
     "output_type": "execute_result"
    }
   ],
   "source": [
    "good_unit_all_ids.shape"
   ]
  },
  {
   "cell_type": "code",
   "execution_count": 51,
   "id": "f3e859d4",
   "metadata": {},
   "outputs": [
    {
     "data": {
      "text/plain": [
       "array([ 260,  413,  487,  821, 1190, 1588, 1640, 1701, 2087, 2467])"
      ]
     },
     "execution_count": 51,
     "metadata": {},
     "output_type": "execute_result"
    }
   ],
   "source": [
    "good_unit_times[:10]"
   ]
  },
  {
   "cell_type": "code",
   "execution_count": 52,
   "id": "3b73a6a8",
   "metadata": {},
   "outputs": [
    {
     "data": {
      "text/plain": [
       "array([ 1408048,  3008051,  4808043,  6408042,  7908040,  9908037,\n",
       "       11808035, 13608031, 15208032, 17008029, 19008027, 20808026,\n",
       "       23208023, 25008021, 27998597, 29598593, 31398591, 32998593,\n",
       "       34498591, 36498588, 38398586, 40198584, 41798580, 43598581,\n",
       "       45598579, 47398577, 49798572, 51598570, 53298568, 55098566,\n",
       "       56998564, 59398564, 60998563])"
      ]
     },
     "execution_count": 52,
     "metadata": {},
     "output_type": "execute_result"
    }
   ],
   "source": [
    "tone_time_stamps"
   ]
  },
  {
   "cell_type": "code",
   "execution_count": 53,
   "id": "09daaf97",
   "metadata": {},
   "outputs": [
    {
     "data": {
      "text/plain": [
       "33"
      ]
     },
     "execution_count": 53,
     "metadata": {},
     "output_type": "execute_result"
    }
   ],
   "source": [
    "len(tone_time_stamps)"
   ]
  },
  {
   "cell_type": "markdown",
   "id": "77e4d4de",
   "metadata": {},
   "source": [
    "# Comparing Firing Rate between Trial types"
   ]
  },
  {
   "cell_type": "code",
   "execution_count": 54,
   "id": "c5ef17a3",
   "metadata": {},
   "outputs": [
    {
     "data": {
      "text/html": [
       "<div>\n",
       "<style scoped>\n",
       "    .dataframe tbody tr th:only-of-type {\n",
       "        vertical-align: middle;\n",
       "    }\n",
       "\n",
       "    .dataframe tbody tr th {\n",
       "        vertical-align: top;\n",
       "    }\n",
       "\n",
       "    .dataframe thead th {\n",
       "        text-align: right;\n",
       "    }\n",
       "</style>\n",
       "<table border=\"1\" class=\"dataframe\">\n",
       "  <thead>\n",
       "    <tr style=\"text-align: right;\">\n",
       "      <th></th>\n",
       "      <th>tone_time_stamp</th>\n",
       "      <th>tone_category</th>\n",
       "      <th>tone_clock_time_omission</th>\n",
       "      <th>tone_clock_time_comp</th>\n",
       "    </tr>\n",
       "  </thead>\n",
       "  <tbody>\n",
       "    <tr>\n",
       "      <th>0</th>\n",
       "      <td>1408048</td>\n",
       "      <td>rewarded</td>\n",
       "      <td>60.40240</td>\n",
       "      <td>-1269.52745</td>\n",
       "    </tr>\n",
       "    <tr>\n",
       "      <th>1</th>\n",
       "      <td>3008051</td>\n",
       "      <td>rewarded</td>\n",
       "      <td>140.40255</td>\n",
       "      <td>-1189.52730</td>\n",
       "    </tr>\n",
       "    <tr>\n",
       "      <th>2</th>\n",
       "      <td>4808043</td>\n",
       "      <td>rewarded</td>\n",
       "      <td>230.40215</td>\n",
       "      <td>-1099.52770</td>\n",
       "    </tr>\n",
       "    <tr>\n",
       "      <th>3</th>\n",
       "      <td>6408042</td>\n",
       "      <td>omission</td>\n",
       "      <td>310.40210</td>\n",
       "      <td>-1019.52775</td>\n",
       "    </tr>\n",
       "    <tr>\n",
       "      <th>4</th>\n",
       "      <td>7908040</td>\n",
       "      <td>rewarded</td>\n",
       "      <td>385.40200</td>\n",
       "      <td>-944.52785</td>\n",
       "    </tr>\n",
       "  </tbody>\n",
       "</table>\n",
       "</div>"
      ],
      "text/plain": [
       "   tone_time_stamp tone_category  tone_clock_time_omission  \\\n",
       "0          1408048      rewarded                  60.40240   \n",
       "1          3008051      rewarded                 140.40255   \n",
       "2          4808043      rewarded                 230.40215   \n",
       "3          6408042      omission                 310.40210   \n",
       "4          7908040      rewarded                 385.40200   \n",
       "\n",
       "   tone_clock_time_comp  \n",
       "0           -1269.52745  \n",
       "1           -1189.52730  \n",
       "2           -1099.52770  \n",
       "3           -1019.52775  \n",
       "4            -944.52785  "
      ]
     },
     "execution_count": 54,
     "metadata": {},
     "output_type": "execute_result"
    }
   ],
   "source": [
    "tone_time_stamps_df.head()"
   ]
  },
  {
   "cell_type": "code",
   "execution_count": 55,
   "id": "edff22d8",
   "metadata": {},
   "outputs": [
    {
     "data": {
      "text/plain": [
       "array([     260,      413,      487, ..., 64112221, 64112277, 64113530])"
      ]
     },
     "execution_count": 55,
     "metadata": {},
     "output_type": "execute_result"
    }
   ],
   "source": [
    "good_unit_times"
   ]
  },
  {
   "cell_type": "code",
   "execution_count": 56,
   "id": "e154b513",
   "metadata": {},
   "outputs": [
    {
     "data": {
      "text/plain": [
       "array([183, 174,  20, ..., 183, 174,  54], dtype=int32)"
      ]
     },
     "execution_count": 56,
     "metadata": {},
     "output_type": "execute_result"
    }
   ],
   "source": [
    "good_unit_all_ids"
   ]
  },
  {
   "cell_type": "code",
   "execution_count": 57,
   "id": "e9bb39bb",
   "metadata": {},
   "outputs": [
    {
     "data": {
      "text/plain": [
       "array([ 0,  0,  0, ..., 33, 33, 33])"
      ]
     },
     "execution_count": 57,
     "metadata": {},
     "output_type": "execute_result"
    }
   ],
   "source": [
    "good_unit_bins"
   ]
  },
  {
   "cell_type": "code",
   "execution_count": 58,
   "id": "63bacd85",
   "metadata": {},
   "outputs": [
    {
     "data": {
      "text/plain": [
       "array([ 1408048,  3008051,  4808043,  6408042,  7908040,  9908037,\n",
       "       11808035, 13608031, 15208032, 17008029, 19008027, 20808026,\n",
       "       23208023, 25008021, 27998597, 29598593, 31398591, 32998593,\n",
       "       34498591, 36498588, 38398586, 40198584, 41798580, 43598581,\n",
       "       45598579, 47398577, 49798572, 51598570, 53298568, 55098566,\n",
       "       56998564, 59398564, 60998563])"
      ]
     },
     "execution_count": 58,
     "metadata": {},
     "output_type": "execute_result"
    }
   ],
   "source": [
    "tone_time_stamps"
   ]
  },
  {
   "cell_type": "code",
   "execution_count": 59,
   "id": "32027c87",
   "metadata": {
    "scrolled": true
   },
   "outputs": [
    {
     "data": {
      "text/plain": [
       "'\\nStep 1: \\n- Get all the unit times that are 10 seconds before tone \\nand 10 seconds after the tone(separately)\\n\\nStep 2:\\n- Separate out for each trial\\n\\nStep 3: Calculate firing rate\\n'"
      ]
     },
     "execution_count": 59,
     "metadata": {},
     "output_type": "execute_result"
    }
   ],
   "source": [
    "\"\"\"\n",
    "Step 1: \n",
    "- Get all the unit times that are 10 seconds before tone \n",
    "and 10 seconds after the tone(separately)\n",
    "\n",
    "Step 2:\n",
    "- Separate out for each trial\n",
    "\n",
    "Step 3: Calculate firing rate\n",
    "\"\"\""
   ]
  },
  {
   "cell_type": "markdown",
   "id": "eec8af02",
   "metadata": {},
   "source": [
    "- Duration to include before and after tone"
   ]
  },
  {
   "cell_type": "code",
   "execution_count": 60,
   "id": "e1ebbe9e",
   "metadata": {},
   "outputs": [],
   "source": [
    "# time in seconds\n",
    "trial_one_way_duration = 10"
   ]
  },
  {
   "cell_type": "code",
   "execution_count": 61,
   "id": "7c4a2c21",
   "metadata": {},
   "outputs": [],
   "source": [
    "sampling_rate = 20000"
   ]
  },
  {
   "cell_type": "markdown",
   "id": "d5be8d12",
   "metadata": {},
   "source": [
    "- Getting the number of samples before and after to include for each tone"
   ]
  },
  {
   "cell_type": "code",
   "execution_count": 62,
   "id": "a4442a49",
   "metadata": {},
   "outputs": [],
   "source": [
    "per_trial_number_of_samples = trial_one_way_duration * sampling_rate"
   ]
  },
  {
   "cell_type": "code",
   "execution_count": 63,
   "id": "498ebc95",
   "metadata": {},
   "outputs": [
    {
     "data": {
      "text/plain": [
       "200000"
      ]
     },
     "execution_count": 63,
     "metadata": {},
     "output_type": "execute_result"
    }
   ],
   "source": [
    "per_trial_number_of_samples"
   ]
  },
  {
   "cell_type": "markdown",
   "id": "46a35a0b",
   "metadata": {},
   "source": [
    "- Getting all the tones that fired within before or after the number of samples"
   ]
  },
  {
   "cell_type": "code",
   "execution_count": 64,
   "id": "4fcefe25",
   "metadata": {},
   "outputs": [],
   "source": [
    "before_or_after_column = \"before_or_after\""
   ]
  },
  {
   "cell_type": "code",
   "execution_count": 65,
   "id": "ffef8b7b",
   "metadata": {},
   "outputs": [],
   "source": [
    "# iterating through the timestamp of each good unit spike\n",
    "\n",
    "before_and_after_interval_unit_times = defaultdict(dict)\n",
    "\n",
    "\n",
    "for index, time in enumerate(good_unit_times):\n",
    "    # getting the corresponding tone bin for the timestamp\n",
    "    current_bin = good_unit_bins[index]\n",
    "    current_neuron = good_unit_all_ids[index]   \n",
    "#     print(\"Current Bin: {}\".format(current_bin))\n",
    "    \n",
    "    # checking number before\n",
    "    first_tone_time = tone_time_stamps[(current_bin - 1) % len(tone_time_stamps)]\n",
    "    # checking number after\n",
    "    second_tone_time = tone_time_stamps[(current_bin) % len(tone_time_stamps)]    \n",
    "    \n",
    "#     print(\"Time: {}, First tone time: {} Second tone time: {}\".format(time, first_tone_time, second_tone_time))\n",
    "    \n",
    "    \n",
    "    # checking if time is before first number\n",
    "    if first_tone_time - per_trial_number_of_samples <= time <= first_tone_time:\n",
    "        before_and_after_interval_unit_times[time][\"tone_time\"] = first_tone_time\n",
    "        before_and_after_interval_unit_times[time][before_or_after_column] = \"before\"\n",
    "        before_and_after_interval_unit_times[time][\"neuron_id\"] = good_unit_all_ids[index]\n",
    "    # checking if time is after first number\n",
    "    elif first_tone_time < time <= first_tone_time + per_trial_number_of_samples:\n",
    "        before_and_after_interval_unit_times[time][\"tone_time\"] = first_tone_time\n",
    "        before_and_after_interval_unit_times[time][before_or_after_column] = \"after\"\n",
    "        before_and_after_interval_unit_times[time][\"neuron_id\"] = good_unit_all_ids[index]\n",
    "    \n",
    "    # checking if time is before second number\n",
    "    elif second_tone_time - per_trial_number_of_samples <= time <= second_tone_time:\n",
    "        before_and_after_interval_unit_times[time][\"tone_time\"] = second_tone_time\n",
    "        before_and_after_interval_unit_times[time][before_or_after_column] = \"before\"\n",
    "        before_and_after_interval_unit_times[time][\"neuron_id\"] = good_unit_all_ids[index]\n",
    "    # checking if time is after second number\n",
    "    elif second_tone_time < time <= second_tone_time + per_trial_number_of_samples:\n",
    "        before_and_after_interval_unit_times[time][\"tone_time\"] = second_tone_time\n",
    "        before_and_after_interval_unit_times[time][before_or_after_column] = \"after\"\n",
    "        before_and_after_interval_unit_times[time][\"neuron_id\"] = good_unit_all_ids[index]\n",
    "    else:\n",
    "        continue\n"
   ]
  },
  {
   "cell_type": "code",
   "execution_count": 66,
   "id": "2955b075",
   "metadata": {},
   "outputs": [
    {
     "data": {
      "text/plain": [
       "200000"
      ]
     },
     "execution_count": 66,
     "metadata": {},
     "output_type": "execute_result"
    }
   ],
   "source": [
    "per_trial_number_of_samples"
   ]
  },
  {
   "cell_type": "code",
   "execution_count": 67,
   "id": "676f9c1e",
   "metadata": {},
   "outputs": [],
   "source": [
    "before_and_after_interval_unit_df = pd.DataFrame.from_dict(before_and_after_interval_unit_times, orient=\"index\").reset_index()\n",
    "before_and_after_interval_unit_df = before_and_after_interval_unit_df.rename(columns={\"index\": \"spike_time\"})"
   ]
  },
  {
   "cell_type": "code",
   "execution_count": 68,
   "id": "171991f5",
   "metadata": {},
   "outputs": [
    {
     "data": {
      "text/html": [
       "<div>\n",
       "<style scoped>\n",
       "    .dataframe tbody tr th:only-of-type {\n",
       "        vertical-align: middle;\n",
       "    }\n",
       "\n",
       "    .dataframe tbody tr th {\n",
       "        vertical-align: top;\n",
       "    }\n",
       "\n",
       "    .dataframe thead th {\n",
       "        text-align: right;\n",
       "    }\n",
       "</style>\n",
       "<table border=\"1\" class=\"dataframe\">\n",
       "  <thead>\n",
       "    <tr style=\"text-align: right;\">\n",
       "      <th></th>\n",
       "      <th>spike_time</th>\n",
       "      <th>tone_time</th>\n",
       "      <th>before_or_after</th>\n",
       "      <th>neuron_id</th>\n",
       "    </tr>\n",
       "  </thead>\n",
       "  <tbody>\n",
       "    <tr>\n",
       "      <th>0</th>\n",
       "      <td>1209073</td>\n",
       "      <td>1408048</td>\n",
       "      <td>before</td>\n",
       "      <td>64</td>\n",
       "    </tr>\n",
       "    <tr>\n",
       "      <th>1</th>\n",
       "      <td>1210306</td>\n",
       "      <td>1408048</td>\n",
       "      <td>before</td>\n",
       "      <td>54</td>\n",
       "    </tr>\n",
       "    <tr>\n",
       "      <th>2</th>\n",
       "      <td>1210810</td>\n",
       "      <td>1408048</td>\n",
       "      <td>before</td>\n",
       "      <td>174</td>\n",
       "    </tr>\n",
       "    <tr>\n",
       "      <th>3</th>\n",
       "      <td>1211041</td>\n",
       "      <td>1408048</td>\n",
       "      <td>before</td>\n",
       "      <td>52</td>\n",
       "    </tr>\n",
       "    <tr>\n",
       "      <th>4</th>\n",
       "      <td>1212118</td>\n",
       "      <td>1408048</td>\n",
       "      <td>before</td>\n",
       "      <td>54</td>\n",
       "    </tr>\n",
       "  </tbody>\n",
       "</table>\n",
       "</div>"
      ],
      "text/plain": [
       "   spike_time  tone_time before_or_after  neuron_id\n",
       "0     1209073    1408048          before         64\n",
       "1     1210306    1408048          before         54\n",
       "2     1210810    1408048          before        174\n",
       "3     1211041    1408048          before         52\n",
       "4     1212118    1408048          before         54"
      ]
     },
     "execution_count": 68,
     "metadata": {},
     "output_type": "execute_result"
    }
   ],
   "source": [
    "before_and_after_interval_unit_df.head()"
   ]
  },
  {
   "cell_type": "markdown",
   "id": "594eaa6d",
   "metadata": {},
   "source": [
    "- Getting the count of each neuron that fired during the tone interval grouped by the neuron's ID"
   ]
  },
  {
   "cell_type": "code",
   "execution_count": 69,
   "id": "d57cb3d3",
   "metadata": {},
   "outputs": [],
   "source": [
    "before_and_after_tone_spike_count_df = before_and_after_interval_unit_df.groupby([\"tone_time\", before_or_after_column, \"neuron_id\"]).count().unstack(fill_value=0).stack().reset_index().rename(columns={\"spike_time\": \"fired_spike_count\"})"
   ]
  },
  {
   "cell_type": "code",
   "execution_count": 70,
   "id": "ed639436",
   "metadata": {},
   "outputs": [
    {
     "data": {
      "text/html": [
       "<div>\n",
       "<style scoped>\n",
       "    .dataframe tbody tr th:only-of-type {\n",
       "        vertical-align: middle;\n",
       "    }\n",
       "\n",
       "    .dataframe tbody tr th {\n",
       "        vertical-align: top;\n",
       "    }\n",
       "\n",
       "    .dataframe thead th {\n",
       "        text-align: right;\n",
       "    }\n",
       "</style>\n",
       "<table border=\"1\" class=\"dataframe\">\n",
       "  <thead>\n",
       "    <tr style=\"text-align: right;\">\n",
       "      <th></th>\n",
       "      <th>tone_time</th>\n",
       "      <th>before_or_after</th>\n",
       "      <th>neuron_id</th>\n",
       "      <th>fired_spike_count</th>\n",
       "    </tr>\n",
       "  </thead>\n",
       "  <tbody>\n",
       "    <tr>\n",
       "      <th>0</th>\n",
       "      <td>1408048</td>\n",
       "      <td>after</td>\n",
       "      <td>16</td>\n",
       "      <td>6</td>\n",
       "    </tr>\n",
       "    <tr>\n",
       "      <th>1</th>\n",
       "      <td>1408048</td>\n",
       "      <td>after</td>\n",
       "      <td>20</td>\n",
       "      <td>157</td>\n",
       "    </tr>\n",
       "    <tr>\n",
       "      <th>2</th>\n",
       "      <td>1408048</td>\n",
       "      <td>after</td>\n",
       "      <td>24</td>\n",
       "      <td>53</td>\n",
       "    </tr>\n",
       "    <tr>\n",
       "      <th>3</th>\n",
       "      <td>1408048</td>\n",
       "      <td>after</td>\n",
       "      <td>50</td>\n",
       "      <td>2</td>\n",
       "    </tr>\n",
       "    <tr>\n",
       "      <th>4</th>\n",
       "      <td>1408048</td>\n",
       "      <td>after</td>\n",
       "      <td>52</td>\n",
       "      <td>12</td>\n",
       "    </tr>\n",
       "    <tr>\n",
       "      <th>...</th>\n",
       "      <td>...</td>\n",
       "      <td>...</td>\n",
       "      <td>...</td>\n",
       "      <td>...</td>\n",
       "    </tr>\n",
       "    <tr>\n",
       "      <th>919</th>\n",
       "      <td>60998563</td>\n",
       "      <td>before</td>\n",
       "      <td>163</td>\n",
       "      <td>17</td>\n",
       "    </tr>\n",
       "    <tr>\n",
       "      <th>920</th>\n",
       "      <td>60998563</td>\n",
       "      <td>before</td>\n",
       "      <td>174</td>\n",
       "      <td>80</td>\n",
       "    </tr>\n",
       "    <tr>\n",
       "      <th>921</th>\n",
       "      <td>60998563</td>\n",
       "      <td>before</td>\n",
       "      <td>182</td>\n",
       "      <td>6</td>\n",
       "    </tr>\n",
       "    <tr>\n",
       "      <th>922</th>\n",
       "      <td>60998563</td>\n",
       "      <td>before</td>\n",
       "      <td>183</td>\n",
       "      <td>140</td>\n",
       "    </tr>\n",
       "    <tr>\n",
       "      <th>923</th>\n",
       "      <td>60998563</td>\n",
       "      <td>before</td>\n",
       "      <td>188</td>\n",
       "      <td>2</td>\n",
       "    </tr>\n",
       "  </tbody>\n",
       "</table>\n",
       "<p>924 rows × 4 columns</p>\n",
       "</div>"
      ],
      "text/plain": [
       "     tone_time before_or_after  neuron_id  fired_spike_count\n",
       "0      1408048           after         16                  6\n",
       "1      1408048           after         20                157\n",
       "2      1408048           after         24                 53\n",
       "3      1408048           after         50                  2\n",
       "4      1408048           after         52                 12\n",
       "..         ...             ...        ...                ...\n",
       "919   60998563          before        163                 17\n",
       "920   60998563          before        174                 80\n",
       "921   60998563          before        182                  6\n",
       "922   60998563          before        183                140\n",
       "923   60998563          before        188                  2\n",
       "\n",
       "[924 rows x 4 columns]"
      ]
     },
     "execution_count": 70,
     "metadata": {},
     "output_type": "execute_result"
    }
   ],
   "source": [
    "before_and_after_tone_spike_count_df"
   ]
  },
  {
   "cell_type": "markdown",
   "id": "08f8ff41",
   "metadata": {},
   "source": [
    "- Separating out the before and after to get them in the same rows for the same neuron"
   ]
  },
  {
   "cell_type": "code",
   "execution_count": 71,
   "id": "7fc9a896",
   "metadata": {},
   "outputs": [],
   "source": [
    "before_tone_spike_count_df = before_and_after_tone_spike_count_df[before_and_after_tone_spike_count_df[before_or_after_column] == \"before\"].rename(columns={\"fired_spike_count\": \"before_fired_spike_count\"}).drop(columns=[before_or_after_column])\n",
    "after_tone_spike_count_df = before_and_after_tone_spike_count_df[before_and_after_tone_spike_count_df[before_or_after_column] == \"after\"].rename(columns={\"fired_spike_count\": \"after_fired_spike_count\"}).drop(columns=[before_or_after_column])"
   ]
  },
  {
   "cell_type": "code",
   "execution_count": 72,
   "id": "30868ddd",
   "metadata": {},
   "outputs": [
    {
     "data": {
      "text/html": [
       "<div>\n",
       "<style scoped>\n",
       "    .dataframe tbody tr th:only-of-type {\n",
       "        vertical-align: middle;\n",
       "    }\n",
       "\n",
       "    .dataframe tbody tr th {\n",
       "        vertical-align: top;\n",
       "    }\n",
       "\n",
       "    .dataframe thead th {\n",
       "        text-align: right;\n",
       "    }\n",
       "</style>\n",
       "<table border=\"1\" class=\"dataframe\">\n",
       "  <thead>\n",
       "    <tr style=\"text-align: right;\">\n",
       "      <th></th>\n",
       "      <th>tone_time</th>\n",
       "      <th>neuron_id</th>\n",
       "      <th>before_fired_spike_count</th>\n",
       "    </tr>\n",
       "  </thead>\n",
       "  <tbody>\n",
       "    <tr>\n",
       "      <th>14</th>\n",
       "      <td>1408048</td>\n",
       "      <td>16</td>\n",
       "      <td>7</td>\n",
       "    </tr>\n",
       "    <tr>\n",
       "      <th>15</th>\n",
       "      <td>1408048</td>\n",
       "      <td>20</td>\n",
       "      <td>92</td>\n",
       "    </tr>\n",
       "    <tr>\n",
       "      <th>16</th>\n",
       "      <td>1408048</td>\n",
       "      <td>24</td>\n",
       "      <td>59</td>\n",
       "    </tr>\n",
       "    <tr>\n",
       "      <th>17</th>\n",
       "      <td>1408048</td>\n",
       "      <td>50</td>\n",
       "      <td>3</td>\n",
       "    </tr>\n",
       "    <tr>\n",
       "      <th>18</th>\n",
       "      <td>1408048</td>\n",
       "      <td>52</td>\n",
       "      <td>8</td>\n",
       "    </tr>\n",
       "  </tbody>\n",
       "</table>\n",
       "</div>"
      ],
      "text/plain": [
       "    tone_time  neuron_id  before_fired_spike_count\n",
       "14    1408048         16                         7\n",
       "15    1408048         20                        92\n",
       "16    1408048         24                        59\n",
       "17    1408048         50                         3\n",
       "18    1408048         52                         8"
      ]
     },
     "execution_count": 72,
     "metadata": {},
     "output_type": "execute_result"
    }
   ],
   "source": [
    "before_tone_spike_count_df.head()"
   ]
  },
  {
   "cell_type": "code",
   "execution_count": 73,
   "id": "2c7d383f",
   "metadata": {},
   "outputs": [
    {
     "data": {
      "text/html": [
       "<div>\n",
       "<style scoped>\n",
       "    .dataframe tbody tr th:only-of-type {\n",
       "        vertical-align: middle;\n",
       "    }\n",
       "\n",
       "    .dataframe tbody tr th {\n",
       "        vertical-align: top;\n",
       "    }\n",
       "\n",
       "    .dataframe thead th {\n",
       "        text-align: right;\n",
       "    }\n",
       "</style>\n",
       "<table border=\"1\" class=\"dataframe\">\n",
       "  <thead>\n",
       "    <tr style=\"text-align: right;\">\n",
       "      <th></th>\n",
       "      <th>tone_time</th>\n",
       "      <th>neuron_id</th>\n",
       "      <th>after_fired_spike_count</th>\n",
       "    </tr>\n",
       "  </thead>\n",
       "  <tbody>\n",
       "    <tr>\n",
       "      <th>0</th>\n",
       "      <td>1408048</td>\n",
       "      <td>16</td>\n",
       "      <td>6</td>\n",
       "    </tr>\n",
       "    <tr>\n",
       "      <th>1</th>\n",
       "      <td>1408048</td>\n",
       "      <td>20</td>\n",
       "      <td>157</td>\n",
       "    </tr>\n",
       "    <tr>\n",
       "      <th>2</th>\n",
       "      <td>1408048</td>\n",
       "      <td>24</td>\n",
       "      <td>53</td>\n",
       "    </tr>\n",
       "    <tr>\n",
       "      <th>3</th>\n",
       "      <td>1408048</td>\n",
       "      <td>50</td>\n",
       "      <td>2</td>\n",
       "    </tr>\n",
       "    <tr>\n",
       "      <th>4</th>\n",
       "      <td>1408048</td>\n",
       "      <td>52</td>\n",
       "      <td>12</td>\n",
       "    </tr>\n",
       "  </tbody>\n",
       "</table>\n",
       "</div>"
      ],
      "text/plain": [
       "   tone_time  neuron_id  after_fired_spike_count\n",
       "0    1408048         16                        6\n",
       "1    1408048         20                      157\n",
       "2    1408048         24                       53\n",
       "3    1408048         50                        2\n",
       "4    1408048         52                       12"
      ]
     },
     "execution_count": 73,
     "metadata": {},
     "output_type": "execute_result"
    }
   ],
   "source": [
    "after_tone_spike_count_df.head()"
   ]
  },
  {
   "cell_type": "code",
   "execution_count": 74,
   "id": "56e87f75",
   "metadata": {},
   "outputs": [],
   "source": [
    "merged_before_after_tone_spike_count_df = pd.merge(left=before_tone_spike_count_df, right=after_tone_spike_count_df, left_on=[\"tone_time\", \"neuron_id\"], right_on=[\"tone_time\", \"neuron_id\"])"
   ]
  },
  {
   "cell_type": "markdown",
   "id": "7fbb2a9a",
   "metadata": {},
   "source": [
    "- Dictionary of tone time to trial type"
   ]
  },
  {
   "cell_type": "code",
   "execution_count": 75,
   "id": "7c899cdb",
   "metadata": {},
   "outputs": [],
   "source": [
    "tone_timestamp_to_trial_type = pd.Series(tone_time_stamps_df[\"tone_category\"].values, index=tone_time_stamps_df[\"tone_time_stamp\"]).to_dict()"
   ]
  },
  {
   "cell_type": "code",
   "execution_count": 76,
   "id": "7454245f",
   "metadata": {
    "scrolled": true
   },
   "outputs": [
    {
     "data": {
      "text/plain": [
       "{1408048: 'rewarded',\n",
       " 3008051: 'rewarded',\n",
       " 4808043: 'rewarded',\n",
       " 6408042: 'omission',\n",
       " 7908040: 'rewarded',\n",
       " 9908037: 'rewarded',\n",
       " 11808035: 'rewarded',\n",
       " 13608031: 'rewarded',\n",
       " 15208032: 'omission',\n",
       " 17008029: 'rewarded',\n",
       " 19008027: 'rewarded',\n",
       " 20808026: 'omission',\n",
       " 23208023: 'rewarded',\n",
       " 25008021: 'rewarded',\n",
       " 27998597: 'loss',\n",
       " 29598593: 'win',\n",
       " 31398591: 'win',\n",
       " 32998593: 'win',\n",
       " 34498591: 'win',\n",
       " 36498588: 'win',\n",
       " 38398586: 'win',\n",
       " 40198584: 'win',\n",
       " 41798580: 'win',\n",
       " 43598581: 'win',\n",
       " 45598579: 'win',\n",
       " 47398577: 'win',\n",
       " 49798572: 'loss',\n",
       " 51598570: 'loss',\n",
       " 53298568: 'loss',\n",
       " 55098566: 'loss',\n",
       " 56998564: 'win',\n",
       " 59398564: 'loss',\n",
       " 60998563: 'loss'}"
      ]
     },
     "execution_count": 76,
     "metadata": {},
     "output_type": "execute_result"
    }
   ],
   "source": [
    "tone_timestamp_to_trial_type"
   ]
  },
  {
   "cell_type": "markdown",
   "id": "2404aed0",
   "metadata": {},
   "source": [
    "- Adding the trial type"
   ]
  },
  {
   "cell_type": "code",
   "execution_count": 77,
   "id": "3d962c1d",
   "metadata": {},
   "outputs": [],
   "source": [
    "merged_before_after_tone_spike_count_df[\"trial_type\"] = merged_before_after_tone_spike_count_df[\"tone_time\"].map(tone_timestamp_to_trial_type)"
   ]
  },
  {
   "cell_type": "code",
   "execution_count": 78,
   "id": "125f3c61",
   "metadata": {},
   "outputs": [
    {
     "data": {
      "text/html": [
       "<div>\n",
       "<style scoped>\n",
       "    .dataframe tbody tr th:only-of-type {\n",
       "        vertical-align: middle;\n",
       "    }\n",
       "\n",
       "    .dataframe tbody tr th {\n",
       "        vertical-align: top;\n",
       "    }\n",
       "\n",
       "    .dataframe thead th {\n",
       "        text-align: right;\n",
       "    }\n",
       "</style>\n",
       "<table border=\"1\" class=\"dataframe\">\n",
       "  <thead>\n",
       "    <tr style=\"text-align: right;\">\n",
       "      <th></th>\n",
       "      <th>tone_time</th>\n",
       "      <th>neuron_id</th>\n",
       "      <th>before_fired_spike_count</th>\n",
       "      <th>after_fired_spike_count</th>\n",
       "      <th>trial_type</th>\n",
       "    </tr>\n",
       "  </thead>\n",
       "  <tbody>\n",
       "    <tr>\n",
       "      <th>0</th>\n",
       "      <td>1408048</td>\n",
       "      <td>16</td>\n",
       "      <td>7</td>\n",
       "      <td>6</td>\n",
       "      <td>rewarded</td>\n",
       "    </tr>\n",
       "    <tr>\n",
       "      <th>1</th>\n",
       "      <td>1408048</td>\n",
       "      <td>20</td>\n",
       "      <td>92</td>\n",
       "      <td>157</td>\n",
       "      <td>rewarded</td>\n",
       "    </tr>\n",
       "    <tr>\n",
       "      <th>2</th>\n",
       "      <td>1408048</td>\n",
       "      <td>24</td>\n",
       "      <td>59</td>\n",
       "      <td>53</td>\n",
       "      <td>rewarded</td>\n",
       "    </tr>\n",
       "    <tr>\n",
       "      <th>3</th>\n",
       "      <td>1408048</td>\n",
       "      <td>50</td>\n",
       "      <td>3</td>\n",
       "      <td>2</td>\n",
       "      <td>rewarded</td>\n",
       "    </tr>\n",
       "    <tr>\n",
       "      <th>4</th>\n",
       "      <td>1408048</td>\n",
       "      <td>52</td>\n",
       "      <td>8</td>\n",
       "      <td>12</td>\n",
       "      <td>rewarded</td>\n",
       "    </tr>\n",
       "    <tr>\n",
       "      <th>...</th>\n",
       "      <td>...</td>\n",
       "      <td>...</td>\n",
       "      <td>...</td>\n",
       "      <td>...</td>\n",
       "      <td>...</td>\n",
       "    </tr>\n",
       "    <tr>\n",
       "      <th>457</th>\n",
       "      <td>60998563</td>\n",
       "      <td>163</td>\n",
       "      <td>17</td>\n",
       "      <td>4</td>\n",
       "      <td>loss</td>\n",
       "    </tr>\n",
       "    <tr>\n",
       "      <th>458</th>\n",
       "      <td>60998563</td>\n",
       "      <td>174</td>\n",
       "      <td>80</td>\n",
       "      <td>63</td>\n",
       "      <td>loss</td>\n",
       "    </tr>\n",
       "    <tr>\n",
       "      <th>459</th>\n",
       "      <td>60998563</td>\n",
       "      <td>182</td>\n",
       "      <td>6</td>\n",
       "      <td>4</td>\n",
       "      <td>loss</td>\n",
       "    </tr>\n",
       "    <tr>\n",
       "      <th>460</th>\n",
       "      <td>60998563</td>\n",
       "      <td>183</td>\n",
       "      <td>140</td>\n",
       "      <td>135</td>\n",
       "      <td>loss</td>\n",
       "    </tr>\n",
       "    <tr>\n",
       "      <th>461</th>\n",
       "      <td>60998563</td>\n",
       "      <td>188</td>\n",
       "      <td>2</td>\n",
       "      <td>3</td>\n",
       "      <td>loss</td>\n",
       "    </tr>\n",
       "  </tbody>\n",
       "</table>\n",
       "<p>462 rows × 5 columns</p>\n",
       "</div>"
      ],
      "text/plain": [
       "     tone_time  neuron_id  before_fired_spike_count  after_fired_spike_count  \\\n",
       "0      1408048         16                         7                        6   \n",
       "1      1408048         20                        92                      157   \n",
       "2      1408048         24                        59                       53   \n",
       "3      1408048         50                         3                        2   \n",
       "4      1408048         52                         8                       12   \n",
       "..         ...        ...                       ...                      ...   \n",
       "457   60998563        163                        17                        4   \n",
       "458   60998563        174                        80                       63   \n",
       "459   60998563        182                         6                        4   \n",
       "460   60998563        183                       140                      135   \n",
       "461   60998563        188                         2                        3   \n",
       "\n",
       "    trial_type  \n",
       "0     rewarded  \n",
       "1     rewarded  \n",
       "2     rewarded  \n",
       "3     rewarded  \n",
       "4     rewarded  \n",
       "..         ...  \n",
       "457       loss  \n",
       "458       loss  \n",
       "459       loss  \n",
       "460       loss  \n",
       "461       loss  \n",
       "\n",
       "[462 rows x 5 columns]"
      ]
     },
     "execution_count": 78,
     "metadata": {},
     "output_type": "execute_result"
    }
   ],
   "source": [
    "merged_before_after_tone_spike_count_df"
   ]
  },
  {
   "cell_type": "markdown",
   "id": "f4f0ac7c",
   "metadata": {},
   "source": [
    "# Calculating Wilcoxon Rank Sum"
   ]
  },
  {
   "cell_type": "code",
   "execution_count": 79,
   "id": "cd6202b4",
   "metadata": {},
   "outputs": [],
   "source": [
    "import scipy.stats as stats"
   ]
  },
  {
   "cell_type": "code",
   "execution_count": 80,
   "id": "e02544ba",
   "metadata": {},
   "outputs": [],
   "source": [
    "import itertools"
   ]
  },
  {
   "cell_type": "markdown",
   "id": "8f7f8fc4",
   "metadata": {},
   "source": [
    "- Example of what the Wilcoxon Rank Sum will compare between"
   ]
  },
  {
   "cell_type": "code",
   "execution_count": 81,
   "id": "0488e0e6",
   "metadata": {},
   "outputs": [],
   "source": [
    "random_trial = merged_before_after_tone_spike_count_df[\"trial_type\"].unique()[0]"
   ]
  },
  {
   "cell_type": "code",
   "execution_count": 82,
   "id": "b29465f1",
   "metadata": {},
   "outputs": [
    {
     "data": {
      "text/plain": [
       "'rewarded'"
      ]
     },
     "execution_count": 82,
     "metadata": {},
     "output_type": "execute_result"
    }
   ],
   "source": [
    "random_trial"
   ]
  },
  {
   "cell_type": "code",
   "execution_count": 83,
   "id": "8052d11f",
   "metadata": {},
   "outputs": [],
   "source": [
    "random_neuron = merged_before_after_tone_spike_count_df[\"neuron_id\"].unique()[0]"
   ]
  },
  {
   "cell_type": "code",
   "execution_count": 84,
   "id": "8d02b0d9",
   "metadata": {},
   "outputs": [
    {
     "data": {
      "text/plain": [
       "16"
      ]
     },
     "execution_count": 84,
     "metadata": {},
     "output_type": "execute_result"
    }
   ],
   "source": [
    "random_neuron"
   ]
  },
  {
   "cell_type": "code",
   "execution_count": 85,
   "id": "56abfcec",
   "metadata": {},
   "outputs": [
    {
     "data": {
      "text/html": [
       "<div>\n",
       "<style scoped>\n",
       "    .dataframe tbody tr th:only-of-type {\n",
       "        vertical-align: middle;\n",
       "    }\n",
       "\n",
       "    .dataframe tbody tr th {\n",
       "        vertical-align: top;\n",
       "    }\n",
       "\n",
       "    .dataframe thead th {\n",
       "        text-align: right;\n",
       "    }\n",
       "</style>\n",
       "<table border=\"1\" class=\"dataframe\">\n",
       "  <thead>\n",
       "    <tr style=\"text-align: right;\">\n",
       "      <th></th>\n",
       "      <th>tone_time</th>\n",
       "      <th>neuron_id</th>\n",
       "      <th>before_fired_spike_count</th>\n",
       "      <th>after_fired_spike_count</th>\n",
       "      <th>trial_type</th>\n",
       "    </tr>\n",
       "  </thead>\n",
       "  <tbody>\n",
       "    <tr>\n",
       "      <th>0</th>\n",
       "      <td>1408048</td>\n",
       "      <td>16</td>\n",
       "      <td>7</td>\n",
       "      <td>6</td>\n",
       "      <td>rewarded</td>\n",
       "    </tr>\n",
       "    <tr>\n",
       "      <th>14</th>\n",
       "      <td>3008051</td>\n",
       "      <td>16</td>\n",
       "      <td>3</td>\n",
       "      <td>1</td>\n",
       "      <td>rewarded</td>\n",
       "    </tr>\n",
       "    <tr>\n",
       "      <th>28</th>\n",
       "      <td>4808043</td>\n",
       "      <td>16</td>\n",
       "      <td>4</td>\n",
       "      <td>3</td>\n",
       "      <td>rewarded</td>\n",
       "    </tr>\n",
       "    <tr>\n",
       "      <th>56</th>\n",
       "      <td>7908040</td>\n",
       "      <td>16</td>\n",
       "      <td>3</td>\n",
       "      <td>2</td>\n",
       "      <td>rewarded</td>\n",
       "    </tr>\n",
       "    <tr>\n",
       "      <th>70</th>\n",
       "      <td>9908037</td>\n",
       "      <td>16</td>\n",
       "      <td>3</td>\n",
       "      <td>9</td>\n",
       "      <td>rewarded</td>\n",
       "    </tr>\n",
       "    <tr>\n",
       "      <th>84</th>\n",
       "      <td>11808035</td>\n",
       "      <td>16</td>\n",
       "      <td>4</td>\n",
       "      <td>6</td>\n",
       "      <td>rewarded</td>\n",
       "    </tr>\n",
       "    <tr>\n",
       "      <th>98</th>\n",
       "      <td>13608031</td>\n",
       "      <td>16</td>\n",
       "      <td>2</td>\n",
       "      <td>3</td>\n",
       "      <td>rewarded</td>\n",
       "    </tr>\n",
       "    <tr>\n",
       "      <th>126</th>\n",
       "      <td>17008029</td>\n",
       "      <td>16</td>\n",
       "      <td>2</td>\n",
       "      <td>24</td>\n",
       "      <td>rewarded</td>\n",
       "    </tr>\n",
       "    <tr>\n",
       "      <th>140</th>\n",
       "      <td>19008027</td>\n",
       "      <td>16</td>\n",
       "      <td>3</td>\n",
       "      <td>1</td>\n",
       "      <td>rewarded</td>\n",
       "    </tr>\n",
       "    <tr>\n",
       "      <th>168</th>\n",
       "      <td>23208023</td>\n",
       "      <td>16</td>\n",
       "      <td>3</td>\n",
       "      <td>2</td>\n",
       "      <td>rewarded</td>\n",
       "    </tr>\n",
       "    <tr>\n",
       "      <th>182</th>\n",
       "      <td>25008021</td>\n",
       "      <td>16</td>\n",
       "      <td>0</td>\n",
       "      <td>5</td>\n",
       "      <td>rewarded</td>\n",
       "    </tr>\n",
       "  </tbody>\n",
       "</table>\n",
       "</div>"
      ],
      "text/plain": [
       "     tone_time  neuron_id  before_fired_spike_count  after_fired_spike_count  \\\n",
       "0      1408048         16                         7                        6   \n",
       "14     3008051         16                         3                        1   \n",
       "28     4808043         16                         4                        3   \n",
       "56     7908040         16                         3                        2   \n",
       "70     9908037         16                         3                        9   \n",
       "84    11808035         16                         4                        6   \n",
       "98    13608031         16                         2                        3   \n",
       "126   17008029         16                         2                       24   \n",
       "140   19008027         16                         3                        1   \n",
       "168   23208023         16                         3                        2   \n",
       "182   25008021         16                         0                        5   \n",
       "\n",
       "    trial_type  \n",
       "0     rewarded  \n",
       "14    rewarded  \n",
       "28    rewarded  \n",
       "56    rewarded  \n",
       "70    rewarded  \n",
       "84    rewarded  \n",
       "98    rewarded  \n",
       "126   rewarded  \n",
       "140   rewarded  \n",
       "168   rewarded  \n",
       "182   rewarded  "
      ]
     },
     "execution_count": 85,
     "metadata": {},
     "output_type": "execute_result"
    }
   ],
   "source": [
    "merged_before_after_tone_spike_count_df[(merged_before_after_tone_spike_count_df[\"neuron_id\"] == random_neuron) & (merged_before_after_tone_spike_count_df[\"trial_type\"] == random_trial)]"
   ]
  },
  {
   "cell_type": "markdown",
   "id": "0b70427f",
   "metadata": {},
   "source": [
    "- Seeing which neuron has significant change with the Wilcoxon Rank Sum test"
   ]
  },
  {
   "cell_type": "code",
   "execution_count": 86,
   "id": "19f67531",
   "metadata": {},
   "outputs": [
    {
     "name": "stderr",
     "output_type": "stream",
     "text": [
      "/nancy/projects/reward_competition_ephys_analysis_with_omission_and_divider_controls/bin/conda_environment/spike_interface_env_0_96_1/lib/python3.9/site-packages/scipy/stats/_morestats.py:3414: UserWarning: Exact p-value calculation does not work if there are zeros. Switching to normal approximation.\n",
      "  warnings.warn(\"Exact p-value calculation does not work if there are \"\n",
      "/nancy/projects/reward_competition_ephys_analysis_with_omission_and_divider_controls/bin/conda_environment/spike_interface_env_0_96_1/lib/python3.9/site-packages/scipy/stats/_morestats.py:3428: UserWarning: Sample size too small for normal approximation.\n",
      "  warnings.warn(\"Sample size too small for normal approximation.\")\n"
     ]
    }
   ],
   "source": [
    "neuron_id_to_trial_type_to_wilcoxon_score = defaultdict(dict)\n",
    "# Getting all the combinations of neuron ID and trial type\n",
    "neuron_id_and_trial_type_combinations = list(itertools.product(merged_before_after_tone_spike_count_df[\"neuron_id\"].unique(), merged_before_after_tone_spike_count_df[\"trial_type\"].unique()))\n",
    "for neuron_id, trial_type in neuron_id_and_trial_type_combinations:\n",
    "    try:\n",
    "        # Getting all the rows that match the neuron and the trial type\n",
    "        current_df = merged_before_after_tone_spike_count_df[(merged_before_after_tone_spike_count_df[\"neuron_id\"] == neuron_id) & (merged_before_after_tone_spike_count_df[\"trial_type\"] == trial_type)]\n",
    "        # Calculating the Wilcoxon Rank Sum\n",
    "        neuron_id_to_trial_type_to_wilcoxon_score[neuron_id][trial_type] = stats.wilcoxon(current_df[\"before_fired_spike_count\"], current_df[\"after_fired_spike_count\"])\n",
    "    except:\n",
    "        print(\"Neuron: {} Trial Type: {}\".format(neuron_id, trial_type))\n",
    "        warnings.warn(\"Wilcoxon unable to run for these neuron and trial type combination\")"
   ]
  },
  {
   "cell_type": "code",
   "execution_count": 87,
   "id": "351b59cc",
   "metadata": {},
   "outputs": [
    {
     "data": {
      "text/plain": [
       "defaultdict(dict,\n",
       "            {16: {'rewarded': WilcoxonResult(statistic=26.0, pvalue=0.5771484375),\n",
       "              'omission': WilcoxonResult(statistic=0.0, pvalue=0.25),\n",
       "              'loss': WilcoxonResult(statistic=9.0, pvalue=0.46875),\n",
       "              'win': WilcoxonResult(statistic=21.0, pvalue=0.2857652190231508)},\n",
       "             20: {'rewarded': WilcoxonResult(statistic=1.0, pvalue=0.001953125),\n",
       "              'omission': WilcoxonResult(statistic=2.0, pvalue=0.75),\n",
       "              'loss': WilcoxonResult(statistic=7.0, pvalue=0.296875),\n",
       "              'win': WilcoxonResult(statistic=0.0, pvalue=0.00048828125)},\n",
       "             24: {'rewarded': WilcoxonResult(statistic=12.0, pvalue=0.11412832776223863),\n",
       "              'omission': WilcoxonResult(statistic=1.0, pvalue=0.5),\n",
       "              'loss': WilcoxonResult(statistic=10.0, pvalue=0.578125),\n",
       "              'win': WilcoxonResult(statistic=38.5, pvalue=1.0)},\n",
       "             50: {'rewarded': WilcoxonResult(statistic=19.0, pvalue=0.6770625436041271),\n",
       "              'omission': WilcoxonResult(statistic=3.0, pvalue=1.0),\n",
       "              'loss': WilcoxonResult(statistic=1.0, pvalue=0.045799589111186666),\n",
       "              'win': WilcoxonResult(statistic=11.5, pvalue=0.10269401160864534)},\n",
       "             52: {'rewarded': WilcoxonResult(statistic=11.0, pvalue=0.09175319625596735),\n",
       "              'omission': WilcoxonResult(statistic=3.0, pvalue=1.0),\n",
       "              'loss': WilcoxonResult(statistic=3.5, pvalue=0.078125),\n",
       "              'win': WilcoxonResult(statistic=27.0, pvalue=0.9592211344573861)},\n",
       "             54: {'rewarded': WilcoxonResult(statistic=8.0, pvalue=0.0244140625),\n",
       "              'omission': WilcoxonResult(statistic=3.0, pvalue=1.0),\n",
       "              'loss': WilcoxonResult(statistic=14.0, pvalue=1.0),\n",
       "              'win': WilcoxonResult(statistic=3.5, pvalue=0.00341796875)},\n",
       "             59: {'rewarded': WilcoxonResult(statistic=18.5, pvalue=0.35738571603752656),\n",
       "              'omission': WilcoxonResult(statistic=2.0, pvalue=0.75),\n",
       "              'loss': WilcoxonResult(statistic=3.0, pvalue=0.22067136191984693),\n",
       "              'win': WilcoxonResult(statistic=8.5, pvalue=0.05263321233144818)},\n",
       "             64: {'rewarded': WilcoxonResult(statistic=15.0, pvalue=0.123046875),\n",
       "              'omission': WilcoxonResult(statistic=2.0, pvalue=0.75),\n",
       "              'loss': WilcoxonResult(statistic=5.0, pvalue=0.24756078730477016),\n",
       "              'win': WilcoxonResult(statistic=13.0, pvalue=0.04248046875)},\n",
       "             156: {'rewarded': WilcoxonResult(statistic=18.0, pvalue=0.5929800980174267),\n",
       "              'omission': WilcoxonResult(statistic=1.0, pvalue=0.5),\n",
       "              'loss': WilcoxonResult(statistic=8.0, pvalue=0.375),\n",
       "              'win': WilcoxonResult(statistic=22.0, pvalue=0.3266265142872249)},\n",
       "             163: {'rewarded': WilcoxonResult(statistic=14.0, pvalue=0.1015625),\n",
       "              'omission': WilcoxonResult(statistic=3.0, pvalue=1.0),\n",
       "              'loss': WilcoxonResult(statistic=9.5, pvalue=0.578125),\n",
       "              'win': WilcoxonResult(statistic=5.5, pvalue=0.0068359375)},\n",
       "             174: {'rewarded': WilcoxonResult(statistic=27.0, pvalue=0.6376953125),\n",
       "              'omission': WilcoxonResult(statistic=1.0, pvalue=0.5),\n",
       "              'loss': WilcoxonResult(statistic=3.0, pvalue=0.078125),\n",
       "              'win': WilcoxonResult(statistic=13.0, pvalue=0.04248046875)},\n",
       "             182: {'rewarded': WilcoxonResult(statistic=30.5, pvalue=0.8984375),\n",
       "              'omission': WilcoxonResult(statistic=2.5, pvalue=0.75),\n",
       "              'loss': WilcoxonResult(statistic=8.5, pvalue=0.375),\n",
       "              'win': WilcoxonResult(statistic=29.0, pvalue=0.7205147871362552)},\n",
       "             183: {'rewarded': WilcoxonResult(statistic=19.0, pvalue=0.240234375),\n",
       "              'omission': WilcoxonResult(statistic=3.0, pvalue=1.0),\n",
       "              'loss': WilcoxonResult(statistic=10.5, pvalue=0.6875),\n",
       "              'win': WilcoxonResult(statistic=17.0, pvalue=0.1546559029620244)},\n",
       "             188: {'rewarded': WilcoxonResult(statistic=20.5, pvalue=0.47495853988950676),\n",
       "              'omission': WilcoxonResult(statistic=1.0, pvalue=0.5),\n",
       "              'loss': WilcoxonResult(statistic=1.5, pvalue=0.10405923452892792),\n",
       "              'win': WilcoxonResult(statistic=23.5, pvalue=0.3954886555136653)}})"
      ]
     },
     "execution_count": 87,
     "metadata": {},
     "output_type": "execute_result"
    }
   ],
   "source": [
    "neuron_id_to_trial_type_to_wilcoxon_score"
   ]
  },
  {
   "cell_type": "markdown",
   "id": "6248e071",
   "metadata": {},
   "source": [
    "# Pie Chart for Losing and Omission"
   ]
  },
  {
   "cell_type": "code",
   "execution_count": 88,
   "id": "cf8f5be5",
   "metadata": {},
   "outputs": [],
   "source": [
    "p_value_threshold = 0.1"
   ]
  },
  {
   "cell_type": "code",
   "execution_count": 89,
   "id": "70aa541a",
   "metadata": {},
   "outputs": [],
   "source": [
    "neuron_to_wilcoxon_df = pd.DataFrame.from_dict(neuron_id_to_trial_type_to_wilcoxon_score, orient=\"index\")"
   ]
  },
  {
   "cell_type": "code",
   "execution_count": 90,
   "id": "99bc426d",
   "metadata": {
    "scrolled": true
   },
   "outputs": [
    {
     "data": {
      "text/html": [
       "<div>\n",
       "<style scoped>\n",
       "    .dataframe tbody tr th:only-of-type {\n",
       "        vertical-align: middle;\n",
       "    }\n",
       "\n",
       "    .dataframe tbody tr th {\n",
       "        vertical-align: top;\n",
       "    }\n",
       "\n",
       "    .dataframe thead th {\n",
       "        text-align: right;\n",
       "    }\n",
       "</style>\n",
       "<table border=\"1\" class=\"dataframe\">\n",
       "  <thead>\n",
       "    <tr style=\"text-align: right;\">\n",
       "      <th></th>\n",
       "      <th>rewarded</th>\n",
       "      <th>omission</th>\n",
       "      <th>loss</th>\n",
       "      <th>win</th>\n",
       "    </tr>\n",
       "  </thead>\n",
       "  <tbody>\n",
       "    <tr>\n",
       "      <th>16</th>\n",
       "      <td>(26.0, 0.5771484375)</td>\n",
       "      <td>(0.0, 0.25)</td>\n",
       "      <td>(9.0, 0.46875)</td>\n",
       "      <td>(21.0, 0.2857652190231508)</td>\n",
       "    </tr>\n",
       "    <tr>\n",
       "      <th>20</th>\n",
       "      <td>(1.0, 0.001953125)</td>\n",
       "      <td>(2.0, 0.75)</td>\n",
       "      <td>(7.0, 0.296875)</td>\n",
       "      <td>(0.0, 0.00048828125)</td>\n",
       "    </tr>\n",
       "    <tr>\n",
       "      <th>24</th>\n",
       "      <td>(12.0, 0.11412832776223863)</td>\n",
       "      <td>(1.0, 0.5)</td>\n",
       "      <td>(10.0, 0.578125)</td>\n",
       "      <td>(38.5, 1.0)</td>\n",
       "    </tr>\n",
       "    <tr>\n",
       "      <th>50</th>\n",
       "      <td>(19.0, 0.6770625436041271)</td>\n",
       "      <td>(3.0, 1.0)</td>\n",
       "      <td>(1.0, 0.045799589111186666)</td>\n",
       "      <td>(11.5, 0.10269401160864534)</td>\n",
       "    </tr>\n",
       "    <tr>\n",
       "      <th>52</th>\n",
       "      <td>(11.0, 0.09175319625596735)</td>\n",
       "      <td>(3.0, 1.0)</td>\n",
       "      <td>(3.5, 0.078125)</td>\n",
       "      <td>(27.0, 0.9592211344573861)</td>\n",
       "    </tr>\n",
       "    <tr>\n",
       "      <th>54</th>\n",
       "      <td>(8.0, 0.0244140625)</td>\n",
       "      <td>(3.0, 1.0)</td>\n",
       "      <td>(14.0, 1.0)</td>\n",
       "      <td>(3.5, 0.00341796875)</td>\n",
       "    </tr>\n",
       "    <tr>\n",
       "      <th>59</th>\n",
       "      <td>(18.5, 0.35738571603752656)</td>\n",
       "      <td>(2.0, 0.75)</td>\n",
       "      <td>(3.0, 0.22067136191984693)</td>\n",
       "      <td>(8.5, 0.05263321233144818)</td>\n",
       "    </tr>\n",
       "    <tr>\n",
       "      <th>64</th>\n",
       "      <td>(15.0, 0.123046875)</td>\n",
       "      <td>(2.0, 0.75)</td>\n",
       "      <td>(5.0, 0.24756078730477016)</td>\n",
       "      <td>(13.0, 0.04248046875)</td>\n",
       "    </tr>\n",
       "    <tr>\n",
       "      <th>156</th>\n",
       "      <td>(18.0, 0.5929800980174267)</td>\n",
       "      <td>(1.0, 0.5)</td>\n",
       "      <td>(8.0, 0.375)</td>\n",
       "      <td>(22.0, 0.3266265142872249)</td>\n",
       "    </tr>\n",
       "    <tr>\n",
       "      <th>163</th>\n",
       "      <td>(14.0, 0.1015625)</td>\n",
       "      <td>(3.0, 1.0)</td>\n",
       "      <td>(9.5, 0.578125)</td>\n",
       "      <td>(5.5, 0.0068359375)</td>\n",
       "    </tr>\n",
       "    <tr>\n",
       "      <th>174</th>\n",
       "      <td>(27.0, 0.6376953125)</td>\n",
       "      <td>(1.0, 0.5)</td>\n",
       "      <td>(3.0, 0.078125)</td>\n",
       "      <td>(13.0, 0.04248046875)</td>\n",
       "    </tr>\n",
       "    <tr>\n",
       "      <th>182</th>\n",
       "      <td>(30.5, 0.8984375)</td>\n",
       "      <td>(2.5, 0.75)</td>\n",
       "      <td>(8.5, 0.375)</td>\n",
       "      <td>(29.0, 0.7205147871362552)</td>\n",
       "    </tr>\n",
       "    <tr>\n",
       "      <th>183</th>\n",
       "      <td>(19.0, 0.240234375)</td>\n",
       "      <td>(3.0, 1.0)</td>\n",
       "      <td>(10.5, 0.6875)</td>\n",
       "      <td>(17.0, 0.1546559029620244)</td>\n",
       "    </tr>\n",
       "    <tr>\n",
       "      <th>188</th>\n",
       "      <td>(20.5, 0.47495853988950676)</td>\n",
       "      <td>(1.0, 0.5)</td>\n",
       "      <td>(1.5, 0.10405923452892792)</td>\n",
       "      <td>(23.5, 0.3954886555136653)</td>\n",
       "    </tr>\n",
       "  </tbody>\n",
       "</table>\n",
       "</div>"
      ],
      "text/plain": [
       "                        rewarded     omission                         loss  \\\n",
       "16          (26.0, 0.5771484375)  (0.0, 0.25)               (9.0, 0.46875)   \n",
       "20            (1.0, 0.001953125)  (2.0, 0.75)              (7.0, 0.296875)   \n",
       "24   (12.0, 0.11412832776223863)   (1.0, 0.5)             (10.0, 0.578125)   \n",
       "50    (19.0, 0.6770625436041271)   (3.0, 1.0)  (1.0, 0.045799589111186666)   \n",
       "52   (11.0, 0.09175319625596735)   (3.0, 1.0)              (3.5, 0.078125)   \n",
       "54           (8.0, 0.0244140625)   (3.0, 1.0)                  (14.0, 1.0)   \n",
       "59   (18.5, 0.35738571603752656)  (2.0, 0.75)   (3.0, 0.22067136191984693)   \n",
       "64           (15.0, 0.123046875)  (2.0, 0.75)   (5.0, 0.24756078730477016)   \n",
       "156   (18.0, 0.5929800980174267)   (1.0, 0.5)                 (8.0, 0.375)   \n",
       "163            (14.0, 0.1015625)   (3.0, 1.0)              (9.5, 0.578125)   \n",
       "174         (27.0, 0.6376953125)   (1.0, 0.5)              (3.0, 0.078125)   \n",
       "182            (30.5, 0.8984375)  (2.5, 0.75)                 (8.5, 0.375)   \n",
       "183          (19.0, 0.240234375)   (3.0, 1.0)               (10.5, 0.6875)   \n",
       "188  (20.5, 0.47495853988950676)   (1.0, 0.5)   (1.5, 0.10405923452892792)   \n",
       "\n",
       "                             win  \n",
       "16    (21.0, 0.2857652190231508)  \n",
       "20          (0.0, 0.00048828125)  \n",
       "24                   (38.5, 1.0)  \n",
       "50   (11.5, 0.10269401160864534)  \n",
       "52    (27.0, 0.9592211344573861)  \n",
       "54          (3.5, 0.00341796875)  \n",
       "59    (8.5, 0.05263321233144818)  \n",
       "64         (13.0, 0.04248046875)  \n",
       "156   (22.0, 0.3266265142872249)  \n",
       "163          (5.5, 0.0068359375)  \n",
       "174        (13.0, 0.04248046875)  \n",
       "182   (29.0, 0.7205147871362552)  \n",
       "183   (17.0, 0.1546559029620244)  \n",
       "188   (23.5, 0.3954886555136653)  "
      ]
     },
     "execution_count": 90,
     "metadata": {},
     "output_type": "execute_result"
    }
   ],
   "source": [
    "neuron_to_wilcoxon_df"
   ]
  },
  {
   "cell_type": "markdown",
   "id": "4c994240",
   "metadata": {},
   "source": [
    "- Getting the P Value from the tuple for each trial type"
   ]
  },
  {
   "cell_type": "code",
   "execution_count": 91,
   "id": "fe7cbcaa",
   "metadata": {},
   "outputs": [],
   "source": [
    "def get_first_item_for_lambda(value, default):\n",
    "    try:\n",
    "        return (value[1])\n",
    "    except:\n",
    "        return default\n",
    "    return default"
   ]
  },
  {
   "cell_type": "code",
   "execution_count": 92,
   "id": "ebcff259",
   "metadata": {},
   "outputs": [],
   "source": [
    "for col in neuron_to_wilcoxon_df.columns:\n",
    "    neuron_to_wilcoxon_df[\"{}_pvalue\".format(col)] = neuron_to_wilcoxon_df[col].apply(lambda x: get_first_item_for_lambda(value=x, default=np.nan))"
   ]
  },
  {
   "cell_type": "code",
   "execution_count": 93,
   "id": "2b9c60b9",
   "metadata": {},
   "outputs": [
    {
     "data": {
      "text/html": [
       "<div>\n",
       "<style scoped>\n",
       "    .dataframe tbody tr th:only-of-type {\n",
       "        vertical-align: middle;\n",
       "    }\n",
       "\n",
       "    .dataframe tbody tr th {\n",
       "        vertical-align: top;\n",
       "    }\n",
       "\n",
       "    .dataframe thead th {\n",
       "        text-align: right;\n",
       "    }\n",
       "</style>\n",
       "<table border=\"1\" class=\"dataframe\">\n",
       "  <thead>\n",
       "    <tr style=\"text-align: right;\">\n",
       "      <th></th>\n",
       "      <th>rewarded</th>\n",
       "      <th>omission</th>\n",
       "      <th>loss</th>\n",
       "      <th>win</th>\n",
       "      <th>rewarded_pvalue</th>\n",
       "      <th>omission_pvalue</th>\n",
       "      <th>loss_pvalue</th>\n",
       "      <th>win_pvalue</th>\n",
       "    </tr>\n",
       "  </thead>\n",
       "  <tbody>\n",
       "    <tr>\n",
       "      <th>16</th>\n",
       "      <td>(26.0, 0.5771484375)</td>\n",
       "      <td>(0.0, 0.25)</td>\n",
       "      <td>(9.0, 0.46875)</td>\n",
       "      <td>(21.0, 0.2857652190231508)</td>\n",
       "      <td>0.577148</td>\n",
       "      <td>0.25</td>\n",
       "      <td>0.468750</td>\n",
       "      <td>0.285765</td>\n",
       "    </tr>\n",
       "    <tr>\n",
       "      <th>20</th>\n",
       "      <td>(1.0, 0.001953125)</td>\n",
       "      <td>(2.0, 0.75)</td>\n",
       "      <td>(7.0, 0.296875)</td>\n",
       "      <td>(0.0, 0.00048828125)</td>\n",
       "      <td>0.001953</td>\n",
       "      <td>0.75</td>\n",
       "      <td>0.296875</td>\n",
       "      <td>0.000488</td>\n",
       "    </tr>\n",
       "    <tr>\n",
       "      <th>24</th>\n",
       "      <td>(12.0, 0.11412832776223863)</td>\n",
       "      <td>(1.0, 0.5)</td>\n",
       "      <td>(10.0, 0.578125)</td>\n",
       "      <td>(38.5, 1.0)</td>\n",
       "      <td>0.114128</td>\n",
       "      <td>0.50</td>\n",
       "      <td>0.578125</td>\n",
       "      <td>1.000000</td>\n",
       "    </tr>\n",
       "    <tr>\n",
       "      <th>50</th>\n",
       "      <td>(19.0, 0.6770625436041271)</td>\n",
       "      <td>(3.0, 1.0)</td>\n",
       "      <td>(1.0, 0.045799589111186666)</td>\n",
       "      <td>(11.5, 0.10269401160864534)</td>\n",
       "      <td>0.677063</td>\n",
       "      <td>1.00</td>\n",
       "      <td>0.045800</td>\n",
       "      <td>0.102694</td>\n",
       "    </tr>\n",
       "    <tr>\n",
       "      <th>52</th>\n",
       "      <td>(11.0, 0.09175319625596735)</td>\n",
       "      <td>(3.0, 1.0)</td>\n",
       "      <td>(3.5, 0.078125)</td>\n",
       "      <td>(27.0, 0.9592211344573861)</td>\n",
       "      <td>0.091753</td>\n",
       "      <td>1.00</td>\n",
       "      <td>0.078125</td>\n",
       "      <td>0.959221</td>\n",
       "    </tr>\n",
       "  </tbody>\n",
       "</table>\n",
       "</div>"
      ],
      "text/plain": [
       "                       rewarded     omission                         loss  \\\n",
       "16         (26.0, 0.5771484375)  (0.0, 0.25)               (9.0, 0.46875)   \n",
       "20           (1.0, 0.001953125)  (2.0, 0.75)              (7.0, 0.296875)   \n",
       "24  (12.0, 0.11412832776223863)   (1.0, 0.5)             (10.0, 0.578125)   \n",
       "50   (19.0, 0.6770625436041271)   (3.0, 1.0)  (1.0, 0.045799589111186666)   \n",
       "52  (11.0, 0.09175319625596735)   (3.0, 1.0)              (3.5, 0.078125)   \n",
       "\n",
       "                            win  rewarded_pvalue  omission_pvalue  \\\n",
       "16   (21.0, 0.2857652190231508)         0.577148             0.25   \n",
       "20         (0.0, 0.00048828125)         0.001953             0.75   \n",
       "24                  (38.5, 1.0)         0.114128             0.50   \n",
       "50  (11.5, 0.10269401160864534)         0.677063             1.00   \n",
       "52   (27.0, 0.9592211344573861)         0.091753             1.00   \n",
       "\n",
       "    loss_pvalue  win_pvalue  \n",
       "16     0.468750    0.285765  \n",
       "20     0.296875    0.000488  \n",
       "24     0.578125    1.000000  \n",
       "50     0.045800    0.102694  \n",
       "52     0.078125    0.959221  "
      ]
     },
     "execution_count": 93,
     "metadata": {},
     "output_type": "execute_result"
    }
   ],
   "source": [
    "neuron_to_wilcoxon_df.head()"
   ]
  },
  {
   "cell_type": "code",
   "execution_count": 94,
   "id": "c14ab1e4",
   "metadata": {},
   "outputs": [
    {
     "data": {
      "text/html": [
       "<div>\n",
       "<style scoped>\n",
       "    .dataframe tbody tr th:only-of-type {\n",
       "        vertical-align: middle;\n",
       "    }\n",
       "\n",
       "    .dataframe tbody tr th {\n",
       "        vertical-align: top;\n",
       "    }\n",
       "\n",
       "    .dataframe thead th {\n",
       "        text-align: right;\n",
       "    }\n",
       "</style>\n",
       "<table border=\"1\" class=\"dataframe\">\n",
       "  <thead>\n",
       "    <tr style=\"text-align: right;\">\n",
       "      <th></th>\n",
       "      <th>rewarded</th>\n",
       "      <th>omission</th>\n",
       "      <th>loss</th>\n",
       "      <th>win</th>\n",
       "      <th>rewarded_pvalue</th>\n",
       "      <th>omission_pvalue</th>\n",
       "      <th>loss_pvalue</th>\n",
       "      <th>win_pvalue</th>\n",
       "    </tr>\n",
       "  </thead>\n",
       "  <tbody>\n",
       "    <tr>\n",
       "      <th>16</th>\n",
       "      <td>(26.0, 0.5771484375)</td>\n",
       "      <td>(0.0, 0.25)</td>\n",
       "      <td>(9.0, 0.46875)</td>\n",
       "      <td>(21.0, 0.2857652190231508)</td>\n",
       "      <td>0.577148</td>\n",
       "      <td>0.25</td>\n",
       "      <td>0.468750</td>\n",
       "      <td>0.285765</td>\n",
       "    </tr>\n",
       "    <tr>\n",
       "      <th>20</th>\n",
       "      <td>(1.0, 0.001953125)</td>\n",
       "      <td>(2.0, 0.75)</td>\n",
       "      <td>(7.0, 0.296875)</td>\n",
       "      <td>(0.0, 0.00048828125)</td>\n",
       "      <td>0.001953</td>\n",
       "      <td>0.75</td>\n",
       "      <td>0.296875</td>\n",
       "      <td>0.000488</td>\n",
       "    </tr>\n",
       "    <tr>\n",
       "      <th>24</th>\n",
       "      <td>(12.0, 0.11412832776223863)</td>\n",
       "      <td>(1.0, 0.5)</td>\n",
       "      <td>(10.0, 0.578125)</td>\n",
       "      <td>(38.5, 1.0)</td>\n",
       "      <td>0.114128</td>\n",
       "      <td>0.50</td>\n",
       "      <td>0.578125</td>\n",
       "      <td>1.000000</td>\n",
       "    </tr>\n",
       "    <tr>\n",
       "      <th>50</th>\n",
       "      <td>(19.0, 0.6770625436041271)</td>\n",
       "      <td>(3.0, 1.0)</td>\n",
       "      <td>(1.0, 0.045799589111186666)</td>\n",
       "      <td>(11.5, 0.10269401160864534)</td>\n",
       "      <td>0.677063</td>\n",
       "      <td>1.00</td>\n",
       "      <td>0.045800</td>\n",
       "      <td>0.102694</td>\n",
       "    </tr>\n",
       "    <tr>\n",
       "      <th>52</th>\n",
       "      <td>(11.0, 0.09175319625596735)</td>\n",
       "      <td>(3.0, 1.0)</td>\n",
       "      <td>(3.5, 0.078125)</td>\n",
       "      <td>(27.0, 0.9592211344573861)</td>\n",
       "      <td>0.091753</td>\n",
       "      <td>1.00</td>\n",
       "      <td>0.078125</td>\n",
       "      <td>0.959221</td>\n",
       "    </tr>\n",
       "    <tr>\n",
       "      <th>54</th>\n",
       "      <td>(8.0, 0.0244140625)</td>\n",
       "      <td>(3.0, 1.0)</td>\n",
       "      <td>(14.0, 1.0)</td>\n",
       "      <td>(3.5, 0.00341796875)</td>\n",
       "      <td>0.024414</td>\n",
       "      <td>1.00</td>\n",
       "      <td>1.000000</td>\n",
       "      <td>0.003418</td>\n",
       "    </tr>\n",
       "    <tr>\n",
       "      <th>59</th>\n",
       "      <td>(18.5, 0.35738571603752656)</td>\n",
       "      <td>(2.0, 0.75)</td>\n",
       "      <td>(3.0, 0.22067136191984693)</td>\n",
       "      <td>(8.5, 0.05263321233144818)</td>\n",
       "      <td>0.357386</td>\n",
       "      <td>0.75</td>\n",
       "      <td>0.220671</td>\n",
       "      <td>0.052633</td>\n",
       "    </tr>\n",
       "    <tr>\n",
       "      <th>64</th>\n",
       "      <td>(15.0, 0.123046875)</td>\n",
       "      <td>(2.0, 0.75)</td>\n",
       "      <td>(5.0, 0.24756078730477016)</td>\n",
       "      <td>(13.0, 0.04248046875)</td>\n",
       "      <td>0.123047</td>\n",
       "      <td>0.75</td>\n",
       "      <td>0.247561</td>\n",
       "      <td>0.042480</td>\n",
       "    </tr>\n",
       "    <tr>\n",
       "      <th>156</th>\n",
       "      <td>(18.0, 0.5929800980174267)</td>\n",
       "      <td>(1.0, 0.5)</td>\n",
       "      <td>(8.0, 0.375)</td>\n",
       "      <td>(22.0, 0.3266265142872249)</td>\n",
       "      <td>0.592980</td>\n",
       "      <td>0.50</td>\n",
       "      <td>0.375000</td>\n",
       "      <td>0.326627</td>\n",
       "    </tr>\n",
       "    <tr>\n",
       "      <th>163</th>\n",
       "      <td>(14.0, 0.1015625)</td>\n",
       "      <td>(3.0, 1.0)</td>\n",
       "      <td>(9.5, 0.578125)</td>\n",
       "      <td>(5.5, 0.0068359375)</td>\n",
       "      <td>0.101562</td>\n",
       "      <td>1.00</td>\n",
       "      <td>0.578125</td>\n",
       "      <td>0.006836</td>\n",
       "    </tr>\n",
       "    <tr>\n",
       "      <th>174</th>\n",
       "      <td>(27.0, 0.6376953125)</td>\n",
       "      <td>(1.0, 0.5)</td>\n",
       "      <td>(3.0, 0.078125)</td>\n",
       "      <td>(13.0, 0.04248046875)</td>\n",
       "      <td>0.637695</td>\n",
       "      <td>0.50</td>\n",
       "      <td>0.078125</td>\n",
       "      <td>0.042480</td>\n",
       "    </tr>\n",
       "    <tr>\n",
       "      <th>182</th>\n",
       "      <td>(30.5, 0.8984375)</td>\n",
       "      <td>(2.5, 0.75)</td>\n",
       "      <td>(8.5, 0.375)</td>\n",
       "      <td>(29.0, 0.7205147871362552)</td>\n",
       "      <td>0.898438</td>\n",
       "      <td>0.75</td>\n",
       "      <td>0.375000</td>\n",
       "      <td>0.720515</td>\n",
       "    </tr>\n",
       "    <tr>\n",
       "      <th>183</th>\n",
       "      <td>(19.0, 0.240234375)</td>\n",
       "      <td>(3.0, 1.0)</td>\n",
       "      <td>(10.5, 0.6875)</td>\n",
       "      <td>(17.0, 0.1546559029620244)</td>\n",
       "      <td>0.240234</td>\n",
       "      <td>1.00</td>\n",
       "      <td>0.687500</td>\n",
       "      <td>0.154656</td>\n",
       "    </tr>\n",
       "    <tr>\n",
       "      <th>188</th>\n",
       "      <td>(20.5, 0.47495853988950676)</td>\n",
       "      <td>(1.0, 0.5)</td>\n",
       "      <td>(1.5, 0.10405923452892792)</td>\n",
       "      <td>(23.5, 0.3954886555136653)</td>\n",
       "      <td>0.474959</td>\n",
       "      <td>0.50</td>\n",
       "      <td>0.104059</td>\n",
       "      <td>0.395489</td>\n",
       "    </tr>\n",
       "  </tbody>\n",
       "</table>\n",
       "</div>"
      ],
      "text/plain": [
       "                        rewarded     omission                         loss  \\\n",
       "16          (26.0, 0.5771484375)  (0.0, 0.25)               (9.0, 0.46875)   \n",
       "20            (1.0, 0.001953125)  (2.0, 0.75)              (7.0, 0.296875)   \n",
       "24   (12.0, 0.11412832776223863)   (1.0, 0.5)             (10.0, 0.578125)   \n",
       "50    (19.0, 0.6770625436041271)   (3.0, 1.0)  (1.0, 0.045799589111186666)   \n",
       "52   (11.0, 0.09175319625596735)   (3.0, 1.0)              (3.5, 0.078125)   \n",
       "54           (8.0, 0.0244140625)   (3.0, 1.0)                  (14.0, 1.0)   \n",
       "59   (18.5, 0.35738571603752656)  (2.0, 0.75)   (3.0, 0.22067136191984693)   \n",
       "64           (15.0, 0.123046875)  (2.0, 0.75)   (5.0, 0.24756078730477016)   \n",
       "156   (18.0, 0.5929800980174267)   (1.0, 0.5)                 (8.0, 0.375)   \n",
       "163            (14.0, 0.1015625)   (3.0, 1.0)              (9.5, 0.578125)   \n",
       "174         (27.0, 0.6376953125)   (1.0, 0.5)              (3.0, 0.078125)   \n",
       "182            (30.5, 0.8984375)  (2.5, 0.75)                 (8.5, 0.375)   \n",
       "183          (19.0, 0.240234375)   (3.0, 1.0)               (10.5, 0.6875)   \n",
       "188  (20.5, 0.47495853988950676)   (1.0, 0.5)   (1.5, 0.10405923452892792)   \n",
       "\n",
       "                             win  rewarded_pvalue  omission_pvalue  \\\n",
       "16    (21.0, 0.2857652190231508)         0.577148             0.25   \n",
       "20          (0.0, 0.00048828125)         0.001953             0.75   \n",
       "24                   (38.5, 1.0)         0.114128             0.50   \n",
       "50   (11.5, 0.10269401160864534)         0.677063             1.00   \n",
       "52    (27.0, 0.9592211344573861)         0.091753             1.00   \n",
       "54          (3.5, 0.00341796875)         0.024414             1.00   \n",
       "59    (8.5, 0.05263321233144818)         0.357386             0.75   \n",
       "64         (13.0, 0.04248046875)         0.123047             0.75   \n",
       "156   (22.0, 0.3266265142872249)         0.592980             0.50   \n",
       "163          (5.5, 0.0068359375)         0.101562             1.00   \n",
       "174        (13.0, 0.04248046875)         0.637695             0.50   \n",
       "182   (29.0, 0.7205147871362552)         0.898438             0.75   \n",
       "183   (17.0, 0.1546559029620244)         0.240234             1.00   \n",
       "188   (23.5, 0.3954886555136653)         0.474959             0.50   \n",
       "\n",
       "     loss_pvalue  win_pvalue  \n",
       "16      0.468750    0.285765  \n",
       "20      0.296875    0.000488  \n",
       "24      0.578125    1.000000  \n",
       "50      0.045800    0.102694  \n",
       "52      0.078125    0.959221  \n",
       "54      1.000000    0.003418  \n",
       "59      0.220671    0.052633  \n",
       "64      0.247561    0.042480  \n",
       "156     0.375000    0.326627  \n",
       "163     0.578125    0.006836  \n",
       "174     0.078125    0.042480  \n",
       "182     0.375000    0.720515  \n",
       "183     0.687500    0.154656  \n",
       "188     0.104059    0.395489  "
      ]
     },
     "execution_count": 94,
     "metadata": {},
     "output_type": "execute_result"
    }
   ],
   "source": [
    "neuron_to_wilcoxon_df"
   ]
  },
  {
   "cell_type": "code",
   "execution_count": 95,
   "id": "9f96aa24",
   "metadata": {},
   "outputs": [],
   "source": [
    "neuron_to_wilcoxon_df.to_csv(\"./proc/{}_neuron_to_wilcoxon_df\".format(recording_name))"
   ]
  },
  {
   "cell_type": "markdown",
   "id": "bab0a09e",
   "metadata": {},
   "source": [
    "- Seeing how many neurons reacted to winning and being rewarded"
   ]
  },
  {
   "cell_type": "code",
   "execution_count": 96,
   "id": "c1894522",
   "metadata": {},
   "outputs": [],
   "source": [
    "reward_or_win_firing_rate_difference_count = {}\n",
    "for index, row in neuron_to_wilcoxon_df.iterrows():\n",
    "    \n",
    "    # if both\n",
    "    if row[\"rewarded_pvalue\"] <= p_value_threshold and row[\"win_pvalue\"] <= p_value_threshold:\n",
    "        reward_or_win_firing_rate_difference_count[\"both_reward_and_win\"] = reward_or_win_firing_rate_difference_count.get('both_reward_and_win', 0) + 1\n",
    "    # if one\n",
    "    elif row[\"rewarded_pvalue\"] <= p_value_threshold:\n",
    "        reward_or_win_firing_rate_difference_count[\"reward_only\"] = reward_or_win_firing_rate_difference_count.get('reward_only', 0) + 1\n",
    "\n",
    "    # if other\n",
    "    elif row[\"win_pvalue\"] <= p_value_threshold:\n",
    "        reward_or_win_firing_rate_difference_count[\"win_only\"] = reward_or_win_firing_rate_difference_count.get('win_only', 0) + 1\n",
    "reward_or_win_firing_rate_difference_count[\"no_response\"] = len(neuron_to_wilcoxon_df) - sum(reward_or_win_firing_rate_difference_count.values())"
   ]
  },
  {
   "cell_type": "code",
   "execution_count": 97,
   "id": "150c74be",
   "metadata": {},
   "outputs": [
    {
     "data": {
      "text/plain": [
       "{'both_reward_and_win': 2, 'reward_only': 1, 'win_only': 4, 'no_response': 7}"
      ]
     },
     "execution_count": 97,
     "metadata": {},
     "output_type": "execute_result"
    }
   ],
   "source": [
    "reward_or_win_firing_rate_difference_count"
   ]
  },
  {
   "cell_type": "markdown",
   "id": "491c4582",
   "metadata": {},
   "source": [
    "- Seeing how many neurons reacted to losing and omission of reward"
   ]
  },
  {
   "cell_type": "code",
   "execution_count": 98,
   "id": "1576c048",
   "metadata": {},
   "outputs": [],
   "source": [
    "omission_or_loss_firing_rate_difference_count = {}\n",
    "for index, row in neuron_to_wilcoxon_df.iterrows():\n",
    "    \n",
    "    # if both\n",
    "    if row[\"omission_pvalue\"] <= p_value_threshold and row[\"loss_pvalue\"] <= p_value_threshold:\n",
    "        omission_or_loss_firing_rate_difference_count[\"both_omission_and_loss\"] = omission_or_loss_firing_rate_difference_count.get('both_omission_and_loss', 0) + 1\n",
    "    # if one\n",
    "    elif row[\"omission_pvalue\"] <= p_value_threshold:\n",
    "        omission_or_loss_firing_rate_difference_count[\"omission_only\"] = omission_or_loss_firing_rate_difference_count.get('omission_only', 0) + 1\n",
    "\n",
    "    # if other\n",
    "    elif row[\"loss_pvalue\"] <= p_value_threshold:\n",
    "        omission_or_loss_firing_rate_difference_count[\"loss_only\"] = omission_or_loss_firing_rate_difference_count.get('loss_only', 0) + 1\n",
    "omission_or_loss_firing_rate_difference_count[\"no_response\"] = len(neuron_to_wilcoxon_df) - sum(omission_or_loss_firing_rate_difference_count.values())"
   ]
  },
  {
   "cell_type": "code",
   "execution_count": 99,
   "id": "d2704068",
   "metadata": {},
   "outputs": [
    {
     "data": {
      "text/plain": [
       "{'loss_only': 3, 'no_response': 11}"
      ]
     },
     "execution_count": 99,
     "metadata": {},
     "output_type": "execute_result"
    }
   ],
   "source": [
    "omission_or_loss_firing_rate_difference_count"
   ]
  },
  {
   "cell_type": "markdown",
   "id": "a43cc6fd",
   "metadata": {},
   "source": [
    "- Creating a pie chart"
   ]
  },
  {
   "cell_type": "code",
   "execution_count": 100,
   "id": "87395322",
   "metadata": {},
   "outputs": [
    {
     "data": {
      "image/png": "[encoded data removed]",
      "text/plain": [
       "<Figure size 640x480 with 1 Axes>"
      ]
     },
     "metadata": {},
     "output_type": "display_data"
    }
   ],
   "source": [
    "# Pie chart, where the slices will be ordered and plotted counter-clockwise:\n",
    "\n",
    "fig1, ax1 = plt.subplots()\n",
    "ax1.pie(reward_or_win_firing_rate_difference_count.values(), labels=reward_or_win_firing_rate_difference_count.keys(), autopct='%1.1f%%',\n",
    "        shadow=True, startangle=90)\n",
    "ax1.axis('equal')  # Equal aspect ratio ensures that pie is drawn as a circle.\n",
    "\n",
    "plt.title(\"Response Magnitude for All Cells\")\n",
    "plt.show()"
   ]
  },
  {
   "cell_type": "code",
   "execution_count": 101,
   "id": "45f17730",
   "metadata": {
    "scrolled": true
   },
   "outputs": [
    {
     "data": {
      "image/png": "[encoded data removed]",
      "text/plain": [
       "<Figure size 640x480 with 1 Axes>"
      ]
     },
     "metadata": {},
     "output_type": "display_data"
    }
   ],
   "source": [
    "# Pie chart, where the slices will be ordered and plotted counter-clockwise:\n",
    "\n",
    "fig1, ax1 = plt.subplots()\n",
    "ax1.pie(omission_or_loss_firing_rate_difference_count.values(), labels=omission_or_loss_firing_rate_difference_count.keys(), autopct='%1.1f%%',\n",
    "        shadow=True, startangle=90)\n",
    "ax1.axis('equal')  # Equal aspect ratio ensures that pie is drawn as a circle.\n",
    "\n",
    "plt.title(\"Response Magnitude for All Cells\")\n",
    "plt.show()"
   ]
  },
  {
   "cell_type": "markdown",
   "id": "119af22e",
   "metadata": {},
   "source": []
  },
  {
   "cell_type": "markdown",
   "id": "fcf87c75",
   "metadata": {},
   "source": [
    "# Looking at the firing rate for each 100ms time bin"
   ]
  },
  {
   "cell_type": "markdown",
   "id": "42301602",
   "metadata": {},
   "source": [
    "## Seeing which 100ms bin each unit time belongs to"
   ]
  },
  {
   "cell_type": "markdown",
   "id": "6bf9eeba",
   "metadata": {},
   "source": [
    "- Creating bins for each 100ms time interval"
   ]
  },
  {
   "cell_type": "code",
   "execution_count": 103,
   "id": "26de1d4f",
   "metadata": {},
   "outputs": [],
   "source": [
    "# Each bin's duration in seconds\n",
    "bin_duration = 0.1"
   ]
  },
  {
   "cell_type": "code",
   "execution_count": 104,
   "id": "0a55fd17",
   "metadata": {},
   "outputs": [],
   "source": [
    "# Seeing how many bins are in the duration\n",
    "# 0.1 is for 0.1 seconds or 100 miliseconds\n",
    "bins_with_100ms_range = int(trial_one_way_duration / bin_duration)"
   ]
  },
  {
   "cell_type": "code",
   "execution_count": 105,
   "id": "27bb8d0c",
   "metadata": {},
   "outputs": [
    {
     "data": {
      "text/plain": [
       "100"
      ]
     },
     "execution_count": 105,
     "metadata": {},
     "output_type": "execute_result"
    }
   ],
   "source": [
    "bins_with_100ms_range"
   ]
  },
  {
   "cell_type": "code",
   "execution_count": 106,
   "id": "38d30789",
   "metadata": {},
   "outputs": [
    {
     "data": {
      "text/plain": [
       "20000"
      ]
     },
     "execution_count": 106,
     "metadata": {},
     "output_type": "execute_result"
    }
   ],
   "source": [
    "sampling_rate"
   ]
  },
  {
   "cell_type": "markdown",
   "id": "7deb2e6c",
   "metadata": {},
   "source": [
    "- Getting all the tone time bins before and after the tone"
   ]
  },
  {
   "cell_type": "code",
   "execution_count": 107,
   "id": "4e1abd45",
   "metadata": {},
   "outputs": [],
   "source": [
    "tone_unit_time_to_interval = {}\n",
    "# Making a list of all the bins for each tone time stamp\n",
    "for time in tone_time_stamps:\n",
    "    tone_unit_time_to_interval[time] = [time + num * (bin_duration * sampling_rate) for num in range(bins_with_100ms_range * -1, bins_with_100ms_range)]"
   ]
  },
  {
   "cell_type": "markdown",
   "id": "b8d420b6",
   "metadata": {},
   "source": [
    "- The time bins for the first tone\n",
    "    - Each time should be separated by an amount of the bin_duration * the sampling rate"
   ]
  },
  {
   "cell_type": "code",
   "execution_count": 113,
   "id": "85242f63",
   "metadata": {},
   "outputs": [
    {
     "data": {
      "text/plain": [
       "1408048"
      ]
     },
     "execution_count": 113,
     "metadata": {},
     "output_type": "execute_result"
    }
   ],
   "source": [
    "tone_time_stamps[0]"
   ]
  },
  {
   "cell_type": "code",
   "execution_count": 111,
   "id": "bf5c9f17",
   "metadata": {},
   "outputs": [
    {
     "data": {
      "text/plain": [
       "[1208048.0, 1210048.0, 1212048.0, 1214048.0, 1216048.0]"
      ]
     },
     "execution_count": 111,
     "metadata": {},
     "output_type": "execute_result"
    }
   ],
   "source": [
    "tone_unit_time_to_interval[tone_time_stamps[0]][:5]"
   ]
  },
  {
   "cell_type": "code",
   "execution_count": 114,
   "id": "660306f3",
   "metadata": {},
   "outputs": [
    {
     "data": {
      "text/plain": [
       "[1598048.0, 1600048.0, 1602048.0, 1604048.0, 1606048.0]"
      ]
     },
     "execution_count": 114,
     "metadata": {},
     "output_type": "execute_result"
    }
   ],
   "source": [
    "tone_unit_time_to_interval[tone_time_stamps[0]][-5:]"
   ]
  },
  {
   "cell_type": "code",
   "execution_count": 112,
   "id": "8788770b",
   "metadata": {},
   "outputs": [
    {
     "data": {
      "text/plain": [
       "200"
      ]
     },
     "execution_count": 112,
     "metadata": {},
     "output_type": "execute_result"
    }
   ],
   "source": [
    "len(tone_unit_time_to_interval[tone_time_stamps[0]])"
   ]
  },
  {
   "cell_type": "markdown",
   "id": "0ec232a5",
   "metadata": {},
   "source": [
    "- Seeing which bin the tone time fits into"
   ]
  },
  {
   "cell_type": "code",
   "execution_count": 122,
   "id": "d3140c29",
   "metadata": {},
   "outputs": [],
   "source": [
    "spike_column_name = \"spike_time\""
   ]
  },
  {
   "cell_type": "code",
   "execution_count": 124,
   "id": "7c0d2f46",
   "metadata": {},
   "outputs": [],
   "source": [
    "spike_tone_time_df = pd.DataFrame.from_dict(before_and_after_interval_unit_times, orient=\"index\").reset_index().rename(columns={\"index\": spike_column_name})"
   ]
  },
  {
   "cell_type": "code",
   "execution_count": 125,
   "id": "b9673f85",
   "metadata": {},
   "outputs": [
    {
     "data": {
      "text/html": [
       "<div>\n",
       "<style scoped>\n",
       "    .dataframe tbody tr th:only-of-type {\n",
       "        vertical-align: middle;\n",
       "    }\n",
       "\n",
       "    .dataframe tbody tr th {\n",
       "        vertical-align: top;\n",
       "    }\n",
       "\n",
       "    .dataframe thead th {\n",
       "        text-align: right;\n",
       "    }\n",
       "</style>\n",
       "<table border=\"1\" class=\"dataframe\">\n",
       "  <thead>\n",
       "    <tr style=\"text-align: right;\">\n",
       "      <th></th>\n",
       "      <th>spike_time</th>\n",
       "      <th>tone_time</th>\n",
       "      <th>before_or_after</th>\n",
       "      <th>neuron_id</th>\n",
       "    </tr>\n",
       "  </thead>\n",
       "  <tbody>\n",
       "    <tr>\n",
       "      <th>0</th>\n",
       "      <td>1209073</td>\n",
       "      <td>1408048</td>\n",
       "      <td>before</td>\n",
       "      <td>64</td>\n",
       "    </tr>\n",
       "    <tr>\n",
       "      <th>1</th>\n",
       "      <td>1210306</td>\n",
       "      <td>1408048</td>\n",
       "      <td>before</td>\n",
       "      <td>54</td>\n",
       "    </tr>\n",
       "    <tr>\n",
       "      <th>2</th>\n",
       "      <td>1210810</td>\n",
       "      <td>1408048</td>\n",
       "      <td>before</td>\n",
       "      <td>174</td>\n",
       "    </tr>\n",
       "    <tr>\n",
       "      <th>3</th>\n",
       "      <td>1211041</td>\n",
       "      <td>1408048</td>\n",
       "      <td>before</td>\n",
       "      <td>52</td>\n",
       "    </tr>\n",
       "    <tr>\n",
       "      <th>4</th>\n",
       "      <td>1212118</td>\n",
       "      <td>1408048</td>\n",
       "      <td>before</td>\n",
       "      <td>54</td>\n",
       "    </tr>\n",
       "  </tbody>\n",
       "</table>\n",
       "</div>"
      ],
      "text/plain": [
       "   spike_time  tone_time before_or_after  neuron_id\n",
       "0     1209073    1408048          before         64\n",
       "1     1210306    1408048          before         54\n",
       "2     1210810    1408048          before        174\n",
       "3     1211041    1408048          before         52\n",
       "4     1212118    1408048          before         54"
      ]
     },
     "execution_count": 125,
     "metadata": {},
     "output_type": "execute_result"
    }
   ],
   "source": [
    "spike_tone_time_df.head()"
   ]
  },
  {
   "cell_type": "code",
   "execution_count": 132,
   "id": "0f72e8ed",
   "metadata": {},
   "outputs": [],
   "source": [
    "all_tone_dataframes = []\n",
    "for tone_time, bins_with_100ms in tone_unit_time_to_interval.items():\n",
    "    # Filtering for all the rows with the current tone\n",
    "    current_tone_df = spike_tone_time_df[spike_tone_time_df[\"tone_time\"] == tone_time].copy()\n",
    "    # Getting the time that each spike occured\n",
    "    spike_time = current_tone_df[spike_column_name].values\n",
    "    # Seeing which bin each spike fits into\n",
    "    current_tone_df[\"bin_number\"] = np.digitize(spike_time, tone_unit_time_to_interval[tone_time], right=True)\n",
    "    # Creating a list to concatenate all dataframes\n",
    "    all_tone_dataframes.append(current_tone_df)"
   ]
  },
  {
   "cell_type": "code",
   "execution_count": 133,
   "id": "4c8fcca5",
   "metadata": {},
   "outputs": [],
   "source": [
    "binned_spike_tone_time_df = pd.concat(all_tone_dataframes)"
   ]
  },
  {
   "cell_type": "code",
   "execution_count": 136,
   "id": "4db72ea1",
   "metadata": {},
   "outputs": [
    {
     "data": {
      "text/html": [
       "<div>\n",
       "<style scoped>\n",
       "    .dataframe tbody tr th:only-of-type {\n",
       "        vertical-align: middle;\n",
       "    }\n",
       "\n",
       "    .dataframe tbody tr th {\n",
       "        vertical-align: top;\n",
       "    }\n",
       "\n",
       "    .dataframe thead th {\n",
       "        text-align: right;\n",
       "    }\n",
       "</style>\n",
       "<table border=\"1\" class=\"dataframe\">\n",
       "  <thead>\n",
       "    <tr style=\"text-align: right;\">\n",
       "      <th></th>\n",
       "      <th>spike_time</th>\n",
       "      <th>tone_time</th>\n",
       "      <th>before_or_after</th>\n",
       "      <th>neuron_id</th>\n",
       "      <th>bin_number</th>\n",
       "    </tr>\n",
       "  </thead>\n",
       "  <tbody>\n",
       "    <tr>\n",
       "      <th>0</th>\n",
       "      <td>1209073</td>\n",
       "      <td>1408048</td>\n",
       "      <td>before</td>\n",
       "      <td>64</td>\n",
       "      <td>1</td>\n",
       "    </tr>\n",
       "    <tr>\n",
       "      <th>1</th>\n",
       "      <td>1210306</td>\n",
       "      <td>1408048</td>\n",
       "      <td>before</td>\n",
       "      <td>54</td>\n",
       "      <td>2</td>\n",
       "    </tr>\n",
       "    <tr>\n",
       "      <th>2</th>\n",
       "      <td>1210810</td>\n",
       "      <td>1408048</td>\n",
       "      <td>before</td>\n",
       "      <td>174</td>\n",
       "      <td>2</td>\n",
       "    </tr>\n",
       "    <tr>\n",
       "      <th>3</th>\n",
       "      <td>1211041</td>\n",
       "      <td>1408048</td>\n",
       "      <td>before</td>\n",
       "      <td>52</td>\n",
       "      <td>2</td>\n",
       "    </tr>\n",
       "    <tr>\n",
       "      <th>4</th>\n",
       "      <td>1212118</td>\n",
       "      <td>1408048</td>\n",
       "      <td>before</td>\n",
       "      <td>54</td>\n",
       "      <td>3</td>\n",
       "    </tr>\n",
       "  </tbody>\n",
       "</table>\n",
       "</div>"
      ],
      "text/plain": [
       "   spike_time  tone_time before_or_after  neuron_id  bin_number\n",
       "0     1209073    1408048          before         64           1\n",
       "1     1210306    1408048          before         54           2\n",
       "2     1210810    1408048          before        174           2\n",
       "3     1211041    1408048          before         52           2\n",
       "4     1212118    1408048          before         54           3"
      ]
     },
     "execution_count": 136,
     "metadata": {},
     "output_type": "execute_result"
    }
   ],
   "source": [
    "binned_spike_tone_time_df.head()"
   ]
  },
  {
   "cell_type": "code",
   "execution_count": 137,
   "id": "8d5ec2ce",
   "metadata": {
    "scrolled": false
   },
   "outputs": [
    {
     "data": {
      "text/html": [
       "<div>\n",
       "<style scoped>\n",
       "    .dataframe tbody tr th:only-of-type {\n",
       "        vertical-align: middle;\n",
       "    }\n",
       "\n",
       "    .dataframe tbody tr th {\n",
       "        vertical-align: top;\n",
       "    }\n",
       "\n",
       "    .dataframe thead th {\n",
       "        text-align: right;\n",
       "    }\n",
       "</style>\n",
       "<table border=\"1\" class=\"dataframe\">\n",
       "  <thead>\n",
       "    <tr style=\"text-align: right;\">\n",
       "      <th></th>\n",
       "      <th>spike_time</th>\n",
       "      <th>tone_time</th>\n",
       "      <th>before_or_after</th>\n",
       "      <th>neuron_id</th>\n",
       "      <th>bin_number</th>\n",
       "    </tr>\n",
       "  </thead>\n",
       "  <tbody>\n",
       "    <tr>\n",
       "      <th>35950</th>\n",
       "      <td>61196610</td>\n",
       "      <td>60998563</td>\n",
       "      <td>after</td>\n",
       "      <td>183</td>\n",
       "      <td>200</td>\n",
       "    </tr>\n",
       "    <tr>\n",
       "      <th>35951</th>\n",
       "      <td>61196720</td>\n",
       "      <td>60998563</td>\n",
       "      <td>after</td>\n",
       "      <td>174</td>\n",
       "      <td>200</td>\n",
       "    </tr>\n",
       "    <tr>\n",
       "      <th>35952</th>\n",
       "      <td>61196875</td>\n",
       "      <td>60998563</td>\n",
       "      <td>after</td>\n",
       "      <td>174</td>\n",
       "      <td>200</td>\n",
       "    </tr>\n",
       "    <tr>\n",
       "      <th>35953</th>\n",
       "      <td>61197936</td>\n",
       "      <td>60998563</td>\n",
       "      <td>after</td>\n",
       "      <td>183</td>\n",
       "      <td>200</td>\n",
       "    </tr>\n",
       "    <tr>\n",
       "      <th>35954</th>\n",
       "      <td>61198104</td>\n",
       "      <td>60998563</td>\n",
       "      <td>after</td>\n",
       "      <td>183</td>\n",
       "      <td>200</td>\n",
       "    </tr>\n",
       "  </tbody>\n",
       "</table>\n",
       "</div>"
      ],
      "text/plain": [
       "       spike_time  tone_time before_or_after  neuron_id  bin_number\n",
       "35950    61196610   60998563           after        183         200\n",
       "35951    61196720   60998563           after        174         200\n",
       "35952    61196875   60998563           after        174         200\n",
       "35953    61197936   60998563           after        183         200\n",
       "35954    61198104   60998563           after        183         200"
      ]
     },
     "execution_count": 137,
     "metadata": {},
     "output_type": "execute_result"
    }
   ],
   "source": [
    "binned_spike_tone_time_df.tail()"
   ]
  },
  {
   "cell_type": "markdown",
   "id": "d0635ba4",
   "metadata": {},
   "source": [
    "## Calculating Firing Rate"
   ]
  },
  {
   "cell_type": "code",
   "execution_count": null,
   "id": "e6ee143b",
   "metadata": {},
   "outputs": [],
   "source": [
    "from collections import Counter, defaultdict"
   ]
  },
  {
   "cell_type": "markdown",
   "id": "ccdfc450",
   "metadata": {},
   "source": [
    "- Creating a reference for all the tone bin combinations to each tone\n",
    "    - This is because we need a unique identifier for each tone and bin combination. So we will just add the numbers"
   ]
  },
  {
   "cell_type": "code",
   "execution_count": null,
   "id": "0b709476",
   "metadata": {},
   "outputs": [],
   "source": [
    "tone_bin_for_index = all_bin_mapping[:,0] + all_bin_mapping[:,4]"
   ]
  },
  {
   "cell_type": "code",
   "execution_count": null,
   "id": "5a530aea",
   "metadata": {},
   "outputs": [],
   "source": [
    "tone_bin_to_tone = np.hstack((tone_bin_for_index[np.newaxis].T, all_bin_mapping[:,0][np.newaxis].T))"
   ]
  },
  {
   "cell_type": "code",
   "execution_count": null,
   "id": "9ad336e6",
   "metadata": {},
   "outputs": [],
   "source": [
    "tone_bin_to_tone"
   ]
  },
  {
   "cell_type": "code",
   "execution_count": null,
   "id": "013c64b4",
   "metadata": {},
   "outputs": [],
   "source": [
    "tone_bin_to_tone = dict(zip(tone_bin_to_tone[:,0], tone_bin_to_tone[:,1]))"
   ]
  },
  {
   "cell_type": "code",
   "execution_count": null,
   "id": "3c8c006b",
   "metadata": {},
   "outputs": [],
   "source": [
    "tone_bin_to_tone"
   ]
  },
  {
   "cell_type": "code",
   "execution_count": null,
   "id": "13a1dc76",
   "metadata": {},
   "outputs": [],
   "source": [
    "tone_bin_for_index"
   ]
  },
  {
   "cell_type": "markdown",
   "id": "5709c755",
   "metadata": {},
   "source": [
    "- Getting the number of times each neuron fires"
   ]
  },
  {
   "cell_type": "code",
   "execution_count": null,
   "id": "aee15c68",
   "metadata": {},
   "outputs": [],
   "source": [
    "firing_counts = defaultdict(lambda: defaultdict(dict))\n",
    "for tone_time, index, firing_time, unit_id, bin_index in all_bin_mapping:\n",
    "    tone_bin = tone_time + bin_index\n",
    "    if firing_counts[unit_id][tone_bin]:\n",
    "        firing_counts[unit_id][tone_bin] += 1\n",
    "    else:\n",
    "        firing_counts[unit_id][tone_bin] = 1"
   ]
  },
  {
   "cell_type": "code",
   "execution_count": null,
   "id": "a78952ef",
   "metadata": {},
   "outputs": [],
   "source": [
    "firing_rate_df = pd.DataFrame.from_dict(firing_counts)"
   ]
  },
  {
   "cell_type": "code",
   "execution_count": null,
   "id": "2a956bfa",
   "metadata": {},
   "outputs": [],
   "source": [
    "firing_rate_df = firing_rate_df.fillna(value=0)"
   ]
  },
  {
   "cell_type": "code",
   "execution_count": null,
   "id": "b631a183",
   "metadata": {
    "scrolled": true
   },
   "outputs": [],
   "source": [
    "firing_rate_df.head()"
   ]
  },
  {
   "cell_type": "code",
   "execution_count": null,
   "id": "1a8e0b11",
   "metadata": {},
   "outputs": [],
   "source": [
    "firing_rate_df.loc[:].values"
   ]
  },
  {
   "cell_type": "markdown",
   "id": "c5872767",
   "metadata": {},
   "source": [
    "- Classifying each time stamp"
   ]
  },
  {
   "cell_type": "code",
   "execution_count": null,
   "id": "181f5166",
   "metadata": {},
   "outputs": [],
   "source": [
    "all_bin_mapping"
   ]
  },
  {
   "cell_type": "code",
   "execution_count": null,
   "id": "6db70a03",
   "metadata": {},
   "outputs": [],
   "source": [
    "all_bin_mapping[:, 0]"
   ]
  },
  {
   "cell_type": "code",
   "execution_count": null,
   "id": "307360d1",
   "metadata": {},
   "outputs": [],
   "source": [
    "all_bin_mapping[:, 2]"
   ]
  },
  {
   "cell_type": "markdown",
   "id": "a4719c1b",
   "metadata": {},
   "source": [
    "- Making a dictionary that maps all the firing times to the corresponding tone"
   ]
  },
  {
   "cell_type": "code",
   "execution_count": null,
   "id": "955641d5",
   "metadata": {},
   "outputs": [],
   "source": [
    "fire_to_tone_time = dict(zip(all_bin_mapping[:, 2], all_bin_mapping[:, 0]))"
   ]
  },
  {
   "cell_type": "code",
   "execution_count": null,
   "id": "ffbb7bc7",
   "metadata": {},
   "outputs": [],
   "source": [
    "fire_to_tone_time"
   ]
  },
  {
   "cell_type": "code",
   "execution_count": null,
   "id": "5be34189",
   "metadata": {},
   "outputs": [],
   "source": [
    "firing_rate_df = firing_rate_df.reset_index()"
   ]
  },
  {
   "cell_type": "markdown",
   "id": "77d8e122",
   "metadata": {},
   "source": [
    "- Labeling which tone time that fire time belongs to"
   ]
  },
  {
   "cell_type": "code",
   "execution_count": null,
   "id": "bc9795d6",
   "metadata": {},
   "outputs": [],
   "source": [
    "firing_rate_df[\"tone_time\"] = firing_rate_df[\"index\"].map(tone_bin_to_tone)"
   ]
  },
  {
   "cell_type": "code",
   "execution_count": null,
   "id": "7feabbb1",
   "metadata": {
    "scrolled": false
   },
   "outputs": [],
   "source": [
    "firing_rate_df.head()"
   ]
  },
  {
   "cell_type": "code",
   "execution_count": null,
   "id": "c37269b1",
   "metadata": {},
   "outputs": [],
   "source": [
    "firing_rate_df[\"bin\"] = firing_rate_df[\"index\"] - firing_rate_df[\"tone_time\"]"
   ]
  },
  {
   "cell_type": "markdown",
   "id": "85ef486a",
   "metadata": {},
   "source": [
    "## Categorizing Rewarded vs Omitted for Training"
   ]
  },
  {
   "cell_type": "code",
   "execution_count": null,
   "id": "6a5a4697",
   "metadata": {
    "scrolled": true
   },
   "outputs": [],
   "source": [
    "tone_time_stamps_df"
   ]
  },
  {
   "cell_type": "code",
   "execution_count": null,
   "id": "085b7bf0",
   "metadata": {},
   "outputs": [],
   "source": [
    "\n",
    "tone_timestamp_to_trial_type = pd.Series(tone_time_stamps_df[\"tone_category\"].values, index=tone_time_stamps_df[\"tone_time_stamp\"]).to_dict()"
   ]
  },
  {
   "cell_type": "code",
   "execution_count": null,
   "id": "b5d93ed4",
   "metadata": {
    "scrolled": true
   },
   "outputs": [],
   "source": [
    "tone_timestamp_to_trial_type"
   ]
  },
  {
   "cell_type": "code",
   "execution_count": null,
   "id": "c21e9a02",
   "metadata": {},
   "outputs": [],
   "source": [
    "firing_rate_df[\"tone_label\"] = firing_rate_df[\"tone_time\"].map(tone_timestamp_to_trial_type)"
   ]
  },
  {
   "cell_type": "markdown",
   "id": "ca7ce881",
   "metadata": {},
   "source": [
    "## Categorizing win vs loss for competition"
   ]
  },
  {
   "cell_type": "code",
   "execution_count": null,
   "id": "3237a46e",
   "metadata": {},
   "outputs": [],
   "source": [
    "firing_rate_df.head()"
   ]
  },
  {
   "cell_type": "markdown",
   "id": "7efab01a",
   "metadata": {},
   "source": [
    "- We will be averaging using the bin number, because we are curious about how the firing rate changes 10 seconds before and after at each 100ms bin(averaging across sessions)\n",
    "    - And we will be averaging across trials that have the same trial type"
   ]
  },
  {
   "cell_type": "code",
   "execution_count": null,
   "id": "397167bd",
   "metadata": {
    "scrolled": true
   },
   "outputs": [],
   "source": [
    "averaged_firing_rate_df = firing_rate_df.groupby(['bin', 'tone_label']).mean()"
   ]
  },
  {
   "cell_type": "code",
   "execution_count": null,
   "id": "f816290f",
   "metadata": {},
   "outputs": [],
   "source": [
    "averaged_firing_rate_df"
   ]
  },
  {
   "cell_type": "code",
   "execution_count": null,
   "id": "a3d981b4",
   "metadata": {},
   "outputs": [],
   "source": [
    "averaged_firing_rate_df = averaged_firing_rate_df.reset_index()"
   ]
  },
  {
   "cell_type": "code",
   "execution_count": null,
   "id": "41e3123f",
   "metadata": {},
   "outputs": [],
   "source": [
    "averaged_firing_rate_df"
   ]
  },
  {
   "cell_type": "code",
   "execution_count": null,
   "id": "c66db20b",
   "metadata": {},
   "outputs": [],
   "source": [
    "averaged_firing_rate_df[\"tone_label\"].unique()"
   ]
  },
  {
   "cell_type": "markdown",
   "id": "063da37e",
   "metadata": {},
   "source": [
    "- "
   ]
  },
  {
   "cell_type": "markdown",
   "id": "3315d6e9",
   "metadata": {},
   "source": [
    "- Removing all the columns that don't have firing rate info\n",
    "    - AKA the index and the tone time"
   ]
  },
  {
   "cell_type": "code",
   "execution_count": null,
   "id": "b8589578",
   "metadata": {},
   "outputs": [],
   "source": [
    "numerical_columns = [col for col in averaged_firing_rate_df.columns if type(col) == int]"
   ]
  },
  {
   "cell_type": "markdown",
   "id": "64cd047d",
   "metadata": {},
   "source": [
    "- Transposing so that we get the spike unit number as the row, and the bin and trial type as the column"
   ]
  },
  {
   "cell_type": "code",
   "execution_count": null,
   "id": "5abb5196",
   "metadata": {},
   "outputs": [],
   "source": [
    "transposed_averaged_firing_rate_df = averaged_firing_rate_df[numerical_columns].transpose()"
   ]
  },
  {
   "cell_type": "code",
   "execution_count": null,
   "id": "01d7123d",
   "metadata": {},
   "outputs": [],
   "source": [
    "transposed_averaged_firing_rate_df = transposed_averaged_firing_rate_df.reset_index()"
   ]
  },
  {
   "cell_type": "code",
   "execution_count": null,
   "id": "563af7c2",
   "metadata": {},
   "outputs": [],
   "source": [
    "transposed_averaged_firing_rate_df = transposed_averaged_firing_rate_df.sort_values([\"index\"]).reset_index(drop=True)"
   ]
  },
  {
   "cell_type": "code",
   "execution_count": null,
   "id": "388ef624",
   "metadata": {},
   "outputs": [],
   "source": [
    "transposed_averaged_firing_rate_df"
   ]
  },
  {
   "cell_type": "code",
   "execution_count": null,
   "id": "c8aac2b6",
   "metadata": {},
   "outputs": [],
   "source": [
    "resetted_averaged_firing_rate_array = transposed_averaged_firing_rate_df.values"
   ]
  },
  {
   "cell_type": "code",
   "execution_count": null,
   "id": "20847fbe",
   "metadata": {},
   "outputs": [],
   "source": [
    "resetted_averaged_firing_rate_array"
   ]
  },
  {
   "cell_type": "code",
   "execution_count": null,
   "id": "5b1a936c",
   "metadata": {},
   "outputs": [],
   "source": [
    "raise ValueError()"
   ]
  },
  {
   "cell_type": "markdown",
   "id": "d2b938cb",
   "metadata": {},
   "source": [
    "# PCA with Neuron Rows"
   ]
  },
  {
   "cell_type": "markdown",
   "id": "fea4fe17",
   "metadata": {},
   "source": [
    "## Standarizing the Data"
   ]
  },
  {
   "cell_type": "markdown",
   "id": "442f7c72",
   "metadata": {},
   "source": [
    "- TODO: Check why the 0s are being scaled differently"
   ]
  },
  {
   "cell_type": "code",
   "execution_count": null,
   "id": "2285ba5f",
   "metadata": {},
   "outputs": [],
   "source": [
    "from sklearn.preprocessing import StandardScaler"
   ]
  },
  {
   "cell_type": "code",
   "execution_count": null,
   "id": "6845205b",
   "metadata": {
    "scrolled": true
   },
   "outputs": [],
   "source": [
    "# Separating out the features\n",
    "x = resetted_averaged_firing_rate_array#.loc[:].values# Separating out the target\n",
    "resetted_averaged_firing_rate_array = StandardScaler().fit_transform(x)"
   ]
  },
  {
   "cell_type": "markdown",
   "id": "7562c655",
   "metadata": {},
   "source": [
    "## Calculating the PCA"
   ]
  },
  {
   "cell_type": "code",
   "execution_count": null,
   "id": "9bbae768",
   "metadata": {},
   "outputs": [],
   "source": [
    "from sklearn.decomposition import PCA\n"
   ]
  },
  {
   "cell_type": "code",
   "execution_count": null,
   "id": "4e915d3f",
   "metadata": {},
   "outputs": [],
   "source": [
    "pca = PCA(n_components=2)\n",
    "principalComponents = pca.fit_transform(resetted_averaged_firing_rate_array)\n",
    "principal_df = pd.DataFrame(data = principalComponents\n",
    "             , columns = ['principal component 1', 'principal component 2'])"
   ]
  },
  {
   "cell_type": "code",
   "execution_count": null,
   "id": "ca09a5cb",
   "metadata": {},
   "outputs": [],
   "source": [
    "principal_df.head()"
   ]
  },
  {
   "cell_type": "code",
   "execution_count": null,
   "id": "4a9d314d",
   "metadata": {
    "scrolled": false
   },
   "outputs": [],
   "source": [
    "principal_df[\"principal component 1\"]"
   ]
  },
  {
   "cell_type": "code",
   "execution_count": null,
   "id": "bb5f8e36",
   "metadata": {},
   "outputs": [],
   "source": [
    "pc1_product = transposed_averaged_firing_rate_df.reset_index().multiply(principal_df[\"principal component 1\"], axis=\"index\")"
   ]
  },
  {
   "cell_type": "code",
   "execution_count": null,
   "id": "f5a542dc",
   "metadata": {},
   "outputs": [],
   "source": [
    "pc1_product"
   ]
  },
  {
   "cell_type": "code",
   "execution_count": null,
   "id": "495695bf",
   "metadata": {
    "scrolled": true
   },
   "outputs": [],
   "source": [
    "pc1_product.mean()"
   ]
  },
  {
   "cell_type": "code",
   "execution_count": null,
   "id": "e7362ed2",
   "metadata": {},
   "outputs": [],
   "source": [
    "pc2_product = transposed_averaged_firing_rate_df.reset_index().multiply(principal_df[\"principal component 2\"], axis=\"index\")"
   ]
  },
  {
   "cell_type": "code",
   "execution_count": null,
   "id": "5d57f376",
   "metadata": {},
   "outputs": [],
   "source": [
    "pc2_product"
   ]
  },
  {
   "cell_type": "code",
   "execution_count": null,
   "id": "4b3b9542",
   "metadata": {},
   "outputs": [],
   "source": [
    "pc2_product.mean()"
   ]
  },
  {
   "cell_type": "code",
   "execution_count": null,
   "id": "49cc15e4",
   "metadata": {},
   "outputs": [],
   "source": [
    "pc_product = pd.concat([pc1_product.mean(), pc2_product.mean()], axis=1).reset_index()"
   ]
  },
  {
   "cell_type": "code",
   "execution_count": null,
   "id": "6e883e44",
   "metadata": {},
   "outputs": [],
   "source": [
    "pc_product = pc_product[pc_product[\"bin\"].apply(lambda x: isinstance(x, int))]\n"
   ]
  },
  {
   "cell_type": "code",
   "execution_count": null,
   "id": "efe28778",
   "metadata": {},
   "outputs": [],
   "source": [
    "pc_product[\"before_during_after\"] = pc_product[\"bin\"].apply(lambda x: \"-5s to 0s\" if x < 50 else (\"0s to 5s\" if 50 <= x < 100 else \"5s to 10s\"))"
   ]
  },
  {
   "cell_type": "code",
   "execution_count": null,
   "id": "2b552c9f",
   "metadata": {},
   "outputs": [],
   "source": [
    "pc_product"
   ]
  },
  {
   "cell_type": "code",
   "execution_count": null,
   "id": "699a02e5",
   "metadata": {},
   "outputs": [],
   "source": [
    "pc_product[\"outcome_and_when\"] = pc_product.apply(lambda x: x[\"before_during_after\"] + \" \" + x[\"tone_label\"], axis=1)"
   ]
  },
  {
   "cell_type": "code",
   "execution_count": null,
   "id": "43127d95",
   "metadata": {},
   "outputs": [],
   "source": [
    "pc_product"
   ]
  },
  {
   "cell_type": "code",
   "execution_count": null,
   "id": "4035968f",
   "metadata": {},
   "outputs": [],
   "source": [
    "omission_categories = [name for name in sorted(pc_product[\"outcome_and_when\"].unique()) if \"omission\" in name]\n",
    "rewarded_categories = [name for name in sorted(pc_product[\"outcome_and_when\"].unique()) if \"rewarded\" in name]\n",
    "win_categories = [name for name in sorted(pc_product[\"outcome_and_when\"].unique()) if \"win\" in name]\n",
    "loss_categories = [name for name in sorted(pc_product[\"outcome_and_when\"].unique()) if \"loss\" in name]\n"
   ]
  },
  {
   "cell_type": "code",
   "execution_count": null,
   "id": "cd829ff3",
   "metadata": {},
   "outputs": [],
   "source": [
    "omission_pc = pc_product[pc_product[\"tone_label\"] == \"Omission\"]"
   ]
  },
  {
   "cell_type": "code",
   "execution_count": null,
   "id": "1f64a2e7",
   "metadata": {},
   "outputs": [],
   "source": [
    "omission_pc"
   ]
  },
  {
   "cell_type": "code",
   "execution_count": null,
   "id": "7caf037b",
   "metadata": {},
   "outputs": [],
   "source": [
    "averaged_omission_pc = omission_pc.groupby(np.arange(len(omission_pc))//3).mean().reset_index()"
   ]
  },
  {
   "cell_type": "code",
   "execution_count": null,
   "id": "36c577b6",
   "metadata": {},
   "outputs": [],
   "source": [
    "averaged_omission_pc"
   ]
  },
  {
   "cell_type": "code",
   "execution_count": null,
   "id": "ac037aba",
   "metadata": {},
   "outputs": [],
   "source": [
    "rewarded_pc = pc_product[pc_product[\"rewarded_omission_win_loss_catgeory\"] == \"Rewarded\"]"
   ]
  },
  {
   "cell_type": "code",
   "execution_count": null,
   "id": "78e8dae8",
   "metadata": {},
   "outputs": [],
   "source": [
    "averaged_rewarded_pc = rewarded_pc.groupby(np.arange(len(omission_pc))//3).mean().reset_index()"
   ]
  },
  {
   "cell_type": "code",
   "execution_count": null,
   "id": "a181932a",
   "metadata": {},
   "outputs": [],
   "source": [
    "plt.scatter(averaged_omission_pc[0], averaged_omission_pc[1], c=averaged_omission_pc[\"index\"], cmap='Reds')\n",
    "plt.scatter(averaged_rewarded_pc[0], averaged_rewarded_pc[1], c=averaged_rewarded_pc[\"index\"], cmap='Greens')\n",
    "\n",
    "plt.show()"
   ]
  },
  {
   "cell_type": "code",
   "execution_count": null,
   "id": "d88ce3c4",
   "metadata": {
    "scrolled": false
   },
   "outputs": [],
   "source": [
    "plt.plot(averaged_omission_pc[0], averaged_omission_pc[1], '-o', c=\"red\")\n",
    "plt.plot(averaged_rewarded_pc[0], averaged_rewarded_pc[1], '-o', c=\"blue\")\n",
    "\n",
    "plt.show()"
   ]
  },
  {
   "cell_type": "code",
   "execution_count": null,
   "id": "8798e80e",
   "metadata": {},
   "outputs": [],
   "source": [
    "all_categories = sorted(pc_product[\"outcome_and_when\"].unique())"
   ]
  },
  {
   "cell_type": "code",
   "execution_count": null,
   "id": "f60ca106",
   "metadata": {},
   "outputs": [],
   "source": [
    "all_categories"
   ]
  },
  {
   "cell_type": "code",
   "execution_count": null,
   "id": "70f8ce31",
   "metadata": {},
   "outputs": [],
   "source": [
    "win: blue\n",
    "loss: yellow\n",
    "rewarded: green\n",
    "omission: red"
   ]
  },
  {
   "cell_type": "code",
   "execution_count": null,
   "id": "dd166149",
   "metadata": {},
   "outputs": [],
   "source": [
    "all_colors = [\"gold\", \"pink\", \"lightgreen\", \"lightblue\", \"orange\", \"red\", \"green\", \"cyan\", \"darkorange\", \"darkred\", \"darkgreen\", \"darkcyan\"]\n"
   ]
  },
  {
   "cell_type": "code",
   "execution_count": null,
   "id": "a717bd7c",
   "metadata": {
    "scrolled": true
   },
   "outputs": [],
   "source": [
    "fig = plt.figure(figsize = (8,8))\n",
    "ax = fig.add_subplot(1,1,1) \n",
    "ax.set_xlabel('principal component 1', fontsize = 15)\n",
    "ax.set_ylabel('principal component 2', fontsize = 15)\n",
    "ax.set_title('2 component PCA', fontsize = 20)\n",
    "targets = rewarded_categories\n",
    "colors = [\"lightblue\", \"cyan\", \"darkcyan\"]\n",
    "for target, color in zip(all_categories, all_colors):\n",
    "    indicesToKeep = pc_product['outcome_and_when'] == target\n",
    "    ax.scatter(pc_product.loc[indicesToKeep, 0]\n",
    "               , pc_product.loc[indicesToKeep, 1]\n",
    "               , c = color\n",
    "               , s = 50)\n",
    "ax.legend(all_categories)\n",
    "ax.grid()"
   ]
  },
  {
   "cell_type": "markdown",
   "id": "85123ae0",
   "metadata": {},
   "source": [
    "## Looking at each plot individually across time"
   ]
  },
  {
   "cell_type": "code",
   "execution_count": null,
   "id": "7298100f",
   "metadata": {
    "scrolled": true
   },
   "outputs": [],
   "source": [
    "fig = plt.figure(figsize = (8,8))\n",
    "ax = fig.add_subplot(1,1,1) \n",
    "ax.set_xlabel('principal component 1', fontsize = 15)\n",
    "ax.set_ylabel('principal component 2', fontsize = 15)\n",
    "ax.set_title('2 component PCA', fontsize = 20)\n",
    "targets = omission_categories\n",
    "colors = [\"pink\", \"red\", \"darkred\"]\n",
    "for target, color in zip(targets,colors):\n",
    "    indicesToKeep = pc_product['outcome_and_when'] == target\n",
    "    ax.scatter(pc_product.loc[indicesToKeep, 0]\n",
    "               , pc_product.loc[indicesToKeep, 1]\n",
    "               , c = color\n",
    "               , s = 50)\n",
    "ax.legend(targets)\n",
    "ax.grid()"
   ]
  },
  {
   "cell_type": "code",
   "execution_count": null,
   "id": "67c19a38",
   "metadata": {},
   "outputs": [],
   "source": []
  },
  {
   "cell_type": "code",
   "execution_count": null,
   "id": "1df3c30c",
   "metadata": {},
   "outputs": [],
   "source": [
    "fig = plt.figure(figsize = (8,8))\n",
    "ax = fig.add_subplot(1,1,1) \n",
    "ax.set_xlabel('principal component 1', fontsize = 15)\n",
    "ax.set_ylabel('principal component 2', fontsize = 15)\n",
    "ax.set_title('2 component PCA', fontsize = 20)\n",
    "targets = rewarded_categories\n",
    "colors = [\"lightgreen\", \"green\", \"darkgreen\"]\n",
    "for target, color in zip(targets,colors):\n",
    "    indicesToKeep = pc_product['outcome_and_when'] == target\n",
    "    ax.scatter(pc_product.loc[indicesToKeep, 0]\n",
    "               , pc_product.loc[indicesToKeep, 1]\n",
    "               , c = color\n",
    "               , s = 50)\n",
    "ax.legend(targets)\n",
    "ax.grid()"
   ]
  },
  {
   "cell_type": "code",
   "execution_count": null,
   "id": "6978f4c7",
   "metadata": {},
   "outputs": [],
   "source": [
    "fig = plt.figure(figsize = (8,8))\n",
    "ax = fig.add_subplot(1,1,1) \n",
    "ax.set_xlabel('principal component 1', fontsize = 15)\n",
    "ax.set_ylabel('principal component 2', fontsize = 15)\n",
    "ax.set_title('2 component PCA', fontsize = 20)\n",
    "targets = win_categories\n",
    "colors = [\"lightblue\", \"cyan\", \"darkcyan\"]\n",
    "for target, color in zip(targets,colors):\n",
    "    indicesToKeep = pc_product['outcome_and_when'] == target\n",
    "    ax.scatter(pc_product.loc[indicesToKeep, 0]\n",
    "               , pc_product.loc[indicesToKeep, 1]\n",
    "               , c = color\n",
    "               , s = 50)\n",
    "ax.legend(targets)\n",
    "ax.grid()"
   ]
  },
  {
   "cell_type": "code",
   "execution_count": null,
   "id": "85ea886a",
   "metadata": {},
   "outputs": [],
   "source": [
    "fig = plt.figure(figsize = (8,8))\n",
    "ax = fig.add_subplot(1,1,1) \n",
    "ax.set_xlabel('principal component 1', fontsize = 15)\n",
    "ax.set_ylabel('principal component 2', fontsize = 15)\n",
    "ax.set_title('2 component PCA', fontsize = 20)\n",
    "targets = loss_categories\n",
    "colors = [\"gold\", \"orange\", \"darkorange\"]\n",
    "for target, color in zip(targets,colors):\n",
    "    indicesToKeep = pc_product['outcome_and_when'] == target\n",
    "    ax.scatter(pc_product.loc[indicesToKeep, 0]\n",
    "               , pc_product.loc[indicesToKeep, 1]\n",
    "               , c = color\n",
    "               , s = 50)\n",
    "ax.legend(targets)\n",
    "ax.grid()"
   ]
  },
  {
   "cell_type": "code",
   "execution_count": null,
   "id": "c3a72e97",
   "metadata": {
    "scrolled": true
   },
   "outputs": [],
   "source": [
    "Message List\n",
    "\n",
    "    Monday\n",
    "    Hey Nancy! Sounds like a plan with processi... by Iwata,Ryo L\n",
    "    Iwata,Ryo LMonday 2:40 PM\n",
    "\n",
    "    Hey Nancy! Sounds like a plan with processing the other recordings! Would there be an opportunity to record from other animals? I know it'll take at least a month with surgerys and training the mice. If not, then I'll try thinking of other things to look at with our current recordings like incorporating SLEAP and what not.\n",
    "\n",
    "     \n",
    "\n",
    "    As for hours, I didn't have the chance to work this weekend. But will update you before with any extra hours I do this week or weekend.\n",
    "    Profile picture of Padilla-Coreano, Nancy.\n",
    "    how many good recordings do you have? I thi... by Padilla-Coreano, Nancy\n",
    "    Padilla-Coreano, NancyMonday 2:44 PM\n",
    "\n",
    "    how many good recordings do you have? I think you had 2 good animals and ran them against all their cagemates, so it should be 6 good recordings from 2 mice?\n",
    "    6 recordings is not a lot but could be enou... by Padilla-Coreano, Nancy\n",
    "    Padilla-Coreano, Nancy\n",
    "    Monday 2:45 PM\n",
    "\n",
    "    6 recordings is not a lot but could be enough for the poster\n",
    "    start processing together the alone+comp se... by Padilla-Coreano, Nancy\n",
    "    Padilla-Coreano, Nancy\n",
    "    Monday 2:46 PM\n",
    "\n",
    "    start processing together the alone+comp sessions for those 6 good recordings and i will make a meeting with you where we will make a game plan for the analysis. The meeting wont be until Jan 19 because I have to focus on this presentation but till then its a good idea to 1. spike sort all the good sessions 2. try to run videos in sleap\n",
    "    Tuesday\n",
    "    Profile picture of Padilla-Coreano, Nancy.\n",
    "    hey Leo, can you remind me when is your pos... by Padilla-Coreano, Nancy\n",
    "    Padilla-Coreano, NancyTuesday 3:42 PM\n",
    "\n",
    "    hey Leo, can you remind me when is your poster presentation in the UF research day?\n",
    "    It's on February 28th, thank you for checki... by Iwata,Ryo L\n",
    "    Iwata,Ryo LTuesday 5:37 PM\n",
    "\n",
    "    It's on February 28th, thank you for checking in about that! I can make a rough timeline today or tomorrow, and have you make corrections or suggestions if that works.\n",
    "\n",
    "Yesterday\n",
    "Hey Nancy! Here's the tentative plans I had... by Iwata,Ryo L\n",
    "Iwata,Ryo LYesterday 5:38 PM\n",
    "\n",
    "Hey Nancy! Here's the tentative plans I had for the poster: https://garnet-rotate-01f.notion.site/UF-MED-Poster-Timeline-64cfc246010f4b8ab1aae2abd53b721d\n",
    "\n",
    " \n",
    "\n",
    "I still need to read up/think of ways to analyze the ephys and the SLEAP data. So I'll add more as things come up. But it includes a rough timeline I had in mind. I've finished the spike sorting for the ephys recordings and currently trying to get the the predictions for SLEAP on the competition videos that I've reencoded. I'm not sure about the quality of the spike sorting or the ephys recording, so I'll send you some photos or show you after our meetings tomorrow.\n",
    "Url Preview for UF MED Poster Timeline\n",
    "UF MED Poster Timeline\n",
    "\n",
    "https://research.med.ufl.edu/2023-com-celebration-of-research/\n",
    "garnet-rotate-01f.notion.site\n",
    "Profile picture of Padilla-Coreano, Nancy.\n",
    "I will look at them closely tomorrow mornin by Padilla-Coreano, Nancy\n",
    "Padilla-Coreano, NancyYesterday 5:58 PM\n",
    "\n",
    "I will look at them closely tomorrow morning\n",
    "in the meantime I have a favor to ask. I ne... by Padilla-Coreano, Nancy\n",
    "Padilla-Coreano, Nancy\n",
    "Yesterday 5:58 PM\n",
    "\n",
    "in the meantime I have a favor to ask. I need an example of all the LFPs we recorded simultaneously from different brain regions\n",
    "I think its 4 regions? by Padilla-Coreano, Nancy\n",
    "Padilla-Coreano, Nancy\n",
    "Yesterday 5:59 PM\n",
    "\n",
    "I think its 4 regions?\n",
    "or 5? by Padilla-Coreano, Nancy\n",
    "Padilla-Coreano, Nancy\n",
    "Yesterday 5:59 PM\n",
    "\n",
    "or 5?\n",
    "counting the mPFC by Padilla-Coreano, Nancy\n",
    "Padilla-Coreano, Nancy\n",
    "Yesterday 5:59 PM\n",
    "\n",
    "counting the mPFC\n",
    "Ill make a cartoon tomorrow morning so you ... by Padilla-Coreano, Nancy\n",
    "Padilla-Coreano, Nancy\n",
    "Yesterday 5:59 PM\n",
    "\n",
    "Ill make a cartoon tomorrow morning so you know how to make the plot\n",
    "its for my talk, so i need it asap! by Padilla-Coreano, Nancy\n",
    "Padilla-Coreano, Nancy\n",
    "Yesterday 5:59 PM\n",
    "\n",
    "its for my talk, so i need it asap!\n",
    "im recording the final version Wed morning ... by Padilla-Coreano, Nancy\n",
    "Padilla-Coreano, Nancy\n",
    "Yesterday 6:00 PM\n",
    "\n",
    "im recording the final version Wed morning so it needs to be finalize by Monday so I can memorize it\n",
    "Today\n",
    "Sounds like a plan Nancy! Would it be a plo... by Iwata,Ryo L\n",
    "Iwata,Ryo L11:40 AM\n",
    "Sounds like a plan Nancy! Would it be a plot comparing the power for each condition and each region. And definitely can try to get it done by today so that you have the weekend to practice.\n",
    "Profile picture of Padilla-Coreano, Nancy.\n",
    "No its even simpler than that I left u ... by Padilla-Coreano, Nancy\n",
    "Padilla-Coreano, Nancy12:02 PM\n",
    "No its even simpler than that\n",
    "I left u written instructions on your desk\n",
    "Thank you!! by Padilla-Coreano, Nancy\n",
    "Padilla-Coreano, Nancy\n",
    "12:03 PM\n",
    "Thank you!!\n",
    "Hey Nancy! So for the LFP plots, I filtered... by Iwata,Ryo L\n",
    "Iwata,Ryo L4:13 PM\n",
    "Edited\n",
    "\n",
    "Hey Nancy! So for the LFP plots, I filtered for frequencies between 1 and 300. And then took the common median reference. I have it in my notes that the EIB channels for the brain regions were:\n",
    "\n",
    "    MD1, vHPC17, BLA16, LH15\n",
    "\n",
    "So that would make the channels on Trodes(Which I converted with your useful chart: https://garnet-rotate-01f.notion.site/7f0e40b5251e4176ad4673389d13a36b?v=3624312cf3db4ab694be679b360660fc) :\n",
    "\n",
    "    MD32, vHPC16, BLA17, LH16\n",
    "\n",
    "And to get the indexes in Spikeinterface, I just added 1 to each. I'll continue looking for a segment with good noise and reformat the plot. Let me know if there's any steps that I need to add or correct!\n",
    "\n",
    " \n",
    "\n",
    "image\n",
    "\n",
    " \n",
    "Url Preview for Mapping of channels from EIB32 narrow to spikegadgets\n",
    "Mapping of channels from EIB32 narrow to spikegadgets\n",
    "\n",
    "A new tool for teams & individuals that blends everyday work apps into one.\n",
    "garnet-rotate-01f.notion.site\n",
    "\n",
    "has context menu\n",
    "\n",
    "\n",
    "fig = plt.figure(figsize = (8,8))\n",
    "ax = fig.add_subplot(1,1,1) \n",
    "ax.set_xlabel('Principal Component 1', fontsize = 15)\n",
    "ax.set_ylabel('Principal Component 2', fontsize = 15)\n",
    "ax.set_title('2 component PCA', fontsize = 20)\n",
    "targets = ['-5s to 0s Omission', '-5s to 0s Rewarded', '-5s to 0s Loss', '-5s to 0s Win']\n",
    "colors = [\"pink\", \"lightgreen\", \"gold\", \"lightblue\"]\n",
    "for target, color in zip(targets,colors):\n",
    "    indicesToKeep = pc_product['outcome_and_when'] == target\n",
    "    ax.scatter(pc_product.loc[indicesToKeep, 0]\n",
    "               , pc_product.loc[indicesToKeep, 1]\n",
    "               , c = color\n",
    "               , s = 50)\n",
    "ax.legend(targets)\n",
    "ax.grid()"
   ]
  },
  {
   "cell_type": "code",
   "execution_count": null,
   "id": "5fc2d23b",
   "metadata": {
    "scrolled": true
   },
   "outputs": [],
   "source": [
    "fig = plt.figure(figsize = (8,8))\n",
    "ax = fig.add_subplot(1,1,1) \n",
    "ax.set_xlabel('Principal Component 1', fontsize = 15)\n",
    "ax.set_ylabel('Principal Component 2', fontsize = 15)\n",
    "ax.set_title('2 component PCA', fontsize = 20)\n",
    "targets = ['0s to 5s Omission', '0s to 5s Rewarded', '0s to 5s Loss', '0s to 5s Win']\n",
    "colors = [\"red\", \"green\", \"orange\", \"cyan\"]\n",
    "for target, color in zip(targets,colors):\n",
    "    indicesToKeep = pc_product['outcome_and_when'] == target\n",
    "    ax.scatter(pc_product.loc[indicesToKeep, 0]\n",
    "               , pc_product.loc[indicesToKeep, 1]\n",
    "               , c = color\n",
    "               , s = 50)\n",
    "ax.legend(targets)\n",
    "ax.grid()"
   ]
  },
  {
   "cell_type": "code",
   "execution_count": null,
   "id": "dd3b647c",
   "metadata": {},
   "outputs": [],
   "source": [
    "all_colors = [\"gold\", \"pink\", \"lightgreen\", \"lightblue\", \"orange\", \"red\", \"green\", \"cyan\", \"darkorange\", \"darkred\", \"darkgreen\", \"darkcyan\"]\n"
   ]
  },
  {
   "cell_type": "code",
   "execution_count": null,
   "id": "741c85fb",
   "metadata": {
    "scrolled": true
   },
   "outputs": [],
   "source": [
    "fig = plt.figure(figsize = (8,8))\n",
    "ax = fig.add_subplot(1,1,1) \n",
    "ax.set_xlabel('Principal Component 1', fontsize = 15)\n",
    "ax.set_ylabel('Principal Component 2', fontsize = 15)\n",
    "ax.set_title('2 component PCA', fontsize = 20)\n",
    "targets = ['5s to 10s Omission', '5s to 10s Rewarded', '5s to 10s Loss', '5s to 10s Win']\n",
    "colors = [\"darkred\", \"darkgreen\", \"darkorange\", \"darkcyan\"]\n",
    "for target, color in zip(targets,colors):\n",
    "    indicesToKeep = pc_product['outcome_and_when'] == target\n",
    "    ax.scatter(pc_product.loc[indicesToKeep, 0]\n",
    "               , pc_product.loc[indicesToKeep, 1]\n",
    "               , c = color\n",
    "               , s = 50)\n",
    "ax.legend(targets)\n",
    "ax.grid()"
   ]
  },
  {
   "cell_type": "code",
   "execution_count": null,
   "id": "50b12b3f",
   "metadata": {},
   "outputs": [],
   "source": []
  },
  {
   "cell_type": "code",
   "execution_count": null,
   "id": "f763021b",
   "metadata": {},
   "outputs": [],
   "source": []
  },
  {
   "cell_type": "code",
   "execution_count": null,
   "id": "0c360424",
   "metadata": {},
   "outputs": [],
   "source": []
  },
  {
   "cell_type": "code",
   "execution_count": null,
   "id": "cdb3efb0",
   "metadata": {},
   "outputs": [],
   "source": [
    "firing_rate_and_pca_df = pd.concat([transposed_averaged_firing_rate_df.reset_index(), principal_df], axis=1)"
   ]
  },
  {
   "cell_type": "code",
   "execution_count": null,
   "id": "2abed604",
   "metadata": {},
   "outputs": [],
   "source": [
    "firing_rate_and_pca_df"
   ]
  },
  {
   "cell_type": "code",
   "execution_count": null,
   "id": "ba20db8d",
   "metadata": {},
   "outputs": [],
   "source": [
    "firing_rate_and_pca_df"
   ]
  },
  {
   "cell_type": "code",
   "execution_count": null,
   "id": "45d506dc",
   "metadata": {
    "scrolled": true
   },
   "outputs": [],
   "source": [
    "principal_df.shape"
   ]
  },
  {
   "cell_type": "code",
   "execution_count": null,
   "id": "2ebd7402",
   "metadata": {},
   "outputs": [],
   "source": [
    "firing_rate_and_pca_df[\"before_during_after\"] = firing_rate_and_pca_df[\"bin\"].apply(lambda x: \"-5s to 0s\" if x < 50 else (\"0s to 5s\" if 50 <= x < 100 else \"5s to 10s\"))"
   ]
  },
  {
   "cell_type": "code",
   "execution_count": null,
   "id": "327f9ef1",
   "metadata": {},
   "outputs": [],
   "source": []
  },
  {
   "cell_type": "code",
   "execution_count": null,
   "id": "7b29cf00",
   "metadata": {},
   "outputs": [],
   "source": [
    "firing_rate_and_pca_df[\"outcome_and_when\"] = firing_rate_and_pca_df.apply(lambda x: x[\"before_during_after\"] + \" \" + x[\"rewarded_category\"], axis=1)"
   ]
  },
  {
   "cell_type": "code",
   "execution_count": null,
   "id": "f015cb45",
   "metadata": {
    "scrolled": true
   },
   "outputs": [],
   "source": [
    "firing_rate_and_pca_df"
   ]
  },
  {
   "cell_type": "code",
   "execution_count": null,
   "id": "5420107a",
   "metadata": {},
   "outputs": [],
   "source": [
    "sorted(firing_rate_and_pca_df[\"outcome_and_when\"].unique())"
   ]
  },
  {
   "cell_type": "code",
   "execution_count": null,
   "id": "e8301d6e",
   "metadata": {},
   "outputs": [],
   "source": []
  },
  {
   "cell_type": "code",
   "execution_count": null,
   "id": "bf10097e",
   "metadata": {},
   "outputs": [],
   "source": [
    "fig = plt.figure(figsize = (8,8))\n",
    "ax = fig.add_subplot(1,1,1) \n",
    "ax.set_xlabel('Principal Component 1', fontsize = 15)\n",
    "ax.set_ylabel('Principal Component 2', fontsize = 15)\n",
    "ax.set_title('2 component PCA', fontsize = 20)\n",
    "targets = omission_categories\n",
    "colors = [\"pink\", \"red\", \"darkred\"]\n",
    "for target, color in zip(targets,colors):\n",
    "    indicesToKeep = firing_rate_and_pca_df['outcome_and_when'] == target\n",
    "    ax.scatter(firing_rate_and_pca_df.loc[indicesToKeep, 'principal component 1']\n",
    "               , firing_rate_and_pca_df.loc[indicesToKeep, 'principal component 2']\n",
    "               , c = color\n",
    "               , s = 50)\n",
    "ax.legend(targets)\n",
    "ax.grid()"
   ]
  },
  {
   "cell_type": "code",
   "execution_count": null,
   "id": "2679ef49",
   "metadata": {},
   "outputs": [],
   "source": [
    "fig = plt.figure(figsize = (8,8))\n",
    "ax = fig.add_subplot(1,1,1) \n",
    "ax.set_xlabel('Principal Component 1', fontsize = 15)\n",
    "ax.set_ylabel('Principal Component 2', fontsize = 15)\n",
    "ax.set_title('2 component PCA', fontsize = 20)\n",
    "targets = omission_categories\n",
    "colors = [\"lightblue\", \"cyan\", \"darkcyan\"]\n",
    "for target, color in zip(targets,colors):\n",
    "    indicesToKeep = firing_rate_and_pca_df['outcome_and_when'] == target\n",
    "    ax.scatter(firing_rate_and_pca_df.loc[indicesToKeep, 'principal component 1']\n",
    "               , firing_rate_and_pca_df.loc[indicesToKeep, 'principal component 2']\n",
    "               , c = color\n",
    "               , s = 50)\n",
    "ax.legend(targets)\n",
    "ax.grid()"
   ]
  },
  {
   "cell_type": "code",
   "execution_count": null,
   "id": "85074b14",
   "metadata": {
    "scrolled": true
   },
   "outputs": [],
   "source": [
    "fig = plt.figure(figsize = (8,8))\n",
    "ax = fig.add_subplot(1,1,1) \n",
    "ax.set_xlabel('Principal Component 1', fontsize = 15)\n",
    "ax.set_ylabel('Principal Component 2', fontsize = 15)\n",
    "ax.set_title('2 component PCA', fontsize = 20)\n",
    "targets = omission_categories\n",
    "colors = [\"lightblue\", \"cyan\", \"darkcyan\"]\n",
    "for target, color in zip(targets,colors):\n",
    "    indicesToKeep = firing_rate_and_pca_df['outcome_and_when'] == target\n",
    "    ax.scatter(firing_rate_and_pca_df.loc[indicesToKeep, 'principal component 1']\n",
    "               , firing_rate_and_pca_df.loc[indicesToKeep, 'principal component 2']\n",
    "               , c = color\n",
    "               , s = 50)\n",
    "ax.legend(targets)\n",
    "ax.grid()"
   ]
  },
  {
   "cell_type": "code",
   "execution_count": null,
   "id": "abdd6564",
   "metadata": {},
   "outputs": [],
   "source": [
    "['-5s to 0s Omission',\n",
    " '-5s to 0s Rewarded',\n",
    " '0s to 5s Omission',\n",
    " '0s to 5s Rewarded',\n",
    " '5s to 10s Omission',\n",
    " '5s to 10s Rewarded']"
   ]
  },
  {
   "cell_type": "code",
   "execution_count": null,
   "id": "a6c072cf",
   "metadata": {},
   "outputs": [],
   "source": [
    "fig = plt.figure(figsize = (8,8))\n",
    "ax = fig.add_subplot(1,1,1) \n",
    "ax.set_xlabel('Principal Component 1', fontsize = 15)\n",
    "ax.set_ylabel('Principal Component 2', fontsize = 15)\n",
    "ax.set_title('2 component PCA', fontsize = 20)\n",
    "targets = ['-5s to 0s Omission', '-5s to 0s Rewarded']\n",
    "colors = [\"pink\", \"lightblue\"]\n",
    "for target, color in zip(targets,colors):\n",
    "    indicesToKeep = firing_rate_and_pca_df['outcome_and_when'] == target\n",
    "    ax.scatter(firing_rate_and_pca_df.loc[indicesToKeep, 'principal component 1']\n",
    "               , firing_rate_and_pca_df.loc[indicesToKeep, 'principal component 2']\n",
    "               , c = color\n",
    "               , s = 50)\n",
    "ax.legend(targets)\n",
    "ax.grid()"
   ]
  },
  {
   "cell_type": "code",
   "execution_count": null,
   "id": "99a617a2",
   "metadata": {},
   "outputs": [],
   "source": [
    "fig = plt.figure(figsize = (8,8))\n",
    "ax = fig.add_subplot(1,1,1) \n",
    "ax.set_xlabel('Principal Component 1', fontsize = 15)\n",
    "ax.set_ylabel('Principal Component 2', fontsize = 15)\n",
    "ax.set_title('2 component PCA', fontsize = 20)\n",
    "targets = ['0s to 5s Omission', '0s to 5s Rewarded']\n",
    "colors = [\"red\", \"cyan\"]\n",
    "for target, color in zip(targets,colors):\n",
    "    indicesToKeep = firing_rate_and_pca_df['outcome_and_when'] == target\n",
    "    ax.scatter(firing_rate_and_pca_df.loc[indicesToKeep, 'principal component 1']\n",
    "               , firing_rate_and_pca_df.loc[indicesToKeep, 'principal component 2']\n",
    "               , c = color\n",
    "               , s = 50)\n",
    "ax.legend(targets)\n",
    "ax.grid()"
   ]
  },
  {
   "cell_type": "code",
   "execution_count": null,
   "id": "551e2c3b",
   "metadata": {
    "scrolled": true
   },
   "outputs": [],
   "source": [
    "fig = plt.figure(figsize = (8,8))\n",
    "ax = fig.add_subplot(1,1,1) \n",
    "ax.set_xlabel('Principal Component 1', fontsize = 15)\n",
    "ax.set_ylabel('Principal Component 2', fontsize = 15)\n",
    "ax.set_title('2 component PCA', fontsize = 20)\n",
    "targets = ['5s to 10s Omission', '5s to 10s Rewarded']\n",
    "colors = [\"darkred\", \"darkcyan\"]\n",
    "for target, color in zip(targets,colors):\n",
    "    indicesToKeep = firing_rate_and_pca_df['outcome_and_when'] == target\n",
    "    ax.scatter(firing_rate_and_pca_df.loc[indicesToKeep, 'principal component 1']\n",
    "               , firing_rate_and_pca_df.loc[indicesToKeep, 'principal component 2']\n",
    "               , c = color\n",
    "               , s = 50)\n",
    "ax.legend(targets)\n",
    "ax.grid()"
   ]
  },
  {
   "cell_type": "code",
   "execution_count": null,
   "id": "30b2cb88",
   "metadata": {},
   "outputs": [],
   "source": []
  },
  {
   "cell_type": "markdown",
   "id": "656ea0f5",
   "metadata": {},
   "source": [
    "# PCA with Time Bin Rows"
   ]
  },
  {
   "cell_type": "markdown",
   "id": "f31cdad5",
   "metadata": {},
   "source": [
    "## Standarizing the Data"
   ]
  },
  {
   "cell_type": "markdown",
   "id": "33e7fde5",
   "metadata": {},
   "source": [
    "- TODO: Check why the 0s are being scaled differently"
   ]
  },
  {
   "cell_type": "code",
   "execution_count": null,
   "id": "793b69de",
   "metadata": {},
   "outputs": [],
   "source": [
    "from sklearn.preprocessing import StandardScaler"
   ]
  },
  {
   "cell_type": "code",
   "execution_count": null,
   "id": "3ced4afd",
   "metadata": {
    "scrolled": true
   },
   "outputs": [],
   "source": [
    "# Separating out the features\n",
    "x = resetted_averaged_firing_rate_array#.loc[:].values# Separating out the target\n",
    "resetted_averaged_firing_rate_array = StandardScaler().fit_transform(x)"
   ]
  },
  {
   "cell_type": "markdown",
   "id": "d6b63a24",
   "metadata": {},
   "source": [
    "## Calculating the PCA"
   ]
  },
  {
   "cell_type": "code",
   "execution_count": null,
   "id": "1567d6c7",
   "metadata": {},
   "outputs": [],
   "source": [
    "from sklearn.decomposition import PCA\n"
   ]
  },
  {
   "cell_type": "code",
   "execution_count": null,
   "id": "8f0ac176",
   "metadata": {},
   "outputs": [],
   "source": [
    "pca = PCA(n_components=2)\n",
    "principalComponents = pca.fit_transform(resetted_averaged_firing_rate_array)\n",
    "principal_df = pd.DataFrame(data = principalComponents\n",
    "             , columns = ['principal component 1', 'principal component 2'])"
   ]
  },
  {
   "cell_type": "code",
   "execution_count": null,
   "id": "66b05d0f",
   "metadata": {},
   "outputs": [],
   "source": [
    "principal_df.head()"
   ]
  },
  {
   "cell_type": "code",
   "execution_count": null,
   "id": "826b1014",
   "metadata": {
    "scrolled": true
   },
   "outputs": [],
   "source": [
    "principal_df.shape"
   ]
  },
  {
   "cell_type": "code",
   "execution_count": null,
   "id": "0b4f10b2",
   "metadata": {
    "scrolled": true
   },
   "outputs": [],
   "source": [
    "principal_df.shape"
   ]
  },
  {
   "cell_type": "code",
   "execution_count": null,
   "id": "457441bc",
   "metadata": {},
   "outputs": [],
   "source": [
    "firing_rate_and_pca_df = pd.concat([resetted_averaged_firing_rate_df, principal_df], axis=1)"
   ]
  },
  {
   "cell_type": "code",
   "execution_count": null,
   "id": "6c9430b1",
   "metadata": {},
   "outputs": [],
   "source": [
    "firing_rate_and_pca_df[\"before_during_after\"] = firing_rate_and_pca_df[\"bin\"].apply(lambda x: \"-5s to 0s\" if x < 50 else (\"0s to 5s\" if 50 <= x < 100 else \"5s to 10s\"))"
   ]
  },
  {
   "cell_type": "code",
   "execution_count": null,
   "id": "52effa53",
   "metadata": {},
   "outputs": [],
   "source": []
  },
  {
   "cell_type": "code",
   "execution_count": null,
   "id": "fd06ee8e",
   "metadata": {},
   "outputs": [],
   "source": [
    "firing_rate_and_pca_df[\"outcome_and_when\"] = firing_rate_and_pca_df.apply(lambda x: x[\"before_during_after\"] + \" \" + x[\"rewarded_category\"], axis=1)"
   ]
  },
  {
   "cell_type": "code",
   "execution_count": null,
   "id": "ef22e05b",
   "metadata": {
    "scrolled": true
   },
   "outputs": [],
   "source": [
    "firing_rate_and_pca_df"
   ]
  },
  {
   "cell_type": "code",
   "execution_count": null,
   "id": "a08e19b3",
   "metadata": {},
   "outputs": [],
   "source": [
    "sorted(firing_rate_and_pca_df[\"outcome_and_when\"].unique())"
   ]
  },
  {
   "cell_type": "code",
   "execution_count": null,
   "id": "b48a5ca2",
   "metadata": {},
   "outputs": [],
   "source": [
    "omission_categories = [name for name in sorted(firing_rate_and_pca_df[\"outcome_and_when\"].unique()) if \"Omission\" in name]\n",
    "rewarded_categories = [name for name in sorted(firing_rate_and_pca_df[\"outcome_and_when\"].unique()) if \"Rewarded\" in name]\n"
   ]
  },
  {
   "cell_type": "code",
   "execution_count": null,
   "id": "6e9cd6a5",
   "metadata": {},
   "outputs": [],
   "source": []
  },
  {
   "cell_type": "code",
   "execution_count": null,
   "id": "4e193754",
   "metadata": {},
   "outputs": [],
   "source": [
    "fig = plt.figure(figsize = (8,8))\n",
    "ax = fig.add_subplot(1,1,1) \n",
    "ax.set_xlabel('Principal Component 1', fontsize = 15)\n",
    "ax.set_ylabel('Principal Component 2', fontsize = 15)\n",
    "ax.set_title('2 component PCA', fontsize = 20)\n",
    "targets = omission_categories\n",
    "colors = [\"pink\", \"red\", \"darkred\"]\n",
    "for target, color in zip(targets,colors):\n",
    "    indicesToKeep = firing_rate_and_pca_df['outcome_and_when'] == target\n",
    "    ax.scatter(firing_rate_and_pca_df.loc[indicesToKeep, 'principal component 1']\n",
    "               , firing_rate_and_pca_df.loc[indicesToKeep, 'principal component 2']\n",
    "               , c = color\n",
    "               , s = 50)\n",
    "ax.legend(targets)\n",
    "ax.grid()"
   ]
  },
  {
   "cell_type": "code",
   "execution_count": null,
   "id": "d7181462",
   "metadata": {
    "scrolled": true
   },
   "outputs": [],
   "source": [
    "fig = plt.figure(figsize = (8,8))\n",
    "ax = fig.add_subplot(1,1,1) \n",
    "ax.set_xlabel('Principal Component 1', fontsize = 15)\n",
    "ax.set_ylabel('Principal Component 2', fontsize = 15)\n",
    "ax.set_title('2 component PCA', fontsize = 20)\n",
    "targets = omission_categories\n",
    "colors = [\"lightblue\", \"cyan\", \"darkcyan\"]\n",
    "for target, color in zip(targets,colors):\n",
    "    indicesToKeep = firing_rate_and_pca_df['outcome_and_when'] == target\n",
    "    ax.scatter(firing_rate_and_pca_df.loc[indicesToKeep, 'principal component 1']\n",
    "               , firing_rate_and_pca_df.loc[indicesToKeep, 'principal component 2']\n",
    "               , c = color\n",
    "               , s = 50)\n",
    "ax.legend(targets)\n",
    "ax.grid()"
   ]
  },
  {
   "cell_type": "code",
   "execution_count": null,
   "id": "e982e7cc",
   "metadata": {},
   "outputs": [],
   "source": [
    "['-5s to 0s Omission',\n",
    " '-5s to 0s Rewarded',\n",
    " '0s to 5s Omission',\n",
    " '0s to 5s Rewarded',\n",
    " '5s to 10s Omission',\n",
    " '5s to 10s Rewarded']"
   ]
  },
  {
   "cell_type": "code",
   "execution_count": null,
   "id": "042abccf",
   "metadata": {},
   "outputs": [],
   "source": [
    "fig = plt.figure(figsize = (8,8))\n",
    "ax = fig.add_subplot(1,1,1) \n",
    "ax.set_xlabel('Principal Component 1', fontsize = 15)\n",
    "ax.set_ylabel('Principal Component 2', fontsize = 15)\n",
    "ax.set_title('2 component PCA', fontsize = 20)\n",
    "targets = ['-5s to 0s Omission', '-5s to 0s Rewarded']\n",
    "colors = [\"pink\", \"lightblue\"]\n",
    "for target, color in zip(targets,colors):\n",
    "    indicesToKeep = firing_rate_and_pca_df['outcome_and_when'] == target\n",
    "    ax.scatter(firing_rate_and_pca_df.loc[indicesToKeep, 'principal component 1']\n",
    "               , firing_rate_and_pca_df.loc[indicesToKeep, 'principal component 2']\n",
    "               , c = color\n",
    "               , s = 50)\n",
    "ax.legend(targets)\n",
    "ax.grid()"
   ]
  },
  {
   "cell_type": "code",
   "execution_count": null,
   "id": "69cadebd",
   "metadata": {},
   "outputs": [],
   "source": [
    "fig = plt.figure(figsize = (8,8))\n",
    "ax = fig.add_subplot(1,1,1) \n",
    "ax.set_xlabel('Principal Component 1', fontsize = 15)\n",
    "ax.set_ylabel('Principal Component 2', fontsize = 15)\n",
    "ax.set_title('2 component PCA', fontsize = 20)\n",
    "targets = ['0s to 5s Omission', '0s to 5s Rewarded']\n",
    "colors = [\"red\", \"cyan\"]\n",
    "for target, color in zip(targets,colors):\n",
    "    indicesToKeep = firing_rate_and_pca_df['outcome_and_when'] == target\n",
    "    ax.scatter(firing_rate_and_pca_df.loc[indicesToKeep, 'principal component 1']\n",
    "               , firing_rate_and_pca_df.loc[indicesToKeep, 'principal component 2']\n",
    "               , c = color\n",
    "               , s = 50)\n",
    "ax.legend(targets)\n",
    "ax.grid()"
   ]
  },
  {
   "cell_type": "code",
   "execution_count": null,
   "id": "bb17084a",
   "metadata": {},
   "outputs": [],
   "source": [
    "fig = plt.figure(figsize = (8,8))\n",
    "ax = fig.add_subplot(1,1,1) \n",
    "ax.set_xlabel('Principal Component 1', fontsize = 15)\n",
    "ax.set_ylabel('Principal Component 2', fontsize = 15)\n",
    "ax.set_title('2 component PCA', fontsize = 20)\n",
    "targets = ['5s to 10s Omission', '5s to 10s Rewarded']\n",
    "colors = [\"darkred\", \"darkcyan\"]\n",
    "for target, color in zip(targets,colors):\n",
    "    indicesToKeep = firing_rate_and_pca_df['outcome_and_when'] == target\n",
    "    ax.scatter(firing_rate_and_pca_df.loc[indicesToKeep, 'principal component 1']\n",
    "               , firing_rate_and_pca_df.loc[indicesToKeep, 'principal component 2']\n",
    "               , c = color\n",
    "               , s = 50)\n",
    "ax.legend(targets)\n",
    "ax.grid()"
   ]
  },
  {
   "cell_type": "code",
   "execution_count": null,
   "id": "7337e586",
   "metadata": {},
   "outputs": [],
   "source": []
  },
  {
   "cell_type": "code",
   "execution_count": null,
   "id": "e697cf71",
   "metadata": {},
   "outputs": [],
   "source": []
  },
  {
   "cell_type": "code",
   "execution_count": null,
   "id": "6bef9eaa",
   "metadata": {},
   "outputs": [],
   "source": [
    "raise ValueError()"
   ]
  }
 ],
 "metadata": {
  "kernelspec": {
   "display_name": "Python 3 (ipykernel)",
   "language": "python",
   "name": "python3"
  },
  "language_info": {
   "codemirror_mode": {
    "name": "ipython",
    "version": 3
   },
   "file_extension": ".py",
   "mimetype": "text/x-python",
   "name": "python",
   "nbconvert_exporter": "python",
   "pygments_lexer": "ipython3",
   "version": "3.9.15"
  },
  "vscode": {
   "interpreter": {
    "hash": "916dbcbb3f70747c44a77c7bcd40155683ae19c65e1c03b4aa3499c5328201f1"
   }
  }
 },
 "nbformat": 4,
 "nbformat_minor": 5
}

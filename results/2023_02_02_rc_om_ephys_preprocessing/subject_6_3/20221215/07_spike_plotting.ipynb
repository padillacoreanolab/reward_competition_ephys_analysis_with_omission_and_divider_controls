{
 "cells": [
  {
   "cell_type": "markdown",
   "id": "238a6b1a",
   "metadata": {},
   "source": [
    "# Spike Gadgets Ephys and Video Syncing"
   ]
  },
  {
   "cell_type": "code",
   "execution_count": 1,
   "id": "7650e225",
   "metadata": {},
   "outputs": [],
   "source": [
    "import os\n",
    "import re\n",
    "import sys\n",
    "from collections import defaultdict\n",
    "import random\n",
    "from random import randrange\n",
    "import glob\n",
    "import warnings"
   ]
  },
  {
   "cell_type": "code",
   "execution_count": 2,
   "id": "708b2d99",
   "metadata": {},
   "outputs": [],
   "source": [
    "import numpy as np\n",
    "import pandas as pd\n",
    "# import cv2\n",
    "from IPython.display import Video\n",
    "import matplotlib.pyplot as plt"
   ]
  },
  {
   "cell_type": "code",
   "execution_count": 3,
   "id": "a0a6d069",
   "metadata": {},
   "outputs": [],
   "source": [
    "# setting path\n",
    "sys.path.append('../../../src')"
   ]
  },
  {
   "cell_type": "code",
   "execution_count": 4,
   "id": "9a656325",
   "metadata": {},
   "outputs": [],
   "source": [
    "%matplotlib inline"
   ]
  },
  {
   "cell_type": "code",
   "execution_count": 5,
   "id": "0a14db26",
   "metadata": {},
   "outputs": [],
   "source": [
    "import spikeinterface"
   ]
  },
  {
   "cell_type": "code",
   "execution_count": 6,
   "id": "9fddb437",
   "metadata": {},
   "outputs": [
    {
     "name": "stderr",
     "output_type": "stream",
     "text": [
      "/tmp/ipykernel_3248498/634830499.py:3: DeprecationWarning: The 'toolkit' module is deprecated. Use spikeinterface.preprocessing/postptocessing/qualitymetrics instead\n",
      "  import spikeinterface.toolkit as st\n"
     ]
    }
   ],
   "source": [
    "import spikeinterface as si  # import core only\n",
    "import spikeinterface.extractors as se\n",
    "import spikeinterface.toolkit as st\n",
    "import spikeinterface.sorters as ss\n",
    "import spikeinterface.comparison as sc\n",
    "import spikeinterface.widgets as sw"
   ]
  },
  {
   "cell_type": "code",
   "execution_count": 7,
   "id": "bf1f02f5",
   "metadata": {},
   "outputs": [],
   "source": [
    "import spikeinterface.core"
   ]
  },
  {
   "cell_type": "code",
   "execution_count": 8,
   "id": "46a90c07",
   "metadata": {},
   "outputs": [],
   "source": [
    "from probeinterface import get_probe\n",
    "from probeinterface.plotting import plot_probe, plot_probe_group\n",
    "from probeinterface import write_prb, read_prb"
   ]
  },
  {
   "cell_type": "code",
   "execution_count": 9,
   "id": "06c10da3",
   "metadata": {},
   "outputs": [],
   "source": [
    "import spikeinterface.full as si"
   ]
  },
  {
   "cell_type": "markdown",
   "id": "2db623b3",
   "metadata": {},
   "source": [
    "# Reading in the Timestamp Information"
   ]
  },
  {
   "cell_type": "code",
   "execution_count": 10,
   "id": "b909afc9",
   "metadata": {},
   "outputs": [],
   "source": [
    "tone_label_file_ending = \"tone_label_df\""
   ]
  },
  {
   "cell_type": "code",
   "execution_count": 11,
   "id": "3c16a42a",
   "metadata": {},
   "outputs": [],
   "source": [
    "tone_label_path = glob.glob(\"./proc/*{}.csv*\".format(tone_label_file_ending))[0]"
   ]
  },
  {
   "cell_type": "code",
   "execution_count": 12,
   "id": "bfc5f740",
   "metadata": {},
   "outputs": [
    {
     "data": {
      "text/plain": [
       "'./proc/20221215_145401_comp_amd_om_6_3_top_1_base_2_vs_6_3_tone_label_df.csv'"
      ]
     },
     "execution_count": 12,
     "metadata": {},
     "output_type": "execute_result"
    }
   ],
   "source": [
    "tone_label_path"
   ]
  },
  {
   "cell_type": "code",
   "execution_count": 13,
   "id": "0b2bb36b",
   "metadata": {},
   "outputs": [],
   "source": [
    "recording_name = os.path.splitext(os.path.basename(tone_label_path))[0].strip(tone_label_file_ending)"
   ]
  },
  {
   "cell_type": "code",
   "execution_count": 14,
   "id": "ce8adb23",
   "metadata": {},
   "outputs": [
    {
     "data": {
      "text/plain": [
       "'20221215_145401_comp_amd_om_6_3_top_1_base_2_vs_6_3'"
      ]
     },
     "execution_count": 14,
     "metadata": {},
     "output_type": "execute_result"
    }
   ],
   "source": [
    "recording_name"
   ]
  },
  {
   "cell_type": "code",
   "execution_count": 15,
   "id": "35d7c055",
   "metadata": {},
   "outputs": [],
   "source": [
    "tone_time_stamps_df = pd.read_csv(tone_label_path, index_col=0)"
   ]
  },
  {
   "cell_type": "code",
   "execution_count": 16,
   "id": "4970692c",
   "metadata": {},
   "outputs": [
    {
     "data": {
      "text/html": [
       "<div>\n",
       "<style scoped>\n",
       "    .dataframe tbody tr th:only-of-type {\n",
       "        vertical-align: middle;\n",
       "    }\n",
       "\n",
       "    .dataframe tbody tr th {\n",
       "        vertical-align: top;\n",
       "    }\n",
       "\n",
       "    .dataframe thead th {\n",
       "        text-align: right;\n",
       "    }\n",
       "</style>\n",
       "<table border=\"1\" class=\"dataframe\">\n",
       "  <thead>\n",
       "    <tr style=\"text-align: right;\">\n",
       "      <th></th>\n",
       "      <th>tone_time_stamp</th>\n",
       "      <th>tone_category</th>\n",
       "      <th>tone_clock_time_comp</th>\n",
       "      <th>tone_clock_time_omission</th>\n",
       "    </tr>\n",
       "  </thead>\n",
       "  <tbody>\n",
       "    <tr>\n",
       "      <th>0</th>\n",
       "      <td>1872697</td>\n",
       "      <td>loss</td>\n",
       "      <td>60.01995</td>\n",
       "      <td>-1971.59705</td>\n",
       "    </tr>\n",
       "    <tr>\n",
       "      <th>1</th>\n",
       "      <td>3472694</td>\n",
       "      <td>loss</td>\n",
       "      <td>140.01980</td>\n",
       "      <td>-1891.59720</td>\n",
       "    </tr>\n",
       "    <tr>\n",
       "      <th>2</th>\n",
       "      <td>5272689</td>\n",
       "      <td>loss</td>\n",
       "      <td>230.01955</td>\n",
       "      <td>-1801.59745</td>\n",
       "    </tr>\n",
       "    <tr>\n",
       "      <th>3</th>\n",
       "      <td>6872686</td>\n",
       "      <td>loss</td>\n",
       "      <td>310.01940</td>\n",
       "      <td>-1721.59760</td>\n",
       "    </tr>\n",
       "    <tr>\n",
       "      <th>4</th>\n",
       "      <td>8372686</td>\n",
       "      <td>loss</td>\n",
       "      <td>385.01940</td>\n",
       "      <td>-1646.59760</td>\n",
       "    </tr>\n",
       "    <tr>\n",
       "      <th>5</th>\n",
       "      <td>10372684</td>\n",
       "      <td>loss</td>\n",
       "      <td>485.01930</td>\n",
       "      <td>-1546.59770</td>\n",
       "    </tr>\n",
       "    <tr>\n",
       "      <th>6</th>\n",
       "      <td>12272681</td>\n",
       "      <td>loss</td>\n",
       "      <td>580.01915</td>\n",
       "      <td>-1451.59785</td>\n",
       "    </tr>\n",
       "    <tr>\n",
       "      <th>7</th>\n",
       "      <td>14072678</td>\n",
       "      <td>loss</td>\n",
       "      <td>670.01900</td>\n",
       "      <td>-1361.59800</td>\n",
       "    </tr>\n",
       "    <tr>\n",
       "      <th>8</th>\n",
       "      <td>15672676</td>\n",
       "      <td>loss</td>\n",
       "      <td>750.01890</td>\n",
       "      <td>-1281.59810</td>\n",
       "    </tr>\n",
       "    <tr>\n",
       "      <th>9</th>\n",
       "      <td>17472673</td>\n",
       "      <td>loss</td>\n",
       "      <td>840.01875</td>\n",
       "      <td>-1191.59825</td>\n",
       "    </tr>\n",
       "    <tr>\n",
       "      <th>10</th>\n",
       "      <td>19472667</td>\n",
       "      <td>loss</td>\n",
       "      <td>940.01845</td>\n",
       "      <td>-1091.59855</td>\n",
       "    </tr>\n",
       "    <tr>\n",
       "      <th>11</th>\n",
       "      <td>21272667</td>\n",
       "      <td>loss</td>\n",
       "      <td>1030.01845</td>\n",
       "      <td>-1001.59855</td>\n",
       "    </tr>\n",
       "    <tr>\n",
       "      <th>12</th>\n",
       "      <td>23672664</td>\n",
       "      <td>loss</td>\n",
       "      <td>1150.01830</td>\n",
       "      <td>-881.59870</td>\n",
       "    </tr>\n",
       "    <tr>\n",
       "      <th>13</th>\n",
       "      <td>25472661</td>\n",
       "      <td>loss</td>\n",
       "      <td>1240.01815</td>\n",
       "      <td>-791.59885</td>\n",
       "    </tr>\n",
       "    <tr>\n",
       "      <th>14</th>\n",
       "      <td>27172659</td>\n",
       "      <td>loss</td>\n",
       "      <td>1325.01805</td>\n",
       "      <td>-706.59895</td>\n",
       "    </tr>\n",
       "    <tr>\n",
       "      <th>15</th>\n",
       "      <td>28972656</td>\n",
       "      <td>loss</td>\n",
       "      <td>1415.01790</td>\n",
       "      <td>-616.59910</td>\n",
       "    </tr>\n",
       "    <tr>\n",
       "      <th>16</th>\n",
       "      <td>30872654</td>\n",
       "      <td>loss</td>\n",
       "      <td>1510.01780</td>\n",
       "      <td>-521.59920</td>\n",
       "    </tr>\n",
       "    <tr>\n",
       "      <th>17</th>\n",
       "      <td>33272648</td>\n",
       "      <td>loss</td>\n",
       "      <td>1630.01750</td>\n",
       "      <td>-401.59950</td>\n",
       "    </tr>\n",
       "    <tr>\n",
       "      <th>18</th>\n",
       "      <td>34872648</td>\n",
       "      <td>win</td>\n",
       "      <td>1710.01750</td>\n",
       "      <td>-321.59950</td>\n",
       "    </tr>\n",
       "    <tr>\n",
       "      <th>19</th>\n",
       "      <td>42504638</td>\n",
       "      <td>rewarded</td>\n",
       "      <td>2091.61700</td>\n",
       "      <td>60.00000</td>\n",
       "    </tr>\n",
       "    <tr>\n",
       "      <th>20</th>\n",
       "      <td>44104636</td>\n",
       "      <td>rewarded</td>\n",
       "      <td>2171.61690</td>\n",
       "      <td>139.99990</td>\n",
       "    </tr>\n",
       "    <tr>\n",
       "      <th>21</th>\n",
       "      <td>45904633</td>\n",
       "      <td>rewarded</td>\n",
       "      <td>2261.61675</td>\n",
       "      <td>229.99975</td>\n",
       "    </tr>\n",
       "    <tr>\n",
       "      <th>22</th>\n",
       "      <td>47504632</td>\n",
       "      <td>omission</td>\n",
       "      <td>2341.61670</td>\n",
       "      <td>309.99970</td>\n",
       "    </tr>\n",
       "    <tr>\n",
       "      <th>23</th>\n",
       "      <td>49004630</td>\n",
       "      <td>rewarded</td>\n",
       "      <td>2416.61660</td>\n",
       "      <td>384.99960</td>\n",
       "    </tr>\n",
       "    <tr>\n",
       "      <th>24</th>\n",
       "      <td>51004627</td>\n",
       "      <td>rewarded</td>\n",
       "      <td>2516.61645</td>\n",
       "      <td>484.99945</td>\n",
       "    </tr>\n",
       "    <tr>\n",
       "      <th>25</th>\n",
       "      <td>52904625</td>\n",
       "      <td>rewarded</td>\n",
       "      <td>2611.61635</td>\n",
       "      <td>579.99935</td>\n",
       "    </tr>\n",
       "    <tr>\n",
       "      <th>26</th>\n",
       "      <td>54704622</td>\n",
       "      <td>rewarded</td>\n",
       "      <td>2701.61620</td>\n",
       "      <td>669.99920</td>\n",
       "    </tr>\n",
       "    <tr>\n",
       "      <th>27</th>\n",
       "      <td>56304620</td>\n",
       "      <td>omission</td>\n",
       "      <td>2781.61610</td>\n",
       "      <td>749.99910</td>\n",
       "    </tr>\n",
       "    <tr>\n",
       "      <th>28</th>\n",
       "      <td>58104616</td>\n",
       "      <td>rewarded</td>\n",
       "      <td>2871.61590</td>\n",
       "      <td>839.99890</td>\n",
       "    </tr>\n",
       "    <tr>\n",
       "      <th>29</th>\n",
       "      <td>60104616</td>\n",
       "      <td>rewarded</td>\n",
       "      <td>2971.61590</td>\n",
       "      <td>939.99890</td>\n",
       "    </tr>\n",
       "    <tr>\n",
       "      <th>30</th>\n",
       "      <td>61904614</td>\n",
       "      <td>omission</td>\n",
       "      <td>3061.61580</td>\n",
       "      <td>1029.99880</td>\n",
       "    </tr>\n",
       "    <tr>\n",
       "      <th>31</th>\n",
       "      <td>64304611</td>\n",
       "      <td>rewarded</td>\n",
       "      <td>3181.61565</td>\n",
       "      <td>1149.99865</td>\n",
       "    </tr>\n",
       "    <tr>\n",
       "      <th>32</th>\n",
       "      <td>66104608</td>\n",
       "      <td>rewarded</td>\n",
       "      <td>3271.61550</td>\n",
       "      <td>1239.99850</td>\n",
       "    </tr>\n",
       "  </tbody>\n",
       "</table>\n",
       "</div>"
      ],
      "text/plain": [
       "    tone_time_stamp tone_category  tone_clock_time_comp  \\\n",
       "0           1872697          loss              60.01995   \n",
       "1           3472694          loss             140.01980   \n",
       "2           5272689          loss             230.01955   \n",
       "3           6872686          loss             310.01940   \n",
       "4           8372686          loss             385.01940   \n",
       "5          10372684          loss             485.01930   \n",
       "6          12272681          loss             580.01915   \n",
       "7          14072678          loss             670.01900   \n",
       "8          15672676          loss             750.01890   \n",
       "9          17472673          loss             840.01875   \n",
       "10         19472667          loss             940.01845   \n",
       "11         21272667          loss            1030.01845   \n",
       "12         23672664          loss            1150.01830   \n",
       "13         25472661          loss            1240.01815   \n",
       "14         27172659          loss            1325.01805   \n",
       "15         28972656          loss            1415.01790   \n",
       "16         30872654          loss            1510.01780   \n",
       "17         33272648          loss            1630.01750   \n",
       "18         34872648           win            1710.01750   \n",
       "19         42504638      rewarded            2091.61700   \n",
       "20         44104636      rewarded            2171.61690   \n",
       "21         45904633      rewarded            2261.61675   \n",
       "22         47504632      omission            2341.61670   \n",
       "23         49004630      rewarded            2416.61660   \n",
       "24         51004627      rewarded            2516.61645   \n",
       "25         52904625      rewarded            2611.61635   \n",
       "26         54704622      rewarded            2701.61620   \n",
       "27         56304620      omission            2781.61610   \n",
       "28         58104616      rewarded            2871.61590   \n",
       "29         60104616      rewarded            2971.61590   \n",
       "30         61904614      omission            3061.61580   \n",
       "31         64304611      rewarded            3181.61565   \n",
       "32         66104608      rewarded            3271.61550   \n",
       "\n",
       "    tone_clock_time_omission  \n",
       "0                -1971.59705  \n",
       "1                -1891.59720  \n",
       "2                -1801.59745  \n",
       "3                -1721.59760  \n",
       "4                -1646.59760  \n",
       "5                -1546.59770  \n",
       "6                -1451.59785  \n",
       "7                -1361.59800  \n",
       "8                -1281.59810  \n",
       "9                -1191.59825  \n",
       "10               -1091.59855  \n",
       "11               -1001.59855  \n",
       "12                -881.59870  \n",
       "13                -791.59885  \n",
       "14                -706.59895  \n",
       "15                -616.59910  \n",
       "16                -521.59920  \n",
       "17                -401.59950  \n",
       "18                -321.59950  \n",
       "19                  60.00000  \n",
       "20                 139.99990  \n",
       "21                 229.99975  \n",
       "22                 309.99970  \n",
       "23                 384.99960  \n",
       "24                 484.99945  \n",
       "25                 579.99935  \n",
       "26                 669.99920  \n",
       "27                 749.99910  \n",
       "28                 839.99890  \n",
       "29                 939.99890  \n",
       "30                1029.99880  \n",
       "31                1149.99865  \n",
       "32                1239.99850  "
      ]
     },
     "execution_count": 16,
     "metadata": {},
     "output_type": "execute_result"
    }
   ],
   "source": [
    "tone_time_stamps_df"
   ]
  },
  {
   "cell_type": "markdown",
   "id": "83748a43",
   "metadata": {},
   "source": [
    "# Reading in Phy"
   ]
  },
  {
   "cell_type": "markdown",
   "id": "c232c0a1",
   "metadata": {},
   "source": [
    "- Which unit the spike came from"
   ]
  },
  {
   "cell_type": "code",
   "execution_count": 17,
   "id": "56a4f6d6",
   "metadata": {},
   "outputs": [],
   "source": [
    "spike_clusters_path = glob.glob(\"./proc/**/phy/spike_clusters.npy\", recursive=True)[0]"
   ]
  },
  {
   "cell_type": "code",
   "execution_count": 18,
   "id": "aacbb9d7",
   "metadata": {},
   "outputs": [
    {
     "data": {
      "text/plain": [
       "'.'"
      ]
     },
     "execution_count": 18,
     "metadata": {},
     "output_type": "execute_result"
    }
   ],
   "source": [
    "spike_clusters_path[0]"
   ]
  },
  {
   "cell_type": "code",
   "execution_count": 19,
   "id": "bb561ed6",
   "metadata": {},
   "outputs": [],
   "source": [
    "spike_clusters = np.load(spike_clusters_path)"
   ]
  },
  {
   "cell_type": "code",
   "execution_count": 20,
   "id": "5989cef7",
   "metadata": {},
   "outputs": [
    {
     "data": {
      "text/plain": [
       "array([149, 203,  71, 131,  18, 190, 199,  93,  40, 129], dtype=int32)"
      ]
     },
     "execution_count": 20,
     "metadata": {},
     "output_type": "execute_result"
    }
   ],
   "source": [
    "spike_clusters[:10]"
   ]
  },
  {
   "cell_type": "markdown",
   "id": "c6570be1",
   "metadata": {},
   "source": [
    "- The classification of each unit"
   ]
  },
  {
   "cell_type": "code",
   "execution_count": 21,
   "id": "dcfe4435",
   "metadata": {},
   "outputs": [],
   "source": [
    "cluster_info_path = glob.glob(\"./proc/**/phy/cluster_info.tsv\", recursive=True)[0]"
   ]
  },
  {
   "cell_type": "code",
   "execution_count": 22,
   "id": "8406e0f4",
   "metadata": {},
   "outputs": [],
   "source": [
    "cluster_group_df = pd.read_csv(cluster_info_path, sep=\"\\t\")"
   ]
  },
  {
   "cell_type": "code",
   "execution_count": 23,
   "id": "c0ccd932",
   "metadata": {},
   "outputs": [
    {
     "data": {
      "text/html": [
       "<div>\n",
       "<style scoped>\n",
       "    .dataframe tbody tr th:only-of-type {\n",
       "        vertical-align: middle;\n",
       "    }\n",
       "\n",
       "    .dataframe tbody tr th {\n",
       "        vertical-align: top;\n",
       "    }\n",
       "\n",
       "    .dataframe thead th {\n",
       "        text-align: right;\n",
       "    }\n",
       "</style>\n",
       "<table border=\"1\" class=\"dataframe\">\n",
       "  <thead>\n",
       "    <tr style=\"text-align: right;\">\n",
       "      <th></th>\n",
       "      <th>cluster_id</th>\n",
       "      <th>amp</th>\n",
       "      <th>ch</th>\n",
       "      <th>channel_group</th>\n",
       "      <th>depth</th>\n",
       "      <th>fr</th>\n",
       "      <th>group</th>\n",
       "      <th>n_spikes</th>\n",
       "      <th>sh</th>\n",
       "      <th>si_unit_id</th>\n",
       "    </tr>\n",
       "  </thead>\n",
       "  <tbody>\n",
       "    <tr>\n",
       "      <th>0</th>\n",
       "      <td>1</td>\n",
       "      <td>3745.0</td>\n",
       "      <td>22</td>\n",
       "      <td>0</td>\n",
       "      <td>440.0</td>\n",
       "      <td>0.024891</td>\n",
       "      <td>noise</td>\n",
       "      <td>83</td>\n",
       "      <td>0</td>\n",
       "      <td>2</td>\n",
       "    </tr>\n",
       "    <tr>\n",
       "      <th>1</th>\n",
       "      <td>2</td>\n",
       "      <td>10654.0</td>\n",
       "      <td>26</td>\n",
       "      <td>0</td>\n",
       "      <td>520.0</td>\n",
       "      <td>0.203625</td>\n",
       "      <td>noise</td>\n",
       "      <td>679</td>\n",
       "      <td>0</td>\n",
       "      <td>3</td>\n",
       "    </tr>\n",
       "    <tr>\n",
       "      <th>2</th>\n",
       "      <td>3</td>\n",
       "      <td>10264.0</td>\n",
       "      <td>26</td>\n",
       "      <td>0</td>\n",
       "      <td>520.0</td>\n",
       "      <td>0.153243</td>\n",
       "      <td>noise</td>\n",
       "      <td>511</td>\n",
       "      <td>0</td>\n",
       "      <td>4</td>\n",
       "    </tr>\n",
       "    <tr>\n",
       "      <th>3</th>\n",
       "      <td>4</td>\n",
       "      <td>479.0</td>\n",
       "      <td>0</td>\n",
       "      <td>0</td>\n",
       "      <td>0.0</td>\n",
       "      <td>0.634566</td>\n",
       "      <td>noise</td>\n",
       "      <td>2116</td>\n",
       "      <td>0</td>\n",
       "      <td>5</td>\n",
       "    </tr>\n",
       "    <tr>\n",
       "      <th>4</th>\n",
       "      <td>5</td>\n",
       "      <td>9285.5</td>\n",
       "      <td>26</td>\n",
       "      <td>0</td>\n",
       "      <td>520.0</td>\n",
       "      <td>0.357468</td>\n",
       "      <td>noise</td>\n",
       "      <td>1192</td>\n",
       "      <td>0</td>\n",
       "      <td>6</td>\n",
       "    </tr>\n",
       "    <tr>\n",
       "      <th>...</th>\n",
       "      <td>...</td>\n",
       "      <td>...</td>\n",
       "      <td>...</td>\n",
       "      <td>...</td>\n",
       "      <td>...</td>\n",
       "      <td>...</td>\n",
       "      <td>...</td>\n",
       "      <td>...</td>\n",
       "      <td>...</td>\n",
       "      <td>...</td>\n",
       "    </tr>\n",
       "    <tr>\n",
       "      <th>182</th>\n",
       "      <td>233</td>\n",
       "      <td>275.0</td>\n",
       "      <td>2</td>\n",
       "      <td>0</td>\n",
       "      <td>40.0</td>\n",
       "      <td>0.204225</td>\n",
       "      <td>noise</td>\n",
       "      <td>681</td>\n",
       "      <td>0</td>\n",
       "      <td>18</td>\n",
       "    </tr>\n",
       "    <tr>\n",
       "      <th>183</th>\n",
       "      <td>240</td>\n",
       "      <td>265.0</td>\n",
       "      <td>6</td>\n",
       "      <td>0</td>\n",
       "      <td>120.0</td>\n",
       "      <td>0.425243</td>\n",
       "      <td>mua</td>\n",
       "      <td>1418</td>\n",
       "      <td>0</td>\n",
       "      <td>39</td>\n",
       "    </tr>\n",
       "    <tr>\n",
       "      <th>184</th>\n",
       "      <td>241</td>\n",
       "      <td>265.0</td>\n",
       "      <td>6</td>\n",
       "      <td>0</td>\n",
       "      <td>120.0</td>\n",
       "      <td>0.062377</td>\n",
       "      <td>noise</td>\n",
       "      <td>208</td>\n",
       "      <td>0</td>\n",
       "      <td>39</td>\n",
       "    </tr>\n",
       "    <tr>\n",
       "      <th>185</th>\n",
       "      <td>242</td>\n",
       "      <td>236.0</td>\n",
       "      <td>19</td>\n",
       "      <td>0</td>\n",
       "      <td>380.0</td>\n",
       "      <td>0.962345</td>\n",
       "      <td>mua</td>\n",
       "      <td>3209</td>\n",
       "      <td>0</td>\n",
       "      <td>96</td>\n",
       "    </tr>\n",
       "    <tr>\n",
       "      <th>186</th>\n",
       "      <td>243</td>\n",
       "      <td>236.0</td>\n",
       "      <td>19</td>\n",
       "      <td>0</td>\n",
       "      <td>380.0</td>\n",
       "      <td>0.422244</td>\n",
       "      <td>noise</td>\n",
       "      <td>1408</td>\n",
       "      <td>0</td>\n",
       "      <td>96</td>\n",
       "    </tr>\n",
       "  </tbody>\n",
       "</table>\n",
       "<p>187 rows × 10 columns</p>\n",
       "</div>"
      ],
      "text/plain": [
       "     cluster_id      amp  ch  channel_group  depth        fr  group  n_spikes  \\\n",
       "0             1   3745.0  22              0  440.0  0.024891  noise        83   \n",
       "1             2  10654.0  26              0  520.0  0.203625  noise       679   \n",
       "2             3  10264.0  26              0  520.0  0.153243  noise       511   \n",
       "3             4    479.0   0              0    0.0  0.634566  noise      2116   \n",
       "4             5   9285.5  26              0  520.0  0.357468  noise      1192   \n",
       "..          ...      ...  ..            ...    ...       ...    ...       ...   \n",
       "182         233    275.0   2              0   40.0  0.204225  noise       681   \n",
       "183         240    265.0   6              0  120.0  0.425243    mua      1418   \n",
       "184         241    265.0   6              0  120.0  0.062377  noise       208   \n",
       "185         242    236.0  19              0  380.0  0.962345    mua      3209   \n",
       "186         243    236.0  19              0  380.0  0.422244  noise      1408   \n",
       "\n",
       "     sh  si_unit_id  \n",
       "0     0           2  \n",
       "1     0           3  \n",
       "2     0           4  \n",
       "3     0           5  \n",
       "4     0           6  \n",
       "..   ..         ...  \n",
       "182   0          18  \n",
       "183   0          39  \n",
       "184   0          39  \n",
       "185   0          96  \n",
       "186   0          96  \n",
       "\n",
       "[187 rows x 10 columns]"
      ]
     },
     "execution_count": 23,
     "metadata": {},
     "output_type": "execute_result"
    }
   ],
   "source": [
    "cluster_group_df"
   ]
  },
  {
   "cell_type": "markdown",
   "id": "996eab81",
   "metadata": {},
   "source": [
    "- Filtering for the good units"
   ]
  },
  {
   "cell_type": "code",
   "execution_count": 24,
   "id": "8e4cf4f9",
   "metadata": {},
   "outputs": [],
   "source": [
    "good_unit_cluster_info_df = cluster_group_df[cluster_group_df[\"group\"] == \"good\"]"
   ]
  },
  {
   "cell_type": "code",
   "execution_count": 25,
   "id": "0b025678",
   "metadata": {},
   "outputs": [
    {
     "data": {
      "text/html": [
       "<div>\n",
       "<style scoped>\n",
       "    .dataframe tbody tr th:only-of-type {\n",
       "        vertical-align: middle;\n",
       "    }\n",
       "\n",
       "    .dataframe tbody tr th {\n",
       "        vertical-align: top;\n",
       "    }\n",
       "\n",
       "    .dataframe thead th {\n",
       "        text-align: right;\n",
       "    }\n",
       "</style>\n",
       "<table border=\"1\" class=\"dataframe\">\n",
       "  <thead>\n",
       "    <tr style=\"text-align: right;\">\n",
       "      <th></th>\n",
       "      <th>cluster_id</th>\n",
       "      <th>amp</th>\n",
       "      <th>ch</th>\n",
       "      <th>channel_group</th>\n",
       "      <th>depth</th>\n",
       "      <th>fr</th>\n",
       "      <th>group</th>\n",
       "      <th>n_spikes</th>\n",
       "      <th>sh</th>\n",
       "      <th>si_unit_id</th>\n",
       "    </tr>\n",
       "  </thead>\n",
       "  <tbody>\n",
       "    <tr>\n",
       "      <th>14</th>\n",
       "      <td>19</td>\n",
       "      <td>1037.5</td>\n",
       "      <td>3</td>\n",
       "      <td>0</td>\n",
       "      <td>60.0</td>\n",
       "      <td>2.832455</td>\n",
       "      <td>good</td>\n",
       "      <td>9445</td>\n",
       "      <td>0</td>\n",
       "      <td>20</td>\n",
       "    </tr>\n",
       "    <tr>\n",
       "      <th>22</th>\n",
       "      <td>29</td>\n",
       "      <td>317.0</td>\n",
       "      <td>4</td>\n",
       "      <td>0</td>\n",
       "      <td>80.0</td>\n",
       "      <td>0.771315</td>\n",
       "      <td>good</td>\n",
       "      <td>2572</td>\n",
       "      <td>0</td>\n",
       "      <td>30</td>\n",
       "    </tr>\n",
       "    <tr>\n",
       "      <th>23</th>\n",
       "      <td>30</td>\n",
       "      <td>413.0</td>\n",
       "      <td>4</td>\n",
       "      <td>0</td>\n",
       "      <td>80.0</td>\n",
       "      <td>1.873708</td>\n",
       "      <td>good</td>\n",
       "      <td>6248</td>\n",
       "      <td>0</td>\n",
       "      <td>31</td>\n",
       "    </tr>\n",
       "    <tr>\n",
       "      <th>31</th>\n",
       "      <td>39</td>\n",
       "      <td>490.0</td>\n",
       "      <td>7</td>\n",
       "      <td>0</td>\n",
       "      <td>140.0</td>\n",
       "      <td>1.288924</td>\n",
       "      <td>good</td>\n",
       "      <td>4298</td>\n",
       "      <td>0</td>\n",
       "      <td>40</td>\n",
       "    </tr>\n",
       "    <tr>\n",
       "      <th>44</th>\n",
       "      <td>55</td>\n",
       "      <td>426.0</td>\n",
       "      <td>11</td>\n",
       "      <td>0</td>\n",
       "      <td>220.0</td>\n",
       "      <td>21.727580</td>\n",
       "      <td>good</td>\n",
       "      <td>72452</td>\n",
       "      <td>0</td>\n",
       "      <td>56</td>\n",
       "    </tr>\n",
       "    <tr>\n",
       "      <th>69</th>\n",
       "      <td>84</td>\n",
       "      <td>576.0</td>\n",
       "      <td>17</td>\n",
       "      <td>0</td>\n",
       "      <td>340.0</td>\n",
       "      <td>12.703911</td>\n",
       "      <td>good</td>\n",
       "      <td>42362</td>\n",
       "      <td>0</td>\n",
       "      <td>85</td>\n",
       "    </tr>\n",
       "    <tr>\n",
       "      <th>153</th>\n",
       "      <td>192</td>\n",
       "      <td>210.0</td>\n",
       "      <td>20</td>\n",
       "      <td>0</td>\n",
       "      <td>400.0</td>\n",
       "      <td>0.671452</td>\n",
       "      <td>good</td>\n",
       "      <td>2239</td>\n",
       "      <td>0</td>\n",
       "      <td>23</td>\n",
       "    </tr>\n",
       "    <tr>\n",
       "      <th>179</th>\n",
       "      <td>230</td>\n",
       "      <td>271.0</td>\n",
       "      <td>1</td>\n",
       "      <td>0</td>\n",
       "      <td>20.0</td>\n",
       "      <td>0.789609</td>\n",
       "      <td>good</td>\n",
       "      <td>2633</td>\n",
       "      <td>0</td>\n",
       "      <td>11</td>\n",
       "    </tr>\n",
       "  </tbody>\n",
       "</table>\n",
       "</div>"
      ],
      "text/plain": [
       "     cluster_id     amp  ch  channel_group  depth         fr group  n_spikes  \\\n",
       "14           19  1037.5   3              0   60.0   2.832455  good      9445   \n",
       "22           29   317.0   4              0   80.0   0.771315  good      2572   \n",
       "23           30   413.0   4              0   80.0   1.873708  good      6248   \n",
       "31           39   490.0   7              0  140.0   1.288924  good      4298   \n",
       "44           55   426.0  11              0  220.0  21.727580  good     72452   \n",
       "69           84   576.0  17              0  340.0  12.703911  good     42362   \n",
       "153         192   210.0  20              0  400.0   0.671452  good      2239   \n",
       "179         230   271.0   1              0   20.0   0.789609  good      2633   \n",
       "\n",
       "     sh  si_unit_id  \n",
       "14    0          20  \n",
       "22    0          30  \n",
       "23    0          31  \n",
       "31    0          40  \n",
       "44    0          56  \n",
       "69    0          85  \n",
       "153   0          23  \n",
       "179   0          11  "
      ]
     },
     "execution_count": 25,
     "metadata": {},
     "output_type": "execute_result"
    }
   ],
   "source": [
    "good_unit_cluster_info_df"
   ]
  },
  {
   "cell_type": "code",
   "execution_count": 26,
   "id": "34f115c5",
   "metadata": {},
   "outputs": [],
   "source": [
    "good_unit_unique_ids = good_unit_cluster_info_df[\"cluster_id\"].values"
   ]
  },
  {
   "cell_type": "code",
   "execution_count": 27,
   "id": "689f0a11",
   "metadata": {},
   "outputs": [
    {
     "data": {
      "text/plain": [
       "array([ 19,  29,  30,  39,  55,  84, 192, 230])"
      ]
     },
     "execution_count": 27,
     "metadata": {},
     "output_type": "execute_result"
    }
   ],
   "source": [
    "good_unit_unique_ids"
   ]
  },
  {
   "cell_type": "markdown",
   "id": "8df40705",
   "metadata": {},
   "source": [
    "- The times that all the spikes happened"
   ]
  },
  {
   "cell_type": "code",
   "execution_count": 28,
   "id": "da137975",
   "metadata": {},
   "outputs": [],
   "source": [
    "spike_time_path = glob.glob(\"./proc/**/phy/spike_times.npy\", recursive=True)[0]"
   ]
  },
  {
   "cell_type": "code",
   "execution_count": 29,
   "id": "dce0df0b",
   "metadata": {},
   "outputs": [],
   "source": [
    "spike_times = np.load(spike_time_path)"
   ]
  },
  {
   "cell_type": "code",
   "execution_count": 30,
   "id": "f75b9c7b",
   "metadata": {
    "scrolled": true
   },
   "outputs": [
    {
     "data": {
      "text/plain": [
       "array([[  0],\n",
       "       [129],\n",
       "       [192],\n",
       "       [281],\n",
       "       [323],\n",
       "       [383],\n",
       "       [497],\n",
       "       [546],\n",
       "       [578],\n",
       "       [613]])"
      ]
     },
     "execution_count": 30,
     "metadata": {},
     "output_type": "execute_result"
    }
   ],
   "source": [
    "spike_times[:10]"
   ]
  },
  {
   "cell_type": "markdown",
   "id": "64f332f2",
   "metadata": {},
   "source": [
    "- Getting a list of the IDs that were good from the list of unit ids for all the firings"
   ]
  },
  {
   "cell_type": "code",
   "execution_count": 31,
   "id": "587f7955",
   "metadata": {},
   "outputs": [],
   "source": [
    "good_unit_mask = np.isin(spike_clusters, good_unit_unique_ids)"
   ]
  },
  {
   "cell_type": "code",
   "execution_count": 32,
   "id": "aed7d410",
   "metadata": {},
   "outputs": [],
   "source": [
    "good_unit_all_ids = spike_clusters[good_unit_mask]"
   ]
  },
  {
   "cell_type": "code",
   "execution_count": 33,
   "id": "d5bd0606",
   "metadata": {},
   "outputs": [
    {
     "data": {
      "text/plain": [
       "(142249,)"
      ]
     },
     "execution_count": 33,
     "metadata": {},
     "output_type": "execute_result"
    }
   ],
   "source": [
    "good_unit_all_ids.shape"
   ]
  },
  {
   "cell_type": "code",
   "execution_count": 34,
   "id": "cdea972c",
   "metadata": {},
   "outputs": [
    {
     "data": {
      "text/plain": [
       "array([19, 84, 19, 55, 84, 84, 84, 39, 30, 55], dtype=int32)"
      ]
     },
     "execution_count": 34,
     "metadata": {},
     "output_type": "execute_result"
    }
   ],
   "source": [
    "good_unit_all_ids[:10]"
   ]
  },
  {
   "cell_type": "markdown",
   "id": "3d2d10a7",
   "metadata": {},
   "source": [
    "- Getting the time that the good units fired"
   ]
  },
  {
   "cell_type": "code",
   "execution_count": 35,
   "id": "8646f320",
   "metadata": {},
   "outputs": [],
   "source": [
    "good_unit_times = spike_times[good_unit_mask].T[0]"
   ]
  },
  {
   "cell_type": "code",
   "execution_count": 36,
   "id": "9fa8a305",
   "metadata": {},
   "outputs": [
    {
     "data": {
      "text/plain": [
       "(142249,)"
      ]
     },
     "execution_count": 36,
     "metadata": {},
     "output_type": "execute_result"
    }
   ],
   "source": [
    "good_unit_times.shape"
   ]
  },
  {
   "cell_type": "code",
   "execution_count": 37,
   "id": "495079b1",
   "metadata": {},
   "outputs": [
    {
     "data": {
      "text/plain": [
       "array([ 998, 1414, 2174, 2354, 3739, 4077, 6410, 6451, 6519, 6674])"
      ]
     },
     "execution_count": 37,
     "metadata": {},
     "output_type": "execute_result"
    }
   ],
   "source": [
    "good_unit_times[:10]"
   ]
  },
  {
   "cell_type": "code",
   "execution_count": 38,
   "id": "e37c27cb",
   "metadata": {},
   "outputs": [
    {
     "data": {
      "text/plain": [
       "array([66687504, 66687892, 66687977, 66688663, 66689579, 66689673,\n",
       "       66690010, 66690357, 66690582, 66691111])"
      ]
     },
     "execution_count": 38,
     "metadata": {},
     "output_type": "execute_result"
    }
   ],
   "source": [
    "good_unit_times[-10:]"
   ]
  },
  {
   "cell_type": "markdown",
   "id": "d08cf31b",
   "metadata": {},
   "source": [
    "- spike_times are indexed based on the start of the recording, not the start of the streaming\n",
    "    - Last spike ends right before the end of the recording time"
   ]
  },
  {
   "cell_type": "code",
   "execution_count": 39,
   "id": "7f79db6a",
   "metadata": {
    "scrolled": true
   },
   "outputs": [
    {
     "data": {
      "text/plain": [
       "array([[       0],\n",
       "       [     129],\n",
       "       [     192],\n",
       "       ...,\n",
       "       [66690881],\n",
       "       [66691111],\n",
       "       [66691158]])"
      ]
     },
     "execution_count": 39,
     "metadata": {},
     "output_type": "execute_result"
    }
   ],
   "source": [
    "spike_times"
   ]
  },
  {
   "cell_type": "code",
   "execution_count": 40,
   "id": "2af8edc0",
   "metadata": {},
   "outputs": [
    {
     "data": {
      "text/plain": [
       "array([3334.5579])"
      ]
     },
     "execution_count": 40,
     "metadata": {},
     "output_type": "execute_result"
    }
   ],
   "source": [
    "spike_times[-1]/20000"
   ]
  },
  {
   "cell_type": "markdown",
   "id": "d645201f",
   "metadata": {},
   "source": [
    "## Syncing the unit times with the ECU times"
   ]
  },
  {
   "cell_type": "code",
   "execution_count": 41,
   "id": "f1c358b1",
   "metadata": {},
   "outputs": [],
   "source": [
    "tone_time_stamps = tone_time_stamps_df[\"tone_time_stamp\"].values"
   ]
  },
  {
   "cell_type": "code",
   "execution_count": 42,
   "id": "66f3de46",
   "metadata": {},
   "outputs": [
    {
     "data": {
      "text/plain": [
       "array([ 1872697,  3472694,  5272689,  6872686,  8372686, 10372684,\n",
       "       12272681, 14072678, 15672676, 17472673, 19472667, 21272667,\n",
       "       23672664, 25472661, 27172659, 28972656, 30872654, 33272648,\n",
       "       34872648, 42504638, 44104636, 45904633, 47504632, 49004630,\n",
       "       51004627, 52904625, 54704622, 56304620, 58104616, 60104616,\n",
       "       61904614, 64304611, 66104608])"
      ]
     },
     "execution_count": 42,
     "metadata": {},
     "output_type": "execute_result"
    }
   ],
   "source": [
    "tone_time_stamps"
   ]
  },
  {
   "cell_type": "markdown",
   "id": "2eb290cf",
   "metadata": {},
   "source": [
    "## Seeing which tone time each unit time is closest to"
   ]
  },
  {
   "cell_type": "markdown",
   "id": "80d38dd8",
   "metadata": {},
   "source": [
    "- We will divide all the time up into bins of before and after each tone. Then we will see which time bin the neuron firing falls into.\n",
    "    - So everything in the 0 bin would be before the first time bin. The 1 bin would be everything in between the first and second time bin. The last would be everything after last time bin."
   ]
  },
  {
   "cell_type": "code",
   "execution_count": 43,
   "id": "2717af55",
   "metadata": {},
   "outputs": [],
   "source": [
    "good_unit_bins = np.digitize(good_unit_times, tone_time_stamps_df[\"tone_time_stamp\"], right=True)"
   ]
  },
  {
   "cell_type": "code",
   "execution_count": 44,
   "id": "dd4989ae",
   "metadata": {},
   "outputs": [
    {
     "data": {
      "text/plain": [
       "(142249,)"
      ]
     },
     "execution_count": 44,
     "metadata": {},
     "output_type": "execute_result"
    }
   ],
   "source": [
    "good_unit_bins.shape"
   ]
  },
  {
   "cell_type": "code",
   "execution_count": 45,
   "id": "47c0cddc",
   "metadata": {},
   "outputs": [
    {
     "data": {
      "text/plain": [
       "array([0, 0, 0, 0, 0, 0, 0, 0, 0, 0])"
      ]
     },
     "execution_count": 45,
     "metadata": {},
     "output_type": "execute_result"
    }
   ],
   "source": [
    "good_unit_bins[:10]"
   ]
  },
  {
   "cell_type": "code",
   "execution_count": 46,
   "id": "b9988522",
   "metadata": {},
   "outputs": [
    {
     "data": {
      "text/plain": [
       "array([33, 33, 33, 33, 33, 33, 33, 33, 33, 33])"
      ]
     },
     "execution_count": 46,
     "metadata": {},
     "output_type": "execute_result"
    }
   ],
   "source": [
    "good_unit_bins[-10:]"
   ]
  },
  {
   "cell_type": "markdown",
   "id": "92696852",
   "metadata": {},
   "source": [
    "- Seeing if the firing time is within a 10 second interval before or 10 second after any tone"
   ]
  },
  {
   "cell_type": "code",
   "execution_count": 47,
   "id": "ddf51d7a",
   "metadata": {},
   "outputs": [],
   "source": [
    "from collections import defaultdict"
   ]
  },
  {
   "cell_type": "code",
   "execution_count": 48,
   "id": "c465e5ee",
   "metadata": {},
   "outputs": [
    {
     "data": {
      "text/plain": [
       "(142249,)"
      ]
     },
     "execution_count": 48,
     "metadata": {},
     "output_type": "execute_result"
    }
   ],
   "source": [
    "good_unit_bins.shape"
   ]
  },
  {
   "cell_type": "code",
   "execution_count": 49,
   "id": "29d06824",
   "metadata": {},
   "outputs": [
    {
     "data": {
      "text/plain": [
       "(142249,)"
      ]
     },
     "execution_count": 49,
     "metadata": {},
     "output_type": "execute_result"
    }
   ],
   "source": [
    "good_unit_times.shape"
   ]
  },
  {
   "cell_type": "code",
   "execution_count": 50,
   "id": "4071ea96",
   "metadata": {},
   "outputs": [
    {
     "data": {
      "text/plain": [
       "(142249,)"
      ]
     },
     "execution_count": 50,
     "metadata": {},
     "output_type": "execute_result"
    }
   ],
   "source": [
    "good_unit_all_ids.shape"
   ]
  },
  {
   "cell_type": "code",
   "execution_count": 51,
   "id": "f3e859d4",
   "metadata": {},
   "outputs": [
    {
     "data": {
      "text/plain": [
       "array([ 998, 1414, 2174, 2354, 3739, 4077, 6410, 6451, 6519, 6674])"
      ]
     },
     "execution_count": 51,
     "metadata": {},
     "output_type": "execute_result"
    }
   ],
   "source": [
    "good_unit_times[:10]"
   ]
  },
  {
   "cell_type": "code",
   "execution_count": 52,
   "id": "3b73a6a8",
   "metadata": {},
   "outputs": [
    {
     "data": {
      "text/plain": [
       "array([ 1872697,  3472694,  5272689,  6872686,  8372686, 10372684,\n",
       "       12272681, 14072678, 15672676, 17472673, 19472667, 21272667,\n",
       "       23672664, 25472661, 27172659, 28972656, 30872654, 33272648,\n",
       "       34872648, 42504638, 44104636, 45904633, 47504632, 49004630,\n",
       "       51004627, 52904625, 54704622, 56304620, 58104616, 60104616,\n",
       "       61904614, 64304611, 66104608])"
      ]
     },
     "execution_count": 52,
     "metadata": {},
     "output_type": "execute_result"
    }
   ],
   "source": [
    "tone_time_stamps"
   ]
  },
  {
   "cell_type": "code",
   "execution_count": 53,
   "id": "09daaf97",
   "metadata": {},
   "outputs": [
    {
     "data": {
      "text/plain": [
       "33"
      ]
     },
     "execution_count": 53,
     "metadata": {},
     "output_type": "execute_result"
    }
   ],
   "source": [
    "len(tone_time_stamps)"
   ]
  },
  {
   "cell_type": "markdown",
   "id": "77e4d4de",
   "metadata": {},
   "source": [
    "# Comparing Firing Rate between Trial types"
   ]
  },
  {
   "cell_type": "code",
   "execution_count": 54,
   "id": "c5ef17a3",
   "metadata": {},
   "outputs": [
    {
     "data": {
      "text/html": [
       "<div>\n",
       "<style scoped>\n",
       "    .dataframe tbody tr th:only-of-type {\n",
       "        vertical-align: middle;\n",
       "    }\n",
       "\n",
       "    .dataframe tbody tr th {\n",
       "        vertical-align: top;\n",
       "    }\n",
       "\n",
       "    .dataframe thead th {\n",
       "        text-align: right;\n",
       "    }\n",
       "</style>\n",
       "<table border=\"1\" class=\"dataframe\">\n",
       "  <thead>\n",
       "    <tr style=\"text-align: right;\">\n",
       "      <th></th>\n",
       "      <th>tone_time_stamp</th>\n",
       "      <th>tone_category</th>\n",
       "      <th>tone_clock_time_comp</th>\n",
       "      <th>tone_clock_time_omission</th>\n",
       "    </tr>\n",
       "  </thead>\n",
       "  <tbody>\n",
       "    <tr>\n",
       "      <th>0</th>\n",
       "      <td>1872697</td>\n",
       "      <td>loss</td>\n",
       "      <td>60.01995</td>\n",
       "      <td>-1971.59705</td>\n",
       "    </tr>\n",
       "    <tr>\n",
       "      <th>1</th>\n",
       "      <td>3472694</td>\n",
       "      <td>loss</td>\n",
       "      <td>140.01980</td>\n",
       "      <td>-1891.59720</td>\n",
       "    </tr>\n",
       "    <tr>\n",
       "      <th>2</th>\n",
       "      <td>5272689</td>\n",
       "      <td>loss</td>\n",
       "      <td>230.01955</td>\n",
       "      <td>-1801.59745</td>\n",
       "    </tr>\n",
       "    <tr>\n",
       "      <th>3</th>\n",
       "      <td>6872686</td>\n",
       "      <td>loss</td>\n",
       "      <td>310.01940</td>\n",
       "      <td>-1721.59760</td>\n",
       "    </tr>\n",
       "    <tr>\n",
       "      <th>4</th>\n",
       "      <td>8372686</td>\n",
       "      <td>loss</td>\n",
       "      <td>385.01940</td>\n",
       "      <td>-1646.59760</td>\n",
       "    </tr>\n",
       "  </tbody>\n",
       "</table>\n",
       "</div>"
      ],
      "text/plain": [
       "   tone_time_stamp tone_category  tone_clock_time_comp  \\\n",
       "0          1872697          loss              60.01995   \n",
       "1          3472694          loss             140.01980   \n",
       "2          5272689          loss             230.01955   \n",
       "3          6872686          loss             310.01940   \n",
       "4          8372686          loss             385.01940   \n",
       "\n",
       "   tone_clock_time_omission  \n",
       "0               -1971.59705  \n",
       "1               -1891.59720  \n",
       "2               -1801.59745  \n",
       "3               -1721.59760  \n",
       "4               -1646.59760  "
      ]
     },
     "execution_count": 54,
     "metadata": {},
     "output_type": "execute_result"
    }
   ],
   "source": [
    "tone_time_stamps_df.head()"
   ]
  },
  {
   "cell_type": "code",
   "execution_count": 55,
   "id": "edff22d8",
   "metadata": {},
   "outputs": [
    {
     "data": {
      "text/plain": [
       "array([     998,     1414,     2174, ..., 66690357, 66690582, 66691111])"
      ]
     },
     "execution_count": 55,
     "metadata": {},
     "output_type": "execute_result"
    }
   ],
   "source": [
    "good_unit_times"
   ]
  },
  {
   "cell_type": "code",
   "execution_count": 56,
   "id": "e154b513",
   "metadata": {},
   "outputs": [
    {
     "data": {
      "text/plain": [
       "array([19, 84, 19, ..., 84, 55, 19], dtype=int32)"
      ]
     },
     "execution_count": 56,
     "metadata": {},
     "output_type": "execute_result"
    }
   ],
   "source": [
    "good_unit_all_ids"
   ]
  },
  {
   "cell_type": "code",
   "execution_count": 57,
   "id": "e9bb39bb",
   "metadata": {},
   "outputs": [
    {
     "data": {
      "text/plain": [
       "array([ 0,  0,  0, ..., 33, 33, 33])"
      ]
     },
     "execution_count": 57,
     "metadata": {},
     "output_type": "execute_result"
    }
   ],
   "source": [
    "good_unit_bins"
   ]
  },
  {
   "cell_type": "code",
   "execution_count": 58,
   "id": "63bacd85",
   "metadata": {},
   "outputs": [
    {
     "data": {
      "text/plain": [
       "array([ 1872697,  3472694,  5272689,  6872686,  8372686, 10372684,\n",
       "       12272681, 14072678, 15672676, 17472673, 19472667, 21272667,\n",
       "       23672664, 25472661, 27172659, 28972656, 30872654, 33272648,\n",
       "       34872648, 42504638, 44104636, 45904633, 47504632, 49004630,\n",
       "       51004627, 52904625, 54704622, 56304620, 58104616, 60104616,\n",
       "       61904614, 64304611, 66104608])"
      ]
     },
     "execution_count": 58,
     "metadata": {},
     "output_type": "execute_result"
    }
   ],
   "source": [
    "tone_time_stamps"
   ]
  },
  {
   "cell_type": "code",
   "execution_count": 59,
   "id": "32027c87",
   "metadata": {
    "scrolled": true
   },
   "outputs": [
    {
     "data": {
      "text/plain": [
       "'\\nStep 1: \\n- Get all the unit times that are 10 seconds before tone \\nand 10 seconds after the tone(separately)\\n\\nStep 2:\\n- Separate out for each trial\\n\\nStep 3: Calculate firing rate\\n'"
      ]
     },
     "execution_count": 59,
     "metadata": {},
     "output_type": "execute_result"
    }
   ],
   "source": [
    "\"\"\"\n",
    "Step 1: \n",
    "- Get all the unit times that are 10 seconds before tone \n",
    "and 10 seconds after the tone(separately)\n",
    "\n",
    "Step 2:\n",
    "- Separate out for each trial\n",
    "\n",
    "Step 3: Calculate firing rate\n",
    "\"\"\""
   ]
  },
  {
   "cell_type": "markdown",
   "id": "eec8af02",
   "metadata": {},
   "source": [
    "- Duration to include before and after tone"
   ]
  },
  {
   "cell_type": "code",
   "execution_count": 60,
   "id": "e1ebbe9e",
   "metadata": {},
   "outputs": [],
   "source": [
    "# time in seconds\n",
    "trial_one_way_duration = 10"
   ]
  },
  {
   "cell_type": "code",
   "execution_count": 61,
   "id": "7c4a2c21",
   "metadata": {},
   "outputs": [],
   "source": [
    "sampling_rate = 20000"
   ]
  },
  {
   "cell_type": "markdown",
   "id": "d5be8d12",
   "metadata": {},
   "source": [
    "- Getting the number of samples before and after to include for each tone"
   ]
  },
  {
   "cell_type": "code",
   "execution_count": 62,
   "id": "a4442a49",
   "metadata": {},
   "outputs": [],
   "source": [
    "per_trial_number_of_samples = trial_one_way_duration * sampling_rate"
   ]
  },
  {
   "cell_type": "code",
   "execution_count": 63,
   "id": "498ebc95",
   "metadata": {},
   "outputs": [
    {
     "data": {
      "text/plain": [
       "200000"
      ]
     },
     "execution_count": 63,
     "metadata": {},
     "output_type": "execute_result"
    }
   ],
   "source": [
    "per_trial_number_of_samples"
   ]
  },
  {
   "cell_type": "markdown",
   "id": "46a35a0b",
   "metadata": {},
   "source": [
    "- Getting all the tones that fired within before or after the number of samples"
   ]
  },
  {
   "cell_type": "code",
   "execution_count": 64,
   "id": "4fcefe25",
   "metadata": {},
   "outputs": [],
   "source": [
    "before_or_after_column = \"before_or_after\""
   ]
  },
  {
   "cell_type": "code",
   "execution_count": 65,
   "id": "ffef8b7b",
   "metadata": {},
   "outputs": [],
   "source": [
    "# iterating through the timestamp of each good unit spike\n",
    "\n",
    "before_and_after_interval_unit_times = defaultdict(dict)\n",
    "\n",
    "\n",
    "for index, time in enumerate(good_unit_times):\n",
    "    # getting the corresponding tone bin for the timestamp\n",
    "    current_bin = good_unit_bins[index]\n",
    "    current_neuron = good_unit_all_ids[index]   \n",
    "#     print(\"Current Bin: {}\".format(current_bin))\n",
    "    \n",
    "    # checking number before\n",
    "    first_tone_time = tone_time_stamps[(current_bin - 1) % len(tone_time_stamps)]\n",
    "    # checking number after\n",
    "    second_tone_time = tone_time_stamps[(current_bin) % len(tone_time_stamps)]    \n",
    "    \n",
    "#     print(\"Time: {}, First tone time: {} Second tone time: {}\".format(time, first_tone_time, second_tone_time))\n",
    "    \n",
    "    \n",
    "    # checking if time is before first number\n",
    "    if first_tone_time - per_trial_number_of_samples <= time <= first_tone_time:\n",
    "        before_and_after_interval_unit_times[time][\"tone_time\"] = first_tone_time\n",
    "        before_and_after_interval_unit_times[time][before_or_after_column] = \"before\"\n",
    "        before_and_after_interval_unit_times[time][\"neuron_id\"] = good_unit_all_ids[index]\n",
    "    # checking if time is after first number\n",
    "    elif first_tone_time < time <= first_tone_time + per_trial_number_of_samples:\n",
    "        before_and_after_interval_unit_times[time][\"tone_time\"] = first_tone_time\n",
    "        before_and_after_interval_unit_times[time][before_or_after_column] = \"after\"\n",
    "        before_and_after_interval_unit_times[time][\"neuron_id\"] = good_unit_all_ids[index]\n",
    "    \n",
    "    # checking if time is before second number\n",
    "    elif second_tone_time - per_trial_number_of_samples <= time <= second_tone_time:\n",
    "        before_and_after_interval_unit_times[time][\"tone_time\"] = second_tone_time\n",
    "        before_and_after_interval_unit_times[time][before_or_after_column] = \"before\"\n",
    "        before_and_after_interval_unit_times[time][\"neuron_id\"] = good_unit_all_ids[index]\n",
    "    # checking if time is after second number\n",
    "    elif second_tone_time < time <= second_tone_time + per_trial_number_of_samples:\n",
    "        before_and_after_interval_unit_times[time][\"tone_time\"] = second_tone_time\n",
    "        before_and_after_interval_unit_times[time][before_or_after_column] = \"after\"\n",
    "        before_and_after_interval_unit_times[time][\"neuron_id\"] = good_unit_all_ids[index]\n",
    "    else:\n",
    "        continue\n"
   ]
  },
  {
   "cell_type": "code",
   "execution_count": 66,
   "id": "2955b075",
   "metadata": {},
   "outputs": [
    {
     "data": {
      "text/plain": [
       "200000"
      ]
     },
     "execution_count": 66,
     "metadata": {},
     "output_type": "execute_result"
    }
   ],
   "source": [
    "per_trial_number_of_samples"
   ]
  },
  {
   "cell_type": "code",
   "execution_count": 67,
   "id": "676f9c1e",
   "metadata": {},
   "outputs": [],
   "source": [
    "before_and_after_interval_unit_df = pd.DataFrame.from_dict(before_and_after_interval_unit_times, orient=\"index\").reset_index()\n",
    "before_and_after_interval_unit_df = before_and_after_interval_unit_df.rename(columns={\"index\": \"spike_time\"})"
   ]
  },
  {
   "cell_type": "code",
   "execution_count": 68,
   "id": "171991f5",
   "metadata": {},
   "outputs": [
    {
     "data": {
      "text/html": [
       "<div>\n",
       "<style scoped>\n",
       "    .dataframe tbody tr th:only-of-type {\n",
       "        vertical-align: middle;\n",
       "    }\n",
       "\n",
       "    .dataframe tbody tr th {\n",
       "        vertical-align: top;\n",
       "    }\n",
       "\n",
       "    .dataframe thead th {\n",
       "        text-align: right;\n",
       "    }\n",
       "</style>\n",
       "<table border=\"1\" class=\"dataframe\">\n",
       "  <thead>\n",
       "    <tr style=\"text-align: right;\">\n",
       "      <th></th>\n",
       "      <th>spike_time</th>\n",
       "      <th>tone_time</th>\n",
       "      <th>before_or_after</th>\n",
       "      <th>neuron_id</th>\n",
       "    </tr>\n",
       "  </thead>\n",
       "  <tbody>\n",
       "    <tr>\n",
       "      <th>0</th>\n",
       "      <td>1672807</td>\n",
       "      <td>1872697</td>\n",
       "      <td>before</td>\n",
       "      <td>55</td>\n",
       "    </tr>\n",
       "    <tr>\n",
       "      <th>1</th>\n",
       "      <td>1672849</td>\n",
       "      <td>1872697</td>\n",
       "      <td>before</td>\n",
       "      <td>55</td>\n",
       "    </tr>\n",
       "    <tr>\n",
       "      <th>2</th>\n",
       "      <td>1673670</td>\n",
       "      <td>1872697</td>\n",
       "      <td>before</td>\n",
       "      <td>55</td>\n",
       "    </tr>\n",
       "    <tr>\n",
       "      <th>3</th>\n",
       "      <td>1674758</td>\n",
       "      <td>1872697</td>\n",
       "      <td>before</td>\n",
       "      <td>84</td>\n",
       "    </tr>\n",
       "    <tr>\n",
       "      <th>4</th>\n",
       "      <td>1674960</td>\n",
       "      <td>1872697</td>\n",
       "      <td>before</td>\n",
       "      <td>84</td>\n",
       "    </tr>\n",
       "  </tbody>\n",
       "</table>\n",
       "</div>"
      ],
      "text/plain": [
       "   spike_time  tone_time before_or_after  neuron_id\n",
       "0     1672807    1872697          before         55\n",
       "1     1672849    1872697          before         55\n",
       "2     1673670    1872697          before         55\n",
       "3     1674758    1872697          before         84\n",
       "4     1674960    1872697          before         84"
      ]
     },
     "execution_count": 68,
     "metadata": {},
     "output_type": "execute_result"
    }
   ],
   "source": [
    "before_and_after_interval_unit_df.head()"
   ]
  },
  {
   "cell_type": "markdown",
   "id": "594eaa6d",
   "metadata": {},
   "source": [
    "- Getting the count of each neuron that fired during the tone interval grouped by the neuron's ID"
   ]
  },
  {
   "cell_type": "code",
   "execution_count": 69,
   "id": "d57cb3d3",
   "metadata": {},
   "outputs": [],
   "source": [
    "before_and_after_tone_spike_count_df = before_and_after_interval_unit_df.groupby([\"tone_time\", before_or_after_column, \"neuron_id\"]).count().unstack(fill_value=0).stack().reset_index().rename(columns={\"spike_time\": \"fired_spike_count\"})"
   ]
  },
  {
   "cell_type": "code",
   "execution_count": 70,
   "id": "ed639436",
   "metadata": {},
   "outputs": [
    {
     "data": {
      "text/html": [
       "<div>\n",
       "<style scoped>\n",
       "    .dataframe tbody tr th:only-of-type {\n",
       "        vertical-align: middle;\n",
       "    }\n",
       "\n",
       "    .dataframe tbody tr th {\n",
       "        vertical-align: top;\n",
       "    }\n",
       "\n",
       "    .dataframe thead th {\n",
       "        text-align: right;\n",
       "    }\n",
       "</style>\n",
       "<table border=\"1\" class=\"dataframe\">\n",
       "  <thead>\n",
       "    <tr style=\"text-align: right;\">\n",
       "      <th></th>\n",
       "      <th>tone_time</th>\n",
       "      <th>before_or_after</th>\n",
       "      <th>neuron_id</th>\n",
       "      <th>fired_spike_count</th>\n",
       "    </tr>\n",
       "  </thead>\n",
       "  <tbody>\n",
       "    <tr>\n",
       "      <th>0</th>\n",
       "      <td>1872697</td>\n",
       "      <td>after</td>\n",
       "      <td>19</td>\n",
       "      <td>14</td>\n",
       "    </tr>\n",
       "    <tr>\n",
       "      <th>1</th>\n",
       "      <td>1872697</td>\n",
       "      <td>after</td>\n",
       "      <td>29</td>\n",
       "      <td>7</td>\n",
       "    </tr>\n",
       "    <tr>\n",
       "      <th>2</th>\n",
       "      <td>1872697</td>\n",
       "      <td>after</td>\n",
       "      <td>30</td>\n",
       "      <td>23</td>\n",
       "    </tr>\n",
       "    <tr>\n",
       "      <th>3</th>\n",
       "      <td>1872697</td>\n",
       "      <td>after</td>\n",
       "      <td>39</td>\n",
       "      <td>17</td>\n",
       "    </tr>\n",
       "    <tr>\n",
       "      <th>4</th>\n",
       "      <td>1872697</td>\n",
       "      <td>after</td>\n",
       "      <td>55</td>\n",
       "      <td>265</td>\n",
       "    </tr>\n",
       "    <tr>\n",
       "      <th>...</th>\n",
       "      <td>...</td>\n",
       "      <td>...</td>\n",
       "      <td>...</td>\n",
       "      <td>...</td>\n",
       "    </tr>\n",
       "    <tr>\n",
       "      <th>523</th>\n",
       "      <td>66104608</td>\n",
       "      <td>before</td>\n",
       "      <td>39</td>\n",
       "      <td>7</td>\n",
       "    </tr>\n",
       "    <tr>\n",
       "      <th>524</th>\n",
       "      <td>66104608</td>\n",
       "      <td>before</td>\n",
       "      <td>55</td>\n",
       "      <td>230</td>\n",
       "    </tr>\n",
       "    <tr>\n",
       "      <th>525</th>\n",
       "      <td>66104608</td>\n",
       "      <td>before</td>\n",
       "      <td>84</td>\n",
       "      <td>125</td>\n",
       "    </tr>\n",
       "    <tr>\n",
       "      <th>526</th>\n",
       "      <td>66104608</td>\n",
       "      <td>before</td>\n",
       "      <td>192</td>\n",
       "      <td>6</td>\n",
       "    </tr>\n",
       "    <tr>\n",
       "      <th>527</th>\n",
       "      <td>66104608</td>\n",
       "      <td>before</td>\n",
       "      <td>230</td>\n",
       "      <td>6</td>\n",
       "    </tr>\n",
       "  </tbody>\n",
       "</table>\n",
       "<p>528 rows × 4 columns</p>\n",
       "</div>"
      ],
      "text/plain": [
       "     tone_time before_or_after  neuron_id  fired_spike_count\n",
       "0      1872697           after         19                 14\n",
       "1      1872697           after         29                  7\n",
       "2      1872697           after         30                 23\n",
       "3      1872697           after         39                 17\n",
       "4      1872697           after         55                265\n",
       "..         ...             ...        ...                ...\n",
       "523   66104608          before         39                  7\n",
       "524   66104608          before         55                230\n",
       "525   66104608          before         84                125\n",
       "526   66104608          before        192                  6\n",
       "527   66104608          before        230                  6\n",
       "\n",
       "[528 rows x 4 columns]"
      ]
     },
     "execution_count": 70,
     "metadata": {},
     "output_type": "execute_result"
    }
   ],
   "source": [
    "before_and_after_tone_spike_count_df"
   ]
  },
  {
   "cell_type": "markdown",
   "id": "08f8ff41",
   "metadata": {},
   "source": [
    "- Separating out the before and after to get them in the same rows for the same neuron"
   ]
  },
  {
   "cell_type": "code",
   "execution_count": 71,
   "id": "7fc9a896",
   "metadata": {},
   "outputs": [],
   "source": [
    "before_tone_spike_count_df = before_and_after_tone_spike_count_df[before_and_after_tone_spike_count_df[before_or_after_column] == \"before\"].rename(columns={\"fired_spike_count\": \"before_fired_spike_count\"}).drop(columns=[before_or_after_column])\n",
    "after_tone_spike_count_df = before_and_after_tone_spike_count_df[before_and_after_tone_spike_count_df[before_or_after_column] == \"after\"].rename(columns={\"fired_spike_count\": \"after_fired_spike_count\"}).drop(columns=[before_or_after_column])"
   ]
  },
  {
   "cell_type": "code",
   "execution_count": 72,
   "id": "30868ddd",
   "metadata": {},
   "outputs": [
    {
     "data": {
      "text/html": [
       "<div>\n",
       "<style scoped>\n",
       "    .dataframe tbody tr th:only-of-type {\n",
       "        vertical-align: middle;\n",
       "    }\n",
       "\n",
       "    .dataframe tbody tr th {\n",
       "        vertical-align: top;\n",
       "    }\n",
       "\n",
       "    .dataframe thead th {\n",
       "        text-align: right;\n",
       "    }\n",
       "</style>\n",
       "<table border=\"1\" class=\"dataframe\">\n",
       "  <thead>\n",
       "    <tr style=\"text-align: right;\">\n",
       "      <th></th>\n",
       "      <th>tone_time</th>\n",
       "      <th>neuron_id</th>\n",
       "      <th>before_fired_spike_count</th>\n",
       "    </tr>\n",
       "  </thead>\n",
       "  <tbody>\n",
       "    <tr>\n",
       "      <th>8</th>\n",
       "      <td>1872697</td>\n",
       "      <td>19</td>\n",
       "      <td>4</td>\n",
       "    </tr>\n",
       "    <tr>\n",
       "      <th>9</th>\n",
       "      <td>1872697</td>\n",
       "      <td>29</td>\n",
       "      <td>5</td>\n",
       "    </tr>\n",
       "    <tr>\n",
       "      <th>10</th>\n",
       "      <td>1872697</td>\n",
       "      <td>30</td>\n",
       "      <td>26</td>\n",
       "    </tr>\n",
       "    <tr>\n",
       "      <th>11</th>\n",
       "      <td>1872697</td>\n",
       "      <td>39</td>\n",
       "      <td>13</td>\n",
       "    </tr>\n",
       "    <tr>\n",
       "      <th>12</th>\n",
       "      <td>1872697</td>\n",
       "      <td>55</td>\n",
       "      <td>240</td>\n",
       "    </tr>\n",
       "  </tbody>\n",
       "</table>\n",
       "</div>"
      ],
      "text/plain": [
       "    tone_time  neuron_id  before_fired_spike_count\n",
       "8     1872697         19                         4\n",
       "9     1872697         29                         5\n",
       "10    1872697         30                        26\n",
       "11    1872697         39                        13\n",
       "12    1872697         55                       240"
      ]
     },
     "execution_count": 72,
     "metadata": {},
     "output_type": "execute_result"
    }
   ],
   "source": [
    "before_tone_spike_count_df.head()"
   ]
  },
  {
   "cell_type": "code",
   "execution_count": 73,
   "id": "2c7d383f",
   "metadata": {},
   "outputs": [
    {
     "data": {
      "text/html": [
       "<div>\n",
       "<style scoped>\n",
       "    .dataframe tbody tr th:only-of-type {\n",
       "        vertical-align: middle;\n",
       "    }\n",
       "\n",
       "    .dataframe tbody tr th {\n",
       "        vertical-align: top;\n",
       "    }\n",
       "\n",
       "    .dataframe thead th {\n",
       "        text-align: right;\n",
       "    }\n",
       "</style>\n",
       "<table border=\"1\" class=\"dataframe\">\n",
       "  <thead>\n",
       "    <tr style=\"text-align: right;\">\n",
       "      <th></th>\n",
       "      <th>tone_time</th>\n",
       "      <th>neuron_id</th>\n",
       "      <th>after_fired_spike_count</th>\n",
       "    </tr>\n",
       "  </thead>\n",
       "  <tbody>\n",
       "    <tr>\n",
       "      <th>0</th>\n",
       "      <td>1872697</td>\n",
       "      <td>19</td>\n",
       "      <td>14</td>\n",
       "    </tr>\n",
       "    <tr>\n",
       "      <th>1</th>\n",
       "      <td>1872697</td>\n",
       "      <td>29</td>\n",
       "      <td>7</td>\n",
       "    </tr>\n",
       "    <tr>\n",
       "      <th>2</th>\n",
       "      <td>1872697</td>\n",
       "      <td>30</td>\n",
       "      <td>23</td>\n",
       "    </tr>\n",
       "    <tr>\n",
       "      <th>3</th>\n",
       "      <td>1872697</td>\n",
       "      <td>39</td>\n",
       "      <td>17</td>\n",
       "    </tr>\n",
       "    <tr>\n",
       "      <th>4</th>\n",
       "      <td>1872697</td>\n",
       "      <td>55</td>\n",
       "      <td>265</td>\n",
       "    </tr>\n",
       "  </tbody>\n",
       "</table>\n",
       "</div>"
      ],
      "text/plain": [
       "   tone_time  neuron_id  after_fired_spike_count\n",
       "0    1872697         19                       14\n",
       "1    1872697         29                        7\n",
       "2    1872697         30                       23\n",
       "3    1872697         39                       17\n",
       "4    1872697         55                      265"
      ]
     },
     "execution_count": 73,
     "metadata": {},
     "output_type": "execute_result"
    }
   ],
   "source": [
    "after_tone_spike_count_df.head()"
   ]
  },
  {
   "cell_type": "code",
   "execution_count": 74,
   "id": "56e87f75",
   "metadata": {},
   "outputs": [],
   "source": [
    "merged_before_after_tone_spike_count_df = pd.merge(left=before_tone_spike_count_df, right=after_tone_spike_count_df, left_on=[\"tone_time\", \"neuron_id\"], right_on=[\"tone_time\", \"neuron_id\"])"
   ]
  },
  {
   "cell_type": "markdown",
   "id": "7fbb2a9a",
   "metadata": {},
   "source": [
    "- Dictionary of tone time to trial type"
   ]
  },
  {
   "cell_type": "code",
   "execution_count": 75,
   "id": "7c899cdb",
   "metadata": {},
   "outputs": [],
   "source": [
    "tone_timestamp_to_trial_type = pd.Series(tone_time_stamps_df[\"tone_category\"].values, index=tone_time_stamps_df[\"tone_time_stamp\"]).to_dict()"
   ]
  },
  {
   "cell_type": "code",
   "execution_count": 76,
   "id": "7454245f",
   "metadata": {
    "scrolled": true
   },
   "outputs": [
    {
     "data": {
      "text/plain": [
       "{1872697: 'loss',\n",
       " 3472694: 'loss',\n",
       " 5272689: 'loss',\n",
       " 6872686: 'loss',\n",
       " 8372686: 'loss',\n",
       " 10372684: 'loss',\n",
       " 12272681: 'loss',\n",
       " 14072678: 'loss',\n",
       " 15672676: 'loss',\n",
       " 17472673: 'loss',\n",
       " 19472667: 'loss',\n",
       " 21272667: 'loss',\n",
       " 23672664: 'loss',\n",
       " 25472661: 'loss',\n",
       " 27172659: 'loss',\n",
       " 28972656: 'loss',\n",
       " 30872654: 'loss',\n",
       " 33272648: 'loss',\n",
       " 34872648: 'win',\n",
       " 42504638: 'rewarded',\n",
       " 44104636: 'rewarded',\n",
       " 45904633: 'rewarded',\n",
       " 47504632: 'omission',\n",
       " 49004630: 'rewarded',\n",
       " 51004627: 'rewarded',\n",
       " 52904625: 'rewarded',\n",
       " 54704622: 'rewarded',\n",
       " 56304620: 'omission',\n",
       " 58104616: 'rewarded',\n",
       " 60104616: 'rewarded',\n",
       " 61904614: 'omission',\n",
       " 64304611: 'rewarded',\n",
       " 66104608: 'rewarded'}"
      ]
     },
     "execution_count": 76,
     "metadata": {},
     "output_type": "execute_result"
    }
   ],
   "source": [
    "tone_timestamp_to_trial_type"
   ]
  },
  {
   "cell_type": "markdown",
   "id": "2404aed0",
   "metadata": {},
   "source": [
    "- Adding the trial type"
   ]
  },
  {
   "cell_type": "code",
   "execution_count": 77,
   "id": "3d962c1d",
   "metadata": {},
   "outputs": [],
   "source": [
    "merged_before_after_tone_spike_count_df[\"trial_type\"] = merged_before_after_tone_spike_count_df[\"tone_time\"].map(tone_timestamp_to_trial_type)"
   ]
  },
  {
   "cell_type": "code",
   "execution_count": 78,
   "id": "125f3c61",
   "metadata": {},
   "outputs": [
    {
     "data": {
      "text/html": [
       "<div>\n",
       "<style scoped>\n",
       "    .dataframe tbody tr th:only-of-type {\n",
       "        vertical-align: middle;\n",
       "    }\n",
       "\n",
       "    .dataframe tbody tr th {\n",
       "        vertical-align: top;\n",
       "    }\n",
       "\n",
       "    .dataframe thead th {\n",
       "        text-align: right;\n",
       "    }\n",
       "</style>\n",
       "<table border=\"1\" class=\"dataframe\">\n",
       "  <thead>\n",
       "    <tr style=\"text-align: right;\">\n",
       "      <th></th>\n",
       "      <th>tone_time</th>\n",
       "      <th>neuron_id</th>\n",
       "      <th>before_fired_spike_count</th>\n",
       "      <th>after_fired_spike_count</th>\n",
       "      <th>trial_type</th>\n",
       "    </tr>\n",
       "  </thead>\n",
       "  <tbody>\n",
       "    <tr>\n",
       "      <th>0</th>\n",
       "      <td>1872697</td>\n",
       "      <td>19</td>\n",
       "      <td>4</td>\n",
       "      <td>14</td>\n",
       "      <td>loss</td>\n",
       "    </tr>\n",
       "    <tr>\n",
       "      <th>1</th>\n",
       "      <td>1872697</td>\n",
       "      <td>29</td>\n",
       "      <td>5</td>\n",
       "      <td>7</td>\n",
       "      <td>loss</td>\n",
       "    </tr>\n",
       "    <tr>\n",
       "      <th>2</th>\n",
       "      <td>1872697</td>\n",
       "      <td>30</td>\n",
       "      <td>26</td>\n",
       "      <td>23</td>\n",
       "      <td>loss</td>\n",
       "    </tr>\n",
       "    <tr>\n",
       "      <th>3</th>\n",
       "      <td>1872697</td>\n",
       "      <td>39</td>\n",
       "      <td>13</td>\n",
       "      <td>17</td>\n",
       "      <td>loss</td>\n",
       "    </tr>\n",
       "    <tr>\n",
       "      <th>4</th>\n",
       "      <td>1872697</td>\n",
       "      <td>55</td>\n",
       "      <td>240</td>\n",
       "      <td>265</td>\n",
       "      <td>loss</td>\n",
       "    </tr>\n",
       "    <tr>\n",
       "      <th>...</th>\n",
       "      <td>...</td>\n",
       "      <td>...</td>\n",
       "      <td>...</td>\n",
       "      <td>...</td>\n",
       "      <td>...</td>\n",
       "    </tr>\n",
       "    <tr>\n",
       "      <th>259</th>\n",
       "      <td>66104608</td>\n",
       "      <td>39</td>\n",
       "      <td>7</td>\n",
       "      <td>6</td>\n",
       "      <td>rewarded</td>\n",
       "    </tr>\n",
       "    <tr>\n",
       "      <th>260</th>\n",
       "      <td>66104608</td>\n",
       "      <td>55</td>\n",
       "      <td>230</td>\n",
       "      <td>157</td>\n",
       "      <td>rewarded</td>\n",
       "    </tr>\n",
       "    <tr>\n",
       "      <th>261</th>\n",
       "      <td>66104608</td>\n",
       "      <td>84</td>\n",
       "      <td>125</td>\n",
       "      <td>134</td>\n",
       "      <td>rewarded</td>\n",
       "    </tr>\n",
       "    <tr>\n",
       "      <th>262</th>\n",
       "      <td>66104608</td>\n",
       "      <td>192</td>\n",
       "      <td>6</td>\n",
       "      <td>5</td>\n",
       "      <td>rewarded</td>\n",
       "    </tr>\n",
       "    <tr>\n",
       "      <th>263</th>\n",
       "      <td>66104608</td>\n",
       "      <td>230</td>\n",
       "      <td>6</td>\n",
       "      <td>6</td>\n",
       "      <td>rewarded</td>\n",
       "    </tr>\n",
       "  </tbody>\n",
       "</table>\n",
       "<p>264 rows × 5 columns</p>\n",
       "</div>"
      ],
      "text/plain": [
       "     tone_time  neuron_id  before_fired_spike_count  after_fired_spike_count  \\\n",
       "0      1872697         19                         4                       14   \n",
       "1      1872697         29                         5                        7   \n",
       "2      1872697         30                        26                       23   \n",
       "3      1872697         39                        13                       17   \n",
       "4      1872697         55                       240                      265   \n",
       "..         ...        ...                       ...                      ...   \n",
       "259   66104608         39                         7                        6   \n",
       "260   66104608         55                       230                      157   \n",
       "261   66104608         84                       125                      134   \n",
       "262   66104608        192                         6                        5   \n",
       "263   66104608        230                         6                        6   \n",
       "\n",
       "    trial_type  \n",
       "0         loss  \n",
       "1         loss  \n",
       "2         loss  \n",
       "3         loss  \n",
       "4         loss  \n",
       "..         ...  \n",
       "259   rewarded  \n",
       "260   rewarded  \n",
       "261   rewarded  \n",
       "262   rewarded  \n",
       "263   rewarded  \n",
       "\n",
       "[264 rows x 5 columns]"
      ]
     },
     "execution_count": 78,
     "metadata": {},
     "output_type": "execute_result"
    }
   ],
   "source": [
    "merged_before_after_tone_spike_count_df"
   ]
  },
  {
   "cell_type": "markdown",
   "id": "f4f0ac7c",
   "metadata": {},
   "source": [
    "# Calculating Wilcoxon Rank Sum"
   ]
  },
  {
   "cell_type": "code",
   "execution_count": 79,
   "id": "cd6202b4",
   "metadata": {},
   "outputs": [],
   "source": [
    "import scipy.stats as stats"
   ]
  },
  {
   "cell_type": "code",
   "execution_count": 80,
   "id": "e02544ba",
   "metadata": {},
   "outputs": [],
   "source": [
    "import itertools"
   ]
  },
  {
   "cell_type": "markdown",
   "id": "8f7f8fc4",
   "metadata": {},
   "source": [
    "- Example of what the Wilcoxon Rank Sum will compare between"
   ]
  },
  {
   "cell_type": "code",
   "execution_count": 81,
   "id": "0488e0e6",
   "metadata": {},
   "outputs": [],
   "source": [
    "random_trial = merged_before_after_tone_spike_count_df[\"trial_type\"].unique()[0]"
   ]
  },
  {
   "cell_type": "code",
   "execution_count": 82,
   "id": "b29465f1",
   "metadata": {},
   "outputs": [
    {
     "data": {
      "text/plain": [
       "'loss'"
      ]
     },
     "execution_count": 82,
     "metadata": {},
     "output_type": "execute_result"
    }
   ],
   "source": [
    "random_trial"
   ]
  },
  {
   "cell_type": "code",
   "execution_count": 83,
   "id": "8052d11f",
   "metadata": {},
   "outputs": [],
   "source": [
    "random_neuron = merged_before_after_tone_spike_count_df[\"neuron_id\"].unique()[0]"
   ]
  },
  {
   "cell_type": "code",
   "execution_count": 84,
   "id": "8d02b0d9",
   "metadata": {},
   "outputs": [
    {
     "data": {
      "text/plain": [
       "19"
      ]
     },
     "execution_count": 84,
     "metadata": {},
     "output_type": "execute_result"
    }
   ],
   "source": [
    "random_neuron"
   ]
  },
  {
   "cell_type": "code",
   "execution_count": 85,
   "id": "56abfcec",
   "metadata": {},
   "outputs": [
    {
     "data": {
      "text/html": [
       "<div>\n",
       "<style scoped>\n",
       "    .dataframe tbody tr th:only-of-type {\n",
       "        vertical-align: middle;\n",
       "    }\n",
       "\n",
       "    .dataframe tbody tr th {\n",
       "        vertical-align: top;\n",
       "    }\n",
       "\n",
       "    .dataframe thead th {\n",
       "        text-align: right;\n",
       "    }\n",
       "</style>\n",
       "<table border=\"1\" class=\"dataframe\">\n",
       "  <thead>\n",
       "    <tr style=\"text-align: right;\">\n",
       "      <th></th>\n",
       "      <th>tone_time</th>\n",
       "      <th>neuron_id</th>\n",
       "      <th>before_fired_spike_count</th>\n",
       "      <th>after_fired_spike_count</th>\n",
       "      <th>trial_type</th>\n",
       "    </tr>\n",
       "  </thead>\n",
       "  <tbody>\n",
       "    <tr>\n",
       "      <th>0</th>\n",
       "      <td>1872697</td>\n",
       "      <td>19</td>\n",
       "      <td>4</td>\n",
       "      <td>14</td>\n",
       "      <td>loss</td>\n",
       "    </tr>\n",
       "    <tr>\n",
       "      <th>8</th>\n",
       "      <td>3472694</td>\n",
       "      <td>19</td>\n",
       "      <td>7</td>\n",
       "      <td>12</td>\n",
       "      <td>loss</td>\n",
       "    </tr>\n",
       "    <tr>\n",
       "      <th>16</th>\n",
       "      <td>5272689</td>\n",
       "      <td>19</td>\n",
       "      <td>15</td>\n",
       "      <td>24</td>\n",
       "      <td>loss</td>\n",
       "    </tr>\n",
       "    <tr>\n",
       "      <th>24</th>\n",
       "      <td>6872686</td>\n",
       "      <td>19</td>\n",
       "      <td>25</td>\n",
       "      <td>24</td>\n",
       "      <td>loss</td>\n",
       "    </tr>\n",
       "    <tr>\n",
       "      <th>32</th>\n",
       "      <td>8372686</td>\n",
       "      <td>19</td>\n",
       "      <td>12</td>\n",
       "      <td>13</td>\n",
       "      <td>loss</td>\n",
       "    </tr>\n",
       "    <tr>\n",
       "      <th>40</th>\n",
       "      <td>10372684</td>\n",
       "      <td>19</td>\n",
       "      <td>12</td>\n",
       "      <td>8</td>\n",
       "      <td>loss</td>\n",
       "    </tr>\n",
       "    <tr>\n",
       "      <th>48</th>\n",
       "      <td>12272681</td>\n",
       "      <td>19</td>\n",
       "      <td>12</td>\n",
       "      <td>11</td>\n",
       "      <td>loss</td>\n",
       "    </tr>\n",
       "    <tr>\n",
       "      <th>56</th>\n",
       "      <td>14072678</td>\n",
       "      <td>19</td>\n",
       "      <td>20</td>\n",
       "      <td>31</td>\n",
       "      <td>loss</td>\n",
       "    </tr>\n",
       "    <tr>\n",
       "      <th>64</th>\n",
       "      <td>15672676</td>\n",
       "      <td>19</td>\n",
       "      <td>10</td>\n",
       "      <td>9</td>\n",
       "      <td>loss</td>\n",
       "    </tr>\n",
       "    <tr>\n",
       "      <th>72</th>\n",
       "      <td>17472673</td>\n",
       "      <td>19</td>\n",
       "      <td>9</td>\n",
       "      <td>13</td>\n",
       "      <td>loss</td>\n",
       "    </tr>\n",
       "    <tr>\n",
       "      <th>80</th>\n",
       "      <td>19472667</td>\n",
       "      <td>19</td>\n",
       "      <td>25</td>\n",
       "      <td>50</td>\n",
       "      <td>loss</td>\n",
       "    </tr>\n",
       "    <tr>\n",
       "      <th>88</th>\n",
       "      <td>21272667</td>\n",
       "      <td>19</td>\n",
       "      <td>38</td>\n",
       "      <td>34</td>\n",
       "      <td>loss</td>\n",
       "    </tr>\n",
       "    <tr>\n",
       "      <th>96</th>\n",
       "      <td>23672664</td>\n",
       "      <td>19</td>\n",
       "      <td>27</td>\n",
       "      <td>35</td>\n",
       "      <td>loss</td>\n",
       "    </tr>\n",
       "    <tr>\n",
       "      <th>104</th>\n",
       "      <td>25472661</td>\n",
       "      <td>19</td>\n",
       "      <td>21</td>\n",
       "      <td>21</td>\n",
       "      <td>loss</td>\n",
       "    </tr>\n",
       "    <tr>\n",
       "      <th>112</th>\n",
       "      <td>27172659</td>\n",
       "      <td>19</td>\n",
       "      <td>17</td>\n",
       "      <td>25</td>\n",
       "      <td>loss</td>\n",
       "    </tr>\n",
       "    <tr>\n",
       "      <th>120</th>\n",
       "      <td>28972656</td>\n",
       "      <td>19</td>\n",
       "      <td>33</td>\n",
       "      <td>28</td>\n",
       "      <td>loss</td>\n",
       "    </tr>\n",
       "    <tr>\n",
       "      <th>128</th>\n",
       "      <td>30872654</td>\n",
       "      <td>19</td>\n",
       "      <td>6</td>\n",
       "      <td>15</td>\n",
       "      <td>loss</td>\n",
       "    </tr>\n",
       "    <tr>\n",
       "      <th>136</th>\n",
       "      <td>33272648</td>\n",
       "      <td>19</td>\n",
       "      <td>11</td>\n",
       "      <td>19</td>\n",
       "      <td>loss</td>\n",
       "    </tr>\n",
       "  </tbody>\n",
       "</table>\n",
       "</div>"
      ],
      "text/plain": [
       "     tone_time  neuron_id  before_fired_spike_count  after_fired_spike_count  \\\n",
       "0      1872697         19                         4                       14   \n",
       "8      3472694         19                         7                       12   \n",
       "16     5272689         19                        15                       24   \n",
       "24     6872686         19                        25                       24   \n",
       "32     8372686         19                        12                       13   \n",
       "40    10372684         19                        12                        8   \n",
       "48    12272681         19                        12                       11   \n",
       "56    14072678         19                        20                       31   \n",
       "64    15672676         19                        10                        9   \n",
       "72    17472673         19                         9                       13   \n",
       "80    19472667         19                        25                       50   \n",
       "88    21272667         19                        38                       34   \n",
       "96    23672664         19                        27                       35   \n",
       "104   25472661         19                        21                       21   \n",
       "112   27172659         19                        17                       25   \n",
       "120   28972656         19                        33                       28   \n",
       "128   30872654         19                         6                       15   \n",
       "136   33272648         19                        11                       19   \n",
       "\n",
       "    trial_type  \n",
       "0         loss  \n",
       "8         loss  \n",
       "16        loss  \n",
       "24        loss  \n",
       "32        loss  \n",
       "40        loss  \n",
       "48        loss  \n",
       "56        loss  \n",
       "64        loss  \n",
       "72        loss  \n",
       "80        loss  \n",
       "88        loss  \n",
       "96        loss  \n",
       "104       loss  \n",
       "112       loss  \n",
       "120       loss  \n",
       "128       loss  \n",
       "136       loss  "
      ]
     },
     "execution_count": 85,
     "metadata": {},
     "output_type": "execute_result"
    }
   ],
   "source": [
    "merged_before_after_tone_spike_count_df[(merged_before_after_tone_spike_count_df[\"neuron_id\"] == random_neuron) & (merged_before_after_tone_spike_count_df[\"trial_type\"] == random_trial)]"
   ]
  },
  {
   "cell_type": "markdown",
   "id": "0b70427f",
   "metadata": {},
   "source": [
    "- Seeing which neuron has significant change with the Wilcoxon Rank Sum test"
   ]
  },
  {
   "cell_type": "code",
   "execution_count": 86,
   "id": "19f67531",
   "metadata": {},
   "outputs": [
    {
     "name": "stderr",
     "output_type": "stream",
     "text": [
      "/nancy/projects/reward_competition_ephys_analysis_with_omission_and_divider_controls/bin/conda_environment/spike_interface_env_0_96_1/lib/python3.9/site-packages/scipy/stats/_morestats.py:3414: UserWarning: Exact p-value calculation does not work if there are zeros. Switching to normal approximation.\n",
      "  warnings.warn(\"Exact p-value calculation does not work if there are \"\n",
      "/nancy/projects/reward_competition_ephys_analysis_with_omission_and_divider_controls/bin/conda_environment/spike_interface_env_0_96_1/lib/python3.9/site-packages/scipy/stats/_morestats.py:3428: UserWarning: Sample size too small for normal approximation.\n",
      "  warnings.warn(\"Sample size too small for normal approximation.\")\n"
     ]
    }
   ],
   "source": [
    "neuron_id_to_trial_type_to_wilcoxon_score = defaultdict(dict)\n",
    "# Getting all the combinations of neuron ID and trial type\n",
    "neuron_id_and_trial_type_combinations = list(itertools.product(merged_before_after_tone_spike_count_df[\"neuron_id\"].unique(), merged_before_after_tone_spike_count_df[\"trial_type\"].unique()))\n",
    "for neuron_id, trial_type in neuron_id_and_trial_type_combinations:\n",
    "    try:\n",
    "        # Getting all the rows that match the neuron and the trial type\n",
    "        current_df = merged_before_after_tone_spike_count_df[(merged_before_after_tone_spike_count_df[\"neuron_id\"] == neuron_id) & (merged_before_after_tone_spike_count_df[\"trial_type\"] == trial_type)]\n",
    "        # Calculating the Wilcoxon Rank Sum\n",
    "        neuron_id_to_trial_type_to_wilcoxon_score[neuron_id][trial_type] = stats.wilcoxon(current_df[\"before_fired_spike_count\"], current_df[\"after_fired_spike_count\"])\n",
    "    except:\n",
    "        print(\"Neuron: {} Trial Type: {}\".format(neuron_id, trial_type))\n",
    "        warnings.warn(\"Wilcoxon unable to run for these neuron and trial type combination\")"
   ]
  },
  {
   "cell_type": "code",
   "execution_count": 87,
   "id": "351b59cc",
   "metadata": {},
   "outputs": [
    {
     "data": {
      "text/plain": [
       "defaultdict(dict,\n",
       "            {19: {'loss': WilcoxonResult(statistic=28.0, pvalue=0.021315080663599193),\n",
       "              'win': WilcoxonResult(statistic=0.0, pvalue=1.0),\n",
       "              'rewarded': WilcoxonResult(statistic=11.0, pvalue=0.0537109375),\n",
       "              'omission': WilcoxonResult(statistic=2.0, pvalue=0.75)},\n",
       "             29: {'loss': WilcoxonResult(statistic=49.5, pvalue=0.19816087735735),\n",
       "              'win': WilcoxonResult(statistic=0.0, pvalue=1.0),\n",
       "              'rewarded': WilcoxonResult(statistic=17.0, pvalue=0.8879536894905294),\n",
       "              'omission': WilcoxonResult(statistic=0.0, pvalue=0.31731050786291415)},\n",
       "             30: {'loss': WilcoxonResult(statistic=41.0, pvalue=0.09253921963184694),\n",
       "              'win': WilcoxonResult(statistic=0.0, pvalue=1.0),\n",
       "              'rewarded': WilcoxonResult(statistic=20.0, pvalue=0.2783203125),\n",
       "              'omission': WilcoxonResult(statistic=3.0, pvalue=1.0)},\n",
       "             39: {'loss': WilcoxonResult(statistic=57.5, pvalue=0.8867011635607508),\n",
       "              'win': WilcoxonResult(statistic=0.0, pvalue=1.0),\n",
       "              'rewarded': WilcoxonResult(statistic=3.0, pvalue=0.03322776749844326),\n",
       "              'omission': WilcoxonResult(statistic=0.0, pvalue=0.17971249487899976)},\n",
       "             55: {'loss': WilcoxonResult(statistic=69.0, pvalue=0.7224509488777382),\n",
       "              'win': WilcoxonResult(statistic=0.0, pvalue=1.0),\n",
       "              'rewarded': WilcoxonResult(statistic=26.0, pvalue=0.5771484375),\n",
       "              'omission': WilcoxonResult(statistic=3.0, pvalue=1.0)},\n",
       "             84: {'loss': WilcoxonResult(statistic=54.0, pvalue=0.18146514892578125),\n",
       "              'win': WilcoxonResult(statistic=0.0, pvalue=1.0),\n",
       "              'rewarded': WilcoxonResult(statistic=27.0, pvalue=0.6376953125),\n",
       "              'omission': WilcoxonResult(statistic=2.0, pvalue=0.75)},\n",
       "             192: {'loss': WilcoxonResult(statistic=69.5, pvalue=0.522613525390625),\n",
       "              'win': WilcoxonResult(statistic=0.0, pvalue=1.0),\n",
       "              'rewarded': WilcoxonResult(statistic=7.5, pvalue=0.13460465781116093),\n",
       "              'omission': WilcoxonResult(statistic=1.5, pvalue=0.5)},\n",
       "             230: {'loss': WilcoxonResult(statistic=50.5, pvalue=0.21775557073036167),\n",
       "              'win': WilcoxonResult(statistic=0.0, pvalue=1.0),\n",
       "              'rewarded': WilcoxonResult(statistic=2.5, pvalue=0.04775694786088037),\n",
       "              'omission': WilcoxonResult(statistic=0.0, pvalue=0.15729920705028502)}})"
      ]
     },
     "execution_count": 87,
     "metadata": {},
     "output_type": "execute_result"
    }
   ],
   "source": [
    "neuron_id_to_trial_type_to_wilcoxon_score"
   ]
  },
  {
   "cell_type": "markdown",
   "id": "6248e071",
   "metadata": {},
   "source": [
    "# Pie Chart for Losing and Omission"
   ]
  },
  {
   "cell_type": "code",
   "execution_count": 88,
   "id": "cf8f5be5",
   "metadata": {},
   "outputs": [],
   "source": [
    "p_value_threshold = 0.1"
   ]
  },
  {
   "cell_type": "code",
   "execution_count": 89,
   "id": "70aa541a",
   "metadata": {},
   "outputs": [],
   "source": [
    "neuron_to_wilcoxon_df = pd.DataFrame.from_dict(neuron_id_to_trial_type_to_wilcoxon_score, orient=\"index\")"
   ]
  },
  {
   "cell_type": "code",
   "execution_count": 90,
   "id": "99bc426d",
   "metadata": {
    "scrolled": true
   },
   "outputs": [
    {
     "data": {
      "text/html": [
       "<div>\n",
       "<style scoped>\n",
       "    .dataframe tbody tr th:only-of-type {\n",
       "        vertical-align: middle;\n",
       "    }\n",
       "\n",
       "    .dataframe tbody tr th {\n",
       "        vertical-align: top;\n",
       "    }\n",
       "\n",
       "    .dataframe thead th {\n",
       "        text-align: right;\n",
       "    }\n",
       "</style>\n",
       "<table border=\"1\" class=\"dataframe\">\n",
       "  <thead>\n",
       "    <tr style=\"text-align: right;\">\n",
       "      <th></th>\n",
       "      <th>loss</th>\n",
       "      <th>win</th>\n",
       "      <th>rewarded</th>\n",
       "      <th>omission</th>\n",
       "    </tr>\n",
       "  </thead>\n",
       "  <tbody>\n",
       "    <tr>\n",
       "      <th>19</th>\n",
       "      <td>(28.0, 0.021315080663599193)</td>\n",
       "      <td>(0.0, 1.0)</td>\n",
       "      <td>(11.0, 0.0537109375)</td>\n",
       "      <td>(2.0, 0.75)</td>\n",
       "    </tr>\n",
       "    <tr>\n",
       "      <th>29</th>\n",
       "      <td>(49.5, 0.19816087735735)</td>\n",
       "      <td>(0.0, 1.0)</td>\n",
       "      <td>(17.0, 0.8879536894905294)</td>\n",
       "      <td>(0.0, 0.31731050786291415)</td>\n",
       "    </tr>\n",
       "    <tr>\n",
       "      <th>30</th>\n",
       "      <td>(41.0, 0.09253921963184694)</td>\n",
       "      <td>(0.0, 1.0)</td>\n",
       "      <td>(20.0, 0.2783203125)</td>\n",
       "      <td>(3.0, 1.0)</td>\n",
       "    </tr>\n",
       "    <tr>\n",
       "      <th>39</th>\n",
       "      <td>(57.5, 0.8867011635607508)</td>\n",
       "      <td>(0.0, 1.0)</td>\n",
       "      <td>(3.0, 0.03322776749844326)</td>\n",
       "      <td>(0.0, 0.17971249487899976)</td>\n",
       "    </tr>\n",
       "    <tr>\n",
       "      <th>55</th>\n",
       "      <td>(69.0, 0.7224509488777382)</td>\n",
       "      <td>(0.0, 1.0)</td>\n",
       "      <td>(26.0, 0.5771484375)</td>\n",
       "      <td>(3.0, 1.0)</td>\n",
       "    </tr>\n",
       "    <tr>\n",
       "      <th>84</th>\n",
       "      <td>(54.0, 0.18146514892578125)</td>\n",
       "      <td>(0.0, 1.0)</td>\n",
       "      <td>(27.0, 0.6376953125)</td>\n",
       "      <td>(2.0, 0.75)</td>\n",
       "    </tr>\n",
       "    <tr>\n",
       "      <th>192</th>\n",
       "      <td>(69.5, 0.522613525390625)</td>\n",
       "      <td>(0.0, 1.0)</td>\n",
       "      <td>(7.5, 0.13460465781116093)</td>\n",
       "      <td>(1.5, 0.5)</td>\n",
       "    </tr>\n",
       "    <tr>\n",
       "      <th>230</th>\n",
       "      <td>(50.5, 0.21775557073036167)</td>\n",
       "      <td>(0.0, 1.0)</td>\n",
       "      <td>(2.5, 0.04775694786088037)</td>\n",
       "      <td>(0.0, 0.15729920705028502)</td>\n",
       "    </tr>\n",
       "  </tbody>\n",
       "</table>\n",
       "</div>"
      ],
      "text/plain": [
       "                             loss         win                    rewarded  \\\n",
       "19   (28.0, 0.021315080663599193)  (0.0, 1.0)        (11.0, 0.0537109375)   \n",
       "29       (49.5, 0.19816087735735)  (0.0, 1.0)  (17.0, 0.8879536894905294)   \n",
       "30    (41.0, 0.09253921963184694)  (0.0, 1.0)        (20.0, 0.2783203125)   \n",
       "39     (57.5, 0.8867011635607508)  (0.0, 1.0)  (3.0, 0.03322776749844326)   \n",
       "55     (69.0, 0.7224509488777382)  (0.0, 1.0)        (26.0, 0.5771484375)   \n",
       "84    (54.0, 0.18146514892578125)  (0.0, 1.0)        (27.0, 0.6376953125)   \n",
       "192     (69.5, 0.522613525390625)  (0.0, 1.0)  (7.5, 0.13460465781116093)   \n",
       "230   (50.5, 0.21775557073036167)  (0.0, 1.0)  (2.5, 0.04775694786088037)   \n",
       "\n",
       "                       omission  \n",
       "19                  (2.0, 0.75)  \n",
       "29   (0.0, 0.31731050786291415)  \n",
       "30                   (3.0, 1.0)  \n",
       "39   (0.0, 0.17971249487899976)  \n",
       "55                   (3.0, 1.0)  \n",
       "84                  (2.0, 0.75)  \n",
       "192                  (1.5, 0.5)  \n",
       "230  (0.0, 0.15729920705028502)  "
      ]
     },
     "execution_count": 90,
     "metadata": {},
     "output_type": "execute_result"
    }
   ],
   "source": [
    "neuron_to_wilcoxon_df"
   ]
  },
  {
   "cell_type": "markdown",
   "id": "4c994240",
   "metadata": {},
   "source": [
    "- Getting the P Value from the tuple for each trial type"
   ]
  },
  {
   "cell_type": "code",
   "execution_count": 91,
   "id": "fe7cbcaa",
   "metadata": {},
   "outputs": [],
   "source": [
    "def get_first_item_for_lambda(value, default):\n",
    "    try:\n",
    "        return (value[1])\n",
    "    except:\n",
    "        return default\n",
    "    return default"
   ]
  },
  {
   "cell_type": "code",
   "execution_count": 92,
   "id": "ebcff259",
   "metadata": {},
   "outputs": [],
   "source": [
    "for col in neuron_to_wilcoxon_df.columns:\n",
    "    neuron_to_wilcoxon_df[\"{}_pvalue\".format(col)] = neuron_to_wilcoxon_df[col].apply(lambda x: get_first_item_for_lambda(value=x, default=np.nan))"
   ]
  },
  {
   "cell_type": "code",
   "execution_count": 93,
   "id": "2b9c60b9",
   "metadata": {},
   "outputs": [
    {
     "data": {
      "text/html": [
       "<div>\n",
       "<style scoped>\n",
       "    .dataframe tbody tr th:only-of-type {\n",
       "        vertical-align: middle;\n",
       "    }\n",
       "\n",
       "    .dataframe tbody tr th {\n",
       "        vertical-align: top;\n",
       "    }\n",
       "\n",
       "    .dataframe thead th {\n",
       "        text-align: right;\n",
       "    }\n",
       "</style>\n",
       "<table border=\"1\" class=\"dataframe\">\n",
       "  <thead>\n",
       "    <tr style=\"text-align: right;\">\n",
       "      <th></th>\n",
       "      <th>loss</th>\n",
       "      <th>win</th>\n",
       "      <th>rewarded</th>\n",
       "      <th>omission</th>\n",
       "      <th>loss_pvalue</th>\n",
       "      <th>win_pvalue</th>\n",
       "      <th>rewarded_pvalue</th>\n",
       "      <th>omission_pvalue</th>\n",
       "    </tr>\n",
       "  </thead>\n",
       "  <tbody>\n",
       "    <tr>\n",
       "      <th>19</th>\n",
       "      <td>(28.0, 0.021315080663599193)</td>\n",
       "      <td>(0.0, 1.0)</td>\n",
       "      <td>(11.0, 0.0537109375)</td>\n",
       "      <td>(2.0, 0.75)</td>\n",
       "      <td>0.021315</td>\n",
       "      <td>1.0</td>\n",
       "      <td>0.053711</td>\n",
       "      <td>0.750000</td>\n",
       "    </tr>\n",
       "    <tr>\n",
       "      <th>29</th>\n",
       "      <td>(49.5, 0.19816087735735)</td>\n",
       "      <td>(0.0, 1.0)</td>\n",
       "      <td>(17.0, 0.8879536894905294)</td>\n",
       "      <td>(0.0, 0.31731050786291415)</td>\n",
       "      <td>0.198161</td>\n",
       "      <td>1.0</td>\n",
       "      <td>0.887954</td>\n",
       "      <td>0.317311</td>\n",
       "    </tr>\n",
       "    <tr>\n",
       "      <th>30</th>\n",
       "      <td>(41.0, 0.09253921963184694)</td>\n",
       "      <td>(0.0, 1.0)</td>\n",
       "      <td>(20.0, 0.2783203125)</td>\n",
       "      <td>(3.0, 1.0)</td>\n",
       "      <td>0.092539</td>\n",
       "      <td>1.0</td>\n",
       "      <td>0.278320</td>\n",
       "      <td>1.000000</td>\n",
       "    </tr>\n",
       "    <tr>\n",
       "      <th>39</th>\n",
       "      <td>(57.5, 0.8867011635607508)</td>\n",
       "      <td>(0.0, 1.0)</td>\n",
       "      <td>(3.0, 0.03322776749844326)</td>\n",
       "      <td>(0.0, 0.17971249487899976)</td>\n",
       "      <td>0.886701</td>\n",
       "      <td>1.0</td>\n",
       "      <td>0.033228</td>\n",
       "      <td>0.179712</td>\n",
       "    </tr>\n",
       "    <tr>\n",
       "      <th>55</th>\n",
       "      <td>(69.0, 0.7224509488777382)</td>\n",
       "      <td>(0.0, 1.0)</td>\n",
       "      <td>(26.0, 0.5771484375)</td>\n",
       "      <td>(3.0, 1.0)</td>\n",
       "      <td>0.722451</td>\n",
       "      <td>1.0</td>\n",
       "      <td>0.577148</td>\n",
       "      <td>1.000000</td>\n",
       "    </tr>\n",
       "  </tbody>\n",
       "</table>\n",
       "</div>"
      ],
      "text/plain": [
       "                            loss         win                    rewarded  \\\n",
       "19  (28.0, 0.021315080663599193)  (0.0, 1.0)        (11.0, 0.0537109375)   \n",
       "29      (49.5, 0.19816087735735)  (0.0, 1.0)  (17.0, 0.8879536894905294)   \n",
       "30   (41.0, 0.09253921963184694)  (0.0, 1.0)        (20.0, 0.2783203125)   \n",
       "39    (57.5, 0.8867011635607508)  (0.0, 1.0)  (3.0, 0.03322776749844326)   \n",
       "55    (69.0, 0.7224509488777382)  (0.0, 1.0)        (26.0, 0.5771484375)   \n",
       "\n",
       "                      omission  loss_pvalue  win_pvalue  rewarded_pvalue  \\\n",
       "19                 (2.0, 0.75)     0.021315         1.0         0.053711   \n",
       "29  (0.0, 0.31731050786291415)     0.198161         1.0         0.887954   \n",
       "30                  (3.0, 1.0)     0.092539         1.0         0.278320   \n",
       "39  (0.0, 0.17971249487899976)     0.886701         1.0         0.033228   \n",
       "55                  (3.0, 1.0)     0.722451         1.0         0.577148   \n",
       "\n",
       "    omission_pvalue  \n",
       "19         0.750000  \n",
       "29         0.317311  \n",
       "30         1.000000  \n",
       "39         0.179712  \n",
       "55         1.000000  "
      ]
     },
     "execution_count": 93,
     "metadata": {},
     "output_type": "execute_result"
    }
   ],
   "source": [
    "neuron_to_wilcoxon_df.head()"
   ]
  },
  {
   "cell_type": "code",
   "execution_count": 94,
   "id": "c14ab1e4",
   "metadata": {},
   "outputs": [
    {
     "data": {
      "text/html": [
       "<div>\n",
       "<style scoped>\n",
       "    .dataframe tbody tr th:only-of-type {\n",
       "        vertical-align: middle;\n",
       "    }\n",
       "\n",
       "    .dataframe tbody tr th {\n",
       "        vertical-align: top;\n",
       "    }\n",
       "\n",
       "    .dataframe thead th {\n",
       "        text-align: right;\n",
       "    }\n",
       "</style>\n",
       "<table border=\"1\" class=\"dataframe\">\n",
       "  <thead>\n",
       "    <tr style=\"text-align: right;\">\n",
       "      <th></th>\n",
       "      <th>loss</th>\n",
       "      <th>win</th>\n",
       "      <th>rewarded</th>\n",
       "      <th>omission</th>\n",
       "      <th>loss_pvalue</th>\n",
       "      <th>win_pvalue</th>\n",
       "      <th>rewarded_pvalue</th>\n",
       "      <th>omission_pvalue</th>\n",
       "    </tr>\n",
       "  </thead>\n",
       "  <tbody>\n",
       "    <tr>\n",
       "      <th>19</th>\n",
       "      <td>(28.0, 0.021315080663599193)</td>\n",
       "      <td>(0.0, 1.0)</td>\n",
       "      <td>(11.0, 0.0537109375)</td>\n",
       "      <td>(2.0, 0.75)</td>\n",
       "      <td>0.021315</td>\n",
       "      <td>1.0</td>\n",
       "      <td>0.053711</td>\n",
       "      <td>0.750000</td>\n",
       "    </tr>\n",
       "    <tr>\n",
       "      <th>29</th>\n",
       "      <td>(49.5, 0.19816087735735)</td>\n",
       "      <td>(0.0, 1.0)</td>\n",
       "      <td>(17.0, 0.8879536894905294)</td>\n",
       "      <td>(0.0, 0.31731050786291415)</td>\n",
       "      <td>0.198161</td>\n",
       "      <td>1.0</td>\n",
       "      <td>0.887954</td>\n",
       "      <td>0.317311</td>\n",
       "    </tr>\n",
       "    <tr>\n",
       "      <th>30</th>\n",
       "      <td>(41.0, 0.09253921963184694)</td>\n",
       "      <td>(0.0, 1.0)</td>\n",
       "      <td>(20.0, 0.2783203125)</td>\n",
       "      <td>(3.0, 1.0)</td>\n",
       "      <td>0.092539</td>\n",
       "      <td>1.0</td>\n",
       "      <td>0.278320</td>\n",
       "      <td>1.000000</td>\n",
       "    </tr>\n",
       "    <tr>\n",
       "      <th>39</th>\n",
       "      <td>(57.5, 0.8867011635607508)</td>\n",
       "      <td>(0.0, 1.0)</td>\n",
       "      <td>(3.0, 0.03322776749844326)</td>\n",
       "      <td>(0.0, 0.17971249487899976)</td>\n",
       "      <td>0.886701</td>\n",
       "      <td>1.0</td>\n",
       "      <td>0.033228</td>\n",
       "      <td>0.179712</td>\n",
       "    </tr>\n",
       "    <tr>\n",
       "      <th>55</th>\n",
       "      <td>(69.0, 0.7224509488777382)</td>\n",
       "      <td>(0.0, 1.0)</td>\n",
       "      <td>(26.0, 0.5771484375)</td>\n",
       "      <td>(3.0, 1.0)</td>\n",
       "      <td>0.722451</td>\n",
       "      <td>1.0</td>\n",
       "      <td>0.577148</td>\n",
       "      <td>1.000000</td>\n",
       "    </tr>\n",
       "    <tr>\n",
       "      <th>84</th>\n",
       "      <td>(54.0, 0.18146514892578125)</td>\n",
       "      <td>(0.0, 1.0)</td>\n",
       "      <td>(27.0, 0.6376953125)</td>\n",
       "      <td>(2.0, 0.75)</td>\n",
       "      <td>0.181465</td>\n",
       "      <td>1.0</td>\n",
       "      <td>0.637695</td>\n",
       "      <td>0.750000</td>\n",
       "    </tr>\n",
       "    <tr>\n",
       "      <th>192</th>\n",
       "      <td>(69.5, 0.522613525390625)</td>\n",
       "      <td>(0.0, 1.0)</td>\n",
       "      <td>(7.5, 0.13460465781116093)</td>\n",
       "      <td>(1.5, 0.5)</td>\n",
       "      <td>0.522614</td>\n",
       "      <td>1.0</td>\n",
       "      <td>0.134605</td>\n",
       "      <td>0.500000</td>\n",
       "    </tr>\n",
       "    <tr>\n",
       "      <th>230</th>\n",
       "      <td>(50.5, 0.21775557073036167)</td>\n",
       "      <td>(0.0, 1.0)</td>\n",
       "      <td>(2.5, 0.04775694786088037)</td>\n",
       "      <td>(0.0, 0.15729920705028502)</td>\n",
       "      <td>0.217756</td>\n",
       "      <td>1.0</td>\n",
       "      <td>0.047757</td>\n",
       "      <td>0.157299</td>\n",
       "    </tr>\n",
       "  </tbody>\n",
       "</table>\n",
       "</div>"
      ],
      "text/plain": [
       "                             loss         win                    rewarded  \\\n",
       "19   (28.0, 0.021315080663599193)  (0.0, 1.0)        (11.0, 0.0537109375)   \n",
       "29       (49.5, 0.19816087735735)  (0.0, 1.0)  (17.0, 0.8879536894905294)   \n",
       "30    (41.0, 0.09253921963184694)  (0.0, 1.0)        (20.0, 0.2783203125)   \n",
       "39     (57.5, 0.8867011635607508)  (0.0, 1.0)  (3.0, 0.03322776749844326)   \n",
       "55     (69.0, 0.7224509488777382)  (0.0, 1.0)        (26.0, 0.5771484375)   \n",
       "84    (54.0, 0.18146514892578125)  (0.0, 1.0)        (27.0, 0.6376953125)   \n",
       "192     (69.5, 0.522613525390625)  (0.0, 1.0)  (7.5, 0.13460465781116093)   \n",
       "230   (50.5, 0.21775557073036167)  (0.0, 1.0)  (2.5, 0.04775694786088037)   \n",
       "\n",
       "                       omission  loss_pvalue  win_pvalue  rewarded_pvalue  \\\n",
       "19                  (2.0, 0.75)     0.021315         1.0         0.053711   \n",
       "29   (0.0, 0.31731050786291415)     0.198161         1.0         0.887954   \n",
       "30                   (3.0, 1.0)     0.092539         1.0         0.278320   \n",
       "39   (0.0, 0.17971249487899976)     0.886701         1.0         0.033228   \n",
       "55                   (3.0, 1.0)     0.722451         1.0         0.577148   \n",
       "84                  (2.0, 0.75)     0.181465         1.0         0.637695   \n",
       "192                  (1.5, 0.5)     0.522614         1.0         0.134605   \n",
       "230  (0.0, 0.15729920705028502)     0.217756         1.0         0.047757   \n",
       "\n",
       "     omission_pvalue  \n",
       "19          0.750000  \n",
       "29          0.317311  \n",
       "30          1.000000  \n",
       "39          0.179712  \n",
       "55          1.000000  \n",
       "84          0.750000  \n",
       "192         0.500000  \n",
       "230         0.157299  "
      ]
     },
     "execution_count": 94,
     "metadata": {},
     "output_type": "execute_result"
    }
   ],
   "source": [
    "neuron_to_wilcoxon_df"
   ]
  },
  {
   "cell_type": "code",
   "execution_count": 95,
   "id": "9f96aa24",
   "metadata": {},
   "outputs": [],
   "source": [
    "neuron_to_wilcoxon_df.to_csv(\"./proc/{}_neuron_to_wilcoxon_df\".format(recording_name))"
   ]
  },
  {
   "cell_type": "markdown",
   "id": "bab0a09e",
   "metadata": {},
   "source": [
    "- Seeing how many neurons reacted to winning and being rewarded"
   ]
  },
  {
   "cell_type": "code",
   "execution_count": 96,
   "id": "c1894522",
   "metadata": {},
   "outputs": [],
   "source": [
    "reward_or_win_firing_rate_difference_count = {}\n",
    "for index, row in neuron_to_wilcoxon_df.iterrows():\n",
    "    \n",
    "    # if both\n",
    "    if row[\"rewarded_pvalue\"] <= p_value_threshold and row[\"win_pvalue\"] <= p_value_threshold:\n",
    "        reward_or_win_firing_rate_difference_count[\"both_reward_and_win\"] = reward_or_win_firing_rate_difference_count.get('both_reward_and_win', 0) + 1\n",
    "    # if one\n",
    "    elif row[\"rewarded_pvalue\"] <= p_value_threshold:\n",
    "        reward_or_win_firing_rate_difference_count[\"reward_only\"] = reward_or_win_firing_rate_difference_count.get('reward_only', 0) + 1\n",
    "\n",
    "    # if other\n",
    "    elif row[\"win_pvalue\"] <= p_value_threshold:\n",
    "        reward_or_win_firing_rate_difference_count[\"win_only\"] = reward_or_win_firing_rate_difference_count.get('win_only', 0) + 1\n",
    "reward_or_win_firing_rate_difference_count[\"no_response\"] = len(neuron_to_wilcoxon_df) - sum(reward_or_win_firing_rate_difference_count.values())"
   ]
  },
  {
   "cell_type": "code",
   "execution_count": 97,
   "id": "150c74be",
   "metadata": {},
   "outputs": [
    {
     "data": {
      "text/plain": [
       "{'reward_only': 3, 'no_response': 5}"
      ]
     },
     "execution_count": 97,
     "metadata": {},
     "output_type": "execute_result"
    }
   ],
   "source": [
    "reward_or_win_firing_rate_difference_count"
   ]
  },
  {
   "cell_type": "markdown",
   "id": "491c4582",
   "metadata": {},
   "source": [
    "- Seeing how many neurons reacted to losing and omission of reward"
   ]
  },
  {
   "cell_type": "code",
   "execution_count": 98,
   "id": "1576c048",
   "metadata": {},
   "outputs": [],
   "source": [
    "omission_or_loss_firing_rate_difference_count = {}\n",
    "for index, row in neuron_to_wilcoxon_df.iterrows():\n",
    "    \n",
    "    # if both\n",
    "    if row[\"omission_pvalue\"] <= p_value_threshold and row[\"loss_pvalue\"] <= p_value_threshold:\n",
    "        omission_or_loss_firing_rate_difference_count[\"both_omission_and_loss\"] = omission_or_loss_firing_rate_difference_count.get('both_omission_and_loss', 0) + 1\n",
    "    # if one\n",
    "    elif row[\"omission_pvalue\"] <= p_value_threshold:\n",
    "        omission_or_loss_firing_rate_difference_count[\"omission_only\"] = omission_or_loss_firing_rate_difference_count.get('omission_only', 0) + 1\n",
    "\n",
    "    # if other\n",
    "    elif row[\"loss_pvalue\"] <= p_value_threshold:\n",
    "        omission_or_loss_firing_rate_difference_count[\"loss_only\"] = omission_or_loss_firing_rate_difference_count.get('loss_only', 0) + 1\n",
    "omission_or_loss_firing_rate_difference_count[\"no_response\"] = len(neuron_to_wilcoxon_df) - sum(omission_or_loss_firing_rate_difference_count.values())"
   ]
  },
  {
   "cell_type": "code",
   "execution_count": 99,
   "id": "d2704068",
   "metadata": {},
   "outputs": [
    {
     "data": {
      "text/plain": [
       "{'loss_only': 2, 'no_response': 6}"
      ]
     },
     "execution_count": 99,
     "metadata": {},
     "output_type": "execute_result"
    }
   ],
   "source": [
    "omission_or_loss_firing_rate_difference_count"
   ]
  },
  {
   "cell_type": "markdown",
   "id": "a43cc6fd",
   "metadata": {},
   "source": [
    "- Creating a pie chart"
   ]
  },
  {
   "cell_type": "code",
   "execution_count": 100,
   "id": "87395322",
   "metadata": {},
   "outputs": [
    {
     "data": {
      "image/png": "[encoded data removed]",
      "text/plain": [
       "<Figure size 640x480 with 1 Axes>"
      ]
     },
     "metadata": {},
     "output_type": "display_data"
    }
   ],
   "source": [
    "# Pie chart, where the slices will be ordered and plotted counter-clockwise:\n",
    "\n",
    "fig1, ax1 = plt.subplots()\n",
    "ax1.pie(reward_or_win_firing_rate_difference_count.values(), labels=reward_or_win_firing_rate_difference_count.keys(), autopct='%1.1f%%',\n",
    "        shadow=True, startangle=90)\n",
    "ax1.axis('equal')  # Equal aspect ratio ensures that pie is drawn as a circle.\n",
    "\n",
    "plt.title(\"Response Magnitude for All Cells\")\n",
    "plt.show()"
   ]
  },
  {
   "cell_type": "code",
   "execution_count": 101,
   "id": "45f17730",
   "metadata": {
    "scrolled": true
   },
   "outputs": [
    {
     "data": {
      "image/png": "[encoded data removed]",
      "text/plain": [
       "<Figure size 640x480 with 1 Axes>"
      ]
     },
     "metadata": {},
     "output_type": "display_data"
    }
   ],
   "source": [
    "# Pie chart, where the slices will be ordered and plotted counter-clockwise:\n",
    "\n",
    "fig1, ax1 = plt.subplots()\n",
    "ax1.pie(omission_or_loss_firing_rate_difference_count.values(), labels=omission_or_loss_firing_rate_difference_count.keys(), autopct='%1.1f%%',\n",
    "        shadow=True, startangle=90)\n",
    "ax1.axis('equal')  # Equal aspect ratio ensures that pie is drawn as a circle.\n",
    "\n",
    "plt.title(\"Response Magnitude for All Cells\")\n",
    "plt.show()"
   ]
  },
  {
   "cell_type": "markdown",
   "id": "119af22e",
   "metadata": {},
   "source": []
  },
  {
   "cell_type": "markdown",
   "id": "fcf87c75",
   "metadata": {},
   "source": [
    "# Looking at the firing rate for each 100ms time bin"
   ]
  },
  {
   "cell_type": "markdown",
   "id": "42301602",
   "metadata": {},
   "source": [
    "## Seeing which 100ms bin each unit time belongs to"
   ]
  },
  {
   "cell_type": "markdown",
   "id": "6bf9eeba",
   "metadata": {},
   "source": [
    "- Creating bins for each 100ms time interval"
   ]
  },
  {
   "cell_type": "code",
   "execution_count": 102,
   "id": "26de1d4f",
   "metadata": {},
   "outputs": [],
   "source": [
    "# Each bin's duration in seconds\n",
    "bin_duration = 0.1"
   ]
  },
  {
   "cell_type": "code",
   "execution_count": 103,
   "id": "0a55fd17",
   "metadata": {},
   "outputs": [],
   "source": [
    "# Seeing how many bins are in the duration\n",
    "# 0.1 is for 0.1 seconds or 100 miliseconds\n",
    "bins_with_100ms_range = int(trial_one_way_duration / bin_duration)"
   ]
  },
  {
   "cell_type": "code",
   "execution_count": 104,
   "id": "27bb8d0c",
   "metadata": {},
   "outputs": [
    {
     "data": {
      "text/plain": [
       "100"
      ]
     },
     "execution_count": 104,
     "metadata": {},
     "output_type": "execute_result"
    }
   ],
   "source": [
    "bins_with_100ms_range"
   ]
  },
  {
   "cell_type": "code",
   "execution_count": 105,
   "id": "38d30789",
   "metadata": {},
   "outputs": [
    {
     "data": {
      "text/plain": [
       "20000"
      ]
     },
     "execution_count": 105,
     "metadata": {},
     "output_type": "execute_result"
    }
   ],
   "source": [
    "sampling_rate"
   ]
  },
  {
   "cell_type": "markdown",
   "id": "4196061c",
   "metadata": {},
   "source": [
    "- Getting all the tone time bins before and after the tone"
   ]
  },
  {
   "cell_type": "code",
   "execution_count": 106,
   "id": "4e1abd45",
   "metadata": {},
   "outputs": [],
   "source": [
    "tone_unit_time_to_interval = {}\n",
    "# Making a list of all the bins for each tone time stamp\n",
    "for time in tone_time_stamps:\n",
    "    tone_unit_time_to_interval[time] = [time + num * (bin_duration * sampling_rate) for num in range(bins_with_100ms_range * -1, bins_with_100ms_range)]"
   ]
  },
  {
   "cell_type": "markdown",
   "id": "e627b39b",
   "metadata": {},
   "source": [
    "- The time bins for the first tone\n",
    "    - Each time should be separated by an amount of the bin_duration * the sampling rate"
   ]
  },
  {
   "cell_type": "code",
   "execution_count": 107,
   "id": "588496cd",
   "metadata": {},
   "outputs": [
    {
     "data": {
      "text/plain": [
       "1872697"
      ]
     },
     "execution_count": 107,
     "metadata": {},
     "output_type": "execute_result"
    }
   ],
   "source": [
    "tone_time_stamps[0]"
   ]
  },
  {
   "cell_type": "code",
   "execution_count": 108,
   "id": "dc5e2614",
   "metadata": {},
   "outputs": [
    {
     "data": {
      "text/plain": [
       "[1672697.0, 1674697.0, 1676697.0, 1678697.0, 1680697.0]"
      ]
     },
     "execution_count": 108,
     "metadata": {},
     "output_type": "execute_result"
    }
   ],
   "source": [
    "tone_unit_time_to_interval[tone_time_stamps[0]][:5]"
   ]
  },
  {
   "cell_type": "code",
   "execution_count": 109,
   "id": "1e95b2d1",
   "metadata": {},
   "outputs": [
    {
     "data": {
      "text/plain": [
       "[2062697.0, 2064697.0, 2066697.0, 2068697.0, 2070697.0]"
      ]
     },
     "execution_count": 109,
     "metadata": {},
     "output_type": "execute_result"
    }
   ],
   "source": [
    "tone_unit_time_to_interval[tone_time_stamps[0]][-5:]"
   ]
  },
  {
   "cell_type": "code",
   "execution_count": 110,
   "id": "8788770b",
   "metadata": {},
   "outputs": [
    {
     "data": {
      "text/plain": [
       "200"
      ]
     },
     "execution_count": 110,
     "metadata": {},
     "output_type": "execute_result"
    }
   ],
   "source": [
    "len(tone_unit_time_to_interval[tone_time_stamps[0]])"
   ]
  },
  {
   "cell_type": "markdown",
   "id": "0ec232a5",
   "metadata": {},
   "source": [
    "- Seeing which bin the tone time fits into"
   ]
  },
  {
   "cell_type": "code",
   "execution_count": 111,
   "id": "8c2cb1e7",
   "metadata": {},
   "outputs": [],
   "source": [
    "spike_column_name = \"spike_time\""
   ]
  },
  {
   "cell_type": "code",
   "execution_count": 112,
   "id": "1f035890",
   "metadata": {},
   "outputs": [],
   "source": [
    "spike_tone_time_df = pd.DataFrame.from_dict(before_and_after_interval_unit_times, orient=\"index\").reset_index().rename(columns={\"index\": spike_column_name})"
   ]
  },
  {
   "cell_type": "code",
   "execution_count": 113,
   "id": "a563506c",
   "metadata": {},
   "outputs": [
    {
     "data": {
      "text/html": [
       "<div>\n",
       "<style scoped>\n",
       "    .dataframe tbody tr th:only-of-type {\n",
       "        vertical-align: middle;\n",
       "    }\n",
       "\n",
       "    .dataframe tbody tr th {\n",
       "        vertical-align: top;\n",
       "    }\n",
       "\n",
       "    .dataframe thead th {\n",
       "        text-align: right;\n",
       "    }\n",
       "</style>\n",
       "<table border=\"1\" class=\"dataframe\">\n",
       "  <thead>\n",
       "    <tr style=\"text-align: right;\">\n",
       "      <th></th>\n",
       "      <th>spike_time</th>\n",
       "      <th>tone_time</th>\n",
       "      <th>before_or_after</th>\n",
       "      <th>neuron_id</th>\n",
       "    </tr>\n",
       "  </thead>\n",
       "  <tbody>\n",
       "    <tr>\n",
       "      <th>0</th>\n",
       "      <td>1672807</td>\n",
       "      <td>1872697</td>\n",
       "      <td>before</td>\n",
       "      <td>55</td>\n",
       "    </tr>\n",
       "    <tr>\n",
       "      <th>1</th>\n",
       "      <td>1672849</td>\n",
       "      <td>1872697</td>\n",
       "      <td>before</td>\n",
       "      <td>55</td>\n",
       "    </tr>\n",
       "    <tr>\n",
       "      <th>2</th>\n",
       "      <td>1673670</td>\n",
       "      <td>1872697</td>\n",
       "      <td>before</td>\n",
       "      <td>55</td>\n",
       "    </tr>\n",
       "    <tr>\n",
       "      <th>3</th>\n",
       "      <td>1674758</td>\n",
       "      <td>1872697</td>\n",
       "      <td>before</td>\n",
       "      <td>84</td>\n",
       "    </tr>\n",
       "    <tr>\n",
       "      <th>4</th>\n",
       "      <td>1674960</td>\n",
       "      <td>1872697</td>\n",
       "      <td>before</td>\n",
       "      <td>84</td>\n",
       "    </tr>\n",
       "  </tbody>\n",
       "</table>\n",
       "</div>"
      ],
      "text/plain": [
       "   spike_time  tone_time before_or_after  neuron_id\n",
       "0     1672807    1872697          before         55\n",
       "1     1672849    1872697          before         55\n",
       "2     1673670    1872697          before         55\n",
       "3     1674758    1872697          before         84\n",
       "4     1674960    1872697          before         84"
      ]
     },
     "execution_count": 113,
     "metadata": {},
     "output_type": "execute_result"
    }
   ],
   "source": [
    "spike_tone_time_df.head()"
   ]
  },
  {
   "cell_type": "code",
   "execution_count": 114,
   "id": "b95ec1e8",
   "metadata": {},
   "outputs": [],
   "source": [
    "all_tone_dataframes = []\n",
    "for tone_time, bins_with_100ms in tone_unit_time_to_interval.items():\n",
    "    # Filtering for all the rows with the current tone\n",
    "    current_tone_df = spike_tone_time_df[spike_tone_time_df[\"tone_time\"] == tone_time].copy()\n",
    "    # Getting the time that each spike occured\n",
    "    spike_time = current_tone_df[spike_column_name].values\n",
    "    # Seeing which bin each spike fits into\n",
    "    # Subtracting the number of bins so that you can get see where the spike is relative to tone time\n",
    "    current_tone_df[\"bin_number\"] = np.digitize(spike_time, tone_unit_time_to_interval[tone_time], right=True) - bins_with_100ms_range\n",
    "    # Creating a list to concatenate all dataframes\n",
    "    all_tone_dataframes.append(current_tone_df)"
   ]
  },
  {
   "cell_type": "code",
   "execution_count": 115,
   "id": "19b81dae",
   "metadata": {},
   "outputs": [],
   "source": [
    "binned_spike_tone_time_df = pd.concat(all_tone_dataframes)"
   ]
  },
  {
   "cell_type": "markdown",
   "id": "ac563550",
   "metadata": {},
   "source": [
    "- Calculating how much time relative to the tone"
   ]
  },
  {
   "cell_type": "code",
   "execution_count": 116,
   "id": "d8df92f6",
   "metadata": {},
   "outputs": [],
   "source": [
    "binned_spike_tone_time_df[\"bin_time\"] = binned_spike_tone_time_df[\"bin_number\"] * bin_duration"
   ]
  },
  {
   "cell_type": "code",
   "execution_count": 117,
   "id": "e41a3a2d",
   "metadata": {},
   "outputs": [
    {
     "data": {
      "text/html": [
       "<div>\n",
       "<style scoped>\n",
       "    .dataframe tbody tr th:only-of-type {\n",
       "        vertical-align: middle;\n",
       "    }\n",
       "\n",
       "    .dataframe tbody tr th {\n",
       "        vertical-align: top;\n",
       "    }\n",
       "\n",
       "    .dataframe thead th {\n",
       "        text-align: right;\n",
       "    }\n",
       "</style>\n",
       "<table border=\"1\" class=\"dataframe\">\n",
       "  <thead>\n",
       "    <tr style=\"text-align: right;\">\n",
       "      <th></th>\n",
       "      <th>spike_time</th>\n",
       "      <th>tone_time</th>\n",
       "      <th>before_or_after</th>\n",
       "      <th>neuron_id</th>\n",
       "      <th>bin_number</th>\n",
       "      <th>bin_time</th>\n",
       "    </tr>\n",
       "  </thead>\n",
       "  <tbody>\n",
       "    <tr>\n",
       "      <th>0</th>\n",
       "      <td>1672807</td>\n",
       "      <td>1872697</td>\n",
       "      <td>before</td>\n",
       "      <td>55</td>\n",
       "      <td>-99</td>\n",
       "      <td>-9.9</td>\n",
       "    </tr>\n",
       "    <tr>\n",
       "      <th>1</th>\n",
       "      <td>1672849</td>\n",
       "      <td>1872697</td>\n",
       "      <td>before</td>\n",
       "      <td>55</td>\n",
       "      <td>-99</td>\n",
       "      <td>-9.9</td>\n",
       "    </tr>\n",
       "    <tr>\n",
       "      <th>2</th>\n",
       "      <td>1673670</td>\n",
       "      <td>1872697</td>\n",
       "      <td>before</td>\n",
       "      <td>55</td>\n",
       "      <td>-99</td>\n",
       "      <td>-9.9</td>\n",
       "    </tr>\n",
       "    <tr>\n",
       "      <th>3</th>\n",
       "      <td>1674758</td>\n",
       "      <td>1872697</td>\n",
       "      <td>before</td>\n",
       "      <td>84</td>\n",
       "      <td>-98</td>\n",
       "      <td>-9.8</td>\n",
       "    </tr>\n",
       "    <tr>\n",
       "      <th>4</th>\n",
       "      <td>1674960</td>\n",
       "      <td>1872697</td>\n",
       "      <td>before</td>\n",
       "      <td>84</td>\n",
       "      <td>-98</td>\n",
       "      <td>-9.8</td>\n",
       "    </tr>\n",
       "  </tbody>\n",
       "</table>\n",
       "</div>"
      ],
      "text/plain": [
       "   spike_time  tone_time before_or_after  neuron_id  bin_number  bin_time\n",
       "0     1672807    1872697          before         55         -99      -9.9\n",
       "1     1672849    1872697          before         55         -99      -9.9\n",
       "2     1673670    1872697          before         55         -99      -9.9\n",
       "3     1674758    1872697          before         84         -98      -9.8\n",
       "4     1674960    1872697          before         84         -98      -9.8"
      ]
     },
     "execution_count": 117,
     "metadata": {},
     "output_type": "execute_result"
    }
   ],
   "source": [
    "binned_spike_tone_time_df.head()"
   ]
  },
  {
   "cell_type": "code",
   "execution_count": 118,
   "id": "531fb00a",
   "metadata": {
    "scrolled": false
   },
   "outputs": [
    {
     "data": {
      "text/html": [
       "<div>\n",
       "<style scoped>\n",
       "    .dataframe tbody tr th:only-of-type {\n",
       "        vertical-align: middle;\n",
       "    }\n",
       "\n",
       "    .dataframe tbody tr th {\n",
       "        vertical-align: top;\n",
       "    }\n",
       "\n",
       "    .dataframe thead th {\n",
       "        text-align: right;\n",
       "    }\n",
       "</style>\n",
       "<table border=\"1\" class=\"dataframe\">\n",
       "  <thead>\n",
       "    <tr style=\"text-align: right;\">\n",
       "      <th></th>\n",
       "      <th>spike_time</th>\n",
       "      <th>tone_time</th>\n",
       "      <th>before_or_after</th>\n",
       "      <th>neuron_id</th>\n",
       "      <th>bin_number</th>\n",
       "      <th>bin_time</th>\n",
       "    </tr>\n",
       "  </thead>\n",
       "  <tbody>\n",
       "    <tr>\n",
       "      <th>24134</th>\n",
       "      <td>66301643</td>\n",
       "      <td>66104608</td>\n",
       "      <td>after</td>\n",
       "      <td>84</td>\n",
       "      <td>99</td>\n",
       "      <td>9.9</td>\n",
       "    </tr>\n",
       "    <tr>\n",
       "      <th>24135</th>\n",
       "      <td>66301993</td>\n",
       "      <td>66104608</td>\n",
       "      <td>after</td>\n",
       "      <td>29</td>\n",
       "      <td>99</td>\n",
       "      <td>9.9</td>\n",
       "    </tr>\n",
       "    <tr>\n",
       "      <th>24136</th>\n",
       "      <td>66302848</td>\n",
       "      <td>66104608</td>\n",
       "      <td>after</td>\n",
       "      <td>55</td>\n",
       "      <td>100</td>\n",
       "      <td>10.0</td>\n",
       "    </tr>\n",
       "    <tr>\n",
       "      <th>24137</th>\n",
       "      <td>66303260</td>\n",
       "      <td>66104608</td>\n",
       "      <td>after</td>\n",
       "      <td>84</td>\n",
       "      <td>100</td>\n",
       "      <td>10.0</td>\n",
       "    </tr>\n",
       "    <tr>\n",
       "      <th>24138</th>\n",
       "      <td>66303563</td>\n",
       "      <td>66104608</td>\n",
       "      <td>after</td>\n",
       "      <td>55</td>\n",
       "      <td>100</td>\n",
       "      <td>10.0</td>\n",
       "    </tr>\n",
       "  </tbody>\n",
       "</table>\n",
       "</div>"
      ],
      "text/plain": [
       "       spike_time  tone_time before_or_after  neuron_id  bin_number  bin_time\n",
       "24134    66301643   66104608           after         84          99       9.9\n",
       "24135    66301993   66104608           after         29          99       9.9\n",
       "24136    66302848   66104608           after         55         100      10.0\n",
       "24137    66303260   66104608           after         84         100      10.0\n",
       "24138    66303563   66104608           after         55         100      10.0"
      ]
     },
     "execution_count": 118,
     "metadata": {},
     "output_type": "execute_result"
    }
   ],
   "source": [
    "binned_spike_tone_time_df.tail()"
   ]
  },
  {
   "cell_type": "markdown",
   "id": "d0635ba4",
   "metadata": {},
   "source": [
    "## Calculating Firing Rate"
   ]
  },
  {
   "cell_type": "markdown",
   "id": "56b41276",
   "metadata": {},
   "source": [
    "- Getting the count of each neuron that fired during the tone interval grouped by the neuron's ID"
   ]
  },
  {
   "cell_type": "code",
   "execution_count": 119,
   "id": "6fd2153b",
   "metadata": {
    "scrolled": true
   },
   "outputs": [],
   "source": [
    "binned_spike_fire_count_df = binned_spike_tone_time_df.drop(columns=[\"before_or_after\", \"bin_number\"]).groupby([\"tone_time\", \"bin_time\", \"neuron_id\"]).count().unstack(fill_value=0).stack().reset_index().rename(columns={\"spike_time\": \"fired_spike_count\"})"
   ]
  },
  {
   "cell_type": "code",
   "execution_count": 120,
   "id": "a92a5003",
   "metadata": {},
   "outputs": [
    {
     "data": {
      "text/html": [
       "<div>\n",
       "<style scoped>\n",
       "    .dataframe tbody tr th:only-of-type {\n",
       "        vertical-align: middle;\n",
       "    }\n",
       "\n",
       "    .dataframe tbody tr th {\n",
       "        vertical-align: top;\n",
       "    }\n",
       "\n",
       "    .dataframe thead th {\n",
       "        text-align: right;\n",
       "    }\n",
       "</style>\n",
       "<table border=\"1\" class=\"dataframe\">\n",
       "  <thead>\n",
       "    <tr style=\"text-align: right;\">\n",
       "      <th></th>\n",
       "      <th>tone_time</th>\n",
       "      <th>bin_time</th>\n",
       "      <th>neuron_id</th>\n",
       "      <th>fired_spike_count</th>\n",
       "    </tr>\n",
       "  </thead>\n",
       "  <tbody>\n",
       "    <tr>\n",
       "      <th>0</th>\n",
       "      <td>1872697</td>\n",
       "      <td>-9.9</td>\n",
       "      <td>19</td>\n",
       "      <td>0</td>\n",
       "    </tr>\n",
       "    <tr>\n",
       "      <th>1</th>\n",
       "      <td>1872697</td>\n",
       "      <td>-9.9</td>\n",
       "      <td>29</td>\n",
       "      <td>0</td>\n",
       "    </tr>\n",
       "    <tr>\n",
       "      <th>2</th>\n",
       "      <td>1872697</td>\n",
       "      <td>-9.9</td>\n",
       "      <td>30</td>\n",
       "      <td>0</td>\n",
       "    </tr>\n",
       "    <tr>\n",
       "      <th>3</th>\n",
       "      <td>1872697</td>\n",
       "      <td>-9.9</td>\n",
       "      <td>39</td>\n",
       "      <td>0</td>\n",
       "    </tr>\n",
       "    <tr>\n",
       "      <th>4</th>\n",
       "      <td>1872697</td>\n",
       "      <td>-9.9</td>\n",
       "      <td>55</td>\n",
       "      <td>3</td>\n",
       "    </tr>\n",
       "  </tbody>\n",
       "</table>\n",
       "</div>"
      ],
      "text/plain": [
       "   tone_time  bin_time  neuron_id  fired_spike_count\n",
       "0    1872697      -9.9         19                  0\n",
       "1    1872697      -9.9         29                  0\n",
       "2    1872697      -9.9         30                  0\n",
       "3    1872697      -9.9         39                  0\n",
       "4    1872697      -9.9         55                  3"
      ]
     },
     "execution_count": 120,
     "metadata": {},
     "output_type": "execute_result"
    }
   ],
   "source": [
    "binned_spike_fire_count_df.head()"
   ]
  },
  {
   "cell_type": "code",
   "execution_count": 121,
   "id": "40bd18e9",
   "metadata": {},
   "outputs": [
    {
     "data": {
      "text/html": [
       "<div>\n",
       "<style scoped>\n",
       "    .dataframe tbody tr th:only-of-type {\n",
       "        vertical-align: middle;\n",
       "    }\n",
       "\n",
       "    .dataframe tbody tr th {\n",
       "        vertical-align: top;\n",
       "    }\n",
       "\n",
       "    .dataframe thead th {\n",
       "        text-align: right;\n",
       "    }\n",
       "</style>\n",
       "<table border=\"1\" class=\"dataframe\">\n",
       "  <thead>\n",
       "    <tr style=\"text-align: right;\">\n",
       "      <th></th>\n",
       "      <th>tone_time</th>\n",
       "      <th>bin_time</th>\n",
       "      <th>neuron_id</th>\n",
       "      <th>fired_spike_count</th>\n",
       "    </tr>\n",
       "  </thead>\n",
       "  <tbody>\n",
       "    <tr>\n",
       "      <th>47123</th>\n",
       "      <td>66104608</td>\n",
       "      <td>10.0</td>\n",
       "      <td>39</td>\n",
       "      <td>0</td>\n",
       "    </tr>\n",
       "    <tr>\n",
       "      <th>47124</th>\n",
       "      <td>66104608</td>\n",
       "      <td>10.0</td>\n",
       "      <td>55</td>\n",
       "      <td>2</td>\n",
       "    </tr>\n",
       "    <tr>\n",
       "      <th>47125</th>\n",
       "      <td>66104608</td>\n",
       "      <td>10.0</td>\n",
       "      <td>84</td>\n",
       "      <td>1</td>\n",
       "    </tr>\n",
       "    <tr>\n",
       "      <th>47126</th>\n",
       "      <td>66104608</td>\n",
       "      <td>10.0</td>\n",
       "      <td>192</td>\n",
       "      <td>0</td>\n",
       "    </tr>\n",
       "    <tr>\n",
       "      <th>47127</th>\n",
       "      <td>66104608</td>\n",
       "      <td>10.0</td>\n",
       "      <td>230</td>\n",
       "      <td>0</td>\n",
       "    </tr>\n",
       "  </tbody>\n",
       "</table>\n",
       "</div>"
      ],
      "text/plain": [
       "       tone_time  bin_time  neuron_id  fired_spike_count\n",
       "47123   66104608      10.0         39                  0\n",
       "47124   66104608      10.0         55                  2\n",
       "47125   66104608      10.0         84                  1\n",
       "47126   66104608      10.0        192                  0\n",
       "47127   66104608      10.0        230                  0"
      ]
     },
     "execution_count": 121,
     "metadata": {},
     "output_type": "execute_result"
    }
   ],
   "source": [
    "binned_spike_fire_count_df.tail()"
   ]
  },
  {
   "cell_type": "markdown",
   "id": "85ef486a",
   "metadata": {},
   "source": [
    "## Categorizing Rewarded vs Omitted for Training"
   ]
  },
  {
   "cell_type": "code",
   "execution_count": 122,
   "id": "527433ba",
   "metadata": {},
   "outputs": [],
   "source": [
    "binned_spike_fire_count_df[\"trial_type\"] = binned_spike_fire_count_df[\"tone_time\"].map(tone_timestamp_to_trial_type)"
   ]
  },
  {
   "cell_type": "code",
   "execution_count": 123,
   "id": "9ad55987",
   "metadata": {},
   "outputs": [
    {
     "data": {
      "text/html": [
       "<div>\n",
       "<style scoped>\n",
       "    .dataframe tbody tr th:only-of-type {\n",
       "        vertical-align: middle;\n",
       "    }\n",
       "\n",
       "    .dataframe tbody tr th {\n",
       "        vertical-align: top;\n",
       "    }\n",
       "\n",
       "    .dataframe thead th {\n",
       "        text-align: right;\n",
       "    }\n",
       "</style>\n",
       "<table border=\"1\" class=\"dataframe\">\n",
       "  <thead>\n",
       "    <tr style=\"text-align: right;\">\n",
       "      <th></th>\n",
       "      <th>tone_time</th>\n",
       "      <th>bin_time</th>\n",
       "      <th>neuron_id</th>\n",
       "      <th>fired_spike_count</th>\n",
       "      <th>trial_type</th>\n",
       "    </tr>\n",
       "  </thead>\n",
       "  <tbody>\n",
       "    <tr>\n",
       "      <th>0</th>\n",
       "      <td>1872697</td>\n",
       "      <td>-9.9</td>\n",
       "      <td>19</td>\n",
       "      <td>0</td>\n",
       "      <td>loss</td>\n",
       "    </tr>\n",
       "    <tr>\n",
       "      <th>1</th>\n",
       "      <td>1872697</td>\n",
       "      <td>-9.9</td>\n",
       "      <td>29</td>\n",
       "      <td>0</td>\n",
       "      <td>loss</td>\n",
       "    </tr>\n",
       "    <tr>\n",
       "      <th>2</th>\n",
       "      <td>1872697</td>\n",
       "      <td>-9.9</td>\n",
       "      <td>30</td>\n",
       "      <td>0</td>\n",
       "      <td>loss</td>\n",
       "    </tr>\n",
       "    <tr>\n",
       "      <th>3</th>\n",
       "      <td>1872697</td>\n",
       "      <td>-9.9</td>\n",
       "      <td>39</td>\n",
       "      <td>0</td>\n",
       "      <td>loss</td>\n",
       "    </tr>\n",
       "    <tr>\n",
       "      <th>4</th>\n",
       "      <td>1872697</td>\n",
       "      <td>-9.9</td>\n",
       "      <td>55</td>\n",
       "      <td>3</td>\n",
       "      <td>loss</td>\n",
       "    </tr>\n",
       "  </tbody>\n",
       "</table>\n",
       "</div>"
      ],
      "text/plain": [
       "   tone_time  bin_time  neuron_id  fired_spike_count trial_type\n",
       "0    1872697      -9.9         19                  0       loss\n",
       "1    1872697      -9.9         29                  0       loss\n",
       "2    1872697      -9.9         30                  0       loss\n",
       "3    1872697      -9.9         39                  0       loss\n",
       "4    1872697      -9.9         55                  3       loss"
      ]
     },
     "execution_count": 123,
     "metadata": {},
     "output_type": "execute_result"
    }
   ],
   "source": [
    "binned_spike_fire_count_df.head()"
   ]
  },
  {
   "cell_type": "code",
   "execution_count": 124,
   "id": "16228f47",
   "metadata": {},
   "outputs": [
    {
     "data": {
      "text/html": [
       "<div>\n",
       "<style scoped>\n",
       "    .dataframe tbody tr th:only-of-type {\n",
       "        vertical-align: middle;\n",
       "    }\n",
       "\n",
       "    .dataframe tbody tr th {\n",
       "        vertical-align: top;\n",
       "    }\n",
       "\n",
       "    .dataframe thead th {\n",
       "        text-align: right;\n",
       "    }\n",
       "</style>\n",
       "<table border=\"1\" class=\"dataframe\">\n",
       "  <thead>\n",
       "    <tr style=\"text-align: right;\">\n",
       "      <th></th>\n",
       "      <th>tone_time</th>\n",
       "      <th>bin_time</th>\n",
       "      <th>neuron_id</th>\n",
       "      <th>fired_spike_count</th>\n",
       "      <th>trial_type</th>\n",
       "    </tr>\n",
       "  </thead>\n",
       "  <tbody>\n",
       "    <tr>\n",
       "      <th>47123</th>\n",
       "      <td>66104608</td>\n",
       "      <td>10.0</td>\n",
       "      <td>39</td>\n",
       "      <td>0</td>\n",
       "      <td>rewarded</td>\n",
       "    </tr>\n",
       "    <tr>\n",
       "      <th>47124</th>\n",
       "      <td>66104608</td>\n",
       "      <td>10.0</td>\n",
       "      <td>55</td>\n",
       "      <td>2</td>\n",
       "      <td>rewarded</td>\n",
       "    </tr>\n",
       "    <tr>\n",
       "      <th>47125</th>\n",
       "      <td>66104608</td>\n",
       "      <td>10.0</td>\n",
       "      <td>84</td>\n",
       "      <td>1</td>\n",
       "      <td>rewarded</td>\n",
       "    </tr>\n",
       "    <tr>\n",
       "      <th>47126</th>\n",
       "      <td>66104608</td>\n",
       "      <td>10.0</td>\n",
       "      <td>192</td>\n",
       "      <td>0</td>\n",
       "      <td>rewarded</td>\n",
       "    </tr>\n",
       "    <tr>\n",
       "      <th>47127</th>\n",
       "      <td>66104608</td>\n",
       "      <td>10.0</td>\n",
       "      <td>230</td>\n",
       "      <td>0</td>\n",
       "      <td>rewarded</td>\n",
       "    </tr>\n",
       "  </tbody>\n",
       "</table>\n",
       "</div>"
      ],
      "text/plain": [
       "       tone_time  bin_time  neuron_id  fired_spike_count trial_type\n",
       "47123   66104608      10.0         39                  0   rewarded\n",
       "47124   66104608      10.0         55                  2   rewarded\n",
       "47125   66104608      10.0         84                  1   rewarded\n",
       "47126   66104608      10.0        192                  0   rewarded\n",
       "47127   66104608      10.0        230                  0   rewarded"
      ]
     },
     "execution_count": 124,
     "metadata": {},
     "output_type": "execute_result"
    }
   ],
   "source": [
    "binned_spike_fire_count_df.tail()"
   ]
  },
  {
   "cell_type": "markdown",
   "id": "20d6e1a7",
   "metadata": {},
   "source": [
    "## Calculate average firing rate for each neuron in each bin"
   ]
  },
  {
   "cell_type": "markdown",
   "id": "7efab01a",
   "metadata": {},
   "source": [
    "- We will be averaging using the bin number, because we are curious about how the firing rate changes 10 seconds before and after at each 100ms bin(averaging across sessions)\n",
    "    - And we will be averaging across trials that have the same trial type"
   ]
  },
  {
   "cell_type": "markdown",
   "id": "75df2449",
   "metadata": {},
   "source": [
    "- Neurons in rows\n",
    "- Mean firing rate per bin"
   ]
  },
  {
   "cell_type": "code",
   "execution_count": 125,
   "id": "397167bd",
   "metadata": {
    "scrolled": true
   },
   "outputs": [],
   "source": [
    "averaged_firing_rate_df = binned_spike_fire_count_df.drop(columns=[\"tone_time\"]).groupby(['neuron_id', 'bin_time', 'trial_type']).mean().reset_index()"
   ]
  },
  {
   "cell_type": "code",
   "execution_count": 126,
   "id": "52cacc1c",
   "metadata": {},
   "outputs": [
    {
     "data": {
      "text/html": [
       "<div>\n",
       "<style scoped>\n",
       "    .dataframe tbody tr th:only-of-type {\n",
       "        vertical-align: middle;\n",
       "    }\n",
       "\n",
       "    .dataframe tbody tr th {\n",
       "        vertical-align: top;\n",
       "    }\n",
       "\n",
       "    .dataframe thead th {\n",
       "        text-align: right;\n",
       "    }\n",
       "</style>\n",
       "<table border=\"1\" class=\"dataframe\">\n",
       "  <thead>\n",
       "    <tr style=\"text-align: right;\">\n",
       "      <th></th>\n",
       "      <th>neuron_id</th>\n",
       "      <th>bin_time</th>\n",
       "      <th>trial_type</th>\n",
       "      <th>fired_spike_count</th>\n",
       "    </tr>\n",
       "  </thead>\n",
       "  <tbody>\n",
       "    <tr>\n",
       "      <th>0</th>\n",
       "      <td>19</td>\n",
       "      <td>-10.0</td>\n",
       "      <td>loss</td>\n",
       "      <td>0.000000</td>\n",
       "    </tr>\n",
       "    <tr>\n",
       "      <th>1</th>\n",
       "      <td>19</td>\n",
       "      <td>-9.9</td>\n",
       "      <td>loss</td>\n",
       "      <td>0.111111</td>\n",
       "    </tr>\n",
       "    <tr>\n",
       "      <th>2</th>\n",
       "      <td>19</td>\n",
       "      <td>-9.9</td>\n",
       "      <td>omission</td>\n",
       "      <td>0.666667</td>\n",
       "    </tr>\n",
       "    <tr>\n",
       "      <th>3</th>\n",
       "      <td>19</td>\n",
       "      <td>-9.9</td>\n",
       "      <td>rewarded</td>\n",
       "      <td>0.200000</td>\n",
       "    </tr>\n",
       "    <tr>\n",
       "      <th>4</th>\n",
       "      <td>19</td>\n",
       "      <td>-9.9</td>\n",
       "      <td>win</td>\n",
       "      <td>0.000000</td>\n",
       "    </tr>\n",
       "    <tr>\n",
       "      <th>...</th>\n",
       "      <td>...</td>\n",
       "      <td>...</td>\n",
       "      <td>...</td>\n",
       "      <td>...</td>\n",
       "    </tr>\n",
       "    <tr>\n",
       "      <th>6115</th>\n",
       "      <td>230</td>\n",
       "      <td>9.9</td>\n",
       "      <td>win</td>\n",
       "      <td>0.000000</td>\n",
       "    </tr>\n",
       "    <tr>\n",
       "      <th>6116</th>\n",
       "      <td>230</td>\n",
       "      <td>10.0</td>\n",
       "      <td>loss</td>\n",
       "      <td>0.111111</td>\n",
       "    </tr>\n",
       "    <tr>\n",
       "      <th>6117</th>\n",
       "      <td>230</td>\n",
       "      <td>10.0</td>\n",
       "      <td>omission</td>\n",
       "      <td>0.333333</td>\n",
       "    </tr>\n",
       "    <tr>\n",
       "      <th>6118</th>\n",
       "      <td>230</td>\n",
       "      <td>10.0</td>\n",
       "      <td>rewarded</td>\n",
       "      <td>0.000000</td>\n",
       "    </tr>\n",
       "    <tr>\n",
       "      <th>6119</th>\n",
       "      <td>230</td>\n",
       "      <td>10.0</td>\n",
       "      <td>win</td>\n",
       "      <td>0.000000</td>\n",
       "    </tr>\n",
       "  </tbody>\n",
       "</table>\n",
       "<p>6120 rows × 4 columns</p>\n",
       "</div>"
      ],
      "text/plain": [
       "      neuron_id  bin_time trial_type  fired_spike_count\n",
       "0            19     -10.0       loss           0.000000\n",
       "1            19      -9.9       loss           0.111111\n",
       "2            19      -9.9   omission           0.666667\n",
       "3            19      -9.9   rewarded           0.200000\n",
       "4            19      -9.9        win           0.000000\n",
       "...         ...       ...        ...                ...\n",
       "6115        230       9.9        win           0.000000\n",
       "6116        230      10.0       loss           0.111111\n",
       "6117        230      10.0   omission           0.333333\n",
       "6118        230      10.0   rewarded           0.000000\n",
       "6119        230      10.0        win           0.000000\n",
       "\n",
       "[6120 rows x 4 columns]"
      ]
     },
     "execution_count": 126,
     "metadata": {},
     "output_type": "execute_result"
    }
   ],
   "source": [
    "averaged_firing_rate_df"
   ]
  },
  {
   "cell_type": "code",
   "execution_count": 127,
   "id": "f816290f",
   "metadata": {},
   "outputs": [],
   "source": [
    "pivoted_averaged_firing_rate_df = averaged_firing_rate_df.pivot_table(values='fired_spike_count', columns=['bin_time', 'trial_type'], index=[\"neuron_id\"])"
   ]
  },
  {
   "cell_type": "code",
   "execution_count": 128,
   "id": "6e2230ea",
   "metadata": {
    "scrolled": true
   },
   "outputs": [
    {
     "data": {
      "text/html": [
       "<div>\n",
       "<style scoped>\n",
       "    .dataframe tbody tr th:only-of-type {\n",
       "        vertical-align: middle;\n",
       "    }\n",
       "\n",
       "    .dataframe tbody tr th {\n",
       "        vertical-align: top;\n",
       "    }\n",
       "\n",
       "    .dataframe thead tr th {\n",
       "        text-align: left;\n",
       "    }\n",
       "\n",
       "    .dataframe thead tr:last-of-type th {\n",
       "        text-align: right;\n",
       "    }\n",
       "</style>\n",
       "<table border=\"1\" class=\"dataframe\">\n",
       "  <thead>\n",
       "    <tr>\n",
       "      <th>bin_time</th>\n",
       "      <th>-10.0</th>\n",
       "      <th colspan=\"4\" halign=\"left\">-9.9</th>\n",
       "      <th colspan=\"4\" halign=\"left\">-9.8</th>\n",
       "      <th>-9.7</th>\n",
       "      <th>...</th>\n",
       "      <th colspan=\"2\" halign=\"left\">9.8</th>\n",
       "      <th colspan=\"4\" halign=\"left\">9.9</th>\n",
       "      <th colspan=\"4\" halign=\"left\">10.0</th>\n",
       "    </tr>\n",
       "    <tr>\n",
       "      <th>trial_type</th>\n",
       "      <th>loss</th>\n",
       "      <th>loss</th>\n",
       "      <th>omission</th>\n",
       "      <th>rewarded</th>\n",
       "      <th>win</th>\n",
       "      <th>loss</th>\n",
       "      <th>omission</th>\n",
       "      <th>rewarded</th>\n",
       "      <th>win</th>\n",
       "      <th>loss</th>\n",
       "      <th>...</th>\n",
       "      <th>omission</th>\n",
       "      <th>rewarded</th>\n",
       "      <th>loss</th>\n",
       "      <th>omission</th>\n",
       "      <th>rewarded</th>\n",
       "      <th>win</th>\n",
       "      <th>loss</th>\n",
       "      <th>omission</th>\n",
       "      <th>rewarded</th>\n",
       "      <th>win</th>\n",
       "    </tr>\n",
       "    <tr>\n",
       "      <th>neuron_id</th>\n",
       "      <th></th>\n",
       "      <th></th>\n",
       "      <th></th>\n",
       "      <th></th>\n",
       "      <th></th>\n",
       "      <th></th>\n",
       "      <th></th>\n",
       "      <th></th>\n",
       "      <th></th>\n",
       "      <th></th>\n",
       "      <th></th>\n",
       "      <th></th>\n",
       "      <th></th>\n",
       "      <th></th>\n",
       "      <th></th>\n",
       "      <th></th>\n",
       "      <th></th>\n",
       "      <th></th>\n",
       "      <th></th>\n",
       "      <th></th>\n",
       "      <th></th>\n",
       "    </tr>\n",
       "  </thead>\n",
       "  <tbody>\n",
       "    <tr>\n",
       "      <th>19</th>\n",
       "      <td>0.0</td>\n",
       "      <td>0.111111</td>\n",
       "      <td>0.666667</td>\n",
       "      <td>0.2</td>\n",
       "      <td>0.0</td>\n",
       "      <td>0.055556</td>\n",
       "      <td>1.333333</td>\n",
       "      <td>0.6</td>\n",
       "      <td>0.0</td>\n",
       "      <td>0.111111</td>\n",
       "      <td>...</td>\n",
       "      <td>0.666667</td>\n",
       "      <td>0.000</td>\n",
       "      <td>0.222222</td>\n",
       "      <td>0.333333</td>\n",
       "      <td>0.0</td>\n",
       "      <td>0.0</td>\n",
       "      <td>0.166667</td>\n",
       "      <td>0.000000</td>\n",
       "      <td>0.000</td>\n",
       "      <td>0.0</td>\n",
       "    </tr>\n",
       "    <tr>\n",
       "      <th>29</th>\n",
       "      <td>0.0</td>\n",
       "      <td>0.111111</td>\n",
       "      <td>0.000000</td>\n",
       "      <td>0.1</td>\n",
       "      <td>0.0</td>\n",
       "      <td>0.166667</td>\n",
       "      <td>0.000000</td>\n",
       "      <td>0.1</td>\n",
       "      <td>0.0</td>\n",
       "      <td>0.166667</td>\n",
       "      <td>...</td>\n",
       "      <td>0.000000</td>\n",
       "      <td>0.125</td>\n",
       "      <td>0.166667</td>\n",
       "      <td>0.000000</td>\n",
       "      <td>0.2</td>\n",
       "      <td>0.0</td>\n",
       "      <td>0.222222</td>\n",
       "      <td>0.333333</td>\n",
       "      <td>0.000</td>\n",
       "      <td>0.0</td>\n",
       "    </tr>\n",
       "    <tr>\n",
       "      <th>30</th>\n",
       "      <td>0.0</td>\n",
       "      <td>0.222222</td>\n",
       "      <td>0.666667</td>\n",
       "      <td>0.1</td>\n",
       "      <td>1.0</td>\n",
       "      <td>0.111111</td>\n",
       "      <td>0.000000</td>\n",
       "      <td>0.1</td>\n",
       "      <td>0.0</td>\n",
       "      <td>0.111111</td>\n",
       "      <td>...</td>\n",
       "      <td>0.666667</td>\n",
       "      <td>0.000</td>\n",
       "      <td>0.388889</td>\n",
       "      <td>0.000000</td>\n",
       "      <td>0.3</td>\n",
       "      <td>1.0</td>\n",
       "      <td>0.388889</td>\n",
       "      <td>0.000000</td>\n",
       "      <td>0.000</td>\n",
       "      <td>0.0</td>\n",
       "    </tr>\n",
       "    <tr>\n",
       "      <th>39</th>\n",
       "      <td>0.0</td>\n",
       "      <td>0.111111</td>\n",
       "      <td>0.333333</td>\n",
       "      <td>0.0</td>\n",
       "      <td>0.0</td>\n",
       "      <td>0.333333</td>\n",
       "      <td>0.666667</td>\n",
       "      <td>0.1</td>\n",
       "      <td>0.0</td>\n",
       "      <td>0.111111</td>\n",
       "      <td>...</td>\n",
       "      <td>0.000000</td>\n",
       "      <td>0.250</td>\n",
       "      <td>0.111111</td>\n",
       "      <td>0.333333</td>\n",
       "      <td>0.0</td>\n",
       "      <td>0.0</td>\n",
       "      <td>0.277778</td>\n",
       "      <td>0.333333</td>\n",
       "      <td>0.000</td>\n",
       "      <td>0.0</td>\n",
       "    </tr>\n",
       "    <tr>\n",
       "      <th>55</th>\n",
       "      <td>1.0</td>\n",
       "      <td>2.277778</td>\n",
       "      <td>3.333333</td>\n",
       "      <td>1.6</td>\n",
       "      <td>1.0</td>\n",
       "      <td>2.555556</td>\n",
       "      <td>1.666667</td>\n",
       "      <td>1.6</td>\n",
       "      <td>7.0</td>\n",
       "      <td>2.388889</td>\n",
       "      <td>...</td>\n",
       "      <td>1.333333</td>\n",
       "      <td>1.250</td>\n",
       "      <td>2.166667</td>\n",
       "      <td>1.666667</td>\n",
       "      <td>1.2</td>\n",
       "      <td>1.0</td>\n",
       "      <td>2.111111</td>\n",
       "      <td>1.000000</td>\n",
       "      <td>1.125</td>\n",
       "      <td>1.0</td>\n",
       "    </tr>\n",
       "  </tbody>\n",
       "</table>\n",
       "<p>5 rows × 765 columns</p>\n",
       "</div>"
      ],
      "text/plain": [
       "bin_time   -10.0     -9.9                              -9.8             \\\n",
       "trial_type  loss      loss  omission rewarded  win      loss  omission   \n",
       "neuron_id                                                                \n",
       "19           0.0  0.111111  0.666667      0.2  0.0  0.055556  1.333333   \n",
       "29           0.0  0.111111  0.000000      0.1  0.0  0.166667  0.000000   \n",
       "30           0.0  0.222222  0.666667      0.1  1.0  0.111111  0.000000   \n",
       "39           0.0  0.111111  0.333333      0.0  0.0  0.333333  0.666667   \n",
       "55           1.0  2.277778  3.333333      1.6  1.0  2.555556  1.666667   \n",
       "\n",
       "bin_time                     -9.7   ...      9.8                9.9   \\\n",
       "trial_type rewarded  win      loss  ...  omission rewarded      loss   \n",
       "neuron_id                           ...                                \n",
       "19              0.6  0.0  0.111111  ...  0.666667    0.000  0.222222   \n",
       "29              0.1  0.0  0.166667  ...  0.000000    0.125  0.166667   \n",
       "30              0.1  0.0  0.111111  ...  0.666667    0.000  0.388889   \n",
       "39              0.1  0.0  0.111111  ...  0.000000    0.250  0.111111   \n",
       "55              1.6  7.0  2.388889  ...  1.333333    1.250  2.166667   \n",
       "\n",
       "bin_time                                10.0                          \n",
       "trial_type  omission rewarded  win      loss  omission rewarded  win  \n",
       "neuron_id                                                             \n",
       "19          0.333333      0.0  0.0  0.166667  0.000000    0.000  0.0  \n",
       "29          0.000000      0.2  0.0  0.222222  0.333333    0.000  0.0  \n",
       "30          0.000000      0.3  1.0  0.388889  0.000000    0.000  0.0  \n",
       "39          0.333333      0.0  0.0  0.277778  0.333333    0.000  0.0  \n",
       "55          1.666667      1.2  1.0  2.111111  1.000000    1.125  1.0  \n",
       "\n",
       "[5 rows x 765 columns]"
      ]
     },
     "execution_count": 128,
     "metadata": {},
     "output_type": "execute_result"
    }
   ],
   "source": [
    "pivoted_averaged_firing_rate_df.head()"
   ]
  },
  {
   "cell_type": "markdown",
   "id": "3315d6e9",
   "metadata": {},
   "source": [
    "- Removing all the columns that don't have firing rate info\n",
    "    - AKA the index and the tone time"
   ]
  },
  {
   "cell_type": "code",
   "execution_count": 129,
   "id": "c8aac2b6",
   "metadata": {},
   "outputs": [],
   "source": [
    "resetted_averaged_firing_rate_array = pivoted_averaged_firing_rate_df.values"
   ]
  },
  {
   "cell_type": "code",
   "execution_count": 130,
   "id": "20847fbe",
   "metadata": {},
   "outputs": [
    {
     "data": {
      "text/plain": [
       "array([[0.        , 0.11111111, 0.66666667, ..., 0.        , 0.        ,\n",
       "        0.        ],\n",
       "       [0.        , 0.11111111, 0.        , ..., 0.33333333, 0.        ,\n",
       "        0.        ],\n",
       "       [0.        , 0.22222222, 0.66666667, ..., 0.        , 0.        ,\n",
       "        0.        ],\n",
       "       [0.        , 0.11111111, 0.33333333, ..., 0.33333333, 0.        ,\n",
       "        0.        ],\n",
       "       [1.        , 2.27777778, 3.33333333, ..., 1.        , 1.125     ,\n",
       "        1.        ]])"
      ]
     },
     "execution_count": 130,
     "metadata": {},
     "output_type": "execute_result"
    }
   ],
   "source": [
    "resetted_averaged_firing_rate_array[:5]"
   ]
  },
  {
   "cell_type": "markdown",
   "id": "d2b938cb",
   "metadata": {},
   "source": [
    "# PCA with Neuron Rows"
   ]
  },
  {
   "cell_type": "markdown",
   "id": "fea4fe17",
   "metadata": {},
   "source": [
    "## Standarizing the Data"
   ]
  },
  {
   "cell_type": "code",
   "execution_count": 131,
   "id": "2285ba5f",
   "metadata": {},
   "outputs": [],
   "source": [
    "from sklearn.preprocessing import StandardScaler"
   ]
  },
  {
   "cell_type": "code",
   "execution_count": 132,
   "id": "6845205b",
   "metadata": {
    "scrolled": true
   },
   "outputs": [],
   "source": [
    "# Separating out the features\n",
    "x = resetted_averaged_firing_rate_array#.loc[:].values# Separating out the target\n",
    "resetted_averaged_firing_rate_array = StandardScaler().fit_transform(x)"
   ]
  },
  {
   "cell_type": "markdown",
   "id": "7562c655",
   "metadata": {},
   "source": [
    "## Calculating the PCA"
   ]
  },
  {
   "cell_type": "code",
   "execution_count": 133,
   "id": "9bbae768",
   "metadata": {},
   "outputs": [],
   "source": [
    "from sklearn.decomposition import PCA\n"
   ]
  },
  {
   "cell_type": "markdown",
   "id": "95098c17",
   "metadata": {},
   "source": [
    "- Getting the PC Coeffecients"
   ]
  },
  {
   "cell_type": "code",
   "execution_count": 134,
   "id": "4e915d3f",
   "metadata": {},
   "outputs": [],
   "source": [
    "pca = PCA(n_components=2)\n",
    "principalComponents = pca.fit_transform(resetted_averaged_firing_rate_array)\n",
    "principal_df = pd.DataFrame(data = principalComponents\n",
    "             , columns = ['principal component 1', 'principal component 2'])"
   ]
  },
  {
   "cell_type": "code",
   "execution_count": 135,
   "id": "ca09a5cb",
   "metadata": {},
   "outputs": [
    {
     "data": {
      "text/html": [
       "<div>\n",
       "<style scoped>\n",
       "    .dataframe tbody tr th:only-of-type {\n",
       "        vertical-align: middle;\n",
       "    }\n",
       "\n",
       "    .dataframe tbody tr th {\n",
       "        vertical-align: top;\n",
       "    }\n",
       "\n",
       "    .dataframe thead th {\n",
       "        text-align: right;\n",
       "    }\n",
       "</style>\n",
       "<table border=\"1\" class=\"dataframe\">\n",
       "  <thead>\n",
       "    <tr style=\"text-align: right;\">\n",
       "      <th></th>\n",
       "      <th>principal component 1</th>\n",
       "      <th>principal component 2</th>\n",
       "    </tr>\n",
       "  </thead>\n",
       "  <tbody>\n",
       "    <tr>\n",
       "      <th>0</th>\n",
       "      <td>-4.966595</td>\n",
       "      <td>-3.416925</td>\n",
       "    </tr>\n",
       "    <tr>\n",
       "      <th>1</th>\n",
       "      <td>-15.621870</td>\n",
       "      <td>-1.848693</td>\n",
       "    </tr>\n",
       "    <tr>\n",
       "      <th>2</th>\n",
       "      <td>-12.228816</td>\n",
       "      <td>-0.189717</td>\n",
       "    </tr>\n",
       "    <tr>\n",
       "      <th>3</th>\n",
       "      <td>-14.471836</td>\n",
       "      <td>-2.225115</td>\n",
       "    </tr>\n",
       "    <tr>\n",
       "      <th>4</th>\n",
       "      <td>54.236477</td>\n",
       "      <td>-13.680717</td>\n",
       "    </tr>\n",
       "  </tbody>\n",
       "</table>\n",
       "</div>"
      ],
      "text/plain": [
       "   principal component 1  principal component 2\n",
       "0              -4.966595              -3.416925\n",
       "1             -15.621870              -1.848693\n",
       "2             -12.228816              -0.189717\n",
       "3             -14.471836              -2.225115\n",
       "4              54.236477             -13.680717"
      ]
     },
     "execution_count": 135,
     "metadata": {},
     "output_type": "execute_result"
    }
   ],
   "source": [
    "principal_df.head()"
   ]
  },
  {
   "cell_type": "code",
   "execution_count": 136,
   "id": "4a9d314d",
   "metadata": {
    "scrolled": true
   },
   "outputs": [
    {
     "data": {
      "text/plain": [
       "0    -4.966595\n",
       "1   -15.621870\n",
       "2   -12.228816\n",
       "3   -14.471836\n",
       "4    54.236477\n",
       "5    25.175781\n",
       "6   -15.819365\n",
       "7   -16.303776\n",
       "Name: principal component 1, dtype: float64"
      ]
     },
     "execution_count": 136,
     "metadata": {},
     "output_type": "execute_result"
    }
   ],
   "source": [
    "principal_df[\"principal component 1\"]"
   ]
  },
  {
   "cell_type": "code",
   "execution_count": 137,
   "id": "bb5f8e36",
   "metadata": {},
   "outputs": [],
   "source": [
    "pc1_product = pivoted_averaged_firing_rate_df.reset_index(drop=True).multiply(principal_df[\"principal component 1\"], axis=\"index\")"
   ]
  },
  {
   "cell_type": "code",
   "execution_count": 138,
   "id": "f5a542dc",
   "metadata": {},
   "outputs": [
    {
     "data": {
      "text/html": [
       "<div>\n",
       "<style scoped>\n",
       "    .dataframe tbody tr th:only-of-type {\n",
       "        vertical-align: middle;\n",
       "    }\n",
       "\n",
       "    .dataframe tbody tr th {\n",
       "        vertical-align: top;\n",
       "    }\n",
       "\n",
       "    .dataframe thead tr th {\n",
       "        text-align: left;\n",
       "    }\n",
       "</style>\n",
       "<table border=\"1\" class=\"dataframe\">\n",
       "  <thead>\n",
       "    <tr>\n",
       "      <th>bin_time</th>\n",
       "      <th>-10.0</th>\n",
       "      <th colspan=\"4\" halign=\"left\">-9.9</th>\n",
       "      <th colspan=\"4\" halign=\"left\">-9.8</th>\n",
       "      <th>-9.7</th>\n",
       "      <th>...</th>\n",
       "      <th colspan=\"2\" halign=\"left\">9.8</th>\n",
       "      <th colspan=\"4\" halign=\"left\">9.9</th>\n",
       "      <th colspan=\"4\" halign=\"left\">10.0</th>\n",
       "    </tr>\n",
       "    <tr>\n",
       "      <th>trial_type</th>\n",
       "      <th>loss</th>\n",
       "      <th>loss</th>\n",
       "      <th>omission</th>\n",
       "      <th>rewarded</th>\n",
       "      <th>win</th>\n",
       "      <th>loss</th>\n",
       "      <th>omission</th>\n",
       "      <th>rewarded</th>\n",
       "      <th>win</th>\n",
       "      <th>loss</th>\n",
       "      <th>...</th>\n",
       "      <th>omission</th>\n",
       "      <th>rewarded</th>\n",
       "      <th>loss</th>\n",
       "      <th>omission</th>\n",
       "      <th>rewarded</th>\n",
       "      <th>win</th>\n",
       "      <th>loss</th>\n",
       "      <th>omission</th>\n",
       "      <th>rewarded</th>\n",
       "      <th>win</th>\n",
       "    </tr>\n",
       "  </thead>\n",
       "  <tbody>\n",
       "    <tr>\n",
       "      <th>0</th>\n",
       "      <td>-0.000000</td>\n",
       "      <td>-0.551844</td>\n",
       "      <td>-3.311064</td>\n",
       "      <td>-0.993319</td>\n",
       "      <td>-0.000000</td>\n",
       "      <td>-0.275922</td>\n",
       "      <td>-6.622127</td>\n",
       "      <td>-2.979957</td>\n",
       "      <td>-0.000000</td>\n",
       "      <td>-0.551844</td>\n",
       "      <td>...</td>\n",
       "      <td>-3.311064</td>\n",
       "      <td>-0.000000</td>\n",
       "      <td>-1.103688</td>\n",
       "      <td>-1.655532</td>\n",
       "      <td>-0.000000</td>\n",
       "      <td>-0.000000</td>\n",
       "      <td>-0.827766</td>\n",
       "      <td>-0.000000</td>\n",
       "      <td>-0.000000</td>\n",
       "      <td>-0.000000</td>\n",
       "    </tr>\n",
       "    <tr>\n",
       "      <th>1</th>\n",
       "      <td>-0.000000</td>\n",
       "      <td>-1.735763</td>\n",
       "      <td>-0.000000</td>\n",
       "      <td>-1.562187</td>\n",
       "      <td>-0.000000</td>\n",
       "      <td>-2.603645</td>\n",
       "      <td>-0.000000</td>\n",
       "      <td>-1.562187</td>\n",
       "      <td>-0.000000</td>\n",
       "      <td>-2.603645</td>\n",
       "      <td>...</td>\n",
       "      <td>-0.000000</td>\n",
       "      <td>-1.952734</td>\n",
       "      <td>-2.603645</td>\n",
       "      <td>-0.000000</td>\n",
       "      <td>-3.124374</td>\n",
       "      <td>-0.000000</td>\n",
       "      <td>-3.471527</td>\n",
       "      <td>-5.207290</td>\n",
       "      <td>-0.000000</td>\n",
       "      <td>-0.000000</td>\n",
       "    </tr>\n",
       "    <tr>\n",
       "      <th>2</th>\n",
       "      <td>-0.000000</td>\n",
       "      <td>-2.717515</td>\n",
       "      <td>-8.152544</td>\n",
       "      <td>-1.222882</td>\n",
       "      <td>-12.228816</td>\n",
       "      <td>-1.358757</td>\n",
       "      <td>-0.000000</td>\n",
       "      <td>-1.222882</td>\n",
       "      <td>-0.000000</td>\n",
       "      <td>-1.358757</td>\n",
       "      <td>...</td>\n",
       "      <td>-8.152544</td>\n",
       "      <td>-0.000000</td>\n",
       "      <td>-4.755651</td>\n",
       "      <td>-0.000000</td>\n",
       "      <td>-3.668645</td>\n",
       "      <td>-12.228816</td>\n",
       "      <td>-4.755651</td>\n",
       "      <td>-0.000000</td>\n",
       "      <td>-0.000000</td>\n",
       "      <td>-0.000000</td>\n",
       "    </tr>\n",
       "    <tr>\n",
       "      <th>3</th>\n",
       "      <td>-0.000000</td>\n",
       "      <td>-1.607982</td>\n",
       "      <td>-4.823945</td>\n",
       "      <td>-0.000000</td>\n",
       "      <td>-0.000000</td>\n",
       "      <td>-4.823945</td>\n",
       "      <td>-9.647891</td>\n",
       "      <td>-1.447184</td>\n",
       "      <td>-0.000000</td>\n",
       "      <td>-1.607982</td>\n",
       "      <td>...</td>\n",
       "      <td>-0.000000</td>\n",
       "      <td>-3.617959</td>\n",
       "      <td>-1.607982</td>\n",
       "      <td>-4.823945</td>\n",
       "      <td>-0.000000</td>\n",
       "      <td>-0.000000</td>\n",
       "      <td>-4.019954</td>\n",
       "      <td>-4.823945</td>\n",
       "      <td>-0.000000</td>\n",
       "      <td>-0.000000</td>\n",
       "    </tr>\n",
       "    <tr>\n",
       "      <th>4</th>\n",
       "      <td>54.236477</td>\n",
       "      <td>123.538643</td>\n",
       "      <td>180.788258</td>\n",
       "      <td>86.778364</td>\n",
       "      <td>54.236477</td>\n",
       "      <td>138.604331</td>\n",
       "      <td>90.394129</td>\n",
       "      <td>86.778364</td>\n",
       "      <td>379.655342</td>\n",
       "      <td>129.564918</td>\n",
       "      <td>...</td>\n",
       "      <td>72.315303</td>\n",
       "      <td>67.795597</td>\n",
       "      <td>117.512368</td>\n",
       "      <td>90.394129</td>\n",
       "      <td>65.083773</td>\n",
       "      <td>54.236477</td>\n",
       "      <td>114.499230</td>\n",
       "      <td>54.236477</td>\n",
       "      <td>61.016037</td>\n",
       "      <td>54.236477</td>\n",
       "    </tr>\n",
       "    <tr>\n",
       "      <th>5</th>\n",
       "      <td>0.000000</td>\n",
       "      <td>33.567709</td>\n",
       "      <td>25.175781</td>\n",
       "      <td>22.658203</td>\n",
       "      <td>50.351563</td>\n",
       "      <td>39.162327</td>\n",
       "      <td>33.567709</td>\n",
       "      <td>20.140625</td>\n",
       "      <td>25.175781</td>\n",
       "      <td>39.162327</td>\n",
       "      <td>...</td>\n",
       "      <td>33.567709</td>\n",
       "      <td>3.146973</td>\n",
       "      <td>43.358290</td>\n",
       "      <td>16.783854</td>\n",
       "      <td>17.623047</td>\n",
       "      <td>0.000000</td>\n",
       "      <td>46.155599</td>\n",
       "      <td>16.783854</td>\n",
       "      <td>25.175781</td>\n",
       "      <td>25.175781</td>\n",
       "    </tr>\n",
       "    <tr>\n",
       "      <th>6</th>\n",
       "      <td>-0.000000</td>\n",
       "      <td>-1.757707</td>\n",
       "      <td>-0.000000</td>\n",
       "      <td>-0.000000</td>\n",
       "      <td>-0.000000</td>\n",
       "      <td>-0.878854</td>\n",
       "      <td>-0.000000</td>\n",
       "      <td>-1.581937</td>\n",
       "      <td>-0.000000</td>\n",
       "      <td>-0.878854</td>\n",
       "      <td>...</td>\n",
       "      <td>-10.546244</td>\n",
       "      <td>-0.000000</td>\n",
       "      <td>-2.636561</td>\n",
       "      <td>-0.000000</td>\n",
       "      <td>-0.000000</td>\n",
       "      <td>-0.000000</td>\n",
       "      <td>-2.636561</td>\n",
       "      <td>-0.000000</td>\n",
       "      <td>-0.000000</td>\n",
       "      <td>-0.000000</td>\n",
       "    </tr>\n",
       "    <tr>\n",
       "      <th>7</th>\n",
       "      <td>-0.000000</td>\n",
       "      <td>-0.000000</td>\n",
       "      <td>-0.000000</td>\n",
       "      <td>-0.000000</td>\n",
       "      <td>-0.000000</td>\n",
       "      <td>-0.905765</td>\n",
       "      <td>-0.000000</td>\n",
       "      <td>-1.630378</td>\n",
       "      <td>-0.000000</td>\n",
       "      <td>-2.717296</td>\n",
       "      <td>...</td>\n",
       "      <td>-0.000000</td>\n",
       "      <td>-2.037972</td>\n",
       "      <td>-1.811531</td>\n",
       "      <td>-0.000000</td>\n",
       "      <td>-0.000000</td>\n",
       "      <td>-0.000000</td>\n",
       "      <td>-1.811531</td>\n",
       "      <td>-5.434592</td>\n",
       "      <td>-0.000000</td>\n",
       "      <td>-0.000000</td>\n",
       "    </tr>\n",
       "  </tbody>\n",
       "</table>\n",
       "<p>8 rows × 765 columns</p>\n",
       "</div>"
      ],
      "text/plain": [
       "bin_time        -10.0       -9.9                                     \\\n",
       "trial_type       loss        loss    omission   rewarded        win   \n",
       "0           -0.000000   -0.551844   -3.311064  -0.993319  -0.000000   \n",
       "1           -0.000000   -1.735763   -0.000000  -1.562187  -0.000000   \n",
       "2           -0.000000   -2.717515   -8.152544  -1.222882 -12.228816   \n",
       "3           -0.000000   -1.607982   -4.823945  -0.000000  -0.000000   \n",
       "4           54.236477  123.538643  180.788258  86.778364  54.236477   \n",
       "5            0.000000   33.567709   25.175781  22.658203  50.351563   \n",
       "6           -0.000000   -1.757707   -0.000000  -0.000000  -0.000000   \n",
       "7           -0.000000   -0.000000   -0.000000  -0.000000  -0.000000   \n",
       "\n",
       "bin_time         -9.8                                          -9.7   ...  \\\n",
       "trial_type        loss   omission   rewarded         win        loss  ...   \n",
       "0            -0.275922  -6.622127  -2.979957   -0.000000   -0.551844  ...   \n",
       "1            -2.603645  -0.000000  -1.562187   -0.000000   -2.603645  ...   \n",
       "2            -1.358757  -0.000000  -1.222882   -0.000000   -1.358757  ...   \n",
       "3            -4.823945  -9.647891  -1.447184   -0.000000   -1.607982  ...   \n",
       "4           138.604331  90.394129  86.778364  379.655342  129.564918  ...   \n",
       "5            39.162327  33.567709  20.140625   25.175781   39.162327  ...   \n",
       "6            -0.878854  -0.000000  -1.581937   -0.000000   -0.878854  ...   \n",
       "7            -0.905765  -0.000000  -1.630378   -0.000000   -2.717296  ...   \n",
       "\n",
       "bin_time         9.8                    9.9                                    \\\n",
       "trial_type   omission   rewarded        loss   omission   rewarded        win   \n",
       "0           -3.311064  -0.000000   -1.103688  -1.655532  -0.000000  -0.000000   \n",
       "1           -0.000000  -1.952734   -2.603645  -0.000000  -3.124374  -0.000000   \n",
       "2           -8.152544  -0.000000   -4.755651  -0.000000  -3.668645 -12.228816   \n",
       "3           -0.000000  -3.617959   -1.607982  -4.823945  -0.000000  -0.000000   \n",
       "4           72.315303  67.795597  117.512368  90.394129  65.083773  54.236477   \n",
       "5           33.567709   3.146973   43.358290  16.783854  17.623047   0.000000   \n",
       "6          -10.546244  -0.000000   -2.636561  -0.000000  -0.000000  -0.000000   \n",
       "7           -0.000000  -2.037972   -1.811531  -0.000000  -0.000000  -0.000000   \n",
       "\n",
       "bin_time          10.0                                   \n",
       "trial_type        loss   omission   rewarded        win  \n",
       "0            -0.827766  -0.000000  -0.000000  -0.000000  \n",
       "1            -3.471527  -5.207290  -0.000000  -0.000000  \n",
       "2            -4.755651  -0.000000  -0.000000  -0.000000  \n",
       "3            -4.019954  -4.823945  -0.000000  -0.000000  \n",
       "4           114.499230  54.236477  61.016037  54.236477  \n",
       "5            46.155599  16.783854  25.175781  25.175781  \n",
       "6            -2.636561  -0.000000  -0.000000  -0.000000  \n",
       "7            -1.811531  -5.434592  -0.000000  -0.000000  \n",
       "\n",
       "[8 rows x 765 columns]"
      ]
     },
     "execution_count": 138,
     "metadata": {},
     "output_type": "execute_result"
    }
   ],
   "source": [
    "pc1_product"
   ]
  },
  {
   "cell_type": "code",
   "execution_count": 139,
   "id": "495695bf",
   "metadata": {
    "scrolled": true
   },
   "outputs": [
    {
     "data": {
      "text/plain": [
       "bin_time  trial_type\n",
       "-10.0     loss           6.779560\n",
       "-9.9      loss          18.591943\n",
       "          omission      23.709561\n",
       "          rewarded      13.207272\n",
       "          win           11.544903\n",
       "                          ...    \n",
       " 9.9      win            5.250958\n",
       " 10.0     loss          17.891480\n",
       "          omission       6.944313\n",
       "          rewarded      10.773977\n",
       "          win            9.926532\n",
       "Length: 765, dtype: float64"
      ]
     },
     "execution_count": 139,
     "metadata": {},
     "output_type": "execute_result"
    }
   ],
   "source": [
    "pc1_product.mean()"
   ]
  },
  {
   "cell_type": "code",
   "execution_count": 140,
   "id": "e7362ed2",
   "metadata": {},
   "outputs": [],
   "source": [
    "pc2_product = pivoted_averaged_firing_rate_df.reset_index(drop=True).multiply(principal_df[\"principal component 2\"], axis=\"index\")"
   ]
  },
  {
   "cell_type": "code",
   "execution_count": 141,
   "id": "5d57f376",
   "metadata": {},
   "outputs": [
    {
     "data": {
      "text/html": [
       "<div>\n",
       "<style scoped>\n",
       "    .dataframe tbody tr th:only-of-type {\n",
       "        vertical-align: middle;\n",
       "    }\n",
       "\n",
       "    .dataframe tbody tr th {\n",
       "        vertical-align: top;\n",
       "    }\n",
       "\n",
       "    .dataframe thead tr th {\n",
       "        text-align: left;\n",
       "    }\n",
       "</style>\n",
       "<table border=\"1\" class=\"dataframe\">\n",
       "  <thead>\n",
       "    <tr>\n",
       "      <th>bin_time</th>\n",
       "      <th>-10.0</th>\n",
       "      <th colspan=\"4\" halign=\"left\">-9.9</th>\n",
       "      <th colspan=\"4\" halign=\"left\">-9.8</th>\n",
       "      <th>-9.7</th>\n",
       "      <th>...</th>\n",
       "      <th colspan=\"2\" halign=\"left\">9.8</th>\n",
       "      <th colspan=\"4\" halign=\"left\">9.9</th>\n",
       "      <th colspan=\"4\" halign=\"left\">10.0</th>\n",
       "    </tr>\n",
       "    <tr>\n",
       "      <th>trial_type</th>\n",
       "      <th>loss</th>\n",
       "      <th>loss</th>\n",
       "      <th>omission</th>\n",
       "      <th>rewarded</th>\n",
       "      <th>win</th>\n",
       "      <th>loss</th>\n",
       "      <th>omission</th>\n",
       "      <th>rewarded</th>\n",
       "      <th>win</th>\n",
       "      <th>loss</th>\n",
       "      <th>...</th>\n",
       "      <th>omission</th>\n",
       "      <th>rewarded</th>\n",
       "      <th>loss</th>\n",
       "      <th>omission</th>\n",
       "      <th>rewarded</th>\n",
       "      <th>win</th>\n",
       "      <th>loss</th>\n",
       "      <th>omission</th>\n",
       "      <th>rewarded</th>\n",
       "      <th>win</th>\n",
       "    </tr>\n",
       "  </thead>\n",
       "  <tbody>\n",
       "    <tr>\n",
       "      <th>0</th>\n",
       "      <td>-0.000000</td>\n",
       "      <td>-0.379658</td>\n",
       "      <td>-2.277950</td>\n",
       "      <td>-0.683385</td>\n",
       "      <td>-0.000000</td>\n",
       "      <td>-0.189829</td>\n",
       "      <td>-4.555899</td>\n",
       "      <td>-2.050155</td>\n",
       "      <td>-0.000000</td>\n",
       "      <td>-0.379658</td>\n",
       "      <td>...</td>\n",
       "      <td>-2.277950</td>\n",
       "      <td>-0.000000</td>\n",
       "      <td>-0.759317</td>\n",
       "      <td>-1.138975</td>\n",
       "      <td>-0.000000</td>\n",
       "      <td>-0.000000</td>\n",
       "      <td>-0.569487</td>\n",
       "      <td>-0.000000</td>\n",
       "      <td>-0.000000</td>\n",
       "      <td>-0.000000</td>\n",
       "    </tr>\n",
       "    <tr>\n",
       "      <th>1</th>\n",
       "      <td>-0.000000</td>\n",
       "      <td>-0.205410</td>\n",
       "      <td>-0.000000</td>\n",
       "      <td>-0.184869</td>\n",
       "      <td>-0.000000</td>\n",
       "      <td>-0.308116</td>\n",
       "      <td>-0.000000</td>\n",
       "      <td>-0.184869</td>\n",
       "      <td>-0.000000</td>\n",
       "      <td>-0.308116</td>\n",
       "      <td>...</td>\n",
       "      <td>-0.000000</td>\n",
       "      <td>-0.231087</td>\n",
       "      <td>-0.308116</td>\n",
       "      <td>-0.000000</td>\n",
       "      <td>-0.369739</td>\n",
       "      <td>-0.000000</td>\n",
       "      <td>-0.410821</td>\n",
       "      <td>-0.616231</td>\n",
       "      <td>-0.000000</td>\n",
       "      <td>-0.000000</td>\n",
       "    </tr>\n",
       "    <tr>\n",
       "      <th>2</th>\n",
       "      <td>-0.000000</td>\n",
       "      <td>-0.042159</td>\n",
       "      <td>-0.126478</td>\n",
       "      <td>-0.018972</td>\n",
       "      <td>-0.189717</td>\n",
       "      <td>-0.021080</td>\n",
       "      <td>-0.000000</td>\n",
       "      <td>-0.018972</td>\n",
       "      <td>-0.000000</td>\n",
       "      <td>-0.021080</td>\n",
       "      <td>...</td>\n",
       "      <td>-0.126478</td>\n",
       "      <td>-0.000000</td>\n",
       "      <td>-0.073779</td>\n",
       "      <td>-0.000000</td>\n",
       "      <td>-0.056915</td>\n",
       "      <td>-0.189717</td>\n",
       "      <td>-0.073779</td>\n",
       "      <td>-0.000000</td>\n",
       "      <td>-0.000000</td>\n",
       "      <td>-0.000000</td>\n",
       "    </tr>\n",
       "    <tr>\n",
       "      <th>3</th>\n",
       "      <td>-0.000000</td>\n",
       "      <td>-0.247235</td>\n",
       "      <td>-0.741705</td>\n",
       "      <td>-0.000000</td>\n",
       "      <td>-0.000000</td>\n",
       "      <td>-0.741705</td>\n",
       "      <td>-1.483410</td>\n",
       "      <td>-0.222511</td>\n",
       "      <td>-0.000000</td>\n",
       "      <td>-0.247235</td>\n",
       "      <td>...</td>\n",
       "      <td>-0.000000</td>\n",
       "      <td>-0.556279</td>\n",
       "      <td>-0.247235</td>\n",
       "      <td>-0.741705</td>\n",
       "      <td>-0.000000</td>\n",
       "      <td>-0.000000</td>\n",
       "      <td>-0.618087</td>\n",
       "      <td>-0.741705</td>\n",
       "      <td>-0.000000</td>\n",
       "      <td>-0.000000</td>\n",
       "    </tr>\n",
       "    <tr>\n",
       "      <th>4</th>\n",
       "      <td>-13.680717</td>\n",
       "      <td>-31.161633</td>\n",
       "      <td>-45.602390</td>\n",
       "      <td>-21.889147</td>\n",
       "      <td>-13.680717</td>\n",
       "      <td>-34.961832</td>\n",
       "      <td>-22.801195</td>\n",
       "      <td>-21.889147</td>\n",
       "      <td>-95.765019</td>\n",
       "      <td>-32.681713</td>\n",
       "      <td>...</td>\n",
       "      <td>-18.240956</td>\n",
       "      <td>-17.100896</td>\n",
       "      <td>-29.641553</td>\n",
       "      <td>-22.801195</td>\n",
       "      <td>-16.416860</td>\n",
       "      <td>-13.680717</td>\n",
       "      <td>-28.881514</td>\n",
       "      <td>-13.680717</td>\n",
       "      <td>-15.390807</td>\n",
       "      <td>-13.680717</td>\n",
       "    </tr>\n",
       "    <tr>\n",
       "      <th>5</th>\n",
       "      <td>0.000000</td>\n",
       "      <td>32.482115</td>\n",
       "      <td>24.361586</td>\n",
       "      <td>21.925428</td>\n",
       "      <td>48.723173</td>\n",
       "      <td>37.895801</td>\n",
       "      <td>32.482115</td>\n",
       "      <td>19.489269</td>\n",
       "      <td>24.361586</td>\n",
       "      <td>37.895801</td>\n",
       "      <td>...</td>\n",
       "      <td>32.482115</td>\n",
       "      <td>3.045198</td>\n",
       "      <td>41.956065</td>\n",
       "      <td>16.241058</td>\n",
       "      <td>17.053110</td>\n",
       "      <td>0.000000</td>\n",
       "      <td>44.662908</td>\n",
       "      <td>16.241058</td>\n",
       "      <td>24.361586</td>\n",
       "      <td>24.361586</td>\n",
       "    </tr>\n",
       "    <tr>\n",
       "      <th>6</th>\n",
       "      <td>-0.000000</td>\n",
       "      <td>-0.141818</td>\n",
       "      <td>-0.000000</td>\n",
       "      <td>-0.000000</td>\n",
       "      <td>-0.000000</td>\n",
       "      <td>-0.070909</td>\n",
       "      <td>-0.000000</td>\n",
       "      <td>-0.127636</td>\n",
       "      <td>-0.000000</td>\n",
       "      <td>-0.070909</td>\n",
       "      <td>...</td>\n",
       "      <td>-0.850908</td>\n",
       "      <td>-0.000000</td>\n",
       "      <td>-0.212727</td>\n",
       "      <td>-0.000000</td>\n",
       "      <td>-0.000000</td>\n",
       "      <td>-0.000000</td>\n",
       "      <td>-0.212727</td>\n",
       "      <td>-0.000000</td>\n",
       "      <td>-0.000000</td>\n",
       "      <td>-0.000000</td>\n",
       "    </tr>\n",
       "    <tr>\n",
       "      <th>7</th>\n",
       "      <td>-0.000000</td>\n",
       "      <td>-0.000000</td>\n",
       "      <td>-0.000000</td>\n",
       "      <td>-0.000000</td>\n",
       "      <td>-0.000000</td>\n",
       "      <td>-0.095781</td>\n",
       "      <td>-0.000000</td>\n",
       "      <td>-0.172406</td>\n",
       "      <td>-0.000000</td>\n",
       "      <td>-0.287343</td>\n",
       "      <td>...</td>\n",
       "      <td>-0.000000</td>\n",
       "      <td>-0.215507</td>\n",
       "      <td>-0.191562</td>\n",
       "      <td>-0.000000</td>\n",
       "      <td>-0.000000</td>\n",
       "      <td>-0.000000</td>\n",
       "      <td>-0.191562</td>\n",
       "      <td>-0.574686</td>\n",
       "      <td>-0.000000</td>\n",
       "      <td>-0.000000</td>\n",
       "    </tr>\n",
       "  </tbody>\n",
       "</table>\n",
       "<p>8 rows × 765 columns</p>\n",
       "</div>"
      ],
      "text/plain": [
       "bin_time        -10.0      -9.9                                        -9.8   \\\n",
       "trial_type       loss       loss   omission   rewarded        win       loss   \n",
       "0           -0.000000  -0.379658  -2.277950  -0.683385  -0.000000  -0.189829   \n",
       "1           -0.000000  -0.205410  -0.000000  -0.184869  -0.000000  -0.308116   \n",
       "2           -0.000000  -0.042159  -0.126478  -0.018972  -0.189717  -0.021080   \n",
       "3           -0.000000  -0.247235  -0.741705  -0.000000  -0.000000  -0.741705   \n",
       "4          -13.680717 -31.161633 -45.602390 -21.889147 -13.680717 -34.961832   \n",
       "5            0.000000  32.482115  24.361586  21.925428  48.723173  37.895801   \n",
       "6           -0.000000  -0.141818  -0.000000  -0.000000  -0.000000  -0.070909   \n",
       "7           -0.000000  -0.000000  -0.000000  -0.000000  -0.000000  -0.095781   \n",
       "\n",
       "bin_time                                         -9.7   ...       9.8   \\\n",
       "trial_type   omission   rewarded        win       loss  ...   omission   \n",
       "0           -4.555899  -2.050155  -0.000000  -0.379658  ...  -2.277950   \n",
       "1           -0.000000  -0.184869  -0.000000  -0.308116  ...  -0.000000   \n",
       "2           -0.000000  -0.018972  -0.000000  -0.021080  ...  -0.126478   \n",
       "3           -1.483410  -0.222511  -0.000000  -0.247235  ...  -0.000000   \n",
       "4          -22.801195 -21.889147 -95.765019 -32.681713  ... -18.240956   \n",
       "5           32.482115  19.489269  24.361586  37.895801  ...  32.482115   \n",
       "6           -0.000000  -0.127636  -0.000000  -0.070909  ...  -0.850908   \n",
       "7           -0.000000  -0.172406  -0.000000  -0.287343  ...  -0.000000   \n",
       "\n",
       "bin_time                    9.9                                         10.0  \\\n",
       "trial_type   rewarded       loss   omission   rewarded        win       loss   \n",
       "0           -0.000000  -0.759317  -1.138975  -0.000000  -0.000000  -0.569487   \n",
       "1           -0.231087  -0.308116  -0.000000  -0.369739  -0.000000  -0.410821   \n",
       "2           -0.000000  -0.073779  -0.000000  -0.056915  -0.189717  -0.073779   \n",
       "3           -0.556279  -0.247235  -0.741705  -0.000000  -0.000000  -0.618087   \n",
       "4          -17.100896 -29.641553 -22.801195 -16.416860 -13.680717 -28.881514   \n",
       "5            3.045198  41.956065  16.241058  17.053110   0.000000  44.662908   \n",
       "6           -0.000000  -0.212727  -0.000000  -0.000000  -0.000000  -0.212727   \n",
       "7           -0.215507  -0.191562  -0.000000  -0.000000  -0.000000  -0.191562   \n",
       "\n",
       "bin_time                                     \n",
       "trial_type   omission   rewarded        win  \n",
       "0           -0.000000  -0.000000  -0.000000  \n",
       "1           -0.616231  -0.000000  -0.000000  \n",
       "2           -0.000000  -0.000000  -0.000000  \n",
       "3           -0.741705  -0.000000  -0.000000  \n",
       "4          -13.680717 -15.390807 -13.680717  \n",
       "5           16.241058  24.361586  24.361586  \n",
       "6           -0.000000  -0.000000  -0.000000  \n",
       "7           -0.574686  -0.000000  -0.000000  \n",
       "\n",
       "[8 rows x 765 columns]"
      ]
     },
     "execution_count": 141,
     "metadata": {},
     "output_type": "execute_result"
    }
   ],
   "source": [
    "pc2_product"
   ]
  },
  {
   "cell_type": "code",
   "execution_count": 142,
   "id": "4b3b9542",
   "metadata": {},
   "outputs": [
    {
     "data": {
      "text/plain": [
       "bin_time  trial_type\n",
       "-10.0     loss         -1.710090\n",
       "-9.9      loss          0.038025\n",
       "          omission     -3.048367\n",
       "          rewarded     -0.106368\n",
       "          win           4.356592\n",
       "                          ...   \n",
       " 9.9      win          -1.733804\n",
       " 10.0     loss          1.713116\n",
       "          omission      0.078465\n",
       "          rewarded      1.121347\n",
       "          win           1.335109\n",
       "Length: 765, dtype: float64"
      ]
     },
     "execution_count": 142,
     "metadata": {},
     "output_type": "execute_result"
    }
   ],
   "source": [
    "pc2_product.mean()"
   ]
  },
  {
   "cell_type": "code",
   "execution_count": 143,
   "id": "49cc15e4",
   "metadata": {},
   "outputs": [],
   "source": [
    "pc_product = pd.concat([pc1_product.mean(), pc2_product.mean()], axis=1)#.reset_index()"
   ]
  },
  {
   "cell_type": "code",
   "execution_count": 144,
   "id": "cd676052",
   "metadata": {},
   "outputs": [
    {
     "data": {
      "text/html": [
       "<div>\n",
       "<style scoped>\n",
       "    .dataframe tbody tr th:only-of-type {\n",
       "        vertical-align: middle;\n",
       "    }\n",
       "\n",
       "    .dataframe tbody tr th {\n",
       "        vertical-align: top;\n",
       "    }\n",
       "\n",
       "    .dataframe thead th {\n",
       "        text-align: right;\n",
       "    }\n",
       "</style>\n",
       "<table border=\"1\" class=\"dataframe\">\n",
       "  <thead>\n",
       "    <tr style=\"text-align: right;\">\n",
       "      <th></th>\n",
       "      <th></th>\n",
       "      <th>0</th>\n",
       "      <th>1</th>\n",
       "    </tr>\n",
       "    <tr>\n",
       "      <th>bin_time</th>\n",
       "      <th>trial_type</th>\n",
       "      <th></th>\n",
       "      <th></th>\n",
       "    </tr>\n",
       "  </thead>\n",
       "  <tbody>\n",
       "    <tr>\n",
       "      <th>-10.0</th>\n",
       "      <th>loss</th>\n",
       "      <td>6.779560</td>\n",
       "      <td>-1.710090</td>\n",
       "    </tr>\n",
       "    <tr>\n",
       "      <th rowspan=\"4\" valign=\"top\">-9.9</th>\n",
       "      <th>loss</th>\n",
       "      <td>18.591943</td>\n",
       "      <td>0.038025</td>\n",
       "    </tr>\n",
       "    <tr>\n",
       "      <th>omission</th>\n",
       "      <td>23.709561</td>\n",
       "      <td>-3.048367</td>\n",
       "    </tr>\n",
       "    <tr>\n",
       "      <th>rewarded</th>\n",
       "      <td>13.207272</td>\n",
       "      <td>-0.106368</td>\n",
       "    </tr>\n",
       "    <tr>\n",
       "      <th>win</th>\n",
       "      <td>11.544903</td>\n",
       "      <td>4.356592</td>\n",
       "    </tr>\n",
       "  </tbody>\n",
       "</table>\n",
       "</div>"
      ],
      "text/plain": [
       "                             0         1\n",
       "bin_time trial_type                     \n",
       "-10.0    loss         6.779560 -1.710090\n",
       "-9.9     loss        18.591943  0.038025\n",
       "         omission    23.709561 -3.048367\n",
       "         rewarded    13.207272 -0.106368\n",
       "         win         11.544903  4.356592"
      ]
     },
     "execution_count": 144,
     "metadata": {},
     "output_type": "execute_result"
    }
   ],
   "source": [
    "pc_product.head()"
   ]
  },
  {
   "cell_type": "raw",
   "id": "9cfc0c1e",
   "metadata": {},
   "source": [
    "pc_product = pc_product[pc_product[\"bin_time\"].apply(lambda x: isinstance(x, int))]\n"
   ]
  },
  {
   "cell_type": "code",
   "execution_count": 145,
   "id": "df136d85",
   "metadata": {},
   "outputs": [],
   "source": [
    "pc_product = pc_product.reset_index()"
   ]
  },
  {
   "cell_type": "code",
   "execution_count": 146,
   "id": "6328b150",
   "metadata": {},
   "outputs": [
    {
     "data": {
      "text/html": [
       "<div>\n",
       "<style scoped>\n",
       "    .dataframe tbody tr th:only-of-type {\n",
       "        vertical-align: middle;\n",
       "    }\n",
       "\n",
       "    .dataframe tbody tr th {\n",
       "        vertical-align: top;\n",
       "    }\n",
       "\n",
       "    .dataframe thead th {\n",
       "        text-align: right;\n",
       "    }\n",
       "</style>\n",
       "<table border=\"1\" class=\"dataframe\">\n",
       "  <thead>\n",
       "    <tr style=\"text-align: right;\">\n",
       "      <th></th>\n",
       "      <th>bin_time</th>\n",
       "      <th>trial_type</th>\n",
       "      <th>0</th>\n",
       "      <th>1</th>\n",
       "    </tr>\n",
       "  </thead>\n",
       "  <tbody>\n",
       "    <tr>\n",
       "      <th>0</th>\n",
       "      <td>-10.0</td>\n",
       "      <td>loss</td>\n",
       "      <td>6.779560</td>\n",
       "      <td>-1.710090</td>\n",
       "    </tr>\n",
       "    <tr>\n",
       "      <th>1</th>\n",
       "      <td>-9.9</td>\n",
       "      <td>loss</td>\n",
       "      <td>18.591943</td>\n",
       "      <td>0.038025</td>\n",
       "    </tr>\n",
       "    <tr>\n",
       "      <th>2</th>\n",
       "      <td>-9.9</td>\n",
       "      <td>omission</td>\n",
       "      <td>23.709561</td>\n",
       "      <td>-3.048367</td>\n",
       "    </tr>\n",
       "    <tr>\n",
       "      <th>3</th>\n",
       "      <td>-9.9</td>\n",
       "      <td>rewarded</td>\n",
       "      <td>13.207272</td>\n",
       "      <td>-0.106368</td>\n",
       "    </tr>\n",
       "    <tr>\n",
       "      <th>4</th>\n",
       "      <td>-9.9</td>\n",
       "      <td>win</td>\n",
       "      <td>11.544903</td>\n",
       "      <td>4.356592</td>\n",
       "    </tr>\n",
       "  </tbody>\n",
       "</table>\n",
       "</div>"
      ],
      "text/plain": [
       "   bin_time trial_type          0         1\n",
       "0     -10.0       loss   6.779560 -1.710090\n",
       "1      -9.9       loss  18.591943  0.038025\n",
       "2      -9.9   omission  23.709561 -3.048367\n",
       "3      -9.9   rewarded  13.207272 -0.106368\n",
       "4      -9.9        win  11.544903  4.356592"
      ]
     },
     "execution_count": 146,
     "metadata": {},
     "output_type": "execute_result"
    }
   ],
   "source": [
    "pc_product.head()"
   ]
  },
  {
   "cell_type": "code",
   "execution_count": 147,
   "id": "09b7fb2b",
   "metadata": {},
   "outputs": [],
   "source": [
    "def get_before_during_after(x):\n",
    "    if -10 <= x < -5:\n",
    "        return \"-10s to 5s\"\n",
    "    elif -5 <= x < 0:\n",
    "        return \"-5s to 0s\"\n",
    "    elif 0 <= x < 5:\n",
    "        return \"0s to 5s\"\n",
    "    elif 5 <= x <= 10:\n",
    "        return \"5s to 10s\"\n",
    "    else:\n",
    "        return np.nan"
   ]
  },
  {
   "cell_type": "code",
   "execution_count": 148,
   "id": "c226cf11",
   "metadata": {},
   "outputs": [],
   "source": [
    "pc_product[\"before_during_after\"] = pc_product[\"bin_time\"].apply(lambda x: get_before_during_after(x))"
   ]
  },
  {
   "cell_type": "code",
   "execution_count": 149,
   "id": "efe28778",
   "metadata": {},
   "outputs": [
    {
     "data": {
      "text/html": [
       "<div>\n",
       "<style scoped>\n",
       "    .dataframe tbody tr th:only-of-type {\n",
       "        vertical-align: middle;\n",
       "    }\n",
       "\n",
       "    .dataframe tbody tr th {\n",
       "        vertical-align: top;\n",
       "    }\n",
       "\n",
       "    .dataframe thead th {\n",
       "        text-align: right;\n",
       "    }\n",
       "</style>\n",
       "<table border=\"1\" class=\"dataframe\">\n",
       "  <thead>\n",
       "    <tr style=\"text-align: right;\">\n",
       "      <th></th>\n",
       "      <th>bin_time</th>\n",
       "      <th>trial_type</th>\n",
       "      <th>0</th>\n",
       "      <th>1</th>\n",
       "      <th>before_during_after</th>\n",
       "    </tr>\n",
       "  </thead>\n",
       "  <tbody>\n",
       "    <tr>\n",
       "      <th>0</th>\n",
       "      <td>-10.0</td>\n",
       "      <td>loss</td>\n",
       "      <td>6.779560</td>\n",
       "      <td>-1.710090</td>\n",
       "      <td>-10s to 5s</td>\n",
       "    </tr>\n",
       "    <tr>\n",
       "      <th>1</th>\n",
       "      <td>-9.9</td>\n",
       "      <td>loss</td>\n",
       "      <td>18.591943</td>\n",
       "      <td>0.038025</td>\n",
       "      <td>-10s to 5s</td>\n",
       "    </tr>\n",
       "    <tr>\n",
       "      <th>2</th>\n",
       "      <td>-9.9</td>\n",
       "      <td>omission</td>\n",
       "      <td>23.709561</td>\n",
       "      <td>-3.048367</td>\n",
       "      <td>-10s to 5s</td>\n",
       "    </tr>\n",
       "    <tr>\n",
       "      <th>3</th>\n",
       "      <td>-9.9</td>\n",
       "      <td>rewarded</td>\n",
       "      <td>13.207272</td>\n",
       "      <td>-0.106368</td>\n",
       "      <td>-10s to 5s</td>\n",
       "    </tr>\n",
       "    <tr>\n",
       "      <th>4</th>\n",
       "      <td>-9.9</td>\n",
       "      <td>win</td>\n",
       "      <td>11.544903</td>\n",
       "      <td>4.356592</td>\n",
       "      <td>-10s to 5s</td>\n",
       "    </tr>\n",
       "  </tbody>\n",
       "</table>\n",
       "</div>"
      ],
      "text/plain": [
       "   bin_time trial_type          0         1 before_during_after\n",
       "0     -10.0       loss   6.779560 -1.710090          -10s to 5s\n",
       "1      -9.9       loss  18.591943  0.038025          -10s to 5s\n",
       "2      -9.9   omission  23.709561 -3.048367          -10s to 5s\n",
       "3      -9.9   rewarded  13.207272 -0.106368          -10s to 5s\n",
       "4      -9.9        win  11.544903  4.356592          -10s to 5s"
      ]
     },
     "execution_count": 149,
     "metadata": {},
     "output_type": "execute_result"
    }
   ],
   "source": [
    "pc_product.head()"
   ]
  },
  {
   "cell_type": "code",
   "execution_count": 150,
   "id": "699a02e5",
   "metadata": {},
   "outputs": [],
   "source": [
    "pc_product[\"outcome_and_when\"] = pc_product.apply(lambda x: x[\"before_during_after\"] + \" \" + x[\"trial_type\"], axis=1)"
   ]
  },
  {
   "cell_type": "code",
   "execution_count": 151,
   "id": "43127d95",
   "metadata": {
    "scrolled": true
   },
   "outputs": [
    {
     "data": {
      "text/html": [
       "<div>\n",
       "<style scoped>\n",
       "    .dataframe tbody tr th:only-of-type {\n",
       "        vertical-align: middle;\n",
       "    }\n",
       "\n",
       "    .dataframe tbody tr th {\n",
       "        vertical-align: top;\n",
       "    }\n",
       "\n",
       "    .dataframe thead th {\n",
       "        text-align: right;\n",
       "    }\n",
       "</style>\n",
       "<table border=\"1\" class=\"dataframe\">\n",
       "  <thead>\n",
       "    <tr style=\"text-align: right;\">\n",
       "      <th></th>\n",
       "      <th>bin_time</th>\n",
       "      <th>trial_type</th>\n",
       "      <th>0</th>\n",
       "      <th>1</th>\n",
       "      <th>before_during_after</th>\n",
       "      <th>outcome_and_when</th>\n",
       "    </tr>\n",
       "  </thead>\n",
       "  <tbody>\n",
       "    <tr>\n",
       "      <th>0</th>\n",
       "      <td>-10.0</td>\n",
       "      <td>loss</td>\n",
       "      <td>6.779560</td>\n",
       "      <td>-1.710090</td>\n",
       "      <td>-10s to 5s</td>\n",
       "      <td>-10s to 5s loss</td>\n",
       "    </tr>\n",
       "    <tr>\n",
       "      <th>1</th>\n",
       "      <td>-9.9</td>\n",
       "      <td>loss</td>\n",
       "      <td>18.591943</td>\n",
       "      <td>0.038025</td>\n",
       "      <td>-10s to 5s</td>\n",
       "      <td>-10s to 5s loss</td>\n",
       "    </tr>\n",
       "    <tr>\n",
       "      <th>2</th>\n",
       "      <td>-9.9</td>\n",
       "      <td>omission</td>\n",
       "      <td>23.709561</td>\n",
       "      <td>-3.048367</td>\n",
       "      <td>-10s to 5s</td>\n",
       "      <td>-10s to 5s omission</td>\n",
       "    </tr>\n",
       "    <tr>\n",
       "      <th>3</th>\n",
       "      <td>-9.9</td>\n",
       "      <td>rewarded</td>\n",
       "      <td>13.207272</td>\n",
       "      <td>-0.106368</td>\n",
       "      <td>-10s to 5s</td>\n",
       "      <td>-10s to 5s rewarded</td>\n",
       "    </tr>\n",
       "    <tr>\n",
       "      <th>4</th>\n",
       "      <td>-9.9</td>\n",
       "      <td>win</td>\n",
       "      <td>11.544903</td>\n",
       "      <td>4.356592</td>\n",
       "      <td>-10s to 5s</td>\n",
       "      <td>-10s to 5s win</td>\n",
       "    </tr>\n",
       "  </tbody>\n",
       "</table>\n",
       "</div>"
      ],
      "text/plain": [
       "   bin_time trial_type          0         1 before_during_after  \\\n",
       "0     -10.0       loss   6.779560 -1.710090          -10s to 5s   \n",
       "1      -9.9       loss  18.591943  0.038025          -10s to 5s   \n",
       "2      -9.9   omission  23.709561 -3.048367          -10s to 5s   \n",
       "3      -9.9   rewarded  13.207272 -0.106368          -10s to 5s   \n",
       "4      -9.9        win  11.544903  4.356592          -10s to 5s   \n",
       "\n",
       "      outcome_and_when  \n",
       "0      -10s to 5s loss  \n",
       "1      -10s to 5s loss  \n",
       "2  -10s to 5s omission  \n",
       "3  -10s to 5s rewarded  \n",
       "4       -10s to 5s win  "
      ]
     },
     "execution_count": 151,
     "metadata": {},
     "output_type": "execute_result"
    }
   ],
   "source": [
    "pc_product.head()"
   ]
  },
  {
   "cell_type": "markdown",
   "id": "da2903de",
   "metadata": {},
   "source": [
    "- Getting only rows from -5 to 5 seconds"
   ]
  },
  {
   "cell_type": "code",
   "execution_count": 152,
   "id": "d4ff0fa0",
   "metadata": {},
   "outputs": [],
   "source": [
    "pc_product = pc_product[pc_product[\"bin_time\"] >= -5]"
   ]
  },
  {
   "cell_type": "code",
   "execution_count": 153,
   "id": "4035968f",
   "metadata": {},
   "outputs": [],
   "source": [
    "omission_categories = [name for name in sorted(pc_product[\"outcome_and_when\"].unique()) if \"omission\" in name]\n",
    "rewarded_categories = [name for name in sorted(pc_product[\"outcome_and_when\"].unique()) if \"rewarded\" in name]\n",
    "win_categories = [name for name in sorted(pc_product[\"outcome_and_when\"].unique()) if \"win\" in name]\n",
    "loss_categories = [name for name in sorted(pc_product[\"outcome_and_when\"].unique()) if \"loss\" in name]\n"
   ]
  },
  {
   "cell_type": "code",
   "execution_count": 154,
   "id": "02453ed1",
   "metadata": {},
   "outputs": [
    {
     "data": {
      "text/html": [
       "<div>\n",
       "<style scoped>\n",
       "    .dataframe tbody tr th:only-of-type {\n",
       "        vertical-align: middle;\n",
       "    }\n",
       "\n",
       "    .dataframe tbody tr th {\n",
       "        vertical-align: top;\n",
       "    }\n",
       "\n",
       "    .dataframe thead th {\n",
       "        text-align: right;\n",
       "    }\n",
       "</style>\n",
       "<table border=\"1\" class=\"dataframe\">\n",
       "  <thead>\n",
       "    <tr style=\"text-align: right;\">\n",
       "      <th></th>\n",
       "      <th>bin_time</th>\n",
       "      <th>trial_type</th>\n",
       "      <th>0</th>\n",
       "      <th>1</th>\n",
       "      <th>before_during_after</th>\n",
       "      <th>outcome_and_when</th>\n",
       "    </tr>\n",
       "  </thead>\n",
       "  <tbody>\n",
       "    <tr>\n",
       "      <th>190</th>\n",
       "      <td>-5.0</td>\n",
       "      <td>loss</td>\n",
       "      <td>19.177183</td>\n",
       "      <td>0.788308</td>\n",
       "      <td>-5s to 0s</td>\n",
       "      <td>-5s to 0s loss</td>\n",
       "    </tr>\n",
       "    <tr>\n",
       "      <th>191</th>\n",
       "      <td>-5.0</td>\n",
       "      <td>omission</td>\n",
       "      <td>18.147410</td>\n",
       "      <td>-5.598440</td>\n",
       "      <td>-5s to 0s</td>\n",
       "      <td>-5s to 0s omission</td>\n",
       "    </tr>\n",
       "    <tr>\n",
       "      <th>192</th>\n",
       "      <td>-5.0</td>\n",
       "      <td>rewarded</td>\n",
       "      <td>13.638023</td>\n",
       "      <td>-0.199863</td>\n",
       "      <td>-5s to 0s</td>\n",
       "      <td>-5s to 0s rewarded</td>\n",
       "    </tr>\n",
       "    <tr>\n",
       "      <th>193</th>\n",
       "      <td>-5.0</td>\n",
       "      <td>win</td>\n",
       "      <td>6.158735</td>\n",
       "      <td>-2.137205</td>\n",
       "      <td>-5s to 0s</td>\n",
       "      <td>-5s to 0s win</td>\n",
       "    </tr>\n",
       "    <tr>\n",
       "      <th>194</th>\n",
       "      <td>-4.9</td>\n",
       "      <td>loss</td>\n",
       "      <td>17.861962</td>\n",
       "      <td>-0.597941</td>\n",
       "      <td>-5s to 0s</td>\n",
       "      <td>-5s to 0s loss</td>\n",
       "    </tr>\n",
       "    <tr>\n",
       "      <th>...</th>\n",
       "      <td>...</td>\n",
       "      <td>...</td>\n",
       "      <td>...</td>\n",
       "      <td>...</td>\n",
       "      <td>...</td>\n",
       "      <td>...</td>\n",
       "    </tr>\n",
       "    <tr>\n",
       "      <th>760</th>\n",
       "      <td>9.9</td>\n",
       "      <td>win</td>\n",
       "      <td>5.250958</td>\n",
       "      <td>-1.733804</td>\n",
       "      <td>5s to 10s</td>\n",
       "      <td>5s to 10s win</td>\n",
       "    </tr>\n",
       "    <tr>\n",
       "      <th>761</th>\n",
       "      <td>10.0</td>\n",
       "      <td>loss</td>\n",
       "      <td>17.891480</td>\n",
       "      <td>1.713116</td>\n",
       "      <td>5s to 10s</td>\n",
       "      <td>5s to 10s loss</td>\n",
       "    </tr>\n",
       "    <tr>\n",
       "      <th>762</th>\n",
       "      <td>10.0</td>\n",
       "      <td>omission</td>\n",
       "      <td>6.944313</td>\n",
       "      <td>0.078465</td>\n",
       "      <td>5s to 10s</td>\n",
       "      <td>5s to 10s omission</td>\n",
       "    </tr>\n",
       "    <tr>\n",
       "      <th>763</th>\n",
       "      <td>10.0</td>\n",
       "      <td>rewarded</td>\n",
       "      <td>10.773977</td>\n",
       "      <td>1.121347</td>\n",
       "      <td>5s to 10s</td>\n",
       "      <td>5s to 10s rewarded</td>\n",
       "    </tr>\n",
       "    <tr>\n",
       "      <th>764</th>\n",
       "      <td>10.0</td>\n",
       "      <td>win</td>\n",
       "      <td>9.926532</td>\n",
       "      <td>1.335109</td>\n",
       "      <td>5s to 10s</td>\n",
       "      <td>5s to 10s win</td>\n",
       "    </tr>\n",
       "  </tbody>\n",
       "</table>\n",
       "<p>575 rows × 6 columns</p>\n",
       "</div>"
      ],
      "text/plain": [
       "     bin_time trial_type          0         1 before_during_after  \\\n",
       "190      -5.0       loss  19.177183  0.788308           -5s to 0s   \n",
       "191      -5.0   omission  18.147410 -5.598440           -5s to 0s   \n",
       "192      -5.0   rewarded  13.638023 -0.199863           -5s to 0s   \n",
       "193      -5.0        win   6.158735 -2.137205           -5s to 0s   \n",
       "194      -4.9       loss  17.861962 -0.597941           -5s to 0s   \n",
       "..        ...        ...        ...       ...                 ...   \n",
       "760       9.9        win   5.250958 -1.733804           5s to 10s   \n",
       "761      10.0       loss  17.891480  1.713116           5s to 10s   \n",
       "762      10.0   omission   6.944313  0.078465           5s to 10s   \n",
       "763      10.0   rewarded  10.773977  1.121347           5s to 10s   \n",
       "764      10.0        win   9.926532  1.335109           5s to 10s   \n",
       "\n",
       "       outcome_and_when  \n",
       "190      -5s to 0s loss  \n",
       "191  -5s to 0s omission  \n",
       "192  -5s to 0s rewarded  \n",
       "193       -5s to 0s win  \n",
       "194      -5s to 0s loss  \n",
       "..                  ...  \n",
       "760       5s to 10s win  \n",
       "761      5s to 10s loss  \n",
       "762  5s to 10s omission  \n",
       "763  5s to 10s rewarded  \n",
       "764       5s to 10s win  \n",
       "\n",
       "[575 rows x 6 columns]"
      ]
     },
     "execution_count": 154,
     "metadata": {},
     "output_type": "execute_result"
    }
   ],
   "source": [
    "pc_product"
   ]
  },
  {
   "cell_type": "code",
   "execution_count": 155,
   "id": "cd829ff3",
   "metadata": {},
   "outputs": [],
   "source": [
    "omission_pc = pc_product[pc_product[\"trial_type\"] == \"omission\"]"
   ]
  },
  {
   "cell_type": "code",
   "execution_count": 156,
   "id": "1f64a2e7",
   "metadata": {},
   "outputs": [
    {
     "data": {
      "text/html": [
       "<div>\n",
       "<style scoped>\n",
       "    .dataframe tbody tr th:only-of-type {\n",
       "        vertical-align: middle;\n",
       "    }\n",
       "\n",
       "    .dataframe tbody tr th {\n",
       "        vertical-align: top;\n",
       "    }\n",
       "\n",
       "    .dataframe thead th {\n",
       "        text-align: right;\n",
       "    }\n",
       "</style>\n",
       "<table border=\"1\" class=\"dataframe\">\n",
       "  <thead>\n",
       "    <tr style=\"text-align: right;\">\n",
       "      <th></th>\n",
       "      <th>bin_time</th>\n",
       "      <th>trial_type</th>\n",
       "      <th>0</th>\n",
       "      <th>1</th>\n",
       "      <th>before_during_after</th>\n",
       "      <th>outcome_and_when</th>\n",
       "    </tr>\n",
       "  </thead>\n",
       "  <tbody>\n",
       "    <tr>\n",
       "      <th>191</th>\n",
       "      <td>-5.0</td>\n",
       "      <td>omission</td>\n",
       "      <td>18.147410</td>\n",
       "      <td>-5.598440</td>\n",
       "      <td>-5s to 0s</td>\n",
       "      <td>-5s to 0s omission</td>\n",
       "    </tr>\n",
       "    <tr>\n",
       "      <th>195</th>\n",
       "      <td>-4.9</td>\n",
       "      <td>omission</td>\n",
       "      <td>21.282039</td>\n",
       "      <td>-2.517471</td>\n",
       "      <td>-5s to 0s</td>\n",
       "      <td>-5s to 0s omission</td>\n",
       "    </tr>\n",
       "    <tr>\n",
       "      <th>199</th>\n",
       "      <td>-4.8</td>\n",
       "      <td>omission</td>\n",
       "      <td>33.276974</td>\n",
       "      <td>-8.977564</td>\n",
       "      <td>-5s to 0s</td>\n",
       "      <td>-5s to 0s omission</td>\n",
       "    </tr>\n",
       "    <tr>\n",
       "      <th>203</th>\n",
       "      <td>-4.7</td>\n",
       "      <td>omission</td>\n",
       "      <td>17.447672</td>\n",
       "      <td>-2.978040</td>\n",
       "      <td>-5s to 0s</td>\n",
       "      <td>-5s to 0s omission</td>\n",
       "    </tr>\n",
       "    <tr>\n",
       "      <th>206</th>\n",
       "      <td>-4.6</td>\n",
       "      <td>omission</td>\n",
       "      <td>1.618371</td>\n",
       "      <td>3.021484</td>\n",
       "      <td>-5s to 0s</td>\n",
       "      <td>-5s to 0s omission</td>\n",
       "    </tr>\n",
       "    <tr>\n",
       "      <th>...</th>\n",
       "      <td>...</td>\n",
       "      <td>...</td>\n",
       "      <td>...</td>\n",
       "      <td>...</td>\n",
       "      <td>...</td>\n",
       "      <td>...</td>\n",
       "    </tr>\n",
       "    <tr>\n",
       "      <th>748</th>\n",
       "      <td>9.6</td>\n",
       "      <td>omission</td>\n",
       "      <td>1.875893</td>\n",
       "      <td>0.144483</td>\n",
       "      <td>5s to 10s</td>\n",
       "      <td>5s to 10s omission</td>\n",
       "    </tr>\n",
       "    <tr>\n",
       "      <th>752</th>\n",
       "      <td>9.7</td>\n",
       "      <td>omission</td>\n",
       "      <td>17.581847</td>\n",
       "      <td>-1.875984</td>\n",
       "      <td>5s to 10s</td>\n",
       "      <td>5s to 10s omission</td>\n",
       "    </tr>\n",
       "    <tr>\n",
       "      <th>755</th>\n",
       "      <td>9.8</td>\n",
       "      <td>omission</td>\n",
       "      <td>10.484145</td>\n",
       "      <td>1.373228</td>\n",
       "      <td>5s to 10s</td>\n",
       "      <td>5s to 10s omission</td>\n",
       "    </tr>\n",
       "    <tr>\n",
       "      <th>758</th>\n",
       "      <td>9.9</td>\n",
       "      <td>omission</td>\n",
       "      <td>12.587313</td>\n",
       "      <td>-1.055102</td>\n",
       "      <td>5s to 10s</td>\n",
       "      <td>5s to 10s omission</td>\n",
       "    </tr>\n",
       "    <tr>\n",
       "      <th>762</th>\n",
       "      <td>10.0</td>\n",
       "      <td>omission</td>\n",
       "      <td>6.944313</td>\n",
       "      <td>0.078465</td>\n",
       "      <td>5s to 10s</td>\n",
       "      <td>5s to 10s omission</td>\n",
       "    </tr>\n",
       "  </tbody>\n",
       "</table>\n",
       "<p>151 rows × 6 columns</p>\n",
       "</div>"
      ],
      "text/plain": [
       "     bin_time trial_type          0         1 before_during_after  \\\n",
       "191      -5.0   omission  18.147410 -5.598440           -5s to 0s   \n",
       "195      -4.9   omission  21.282039 -2.517471           -5s to 0s   \n",
       "199      -4.8   omission  33.276974 -8.977564           -5s to 0s   \n",
       "203      -4.7   omission  17.447672 -2.978040           -5s to 0s   \n",
       "206      -4.6   omission   1.618371  3.021484           -5s to 0s   \n",
       "..        ...        ...        ...       ...                 ...   \n",
       "748       9.6   omission   1.875893  0.144483           5s to 10s   \n",
       "752       9.7   omission  17.581847 -1.875984           5s to 10s   \n",
       "755       9.8   omission  10.484145  1.373228           5s to 10s   \n",
       "758       9.9   omission  12.587313 -1.055102           5s to 10s   \n",
       "762      10.0   omission   6.944313  0.078465           5s to 10s   \n",
       "\n",
       "       outcome_and_when  \n",
       "191  -5s to 0s omission  \n",
       "195  -5s to 0s omission  \n",
       "199  -5s to 0s omission  \n",
       "203  -5s to 0s omission  \n",
       "206  -5s to 0s omission  \n",
       "..                  ...  \n",
       "748  5s to 10s omission  \n",
       "752  5s to 10s omission  \n",
       "755  5s to 10s omission  \n",
       "758  5s to 10s omission  \n",
       "762  5s to 10s omission  \n",
       "\n",
       "[151 rows x 6 columns]"
      ]
     },
     "execution_count": 156,
     "metadata": {},
     "output_type": "execute_result"
    }
   ],
   "source": [
    "omission_pc"
   ]
  },
  {
   "cell_type": "code",
   "execution_count": 157,
   "id": "7caf037b",
   "metadata": {},
   "outputs": [
    {
     "name": "stderr",
     "output_type": "stream",
     "text": [
      "/tmp/ipykernel_3248498/866166829.py:1: FutureWarning: The default value of numeric_only in DataFrameGroupBy.mean is deprecated. In a future version, numeric_only will default to False. Either specify numeric_only or select only columns which should be valid for the function.\n",
      "  averaged_omission_pc = omission_pc.groupby(np.arange(len(omission_pc))//3).mean().reset_index()\n"
     ]
    }
   ],
   "source": [
    "averaged_omission_pc = omission_pc.groupby(np.arange(len(omission_pc))//3).mean().reset_index()"
   ]
  },
  {
   "cell_type": "code",
   "execution_count": 158,
   "id": "36c577b6",
   "metadata": {},
   "outputs": [
    {
     "data": {
      "text/html": [
       "<div>\n",
       "<style scoped>\n",
       "    .dataframe tbody tr th:only-of-type {\n",
       "        vertical-align: middle;\n",
       "    }\n",
       "\n",
       "    .dataframe tbody tr th {\n",
       "        vertical-align: top;\n",
       "    }\n",
       "\n",
       "    .dataframe thead th {\n",
       "        text-align: right;\n",
       "    }\n",
       "</style>\n",
       "<table border=\"1\" class=\"dataframe\">\n",
       "  <thead>\n",
       "    <tr style=\"text-align: right;\">\n",
       "      <th></th>\n",
       "      <th>index</th>\n",
       "      <th>bin_time</th>\n",
       "      <th>0</th>\n",
       "      <th>1</th>\n",
       "    </tr>\n",
       "  </thead>\n",
       "  <tbody>\n",
       "    <tr>\n",
       "      <th>0</th>\n",
       "      <td>0</td>\n",
       "      <td>-4.9</td>\n",
       "      <td>24.235475</td>\n",
       "      <td>-5.697825</td>\n",
       "    </tr>\n",
       "    <tr>\n",
       "      <th>1</th>\n",
       "      <td>1</td>\n",
       "      <td>-4.6</td>\n",
       "      <td>7.404339</td>\n",
       "      <td>1.029547</td>\n",
       "    </tr>\n",
       "    <tr>\n",
       "      <th>2</th>\n",
       "      <td>2</td>\n",
       "      <td>-4.3</td>\n",
       "      <td>3.990503</td>\n",
       "      <td>-1.565499</td>\n",
       "    </tr>\n",
       "    <tr>\n",
       "      <th>3</th>\n",
       "      <td>3</td>\n",
       "      <td>-4.0</td>\n",
       "      <td>7.710619</td>\n",
       "      <td>-0.817354</td>\n",
       "    </tr>\n",
       "    <tr>\n",
       "      <th>4</th>\n",
       "      <td>4</td>\n",
       "      <td>-3.7</td>\n",
       "      <td>9.000845</td>\n",
       "      <td>0.192321</td>\n",
       "    </tr>\n",
       "    <tr>\n",
       "      <th>5</th>\n",
       "      <td>5</td>\n",
       "      <td>-3.4</td>\n",
       "      <td>16.869790</td>\n",
       "      <td>-2.059618</td>\n",
       "    </tr>\n",
       "    <tr>\n",
       "      <th>6</th>\n",
       "      <td>6</td>\n",
       "      <td>-3.1</td>\n",
       "      <td>10.206965</td>\n",
       "      <td>-1.682527</td>\n",
       "    </tr>\n",
       "    <tr>\n",
       "      <th>7</th>\n",
       "      <td>7</td>\n",
       "      <td>-2.8</td>\n",
       "      <td>9.592890</td>\n",
       "      <td>0.489567</td>\n",
       "    </tr>\n",
       "    <tr>\n",
       "      <th>8</th>\n",
       "      <td>8</td>\n",
       "      <td>-2.5</td>\n",
       "      <td>7.869816</td>\n",
       "      <td>-1.211234</td>\n",
       "    </tr>\n",
       "    <tr>\n",
       "      <th>9</th>\n",
       "      <td>9</td>\n",
       "      <td>-2.2</td>\n",
       "      <td>10.192192</td>\n",
       "      <td>0.711829</td>\n",
       "    </tr>\n",
       "    <tr>\n",
       "      <th>10</th>\n",
       "      <td>10</td>\n",
       "      <td>-1.9</td>\n",
       "      <td>11.970244</td>\n",
       "      <td>-0.410575</td>\n",
       "    </tr>\n",
       "    <tr>\n",
       "      <th>11</th>\n",
       "      <td>11</td>\n",
       "      <td>-1.6</td>\n",
       "      <td>15.124704</td>\n",
       "      <td>-1.570933</td>\n",
       "    </tr>\n",
       "    <tr>\n",
       "      <th>12</th>\n",
       "      <td>12</td>\n",
       "      <td>-1.3</td>\n",
       "      <td>25.959588</td>\n",
       "      <td>-2.361125</td>\n",
       "    </tr>\n",
       "    <tr>\n",
       "      <th>13</th>\n",
       "      <td>13</td>\n",
       "      <td>-1.0</td>\n",
       "      <td>16.333048</td>\n",
       "      <td>-2.876445</td>\n",
       "    </tr>\n",
       "    <tr>\n",
       "      <th>14</th>\n",
       "      <td>14</td>\n",
       "      <td>-0.7</td>\n",
       "      <td>5.713297</td>\n",
       "      <td>-0.778559</td>\n",
       "    </tr>\n",
       "    <tr>\n",
       "      <th>15</th>\n",
       "      <td>15</td>\n",
       "      <td>-0.4</td>\n",
       "      <td>6.443857</td>\n",
       "      <td>-0.413961</td>\n",
       "    </tr>\n",
       "    <tr>\n",
       "      <th>16</th>\n",
       "      <td>16</td>\n",
       "      <td>-0.1</td>\n",
       "      <td>1.056379</td>\n",
       "      <td>0.643055</td>\n",
       "    </tr>\n",
       "    <tr>\n",
       "      <th>17</th>\n",
       "      <td>17</td>\n",
       "      <td>0.2</td>\n",
       "      <td>8.591727</td>\n",
       "      <td>-0.377410</td>\n",
       "    </tr>\n",
       "    <tr>\n",
       "      <th>18</th>\n",
       "      <td>18</td>\n",
       "      <td>0.5</td>\n",
       "      <td>14.765856</td>\n",
       "      <td>-1.294952</td>\n",
       "    </tr>\n",
       "    <tr>\n",
       "      <th>19</th>\n",
       "      <td>19</td>\n",
       "      <td>0.8</td>\n",
       "      <td>27.824181</td>\n",
       "      <td>-2.622777</td>\n",
       "    </tr>\n",
       "    <tr>\n",
       "      <th>20</th>\n",
       "      <td>20</td>\n",
       "      <td>1.1</td>\n",
       "      <td>8.227467</td>\n",
       "      <td>0.070567</td>\n",
       "    </tr>\n",
       "    <tr>\n",
       "      <th>21</th>\n",
       "      <td>21</td>\n",
       "      <td>1.4</td>\n",
       "      <td>6.112340</td>\n",
       "      <td>-1.780662</td>\n",
       "    </tr>\n",
       "    <tr>\n",
       "      <th>22</th>\n",
       "      <td>22</td>\n",
       "      <td>1.7</td>\n",
       "      <td>23.099796</td>\n",
       "      <td>-0.517894</td>\n",
       "    </tr>\n",
       "    <tr>\n",
       "      <th>23</th>\n",
       "      <td>23</td>\n",
       "      <td>2.0</td>\n",
       "      <td>16.538835</td>\n",
       "      <td>-3.007888</td>\n",
       "    </tr>\n",
       "    <tr>\n",
       "      <th>24</th>\n",
       "      <td>24</td>\n",
       "      <td>2.3</td>\n",
       "      <td>6.907781</td>\n",
       "      <td>0.532149</td>\n",
       "    </tr>\n",
       "    <tr>\n",
       "      <th>25</th>\n",
       "      <td>25</td>\n",
       "      <td>2.6</td>\n",
       "      <td>7.883764</td>\n",
       "      <td>-1.205454</td>\n",
       "    </tr>\n",
       "    <tr>\n",
       "      <th>26</th>\n",
       "      <td>26</td>\n",
       "      <td>2.9</td>\n",
       "      <td>12.481343</td>\n",
       "      <td>-0.655577</td>\n",
       "    </tr>\n",
       "    <tr>\n",
       "      <th>27</th>\n",
       "      <td>27</td>\n",
       "      <td>3.2</td>\n",
       "      <td>21.049070</td>\n",
       "      <td>1.360782</td>\n",
       "    </tr>\n",
       "    <tr>\n",
       "      <th>28</th>\n",
       "      <td>28</td>\n",
       "      <td>3.5</td>\n",
       "      <td>17.092192</td>\n",
       "      <td>-2.332961</td>\n",
       "    </tr>\n",
       "    <tr>\n",
       "      <th>29</th>\n",
       "      <td>29</td>\n",
       "      <td>3.8</td>\n",
       "      <td>7.828551</td>\n",
       "      <td>-0.695024</td>\n",
       "    </tr>\n",
       "    <tr>\n",
       "      <th>30</th>\n",
       "      <td>30</td>\n",
       "      <td>4.1</td>\n",
       "      <td>10.133413</td>\n",
       "      <td>0.468513</td>\n",
       "    </tr>\n",
       "    <tr>\n",
       "      <th>31</th>\n",
       "      <td>31</td>\n",
       "      <td>4.4</td>\n",
       "      <td>10.196167</td>\n",
       "      <td>0.057699</td>\n",
       "    </tr>\n",
       "    <tr>\n",
       "      <th>32</th>\n",
       "      <td>32</td>\n",
       "      <td>4.7</td>\n",
       "      <td>15.938789</td>\n",
       "      <td>3.017729</td>\n",
       "    </tr>\n",
       "    <tr>\n",
       "      <th>33</th>\n",
       "      <td>33</td>\n",
       "      <td>5.0</td>\n",
       "      <td>9.530226</td>\n",
       "      <td>1.935914</td>\n",
       "    </tr>\n",
       "    <tr>\n",
       "      <th>34</th>\n",
       "      <td>34</td>\n",
       "      <td>5.3</td>\n",
       "      <td>12.563636</td>\n",
       "      <td>-0.873993</td>\n",
       "    </tr>\n",
       "    <tr>\n",
       "      <th>35</th>\n",
       "      <td>35</td>\n",
       "      <td>5.6</td>\n",
       "      <td>12.913178</td>\n",
       "      <td>-1.591376</td>\n",
       "    </tr>\n",
       "    <tr>\n",
       "      <th>36</th>\n",
       "      <td>36</td>\n",
       "      <td>5.9</td>\n",
       "      <td>14.950721</td>\n",
       "      <td>0.275511</td>\n",
       "    </tr>\n",
       "    <tr>\n",
       "      <th>37</th>\n",
       "      <td>37</td>\n",
       "      <td>6.2</td>\n",
       "      <td>6.319857</td>\n",
       "      <td>1.125608</td>\n",
       "    </tr>\n",
       "    <tr>\n",
       "      <th>38</th>\n",
       "      <td>38</td>\n",
       "      <td>6.5</td>\n",
       "      <td>6.952795</td>\n",
       "      <td>0.223251</td>\n",
       "    </tr>\n",
       "    <tr>\n",
       "      <th>39</th>\n",
       "      <td>39</td>\n",
       "      <td>6.8</td>\n",
       "      <td>7.220912</td>\n",
       "      <td>1.712674</td>\n",
       "    </tr>\n",
       "    <tr>\n",
       "      <th>40</th>\n",
       "      <td>40</td>\n",
       "      <td>7.1</td>\n",
       "      <td>13.121326</td>\n",
       "      <td>-1.009846</td>\n",
       "    </tr>\n",
       "    <tr>\n",
       "      <th>41</th>\n",
       "      <td>41</td>\n",
       "      <td>7.4</td>\n",
       "      <td>6.410747</td>\n",
       "      <td>0.747701</td>\n",
       "    </tr>\n",
       "    <tr>\n",
       "      <th>42</th>\n",
       "      <td>42</td>\n",
       "      <td>7.7</td>\n",
       "      <td>13.617059</td>\n",
       "      <td>1.802077</td>\n",
       "    </tr>\n",
       "    <tr>\n",
       "      <th>43</th>\n",
       "      <td>43</td>\n",
       "      <td>8.0</td>\n",
       "      <td>8.117059</td>\n",
       "      <td>0.440679</td>\n",
       "    </tr>\n",
       "    <tr>\n",
       "      <th>44</th>\n",
       "      <td>44</td>\n",
       "      <td>8.3</td>\n",
       "      <td>5.713454</td>\n",
       "      <td>2.733837</td>\n",
       "    </tr>\n",
       "    <tr>\n",
       "      <th>45</th>\n",
       "      <td>45</td>\n",
       "      <td>8.6</td>\n",
       "      <td>8.444984</td>\n",
       "      <td>1.719882</td>\n",
       "    </tr>\n",
       "    <tr>\n",
       "      <th>46</th>\n",
       "      <td>46</td>\n",
       "      <td>8.9</td>\n",
       "      <td>9.103126</td>\n",
       "      <td>-2.014898</td>\n",
       "    </tr>\n",
       "    <tr>\n",
       "      <th>47</th>\n",
       "      <td>47</td>\n",
       "      <td>9.2</td>\n",
       "      <td>8.555806</td>\n",
       "      <td>-1.371079</td>\n",
       "    </tr>\n",
       "    <tr>\n",
       "      <th>48</th>\n",
       "      <td>48</td>\n",
       "      <td>9.5</td>\n",
       "      <td>5.867143</td>\n",
       "      <td>0.344267</td>\n",
       "    </tr>\n",
       "    <tr>\n",
       "      <th>49</th>\n",
       "      <td>49</td>\n",
       "      <td>9.8</td>\n",
       "      <td>13.551102</td>\n",
       "      <td>-0.519286</td>\n",
       "    </tr>\n",
       "    <tr>\n",
       "      <th>50</th>\n",
       "      <td>50</td>\n",
       "      <td>10.0</td>\n",
       "      <td>6.944313</td>\n",
       "      <td>0.078465</td>\n",
       "    </tr>\n",
       "  </tbody>\n",
       "</table>\n",
       "</div>"
      ],
      "text/plain": [
       "    index  bin_time          0         1\n",
       "0       0      -4.9  24.235475 -5.697825\n",
       "1       1      -4.6   7.404339  1.029547\n",
       "2       2      -4.3   3.990503 -1.565499\n",
       "3       3      -4.0   7.710619 -0.817354\n",
       "4       4      -3.7   9.000845  0.192321\n",
       "5       5      -3.4  16.869790 -2.059618\n",
       "6       6      -3.1  10.206965 -1.682527\n",
       "7       7      -2.8   9.592890  0.489567\n",
       "8       8      -2.5   7.869816 -1.211234\n",
       "9       9      -2.2  10.192192  0.711829\n",
       "10     10      -1.9  11.970244 -0.410575\n",
       "11     11      -1.6  15.124704 -1.570933\n",
       "12     12      -1.3  25.959588 -2.361125\n",
       "13     13      -1.0  16.333048 -2.876445\n",
       "14     14      -0.7   5.713297 -0.778559\n",
       "15     15      -0.4   6.443857 -0.413961\n",
       "16     16      -0.1   1.056379  0.643055\n",
       "17     17       0.2   8.591727 -0.377410\n",
       "18     18       0.5  14.765856 -1.294952\n",
       "19     19       0.8  27.824181 -2.622777\n",
       "20     20       1.1   8.227467  0.070567\n",
       "21     21       1.4   6.112340 -1.780662\n",
       "22     22       1.7  23.099796 -0.517894\n",
       "23     23       2.0  16.538835 -3.007888\n",
       "24     24       2.3   6.907781  0.532149\n",
       "25     25       2.6   7.883764 -1.205454\n",
       "26     26       2.9  12.481343 -0.655577\n",
       "27     27       3.2  21.049070  1.360782\n",
       "28     28       3.5  17.092192 -2.332961\n",
       "29     29       3.8   7.828551 -0.695024\n",
       "30     30       4.1  10.133413  0.468513\n",
       "31     31       4.4  10.196167  0.057699\n",
       "32     32       4.7  15.938789  3.017729\n",
       "33     33       5.0   9.530226  1.935914\n",
       "34     34       5.3  12.563636 -0.873993\n",
       "35     35       5.6  12.913178 -1.591376\n",
       "36     36       5.9  14.950721  0.275511\n",
       "37     37       6.2   6.319857  1.125608\n",
       "38     38       6.5   6.952795  0.223251\n",
       "39     39       6.8   7.220912  1.712674\n",
       "40     40       7.1  13.121326 -1.009846\n",
       "41     41       7.4   6.410747  0.747701\n",
       "42     42       7.7  13.617059  1.802077\n",
       "43     43       8.0   8.117059  0.440679\n",
       "44     44       8.3   5.713454  2.733837\n",
       "45     45       8.6   8.444984  1.719882\n",
       "46     46       8.9   9.103126 -2.014898\n",
       "47     47       9.2   8.555806 -1.371079\n",
       "48     48       9.5   5.867143  0.344267\n",
       "49     49       9.8  13.551102 -0.519286\n",
       "50     50      10.0   6.944313  0.078465"
      ]
     },
     "execution_count": 158,
     "metadata": {},
     "output_type": "execute_result"
    }
   ],
   "source": [
    "averaged_omission_pc"
   ]
  },
  {
   "cell_type": "code",
   "execution_count": 159,
   "id": "ac037aba",
   "metadata": {},
   "outputs": [],
   "source": [
    "rewarded_pc = pc_product[pc_product[\"trial_type\"] == \"rewarded\"]"
   ]
  },
  {
   "cell_type": "code",
   "execution_count": 160,
   "id": "78e8dae8",
   "metadata": {},
   "outputs": [
    {
     "name": "stderr",
     "output_type": "stream",
     "text": [
      "/tmp/ipykernel_3248498/1512505606.py:1: FutureWarning: The default value of numeric_only in DataFrameGroupBy.mean is deprecated. In a future version, numeric_only will default to False. Either specify numeric_only or select only columns which should be valid for the function.\n",
      "  averaged_rewarded_pc = rewarded_pc.groupby(np.arange(len(rewarded_pc))//3).mean().reset_index()\n"
     ]
    }
   ],
   "source": [
    "averaged_rewarded_pc = rewarded_pc.groupby(np.arange(len(rewarded_pc))//3).mean().reset_index()"
   ]
  },
  {
   "cell_type": "code",
   "execution_count": 161,
   "id": "a181932a",
   "metadata": {},
   "outputs": [
    {
     "data": {
      "image/png": "[encoded data removed]",
      "text/plain": [
       "<Figure size 640x480 with 1 Axes>"
      ]
     },
     "metadata": {},
     "output_type": "display_data"
    }
   ],
   "source": [
    "plt.scatter(averaged_omission_pc[0], averaged_omission_pc[1], c=averaged_omission_pc[\"index\"], cmap='Reds')\n",
    "plt.scatter(averaged_rewarded_pc[0], averaged_rewarded_pc[1], c=averaged_rewarded_pc[\"index\"], cmap='Greens')\n",
    "\n",
    "plt.show()"
   ]
  },
  {
   "cell_type": "code",
   "execution_count": 162,
   "id": "8798e80e",
   "metadata": {},
   "outputs": [],
   "source": [
    "all_categories = sorted(pc_product[\"outcome_and_when\"].unique())"
   ]
  },
  {
   "cell_type": "code",
   "execution_count": 163,
   "id": "c7527586",
   "metadata": {},
   "outputs": [],
   "source": [
    "all_categories = [category for category in all_categories if not \"-10\" in category]"
   ]
  },
  {
   "cell_type": "code",
   "execution_count": 164,
   "id": "f60ca106",
   "metadata": {},
   "outputs": [
    {
     "data": {
      "text/plain": [
       "['-5s to 0s loss',\n",
       " '-5s to 0s omission',\n",
       " '-5s to 0s rewarded',\n",
       " '-5s to 0s win',\n",
       " '0s to 5s loss',\n",
       " '0s to 5s omission',\n",
       " '0s to 5s rewarded',\n",
       " '0s to 5s win',\n",
       " '5s to 10s loss',\n",
       " '5s to 10s omission',\n",
       " '5s to 10s rewarded',\n",
       " '5s to 10s win']"
      ]
     },
     "execution_count": 164,
     "metadata": {},
     "output_type": "execute_result"
    }
   ],
   "source": [
    "all_categories"
   ]
  },
  {
   "cell_type": "markdown",
   "id": "74802580",
   "metadata": {},
   "source": [
    "win: blue\n",
    "loss: yellow\n",
    "rewarded: green\n",
    "omission: red"
   ]
  },
  {
   "cell_type": "code",
   "execution_count": 165,
   "id": "dd166149",
   "metadata": {},
   "outputs": [],
   "source": [
    "all_colors = [\"gold\", \"pink\", \"lightgreen\", \"lightblue\", \"orange\", \"red\", \"green\", \"cyan\", \"darkorange\", \"darkred\", \"darkgreen\", \"darkcyan\"]\n"
   ]
  },
  {
   "cell_type": "code",
   "execution_count": 166,
   "id": "a717bd7c",
   "metadata": {
    "scrolled": true
   },
   "outputs": [
    {
     "data": {
      "image/png": "[encoded data removed]",
      "text/plain": [
       "<Figure size 800x800 with 1 Axes>"
      ]
     },
     "metadata": {},
     "output_type": "display_data"
    }
   ],
   "source": [
    "fig = plt.figure(figsize = (8,8))\n",
    "ax = fig.add_subplot(1,1,1) \n",
    "ax.set_xlabel('principal component 1', fontsize = 15)\n",
    "ax.set_ylabel('principal component 2', fontsize = 15)\n",
    "ax.set_title('2 component PCA', fontsize = 20)\n",
    "targets = rewarded_categories\n",
    "colors = [\"lightblue\", \"cyan\", \"darkcyan\"]\n",
    "for target, color in zip(all_categories, all_colors):\n",
    "    indicesToKeep = pc_product['outcome_and_when'] == target\n",
    "    ax.scatter(pc_product.loc[indicesToKeep, 0]\n",
    "               , pc_product.loc[indicesToKeep, 1]\n",
    "               , c = color\n",
    "               , s = 50)\n",
    "ax.legend(all_categories)\n",
    "ax.grid()"
   ]
  },
  {
   "cell_type": "markdown",
   "id": "85123ae0",
   "metadata": {},
   "source": [
    "## Looking at each plot individually across time"
   ]
  },
  {
   "cell_type": "code",
   "execution_count": 167,
   "id": "7298100f",
   "metadata": {
    "scrolled": true
   },
   "outputs": [
    {
     "data": {
      "image/png": "[encoded data removed]",
      "text/plain": [
       "<Figure size 800x800 with 1 Axes>"
      ]
     },
     "metadata": {},
     "output_type": "display_data"
    }
   ],
   "source": [
    "fig = plt.figure(figsize = (8,8))\n",
    "ax = fig.add_subplot(1,1,1) \n",
    "ax.set_xlabel('principal component 1', fontsize = 15)\n",
    "ax.set_ylabel('principal component 2', fontsize = 15)\n",
    "ax.set_title('2 component PCA', fontsize = 20)\n",
    "targets = omission_categories\n",
    "colors = [\"pink\", \"red\", \"darkred\"]\n",
    "for target, color in zip(targets,colors):\n",
    "    indicesToKeep = pc_product['outcome_and_when'] == target\n",
    "    ax.scatter(pc_product.loc[indicesToKeep, 0]\n",
    "               , pc_product.loc[indicesToKeep, 1]\n",
    "               , c = color\n",
    "               , s = 50)\n",
    "ax.legend(targets)\n",
    "ax.grid()"
   ]
  },
  {
   "cell_type": "code",
   "execution_count": null,
   "id": "67c19a38",
   "metadata": {},
   "outputs": [],
   "source": []
  },
  {
   "cell_type": "code",
   "execution_count": 168,
   "id": "1df3c30c",
   "metadata": {},
   "outputs": [
    {
     "data": {
      "image/png": "[encoded data removed]",
      "text/plain": [
       "<Figure size 800x800 with 1 Axes>"
      ]
     },
     "metadata": {},
     "output_type": "display_data"
    }
   ],
   "source": [
    "fig = plt.figure(figsize = (8,8))\n",
    "ax = fig.add_subplot(1,1,1) \n",
    "ax.set_xlabel('principal component 1', fontsize = 15)\n",
    "ax.set_ylabel('principal component 2', fontsize = 15)\n",
    "ax.set_title('2 component PCA', fontsize = 20)\n",
    "targets = rewarded_categories\n",
    "colors = [\"lightgreen\", \"green\", \"darkgreen\"]\n",
    "for target, color in zip(targets,colors):\n",
    "    indicesToKeep = pc_product['outcome_and_when'] == target\n",
    "    ax.scatter(pc_product.loc[indicesToKeep, 0]\n",
    "               , pc_product.loc[indicesToKeep, 1]\n",
    "               , c = color\n",
    "               , s = 50)\n",
    "ax.legend(targets)\n",
    "ax.grid()"
   ]
  },
  {
   "cell_type": "code",
   "execution_count": 169,
   "id": "6978f4c7",
   "metadata": {},
   "outputs": [
    {
     "data": {
      "image/png": "[encoded data removed]",
      "text/plain": [
       "<Figure size 800x800 with 1 Axes>"
      ]
     },
     "metadata": {},
     "output_type": "display_data"
    }
   ],
   "source": [
    "fig = plt.figure(figsize = (8,8))\n",
    "ax = fig.add_subplot(1,1,1) \n",
    "ax.set_xlabel('principal component 1', fontsize = 15)\n",
    "ax.set_ylabel('principal component 2', fontsize = 15)\n",
    "ax.set_title('2 component PCA', fontsize = 20)\n",
    "targets = win_categories\n",
    "colors = [\"lightblue\", \"cyan\", \"darkcyan\"]\n",
    "for target, color in zip(targets,colors):\n",
    "    indicesToKeep = pc_product['outcome_and_when'] == target\n",
    "    ax.scatter(pc_product.loc[indicesToKeep, 0]\n",
    "               , pc_product.loc[indicesToKeep, 1]\n",
    "               , c = color\n",
    "               , s = 50)\n",
    "ax.legend(targets)\n",
    "ax.grid()"
   ]
  },
  {
   "cell_type": "code",
   "execution_count": 170,
   "id": "85ea886a",
   "metadata": {},
   "outputs": [
    {
     "data": {
      "image/png": "[encoded data removed]",
      "text/plain": [
       "<Figure size 800x800 with 1 Axes>"
      ]
     },
     "metadata": {},
     "output_type": "display_data"
    }
   ],
   "source": [
    "fig = plt.figure(figsize = (8,8))\n",
    "ax = fig.add_subplot(1,1,1) \n",
    "ax.set_xlabel('principal component 1', fontsize = 15)\n",
    "ax.set_ylabel('principal component 2', fontsize = 15)\n",
    "ax.set_title('2 component PCA', fontsize = 20)\n",
    "targets = loss_categories\n",
    "colors = [\"gold\", \"orange\", \"darkorange\"]\n",
    "for target, color in zip(targets,colors):\n",
    "    indicesToKeep = pc_product['outcome_and_when'] == target\n",
    "    ax.scatter(pc_product.loc[indicesToKeep, 0]\n",
    "               , pc_product.loc[indicesToKeep, 1]\n",
    "               , c = color\n",
    "               , s = 50)\n",
    "ax.legend(targets)\n",
    "ax.grid()"
   ]
  },
  {
   "cell_type": "code",
   "execution_count": 171,
   "id": "826a5a9e",
   "metadata": {},
   "outputs": [
    {
     "data": {
      "image/png": "[encoded data removed]",
      "text/plain": [
       "<Figure size 800x800 with 1 Axes>"
      ]
     },
     "metadata": {},
     "output_type": "display_data"
    }
   ],
   "source": [
    "fig = plt.figure(figsize = (8,8))\n",
    "ax = fig.add_subplot(1,1,1) \n",
    "ax.set_xlabel('Principal Component 1', fontsize = 15)\n",
    "ax.set_ylabel('Principal Component 2', fontsize = 15)\n",
    "ax.set_title('2 component PCA', fontsize = 20)\n",
    "targets = ['-5s to 0s omission', '-5s to 0s rewarded', '-5s to 0s loss', '-5s to 0s win']\n",
    "colors = [\"pink\", \"lightgreen\", \"gold\", \"lightblue\"]\n",
    "for target, color in zip(targets,colors):\n",
    "    indicesToKeep = pc_product['outcome_and_when'] == target\n",
    "    ax.scatter(pc_product.loc[indicesToKeep, 0]\n",
    "               , pc_product.loc[indicesToKeep, 1]\n",
    "               , c = color\n",
    "               , s = 50)\n",
    "ax.legend(targets)\n",
    "ax.grid()"
   ]
  },
  {
   "cell_type": "code",
   "execution_count": 172,
   "id": "82e358b7",
   "metadata": {},
   "outputs": [
    {
     "data": {
      "image/png": "[encoded data removed]",
      "text/plain": [
       "<Figure size 800x800 with 1 Axes>"
      ]
     },
     "metadata": {},
     "output_type": "display_data"
    }
   ],
   "source": [
    "fig = plt.figure(figsize = (8,8))\n",
    "ax = fig.add_subplot(1,1,1) \n",
    "ax.set_xlabel('Principal Component 1', fontsize = 15)\n",
    "ax.set_ylabel('Principal Component 2', fontsize = 15)\n",
    "ax.set_title('2 component PCA', fontsize = 20)\n",
    "targets = ['0s to 5s omission', '0s to 5s rewarded', '0s to 5s loss', '0s to 5s win']\n",
    "colors = [\"red\", \"green\", \"orange\", \"cyan\"]\n",
    "for target, color in zip(targets,colors):\n",
    "    indicesToKeep = pc_product['outcome_and_when'] == target\n",
    "    ax.scatter(pc_product.loc[indicesToKeep, 0]\n",
    "               , pc_product.loc[indicesToKeep, 1]\n",
    "               , c = color\n",
    "               , s = 50)\n",
    "ax.legend(targets)\n",
    "ax.grid()"
   ]
  },
  {
   "cell_type": "code",
   "execution_count": 173,
   "id": "d9153d70",
   "metadata": {},
   "outputs": [
    {
     "data": {
      "image/png": "[encoded data removed]",
      "text/plain": [
       "<Figure size 800x800 with 1 Axes>"
      ]
     },
     "metadata": {},
     "output_type": "display_data"
    }
   ],
   "source": [
    "fig = plt.figure(figsize = (8,8))\n",
    "ax = fig.add_subplot(1,1,1) \n",
    "ax.set_xlabel('Principal Component 1', fontsize = 15)\n",
    "ax.set_ylabel('Principal Component 2', fontsize = 15)\n",
    "ax.set_title('2 component PCA', fontsize = 20)\n",
    "targets = ['5s to 10s omission', '5s to 10s rewarded', '5s to 10s loss', '5s to 10s win']\n",
    "colors = [\"darkred\", \"darkgreen\", \"darkorange\", \"darkcyan\"]\n",
    "for target, color in zip(targets,colors):\n",
    "    indicesToKeep = pc_product['outcome_and_when'] == target\n",
    "    ax.scatter(pc_product.loc[indicesToKeep, 0]\n",
    "               , pc_product.loc[indicesToKeep, 1]\n",
    "               , c = color\n",
    "               , s = 50)\n",
    "ax.legend(targets)\n",
    "ax.grid()"
   ]
  },
  {
   "cell_type": "code",
   "execution_count": null,
   "id": "e3f04d23",
   "metadata": {},
   "outputs": [],
   "source": []
  }
 ],
 "metadata": {
  "kernelspec": {
   "display_name": "Python 3 (ipykernel)",
   "language": "python",
   "name": "python3"
  },
  "language_info": {
   "codemirror_mode": {
    "name": "ipython",
    "version": 3
   },
   "file_extension": ".py",
   "mimetype": "text/x-python",
   "name": "python",
   "nbconvert_exporter": "python",
   "pygments_lexer": "ipython3",
   "version": "3.9.15"
  },
  "vscode": {
   "interpreter": {
    "hash": "916dbcbb3f70747c44a77c7bcd40155683ae19c65e1c03b4aa3499c5328201f1"
   }
  }
 },
 "nbformat": 4,
 "nbformat_minor": 5
}

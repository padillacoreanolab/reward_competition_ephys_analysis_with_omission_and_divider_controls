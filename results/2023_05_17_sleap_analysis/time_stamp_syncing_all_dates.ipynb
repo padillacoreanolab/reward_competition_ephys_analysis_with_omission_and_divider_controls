{
 "cells": [
  {
   "cell_type": "markdown",
   "id": "238a6b1a",
   "metadata": {},
   "source": [
    "# Spike Gadgets Ephys and Video Syncing"
   ]
  },
  {
   "cell_type": "code",
   "execution_count": 17,
   "id": "7650e225",
   "metadata": {},
   "outputs": [],
   "source": [
    "import re\n",
    "import sys\n",
    "from collections import defaultdict\n",
    "import random\n",
    "from random import randrange\n",
    "import glob\n",
    "import warnings\n",
    "import os\n",
    "import git\n",
    "import bisect\n"
   ]
  },
  {
   "cell_type": "code",
   "execution_count": 2,
   "id": "708b2d99",
   "metadata": {},
   "outputs": [],
   "source": [
    "import numpy as np\n",
    "import pandas as pd\n",
    "import cv2\n",
    "from IPython.display import Video\n",
    "import matplotlib.pyplot as plt"
   ]
  },
  {
   "cell_type": "code",
   "execution_count": 3,
   "id": "a0a6d069",
   "metadata": {},
   "outputs": [],
   "source": [
    "# setting path\n",
    "sys.path.append('../../src')"
   ]
  },
  {
   "cell_type": "code",
   "execution_count": 4,
   "id": "2c463f5c",
   "metadata": {},
   "outputs": [],
   "source": [
    "import trodes.read_exported"
   ]
  },
  {
   "cell_type": "code",
   "execution_count": 5,
   "id": "9a656325",
   "metadata": {},
   "outputs": [],
   "source": [
    "%matplotlib inline"
   ]
  },
  {
   "cell_type": "code",
   "execution_count": 6,
   "id": "2a850939",
   "metadata": {},
   "outputs": [],
   "source": [
    "np.random.seed(seed=42)"
   ]
  },
  {
   "cell_type": "markdown",
   "id": "47e5f0e3",
   "metadata": {},
   "source": [
    "# Part 0: Index of all the column names"
   ]
  },
  {
   "cell_type": "markdown",
   "id": "9ae18439",
   "metadata": {},
   "source": [
    "raw directory\n",
    "- raw_group0.dat\n",
    "    - voltage_value: Array with voltage measurement for each channel at each timestamp\n",
    "- timestamps.dat\n",
    "    - voltage_time_stamp: The time stamp of each voltage measurement\n",
    "\n",
    "parent directory\n",
    "- 1.videoTimeStamps.cameraHWSync\n",
    "    - frame_number: Calculated by getting the index of each video time stamp tuple \n",
    "    - PosTimestamp: The time stamp of each video frame\n",
    "    - HWframeCount: Unknown value. Starts at 30742 and increases by 1 for each tuple  \n",
    "    - HWTimestamp: Unknown value. All zeroes\n",
    "    - video_time: Calculated by dividing the frame number by the fps(frames per second) \n",
    "    - video_seconds: video_time, but rounded to seconds  \t\n",
    "    - These are filled in versions of the above collumns with the value from the most recent previous cell\n",
    "        - filled_PosTimestamp \t\n",
    "        - filledHWframeCount \t\n",
    "        - filled_frame_number \t\n",
    "        - filled_video_time \t\n",
    "        - filled_video_seconds \t\n",
    "\n",
    "DIO directory\n",
    "- dio_ECU_Din1.dat\n",
    "    - time: The time stamp the corresponds to the DIN input\n",
    "    - state: Binary state of whether there is input from DIN or not \t\n",
    "    - trial_number: Calculated by adding 1 to every time there is a DIN input\n",
    "    - These are filled in versions of the above collumns with the value from the most recent previous cell\n",
    "        - filled_state \t\n",
    "        - filled_trial_number\n",
    "\n",
    "ss_output directory (Spike sorting with Spike interface)\n",
    "- firings.npz\n",
    "    - unit_id: All the units that had a spike train for the given timestamp \t\n",
    "    - number_of_units: Calculated by counting the number of units that had a spike train"
   ]
  },
  {
   "cell_type": "markdown",
   "id": "0a766d9c",
   "metadata": {},
   "source": [
    "# Part 1: Inputting Data"
   ]
  },
  {
   "cell_type": "markdown",
   "id": "88a3e0d2",
   "metadata": {},
   "source": [
    "## Name of protocol for naming"
   ]
  },
  {
   "cell_type": "markdown",
   "id": "6df81b81",
   "metadata": {},
   "source": [
    "- This name will be used to name files and title plots. Please change if you are using a different protocol or adding more details\n",
    "    - **NOTE**: This should be changed based on the name the protocol"
   ]
  },
  {
   "cell_type": "code",
   "execution_count": 7,
   "id": "1cca08a6",
   "metadata": {},
   "outputs": [],
   "source": [
    "protocol_name = \"rc_extention\""
   ]
  },
  {
   "cell_type": "markdown",
   "id": "abf902c0",
   "metadata": {},
   "source": [
    "## Getting the file name of the raw data"
   ]
  },
  {
   "cell_type": "markdown",
   "id": "de61251a",
   "metadata": {},
   "source": [
    "- Default input folder and keyword to search the files for \n",
    "    - **NOTE**: This should not be changed unless there is a consistent change with the file naming convention"
   ]
  },
  {
   "cell_type": "code",
   "execution_count": 8,
   "id": "10271e7e",
   "metadata": {},
   "outputs": [],
   "source": [
    "input_folder = \"./data\""
   ]
  },
  {
   "cell_type": "markdown",
   "id": "b2aa48e2",
   "metadata": {},
   "source": [
    "- Make this cell into non-code block if you are using the same file path for multiple runs"
   ]
  },
  {
   "cell_type": "code",
   "execution_count": 9,
   "id": "6a8e2d04",
   "metadata": {},
   "outputs": [],
   "source": [
    "git_repo = git.Repo(\".\", search_parent_directories=True)\n",
    "git_root = git_repo.git.rev_parse(\"--show-toplevel\")"
   ]
  },
  {
   "cell_type": "code",
   "execution_count": 10,
   "id": "ce767fa9",
   "metadata": {},
   "outputs": [
    {
     "data": {
      "text/plain": [
       "'/nancy/projects/reward_competition_ephys_analysis_with_omission_and_divider_controls'"
      ]
     },
     "execution_count": 10,
     "metadata": {},
     "output_type": "execute_result"
    }
   ],
   "source": [
    "git_root"
   ]
  },
  {
   "cell_type": "code",
   "execution_count": 11,
   "id": "d6e84216",
   "metadata": {},
   "outputs": [],
   "source": [
    "recording_filepath_glob = \"data/test\""
   ]
  },
  {
   "cell_type": "code",
   "execution_count": 12,
   "id": "6b7880eb",
   "metadata": {},
   "outputs": [],
   "source": [
    "recording_filepath_glob = \"data/good/*\""
   ]
  },
  {
   "cell_type": "code",
   "execution_count": 13,
   "id": "e3da4352",
   "metadata": {},
   "outputs": [],
   "source": [
    "recording_absolute_path_glob = os.path.join(git_root, recording_filepath_glob)"
   ]
  },
  {
   "cell_type": "code",
   "execution_count": 14,
   "id": "e28e423f",
   "metadata": {},
   "outputs": [],
   "source": [
    "# Getting all the file paths of the recording files(that happen to all end in `.rec`)\n",
    "raw_data_all_files = glob.glob(recording_absolute_path_glob, recursive=True)"
   ]
  },
  {
   "cell_type": "code",
   "execution_count": 15,
   "id": "909dad5c",
   "metadata": {},
   "outputs": [
    {
     "data": {
      "text/plain": [
       "['/nancy/projects/reward_competition_ephys_analysis_with_omission_and_divider_controls/data/good/20221125_152723_competition_subject_6_1_and_6_2.rec',\n",
       " '/nancy/projects/reward_competition_ephys_analysis_with_omission_and_divider_controls/data/good/20221123_113957_omission_subject_6_1_and_6_4.rec',\n",
       " '/nancy/projects/reward_competition_ephys_analysis_with_omission_and_divider_controls/data/good/20221203_154800_omission_and_competition_subject_6_4_and_6_1.rec',\n",
       " '/nancy/projects/reward_competition_ephys_analysis_with_omission_and_divider_controls/data/good/20221125_144832_omission_subject_6_1_and_6_2.rec',\n",
       " '/nancy/projects/reward_competition_ephys_analysis_with_omission_and_divider_controls/data/good/20221215_145401_comp_amd_om_6_1_and_6_3.rec',\n",
       " '/nancy/projects/reward_competition_ephys_analysis_with_omission_and_divider_controls/data/good/20221122_161341_omission_subject_6_1_and_6_3.rec',\n",
       " '/nancy/projects/reward_competition_ephys_analysis_with_omission_and_divider_controls/data/good/20221122_164720_competition_subject_6_1_and_6_3.rec',\n",
       " '/nancy/projects/reward_competition_ephys_analysis_with_omission_and_divider_controls/data/good/20221123_122652_competition_subject_6_1_and_6_4.rec',\n",
       " '/nancy/projects/reward_competition_ephys_analysis_with_omission_and_divider_controls/data/good/20221202_134600_omission_and_competition_subject_6_1_and_6_2.rec',\n",
       " '/nancy/projects/reward_competition_ephys_analysis_with_omission_and_divider_controls/data/good/20221214_125409_om_and_comp_6_1_and_6_3.rec']"
      ]
     },
     "execution_count": 15,
     "metadata": {},
     "output_type": "execute_result"
    }
   ],
   "source": [
    "raw_data_all_files"
   ]
  },
  {
   "cell_type": "markdown",
   "id": "158520cc",
   "metadata": {},
   "source": [
    "## Extracting the data and the metadata from the Recording folder"
   ]
  },
  {
   "cell_type": "markdown",
   "id": "435d16f3",
   "metadata": {},
   "source": [
    "- Creating a dictionary that has the directory as the key and a dictionary that has the file name as the key and the "
   ]
  },
  {
   "cell_type": "code",
   "execution_count": 18,
   "id": "9fa13f41",
   "metadata": {},
   "outputs": [],
   "source": [
    "\n",
    "def find_closest(my_list, my_number):\n",
    "    \"\"\"\n",
    "    Assumes my_list is sorted. Returns the closest value to my_number.\n",
    "\n",
    "    If two numbers are equally close, return the smallest number.\n",
    "    \"\"\"\n",
    "    pos = bisect.bisect_left(my_list, my_number)\n",
    "    if pos == 0:\n",
    "        return my_list[0]\n",
    "    else:\n",
    "        return my_list[pos - 1]"
   ]
  },
  {
   "cell_type": "code",
   "execution_count": 24,
   "id": "b077fe4b",
   "metadata": {},
   "outputs": [
    {
     "name": "stderr",
     "output_type": "stream",
     "text": [
      "/nancy/projects/reward_competition_ephys_analysis_with_omission_and_divider_controls/results/2023_05_17_sleap_analysis/../../src/trodes/read_exported.py:138: UserWarning: Can not process /nancy/projects/reward_competition_ephys_analysis_with_omission_and_divider_controls/data/good/20221125_152723_competition_subject_6_1_and_6_2.rec/20221125_152723_competition_subject_6_1_and_6_2.rec\n",
      "  warnings.warn(\"Can not process {}\".format(absolute_file_path))\n",
      "/nancy/projects/reward_competition_ephys_analysis_with_omission_and_divider_controls/results/2023_05_17_sleap_analysis/../../src/trodes/read_exported.py:138: UserWarning: Can not process /nancy/projects/reward_competition_ephys_analysis_with_omission_and_divider_controls/data/good/20221125_152723_competition_subject_6_1_and_6_2.rec/20221125_152723_competition_subject_6_1_and_6_2.1.videoTimeStamps\n",
      "  warnings.warn(\"Can not process {}\".format(absolute_file_path))\n",
      "/nancy/projects/reward_competition_ephys_analysis_with_omission_and_divider_controls/results/2023_05_17_sleap_analysis/../../src/trodes/read_exported.py:70: FutureWarning: Passing (type, 1) or '1type' as a synonym of type is deprecated; in a future version of numpy, it will be understood as (type, (1,)) / '(1,)type'.\n",
      "  return np.dtype(typearr)\n",
      "/nancy/projects/reward_competition_ephys_analysis_with_omission_and_divider_controls/results/2023_05_17_sleap_analysis/../../src/trodes/read_exported.py:138: UserWarning: Can not process /nancy/projects/reward_competition_ephys_analysis_with_omission_and_divider_controls/data/good/20221125_152723_competition_subject_6_1_and_6_2.rec/20221125_152723_competition_subject_6_1_top_3_base_2_merged.trodesconf\n",
      "  warnings.warn(\"Can not process {}\".format(absolute_file_path))\n",
      "/nancy/projects/reward_competition_ephys_analysis_with_omission_and_divider_controls/results/2023_05_17_sleap_analysis/../../src/trodes/read_exported.py:138: UserWarning: Can not process /nancy/projects/reward_competition_ephys_analysis_with_omission_and_divider_controls/data/good/20221125_152723_competition_subject_6_1_and_6_2.rec/20221125_152723_competition_subject_6_1_and_6_2.1.original.mp4\n",
      "  warnings.warn(\"Can not process {}\".format(absolute_file_path))\n",
      "/nancy/projects/reward_competition_ephys_analysis_with_omission_and_divider_controls/results/2023_05_17_sleap_analysis/../../src/trodes/read_exported.py:138: UserWarning: Can not process /nancy/projects/reward_competition_ephys_analysis_with_omission_and_divider_controls/data/good/20221125_152723_competition_subject_6_1_and_6_2.rec/logger_raw.dat\n",
      "  warnings.warn(\"Can not process {}\".format(absolute_file_path))\n",
      "/nancy/projects/reward_competition_ephys_analysis_with_omission_and_divider_controls/results/2023_05_17_sleap_analysis/../../src/trodes/read_exported.py:138: UserWarning: Can not process /nancy/projects/reward_competition_ephys_analysis_with_omission_and_divider_controls/data/good/20221125_152723_competition_subject_6_1_and_6_2.rec/20221125_152723_competition_subject_6_1_and_6_2.1.h264\n",
      "  warnings.warn(\"Can not process {}\".format(absolute_file_path))\n",
      "/nancy/projects/reward_competition_ephys_analysis_with_omission_and_divider_controls/results/2023_05_17_sleap_analysis/../../src/trodes/read_exported.py:138: UserWarning: Can not process /nancy/projects/reward_competition_ephys_analysis_with_omission_and_divider_controls/data/good/20221125_152723_competition_subject_6_1_and_6_2.rec/20221125_152723_competition_subject_6_1_top_3_base_2_merged.rec\n",
      "  warnings.warn(\"Can not process {}\".format(absolute_file_path))\n",
      "/nancy/projects/reward_competition_ephys_analysis_with_omission_and_divider_controls/results/2023_05_17_sleap_analysis/../../src/trodes/read_exported.py:138: UserWarning: Can not process /nancy/projects/reward_competition_ephys_analysis_with_omission_and_divider_controls/data/good/20221125_152723_competition_subject_6_1_and_6_2.rec/20221125_152723_competition_subject_6_1_and_6_2.1.fixed.mp4\n",
      "  warnings.warn(\"Can not process {}\".format(absolute_file_path))\n",
      "/nancy/projects/reward_competition_ephys_analysis_with_omission_and_divider_controls/results/2023_05_17_sleap_analysis/../../src/trodes/read_exported.py:138: UserWarning: Can not process /nancy/projects/reward_competition_ephys_analysis_with_omission_and_divider_controls/data/good/20221125_152723_competition_subject_6_1_and_6_2.rec/20221125_152723_competition_subject_6_1_and_6_2.1.trackgeometry\n",
      "  warnings.warn(\"Can not process {}\".format(absolute_file_path))\n",
      "/nancy/projects/reward_competition_ephys_analysis_with_omission_and_divider_controls/results/2023_05_17_sleap_analysis/../../src/trodes/read_exported.py:138: UserWarning: Can not process /nancy/projects/reward_competition_ephys_analysis_with_omission_and_divider_controls/data/good/20221125_152723_competition_subject_6_1_and_6_2.rec/20221125_152723_competition_subject_6_1_top_3_base_2_merged.timestampoffset/20221125_152723_competition_subject_6_1_top_3_base_2_merged.timestampoffset.txt\n",
      "  warnings.warn(\"Can not process {}\".format(absolute_file_path))\n"
     ]
    },
    {
     "name": "stdout",
     "output_type": "stream",
     "text": [
      "file prefix: 1.videoTimeStamps.cameraHWSync\n",
      "directory prefix: .\n",
      "file prefix: analog_ECU_Ain4.dat\n",
      "directory prefix: analog\n",
      "file prefix: analog_ECU_Ain3.dat\n",
      "directory prefix: analog\n",
      "file prefix: analog_Headstage_GyroZ.dat\n",
      "directory prefix: analog\n",
      "file prefix: analog_ECU_Ain6.dat\n",
      "directory prefix: analog\n",
      "file prefix: analog_ECU_Ain1.dat\n",
      "directory prefix: analog\n",
      "file prefix: analog_ECU_Ain7.dat\n",
      "directory prefix: analog\n",
      "file prefix: analog_Controller_Ain1.dat\n",
      "directory prefix: analog\n",
      "file prefix: timestamps.dat\n",
      "directory prefix: analog\n",
      "file prefix: analog_Headstage_AccelX.dat\n",
      "directory prefix: analog\n",
      "file prefix: analog_ECU_Aout4.dat\n",
      "directory prefix: analog\n",
      "file prefix: analog_Headstage_AccelZ.dat\n",
      "directory prefix: analog\n",
      "file prefix: analog_Headstage_AccelY.dat\n",
      "directory prefix: analog\n",
      "file prefix: analog_ECU_Aout1.dat\n",
      "directory prefix: analog\n",
      "file prefix: analog_Headstage_MagY.dat\n",
      "directory prefix: analog\n",
      "file prefix: analog_ECU_Ain2.dat\n",
      "directory prefix: analog\n",
      "file prefix: analog_Headstage_GyroY.dat\n",
      "directory prefix: analog\n",
      "file prefix: analog_Headstage_MagZ.dat\n",
      "directory prefix: analog\n",
      "file prefix: analog_ECU_Aout2.dat\n",
      "directory prefix: analog\n",
      "file prefix: analog_Headstage_MagX.dat\n",
      "directory prefix: analog\n",
      "file prefix: analog_ECU_Ain8.dat\n",
      "directory prefix: analog\n",
      "file prefix: analog_ECU_Ain5.dat\n",
      "directory prefix: analog\n",
      "file prefix: analog_ECU_Aout3.dat\n",
      "directory prefix: analog\n",
      "file prefix: analog_Headstage_GyroX.dat\n",
      "directory prefix: analog\n",
      "file prefix: 1.videoTimeStamps.cameraHWSync\n",
      "directory prefix: .\n",
      "file prefix: timestamps.dat\n",
      "directory prefix: time\n",
      "file prefix: raw_group0.dat\n",
      "directory prefix: raw\n",
      "file prefix: timestamps.dat\n",
      "directory prefix: raw\n",
      "file prefix: group0.coordinates.dat\n",
      "directory prefix: raw\n",
      "file prefix: group0.coordinates.dat\n",
      "directory prefix: mountainsort\n",
      "file prefix: 1.videoTimeStamps.cameraHWSync\n",
      "directory prefix: .\n",
      "file prefix: spikes_nt4.dat\n",
      "directory prefix: spikes\n",
      "file prefix: spikes_nt27.dat\n",
      "directory prefix: spikes\n",
      "file prefix: spikes_nt20.dat\n",
      "directory prefix: spikes\n",
      "file prefix: spikes_nt11.dat\n",
      "directory prefix: spikes\n",
      "file prefix: spikes_nt29.dat\n",
      "directory prefix: spikes\n",
      "file prefix: spikes_nt7.dat\n",
      "directory prefix: spikes\n",
      "file prefix: spikes_nt12.dat\n",
      "directory prefix: spikes\n",
      "file prefix: spikes_nt2.dat\n",
      "directory prefix: spikes\n",
      "file prefix: spikes_nt23.dat\n",
      "directory prefix: spikes\n",
      "file prefix: spikes_nt14.dat\n",
      "directory prefix: spikes\n",
      "file prefix: spikes_nt24.dat\n",
      "directory prefix: spikes\n"
     ]
    },
    {
     "name": "stderr",
     "output_type": "stream",
     "text": [
      "/nancy/projects/reward_competition_ephys_analysis_with_omission_and_divider_controls/results/2023_05_17_sleap_analysis/../../src/trodes/read_exported.py:138: UserWarning: Can not process /nancy/projects/reward_competition_ephys_analysis_with_omission_and_divider_controls/data/good/20221125_152723_competition_subject_6_1_and_6_2.rec/20221125_152723_competition_subject_6_1_top_3_base_2_merged.mountainsort/20221125_152723_competition_subject_6_1_top_3_base_2_merged.timestamps.mda\n",
      "  warnings.warn(\"Can not process {}\".format(absolute_file_path))\n",
      "/nancy/projects/reward_competition_ephys_analysis_with_omission_and_divider_controls/results/2023_05_17_sleap_analysis/../../src/trodes/read_exported.py:138: UserWarning: Can not process /nancy/projects/reward_competition_ephys_analysis_with_omission_and_divider_controls/data/good/20221125_152723_competition_subject_6_1_and_6_2.rec/20221125_152723_competition_subject_6_1_top_3_base_2_merged.mountainsort/20221125_152723_competition_subject_6_1_top_3_base_2_merged.group0.mda\n",
      "  warnings.warn(\"Can not process {}\".format(absolute_file_path))\n"
     ]
    },
    {
     "name": "stdout",
     "output_type": "stream",
     "text": [
      "file prefix: spikes_nt30.dat\n",
      "directory prefix: spikes\n",
      "file prefix: spikes_nt15.dat\n",
      "directory prefix: spikes\n",
      "file prefix: spikes_nt17.dat\n",
      "directory prefix: spikes\n",
      "file prefix: spikes_nt26.dat\n",
      "directory prefix: spikes\n",
      "file prefix: spikes_nt19.dat\n",
      "directory prefix: spikes\n",
      "file prefix: spikes_nt31.dat\n",
      "directory prefix: spikes\n",
      "file prefix: spikes_nt25.dat\n",
      "directory prefix: spikes\n",
      "file prefix: spikes_nt22.dat\n",
      "directory prefix: spikes\n",
      "file prefix: spikes_nt32.dat\n",
      "directory prefix: spikes\n",
      "file prefix: spikes_nt10.dat\n",
      "directory prefix: spikes\n",
      "file prefix: spikes_nt28.dat\n",
      "directory prefix: spikes\n",
      "file prefix: spikes_nt16.dat\n",
      "directory prefix: spikes\n",
      "file prefix: spikes_nt8.dat\n",
      "directory prefix: spikes\n",
      "file prefix: spikes_nt9.dat\n",
      "directory prefix: spikes\n",
      "file prefix: spikes_nt18.dat\n",
      "directory prefix: spikes\n",
      "file prefix: spikes_nt3.dat\n",
      "directory prefix: spikes\n",
      "file prefix: spikes_nt21.dat\n",
      "directory prefix: spikes\n",
      "file prefix: spikes_nt6.dat\n",
      "directory prefix: spikes\n",
      "file prefix: spikes_nt1.dat\n",
      "directory prefix: spikes\n",
      "file prefix: spikes_nt13.dat\n",
      "directory prefix: spikes\n",
      "file prefix: spikes_nt5.dat\n",
      "directory prefix: spikes\n",
      "file prefix: timestamps.dat\n",
      "directory prefix: stimulation\n",
      "file prefix: 1.videoTimeStamps.cameraHWSync\n",
      "directory prefix: .\n",
      "file prefix: 1.videoTimeStamps.cameraHWSync\n",
      "directory prefix: .\n",
      "file prefix: 1.videoTimeStamps.cameraHWSync\n",
      "directory prefix: .\n",
      "file prefix: 1.videoTimeStamps.cameraHWSync\n",
      "directory prefix: .\n",
      "file prefix: timestamps.dat\n",
      "directory prefix: kilosort\n",
      "file prefix: group0.coordinates.dat\n",
      "directory prefix: kilosort\n",
      "file prefix: dio_ECU_Dout20.dat\n",
      "directory prefix: DIO\n",
      "file prefix: dio_ECU_Dout9.dat\n",
      "directory prefix: DIO\n",
      "file prefix: dio_ECU_Din19.dat\n",
      "directory prefix: DIO\n",
      "file prefix: dio_ECU_Din7.dat\n",
      "directory prefix: DIO\n",
      "file prefix: dio_Controller_Din8.dat\n",
      "directory prefix: DIO\n",
      "file prefix: dio_ECU_Dout5.dat\n",
      "directory prefix: DIO\n",
      "file prefix: dio_ECU_Dout26.dat\n",
      "directory prefix: DIO\n",
      "file prefix: dio_ECU_Din29.dat\n",
      "directory prefix: DIO\n",
      "file prefix: dio_ECU_Dout3.dat\n",
      "directory prefix: DIO\n",
      "file prefix: dio_ECU_Dout31.dat\n",
      "directory prefix: DIO\n",
      "file prefix: dio_ECU_Din28.dat\n",
      "directory prefix: DIO\n",
      "file prefix: dio_ECU_Dout27.dat\n",
      "directory prefix: DIO\n",
      "file prefix: dio_Controller_Din6.dat\n",
      "directory prefix: DIO\n",
      "file prefix: dio_ECU_Dout10.dat\n",
      "directory prefix: DIO\n",
      "file prefix: dio_ECU_Din25.dat\n",
      "directory prefix: DIO\n",
      "file prefix: dio_ECU_Dout6.dat\n",
      "directory prefix: DIO\n",
      "file prefix: dio_ECU_Dout1.dat\n",
      "directory prefix: DIO\n",
      "file prefix: dio_ECU_Din12.dat\n",
      "directory prefix: DIO\n",
      "file prefix: dio_ECU_Dout28.dat\n",
      "directory prefix: DIO\n",
      "file prefix: dio_ECU_Dout29.dat\n",
      "directory prefix: DIO\n",
      "file prefix: dio_ECU_Din14.dat\n",
      "directory prefix: DIO\n",
      "file prefix: dio_ECU_Din5.dat\n",
      "directory prefix: DIO\n",
      "file prefix: dio_ECU_Dout13.dat\n",
      "directory prefix: DIO\n",
      "file prefix: dio_ECU_Dout16.dat\n",
      "directory prefix: DIO\n",
      "file prefix: dio_ECU_Dout32.dat\n",
      "directory prefix: DIO\n",
      "file prefix: dio_ECU_Dout15.dat\n",
      "directory prefix: DIO\n",
      "file prefix: dio_ECU_Dout11.dat\n",
      "directory prefix: DIO\n",
      "file prefix: dio_ECU_Din16.dat\n",
      "directory prefix: DIO\n",
      "file prefix: dio_ECU_Din18.dat\n",
      "directory prefix: DIO\n",
      "file prefix: dio_ECU_Dout24.dat\n",
      "directory prefix: DIO\n",
      "file prefix: dio_ECU_Din17.dat\n",
      "directory prefix: DIO\n",
      "file prefix: dio_ECU_Din4.dat\n",
      "directory prefix: DIO\n",
      "file prefix: dio_ECU_Din23.dat\n",
      "directory prefix: DIO\n",
      "file prefix: dio_ECU_Din1.dat\n",
      "directory prefix: DIO\n",
      "file prefix: dio_Controller_Din4.dat\n",
      "directory prefix: DIO\n",
      "file prefix: dio_ECU_Din11.dat\n",
      "directory prefix: DIO\n",
      "file prefix: dio_ECU_Dout22.dat\n",
      "directory prefix: DIO\n",
      "file prefix: dio_ECU_Dout30.dat\n",
      "directory prefix: DIO\n",
      "file prefix: dio_ECU_Dout2.dat\n",
      "directory prefix: DIO\n",
      "file prefix: dio_ECU_Din21.dat\n",
      "directory prefix: DIO\n",
      "file prefix: dio_ECU_Din24.dat\n",
      "directory prefix: DIO\n",
      "file prefix: dio_ECU_Dout18.dat\n",
      "directory prefix: DIO\n",
      "file prefix: dio_ECU_Din31.dat\n",
      "directory prefix: DIO\n",
      "file prefix: dio_ECU_Din9.dat\n",
      "directory prefix: DIO\n",
      "file prefix: dio_ECU_Din6.dat\n",
      "directory prefix: DIO\n",
      "file prefix: dio_Controller_Din2.dat\n",
      "directory prefix: DIO\n",
      "file prefix: dio_Controller_Din1.dat\n",
      "directory prefix: DIO\n",
      "file prefix: dio_ECU_Din20.dat\n",
      "directory prefix: DIO\n",
      "file prefix: dio_ECU_Din32.dat\n",
      "directory prefix: DIO\n",
      "file prefix: dio_ECU_Dout21.dat\n",
      "directory prefix: DIO\n",
      "file prefix: dio_ECU_Din26.dat\n",
      "directory prefix: DIO\n",
      "file prefix: dio_ECU_Din22.dat\n",
      "directory prefix: DIO\n",
      "file prefix: dio_ECU_Din10.dat\n",
      "directory prefix: DIO\n",
      "file prefix: dio_ECU_Dout19.dat\n",
      "directory prefix: DIO\n",
      "file prefix: dio_ECU_Din15.dat\n",
      "directory prefix: DIO\n",
      "file prefix: dio_Controller_Din5.dat\n",
      "directory prefix: DIO\n",
      "file prefix: dio_ECU_Din3.dat\n",
      "directory prefix: DIO\n",
      "file prefix: dio_ECU_Dout8.dat\n",
      "directory prefix: DIO\n",
      "file prefix: dio_ECU_Din27.dat\n",
      "directory prefix: DIO\n",
      "file prefix: dio_ECU_Din2.dat\n",
      "directory prefix: DIO\n",
      "file prefix: dio_Controller_Din3.dat\n",
      "directory prefix: DIO\n",
      "file prefix: dio_ECU_Din8.dat\n",
      "directory prefix: DIO\n",
      "file prefix: dio_Controller_Din7.dat\n",
      "directory prefix: DIO\n",
      "file prefix: dio_ECU_Dout23.dat\n",
      "directory prefix: DIO\n",
      "file prefix: dio_ECU_Dout25.dat\n",
      "directory prefix: DIO\n",
      "file prefix: dio_ECU_Dout12.dat\n",
      "directory prefix: DIO\n",
      "file prefix: dio_ECU_Din13.dat\n",
      "directory prefix: DIO\n",
      "file prefix: dio_ECU_Din30.dat\n",
      "directory prefix: DIO\n",
      "file prefix: dio_ECU_Dout14.dat\n",
      "directory prefix: DIO\n",
      "file prefix: dio_ECU_Dout7.dat\n",
      "directory prefix: DIO\n",
      "file prefix: dio_ECU_Dout4.dat\n",
      "directory prefix: DIO\n",
      "file prefix: dio_ECU_Dout17.dat\n",
      "directory prefix: DIO\n",
      "file prefix: spikeband_nt3ch1.dat\n",
      "directory prefix: spikeband\n",
      "file prefix: spikeband_nt20ch1.dat\n",
      "directory prefix: spikeband\n",
      "file prefix: spikeband_nt6ch1.dat\n",
      "directory prefix: spikeband\n",
      "file prefix: spikeband_nt22ch1.dat\n",
      "directory prefix: spikeband\n"
     ]
    },
    {
     "name": "stderr",
     "output_type": "stream",
     "text": [
      "/nancy/projects/reward_competition_ephys_analysis_with_omission_and_divider_controls/results/2023_05_17_sleap_analysis/../../src/trodes/read_exported.py:138: UserWarning: Can not process /nancy/projects/reward_competition_ephys_analysis_with_omission_and_divider_controls/data/good/20221125_152723_competition_subject_6_1_and_6_2.rec/20221125_152723_competition_subject_6_1_top_3_base_2_merged.kilosort/20221125_152723_competition_subject_6_1_top_3_base_2_merged.group0.dat\n",
      "  warnings.warn(\"Can not process {}\".format(absolute_file_path))\n"
     ]
    },
    {
     "name": "stdout",
     "output_type": "stream",
     "text": [
      "file prefix: spikeband_nt18ch1.dat\n",
      "directory prefix: spikeband\n",
      "file prefix: spikeband_nt12ch1.dat\n",
      "directory prefix: spikeband\n",
      "file prefix: spikeband_nt7ch1.dat\n",
      "directory prefix: spikeband\n",
      "file prefix: spikeband_nt23ch1.dat\n",
      "directory prefix: spikeband\n",
      "file prefix: spikeband_nt32ch1.dat\n",
      "directory prefix: spikeband\n",
      "file prefix: spikeband_nt11ch1.dat\n",
      "directory prefix: spikeband\n",
      "file prefix: spikeband_nt16ch1.dat\n",
      "directory prefix: spikeband\n",
      "file prefix: spikeband_nt15ch1.dat\n",
      "directory prefix: spikeband\n",
      "file prefix: spikeband_nt29ch1.dat\n",
      "directory prefix: spikeband\n",
      "file prefix: spikeband_nt31ch1.dat\n",
      "directory prefix: spikeband\n",
      "file prefix: spikeband_nt21ch1.dat\n",
      "directory prefix: spikeband\n",
      "file prefix: spikeband_nt24ch1.dat\n",
      "directory prefix: spikeband\n",
      "file prefix: spikeband_nt4ch1.dat\n",
      "directory prefix: spikeband\n",
      "file prefix: spikeband_nt30ch1.dat\n",
      "directory prefix: spikeband\n",
      "file prefix: timestamps.dat\n",
      "directory prefix: spikeband\n",
      "file prefix: spikeband_nt10ch1.dat\n",
      "directory prefix: spikeband\n",
      "file prefix: spikeband_nt9ch1.dat\n",
      "directory prefix: spikeband\n",
      "file prefix: spikeband_nt17ch1.dat\n",
      "directory prefix: spikeband\n",
      "file prefix: spikeband_nt19ch1.dat\n",
      "directory prefix: spikeband\n",
      "file prefix: spikeband_nt2ch1.dat\n",
      "directory prefix: spikeband\n",
      "file prefix: spikeband_nt1ch1.dat\n",
      "directory prefix: spikeband\n",
      "file prefix: spikeband_nt5ch1.dat\n",
      "directory prefix: spikeband\n",
      "file prefix: spikeband_nt25ch1.dat\n",
      "directory prefix: spikeband\n",
      "file prefix: spikeband_nt8ch1.dat\n",
      "directory prefix: spikeband\n",
      "file prefix: spikeband_nt28ch1.dat\n",
      "directory prefix: spikeband\n",
      "file prefix: spikeband_nt27ch1.dat\n",
      "directory prefix: spikeband\n",
      "file prefix: spikeband_nt14ch1.dat\n",
      "directory prefix: spikeband\n",
      "file prefix: spikeband_nt13ch1.dat\n",
      "directory prefix: spikeband\n",
      "file prefix: spikeband_nt26ch1.dat\n",
      "directory prefix: spikeband\n",
      "file prefix: 1.videoTimeStamps.cameraHWSync\n",
      "directory prefix: .\n",
      "file prefix: LFP_nt22ch1.dat\n",
      "directory prefix: LFP\n",
      "file prefix: LFP_nt5ch1.dat\n",
      "directory prefix: LFP\n",
      "file prefix: LFP_nt12ch1.dat\n",
      "directory prefix: LFP\n",
      "file prefix: LFP_nt18ch1.dat\n",
      "directory prefix: LFP\n",
      "file prefix: LFP_nt3ch1.dat\n",
      "directory prefix: LFP\n",
      "file prefix: LFP_nt10ch1.dat\n",
      "directory prefix: LFP\n",
      "file prefix: LFP_nt4ch1.dat\n",
      "directory prefix: LFP\n",
      "file prefix: LFP_nt9ch1.dat\n",
      "directory prefix: LFP\n",
      "file prefix: LFP_nt11ch1.dat\n",
      "directory prefix: LFP\n",
      "file prefix: LFP_nt25ch1.dat\n",
      "directory prefix: LFP\n",
      "file prefix: LFP_nt24ch1.dat\n",
      "directory prefix: LFP\n",
      "file prefix: LFP_nt30ch1.dat\n",
      "directory prefix: LFP\n",
      "file prefix: LFP_nt6ch1.dat\n",
      "directory prefix: LFP\n",
      "file prefix: LFP_nt26ch1.dat\n",
      "directory prefix: LFP\n",
      "file prefix: timestamps.dat\n",
      "directory prefix: LFP\n",
      "file prefix: LFP_nt19ch1.dat\n",
      "directory prefix: LFP\n",
      "file prefix: LFP_nt13ch1.dat\n",
      "directory prefix: LFP\n",
      "file prefix: LFP_nt28ch1.dat\n",
      "directory prefix: LFP\n",
      "file prefix: LFP_nt32ch1.dat\n",
      "directory prefix: LFP\n",
      "file prefix: LFP_nt7ch1.dat\n",
      "directory prefix: LFP\n",
      "file prefix: LFP_nt20ch1.dat\n",
      "directory prefix: LFP\n",
      "file prefix: LFP_nt29ch1.dat\n",
      "directory prefix: LFP\n",
      "file prefix: LFP_nt8ch1.dat\n",
      "directory prefix: LFP\n",
      "file prefix: LFP_nt23ch1.dat\n",
      "directory prefix: LFP\n",
      "file prefix: LFP_nt17ch1.dat\n",
      "directory prefix: LFP\n",
      "file prefix: LFP_nt21ch1.dat\n",
      "directory prefix: LFP\n",
      "file prefix: LFP_nt27ch1.dat\n",
      "directory prefix: LFP\n",
      "file prefix: LFP_nt15ch1.dat\n",
      "directory prefix: LFP\n",
      "file prefix: LFP_nt16ch1.dat\n",
      "directory prefix: LFP\n",
      "file prefix: LFP_nt14ch1.dat\n",
      "directory prefix: LFP\n",
      "file prefix: LFP_nt31ch1.dat\n",
      "directory prefix: LFP\n",
      "file prefix: LFP_nt2ch1.dat\n",
      "directory prefix: LFP\n",
      "file prefix: LFP_nt1ch1.dat\n",
      "directory prefix: LFP\n",
      "file prefix: 1.videoTimeStamps.cameraHWSync\n",
      "directory prefix: .\n",
      "file prefix: 1.videoTimeStamps.cameraHWSync\n",
      "directory prefix: .\n",
      "file prefix: 1.videoTimeStamps.cameraHWSync\n",
      "directory prefix: .\n",
      "file prefix: 1.videoTimeStamps.cameraHWSync\n",
      "directory prefix: .\n",
      "file prefix: 1.videoTimeStamps.cameraHWSync\n",
      "directory prefix: .\n",
      "file prefix: 1.videoTimeStamps.cameraHWSync\n",
      "directory prefix: .\n"
     ]
    },
    {
     "name": "stderr",
     "output_type": "stream",
     "text": [
      "/nancy/projects/reward_competition_ephys_analysis_with_omission_and_divider_controls/results/2023_05_17_sleap_analysis/../../src/trodes/read_exported.py:138: UserWarning: Can not process /nancy/projects/reward_competition_ephys_analysis_with_omission_and_divider_controls/data/good/20221123_113957_omission_subject_6_1_and_6_4.rec/20221123_113957_omission_subject_6_1_and_6_4.1.fixed.mp4\n",
      "  warnings.warn(\"Can not process {}\".format(absolute_file_path))\n",
      "/nancy/projects/reward_competition_ephys_analysis_with_omission_and_divider_controls/results/2023_05_17_sleap_analysis/../../src/trodes/read_exported.py:138: UserWarning: Can not process /nancy/projects/reward_competition_ephys_analysis_with_omission_and_divider_controls/data/good/20221123_113957_omission_subject_6_1_and_6_4.rec/20221123_113957_omission_subject_6_1_and_6_4.1.trackgeometry\n",
      "  warnings.warn(\"Can not process {}\".format(absolute_file_path))\n",
      "/nancy/projects/reward_competition_ephys_analysis_with_omission_and_divider_controls/results/2023_05_17_sleap_analysis/../../src/trodes/read_exported.py:138: UserWarning: Can not process /nancy/projects/reward_competition_ephys_analysis_with_omission_and_divider_controls/data/good/20221123_113957_omission_subject_6_1_and_6_4.rec/20221123_113957_omission_subject_6_1_and_6_4.1.original.mp4\n",
      "  warnings.warn(\"Can not process {}\".format(absolute_file_path))\n",
      "/nancy/projects/reward_competition_ephys_analysis_with_omission_and_divider_controls/results/2023_05_17_sleap_analysis/../../src/trodes/read_exported.py:138: UserWarning: Can not process /nancy/projects/reward_competition_ephys_analysis_with_omission_and_divider_controls/data/good/20221123_113957_omission_subject_6_1_and_6_4.rec/20221123_113957_omission_subject_6_1_and_6_4.rec\n",
      "  warnings.warn(\"Can not process {}\".format(absolute_file_path))\n",
      "/nancy/projects/reward_competition_ephys_analysis_with_omission_and_divider_controls/results/2023_05_17_sleap_analysis/../../src/trodes/read_exported.py:70: FutureWarning: Passing (type, 1) or '1type' as a synonym of type is deprecated; in a future version of numpy, it will be understood as (type, (1,)) / '(1,)type'.\n",
      "  return np.dtype(typearr)\n",
      "/nancy/projects/reward_competition_ephys_analysis_with_omission_and_divider_controls/results/2023_05_17_sleap_analysis/../../src/trodes/read_exported.py:138: UserWarning: Can not process /nancy/projects/reward_competition_ephys_analysis_with_omission_and_divider_controls/data/good/20221123_113957_omission_subject_6_1_and_6_4.rec/20221123_113957_omission_subject_6_1_and_6_4.1.videoTimeStamps\n",
      "  warnings.warn(\"Can not process {}\".format(absolute_file_path))\n",
      "/nancy/projects/reward_competition_ephys_analysis_with_omission_and_divider_controls/results/2023_05_17_sleap_analysis/../../src/trodes/read_exported.py:138: UserWarning: Can not process /nancy/projects/reward_competition_ephys_analysis_with_omission_and_divider_controls/data/good/20221123_113957_omission_subject_6_1_and_6_4.rec/20221123_113957_omission_subject_6_1_top_4_base_2_merged.rec\n",
      "  warnings.warn(\"Can not process {}\".format(absolute_file_path))\n",
      "/nancy/projects/reward_competition_ephys_analysis_with_omission_and_divider_controls/results/2023_05_17_sleap_analysis/../../src/trodes/read_exported.py:138: UserWarning: Can not process /nancy/projects/reward_competition_ephys_analysis_with_omission_and_divider_controls/data/good/20221123_113957_omission_subject_6_1_and_6_4.rec/logger_raw.dat\n",
      "  warnings.warn(\"Can not process {}\".format(absolute_file_path))\n",
      "/nancy/projects/reward_competition_ephys_analysis_with_omission_and_divider_controls/results/2023_05_17_sleap_analysis/../../src/trodes/read_exported.py:138: UserWarning: Can not process /nancy/projects/reward_competition_ephys_analysis_with_omission_and_divider_controls/data/good/20221123_113957_omission_subject_6_1_and_6_4.rec/20221123_113957_omission_subject_6_1_top_4_base_2_merged.trodesconf\n",
      "  warnings.warn(\"Can not process {}\".format(absolute_file_path))\n",
      "/nancy/projects/reward_competition_ephys_analysis_with_omission_and_divider_controls/results/2023_05_17_sleap_analysis/../../src/trodes/read_exported.py:138: UserWarning: Can not process /nancy/projects/reward_competition_ephys_analysis_with_omission_and_divider_controls/data/good/20221123_113957_omission_subject_6_1_and_6_4.rec/20221123_113957_omission_subject_6_1_and_6_4.1.h264\n",
      "  warnings.warn(\"Can not process {}\".format(absolute_file_path))\n"
     ]
    },
    {
     "name": "stdout",
     "output_type": "stream",
     "text": [
      "file prefix: spikeband_nt16ch1.dat\n",
      "directory prefix: spikeband\n",
      "file prefix: spikeband_nt31ch1.dat\n",
      "directory prefix: spikeband\n",
      "file prefix: spikeband_nt32ch1.dat\n",
      "directory prefix: spikeband\n",
      "file prefix: spikeband_nt5ch1.dat\n",
      "directory prefix: spikeband\n",
      "file prefix: spikeband_nt24ch1.dat\n",
      "directory prefix: spikeband\n",
      "file prefix: spikeband_nt21ch1.dat\n",
      "directory prefix: spikeband\n",
      "file prefix: timestamps.dat\n",
      "directory prefix: spikeband\n",
      "file prefix: spikeband_nt4ch1.dat\n",
      "directory prefix: spikeband\n",
      "file prefix: spikeband_nt12ch1.dat\n",
      "directory prefix: spikeband\n",
      "file prefix: spikeband_nt11ch1.dat\n",
      "directory prefix: spikeband\n",
      "file prefix: spikeband_nt13ch1.dat\n",
      "directory prefix: spikeband\n",
      "file prefix: spikeband_nt26ch1.dat\n",
      "directory prefix: spikeband\n",
      "file prefix: spikeband_nt14ch1.dat\n",
      "directory prefix: spikeband\n",
      "file prefix: spikeband_nt22ch1.dat\n",
      "directory prefix: spikeband\n",
      "file prefix: spikeband_nt27ch1.dat\n",
      "directory prefix: spikeband\n",
      "file prefix: spikeband_nt15ch1.dat\n",
      "directory prefix: spikeband\n",
      "file prefix: spikeband_nt29ch1.dat\n",
      "directory prefix: spikeband\n",
      "file prefix: spikeband_nt20ch1.dat\n",
      "directory prefix: spikeband\n",
      "file prefix: spikeband_nt6ch1.dat\n",
      "directory prefix: spikeband\n",
      "file prefix: spikeband_nt18ch1.dat\n",
      "directory prefix: spikeband\n",
      "file prefix: spikeband_nt25ch1.dat\n",
      "directory prefix: spikeband\n",
      "file prefix: spikeband_nt1ch1.dat\n",
      "directory prefix: spikeband\n",
      "file prefix: spikeband_nt3ch1.dat\n",
      "directory prefix: spikeband\n",
      "file prefix: spikeband_nt30ch1.dat\n",
      "directory prefix: spikeband\n",
      "file prefix: spikeband_nt19ch1.dat\n",
      "directory prefix: spikeband\n",
      "file prefix: spikeband_nt28ch1.dat\n",
      "directory prefix: spikeband\n",
      "file prefix: spikeband_nt9ch1.dat\n",
      "directory prefix: spikeband\n",
      "file prefix: spikeband_nt2ch1.dat\n",
      "directory prefix: spikeband\n",
      "file prefix: spikeband_nt7ch1.dat\n",
      "directory prefix: spikeband\n",
      "file prefix: spikeband_nt17ch1.dat\n",
      "directory prefix: spikeband\n",
      "file prefix: spikeband_nt10ch1.dat\n",
      "directory prefix: spikeband\n",
      "file prefix: spikeband_nt23ch1.dat\n",
      "directory prefix: spikeband\n",
      "file prefix: spikeband_nt8ch1.dat\n",
      "directory prefix: spikeband\n",
      "file prefix: 1.videoTimeStamps.cameraHWSync\n",
      "directory prefix: .\n",
      "file prefix: 1.videoTimeStamps.cameraHWSync\n",
      "directory prefix: .\n",
      "file prefix: timestamps.dat\n",
      "directory prefix: stimulation\n",
      "file prefix: timestamps.dat\n",
      "directory prefix: time\n",
      "file prefix: 1.videoTimeStamps.cameraHWSync\n",
      "directory prefix: .\n",
      "file prefix: spikes_nt17.dat\n",
      "directory prefix: spikes\n",
      "file prefix: spikes_nt1.dat\n",
      "directory prefix: spikes\n",
      "file prefix: spikes_nt16.dat\n",
      "directory prefix: spikes\n",
      "file prefix: spikes_nt13.dat\n",
      "directory prefix: spikes\n",
      "file prefix: spikes_nt32.dat\n",
      "directory prefix: spikes\n",
      "file prefix: spikes_nt15.dat\n",
      "directory prefix: spikes\n",
      "file prefix: spikes_nt7.dat\n",
      "directory prefix: spikes\n",
      "file prefix: spikes_nt12.dat\n",
      "directory prefix: spikes\n",
      "file prefix: spikes_nt21.dat\n",
      "directory prefix: spikes\n",
      "file prefix: spikes_nt24.dat\n",
      "directory prefix: spikes\n",
      "file prefix: spikes_nt19.dat\n",
      "directory prefix: spikes\n",
      "file prefix: spikes_nt3.dat\n",
      "directory prefix: spikes\n",
      "file prefix: spikes_nt8.dat\n",
      "directory prefix: spikes\n",
      "file prefix: spikes_nt9.dat\n",
      "directory prefix: spikes\n",
      "file prefix: spikes_nt20.dat\n",
      "directory prefix: spikes\n",
      "file prefix: spikes_nt5.dat\n",
      "directory prefix: spikes\n",
      "file prefix: spikes_nt22.dat\n",
      "directory prefix: spikes\n",
      "file prefix: spikes_nt31.dat\n",
      "directory prefix: spikes\n",
      "file prefix: spikes_nt29.dat\n",
      "directory prefix: spikes\n",
      "file prefix: spikes_nt10.dat\n",
      "directory prefix: spikes\n",
      "file prefix: spikes_nt4.dat\n",
      "directory prefix: spikes\n",
      "file prefix: spikes_nt27.dat\n",
      "directory prefix: spikes\n",
      "file prefix: spikes_nt6.dat\n",
      "directory prefix: spikes\n",
      "file prefix: spikes_nt11.dat\n",
      "directory prefix: spikes\n",
      "file prefix: spikes_nt25.dat\n",
      "directory prefix: spikes\n",
      "file prefix: spikes_nt2.dat\n",
      "directory prefix: spikes\n",
      "file prefix: spikes_nt23.dat\n",
      "directory prefix: spikes\n",
      "file prefix: spikes_nt30.dat\n",
      "directory prefix: spikes\n",
      "file prefix: spikes_nt18.dat\n",
      "directory prefix: spikes\n",
      "file prefix: spikes_nt26.dat\n",
      "directory prefix: spikes\n",
      "file prefix: spikes_nt14.dat\n",
      "directory prefix: spikes\n",
      "file prefix: spikes_nt28.dat\n",
      "directory prefix: spikes\n",
      "file prefix: LFP_nt28ch1.dat\n",
      "directory prefix: LFP\n",
      "file prefix: LFP_nt27ch1.dat\n",
      "directory prefix: LFP\n",
      "file prefix: LFP_nt13ch1.dat\n",
      "directory prefix: LFP\n",
      "file prefix: LFP_nt11ch1.dat\n",
      "directory prefix: LFP\n",
      "file prefix: timestamps.dat\n",
      "directory prefix: LFP\n",
      "file prefix: LFP_nt17ch1.dat\n",
      "directory prefix: LFP\n",
      "file prefix: LFP_nt5ch1.dat\n",
      "directory prefix: LFP\n",
      "file prefix: LFP_nt21ch1.dat\n",
      "directory prefix: LFP\n",
      "file prefix: LFP_nt20ch1.dat\n",
      "directory prefix: LFP\n",
      "file prefix: LFP_nt30ch1.dat\n",
      "directory prefix: LFP\n",
      "file prefix: LFP_nt2ch1.dat\n",
      "directory prefix: LFP\n",
      "file prefix: LFP_nt12ch1.dat\n",
      "directory prefix: LFP\n",
      "file prefix: LFP_nt22ch1.dat\n",
      "directory prefix: LFP\n",
      "file prefix: LFP_nt18ch1.dat\n",
      "directory prefix: LFP\n",
      "file prefix: LFP_nt15ch1.dat\n",
      "directory prefix: LFP\n",
      "file prefix: LFP_nt8ch1.dat\n",
      "directory prefix: LFP\n",
      "file prefix: LFP_nt7ch1.dat\n",
      "directory prefix: LFP\n",
      "file prefix: LFP_nt14ch1.dat\n",
      "directory prefix: LFP\n",
      "file prefix: LFP_nt6ch1.dat\n",
      "directory prefix: LFP\n",
      "file prefix: LFP_nt16ch1.dat\n",
      "directory prefix: LFP\n",
      "file prefix: LFP_nt9ch1.dat\n",
      "directory prefix: LFP\n",
      "file prefix: LFP_nt24ch1.dat\n",
      "directory prefix: LFP\n",
      "file prefix: LFP_nt25ch1.dat\n",
      "directory prefix: LFP\n",
      "file prefix: LFP_nt4ch1.dat\n",
      "directory prefix: LFP\n",
      "file prefix: LFP_nt19ch1.dat\n",
      "directory prefix: LFP\n",
      "file prefix: LFP_nt1ch1.dat\n",
      "directory prefix: LFP\n",
      "file prefix: LFP_nt32ch1.dat\n",
      "directory prefix: LFP\n",
      "file prefix: LFP_nt31ch1.dat\n",
      "directory prefix: LFP\n",
      "file prefix: LFP_nt3ch1.dat\n",
      "directory prefix: LFP\n",
      "file prefix: LFP_nt29ch1.dat\n",
      "directory prefix: LFP\n",
      "file prefix: LFP_nt26ch1.dat\n",
      "directory prefix: LFP\n",
      "file prefix: LFP_nt10ch1.dat\n",
      "directory prefix: LFP\n",
      "file prefix: LFP_nt23ch1.dat\n",
      "directory prefix: LFP\n",
      "file prefix: group0.coordinates.dat\n",
      "directory prefix: raw\n",
      "file prefix: timestamps.dat\n",
      "directory prefix: raw\n",
      "file prefix: raw_group0.dat\n",
      "directory prefix: raw\n",
      "file prefix: group0.coordinates.dat\n",
      "directory prefix: kilosort\n",
      "file prefix: timestamps.dat\n",
      "directory prefix: kilosort\n",
      "file prefix: group0.coordinates.dat\n",
      "directory prefix: mountainsort\n",
      "file prefix: 1.videoTimeStamps.cameraHWSync\n",
      "directory prefix: .\n",
      "file prefix: dio_ECU_Din9.dat\n",
      "directory prefix: DIO\n",
      "file prefix: dio_Controller_Din7.dat\n",
      "directory prefix: DIO\n",
      "file prefix: dio_ECU_Dout20.dat\n",
      "directory prefix: DIO\n",
      "file prefix: dio_ECU_Din15.dat\n",
      "directory prefix: DIO\n",
      "file prefix: dio_ECU_Dout28.dat\n",
      "directory prefix: DIO\n",
      "file prefix: dio_ECU_Dout32.dat\n",
      "directory prefix: DIO\n",
      "file prefix: dio_ECU_Din18.dat\n",
      "directory prefix: DIO\n",
      "file prefix: dio_ECU_Din12.dat\n",
      "directory prefix: DIO\n",
      "file prefix: dio_ECU_Din25.dat\n",
      "directory prefix: DIO\n",
      "file prefix: dio_ECU_Dout3.dat\n",
      "directory prefix: DIO\n",
      "file prefix: dio_ECU_Dout18.dat\n",
      "directory prefix: DIO\n",
      "file prefix: dio_ECU_Din32.dat\n",
      "directory prefix: DIO\n",
      "file prefix: dio_ECU_Din21.dat\n",
      "directory prefix: DIO\n",
      "file prefix: dio_ECU_Dout11.dat\n",
      "directory prefix: DIO\n",
      "file prefix: dio_ECU_Din13.dat\n",
      "directory prefix: DIO\n",
      "file prefix: dio_ECU_Din11.dat\n",
      "directory prefix: DIO\n",
      "file prefix: dio_ECU_Dout17.dat\n",
      "directory prefix: DIO\n",
      "file prefix: dio_ECU_Din2.dat\n",
      "directory prefix: DIO\n",
      "file prefix: dio_Controller_Din6.dat\n",
      "directory prefix: DIO\n",
      "file prefix: dio_ECU_Dout25.dat\n",
      "directory prefix: DIO\n",
      "file prefix: dio_Controller_Din2.dat\n",
      "directory prefix: DIO\n",
      "file prefix: dio_Controller_Din1.dat\n",
      "directory prefix: DIO\n",
      "file prefix: dio_ECU_Din4.dat\n",
      "directory prefix: DIO\n",
      "file prefix: dio_Controller_Din5.dat\n",
      "directory prefix: DIO\n",
      "file prefix: dio_ECU_Dout8.dat\n",
      "directory prefix: DIO\n",
      "file prefix: dio_ECU_Dout16.dat\n",
      "directory prefix: DIO\n",
      "file prefix: dio_ECU_Dout12.dat\n",
      "directory prefix: DIO\n",
      "file prefix: dio_ECU_Dout6.dat\n",
      "directory prefix: DIO\n",
      "file prefix: dio_ECU_Dout27.dat\n",
      "directory prefix: DIO\n",
      "file prefix: dio_ECU_Din1.dat\n",
      "directory prefix: DIO\n",
      "file prefix: dio_ECU_Din23.dat\n",
      "directory prefix: DIO\n",
      "file prefix: dio_ECU_Din28.dat\n",
      "directory prefix: DIO\n",
      "file prefix: dio_ECU_Dout29.dat\n",
      "directory prefix: DIO\n",
      "file prefix: dio_ECU_Dout19.dat\n",
      "directory prefix: DIO\n",
      "file prefix: dio_ECU_Din8.dat\n",
      "directory prefix: DIO\n",
      "file prefix: dio_ECU_Dout5.dat\n",
      "directory prefix: DIO\n",
      "file prefix: dio_ECU_Din20.dat\n",
      "directory prefix: DIO\n",
      "file prefix: dio_ECU_Dout14.dat\n",
      "directory prefix: DIO\n",
      "file prefix: dio_ECU_Din17.dat\n",
      "directory prefix: DIO\n",
      "file prefix: dio_ECU_Din16.dat\n",
      "directory prefix: DIO\n",
      "file prefix: dio_ECU_Dout26.dat\n",
      "directory prefix: DIO\n",
      "file prefix: dio_Controller_Din4.dat\n",
      "directory prefix: DIO\n",
      "file prefix: dio_ECU_Dout21.dat\n",
      "directory prefix: DIO\n",
      "file prefix: dio_ECU_Din14.dat\n",
      "directory prefix: DIO\n",
      "file prefix: dio_ECU_Dout15.dat\n",
      "directory prefix: DIO\n",
      "file prefix: dio_ECU_Dout2.dat\n",
      "directory prefix: DIO\n",
      "file prefix: dio_ECU_Din3.dat\n",
      "directory prefix: DIO\n",
      "file prefix: dio_ECU_Din10.dat\n",
      "directory prefix: DIO\n",
      "file prefix: dio_ECU_Dout22.dat\n",
      "directory prefix: DIO\n",
      "file prefix: dio_ECU_Din26.dat\n",
      "directory prefix: DIO\n",
      "file prefix: dio_ECU_Din7.dat\n",
      "directory prefix: DIO\n",
      "file prefix: dio_ECU_Din6.dat\n",
      "directory prefix: DIO\n",
      "file prefix: dio_ECU_Dout1.dat\n",
      "directory prefix: DIO\n",
      "file prefix: dio_ECU_Dout24.dat\n",
      "directory prefix: DIO\n",
      "file prefix: dio_ECU_Dout7.dat\n",
      "directory prefix: DIO\n",
      "file prefix: dio_ECU_Din27.dat\n",
      "directory prefix: DIO\n",
      "file prefix: dio_ECU_Dout4.dat\n",
      "directory prefix: DIO\n",
      "file prefix: dio_ECU_Din22.dat\n",
      "directory prefix: DIO\n",
      "file prefix: dio_ECU_Din31.dat\n",
      "directory prefix: DIO\n",
      "file prefix: dio_ECU_Dout31.dat\n",
      "directory prefix: DIO\n"
     ]
    },
    {
     "name": "stderr",
     "output_type": "stream",
     "text": [
      "/nancy/projects/reward_competition_ephys_analysis_with_omission_and_divider_controls/results/2023_05_17_sleap_analysis/../../src/trodes/read_exported.py:138: UserWarning: Can not process /nancy/projects/reward_competition_ephys_analysis_with_omission_and_divider_controls/data/good/20221123_113957_omission_subject_6_1_and_6_4.rec/20221123_113957_omission_subject_6_1_top_4_base_2_merged.kilosort/20221123_113957_omission_subject_6_1_top_4_base_2_merged.group0.dat\n",
      "  warnings.warn(\"Can not process {}\".format(absolute_file_path))\n",
      "/nancy/projects/reward_competition_ephys_analysis_with_omission_and_divider_controls/results/2023_05_17_sleap_analysis/../../src/trodes/read_exported.py:138: UserWarning: Can not process /nancy/projects/reward_competition_ephys_analysis_with_omission_and_divider_controls/data/good/20221123_113957_omission_subject_6_1_and_6_4.rec/20221123_113957_omission_subject_6_1_top_4_base_2_merged.mountainsort/20221123_113957_omission_subject_6_1_top_4_base_2_merged.timestamps.mda\n",
      "  warnings.warn(\"Can not process {}\".format(absolute_file_path))\n",
      "/nancy/projects/reward_competition_ephys_analysis_with_omission_and_divider_controls/results/2023_05_17_sleap_analysis/../../src/trodes/read_exported.py:138: UserWarning: Can not process /nancy/projects/reward_competition_ephys_analysis_with_omission_and_divider_controls/data/good/20221123_113957_omission_subject_6_1_and_6_4.rec/20221123_113957_omission_subject_6_1_top_4_base_2_merged.mountainsort/20221123_113957_omission_subject_6_1_top_4_base_2_merged.group0.mda\n",
      "  warnings.warn(\"Can not process {}\".format(absolute_file_path))\n"
     ]
    },
    {
     "name": "stdout",
     "output_type": "stream",
     "text": [
      "file prefix: dio_ECU_Dout10.dat\n",
      "directory prefix: DIO\n",
      "file prefix: dio_ECU_Din29.dat\n",
      "directory prefix: DIO\n",
      "file prefix: dio_ECU_Dout13.dat\n",
      "directory prefix: DIO\n",
      "file prefix: dio_ECU_Dout23.dat\n",
      "directory prefix: DIO\n",
      "file prefix: dio_ECU_Dout9.dat\n",
      "directory prefix: DIO\n",
      "file prefix: dio_ECU_Din19.dat\n",
      "directory prefix: DIO\n",
      "file prefix: dio_ECU_Dout30.dat\n",
      "directory prefix: DIO\n",
      "file prefix: dio_ECU_Din5.dat\n",
      "directory prefix: DIO\n",
      "file prefix: dio_ECU_Din24.dat\n",
      "directory prefix: DIO\n",
      "file prefix: dio_Controller_Din8.dat\n",
      "directory prefix: DIO\n",
      "file prefix: dio_Controller_Din3.dat\n",
      "directory prefix: DIO\n",
      "file prefix: dio_ECU_Din30.dat\n",
      "directory prefix: DIO\n",
      "file prefix: analog_ECU_Aout4.dat\n",
      "directory prefix: analog\n",
      "file prefix: analog_Headstage_AccelY.dat\n",
      "directory prefix: analog\n",
      "file prefix: analog_ECU_Ain7.dat\n",
      "directory prefix: analog\n",
      "file prefix: analog_ECU_Ain2.dat\n",
      "directory prefix: analog\n",
      "file prefix: timestamps.dat\n",
      "directory prefix: analog\n",
      "file prefix: analog_Headstage_GyroX.dat\n",
      "directory prefix: analog\n",
      "file prefix: analog_ECU_Ain6.dat\n",
      "directory prefix: analog\n",
      "file prefix: analog_Headstage_GyroZ.dat\n",
      "directory prefix: analog\n",
      "file prefix: analog_Headstage_GyroY.dat\n",
      "directory prefix: analog\n",
      "file prefix: analog_ECU_Ain3.dat\n",
      "directory prefix: analog\n",
      "file prefix: analog_Headstage_MagZ.dat\n",
      "directory prefix: analog\n",
      "file prefix: analog_Headstage_MagX.dat\n",
      "directory prefix: analog\n",
      "file prefix: analog_ECU_Aout3.dat\n",
      "directory prefix: analog\n",
      "file prefix: analog_Headstage_MagY.dat\n",
      "directory prefix: analog\n",
      "file prefix: analog_ECU_Aout2.dat\n",
      "directory prefix: analog\n",
      "file prefix: analog_Controller_Ain1.dat\n",
      "directory prefix: analog\n",
      "file prefix: analog_ECU_Ain1.dat\n",
      "directory prefix: analog\n",
      "file prefix: analog_ECU_Aout1.dat\n",
      "directory prefix: analog\n",
      "file prefix: analog_ECU_Ain5.dat\n",
      "directory prefix: analog\n",
      "file prefix: analog_Headstage_AccelZ.dat\n",
      "directory prefix: analog\n",
      "file prefix: analog_Headstage_AccelX.dat\n",
      "directory prefix: analog\n",
      "file prefix: analog_ECU_Ain8.dat\n",
      "directory prefix: analog\n",
      "file prefix: analog_ECU_Ain4.dat\n",
      "directory prefix: analog\n",
      "file prefix: 1.videoTimeStamps.cameraHWSync\n",
      "directory prefix: .\n",
      "file prefix: 1.videoTimeStamps.cameraHWSync\n",
      "directory prefix: .\n",
      "file prefix: 1.videoTimeStamps.cameraHWSync\n",
      "directory prefix: .\n"
     ]
    },
    {
     "name": "stderr",
     "output_type": "stream",
     "text": [
      "/nancy/projects/reward_competition_ephys_analysis_with_omission_and_divider_controls/results/2023_05_17_sleap_analysis/../../src/trodes/read_exported.py:138: UserWarning: Can not process /nancy/projects/reward_competition_ephys_analysis_with_omission_and_divider_controls/data/good/20221123_113957_omission_subject_6_1_and_6_4.rec/20221123_113957_omission_subject_6_1_top_4_base_2_merged.timestampoffset/20221123_113957_omission_subject_6_1_top_4_base_2_merged.timestampoffset.txt\n",
      "  warnings.warn(\"Can not process {}\".format(absolute_file_path))\n",
      "/nancy/projects/reward_competition_ephys_analysis_with_omission_and_divider_controls/results/2023_05_17_sleap_analysis/../../src/trodes/read_exported.py:138: UserWarning: Can not process /nancy/projects/reward_competition_ephys_analysis_with_omission_and_divider_controls/data/good/20221203_154800_omission_and_competition_subject_6_4_and_6_1.rec/20221203_154800_omission_and_competition_subject_6_4_and_6_1.1.fixed.mp4\n",
      "  warnings.warn(\"Can not process {}\".format(absolute_file_path))\n",
      "/nancy/projects/reward_competition_ephys_analysis_with_omission_and_divider_controls/results/2023_05_17_sleap_analysis/../../src/trodes/read_exported.py:138: UserWarning: Can not process /nancy/projects/reward_competition_ephys_analysis_with_omission_and_divider_controls/data/good/20221203_154800_omission_and_competition_subject_6_4_and_6_1.rec/20221203_154800_omission_and_competition_subject_6_4_and_6_1.rec\n",
      "  warnings.warn(\"Can not process {}\".format(absolute_file_path))\n",
      "/nancy/projects/reward_competition_ephys_analysis_with_omission_and_divider_controls/results/2023_05_17_sleap_analysis/../../src/trodes/read_exported.py:138: UserWarning: Can not process /nancy/projects/reward_competition_ephys_analysis_with_omission_and_divider_controls/data/good/20221203_154800_omission_and_competition_subject_6_4_and_6_1.rec/logger_raw.dat\n",
      "  warnings.warn(\"Can not process {}\".format(absolute_file_path))\n",
      "/nancy/projects/reward_competition_ephys_analysis_with_omission_and_divider_controls/results/2023_05_17_sleap_analysis/../../src/trodes/read_exported.py:138: UserWarning: Can not process /nancy/projects/reward_competition_ephys_analysis_with_omission_and_divider_controls/data/good/20221203_154800_omission_and_competition_subject_6_4_and_6_1.rec/20221203_154800_omission_and_competition_subject_6_4_and_6_1.1.mp4\n",
      "  warnings.warn(\"Can not process {}\".format(absolute_file_path))\n",
      "/nancy/projects/reward_competition_ephys_analysis_with_omission_and_divider_controls/results/2023_05_17_sleap_analysis/../../src/trodes/read_exported.py:138: UserWarning: Can not process /nancy/projects/reward_competition_ephys_analysis_with_omission_and_divider_controls/data/good/20221203_154800_omission_and_competition_subject_6_4_and_6_1.rec/20221203_154800_omission_and_competition_subject_6_4_and_6_1.1.h264\n",
      "  warnings.warn(\"Can not process {}\".format(absolute_file_path))\n",
      "/nancy/projects/reward_competition_ephys_analysis_with_omission_and_divider_controls/results/2023_05_17_sleap_analysis/../../src/trodes/read_exported.py:138: UserWarning: Can not process /nancy/projects/reward_competition_ephys_analysis_with_omission_and_divider_controls/data/good/20221203_154800_omission_and_competition_subject_6_4_and_6_1.rec/20221203_154800_omission_and_competition_subject_6_1_top_1_base_3_merged.trodesconf\n",
      "  warnings.warn(\"Can not process {}\".format(absolute_file_path))\n",
      "/nancy/projects/reward_competition_ephys_analysis_with_omission_and_divider_controls/results/2023_05_17_sleap_analysis/../../src/trodes/read_exported.py:138: UserWarning: Can not process /nancy/projects/reward_competition_ephys_analysis_with_omission_and_divider_controls/data/good/20221203_154800_omission_and_competition_subject_6_4_and_6_1.rec/20221203_154800_omission_and_competition_subject_6_1_top_1_base_3_merged.rec\n",
      "  warnings.warn(\"Can not process {}\".format(absolute_file_path))\n",
      "/nancy/projects/reward_competition_ephys_analysis_with_omission_and_divider_controls/results/2023_05_17_sleap_analysis/../../src/trodes/read_exported.py:138: UserWarning: Can not process /nancy/projects/reward_competition_ephys_analysis_with_omission_and_divider_controls/data/good/20221203_154800_omission_and_competition_subject_6_4_and_6_1.rec/20221203_154800_omission_and_competition_subject_6_4_and_6_1.1.original.mp4\n",
      "  warnings.warn(\"Can not process {}\".format(absolute_file_path))\n",
      "/nancy/projects/reward_competition_ephys_analysis_with_omission_and_divider_controls/results/2023_05_17_sleap_analysis/../../src/trodes/read_exported.py:138: UserWarning: Can not process /nancy/projects/reward_competition_ephys_analysis_with_omission_and_divider_controls/data/good/20221203_154800_omission_and_competition_subject_6_4_and_6_1.rec/20221203_154800_omission_and_competition_subject_6_4_and_6_1.1.videoTimeStamps\n",
      "  warnings.warn(\"Can not process {}\".format(absolute_file_path))\n",
      "/nancy/projects/reward_competition_ephys_analysis_with_omission_and_divider_controls/results/2023_05_17_sleap_analysis/../../src/trodes/read_exported.py:70: FutureWarning: Passing (type, 1) or '1type' as a synonym of type is deprecated; in a future version of numpy, it will be understood as (type, (1,)) / '(1,)type'.\n",
      "  return np.dtype(typearr)\n",
      "/nancy/projects/reward_competition_ephys_analysis_with_omission_and_divider_controls/results/2023_05_17_sleap_analysis/../../src/trodes/read_exported.py:138: UserWarning: Can not process /nancy/projects/reward_competition_ephys_analysis_with_omission_and_divider_controls/data/good/20221203_154800_omission_and_competition_subject_6_4_and_6_1.rec/20221203_154800_omission_and_competition_subject_6_4_and_6_1.1.trackgeometry\n",
      "  warnings.warn(\"Can not process {}\".format(absolute_file_path))\n"
     ]
    },
    {
     "name": "stdout",
     "output_type": "stream",
     "text": [
      "file prefix: timestamps.dat\n",
      "directory prefix: stimulation\n",
      "file prefix: 1.videoTimeStamps.cameraHWSync\n",
      "directory prefix: .\n",
      "file prefix: group0.coordinates.dat\n",
      "directory prefix: kilosort\n",
      "file prefix: timestamps.dat\n",
      "directory prefix: kilosort\n"
     ]
    },
    {
     "name": "stderr",
     "output_type": "stream",
     "text": [
      "/nancy/projects/reward_competition_ephys_analysis_with_omission_and_divider_controls/results/2023_05_17_sleap_analysis/../../src/trodes/read_exported.py:138: UserWarning: Can not process /nancy/projects/reward_competition_ephys_analysis_with_omission_and_divider_controls/data/good/20221203_154800_omission_and_competition_subject_6_4_and_6_1.rec/20221203_154800_omission_and_competition_subject_6_1_top_1_base_3_merged.kilosort/20221203_154800_omission_and_competition_subject_6_1_top_1_base_3_merged.group0.dat\n",
      "  warnings.warn(\"Can not process {}\".format(absolute_file_path))\n"
     ]
    },
    {
     "name": "stdout",
     "output_type": "stream",
     "text": [
      "file prefix: timestamps.dat\n",
      "directory prefix: time\n",
      "file prefix: 1.videoTimeStamps.cameraHWSync\n",
      "directory prefix: .\n",
      "file prefix: spikeband_nt18ch1.dat\n",
      "directory prefix: spikeband\n",
      "file prefix: spikeband_nt10ch1.dat\n",
      "directory prefix: spikeband\n",
      "file prefix: spikeband_nt25ch1.dat\n",
      "directory prefix: spikeband\n",
      "file prefix: spikeband_nt24ch1.dat\n",
      "directory prefix: spikeband\n",
      "file prefix: spikeband_nt22ch1.dat\n",
      "directory prefix: spikeband\n",
      "file prefix: spikeband_nt3ch1.dat\n",
      "directory prefix: spikeband\n",
      "file prefix: spikeband_nt26ch1.dat\n",
      "directory prefix: spikeband\n",
      "file prefix: spikeband_nt7ch1.dat\n",
      "directory prefix: spikeband\n",
      "file prefix: spikeband_nt13ch1.dat\n",
      "directory prefix: spikeband\n",
      "file prefix: spikeband_nt1ch1.dat\n",
      "directory prefix: spikeband\n",
      "file prefix: spikeband_nt20ch1.dat\n",
      "directory prefix: spikeband\n",
      "file prefix: spikeband_nt17ch1.dat\n",
      "directory prefix: spikeband\n",
      "file prefix: spikeband_nt23ch1.dat\n",
      "directory prefix: spikeband\n",
      "file prefix: spikeband_nt8ch1.dat\n",
      "directory prefix: spikeband\n",
      "file prefix: spikeband_nt27ch1.dat\n",
      "directory prefix: spikeband\n",
      "file prefix: timestamps.dat\n",
      "directory prefix: spikeband\n",
      "file prefix: spikeband_nt31ch1.dat\n",
      "directory prefix: spikeband\n",
      "file prefix: spikeband_nt9ch1.dat\n",
      "directory prefix: spikeband\n",
      "file prefix: spikeband_nt21ch1.dat\n",
      "directory prefix: spikeband\n",
      "file prefix: spikeband_nt15ch1.dat\n",
      "directory prefix: spikeband\n",
      "file prefix: spikeband_nt6ch1.dat\n",
      "directory prefix: spikeband\n",
      "file prefix: spikeband_nt5ch1.dat\n",
      "directory prefix: spikeband\n",
      "file prefix: spikeband_nt19ch1.dat\n",
      "directory prefix: spikeband\n",
      "file prefix: spikeband_nt28ch1.dat\n",
      "directory prefix: spikeband\n",
      "file prefix: spikeband_nt16ch1.dat\n",
      "directory prefix: spikeband\n",
      "file prefix: spikeband_nt32ch1.dat\n",
      "directory prefix: spikeband\n",
      "file prefix: spikeband_nt30ch1.dat\n",
      "directory prefix: spikeband\n",
      "file prefix: spikeband_nt14ch1.dat\n",
      "directory prefix: spikeband\n",
      "file prefix: spikeband_nt29ch1.dat\n",
      "directory prefix: spikeband\n",
      "file prefix: spikeband_nt2ch1.dat\n",
      "directory prefix: spikeband\n",
      "file prefix: spikeband_nt12ch1.dat\n",
      "directory prefix: spikeband\n",
      "file prefix: spikeband_nt11ch1.dat\n",
      "directory prefix: spikeband\n",
      "file prefix: spikeband_nt4ch1.dat\n",
      "directory prefix: spikeband\n",
      "file prefix: 1.videoTimeStamps.cameraHWSync\n",
      "directory prefix: .\n",
      "file prefix: spikes_nt15.dat\n",
      "directory prefix: spikes\n",
      "file prefix: spikes_nt20.dat\n",
      "directory prefix: spikes\n",
      "file prefix: spikes_nt23.dat\n",
      "directory prefix: spikes\n",
      "file prefix: spikes_nt30.dat\n",
      "directory prefix: spikes\n",
      "file prefix: spikes_nt6.dat\n",
      "directory prefix: spikes\n",
      "file prefix: spikes_nt18.dat\n",
      "directory prefix: spikes\n",
      "file prefix: spikes_nt10.dat\n",
      "directory prefix: spikes\n",
      "file prefix: spikes_nt27.dat\n",
      "directory prefix: spikes\n",
      "file prefix: spikes_nt11.dat\n",
      "directory prefix: spikes\n",
      "file prefix: spikes_nt5.dat\n",
      "directory prefix: spikes\n",
      "file prefix: spikes_nt24.dat\n",
      "directory prefix: spikes\n",
      "file prefix: spikes_nt8.dat\n",
      "directory prefix: spikes\n",
      "file prefix: spikes_nt22.dat\n",
      "directory prefix: spikes\n",
      "file prefix: spikes_nt14.dat\n",
      "directory prefix: spikes\n",
      "file prefix: spikes_nt28.dat\n",
      "directory prefix: spikes\n",
      "file prefix: spikes_nt19.dat\n",
      "directory prefix: spikes\n",
      "file prefix: spikes_nt3.dat\n",
      "directory prefix: spikes\n",
      "file prefix: spikes_nt31.dat\n",
      "directory prefix: spikes\n",
      "file prefix: spikes_nt32.dat\n",
      "directory prefix: spikes\n",
      "file prefix: spikes_nt17.dat\n",
      "directory prefix: spikes\n",
      "file prefix: spikes_nt7.dat\n",
      "directory prefix: spikes\n",
      "file prefix: spikes_nt16.dat\n",
      "directory prefix: spikes\n",
      "file prefix: spikes_nt21.dat\n",
      "directory prefix: spikes\n",
      "file prefix: spikes_nt12.dat\n",
      "directory prefix: spikes\n",
      "file prefix: spikes_nt9.dat\n",
      "directory prefix: spikes\n",
      "file prefix: spikes_nt13.dat\n",
      "directory prefix: spikes\n",
      "file prefix: spikes_nt25.dat\n",
      "directory prefix: spikes\n",
      "file prefix: spikes_nt4.dat\n",
      "directory prefix: spikes\n",
      "file prefix: spikes_nt2.dat\n",
      "directory prefix: spikes\n",
      "file prefix: spikes_nt29.dat\n",
      "directory prefix: spikes\n",
      "file prefix: spikes_nt1.dat\n",
      "directory prefix: spikes\n",
      "file prefix: spikes_nt26.dat\n",
      "directory prefix: spikes\n",
      "file prefix: 1.videoTimeStamps.cameraHWSync\n",
      "directory prefix: .\n",
      "file prefix: 1.videoTimeStamps.cameraHWSync\n",
      "directory prefix: .\n",
      "file prefix: 1.videoTimeStamps.cameraHWSync\n",
      "directory prefix: .\n",
      "file prefix: 1.videoTimeStamps.cameraHWSync\n",
      "directory prefix: .\n",
      "file prefix: group0.coordinates.dat\n",
      "directory prefix: raw\n"
     ]
    },
    {
     "name": "stderr",
     "output_type": "stream",
     "text": [
      "/nancy/projects/reward_competition_ephys_analysis_with_omission_and_divider_controls/results/2023_05_17_sleap_analysis/../../src/trodes/read_exported.py:138: UserWarning: Can not process /nancy/projects/reward_competition_ephys_analysis_with_omission_and_divider_controls/data/good/20221203_154800_omission_and_competition_subject_6_4_and_6_1.rec/20221203_154800_omission_and_competition_subject_6_1_top_1_base_3_merged.timestampoffset/20221203_154800_omission_and_competition_subject_6_1_top_1_base_3_merged.timestampoffset.txt\n",
      "  warnings.warn(\"Can not process {}\".format(absolute_file_path))\n"
     ]
    },
    {
     "name": "stdout",
     "output_type": "stream",
     "text": [
      "file prefix: timestamps.dat\n",
      "directory prefix: raw\n",
      "file prefix: raw_group0.dat\n",
      "directory prefix: raw\n",
      "file prefix: 1.videoTimeStamps.cameraHWSync\n",
      "directory prefix: .\n",
      "file prefix: group0.coordinates.dat\n",
      "directory prefix: mountainsort\n",
      "file prefix: 1.videoTimeStamps.cameraHWSync\n",
      "directory prefix: .\n"
     ]
    },
    {
     "name": "stderr",
     "output_type": "stream",
     "text": [
      "/nancy/projects/reward_competition_ephys_analysis_with_omission_and_divider_controls/results/2023_05_17_sleap_analysis/../../src/trodes/read_exported.py:138: UserWarning: Can not process /nancy/projects/reward_competition_ephys_analysis_with_omission_and_divider_controls/data/good/20221203_154800_omission_and_competition_subject_6_4_and_6_1.rec/20221203_154800_omission_and_competition_subject_6_1_top_1_base_3_merged.mountainsort/20221203_154800_omission_and_competition_subject_6_1_top_1_base_3_merged.timestamps.mda\n",
      "  warnings.warn(\"Can not process {}\".format(absolute_file_path))\n",
      "/nancy/projects/reward_competition_ephys_analysis_with_omission_and_divider_controls/results/2023_05_17_sleap_analysis/../../src/trodes/read_exported.py:138: UserWarning: Can not process /nancy/projects/reward_competition_ephys_analysis_with_omission_and_divider_controls/data/good/20221203_154800_omission_and_competition_subject_6_4_and_6_1.rec/20221203_154800_omission_and_competition_subject_6_1_top_1_base_3_merged.mountainsort/20221203_154800_omission_and_competition_subject_6_1_top_1_base_3_merged.group0.mda\n",
      "  warnings.warn(\"Can not process {}\".format(absolute_file_path))\n"
     ]
    },
    {
     "name": "stdout",
     "output_type": "stream",
     "text": [
      "file prefix: analog_ECU_Aout3.dat\n",
      "directory prefix: analog\n",
      "file prefix: analog_ECU_Ain3.dat\n",
      "directory prefix: analog\n",
      "file prefix: analog_Headstage_AccelX.dat\n",
      "directory prefix: analog\n",
      "file prefix: analog_ECU_Ain2.dat\n",
      "directory prefix: analog\n",
      "file prefix: analog_Headstage_AccelZ.dat\n",
      "directory prefix: analog\n",
      "file prefix: timestamps.dat\n",
      "directory prefix: analog\n",
      "file prefix: analog_ECU_Aout1.dat\n",
      "directory prefix: analog\n",
      "file prefix: analog_ECU_Aout2.dat\n",
      "directory prefix: analog\n",
      "file prefix: analog_ECU_Ain7.dat\n",
      "directory prefix: analog\n",
      "file prefix: analog_ECU_Ain6.dat\n",
      "directory prefix: analog\n",
      "file prefix: analog_Headstage_MagZ.dat\n",
      "directory prefix: analog\n",
      "file prefix: analog_Headstage_GyroX.dat\n",
      "directory prefix: analog\n",
      "file prefix: analog_ECU_Aout4.dat\n",
      "directory prefix: analog\n",
      "file prefix: analog_Headstage_MagY.dat\n",
      "directory prefix: analog\n",
      "file prefix: analog_ECU_Ain5.dat\n",
      "directory prefix: analog\n",
      "file prefix: analog_Headstage_GyroZ.dat\n",
      "directory prefix: analog\n",
      "file prefix: analog_Headstage_GyroY.dat\n",
      "directory prefix: analog\n",
      "file prefix: analog_Headstage_AccelY.dat\n",
      "directory prefix: analog\n",
      "file prefix: analog_ECU_Ain8.dat\n",
      "directory prefix: analog\n",
      "file prefix: analog_ECU_Ain4.dat\n",
      "directory prefix: analog\n",
      "file prefix: analog_Headstage_MagX.dat\n",
      "directory prefix: analog\n",
      "file prefix: analog_Controller_Ain1.dat\n",
      "directory prefix: analog\n",
      "file prefix: analog_ECU_Ain1.dat\n",
      "directory prefix: analog\n",
      "file prefix: LFP_nt28ch1.dat\n",
      "directory prefix: LFP\n",
      "file prefix: LFP_nt27ch1.dat\n",
      "directory prefix: LFP\n",
      "file prefix: LFP_nt22ch1.dat\n",
      "directory prefix: LFP\n",
      "file prefix: LFP_nt24ch1.dat\n",
      "directory prefix: LFP\n",
      "file prefix: LFP_nt6ch1.dat\n",
      "directory prefix: LFP\n",
      "file prefix: LFP_nt11ch1.dat\n",
      "directory prefix: LFP\n",
      "file prefix: LFP_nt4ch1.dat\n",
      "directory prefix: LFP\n",
      "file prefix: LFP_nt10ch1.dat\n",
      "directory prefix: LFP\n",
      "file prefix: LFP_nt2ch1.dat\n",
      "directory prefix: LFP\n",
      "file prefix: LFP_nt5ch1.dat\n",
      "directory prefix: LFP\n",
      "file prefix: LFP_nt16ch1.dat\n",
      "directory prefix: LFP\n",
      "file prefix: LFP_nt25ch1.dat\n",
      "directory prefix: LFP\n",
      "file prefix: LFP_nt26ch1.dat\n",
      "directory prefix: LFP\n",
      "file prefix: LFP_nt9ch1.dat\n",
      "directory prefix: LFP\n",
      "file prefix: LFP_nt20ch1.dat\n",
      "directory prefix: LFP\n",
      "file prefix: timestamps.dat\n",
      "directory prefix: LFP\n",
      "file prefix: LFP_nt29ch1.dat\n",
      "directory prefix: LFP\n",
      "file prefix: LFP_nt17ch1.dat\n",
      "directory prefix: LFP\n",
      "file prefix: LFP_nt14ch1.dat\n",
      "directory prefix: LFP\n",
      "file prefix: LFP_nt19ch1.dat\n",
      "directory prefix: LFP\n",
      "file prefix: LFP_nt31ch1.dat\n",
      "directory prefix: LFP\n",
      "file prefix: LFP_nt8ch1.dat\n",
      "directory prefix: LFP\n",
      "file prefix: LFP_nt3ch1.dat\n",
      "directory prefix: LFP\n",
      "file prefix: LFP_nt12ch1.dat\n",
      "directory prefix: LFP\n",
      "file prefix: LFP_nt21ch1.dat\n",
      "directory prefix: LFP\n",
      "file prefix: LFP_nt30ch1.dat\n",
      "directory prefix: LFP\n",
      "file prefix: LFP_nt1ch1.dat\n",
      "directory prefix: LFP\n",
      "file prefix: LFP_nt32ch1.dat\n",
      "directory prefix: LFP\n",
      "file prefix: LFP_nt23ch1.dat\n",
      "directory prefix: LFP\n",
      "file prefix: LFP_nt18ch1.dat\n",
      "directory prefix: LFP\n",
      "file prefix: LFP_nt7ch1.dat\n",
      "directory prefix: LFP\n",
      "file prefix: LFP_nt13ch1.dat\n",
      "directory prefix: LFP\n",
      "file prefix: LFP_nt15ch1.dat\n",
      "directory prefix: LFP\n",
      "file prefix: 1.videoTimeStamps.cameraHWSync\n",
      "directory prefix: .\n",
      "file prefix: dio_ECU_Dout21.dat\n",
      "directory prefix: DIO\n",
      "file prefix: dio_ECU_Dout15.dat\n",
      "directory prefix: DIO\n",
      "file prefix: dio_ECU_Dout22.dat\n",
      "directory prefix: DIO\n",
      "file prefix: dio_Controller_Din1.dat\n",
      "directory prefix: DIO\n",
      "file prefix: dio_ECU_Din29.dat\n",
      "directory prefix: DIO\n",
      "file prefix: dio_ECU_Dout30.dat\n",
      "directory prefix: DIO\n",
      "file prefix: dio_ECU_Din22.dat\n",
      "directory prefix: DIO\n",
      "file prefix: dio_Controller_Din8.dat\n",
      "directory prefix: DIO\n",
      "file prefix: dio_ECU_Dout32.dat\n",
      "directory prefix: DIO\n",
      "file prefix: dio_ECU_Din8.dat\n",
      "directory prefix: DIO\n",
      "file prefix: dio_ECU_Dout26.dat\n",
      "directory prefix: DIO\n",
      "file prefix: dio_ECU_Dout23.dat\n",
      "directory prefix: DIO\n",
      "file prefix: dio_ECU_Din15.dat\n",
      "directory prefix: DIO\n",
      "file prefix: dio_ECU_Din16.dat\n",
      "directory prefix: DIO\n",
      "file prefix: dio_ECU_Din13.dat\n",
      "directory prefix: DIO\n",
      "file prefix: dio_ECU_Din24.dat\n",
      "directory prefix: DIO\n",
      "file prefix: dio_ECU_Din1.dat\n",
      "directory prefix: DIO\n",
      "file prefix: dio_ECU_Din10.dat\n",
      "directory prefix: DIO\n",
      "file prefix: dio_ECU_Din31.dat\n",
      "directory prefix: DIO\n",
      "file prefix: dio_ECU_Din2.dat\n",
      "directory prefix: DIO\n",
      "file prefix: dio_ECU_Din26.dat\n",
      "directory prefix: DIO\n",
      "file prefix: dio_ECU_Din5.dat\n",
      "directory prefix: DIO\n",
      "file prefix: dio_ECU_Dout17.dat\n",
      "directory prefix: DIO\n",
      "file prefix: dio_Controller_Din4.dat\n",
      "directory prefix: DIO\n",
      "file prefix: dio_ECU_Dout4.dat\n",
      "directory prefix: DIO\n",
      "file prefix: dio_ECU_Dout11.dat\n",
      "directory prefix: DIO\n",
      "file prefix: dio_ECU_Din3.dat\n",
      "directory prefix: DIO\n",
      "file prefix: dio_ECU_Dout18.dat\n",
      "directory prefix: DIO\n",
      "file prefix: dio_ECU_Din25.dat\n",
      "directory prefix: DIO\n",
      "file prefix: dio_ECU_Dout8.dat\n",
      "directory prefix: DIO\n",
      "file prefix: dio_ECU_Din11.dat\n",
      "directory prefix: DIO\n",
      "file prefix: dio_Controller_Din2.dat\n",
      "directory prefix: DIO\n",
      "file prefix: dio_ECU_Dout24.dat\n",
      "directory prefix: DIO\n",
      "file prefix: dio_ECU_Dout3.dat\n",
      "directory prefix: DIO\n",
      "file prefix: dio_ECU_Din9.dat\n",
      "directory prefix: DIO\n",
      "file prefix: dio_ECU_Din21.dat\n",
      "directory prefix: DIO\n",
      "file prefix: dio_ECU_Din30.dat\n",
      "directory prefix: DIO\n",
      "file prefix: dio_ECU_Din28.dat\n",
      "directory prefix: DIO\n",
      "file prefix: dio_ECU_Dout16.dat\n",
      "directory prefix: DIO\n",
      "file prefix: dio_ECU_Dout10.dat\n",
      "directory prefix: DIO\n",
      "file prefix: dio_ECU_Din18.dat\n",
      "directory prefix: DIO\n",
      "file prefix: dio_ECU_Din23.dat\n",
      "directory prefix: DIO\n",
      "file prefix: dio_ECU_Dout5.dat\n",
      "directory prefix: DIO\n",
      "file prefix: dio_ECU_Din27.dat\n",
      "directory prefix: DIO\n",
      "file prefix: dio_ECU_Din6.dat\n",
      "directory prefix: DIO\n",
      "file prefix: dio_ECU_Din4.dat\n",
      "directory prefix: DIO\n",
      "file prefix: dio_Controller_Din6.dat\n",
      "directory prefix: DIO\n",
      "file prefix: dio_ECU_Din19.dat\n",
      "directory prefix: DIO\n",
      "file prefix: dio_ECU_Din7.dat\n",
      "directory prefix: DIO\n",
      "file prefix: dio_Controller_Din3.dat\n",
      "directory prefix: DIO\n",
      "file prefix: dio_ECU_Din32.dat\n",
      "directory prefix: DIO\n",
      "file prefix: dio_ECU_Dout14.dat\n",
      "directory prefix: DIO\n",
      "file prefix: dio_ECU_Dout6.dat\n",
      "directory prefix: DIO\n",
      "file prefix: dio_ECU_Dout27.dat\n",
      "directory prefix: DIO\n",
      "file prefix: dio_ECU_Dout31.dat\n",
      "directory prefix: DIO\n",
      "file prefix: dio_ECU_Dout7.dat\n",
      "directory prefix: DIO\n",
      "file prefix: dio_Controller_Din7.dat\n",
      "directory prefix: DIO\n",
      "file prefix: dio_Controller_Din5.dat\n",
      "directory prefix: DIO\n",
      "file prefix: dio_ECU_Din14.dat\n",
      "directory prefix: DIO\n",
      "file prefix: dio_ECU_Dout1.dat\n",
      "directory prefix: DIO\n",
      "file prefix: dio_ECU_Din20.dat\n",
      "directory prefix: DIO\n",
      "file prefix: dio_ECU_Dout13.dat\n",
      "directory prefix: DIO\n",
      "file prefix: dio_ECU_Dout9.dat\n",
      "directory prefix: DIO\n",
      "file prefix: dio_ECU_Dout2.dat\n",
      "directory prefix: DIO\n",
      "file prefix: dio_ECU_Dout20.dat\n",
      "directory prefix: DIO\n",
      "file prefix: dio_ECU_Dout12.dat\n",
      "directory prefix: DIO\n",
      "file prefix: dio_ECU_Din12.dat\n",
      "directory prefix: DIO\n",
      "file prefix: dio_ECU_Dout25.dat\n",
      "directory prefix: DIO\n",
      "file prefix: dio_ECU_Dout28.dat\n",
      "directory prefix: DIO\n",
      "file prefix: dio_ECU_Dout29.dat\n",
      "directory prefix: DIO\n",
      "file prefix: dio_ECU_Din17.dat\n",
      "directory prefix: DIO\n",
      "file prefix: dio_ECU_Dout19.dat\n",
      "directory prefix: DIO\n"
     ]
    },
    {
     "name": "stderr",
     "output_type": "stream",
     "text": [
      "/nancy/projects/reward_competition_ephys_analysis_with_omission_and_divider_controls/results/2023_05_17_sleap_analysis/../../src/trodes/read_exported.py:70: FutureWarning: Passing (type, 1) or '1type' as a synonym of type is deprecated; in a future version of numpy, it will be understood as (type, (1,)) / '(1,)type'.\n",
      "  return np.dtype(typearr)\n"
     ]
    },
    {
     "name": "stdout",
     "output_type": "stream",
     "text": [
      "file prefix: LFP_nt25ch1.dat\n",
      "directory prefix: LFP\n",
      "file prefix: LFP_nt4ch1.dat\n",
      "directory prefix: LFP\n",
      "file prefix: LFP_nt5ch1.dat\n",
      "directory prefix: LFP\n",
      "file prefix: LFP_nt32ch1.dat\n",
      "directory prefix: LFP\n",
      "file prefix: LFP_nt20ch1.dat\n",
      "directory prefix: LFP\n",
      "file prefix: LFP_nt1ch1.dat\n",
      "directory prefix: LFP\n",
      "file prefix: LFP_nt22ch1.dat\n",
      "directory prefix: LFP\n",
      "file prefix: LFP_nt24ch1.dat\n",
      "directory prefix: LFP\n",
      "file prefix: LFP_nt13ch1.dat\n",
      "directory prefix: LFP\n",
      "file prefix: LFP_nt18ch1.dat\n",
      "directory prefix: LFP\n",
      "file prefix: LFP_nt2ch1.dat\n",
      "directory prefix: LFP\n",
      "file prefix: LFP_nt10ch1.dat\n",
      "directory prefix: LFP\n",
      "file prefix: LFP_nt12ch1.dat\n",
      "directory prefix: LFP\n",
      "file prefix: timestamps.dat\n",
      "directory prefix: LFP\n",
      "file prefix: LFP_nt27ch1.dat\n",
      "directory prefix: LFP\n",
      "file prefix: LFP_nt19ch1.dat\n",
      "directory prefix: LFP\n",
      "file prefix: LFP_nt28ch1.dat\n",
      "directory prefix: LFP\n",
      "file prefix: LFP_nt14ch1.dat\n",
      "directory prefix: LFP\n",
      "file prefix: LFP_nt11ch1.dat\n",
      "directory prefix: LFP\n",
      "file prefix: LFP_nt6ch1.dat\n",
      "directory prefix: LFP\n",
      "file prefix: LFP_nt31ch1.dat\n",
      "directory prefix: LFP\n",
      "file prefix: LFP_nt9ch1.dat\n",
      "directory prefix: LFP\n",
      "file prefix: LFP_nt30ch1.dat\n",
      "directory prefix: LFP\n",
      "file prefix: LFP_nt16ch1.dat\n",
      "directory prefix: LFP\n",
      "file prefix: LFP_nt8ch1.dat\n",
      "directory prefix: LFP\n",
      "file prefix: LFP_nt21ch1.dat\n",
      "directory prefix: LFP\n",
      "file prefix: LFP_nt26ch1.dat\n",
      "directory prefix: LFP\n",
      "file prefix: LFP_nt29ch1.dat\n",
      "directory prefix: LFP\n",
      "file prefix: LFP_nt15ch1.dat\n",
      "directory prefix: LFP\n",
      "file prefix: LFP_nt7ch1.dat\n",
      "directory prefix: LFP\n",
      "file prefix: LFP_nt3ch1.dat\n",
      "directory prefix: LFP\n",
      "file prefix: LFP_nt23ch1.dat\n",
      "directory prefix: LFP\n",
      "file prefix: LFP_nt17ch1.dat\n",
      "directory prefix: LFP\n"
     ]
    },
    {
     "name": "stderr",
     "output_type": "stream",
     "text": [
      "/nancy/projects/reward_competition_ephys_analysis_with_omission_and_divider_controls/results/2023_05_17_sleap_analysis/../../src/trodes/read_exported.py:138: UserWarning: Can not process /nancy/projects/reward_competition_ephys_analysis_with_omission_and_divider_controls/data/good/20221125_144832_omission_subject_6_1_and_6_2.rec/20221125_144832_omission_subject_6_1_top_1_base_2_merged.kilosort/20221125_144832_omission_subject_6_1_top_1_base_2_merged.group0.dat\n",
      "  warnings.warn(\"Can not process {}\".format(absolute_file_path))\n"
     ]
    },
    {
     "name": "stdout",
     "output_type": "stream",
     "text": [
      "file prefix: timestamps.dat\n",
      "directory prefix: kilosort\n",
      "file prefix: group0.coordinates.dat\n",
      "directory prefix: kilosort\n",
      "file prefix: timestamps.dat\n",
      "directory prefix: time\n",
      "file prefix: spikes_nt22.dat\n",
      "directory prefix: spikes\n",
      "file prefix: spikes_nt10.dat\n",
      "directory prefix: spikes\n",
      "file prefix: spikes_nt20.dat\n",
      "directory prefix: spikes\n",
      "file prefix: spikes_nt23.dat\n",
      "directory prefix: spikes\n",
      "file prefix: spikes_nt9.dat\n",
      "directory prefix: spikes\n",
      "file prefix: spikes_nt2.dat\n",
      "directory prefix: spikes\n",
      "file prefix: spikes_nt8.dat\n",
      "directory prefix: spikes\n",
      "file prefix: spikes_nt7.dat\n",
      "directory prefix: spikes\n",
      "file prefix: spikes_nt25.dat\n",
      "directory prefix: spikes\n",
      "file prefix: spikes_nt14.dat\n",
      "directory prefix: spikes\n",
      "file prefix: spikes_nt5.dat\n",
      "directory prefix: spikes\n",
      "file prefix: spikes_nt24.dat\n",
      "directory prefix: spikes\n",
      "file prefix: spikes_nt19.dat\n",
      "directory prefix: spikes\n",
      "file prefix: spikes_nt4.dat\n",
      "directory prefix: spikes\n",
      "file prefix: spikes_nt11.dat\n",
      "directory prefix: spikes\n",
      "file prefix: spikes_nt28.dat\n",
      "directory prefix: spikes\n",
      "file prefix: spikes_nt17.dat\n",
      "directory prefix: spikes\n",
      "file prefix: spikes_nt3.dat\n",
      "directory prefix: spikes\n",
      "file prefix: spikes_nt6.dat\n",
      "directory prefix: spikes\n",
      "file prefix: spikes_nt18.dat\n",
      "directory prefix: spikes\n",
      "file prefix: spikes_nt30.dat\n",
      "directory prefix: spikes\n",
      "file prefix: spikes_nt31.dat\n",
      "directory prefix: spikes\n",
      "file prefix: spikes_nt32.dat\n",
      "directory prefix: spikes\n",
      "file prefix: spikes_nt13.dat\n",
      "directory prefix: spikes\n",
      "file prefix: spikes_nt29.dat\n",
      "directory prefix: spikes\n",
      "file prefix: spikes_nt21.dat\n",
      "directory prefix: spikes\n",
      "file prefix: spikes_nt27.dat\n",
      "directory prefix: spikes\n",
      "file prefix: spikes_nt12.dat\n",
      "directory prefix: spikes\n",
      "file prefix: spikes_nt15.dat\n",
      "directory prefix: spikes\n",
      "file prefix: spikes_nt1.dat\n",
      "directory prefix: spikes\n",
      "file prefix: spikes_nt16.dat\n",
      "directory prefix: spikes\n",
      "file prefix: spikes_nt26.dat\n",
      "directory prefix: spikes\n",
      "file prefix: 1.videoTimeStamps.cameraHWSync\n",
      "directory prefix: .\n",
      "file prefix: 1.videoTimeStamps.cameraHWSync\n",
      "directory prefix: .\n"
     ]
    },
    {
     "name": "stderr",
     "output_type": "stream",
     "text": [
      "/nancy/projects/reward_competition_ephys_analysis_with_omission_and_divider_controls/results/2023_05_17_sleap_analysis/../../src/trodes/read_exported.py:138: UserWarning: Can not process /nancy/projects/reward_competition_ephys_analysis_with_omission_and_divider_controls/data/good/20221125_144832_omission_subject_6_1_and_6_2.rec/20221125_144832_omission_and_competition_subejct_6_1_and_6_2.1.videoTimeStamps\n",
      "  warnings.warn(\"Can not process {}\".format(absolute_file_path))\n",
      "/nancy/projects/reward_competition_ephys_analysis_with_omission_and_divider_controls/results/2023_05_17_sleap_analysis/../../src/trodes/read_exported.py:138: UserWarning: Can not process /nancy/projects/reward_competition_ephys_analysis_with_omission_and_divider_controls/data/good/20221125_144832_omission_subject_6_1_and_6_2.rec/20221125_144832_omission_subject_6_1_and_6_2.rec\n",
      "  warnings.warn(\"Can not process {}\".format(absolute_file_path))\n",
      "/nancy/projects/reward_competition_ephys_analysis_with_omission_and_divider_controls/results/2023_05_17_sleap_analysis/../../src/trodes/read_exported.py:138: UserWarning: Can not process /nancy/projects/reward_competition_ephys_analysis_with_omission_and_divider_controls/data/good/20221125_144832_omission_subject_6_1_and_6_2.rec/logger_raw.dat\n",
      "  warnings.warn(\"Can not process {}\".format(absolute_file_path))\n",
      "/nancy/projects/reward_competition_ephys_analysis_with_omission_and_divider_controls/results/2023_05_17_sleap_analysis/../../src/trodes/read_exported.py:138: UserWarning: Can not process /nancy/projects/reward_competition_ephys_analysis_with_omission_and_divider_controls/data/good/20221125_144832_omission_subject_6_1_and_6_2.rec/20221125_144832_omission_and_competition_subejct_6_1_and_6_2.1.trackgeometry\n",
      "  warnings.warn(\"Can not process {}\".format(absolute_file_path))\n",
      "/nancy/projects/reward_competition_ephys_analysis_with_omission_and_divider_controls/results/2023_05_17_sleap_analysis/../../src/trodes/read_exported.py:138: UserWarning: Can not process /nancy/projects/reward_competition_ephys_analysis_with_omission_and_divider_controls/data/good/20221125_144832_omission_subject_6_1_and_6_2.rec/20221125_144832_omission_subject_6_1_top_1_base_2_merged.trodesconf\n",
      "  warnings.warn(\"Can not process {}\".format(absolute_file_path))\n",
      "/nancy/projects/reward_competition_ephys_analysis_with_omission_and_divider_controls/results/2023_05_17_sleap_analysis/../../src/trodes/read_exported.py:138: UserWarning: Can not process /nancy/projects/reward_competition_ephys_analysis_with_omission_and_divider_controls/data/good/20221125_144832_omission_subject_6_1_and_6_2.rec/20221125_144832_omission_and_competition_subejct_6_1_and_6_2.1.original.mp4\n",
      "  warnings.warn(\"Can not process {}\".format(absolute_file_path))\n",
      "/nancy/projects/reward_competition_ephys_analysis_with_omission_and_divider_controls/results/2023_05_17_sleap_analysis/../../src/trodes/read_exported.py:138: UserWarning: Can not process /nancy/projects/reward_competition_ephys_analysis_with_omission_and_divider_controls/data/good/20221125_144832_omission_subject_6_1_and_6_2.rec/20221125_144832_omission_and_competition_subejct_6_1_and_6_2.1.h264\n",
      "  warnings.warn(\"Can not process {}\".format(absolute_file_path))\n",
      "/nancy/projects/reward_competition_ephys_analysis_with_omission_and_divider_controls/results/2023_05_17_sleap_analysis/../../src/trodes/read_exported.py:138: UserWarning: Can not process /nancy/projects/reward_competition_ephys_analysis_with_omission_and_divider_controls/data/good/20221125_144832_omission_subject_6_1_and_6_2.rec/20221125_144832_omission_subject_6_1_top_1_base_2_merged.rec\n",
      "  warnings.warn(\"Can not process {}\".format(absolute_file_path))\n",
      "/nancy/projects/reward_competition_ephys_analysis_with_omission_and_divider_controls/results/2023_05_17_sleap_analysis/../../src/trodes/read_exported.py:138: UserWarning: Can not process /nancy/projects/reward_competition_ephys_analysis_with_omission_and_divider_controls/data/good/20221125_144832_omission_subject_6_1_and_6_2.rec/20221125_144832_omission_and_competition_subejct_6_1_and_6_2.1.fixed.mp4\n",
      "  warnings.warn(\"Can not process {}\".format(absolute_file_path))\n"
     ]
    },
    {
     "name": "stdout",
     "output_type": "stream",
     "text": [
      "file prefix: analog_ECU_Ain2.dat\n",
      "directory prefix: analog\n",
      "file prefix: analog_Headstage_AccelX.dat\n",
      "directory prefix: analog\n",
      "file prefix: analog_Headstage_GyroZ.dat\n",
      "directory prefix: analog\n",
      "file prefix: analog_Headstage_MagX.dat\n",
      "directory prefix: analog\n",
      "file prefix: analog_ECU_Ain3.dat\n",
      "directory prefix: analog\n",
      "file prefix: analog_ECU_Ain6.dat\n",
      "directory prefix: analog\n",
      "file prefix: analog_Headstage_AccelY.dat\n",
      "directory prefix: analog\n",
      "file prefix: timestamps.dat\n",
      "directory prefix: analog\n",
      "file prefix: analog_Headstage_MagY.dat\n",
      "directory prefix: analog\n",
      "file prefix: analog_ECU_Ain1.dat\n",
      "directory prefix: analog\n",
      "file prefix: analog_ECU_Aout2.dat\n",
      "directory prefix: analog\n",
      "file prefix: analog_ECU_Aout4.dat\n",
      "directory prefix: analog\n",
      "file prefix: analog_Headstage_MagZ.dat\n",
      "directory prefix: analog\n",
      "file prefix: analog_ECU_Ain5.dat\n",
      "directory prefix: analog\n",
      "file prefix: analog_Headstage_GyroX.dat\n",
      "directory prefix: analog\n",
      "file prefix: analog_ECU_Aout1.dat\n",
      "directory prefix: analog\n",
      "file prefix: analog_ECU_Aout3.dat\n",
      "directory prefix: analog\n",
      "file prefix: analog_Controller_Ain1.dat\n",
      "directory prefix: analog\n",
      "file prefix: analog_ECU_Ain8.dat\n",
      "directory prefix: analog\n",
      "file prefix: analog_Headstage_AccelZ.dat\n",
      "directory prefix: analog\n",
      "file prefix: analog_Headstage_GyroY.dat\n",
      "directory prefix: analog\n",
      "file prefix: analog_ECU_Ain7.dat\n",
      "directory prefix: analog\n",
      "file prefix: analog_ECU_Ain4.dat\n",
      "directory prefix: analog\n",
      "file prefix: group0.coordinates.dat\n",
      "directory prefix: mountainsort\n"
     ]
    },
    {
     "name": "stderr",
     "output_type": "stream",
     "text": [
      "/nancy/projects/reward_competition_ephys_analysis_with_omission_and_divider_controls/results/2023_05_17_sleap_analysis/../../src/trodes/read_exported.py:138: UserWarning: Can not process /nancy/projects/reward_competition_ephys_analysis_with_omission_and_divider_controls/data/good/20221125_144832_omission_subject_6_1_and_6_2.rec/20221125_144832_omission_subject_6_1_top_1_base_2_merged.mountainsort/20221125_144832_omission_subject_6_1_top_1_base_2_merged.timestamps.mda\n",
      "  warnings.warn(\"Can not process {}\".format(absolute_file_path))\n",
      "/nancy/projects/reward_competition_ephys_analysis_with_omission_and_divider_controls/results/2023_05_17_sleap_analysis/../../src/trodes/read_exported.py:138: UserWarning: Can not process /nancy/projects/reward_competition_ephys_analysis_with_omission_and_divider_controls/data/good/20221125_144832_omission_subject_6_1_and_6_2.rec/20221125_144832_omission_subject_6_1_top_1_base_2_merged.mountainsort/20221125_144832_omission_subject_6_1_top_1_base_2_merged.group0.mda\n",
      "  warnings.warn(\"Can not process {}\".format(absolute_file_path))\n"
     ]
    },
    {
     "name": "stdout",
     "output_type": "stream",
     "text": [
      "file prefix: timestamps.dat\n",
      "directory prefix: raw\n",
      "file prefix: group0.coordinates.dat\n",
      "directory prefix: raw\n",
      "file prefix: raw_group0.dat\n",
      "directory prefix: raw\n",
      "file prefix: 1.videoTimeStamps.cameraHWSync\n",
      "directory prefix: .\n",
      "file prefix: 1.videoTimeStamps.cameraHWSync\n",
      "directory prefix: .\n",
      "file prefix: spikeband_nt13ch1.dat\n",
      "directory prefix: spikeband\n",
      "file prefix: spikeband_nt24ch1.dat\n",
      "directory prefix: spikeband\n",
      "file prefix: spikeband_nt20ch1.dat\n",
      "directory prefix: spikeband\n",
      "file prefix: spikeband_nt30ch1.dat\n",
      "directory prefix: spikeband\n",
      "file prefix: spikeband_nt19ch1.dat\n",
      "directory prefix: spikeband\n",
      "file prefix: spikeband_nt31ch1.dat\n",
      "directory prefix: spikeband\n",
      "file prefix: spikeband_nt9ch1.dat\n",
      "directory prefix: spikeband\n",
      "file prefix: spikeband_nt2ch1.dat\n",
      "directory prefix: spikeband\n",
      "file prefix: spikeband_nt10ch1.dat\n",
      "directory prefix: spikeband\n",
      "file prefix: spikeband_nt29ch1.dat\n",
      "directory prefix: spikeband\n",
      "file prefix: timestamps.dat\n",
      "directory prefix: spikeband\n",
      "file prefix: spikeband_nt5ch1.dat\n",
      "directory prefix: spikeband\n",
      "file prefix: spikeband_nt1ch1.dat\n",
      "directory prefix: spikeband\n",
      "file prefix: spikeband_nt23ch1.dat\n",
      "directory prefix: spikeband\n",
      "file prefix: spikeband_nt27ch1.dat\n",
      "directory prefix: spikeband\n",
      "file prefix: spikeband_nt32ch1.dat\n",
      "directory prefix: spikeband\n",
      "file prefix: spikeband_nt7ch1.dat\n",
      "directory prefix: spikeband\n",
      "file prefix: spikeband_nt12ch1.dat\n",
      "directory prefix: spikeband\n",
      "file prefix: spikeband_nt25ch1.dat\n",
      "directory prefix: spikeband\n",
      "file prefix: spikeband_nt14ch1.dat\n",
      "directory prefix: spikeband\n",
      "file prefix: spikeband_nt8ch1.dat\n",
      "directory prefix: spikeband\n",
      "file prefix: spikeband_nt22ch1.dat\n",
      "directory prefix: spikeband\n",
      "file prefix: spikeband_nt21ch1.dat\n",
      "directory prefix: spikeband\n",
      "file prefix: spikeband_nt15ch1.dat\n",
      "directory prefix: spikeband\n",
      "file prefix: spikeband_nt18ch1.dat\n",
      "directory prefix: spikeband\n",
      "file prefix: spikeband_nt3ch1.dat\n",
      "directory prefix: spikeband\n",
      "file prefix: spikeband_nt17ch1.dat\n",
      "directory prefix: spikeband\n",
      "file prefix: spikeband_nt26ch1.dat\n",
      "directory prefix: spikeband\n",
      "file prefix: spikeband_nt6ch1.dat\n",
      "directory prefix: spikeband\n",
      "file prefix: spikeband_nt4ch1.dat\n",
      "directory prefix: spikeband\n",
      "file prefix: spikeband_nt16ch1.dat\n",
      "directory prefix: spikeband\n",
      "file prefix: spikeband_nt11ch1.dat\n",
      "directory prefix: spikeband\n",
      "file prefix: spikeband_nt28ch1.dat\n",
      "directory prefix: spikeband\n",
      "file prefix: 1.videoTimeStamps.cameraHWSync\n",
      "directory prefix: .\n",
      "file prefix: 1.videoTimeStamps.cameraHWSync\n",
      "directory prefix: .\n",
      "file prefix: 1.videoTimeStamps.cameraHWSync\n",
      "directory prefix: .\n",
      "file prefix: 1.videoTimeStamps.cameraHWSync\n",
      "directory prefix: .\n",
      "file prefix: timestamps.dat\n",
      "directory prefix: stimulation\n",
      "file prefix: 1.videoTimeStamps.cameraHWSync\n",
      "directory prefix: .\n",
      "file prefix: dio_ECU_Dout20.dat\n",
      "directory prefix: DIO\n",
      "file prefix: dio_ECU_Din6.dat\n",
      "directory prefix: DIO\n",
      "file prefix: dio_ECU_Dout30.dat\n",
      "directory prefix: DIO\n",
      "file prefix: dio_ECU_Dout28.dat\n",
      "directory prefix: DIO\n",
      "file prefix: dio_ECU_Din13.dat\n",
      "directory prefix: DIO\n",
      "file prefix: dio_ECU_Din21.dat\n",
      "directory prefix: DIO\n",
      "file prefix: dio_ECU_Din25.dat\n",
      "directory prefix: DIO\n",
      "file prefix: dio_ECU_Dout2.dat\n",
      "directory prefix: DIO\n",
      "file prefix: dio_Controller_Din7.dat\n",
      "directory prefix: DIO\n",
      "file prefix: dio_ECU_Din3.dat\n",
      "directory prefix: DIO\n",
      "file prefix: dio_ECU_Dout7.dat\n",
      "directory prefix: DIO\n",
      "file prefix: dio_ECU_Din32.dat\n",
      "directory prefix: DIO\n",
      "file prefix: dio_ECU_Din28.dat\n",
      "directory prefix: DIO\n",
      "file prefix: dio_ECU_Din12.dat\n",
      "directory prefix: DIO\n",
      "file prefix: dio_ECU_Dout21.dat\n",
      "directory prefix: DIO\n",
      "file prefix: dio_Controller_Din8.dat\n",
      "directory prefix: DIO\n",
      "file prefix: dio_Controller_Din3.dat\n",
      "directory prefix: DIO\n",
      "file prefix: dio_ECU_Dout26.dat\n",
      "directory prefix: DIO\n",
      "file prefix: dio_ECU_Din27.dat\n",
      "directory prefix: DIO\n",
      "file prefix: dio_ECU_Dout5.dat\n",
      "directory prefix: DIO\n",
      "file prefix: dio_ECU_Din18.dat\n",
      "directory prefix: DIO\n",
      "file prefix: dio_ECU_Din16.dat\n",
      "directory prefix: DIO\n",
      "file prefix: dio_ECU_Din8.dat\n",
      "directory prefix: DIO\n",
      "file prefix: dio_ECU_Dout9.dat\n",
      "directory prefix: DIO\n",
      "file prefix: dio_Controller_Din2.dat\n",
      "directory prefix: DIO\n",
      "file prefix: dio_ECU_Din15.dat\n",
      "directory prefix: DIO\n",
      "file prefix: dio_ECU_Dout29.dat\n",
      "directory prefix: DIO\n",
      "file prefix: dio_ECU_Din7.dat\n",
      "directory prefix: DIO\n",
      "file prefix: dio_ECU_Dout14.dat\n",
      "directory prefix: DIO\n",
      "file prefix: dio_ECU_Dout10.dat\n",
      "directory prefix: DIO\n",
      "file prefix: dio_ECU_Dout27.dat\n",
      "directory prefix: DIO\n",
      "file prefix: dio_ECU_Dout15.dat\n",
      "directory prefix: DIO\n",
      "file prefix: dio_ECU_Dout3.dat\n",
      "directory prefix: DIO\n",
      "file prefix: dio_ECU_Din23.dat\n",
      "directory prefix: DIO\n",
      "file prefix: dio_ECU_Dout16.dat\n",
      "directory prefix: DIO\n",
      "file prefix: dio_ECU_Din10.dat\n",
      "directory prefix: DIO\n",
      "file prefix: dio_ECU_Dout23.dat\n",
      "directory prefix: DIO\n",
      "file prefix: dio_ECU_Din4.dat\n",
      "directory prefix: DIO\n",
      "file prefix: dio_Controller_Din5.dat\n",
      "directory prefix: DIO\n",
      "file prefix: dio_ECU_Din20.dat\n",
      "directory prefix: DIO\n",
      "file prefix: dio_ECU_Dout17.dat\n",
      "directory prefix: DIO\n",
      "file prefix: dio_ECU_Dout32.dat\n",
      "directory prefix: DIO\n",
      "file prefix: dio_ECU_Din24.dat\n",
      "directory prefix: DIO\n",
      "file prefix: dio_Controller_Din1.dat\n",
      "directory prefix: DIO\n",
      "file prefix: dio_ECU_Din30.dat\n",
      "directory prefix: DIO\n",
      "file prefix: dio_ECU_Dout25.dat\n",
      "directory prefix: DIO\n",
      "file prefix: dio_ECU_Din22.dat\n",
      "directory prefix: DIO\n",
      "file prefix: dio_ECU_Din26.dat\n",
      "directory prefix: DIO\n",
      "file prefix: dio_ECU_Din1.dat\n",
      "directory prefix: DIO\n",
      "file prefix: dio_ECU_Dout6.dat\n",
      "directory prefix: DIO\n",
      "file prefix: dio_ECU_Din29.dat\n",
      "directory prefix: DIO\n",
      "file prefix: dio_ECU_Din31.dat\n",
      "directory prefix: DIO\n",
      "file prefix: dio_Controller_Din6.dat\n",
      "directory prefix: DIO\n",
      "file prefix: dio_ECU_Dout1.dat\n",
      "directory prefix: DIO\n",
      "file prefix: dio_ECU_Dout19.dat\n",
      "directory prefix: DIO\n",
      "file prefix: dio_ECU_Dout12.dat\n",
      "directory prefix: DIO\n",
      "file prefix: dio_ECU_Dout24.dat\n",
      "directory prefix: DIO\n",
      "file prefix: dio_ECU_Din11.dat\n",
      "directory prefix: DIO\n",
      "file prefix: dio_ECU_Din2.dat\n",
      "directory prefix: DIO\n",
      "file prefix: dio_ECU_Dout4.dat\n",
      "directory prefix: DIO\n",
      "file prefix: dio_ECU_Dout31.dat\n",
      "directory prefix: DIO\n",
      "file prefix: dio_ECU_Din5.dat\n",
      "directory prefix: DIO\n",
      "file prefix: dio_ECU_Dout11.dat\n",
      "directory prefix: DIO\n",
      "file prefix: dio_ECU_Dout22.dat\n",
      "directory prefix: DIO\n",
      "file prefix: dio_ECU_Din14.dat\n",
      "directory prefix: DIO\n",
      "file prefix: dio_ECU_Dout13.dat\n",
      "directory prefix: DIO\n",
      "file prefix: dio_ECU_Din9.dat\n",
      "directory prefix: DIO\n",
      "file prefix: dio_ECU_Dout18.dat\n",
      "directory prefix: DIO\n",
      "file prefix: dio_ECU_Din17.dat\n",
      "directory prefix: DIO\n",
      "file prefix: dio_ECU_Dout8.dat\n",
      "directory prefix: DIO\n",
      "file prefix: dio_Controller_Din4.dat\n",
      "directory prefix: DIO\n",
      "file prefix: dio_ECU_Din19.dat\n",
      "directory prefix: DIO\n",
      "file prefix: 1.videoTimeStamps.cameraHWSync\n",
      "directory prefix: .\n"
     ]
    },
    {
     "name": "stderr",
     "output_type": "stream",
     "text": [
      "/nancy/projects/reward_competition_ephys_analysis_with_omission_and_divider_controls/results/2023_05_17_sleap_analysis/../../src/trodes/read_exported.py:138: UserWarning: Can not process /nancy/projects/reward_competition_ephys_analysis_with_omission_and_divider_controls/data/good/20221125_144832_omission_subject_6_1_and_6_2.rec/20221125_144832_omission_subject_6_1_top_1_base_2_merged.timestampoffset/20221125_144832_omission_subject_6_1_top_1_base_2_merged.timestampoffset.txt\n",
      "  warnings.warn(\"Can not process {}\".format(absolute_file_path))\n",
      "/nancy/projects/reward_competition_ephys_analysis_with_omission_and_divider_controls/results/2023_05_17_sleap_analysis/../../src/trodes/read_exported.py:70: FutureWarning: Passing (type, 1) or '1type' as a synonym of type is deprecated; in a future version of numpy, it will be understood as (type, (1,)) / '(1,)type'.\n",
      "  return np.dtype(typearr)\n"
     ]
    },
    {
     "name": "stdout",
     "output_type": "stream",
     "text": [
      "file prefix: dio_ECU_Dout27.dat\n",
      "directory prefix: DIO\n",
      "file prefix: dio_ECU_Din16.dat\n",
      "directory prefix: DIO\n",
      "file prefix: dio_ECU_Dout12.dat\n",
      "directory prefix: DIO\n",
      "file prefix: dio_ECU_Dout14.dat\n",
      "directory prefix: DIO\n",
      "file prefix: dio_ECU_Dout21.dat\n",
      "directory prefix: DIO\n",
      "file prefix: dio_ECU_Dout17.dat\n",
      "directory prefix: DIO\n",
      "file prefix: dio_ECU_Dout28.dat\n",
      "directory prefix: DIO\n",
      "file prefix: dio_ECU_Dout9.dat\n",
      "directory prefix: DIO\n",
      "file prefix: dio_ECU_Din7.dat\n",
      "directory prefix: DIO\n",
      "file prefix: dio_ECU_Din21.dat\n",
      "directory prefix: DIO\n",
      "file prefix: dio_ECU_Din29.dat\n",
      "directory prefix: DIO\n",
      "file prefix: dio_ECU_Dout16.dat\n",
      "directory prefix: DIO\n",
      "file prefix: dio_ECU_Dout1.dat\n",
      "directory prefix: DIO\n",
      "file prefix: dio_Controller_Din3.dat\n",
      "directory prefix: DIO\n",
      "file prefix: dio_ECU_Din19.dat\n",
      "directory prefix: DIO\n",
      "file prefix: dio_ECU_Dout29.dat\n",
      "directory prefix: DIO\n",
      "file prefix: dio_ECU_Dout25.dat\n",
      "directory prefix: DIO\n",
      "file prefix: dio_ECU_Dout18.dat\n",
      "directory prefix: DIO\n",
      "file prefix: dio_ECU_Din20.dat\n",
      "directory prefix: DIO\n",
      "file prefix: dio_ECU_Din28.dat\n",
      "directory prefix: DIO\n",
      "file prefix: dio_ECU_Din22.dat\n",
      "directory prefix: DIO\n",
      "file prefix: dio_ECU_Dout31.dat\n",
      "directory prefix: DIO\n",
      "file prefix: dio_Controller_Din8.dat\n",
      "directory prefix: DIO\n",
      "file prefix: dio_ECU_Dout19.dat\n",
      "directory prefix: DIO\n",
      "file prefix: dio_ECU_Din6.dat\n",
      "directory prefix: DIO\n",
      "file prefix: dio_ECU_Dout20.dat\n",
      "directory prefix: DIO\n",
      "file prefix: dio_ECU_Din10.dat\n",
      "directory prefix: DIO\n",
      "file prefix: dio_Controller_Din5.dat\n",
      "directory prefix: DIO\n",
      "file prefix: dio_Controller_Din1.dat\n",
      "directory prefix: DIO\n",
      "file prefix: dio_ECU_Din12.dat\n",
      "directory prefix: DIO\n",
      "file prefix: dio_ECU_Din5.dat\n",
      "directory prefix: DIO\n",
      "file prefix: dio_ECU_Din14.dat\n",
      "directory prefix: DIO\n",
      "file prefix: dio_ECU_Dout30.dat\n",
      "directory prefix: DIO\n",
      "file prefix: dio_ECU_Dout22.dat\n",
      "directory prefix: DIO\n",
      "file prefix: dio_ECU_Din11.dat\n",
      "directory prefix: DIO\n",
      "file prefix: dio_Controller_Din6.dat\n",
      "directory prefix: DIO\n",
      "file prefix: dio_Controller_Din2.dat\n",
      "directory prefix: DIO\n",
      "file prefix: dio_ECU_Dout24.dat\n",
      "directory prefix: DIO\n",
      "file prefix: dio_ECU_Dout2.dat\n",
      "directory prefix: DIO\n",
      "file prefix: dio_ECU_Dout4.dat\n",
      "directory prefix: DIO\n",
      "file prefix: dio_Controller_Din4.dat\n",
      "directory prefix: DIO\n",
      "file prefix: dio_ECU_Din15.dat\n",
      "directory prefix: DIO\n",
      "file prefix: dio_ECU_Dout32.dat\n",
      "directory prefix: DIO\n",
      "file prefix: dio_ECU_Din17.dat\n",
      "directory prefix: DIO\n",
      "file prefix: dio_ECU_Din4.dat\n",
      "directory prefix: DIO\n",
      "file prefix: dio_ECU_Dout11.dat\n",
      "directory prefix: DIO\n",
      "file prefix: dio_ECU_Din1.dat\n",
      "directory prefix: DIO\n",
      "file prefix: dio_ECU_Din9.dat\n",
      "directory prefix: DIO\n",
      "file prefix: dio_ECU_Dout6.dat\n",
      "directory prefix: DIO\n",
      "file prefix: dio_ECU_Din8.dat\n",
      "directory prefix: DIO\n",
      "file prefix: dio_ECU_Din23.dat\n",
      "directory prefix: DIO\n",
      "file prefix: dio_Controller_Din7.dat\n",
      "directory prefix: DIO\n",
      "file prefix: dio_ECU_Dout3.dat\n",
      "directory prefix: DIO\n",
      "file prefix: dio_ECU_Dout26.dat\n",
      "directory prefix: DIO\n",
      "file prefix: dio_ECU_Din3.dat\n",
      "directory prefix: DIO\n",
      "file prefix: dio_ECU_Dout5.dat\n",
      "directory prefix: DIO\n",
      "file prefix: dio_ECU_Din18.dat\n",
      "directory prefix: DIO\n",
      "file prefix: dio_ECU_Dout8.dat\n",
      "directory prefix: DIO\n",
      "file prefix: dio_ECU_Dout10.dat\n",
      "directory prefix: DIO\n",
      "file prefix: dio_ECU_Din13.dat\n",
      "directory prefix: DIO\n",
      "file prefix: dio_ECU_Din24.dat\n",
      "directory prefix: DIO\n",
      "file prefix: dio_ECU_Din32.dat\n",
      "directory prefix: DIO\n",
      "file prefix: dio_ECU_Dout23.dat\n",
      "directory prefix: DIO\n",
      "file prefix: dio_ECU_Din30.dat\n",
      "directory prefix: DIO\n",
      "file prefix: dio_ECU_Dout7.dat\n",
      "directory prefix: DIO\n",
      "file prefix: dio_ECU_Din27.dat\n",
      "directory prefix: DIO\n",
      "file prefix: dio_ECU_Din26.dat\n",
      "directory prefix: DIO\n",
      "file prefix: dio_ECU_Din31.dat\n",
      "directory prefix: DIO\n",
      "file prefix: dio_ECU_Dout13.dat\n",
      "directory prefix: DIO\n",
      "file prefix: dio_ECU_Din25.dat\n",
      "directory prefix: DIO\n",
      "file prefix: dio_ECU_Din2.dat\n",
      "directory prefix: DIO\n",
      "file prefix: dio_ECU_Dout15.dat\n",
      "directory prefix: DIO\n",
      "file prefix: spikeband_nt31ch1.dat\n",
      "directory prefix: spikeband\n",
      "file prefix: spikeband_nt22ch1.dat\n",
      "directory prefix: spikeband\n",
      "file prefix: spikeband_nt14ch1.dat\n",
      "directory prefix: spikeband\n",
      "file prefix: spikeband_nt30ch1.dat\n",
      "directory prefix: spikeband\n",
      "file prefix: spikeband_nt3ch1.dat\n",
      "directory prefix: spikeband\n",
      "file prefix: spikeband_nt10ch1.dat\n",
      "directory prefix: spikeband\n",
      "file prefix: spikeband_nt7ch1.dat\n",
      "directory prefix: spikeband\n",
      "file prefix: spikeband_nt16ch1.dat\n",
      "directory prefix: spikeband\n",
      "file prefix: spikeband_nt4ch1.dat\n",
      "directory prefix: spikeband\n",
      "file prefix: spikeband_nt27ch1.dat\n",
      "directory prefix: spikeband\n",
      "file prefix: spikeband_nt6ch1.dat\n",
      "directory prefix: spikeband\n",
      "file prefix: spikeband_nt12ch1.dat\n",
      "directory prefix: spikeband\n",
      "file prefix: spikeband_nt20ch1.dat\n",
      "directory prefix: spikeband\n",
      "file prefix: spikeband_nt9ch1.dat\n",
      "directory prefix: spikeband\n",
      "file prefix: spikeband_nt23ch1.dat\n",
      "directory prefix: spikeband\n",
      "file prefix: spikeband_nt13ch1.dat\n",
      "directory prefix: spikeband\n",
      "file prefix: spikeband_nt18ch1.dat\n",
      "directory prefix: spikeband\n",
      "file prefix: spikeband_nt1ch1.dat\n",
      "directory prefix: spikeband\n",
      "file prefix: spikeband_nt8ch1.dat\n",
      "directory prefix: spikeband\n",
      "file prefix: timestamps.dat\n",
      "directory prefix: spikeband\n",
      "file prefix: spikeband_nt5ch1.dat\n",
      "directory prefix: spikeband\n",
      "file prefix: spikeband_nt2ch1.dat\n",
      "directory prefix: spikeband\n",
      "file prefix: spikeband_nt17ch1.dat\n",
      "directory prefix: spikeband\n",
      "file prefix: spikeband_nt24ch1.dat\n",
      "directory prefix: spikeband\n",
      "file prefix: spikeband_nt28ch1.dat\n",
      "directory prefix: spikeband\n",
      "file prefix: spikeband_nt11ch1.dat\n",
      "directory prefix: spikeband\n",
      "file prefix: spikeband_nt25ch1.dat\n",
      "directory prefix: spikeband\n",
      "file prefix: spikeband_nt32ch1.dat\n",
      "directory prefix: spikeband\n",
      "file prefix: spikeband_nt15ch1.dat\n",
      "directory prefix: spikeband\n",
      "file prefix: spikeband_nt21ch1.dat\n",
      "directory prefix: spikeband\n",
      "file prefix: spikeband_nt26ch1.dat\n",
      "directory prefix: spikeband\n",
      "file prefix: spikeband_nt29ch1.dat\n",
      "directory prefix: spikeband\n",
      "file prefix: spikeband_nt19ch1.dat\n",
      "directory prefix: spikeband\n",
      "file prefix: group0.coordinates.dat\n",
      "directory prefix: raw\n",
      "file prefix: timestamps.dat\n",
      "directory prefix: raw\n",
      "file prefix: raw_group0.dat\n",
      "directory prefix: raw\n",
      "file prefix: 1.videoTimeStamps.cameraHWSync\n",
      "directory prefix: .\n"
     ]
    },
    {
     "name": "stderr",
     "output_type": "stream",
     "text": [
      "/nancy/projects/reward_competition_ephys_analysis_with_omission_and_divider_controls/results/2023_05_17_sleap_analysis/../../src/trodes/read_exported.py:138: UserWarning: Can not process /nancy/projects/reward_competition_ephys_analysis_with_omission_and_divider_controls/data/good/20221215_145401_comp_amd_om_6_1_and_6_3.rec/20221215_145401_comp_amd_om_6_1_top_4_base_3.trodesconf\n",
      "  warnings.warn(\"Can not process {}\".format(absolute_file_path))\n",
      "/nancy/projects/reward_competition_ephys_analysis_with_omission_and_divider_controls/results/2023_05_17_sleap_analysis/../../src/trodes/read_exported.py:138: UserWarning: Can not process /nancy/projects/reward_competition_ephys_analysis_with_omission_and_divider_controls/data/good/20221215_145401_comp_amd_om_6_1_and_6_3.rec/20221215_145401_comp_amd_om_6_1_and_6_3.1.original.mp4\n",
      "  warnings.warn(\"Can not process {}\".format(absolute_file_path))\n",
      "/nancy/projects/reward_competition_ephys_analysis_with_omission_and_divider_controls/results/2023_05_17_sleap_analysis/../../src/trodes/read_exported.py:138: UserWarning: Can not process /nancy/projects/reward_competition_ephys_analysis_with_omission_and_divider_controls/data/good/20221215_145401_comp_amd_om_6_1_and_6_3.rec/20221215_145401_comp_amd_om_6_1_and_6_3.rec\n",
      "  warnings.warn(\"Can not process {}\".format(absolute_file_path))\n",
      "/nancy/projects/reward_competition_ephys_analysis_with_omission_and_divider_controls/results/2023_05_17_sleap_analysis/../../src/trodes/read_exported.py:138: UserWarning: Can not process /nancy/projects/reward_competition_ephys_analysis_with_omission_and_divider_controls/data/good/20221215_145401_comp_amd_om_6_1_and_6_3.rec/logger_raw.dat\n",
      "  warnings.warn(\"Can not process {}\".format(absolute_file_path))\n",
      "/nancy/projects/reward_competition_ephys_analysis_with_omission_and_divider_controls/results/2023_05_17_sleap_analysis/../../src/trodes/read_exported.py:138: UserWarning: Can not process /nancy/projects/reward_competition_ephys_analysis_with_omission_and_divider_controls/data/good/20221215_145401_comp_amd_om_6_1_and_6_3.rec/20221215_145401_comp_amd_om_6_1_top_4_base_3.rec\n",
      "  warnings.warn(\"Can not process {}\".format(absolute_file_path))\n",
      "/nancy/projects/reward_competition_ephys_analysis_with_omission_and_divider_controls/results/2023_05_17_sleap_analysis/../../src/trodes/read_exported.py:138: UserWarning: Can not process /nancy/projects/reward_competition_ephys_analysis_with_omission_and_divider_controls/data/good/20221215_145401_comp_amd_om_6_1_and_6_3.rec/20221215_145401_comp_amd_om_6_1_and_6_3.1.videoTimeStamps\n",
      "  warnings.warn(\"Can not process {}\".format(absolute_file_path))\n",
      "/nancy/projects/reward_competition_ephys_analysis_with_omission_and_divider_controls/results/2023_05_17_sleap_analysis/../../src/trodes/read_exported.py:138: UserWarning: Can not process /nancy/projects/reward_competition_ephys_analysis_with_omission_and_divider_controls/data/good/20221215_145401_comp_amd_om_6_1_and_6_3.rec/20221215_145401_comp_amd_om_6_1_and_6_3.1.trackgeometry\n",
      "  warnings.warn(\"Can not process {}\".format(absolute_file_path))\n",
      "/nancy/projects/reward_competition_ephys_analysis_with_omission_and_divider_controls/results/2023_05_17_sleap_analysis/../../src/trodes/read_exported.py:138: UserWarning: Can not process /nancy/projects/reward_competition_ephys_analysis_with_omission_and_divider_controls/data/good/20221215_145401_comp_amd_om_6_1_and_6_3.rec/20221215_145401_comp_amd_om_6_1_and_6_3.1.fixed.mp4\n",
      "  warnings.warn(\"Can not process {}\".format(absolute_file_path))\n",
      "/nancy/projects/reward_competition_ephys_analysis_with_omission_and_divider_controls/results/2023_05_17_sleap_analysis/../../src/trodes/read_exported.py:138: UserWarning: Can not process /nancy/projects/reward_competition_ephys_analysis_with_omission_and_divider_controls/data/good/20221215_145401_comp_amd_om_6_1_and_6_3.rec/20221215_145401_comp_amd_om_6_1_and_6_3.1.h264\n",
      "  warnings.warn(\"Can not process {}\".format(absolute_file_path))\n"
     ]
    },
    {
     "name": "stdout",
     "output_type": "stream",
     "text": [
      "file prefix: analog_ECU_Ain2.dat\n",
      "directory prefix: analog\n",
      "file prefix: analog_ECU_Ain6.dat\n",
      "directory prefix: analog\n",
      "file prefix: analog_ECU_Ain5.dat\n",
      "directory prefix: analog\n",
      "file prefix: analog_ECU_Ain1.dat\n",
      "directory prefix: analog\n",
      "file prefix: analog_Headstage_GyroY.dat\n",
      "directory prefix: analog\n",
      "file prefix: analog_ECU_Ain7.dat\n",
      "directory prefix: analog\n",
      "file prefix: analog_Headstage_AccelY.dat\n",
      "directory prefix: analog\n",
      "file prefix: analog_Headstage_AccelZ.dat\n",
      "directory prefix: analog\n",
      "file prefix: analog_Headstage_GyroX.dat\n",
      "directory prefix: analog\n",
      "file prefix: analog_ECU_Ain8.dat\n",
      "directory prefix: analog\n",
      "file prefix: analog_Controller_Ain1.dat\n",
      "directory prefix: analog\n",
      "file prefix: analog_ECU_Ain3.dat\n",
      "directory prefix: analog\n",
      "file prefix: analog_Headstage_GyroZ.dat\n",
      "directory prefix: analog\n",
      "file prefix: analog_Headstage_AccelX.dat\n",
      "directory prefix: analog\n",
      "file prefix: analog_ECU_Ain4.dat\n",
      "directory prefix: analog\n",
      "file prefix: timestamps.dat\n",
      "directory prefix: analog\n",
      "file prefix: analog_Headstage_MagZ.dat\n",
      "directory prefix: analog\n",
      "file prefix: analog_ECU_Aout2.dat\n",
      "directory prefix: analog\n",
      "file prefix: analog_ECU_Aout1.dat\n",
      "directory prefix: analog\n",
      "file prefix: analog_Headstage_MagY.dat\n",
      "directory prefix: analog\n",
      "file prefix: analog_Headstage_MagX.dat\n",
      "directory prefix: analog\n",
      "file prefix: analog_ECU_Aout3.dat\n",
      "directory prefix: analog\n",
      "file prefix: analog_ECU_Aout4.dat\n",
      "directory prefix: analog\n",
      "file prefix: timestamps.dat\n",
      "directory prefix: time\n",
      "file prefix: 1.videoTimeStamps.cameraHWSync\n",
      "directory prefix: .\n",
      "file prefix: LFP_nt17ch1.dat\n",
      "directory prefix: LFP\n",
      "file prefix: LFP_nt4ch1.dat\n",
      "directory prefix: LFP\n",
      "file prefix: LFP_nt1ch1.dat\n",
      "directory prefix: LFP\n",
      "file prefix: LFP_nt21ch1.dat\n",
      "directory prefix: LFP\n",
      "file prefix: LFP_nt20ch1.dat\n",
      "directory prefix: LFP\n",
      "file prefix: LFP_nt14ch1.dat\n",
      "directory prefix: LFP\n",
      "file prefix: LFP_nt28ch1.dat\n",
      "directory prefix: LFP\n",
      "file prefix: LFP_nt32ch1.dat\n",
      "directory prefix: LFP\n",
      "file prefix: LFP_nt8ch1.dat\n",
      "directory prefix: LFP\n",
      "file prefix: LFP_nt19ch1.dat\n",
      "directory prefix: LFP\n",
      "file prefix: LFP_nt22ch1.dat\n",
      "directory prefix: LFP\n",
      "file prefix: LFP_nt7ch1.dat\n",
      "directory prefix: LFP\n",
      "file prefix: LFP_nt15ch1.dat\n",
      "directory prefix: LFP\n",
      "file prefix: LFP_nt31ch1.dat\n",
      "directory prefix: LFP\n",
      "file prefix: LFP_nt29ch1.dat\n",
      "directory prefix: LFP\n",
      "file prefix: LFP_nt2ch1.dat\n",
      "directory prefix: LFP\n",
      "file prefix: LFP_nt6ch1.dat\n",
      "directory prefix: LFP\n",
      "file prefix: LFP_nt12ch1.dat\n",
      "directory prefix: LFP\n",
      "file prefix: LFP_nt9ch1.dat\n",
      "directory prefix: LFP\n",
      "file prefix: LFP_nt5ch1.dat\n",
      "directory prefix: LFP\n",
      "file prefix: timestamps.dat\n",
      "directory prefix: LFP\n",
      "file prefix: LFP_nt24ch1.dat\n",
      "directory prefix: LFP\n",
      "file prefix: LFP_nt26ch1.dat\n",
      "directory prefix: LFP\n",
      "file prefix: LFP_nt16ch1.dat\n",
      "directory prefix: LFP\n",
      "file prefix: LFP_nt11ch1.dat\n",
      "directory prefix: LFP\n",
      "file prefix: LFP_nt10ch1.dat\n",
      "directory prefix: LFP\n",
      "file prefix: LFP_nt3ch1.dat\n",
      "directory prefix: LFP\n",
      "file prefix: LFP_nt27ch1.dat\n",
      "directory prefix: LFP\n",
      "file prefix: LFP_nt18ch1.dat\n",
      "directory prefix: LFP\n",
      "file prefix: LFP_nt13ch1.dat\n",
      "directory prefix: LFP\n",
      "file prefix: LFP_nt30ch1.dat\n",
      "directory prefix: LFP\n",
      "file prefix: LFP_nt25ch1.dat\n",
      "directory prefix: LFP\n",
      "file prefix: LFP_nt23ch1.dat\n",
      "directory prefix: LFP\n",
      "file prefix: 1.videoTimeStamps.cameraHWSync\n",
      "directory prefix: .\n",
      "file prefix: group0.coordinates.dat\n",
      "directory prefix: mountainsort\n",
      "file prefix: 1.videoTimeStamps.cameraHWSync\n",
      "directory prefix: .\n"
     ]
    },
    {
     "name": "stderr",
     "output_type": "stream",
     "text": [
      "/nancy/projects/reward_competition_ephys_analysis_with_omission_and_divider_controls/results/2023_05_17_sleap_analysis/../../src/trodes/read_exported.py:138: UserWarning: Can not process /nancy/projects/reward_competition_ephys_analysis_with_omission_and_divider_controls/data/good/20221215_145401_comp_amd_om_6_1_and_6_3.rec/20221215_145401_comp_amd_om_6_1_top_4_base_3.timestampoffset/20221215_145401_comp_amd_om_6_1_top_4_base_3.timestampoffset.txt\n",
      "  warnings.warn(\"Can not process {}\".format(absolute_file_path))\n",
      "/nancy/projects/reward_competition_ephys_analysis_with_omission_and_divider_controls/results/2023_05_17_sleap_analysis/../../src/trodes/read_exported.py:138: UserWarning: Can not process /nancy/projects/reward_competition_ephys_analysis_with_omission_and_divider_controls/data/good/20221215_145401_comp_amd_om_6_1_and_6_3.rec/20221215_145401_comp_amd_om_6_1_top_4_base_3.mountainsort/20221215_145401_comp_amd_om_6_1_top_4_base_3.group0.mda\n",
      "  warnings.warn(\"Can not process {}\".format(absolute_file_path))\n",
      "/nancy/projects/reward_competition_ephys_analysis_with_omission_and_divider_controls/results/2023_05_17_sleap_analysis/../../src/trodes/read_exported.py:138: UserWarning: Can not process /nancy/projects/reward_competition_ephys_analysis_with_omission_and_divider_controls/data/good/20221215_145401_comp_amd_om_6_1_and_6_3.rec/20221215_145401_comp_amd_om_6_1_top_4_base_3.mountainsort/20221215_145401_comp_amd_om_6_1_top_4_base_3.timestamps.mda\n",
      "  warnings.warn(\"Can not process {}\".format(absolute_file_path))\n"
     ]
    },
    {
     "name": "stdout",
     "output_type": "stream",
     "text": [
      "file prefix: timestamps.dat\n",
      "directory prefix: stimulation\n",
      "file prefix: 1.videoTimeStamps.cameraHWSync\n",
      "directory prefix: .\n",
      "file prefix: 1.videoTimeStamps.cameraHWSync\n",
      "directory prefix: .\n",
      "file prefix: 1.videoTimeStamps.cameraHWSync\n",
      "directory prefix: .\n",
      "file prefix: 1.videoTimeStamps.cameraHWSync\n",
      "directory prefix: .\n",
      "file prefix: group0.coordinates.dat\n",
      "directory prefix: kilosort\n",
      "file prefix: timestamps.dat\n",
      "directory prefix: kilosort\n",
      "file prefix: 1.videoTimeStamps.cameraHWSync\n",
      "directory prefix: .\n",
      "file prefix: 1.videoTimeStamps.cameraHWSync\n",
      "directory prefix: .\n"
     ]
    },
    {
     "name": "stderr",
     "output_type": "stream",
     "text": [
      "/nancy/projects/reward_competition_ephys_analysis_with_omission_and_divider_controls/results/2023_05_17_sleap_analysis/../../src/trodes/read_exported.py:138: UserWarning: Can not process /nancy/projects/reward_competition_ephys_analysis_with_omission_and_divider_controls/data/good/20221215_145401_comp_amd_om_6_1_and_6_3.rec/20221215_145401_comp_amd_om_6_1_top_4_base_3.kilosort/20221215_145401_comp_amd_om_6_1_top_4_base_3.group0.dat\n",
      "  warnings.warn(\"Can not process {}\".format(absolute_file_path))\n"
     ]
    },
    {
     "name": "stdout",
     "output_type": "stream",
     "text": [
      "file prefix: spikes_nt22.dat\n",
      "directory prefix: spikes\n",
      "file prefix: spikes_nt16.dat\n",
      "directory prefix: spikes\n",
      "file prefix: spikes_nt27.dat\n",
      "directory prefix: spikes\n",
      "file prefix: spikes_nt5.dat\n",
      "directory prefix: spikes\n",
      "file prefix: spikes_nt3.dat\n",
      "directory prefix: spikes\n",
      "file prefix: spikes_nt11.dat\n",
      "directory prefix: spikes\n",
      "file prefix: spikes_nt7.dat\n",
      "directory prefix: spikes\n",
      "file prefix: spikes_nt12.dat\n",
      "directory prefix: spikes\n",
      "file prefix: spikes_nt8.dat\n",
      "directory prefix: spikes\n",
      "file prefix: spikes_nt29.dat\n",
      "directory prefix: spikes\n",
      "file prefix: spikes_nt25.dat\n",
      "directory prefix: spikes\n",
      "file prefix: spikes_nt10.dat\n",
      "directory prefix: spikes\n",
      "file prefix: spikes_nt1.dat\n",
      "directory prefix: spikes\n",
      "file prefix: spikes_nt9.dat\n",
      "directory prefix: spikes\n",
      "file prefix: spikes_nt20.dat\n",
      "directory prefix: spikes\n",
      "file prefix: spikes_nt14.dat\n",
      "directory prefix: spikes\n",
      "file prefix: spikes_nt24.dat\n",
      "directory prefix: spikes\n",
      "file prefix: spikes_nt2.dat\n",
      "directory prefix: spikes\n",
      "file prefix: spikes_nt23.dat\n",
      "directory prefix: spikes\n",
      "file prefix: spikes_nt30.dat\n",
      "directory prefix: spikes\n",
      "file prefix: spikes_nt19.dat\n",
      "directory prefix: spikes\n",
      "file prefix: spikes_nt31.dat\n",
      "directory prefix: spikes\n",
      "file prefix: spikes_nt18.dat\n",
      "directory prefix: spikes\n",
      "file prefix: spikes_nt13.dat\n",
      "directory prefix: spikes\n",
      "file prefix: spikes_nt17.dat\n",
      "directory prefix: spikes\n",
      "file prefix: spikes_nt26.dat\n",
      "directory prefix: spikes\n",
      "file prefix: spikes_nt21.dat\n",
      "directory prefix: spikes\n",
      "file prefix: spikes_nt15.dat\n",
      "directory prefix: spikes\n",
      "file prefix: spikes_nt32.dat\n",
      "directory prefix: spikes\n",
      "file prefix: spikes_nt6.dat\n",
      "directory prefix: spikes\n",
      "file prefix: spikes_nt28.dat\n",
      "directory prefix: spikes\n",
      "file prefix: spikes_nt4.dat\n",
      "directory prefix: spikes\n"
     ]
    },
    {
     "name": "stderr",
     "output_type": "stream",
     "text": [
      "/nancy/projects/reward_competition_ephys_analysis_with_omission_and_divider_controls/results/2023_05_17_sleap_analysis/../../src/trodes/read_exported.py:70: FutureWarning: Passing (type, 1) or '1type' as a synonym of type is deprecated; in a future version of numpy, it will be understood as (type, (1,)) / '(1,)type'.\n",
      "  return np.dtype(typearr)\n",
      "/nancy/projects/reward_competition_ephys_analysis_with_omission_and_divider_controls/results/2023_05_17_sleap_analysis/../../src/trodes/read_exported.py:138: UserWarning: Can not process /nancy/projects/reward_competition_ephys_analysis_with_omission_and_divider_controls/data/good/20221122_161341_omission_subject_6_1_and_6_3.rec/20221122_161341_omission_subject_6_1_top_4_base_2.rec\n",
      "  warnings.warn(\"Can not process {}\".format(absolute_file_path))\n",
      "/nancy/projects/reward_competition_ephys_analysis_with_omission_and_divider_controls/results/2023_05_17_sleap_analysis/../../src/trodes/read_exported.py:138: UserWarning: Can not process /nancy/projects/reward_competition_ephys_analysis_with_omission_and_divider_controls/data/good/20221122_161341_omission_subject_6_1_and_6_3.rec/20221122_161341_omission_subject_6_1_and_6_3.1.videoTimeStamps\n",
      "  warnings.warn(\"Can not process {}\".format(absolute_file_path))\n",
      "/nancy/projects/reward_competition_ephys_analysis_with_omission_and_divider_controls/results/2023_05_17_sleap_analysis/../../src/trodes/read_exported.py:138: UserWarning: Can not process /nancy/projects/reward_competition_ephys_analysis_with_omission_and_divider_controls/data/good/20221122_161341_omission_subject_6_1_and_6_3.rec/20221122_161341_omission_subject_6_1_and_6_3.1.h264\n",
      "  warnings.warn(\"Can not process {}\".format(absolute_file_path))\n",
      "/nancy/projects/reward_competition_ephys_analysis_with_omission_and_divider_controls/results/2023_05_17_sleap_analysis/../../src/trodes/read_exported.py:138: UserWarning: Can not process /nancy/projects/reward_competition_ephys_analysis_with_omission_and_divider_controls/data/good/20221122_161341_omission_subject_6_1_and_6_3.rec/20221122_161341_omission_subject_6_1_top_4_base_2.trodesconf\n",
      "  warnings.warn(\"Can not process {}\".format(absolute_file_path))\n",
      "/nancy/projects/reward_competition_ephys_analysis_with_omission_and_divider_controls/results/2023_05_17_sleap_analysis/../../src/trodes/read_exported.py:138: UserWarning: Can not process /nancy/projects/reward_competition_ephys_analysis_with_omission_and_divider_controls/data/good/20221122_161341_omission_subject_6_1_and_6_3.rec/logger_raw.dat\n",
      "  warnings.warn(\"Can not process {}\".format(absolute_file_path))\n",
      "/nancy/projects/reward_competition_ephys_analysis_with_omission_and_divider_controls/results/2023_05_17_sleap_analysis/../../src/trodes/read_exported.py:138: UserWarning: Can not process /nancy/projects/reward_competition_ephys_analysis_with_omission_and_divider_controls/data/good/20221122_161341_omission_subject_6_1_and_6_3.rec/20221122_161341_omission_subject_6_1_and_6_3.rec\n",
      "  warnings.warn(\"Can not process {}\".format(absolute_file_path))\n",
      "/nancy/projects/reward_competition_ephys_analysis_with_omission_and_divider_controls/results/2023_05_17_sleap_analysis/../../src/trodes/read_exported.py:138: UserWarning: Can not process /nancy/projects/reward_competition_ephys_analysis_with_omission_and_divider_controls/data/good/20221122_161341_omission_subject_6_1_and_6_3.rec/20221122_161341_omission_subject_6_1_and_6_3.1.fixed.mp4\n",
      "  warnings.warn(\"Can not process {}\".format(absolute_file_path))\n",
      "/nancy/projects/reward_competition_ephys_analysis_with_omission_and_divider_controls/results/2023_05_17_sleap_analysis/../../src/trodes/read_exported.py:138: UserWarning: Can not process /nancy/projects/reward_competition_ephys_analysis_with_omission_and_divider_controls/data/good/20221122_161341_omission_subject_6_1_and_6_3.rec/20221122_161341_omission_subject_6_1_and_6_3.1.original.mp4\n",
      "  warnings.warn(\"Can not process {}\".format(absolute_file_path))\n",
      "/nancy/projects/reward_competition_ephys_analysis_with_omission_and_divider_controls/results/2023_05_17_sleap_analysis/../../src/trodes/read_exported.py:138: UserWarning: Can not process /nancy/projects/reward_competition_ephys_analysis_with_omission_and_divider_controls/data/good/20221122_161341_omission_subject_6_1_and_6_3.rec/20221122_161341_omission_subject_6_1_and_6_3.1.trackgeometry\n",
      "  warnings.warn(\"Can not process {}\".format(absolute_file_path))\n"
     ]
    },
    {
     "name": "stdout",
     "output_type": "stream",
     "text": [
      "file prefix: 1.videoTimeStamps.cameraHWSync\n",
      "directory prefix: .\n",
      "file prefix: 1.videoTimeStamps.cameraHWSync\n",
      "directory prefix: .\n",
      "file prefix: 1.videoTimeStamps.cameraHWSync\n",
      "directory prefix: .\n",
      "file prefix: 1.videoTimeStamps.cameraHWSync\n",
      "directory prefix: .\n",
      "file prefix: 1.videoTimeStamps.cameraHWSync\n",
      "directory prefix: .\n",
      "file prefix: spikeband_nt13ch1.dat\n",
      "directory prefix: spikeband\n",
      "file prefix: spikeband_nt8ch1.dat\n",
      "directory prefix: spikeband\n",
      "file prefix: spikeband_nt29ch1.dat\n",
      "directory prefix: spikeband\n",
      "file prefix: spikeband_nt12ch1.dat\n",
      "directory prefix: spikeband\n",
      "file prefix: spikeband_nt14ch1.dat\n",
      "directory prefix: spikeband\n",
      "file prefix: spikeband_nt25ch1.dat\n",
      "directory prefix: spikeband\n",
      "file prefix: spikeband_nt16ch1.dat\n",
      "directory prefix: spikeband\n",
      "file prefix: spikeband_nt1ch1.dat\n",
      "directory prefix: spikeband\n",
      "file prefix: spikeband_nt26ch1.dat\n",
      "directory prefix: spikeband\n",
      "file prefix: spikeband_nt11ch1.dat\n",
      "directory prefix: spikeband\n",
      "file prefix: spikeband_nt7ch1.dat\n",
      "directory prefix: spikeband\n",
      "file prefix: spikeband_nt18ch1.dat\n",
      "directory prefix: spikeband\n",
      "file prefix: spikeband_nt31ch1.dat\n",
      "directory prefix: spikeband\n",
      "file prefix: spikeband_nt4ch1.dat\n",
      "directory prefix: spikeband\n",
      "file prefix: spikeband_nt22ch1.dat\n",
      "directory prefix: spikeband\n",
      "file prefix: spikeband_nt15ch1.dat\n",
      "directory prefix: spikeband\n",
      "file prefix: spikeband_nt6ch1.dat\n",
      "directory prefix: spikeband\n",
      "file prefix: spikeband_nt30ch1.dat\n",
      "directory prefix: spikeband\n",
      "file prefix: spikeband_nt3ch1.dat\n",
      "directory prefix: spikeband\n",
      "file prefix: spikeband_nt32ch1.dat\n",
      "directory prefix: spikeband\n",
      "file prefix: spikeband_nt9ch1.dat\n",
      "directory prefix: spikeband\n",
      "file prefix: spikeband_nt17ch1.dat\n",
      "directory prefix: spikeband\n",
      "file prefix: spikeband_nt23ch1.dat\n",
      "directory prefix: spikeband\n",
      "file prefix: spikeband_nt10ch1.dat\n",
      "directory prefix: spikeband\n",
      "file prefix: timestamps.dat\n",
      "directory prefix: spikeband\n",
      "file prefix: spikeband_nt28ch1.dat\n",
      "directory prefix: spikeband\n",
      "file prefix: spikeband_nt27ch1.dat\n",
      "directory prefix: spikeband\n",
      "file prefix: spikeband_nt19ch1.dat\n",
      "directory prefix: spikeband\n",
      "file prefix: spikeband_nt20ch1.dat\n",
      "directory prefix: spikeband\n",
      "file prefix: spikeband_nt24ch1.dat\n",
      "directory prefix: spikeband\n",
      "file prefix: spikeband_nt21ch1.dat\n",
      "directory prefix: spikeband\n",
      "file prefix: spikeband_nt5ch1.dat\n",
      "directory prefix: spikeband\n",
      "file prefix: spikeband_nt2ch1.dat\n",
      "directory prefix: spikeband\n",
      "file prefix: 1.videoTimeStamps.cameraHWSync\n",
      "directory prefix: .\n",
      "file prefix: group0.coordinates.dat\n",
      "directory prefix: raw\n",
      "file prefix: raw_group0.dat\n",
      "directory prefix: raw\n",
      "file prefix: timestamps.dat\n",
      "directory prefix: raw\n",
      "file prefix: spikes_nt19.dat\n",
      "directory prefix: spikes\n",
      "file prefix: spikes_nt10.dat\n",
      "directory prefix: spikes\n",
      "file prefix: spikes_nt15.dat\n",
      "directory prefix: spikes\n",
      "file prefix: spikes_nt32.dat\n",
      "directory prefix: spikes\n",
      "file prefix: spikes_nt14.dat\n",
      "directory prefix: spikes\n",
      "file prefix: spikes_nt24.dat\n",
      "directory prefix: spikes\n",
      "file prefix: spikes_nt17.dat\n",
      "directory prefix: spikes\n",
      "file prefix: spikes_nt18.dat\n",
      "directory prefix: spikes\n",
      "file prefix: spikes_nt2.dat\n",
      "directory prefix: spikes\n",
      "file prefix: spikes_nt6.dat\n",
      "directory prefix: spikes\n",
      "file prefix: spikes_nt31.dat\n",
      "directory prefix: spikes\n",
      "file prefix: spikes_nt13.dat\n",
      "directory prefix: spikes\n",
      "file prefix: spikes_nt7.dat\n",
      "directory prefix: spikes\n",
      "file prefix: spikes_nt27.dat\n",
      "directory prefix: spikes\n",
      "file prefix: spikes_nt4.dat\n",
      "directory prefix: spikes\n",
      "file prefix: spikes_nt5.dat\n",
      "directory prefix: spikes\n",
      "file prefix: spikes_nt3.dat\n",
      "directory prefix: spikes\n",
      "file prefix: spikes_nt29.dat\n",
      "directory prefix: spikes\n",
      "file prefix: spikes_nt8.dat\n",
      "directory prefix: spikes\n",
      "file prefix: spikes_nt30.dat\n",
      "directory prefix: spikes\n",
      "file prefix: spikes_nt1.dat\n",
      "directory prefix: spikes\n",
      "file prefix: spikes_nt21.dat\n",
      "directory prefix: spikes\n",
      "file prefix: spikes_nt9.dat\n",
      "directory prefix: spikes\n",
      "file prefix: spikes_nt23.dat\n",
      "directory prefix: spikes\n",
      "file prefix: spikes_nt22.dat\n",
      "directory prefix: spikes\n",
      "file prefix: spikes_nt11.dat\n",
      "directory prefix: spikes\n",
      "file prefix: spikes_nt16.dat\n",
      "directory prefix: spikes\n",
      "file prefix: spikes_nt28.dat\n",
      "directory prefix: spikes\n",
      "file prefix: spikes_nt25.dat\n",
      "directory prefix: spikes\n",
      "file prefix: spikes_nt26.dat\n",
      "directory prefix: spikes\n",
      "file prefix: spikes_nt20.dat\n",
      "directory prefix: spikes\n",
      "file prefix: spikes_nt12.dat\n",
      "directory prefix: spikes\n",
      "file prefix: analog_Controller_Ain1.dat\n",
      "directory prefix: analog\n",
      "file prefix: analog_ECU_Aout1.dat\n",
      "directory prefix: analog\n",
      "file prefix: analog_ECU_Aout4.dat\n",
      "directory prefix: analog\n",
      "file prefix: analog_ECU_Ain2.dat\n",
      "directory prefix: analog\n",
      "file prefix: analog_ECU_Ain5.dat\n",
      "directory prefix: analog\n",
      "file prefix: analog_Headstage_GyroZ.dat\n",
      "directory prefix: analog\n",
      "file prefix: analog_ECU_Ain7.dat\n",
      "directory prefix: analog\n",
      "file prefix: analog_ECU_Ain8.dat\n",
      "directory prefix: analog\n",
      "file prefix: analog_ECU_Ain1.dat\n",
      "directory prefix: analog\n",
      "file prefix: analog_ECU_Aout2.dat\n",
      "directory prefix: analog\n",
      "file prefix: analog_Headstage_AccelX.dat\n",
      "directory prefix: analog\n",
      "file prefix: analog_Headstage_GyroX.dat\n",
      "directory prefix: analog\n",
      "file prefix: analog_Headstage_MagZ.dat\n",
      "directory prefix: analog\n",
      "file prefix: analog_ECU_Ain6.dat\n",
      "directory prefix: analog\n",
      "file prefix: analog_ECU_Ain4.dat\n",
      "directory prefix: analog\n",
      "file prefix: analog_ECU_Ain3.dat\n",
      "directory prefix: analog\n",
      "file prefix: analog_Headstage_AccelY.dat\n",
      "directory prefix: analog\n",
      "file prefix: timestamps.dat\n",
      "directory prefix: analog\n",
      "file prefix: analog_Headstage_GyroY.dat\n",
      "directory prefix: analog\n",
      "file prefix: analog_Headstage_MagY.dat\n",
      "directory prefix: analog\n",
      "file prefix: analog_ECU_Aout3.dat\n",
      "directory prefix: analog\n",
      "file prefix: analog_Headstage_AccelZ.dat\n",
      "directory prefix: analog\n",
      "file prefix: analog_Headstage_MagX.dat\n",
      "directory prefix: analog\n",
      "file prefix: 1.videoTimeStamps.cameraHWSync\n",
      "directory prefix: .\n",
      "file prefix: group0.coordinates.dat\n",
      "directory prefix: mountainsort\n",
      "file prefix: dio_ECU_Dout24.dat\n",
      "directory prefix: DIO\n",
      "file prefix: dio_ECU_Dout26.dat\n",
      "directory prefix: DIO\n",
      "file prefix: dio_ECU_Din4.dat\n",
      "directory prefix: DIO\n",
      "file prefix: dio_ECU_Dout6.dat\n",
      "directory prefix: DIO\n",
      "file prefix: dio_ECU_Din3.dat\n",
      "directory prefix: DIO\n",
      "file prefix: dio_ECU_Din2.dat\n",
      "directory prefix: DIO\n",
      "file prefix: dio_ECU_Dout16.dat\n",
      "directory prefix: DIO\n",
      "file prefix: dio_ECU_Dout3.dat\n",
      "directory prefix: DIO\n",
      "file prefix: dio_ECU_Din14.dat\n",
      "directory prefix: DIO\n",
      "file prefix: dio_ECU_Dout31.dat\n",
      "directory prefix: DIO\n",
      "file prefix: dio_ECU_Din23.dat\n",
      "directory prefix: DIO\n",
      "file prefix: dio_ECU_Din12.dat\n",
      "directory prefix: DIO\n",
      "file prefix: dio_ECU_Dout17.dat\n",
      "directory prefix: DIO\n",
      "file prefix: dio_ECU_Dout15.dat\n",
      "directory prefix: DIO\n",
      "file prefix: dio_ECU_Din6.dat\n",
      "directory prefix: DIO\n",
      "file prefix: dio_ECU_Dout1.dat\n",
      "directory prefix: DIO\n",
      "file prefix: dio_Controller_Din7.dat\n",
      "directory prefix: DIO\n",
      "file prefix: dio_ECU_Din8.dat\n",
      "directory prefix: DIO\n",
      "file prefix: dio_ECU_Dout5.dat\n",
      "directory prefix: DIO\n",
      "file prefix: dio_ECU_Dout8.dat\n",
      "directory prefix: DIO\n",
      "file prefix: dio_ECU_Din27.dat\n",
      "directory prefix: DIO\n",
      "file prefix: dio_Controller_Din3.dat\n",
      "directory prefix: DIO\n",
      "file prefix: dio_ECU_Dout19.dat\n",
      "directory prefix: DIO\n",
      "file prefix: dio_ECU_Dout20.dat\n",
      "directory prefix: DIO\n",
      "file prefix: dio_ECU_Dout29.dat\n",
      "directory prefix: DIO\n",
      "file prefix: dio_ECU_Dout22.dat\n",
      "directory prefix: DIO\n",
      "file prefix: dio_ECU_Din22.dat\n",
      "directory prefix: DIO\n",
      "file prefix: dio_ECU_Din24.dat\n",
      "directory prefix: DIO\n",
      "file prefix: dio_ECU_Din20.dat\n",
      "directory prefix: DIO\n",
      "file prefix: dio_ECU_Din30.dat\n",
      "directory prefix: DIO\n",
      "file prefix: dio_ECU_Din10.dat\n",
      "directory prefix: DIO\n",
      "file prefix: dio_ECU_Dout12.dat\n",
      "directory prefix: DIO\n",
      "file prefix: dio_Controller_Din5.dat\n",
      "directory prefix: DIO\n",
      "file prefix: dio_ECU_Din19.dat\n",
      "directory prefix: DIO\n",
      "file prefix: dio_ECU_Din25.dat\n",
      "directory prefix: DIO\n",
      "file prefix: dio_ECU_Dout28.dat\n",
      "directory prefix: DIO\n",
      "file prefix: dio_Controller_Din4.dat\n",
      "directory prefix: DIO\n",
      "file prefix: dio_ECU_Dout21.dat\n",
      "directory prefix: DIO\n",
      "file prefix: dio_ECU_Dout30.dat\n",
      "directory prefix: DIO\n",
      "file prefix: dio_ECU_Din26.dat\n",
      "directory prefix: DIO\n",
      "file prefix: dio_ECU_Din5.dat\n",
      "directory prefix: DIO\n",
      "file prefix: dio_ECU_Dout32.dat\n",
      "directory prefix: DIO\n",
      "file prefix: dio_Controller_Din6.dat\n",
      "directory prefix: DIO\n",
      "file prefix: dio_Controller_Din8.dat\n",
      "directory prefix: DIO\n",
      "file prefix: dio_ECU_Din7.dat\n",
      "directory prefix: DIO\n",
      "file prefix: dio_ECU_Din29.dat\n",
      "directory prefix: DIO\n",
      "file prefix: dio_ECU_Dout14.dat\n",
      "directory prefix: DIO\n",
      "file prefix: dio_ECU_Din28.dat\n",
      "directory prefix: DIO\n",
      "file prefix: dio_ECU_Dout2.dat\n",
      "directory prefix: DIO\n",
      "file prefix: dio_ECU_Din16.dat\n",
      "directory prefix: DIO\n",
      "file prefix: dio_ECU_Dout10.dat\n",
      "directory prefix: DIO\n",
      "file prefix: dio_ECU_Dout7.dat\n",
      "directory prefix: DIO\n",
      "file prefix: dio_ECU_Dout18.dat\n",
      "directory prefix: DIO\n",
      "file prefix: dio_ECU_Dout9.dat\n",
      "directory prefix: DIO\n",
      "file prefix: dio_ECU_Dout23.dat\n",
      "directory prefix: DIO\n",
      "file prefix: dio_ECU_Din31.dat\n",
      "directory prefix: DIO\n",
      "file prefix: dio_ECU_Din17.dat\n",
      "directory prefix: DIO\n",
      "file prefix: dio_ECU_Din9.dat\n",
      "directory prefix: DIO\n",
      "file prefix: dio_ECU_Din18.dat\n",
      "directory prefix: DIO\n",
      "file prefix: dio_ECU_Din21.dat\n",
      "directory prefix: DIO\n",
      "file prefix: dio_ECU_Dout13.dat\n",
      "directory prefix: DIO\n",
      "file prefix: dio_ECU_Din11.dat\n",
      "directory prefix: DIO\n",
      "file prefix: dio_ECU_Dout25.dat\n",
      "directory prefix: DIO\n",
      "file prefix: dio_ECU_Dout11.dat\n",
      "directory prefix: DIO\n",
      "file prefix: dio_ECU_Din13.dat\n",
      "directory prefix: DIO\n",
      "file prefix: dio_ECU_Din15.dat\n",
      "directory prefix: DIO\n",
      "file prefix: dio_ECU_Din1.dat\n",
      "directory prefix: DIO\n",
      "file prefix: dio_Controller_Din2.dat\n",
      "directory prefix: DIO\n",
      "file prefix: dio_Controller_Din1.dat\n",
      "directory prefix: DIO\n",
      "file prefix: dio_ECU_Dout27.dat\n",
      "directory prefix: DIO\n",
      "file prefix: dio_ECU_Dout4.dat\n",
      "directory prefix: DIO\n",
      "file prefix: dio_ECU_Din32.dat\n",
      "directory prefix: DIO\n",
      "file prefix: 1.videoTimeStamps.cameraHWSync\n",
      "directory prefix: .\n"
     ]
    },
    {
     "name": "stderr",
     "output_type": "stream",
     "text": [
      "/nancy/projects/reward_competition_ephys_analysis_with_omission_and_divider_controls/results/2023_05_17_sleap_analysis/../../src/trodes/read_exported.py:138: UserWarning: Can not process /nancy/projects/reward_competition_ephys_analysis_with_omission_and_divider_controls/data/good/20221122_161341_omission_subject_6_1_and_6_3.rec/20221122_161341_omission_subject_6_1_top_4_base_2.mountainsort/20221122_161341_omission_subject_6_1_top_4_base_2.group0.mda\n",
      "  warnings.warn(\"Can not process {}\".format(absolute_file_path))\n",
      "/nancy/projects/reward_competition_ephys_analysis_with_omission_and_divider_controls/results/2023_05_17_sleap_analysis/../../src/trodes/read_exported.py:138: UserWarning: Can not process /nancy/projects/reward_competition_ephys_analysis_with_omission_and_divider_controls/data/good/20221122_161341_omission_subject_6_1_and_6_3.rec/20221122_161341_omission_subject_6_1_top_4_base_2.mountainsort/20221122_161341_omission_subject_6_1_top_4_base_2.timestamps.mda\n",
      "  warnings.warn(\"Can not process {}\".format(absolute_file_path))\n",
      "/nancy/projects/reward_competition_ephys_analysis_with_omission_and_divider_controls/results/2023_05_17_sleap_analysis/../../src/trodes/read_exported.py:138: UserWarning: Can not process /nancy/projects/reward_competition_ephys_analysis_with_omission_and_divider_controls/data/good/20221122_161341_omission_subject_6_1_and_6_3.rec/20221122_161341_omission_subject_6_1_top_4_base_2.timestampoffset/20221122_161341_omission_subject_6_1_top_4_base_2.timestampoffset.txt\n",
      "  warnings.warn(\"Can not process {}\".format(absolute_file_path))\n"
     ]
    },
    {
     "name": "stdout",
     "output_type": "stream",
     "text": [
      "file prefix: timestamps.dat\n",
      "directory prefix: stimulation\n",
      "file prefix: group0.coordinates.dat\n",
      "directory prefix: kilosort\n"
     ]
    },
    {
     "name": "stderr",
     "output_type": "stream",
     "text": [
      "/nancy/projects/reward_competition_ephys_analysis_with_omission_and_divider_controls/results/2023_05_17_sleap_analysis/../../src/trodes/read_exported.py:138: UserWarning: Can not process /nancy/projects/reward_competition_ephys_analysis_with_omission_and_divider_controls/data/good/20221122_161341_omission_subject_6_1_and_6_3.rec/20221122_161341_omission_subject_6_1_top_4_base_2.kilosort/20221122_161341_omission_subject_6_1_top_4_base_2.group0.dat\n",
      "  warnings.warn(\"Can not process {}\".format(absolute_file_path))\n"
     ]
    },
    {
     "name": "stdout",
     "output_type": "stream",
     "text": [
      "file prefix: timestamps.dat\n",
      "directory prefix: kilosort\n",
      "file prefix: 1.videoTimeStamps.cameraHWSync\n",
      "directory prefix: .\n",
      "file prefix: LFP_nt5ch1.dat\n",
      "directory prefix: LFP\n",
      "file prefix: LFP_nt14ch1.dat\n",
      "directory prefix: LFP\n",
      "file prefix: LFP_nt9ch1.dat\n",
      "directory prefix: LFP\n",
      "file prefix: LFP_nt21ch1.dat\n",
      "directory prefix: LFP\n",
      "file prefix: LFP_nt4ch1.dat\n",
      "directory prefix: LFP\n",
      "file prefix: LFP_nt23ch1.dat\n",
      "directory prefix: LFP\n",
      "file prefix: LFP_nt1ch1.dat\n",
      "directory prefix: LFP\n",
      "file prefix: LFP_nt30ch1.dat\n",
      "directory prefix: LFP\n",
      "file prefix: LFP_nt17ch1.dat\n",
      "directory prefix: LFP\n",
      "file prefix: LFP_nt11ch1.dat\n",
      "directory prefix: LFP\n",
      "file prefix: LFP_nt31ch1.dat\n",
      "directory prefix: LFP\n",
      "file prefix: LFP_nt16ch1.dat\n",
      "directory prefix: LFP\n",
      "file prefix: LFP_nt27ch1.dat\n",
      "directory prefix: LFP\n",
      "file prefix: LFP_nt22ch1.dat\n",
      "directory prefix: LFP\n",
      "file prefix: LFP_nt26ch1.dat\n",
      "directory prefix: LFP\n",
      "file prefix: LFP_nt12ch1.dat\n",
      "directory prefix: LFP\n",
      "file prefix: LFP_nt3ch1.dat\n",
      "directory prefix: LFP\n",
      "file prefix: LFP_nt7ch1.dat\n",
      "directory prefix: LFP\n",
      "file prefix: LFP_nt13ch1.dat\n",
      "directory prefix: LFP\n",
      "file prefix: LFP_nt18ch1.dat\n",
      "directory prefix: LFP\n",
      "file prefix: LFP_nt25ch1.dat\n",
      "directory prefix: LFP\n",
      "file prefix: LFP_nt6ch1.dat\n",
      "directory prefix: LFP\n",
      "file prefix: LFP_nt8ch1.dat\n",
      "directory prefix: LFP\n",
      "file prefix: LFP_nt32ch1.dat\n",
      "directory prefix: LFP\n",
      "file prefix: LFP_nt19ch1.dat\n",
      "directory prefix: LFP\n",
      "file prefix: LFP_nt15ch1.dat\n",
      "directory prefix: LFP\n",
      "file prefix: LFP_nt29ch1.dat\n",
      "directory prefix: LFP\n",
      "file prefix: timestamps.dat\n",
      "directory prefix: LFP\n",
      "file prefix: LFP_nt10ch1.dat\n",
      "directory prefix: LFP\n",
      "file prefix: LFP_nt2ch1.dat\n",
      "directory prefix: LFP\n",
      "file prefix: LFP_nt28ch1.dat\n",
      "directory prefix: LFP\n",
      "file prefix: LFP_nt24ch1.dat\n",
      "directory prefix: LFP\n",
      "file prefix: LFP_nt20ch1.dat\n",
      "directory prefix: LFP\n",
      "file prefix: 1.videoTimeStamps.cameraHWSync\n",
      "directory prefix: .\n",
      "file prefix: timestamps.dat\n",
      "directory prefix: time\n"
     ]
    },
    {
     "name": "stderr",
     "output_type": "stream",
     "text": [
      "/nancy/projects/reward_competition_ephys_analysis_with_omission_and_divider_controls/results/2023_05_17_sleap_analysis/../../src/trodes/read_exported.py:138: UserWarning: Can not process /nancy/projects/reward_competition_ephys_analysis_with_omission_and_divider_controls/data/good/20221122_164720_competition_subject_6_1_and_6_3.rec/20221122_164720_competition_6_1_and_6_3.1.videoTimeStamps\n",
      "  warnings.warn(\"Can not process {}\".format(absolute_file_path))\n",
      "/nancy/projects/reward_competition_ephys_analysis_with_omission_and_divider_controls/results/2023_05_17_sleap_analysis/../../src/trodes/read_exported.py:138: UserWarning: Can not process /nancy/projects/reward_competition_ephys_analysis_with_omission_and_divider_controls/data/good/20221122_164720_competition_subject_6_1_and_6_3.rec/20221122_164720_competition_6_1_and_6_3.1.h264.original.mp4\n",
      "  warnings.warn(\"Can not process {}\".format(absolute_file_path))\n",
      "/nancy/projects/reward_competition_ephys_analysis_with_omission_and_divider_controls/results/2023_05_17_sleap_analysis/../../src/trodes/read_exported.py:138: UserWarning: Can not process /nancy/projects/reward_competition_ephys_analysis_with_omission_and_divider_controls/data/good/20221122_164720_competition_subject_6_1_and_6_3.rec/20221122_164720_competition_6_1_top_3__base_3_merged.trodesconf\n",
      "  warnings.warn(\"Can not process {}\".format(absolute_file_path))\n",
      "/nancy/projects/reward_competition_ephys_analysis_with_omission_and_divider_controls/results/2023_05_17_sleap_analysis/../../src/trodes/read_exported.py:138: UserWarning: Can not process /nancy/projects/reward_competition_ephys_analysis_with_omission_and_divider_controls/data/good/20221122_164720_competition_subject_6_1_and_6_3.rec/logger_raw.dat\n",
      "  warnings.warn(\"Can not process {}\".format(absolute_file_path))\n",
      "/nancy/projects/reward_competition_ephys_analysis_with_omission_and_divider_controls/results/2023_05_17_sleap_analysis/../../src/trodes/read_exported.py:138: UserWarning: Can not process /nancy/projects/reward_competition_ephys_analysis_with_omission_and_divider_controls/data/good/20221122_164720_competition_subject_6_1_and_6_3.rec/20221122_164720_competition_6_1_and_6_3.1.h264\n",
      "  warnings.warn(\"Can not process {}\".format(absolute_file_path))\n",
      "/nancy/projects/reward_competition_ephys_analysis_with_omission_and_divider_controls/results/2023_05_17_sleap_analysis/../../src/trodes/read_exported.py:138: UserWarning: Can not process /nancy/projects/reward_competition_ephys_analysis_with_omission_and_divider_controls/data/good/20221122_164720_competition_subject_6_1_and_6_3.rec/20221122_164720_competition_6_1_top_3__base_3_merged.rec\n",
      "  warnings.warn(\"Can not process {}\".format(absolute_file_path))\n",
      "/nancy/projects/reward_competition_ephys_analysis_with_omission_and_divider_controls/results/2023_05_17_sleap_analysis/../../src/trodes/read_exported.py:138: UserWarning: Can not process /nancy/projects/reward_competition_ephys_analysis_with_omission_and_divider_controls/data/good/20221122_164720_competition_subject_6_1_and_6_3.rec/20221122_164720_competition_6_1_and_6_3.rec\n",
      "  warnings.warn(\"Can not process {}\".format(absolute_file_path))\n",
      "/nancy/projects/reward_competition_ephys_analysis_with_omission_and_divider_controls/results/2023_05_17_sleap_analysis/../../src/trodes/read_exported.py:138: UserWarning: Can not process /nancy/projects/reward_competition_ephys_analysis_with_omission_and_divider_controls/data/good/20221122_164720_competition_subject_6_1_and_6_3.rec/20221122_164720_competition_6_1_and_6_3.1.original.mp4\n",
      "  warnings.warn(\"Can not process {}\".format(absolute_file_path))\n",
      "/nancy/projects/reward_competition_ephys_analysis_with_omission_and_divider_controls/results/2023_05_17_sleap_analysis/../../src/trodes/read_exported.py:138: UserWarning: Can not process /nancy/projects/reward_competition_ephys_analysis_with_omission_and_divider_controls/data/good/20221122_164720_competition_subject_6_1_and_6_3.rec/20221122_164720_competition_6_1_and_6_3.1.fixed.mp4\n",
      "  warnings.warn(\"Can not process {}\".format(absolute_file_path))\n",
      "/nancy/projects/reward_competition_ephys_analysis_with_omission_and_divider_controls/results/2023_05_17_sleap_analysis/../../src/trodes/read_exported.py:138: UserWarning: Can not process /nancy/projects/reward_competition_ephys_analysis_with_omission_and_divider_controls/data/good/20221122_164720_competition_subject_6_1_and_6_3.rec/20221122_164720_competition_6_1_and_6_3.1.trackgeometry\n",
      "  warnings.warn(\"Can not process {}\".format(absolute_file_path))\n",
      "/nancy/projects/reward_competition_ephys_analysis_with_omission_and_divider_controls/results/2023_05_17_sleap_analysis/../../src/trodes/read_exported.py:70: FutureWarning: Passing (type, 1) or '1type' as a synonym of type is deprecated; in a future version of numpy, it will be understood as (type, (1,)) / '(1,)type'.\n",
      "  return np.dtype(typearr)\n"
     ]
    },
    {
     "name": "stdout",
     "output_type": "stream",
     "text": [
      "file prefix: 1.videoTimeStamps.cameraHWSync\n",
      "directory prefix: .\n",
      "file prefix: group0.coordinates.dat\n",
      "directory prefix: kilosort\n",
      "file prefix: timestamps.dat\n",
      "directory prefix: kilosort\n"
     ]
    },
    {
     "name": "stderr",
     "output_type": "stream",
     "text": [
      "/nancy/projects/reward_competition_ephys_analysis_with_omission_and_divider_controls/results/2023_05_17_sleap_analysis/../../src/trodes/read_exported.py:138: UserWarning: Can not process /nancy/projects/reward_competition_ephys_analysis_with_omission_and_divider_controls/data/good/20221122_164720_competition_subject_6_1_and_6_3.rec/20221122_164720_competition_6_1_top_3__base_3_merged.kilosort/20221122_164720_competition_6_1_top_3__base_3_merged.group0.dat\n",
      "  warnings.warn(\"Can not process {}\".format(absolute_file_path))\n"
     ]
    },
    {
     "name": "stdout",
     "output_type": "stream",
     "text": [
      "file prefix: spikeband_nt15ch1.dat\n",
      "directory prefix: spikeband\n",
      "file prefix: spikeband_nt23ch1.dat\n",
      "directory prefix: spikeband\n",
      "file prefix: spikeband_nt18ch1.dat\n",
      "directory prefix: spikeband\n",
      "file prefix: timestamps.dat\n",
      "directory prefix: spikeband\n",
      "file prefix: spikeband_nt32ch1.dat\n",
      "directory prefix: spikeband\n",
      "file prefix: spikeband_nt5ch1.dat\n",
      "directory prefix: spikeband\n",
      "file prefix: spikeband_nt17ch1.dat\n",
      "directory prefix: spikeband\n",
      "file prefix: spikeband_nt8ch1.dat\n",
      "directory prefix: spikeband\n",
      "file prefix: spikeband_nt4ch1.dat\n",
      "directory prefix: spikeband\n",
      "file prefix: spikeband_nt11ch1.dat\n",
      "directory prefix: spikeband\n",
      "file prefix: spikeband_nt2ch1.dat\n",
      "directory prefix: spikeband\n",
      "file prefix: spikeband_nt10ch1.dat\n",
      "directory prefix: spikeband\n",
      "file prefix: spikeband_nt31ch1.dat\n",
      "directory prefix: spikeband\n",
      "file prefix: spikeband_nt19ch1.dat\n",
      "directory prefix: spikeband\n",
      "file prefix: spikeband_nt30ch1.dat\n",
      "directory prefix: spikeband\n",
      "file prefix: spikeband_nt26ch1.dat\n",
      "directory prefix: spikeband\n",
      "file prefix: spikeband_nt20ch1.dat\n",
      "directory prefix: spikeband\n",
      "file prefix: spikeband_nt14ch1.dat\n",
      "directory prefix: spikeband\n",
      "file prefix: spikeband_nt9ch1.dat\n",
      "directory prefix: spikeband\n",
      "file prefix: spikeband_nt29ch1.dat\n",
      "directory prefix: spikeband\n",
      "file prefix: spikeband_nt3ch1.dat\n",
      "directory prefix: spikeband\n",
      "file prefix: spikeband_nt16ch1.dat\n",
      "directory prefix: spikeband\n",
      "file prefix: spikeband_nt22ch1.dat\n",
      "directory prefix: spikeband\n",
      "file prefix: spikeband_nt28ch1.dat\n",
      "directory prefix: spikeband\n",
      "file prefix: spikeband_nt7ch1.dat\n",
      "directory prefix: spikeband\n",
      "file prefix: spikeband_nt12ch1.dat\n",
      "directory prefix: spikeband\n",
      "file prefix: spikeband_nt6ch1.dat\n",
      "directory prefix: spikeband\n",
      "file prefix: spikeband_nt13ch1.dat\n",
      "directory prefix: spikeband\n",
      "file prefix: spikeband_nt1ch1.dat\n",
      "directory prefix: spikeband\n",
      "file prefix: spikeband_nt24ch1.dat\n",
      "directory prefix: spikeband\n",
      "file prefix: spikeband_nt27ch1.dat\n",
      "directory prefix: spikeband\n",
      "file prefix: spikeband_nt21ch1.dat\n",
      "directory prefix: spikeband\n",
      "file prefix: spikeband_nt25ch1.dat\n",
      "directory prefix: spikeband\n",
      "file prefix: 1.videoTimeStamps.cameraHWSync\n",
      "directory prefix: .\n",
      "file prefix: group0.coordinates.dat\n",
      "directory prefix: raw\n",
      "file prefix: timestamps.dat\n",
      "directory prefix: raw\n",
      "file prefix: raw_group0.dat\n",
      "directory prefix: raw\n",
      "file prefix: timestamps.dat\n",
      "directory prefix: time\n",
      "file prefix: dio_ECU_Dout25.dat\n",
      "directory prefix: DIO\n",
      "file prefix: dio_Controller_Din2.dat\n",
      "directory prefix: DIO\n",
      "file prefix: dio_ECU_Din24.dat\n",
      "directory prefix: DIO\n",
      "file prefix: dio_ECU_Dout26.dat\n",
      "directory prefix: DIO\n",
      "file prefix: dio_ECU_Dout24.dat\n",
      "directory prefix: DIO\n",
      "file prefix: dio_ECU_Dout4.dat\n",
      "directory prefix: DIO\n",
      "file prefix: dio_ECU_Dout16.dat\n",
      "directory prefix: DIO\n",
      "file prefix: dio_ECU_Din18.dat\n",
      "directory prefix: DIO\n",
      "file prefix: dio_ECU_Din15.dat\n",
      "directory prefix: DIO\n",
      "file prefix: dio_ECU_Din22.dat\n",
      "directory prefix: DIO\n",
      "file prefix: dio_ECU_Dout2.dat\n",
      "directory prefix: DIO\n",
      "file prefix: dio_ECU_Dout19.dat\n",
      "directory prefix: DIO\n",
      "file prefix: dio_ECU_Din3.dat\n",
      "directory prefix: DIO\n",
      "file prefix: dio_ECU_Dout14.dat\n",
      "directory prefix: DIO\n",
      "file prefix: dio_ECU_Din26.dat\n",
      "directory prefix: DIO\n",
      "file prefix: dio_ECU_Din28.dat\n",
      "directory prefix: DIO\n",
      "file prefix: dio_ECU_Dout20.dat\n",
      "directory prefix: DIO\n",
      "file prefix: dio_ECU_Dout18.dat\n",
      "directory prefix: DIO\n",
      "file prefix: dio_ECU_Din12.dat\n",
      "directory prefix: DIO\n",
      "file prefix: dio_ECU_Din17.dat\n",
      "directory prefix: DIO\n",
      "file prefix: dio_ECU_Din25.dat\n",
      "directory prefix: DIO\n",
      "file prefix: dio_ECU_Din19.dat\n",
      "directory prefix: DIO\n",
      "file prefix: dio_ECU_Dout23.dat\n",
      "directory prefix: DIO\n",
      "file prefix: dio_ECU_Din7.dat\n",
      "directory prefix: DIO\n",
      "file prefix: dio_ECU_Din11.dat\n",
      "directory prefix: DIO\n",
      "file prefix: dio_ECU_Dout11.dat\n",
      "directory prefix: DIO\n",
      "file prefix: dio_ECU_Dout27.dat\n",
      "directory prefix: DIO\n",
      "file prefix: dio_ECU_Din21.dat\n",
      "directory prefix: DIO\n",
      "file prefix: dio_ECU_Din16.dat\n",
      "directory prefix: DIO\n",
      "file prefix: dio_ECU_Dout22.dat\n",
      "directory prefix: DIO\n",
      "file prefix: dio_ECU_Din13.dat\n",
      "directory prefix: DIO\n",
      "file prefix: dio_ECU_Dout7.dat\n",
      "directory prefix: DIO\n",
      "file prefix: dio_Controller_Din3.dat\n",
      "directory prefix: DIO\n",
      "file prefix: dio_ECU_Dout15.dat\n",
      "directory prefix: DIO\n",
      "file prefix: dio_ECU_Dout21.dat\n",
      "directory prefix: DIO\n",
      "file prefix: dio_ECU_Din27.dat\n",
      "directory prefix: DIO\n",
      "file prefix: dio_ECU_Dout12.dat\n",
      "directory prefix: DIO\n",
      "file prefix: dio_ECU_Dout10.dat\n",
      "directory prefix: DIO\n",
      "file prefix: dio_ECU_Din5.dat\n",
      "directory prefix: DIO\n",
      "file prefix: dio_Controller_Din5.dat\n",
      "directory prefix: DIO\n",
      "file prefix: dio_ECU_Din9.dat\n",
      "directory prefix: DIO\n",
      "file prefix: dio_ECU_Dout3.dat\n",
      "directory prefix: DIO\n",
      "file prefix: dio_ECU_Dout5.dat\n",
      "directory prefix: DIO\n",
      "file prefix: dio_ECU_Din31.dat\n",
      "directory prefix: DIO\n",
      "file prefix: dio_ECU_Din8.dat\n",
      "directory prefix: DIO\n",
      "file prefix: dio_ECU_Dout9.dat\n",
      "directory prefix: DIO\n",
      "file prefix: dio_ECU_Din29.dat\n",
      "directory prefix: DIO\n",
      "file prefix: dio_Controller_Din4.dat\n",
      "directory prefix: DIO\n",
      "file prefix: dio_ECU_Din10.dat\n",
      "directory prefix: DIO\n",
      "file prefix: dio_ECU_Dout31.dat\n",
      "directory prefix: DIO\n",
      "file prefix: dio_ECU_Din23.dat\n",
      "directory prefix: DIO\n",
      "file prefix: dio_Controller_Din8.dat\n",
      "directory prefix: DIO\n",
      "file prefix: dio_ECU_Din30.dat\n",
      "directory prefix: DIO\n",
      "file prefix: dio_ECU_Din32.dat\n",
      "directory prefix: DIO\n",
      "file prefix: dio_ECU_Dout30.dat\n",
      "directory prefix: DIO\n",
      "file prefix: dio_ECU_Dout13.dat\n",
      "directory prefix: DIO\n",
      "file prefix: dio_ECU_Din6.dat\n",
      "directory prefix: DIO\n",
      "file prefix: dio_Controller_Din6.dat\n",
      "directory prefix: DIO\n",
      "file prefix: dio_ECU_Dout1.dat\n",
      "directory prefix: DIO\n",
      "file prefix: dio_ECU_Din1.dat\n",
      "directory prefix: DIO\n",
      "file prefix: dio_ECU_Din4.dat\n",
      "directory prefix: DIO\n",
      "file prefix: dio_Controller_Din1.dat\n",
      "directory prefix: DIO\n",
      "file prefix: dio_ECU_Dout28.dat\n",
      "directory prefix: DIO\n",
      "file prefix: dio_Controller_Din7.dat\n",
      "directory prefix: DIO\n",
      "file prefix: dio_ECU_Din2.dat\n",
      "directory prefix: DIO\n",
      "file prefix: dio_ECU_Din14.dat\n",
      "directory prefix: DIO\n",
      "file prefix: dio_ECU_Dout8.dat\n",
      "directory prefix: DIO\n",
      "file prefix: dio_ECU_Din20.dat\n",
      "directory prefix: DIO\n",
      "file prefix: dio_ECU_Dout32.dat\n",
      "directory prefix: DIO\n",
      "file prefix: dio_ECU_Dout6.dat\n",
      "directory prefix: DIO\n",
      "file prefix: dio_ECU_Dout29.dat\n",
      "directory prefix: DIO\n",
      "file prefix: dio_ECU_Dout17.dat\n",
      "directory prefix: DIO\n",
      "file prefix: 1.videoTimeStamps.cameraHWSync\n",
      "directory prefix: .\n",
      "file prefix: LFP_nt16ch1.dat\n",
      "directory prefix: LFP\n",
      "file prefix: LFP_nt26ch1.dat\n",
      "directory prefix: LFP\n",
      "file prefix: timestamps.dat\n",
      "directory prefix: LFP\n",
      "file prefix: LFP_nt21ch1.dat\n",
      "directory prefix: LFP\n",
      "file prefix: LFP_nt2ch1.dat\n",
      "directory prefix: LFP\n",
      "file prefix: LFP_nt5ch1.dat\n",
      "directory prefix: LFP\n",
      "file prefix: LFP_nt15ch1.dat\n",
      "directory prefix: LFP\n",
      "file prefix: LFP_nt7ch1.dat\n",
      "directory prefix: LFP\n",
      "file prefix: LFP_nt20ch1.dat\n",
      "directory prefix: LFP\n",
      "file prefix: LFP_nt1ch1.dat\n",
      "directory prefix: LFP\n",
      "file prefix: LFP_nt18ch1.dat\n",
      "directory prefix: LFP\n",
      "file prefix: LFP_nt13ch1.dat\n",
      "directory prefix: LFP\n",
      "file prefix: LFP_nt32ch1.dat\n",
      "directory prefix: LFP\n",
      "file prefix: LFP_nt10ch1.dat\n",
      "directory prefix: LFP\n",
      "file prefix: LFP_nt23ch1.dat\n",
      "directory prefix: LFP\n",
      "file prefix: LFP_nt29ch1.dat\n",
      "directory prefix: LFP\n",
      "file prefix: LFP_nt9ch1.dat\n",
      "directory prefix: LFP\n",
      "file prefix: LFP_nt30ch1.dat\n",
      "directory prefix: LFP\n",
      "file prefix: LFP_nt22ch1.dat\n",
      "directory prefix: LFP\n",
      "file prefix: LFP_nt17ch1.dat\n",
      "directory prefix: LFP\n",
      "file prefix: LFP_nt8ch1.dat\n",
      "directory prefix: LFP\n",
      "file prefix: LFP_nt12ch1.dat\n",
      "directory prefix: LFP\n",
      "file prefix: LFP_nt28ch1.dat\n",
      "directory prefix: LFP\n",
      "file prefix: LFP_nt24ch1.dat\n",
      "directory prefix: LFP\n",
      "file prefix: LFP_nt6ch1.dat\n",
      "directory prefix: LFP\n",
      "file prefix: LFP_nt25ch1.dat\n",
      "directory prefix: LFP\n",
      "file prefix: LFP_nt19ch1.dat\n",
      "directory prefix: LFP\n",
      "file prefix: LFP_nt11ch1.dat\n",
      "directory prefix: LFP\n",
      "file prefix: LFP_nt14ch1.dat\n",
      "directory prefix: LFP\n",
      "file prefix: LFP_nt31ch1.dat\n",
      "directory prefix: LFP\n",
      "file prefix: LFP_nt4ch1.dat\n",
      "directory prefix: LFP\n",
      "file prefix: LFP_nt3ch1.dat\n",
      "directory prefix: LFP\n",
      "file prefix: LFP_nt27ch1.dat\n",
      "directory prefix: LFP\n",
      "file prefix: 1.videoTimeStamps.cameraHWSync\n",
      "directory prefix: .\n",
      "file prefix: 1.videoTimeStamps.cameraHWSync\n",
      "directory prefix: .\n",
      "file prefix: spikes_nt15.dat\n",
      "directory prefix: spikes\n",
      "file prefix: spikes_nt21.dat\n",
      "directory prefix: spikes\n",
      "file prefix: spikes_nt8.dat\n",
      "directory prefix: spikes\n"
     ]
    },
    {
     "name": "stdout",
     "output_type": "stream",
     "text": [
      "file prefix: spikes_nt24.dat\n",
      "directory prefix: spikes\n",
      "file prefix: spikes_nt28.dat\n",
      "directory prefix: spikes\n",
      "file prefix: spikes_nt25.dat\n",
      "directory prefix: spikes\n",
      "file prefix: spikes_nt29.dat\n",
      "directory prefix: spikes\n",
      "file prefix: spikes_nt13.dat\n",
      "directory prefix: spikes\n",
      "file prefix: spikes_nt30.dat\n",
      "directory prefix: spikes\n",
      "file prefix: spikes_nt31.dat\n",
      "directory prefix: spikes\n",
      "file prefix: spikes_nt2.dat\n",
      "directory prefix: spikes\n",
      "file prefix: spikes_nt22.dat\n",
      "directory prefix: spikes\n",
      "file prefix: spikes_nt27.dat\n",
      "directory prefix: spikes\n",
      "file prefix: spikes_nt3.dat\n",
      "directory prefix: spikes\n",
      "file prefix: spikes_nt23.dat\n",
      "directory prefix: spikes\n",
      "file prefix: spikes_nt26.dat\n",
      "directory prefix: spikes\n",
      "file prefix: spikes_nt11.dat\n",
      "directory prefix: spikes\n",
      "file prefix: spikes_nt5.dat\n",
      "directory prefix: spikes\n",
      "file prefix: spikes_nt9.dat\n",
      "directory prefix: spikes\n",
      "file prefix: spikes_nt32.dat\n",
      "directory prefix: spikes\n",
      "file prefix: spikes_nt4.dat\n",
      "directory prefix: spikes\n",
      "file prefix: spikes_nt18.dat\n",
      "directory prefix: spikes\n",
      "file prefix: spikes_nt7.dat\n",
      "directory prefix: spikes\n",
      "file prefix: spikes_nt12.dat\n",
      "directory prefix: spikes\n",
      "file prefix: spikes_nt6.dat\n",
      "directory prefix: spikes\n",
      "file prefix: spikes_nt10.dat\n",
      "directory prefix: spikes\n",
      "file prefix: spikes_nt14.dat\n",
      "directory prefix: spikes\n",
      "file prefix: spikes_nt16.dat\n",
      "directory prefix: spikes\n",
      "file prefix: spikes_nt19.dat\n",
      "directory prefix: spikes\n",
      "file prefix: spikes_nt1.dat\n",
      "directory prefix: spikes\n",
      "file prefix: spikes_nt17.dat\n",
      "directory prefix: spikes\n",
      "file prefix: spikes_nt20.dat\n",
      "directory prefix: spikes\n",
      "file prefix: 1.videoTimeStamps.cameraHWSync\n",
      "directory prefix: .\n",
      "file prefix: 1.videoTimeStamps.cameraHWSync\n",
      "directory prefix: .\n",
      "file prefix: 1.videoTimeStamps.cameraHWSync\n",
      "directory prefix: .\n",
      "file prefix: 1.videoTimeStamps.cameraHWSync\n",
      "directory prefix: .\n",
      "file prefix: 1.videoTimeStamps.cameraHWSync\n",
      "directory prefix: .\n",
      "file prefix: group0.coordinates.dat\n",
      "directory prefix: mountainsort\n"
     ]
    },
    {
     "name": "stderr",
     "output_type": "stream",
     "text": [
      "/nancy/projects/reward_competition_ephys_analysis_with_omission_and_divider_controls/results/2023_05_17_sleap_analysis/../../src/trodes/read_exported.py:138: UserWarning: Can not process /nancy/projects/reward_competition_ephys_analysis_with_omission_and_divider_controls/data/good/20221122_164720_competition_subject_6_1_and_6_3.rec/20221122_164720_competition_6_1_top_3__base_3_merged.timestampoffset/20221122_164720_competition_6_1_top_3__base_3_merged.timestampoffset.txt\n",
      "  warnings.warn(\"Can not process {}\".format(absolute_file_path))\n",
      "/nancy/projects/reward_competition_ephys_analysis_with_omission_and_divider_controls/results/2023_05_17_sleap_analysis/../../src/trodes/read_exported.py:138: UserWarning: Can not process /nancy/projects/reward_competition_ephys_analysis_with_omission_and_divider_controls/data/good/20221122_164720_competition_subject_6_1_and_6_3.rec/20221122_164720_competition_6_1_top_3__base_3_merged.mountainsort/20221122_164720_competition_6_1_top_3__base_3_merged.timestamps.mda\n",
      "  warnings.warn(\"Can not process {}\".format(absolute_file_path))\n",
      "/nancy/projects/reward_competition_ephys_analysis_with_omission_and_divider_controls/results/2023_05_17_sleap_analysis/../../src/trodes/read_exported.py:138: UserWarning: Can not process /nancy/projects/reward_competition_ephys_analysis_with_omission_and_divider_controls/data/good/20221122_164720_competition_subject_6_1_and_6_3.rec/20221122_164720_competition_6_1_top_3__base_3_merged.mountainsort/20221122_164720_competition_6_1_top_3__base_3_merged.group0.mda\n",
      "  warnings.warn(\"Can not process {}\".format(absolute_file_path))\n"
     ]
    },
    {
     "name": "stdout",
     "output_type": "stream",
     "text": [
      "file prefix: timestamps.dat\n",
      "directory prefix: analog\n",
      "file prefix: analog_Headstage_AccelX.dat\n",
      "directory prefix: analog\n",
      "file prefix: analog_ECU_Ain8.dat\n",
      "directory prefix: analog\n",
      "file prefix: analog_ECU_Aout3.dat\n",
      "directory prefix: analog\n",
      "file prefix: analog_Headstage_GyroX.dat\n",
      "directory prefix: analog\n",
      "file prefix: analog_Headstage_GyroZ.dat\n",
      "directory prefix: analog\n",
      "file prefix: analog_ECU_Aout1.dat\n",
      "directory prefix: analog\n",
      "file prefix: analog_ECU_Ain4.dat\n",
      "directory prefix: analog\n",
      "file prefix: analog_ECU_Ain3.dat\n",
      "directory prefix: analog\n",
      "file prefix: analog_ECU_Ain5.dat\n",
      "directory prefix: analog\n",
      "file prefix: analog_Headstage_MagZ.dat\n",
      "directory prefix: analog\n",
      "file prefix: analog_ECU_Ain1.dat\n",
      "directory prefix: analog\n",
      "file prefix: analog_ECU_Ain2.dat\n",
      "directory prefix: analog\n",
      "file prefix: analog_Controller_Ain1.dat\n",
      "directory prefix: analog\n",
      "file prefix: analog_ECU_Aout2.dat\n",
      "directory prefix: analog\n",
      "file prefix: analog_Headstage_AccelY.dat\n",
      "directory prefix: analog\n",
      "file prefix: analog_ECU_Ain7.dat\n",
      "directory prefix: analog\n",
      "file prefix: analog_Headstage_GyroY.dat\n",
      "directory prefix: analog\n",
      "file prefix: analog_Headstage_AccelZ.dat\n",
      "directory prefix: analog\n",
      "file prefix: analog_Headstage_MagY.dat\n",
      "directory prefix: analog\n",
      "file prefix: analog_Headstage_MagX.dat\n",
      "directory prefix: analog\n",
      "file prefix: analog_ECU_Ain6.dat\n",
      "directory prefix: analog\n",
      "file prefix: analog_ECU_Aout4.dat\n",
      "directory prefix: analog\n",
      "file prefix: timestamps.dat\n",
      "directory prefix: stimulation\n",
      "file prefix: 1.videoTimeStamps.cameraHWSync\n",
      "directory prefix: .\n"
     ]
    },
    {
     "name": "stderr",
     "output_type": "stream",
     "text": [
      "/nancy/projects/reward_competition_ephys_analysis_with_omission_and_divider_controls/results/2023_05_17_sleap_analysis/../../src/trodes/read_exported.py:70: FutureWarning: Passing (type, 1) or '1type' as a synonym of type is deprecated; in a future version of numpy, it will be understood as (type, (1,)) / '(1,)type'.\n",
      "  return np.dtype(typearr)\n"
     ]
    },
    {
     "name": "stdout",
     "output_type": "stream",
     "text": [
      "file prefix: group0.coordinates.dat\n",
      "directory prefix: raw\n",
      "file prefix: timestamps.dat\n",
      "directory prefix: raw\n",
      "file prefix: raw_group0.dat\n",
      "directory prefix: raw\n",
      "file prefix: spikes_nt25.dat\n",
      "directory prefix: spikes\n",
      "file prefix: spikes_nt3.dat\n",
      "directory prefix: spikes\n",
      "file prefix: spikes_nt24.dat\n",
      "directory prefix: spikes\n",
      "file prefix: spikes_nt19.dat\n",
      "directory prefix: spikes\n",
      "file prefix: spikes_nt6.dat\n",
      "directory prefix: spikes\n",
      "file prefix: spikes_nt2.dat\n",
      "directory prefix: spikes\n",
      "file prefix: spikes_nt32.dat\n",
      "directory prefix: spikes\n",
      "file prefix: spikes_nt11.dat\n",
      "directory prefix: spikes\n",
      "file prefix: spikes_nt13.dat\n",
      "directory prefix: spikes\n",
      "file prefix: spikes_nt7.dat\n",
      "directory prefix: spikes\n"
     ]
    },
    {
     "name": "stderr",
     "output_type": "stream",
     "text": [
      "/nancy/projects/reward_competition_ephys_analysis_with_omission_and_divider_controls/results/2023_05_17_sleap_analysis/../../src/trodes/read_exported.py:138: UserWarning: Can not process /nancy/projects/reward_competition_ephys_analysis_with_omission_and_divider_controls/data/good/20221123_122652_competition_subject_6_1_and_6_4.rec/20221123_122652_competition_subject_6_1_top_3_base_3.rec\n",
      "  warnings.warn(\"Can not process {}\".format(absolute_file_path))\n",
      "/nancy/projects/reward_competition_ephys_analysis_with_omission_and_divider_controls/results/2023_05_17_sleap_analysis/../../src/trodes/read_exported.py:138: UserWarning: Can not process /nancy/projects/reward_competition_ephys_analysis_with_omission_and_divider_controls/data/good/20221123_122652_competition_subject_6_1_and_6_4.rec/20221123_122652_competition_subject_6_1_and_6_4.1.original.mp4\n",
      "  warnings.warn(\"Can not process {}\".format(absolute_file_path))\n",
      "/nancy/projects/reward_competition_ephys_analysis_with_omission_and_divider_controls/results/2023_05_17_sleap_analysis/../../src/trodes/read_exported.py:138: UserWarning: Can not process /nancy/projects/reward_competition_ephys_analysis_with_omission_and_divider_controls/data/good/20221123_122652_competition_subject_6_1_and_6_4.rec/logger_raw.dat\n",
      "  warnings.warn(\"Can not process {}\".format(absolute_file_path))\n",
      "/nancy/projects/reward_competition_ephys_analysis_with_omission_and_divider_controls/results/2023_05_17_sleap_analysis/../../src/trodes/read_exported.py:138: UserWarning: Can not process /nancy/projects/reward_competition_ephys_analysis_with_omission_and_divider_controls/data/good/20221123_122652_competition_subject_6_1_and_6_4.rec/20221123_122652_competition_subject_6_1_top_3_base_3.trodesconf\n",
      "  warnings.warn(\"Can not process {}\".format(absolute_file_path))\n",
      "/nancy/projects/reward_competition_ephys_analysis_with_omission_and_divider_controls/results/2023_05_17_sleap_analysis/../../src/trodes/read_exported.py:138: UserWarning: Can not process /nancy/projects/reward_competition_ephys_analysis_with_omission_and_divider_controls/data/good/20221123_122652_competition_subject_6_1_and_6_4.rec/20221123_122652_competition_subject_6_1_and_6_4.1.fixed.mp4\n",
      "  warnings.warn(\"Can not process {}\".format(absolute_file_path))\n",
      "/nancy/projects/reward_competition_ephys_analysis_with_omission_and_divider_controls/results/2023_05_17_sleap_analysis/../../src/trodes/read_exported.py:138: UserWarning: Can not process /nancy/projects/reward_competition_ephys_analysis_with_omission_and_divider_controls/data/good/20221123_122652_competition_subject_6_1_and_6_4.rec/20221123_122652_competition_subject_6_1_and_6_4.rec\n",
      "  warnings.warn(\"Can not process {}\".format(absolute_file_path))\n",
      "/nancy/projects/reward_competition_ephys_analysis_with_omission_and_divider_controls/results/2023_05_17_sleap_analysis/../../src/trodes/read_exported.py:138: UserWarning: Can not process /nancy/projects/reward_competition_ephys_analysis_with_omission_and_divider_controls/data/good/20221123_122652_competition_subject_6_1_and_6_4.rec/20221123_122652_competition_subject_6_1_and_6_4.1.h264\n",
      "  warnings.warn(\"Can not process {}\".format(absolute_file_path))\n"
     ]
    },
    {
     "name": "stdout",
     "output_type": "stream",
     "text": [
      "file prefix: spikes_nt18.dat\n",
      "directory prefix: spikes\n",
      "file prefix: spikes_nt15.dat\n",
      "directory prefix: spikes\n",
      "file prefix: spikes_nt20.dat\n",
      "directory prefix: spikes\n",
      "file prefix: spikes_nt12.dat\n",
      "directory prefix: spikes\n",
      "file prefix: spikes_nt23.dat\n",
      "directory prefix: spikes\n",
      "file prefix: spikes_nt21.dat\n",
      "directory prefix: spikes\n",
      "file prefix: spikes_nt10.dat\n",
      "directory prefix: spikes\n",
      "file prefix: spikes_nt17.dat\n",
      "directory prefix: spikes\n",
      "file prefix: spikes_nt1.dat\n",
      "directory prefix: spikes\n",
      "file prefix: spikes_nt8.dat\n",
      "directory prefix: spikes\n",
      "file prefix: spikes_nt5.dat\n",
      "directory prefix: spikes\n",
      "file prefix: spikes_nt9.dat\n",
      "directory prefix: spikes\n",
      "file prefix: spikes_nt31.dat\n",
      "directory prefix: spikes\n",
      "file prefix: spikes_nt4.dat\n",
      "directory prefix: spikes\n",
      "file prefix: spikes_nt30.dat\n",
      "directory prefix: spikes\n",
      "file prefix: spikes_nt16.dat\n",
      "directory prefix: spikes\n",
      "file prefix: spikes_nt14.dat\n",
      "directory prefix: spikes\n",
      "file prefix: spikes_nt26.dat\n",
      "directory prefix: spikes\n",
      "file prefix: spikes_nt27.dat\n",
      "directory prefix: spikes\n",
      "file prefix: spikes_nt28.dat\n",
      "directory prefix: spikes\n",
      "file prefix: spikes_nt29.dat\n",
      "directory prefix: spikes\n",
      "file prefix: spikes_nt22.dat\n",
      "directory prefix: spikes\n",
      "file prefix: timestamps.dat\n",
      "directory prefix: stimulation\n",
      "file prefix: spikeband_nt19ch1.dat\n",
      "directory prefix: spikeband\n",
      "file prefix: spikeband_nt16ch1.dat\n",
      "directory prefix: spikeband\n",
      "file prefix: spikeband_nt26ch1.dat\n",
      "directory prefix: spikeband\n",
      "file prefix: spikeband_nt10ch1.dat\n",
      "directory prefix: spikeband\n",
      "file prefix: spikeband_nt9ch1.dat\n",
      "directory prefix: spikeband\n",
      "file prefix: spikeband_nt25ch1.dat\n",
      "directory prefix: spikeband\n",
      "file prefix: spikeband_nt3ch1.dat\n",
      "directory prefix: spikeband\n",
      "file prefix: spikeband_nt31ch1.dat\n",
      "directory prefix: spikeband\n",
      "file prefix: spikeband_nt28ch1.dat\n",
      "directory prefix: spikeband\n",
      "file prefix: timestamps.dat\n",
      "directory prefix: spikeband\n",
      "file prefix: spikeband_nt23ch1.dat\n",
      "directory prefix: spikeband\n",
      "file prefix: spikeband_nt6ch1.dat\n",
      "directory prefix: spikeband\n",
      "file prefix: spikeband_nt5ch1.dat\n",
      "directory prefix: spikeband\n",
      "file prefix: spikeband_nt22ch1.dat\n",
      "directory prefix: spikeband\n",
      "file prefix: spikeband_nt2ch1.dat\n",
      "directory prefix: spikeband\n",
      "file prefix: spikeband_nt32ch1.dat\n",
      "directory prefix: spikeband\n",
      "file prefix: spikeband_nt21ch1.dat\n",
      "directory prefix: spikeband\n",
      "file prefix: spikeband_nt24ch1.dat\n",
      "directory prefix: spikeband\n",
      "file prefix: spikeband_nt20ch1.dat\n",
      "directory prefix: spikeband\n",
      "file prefix: spikeband_nt27ch1.dat\n",
      "directory prefix: spikeband\n",
      "file prefix: spikeband_nt4ch1.dat\n",
      "directory prefix: spikeband\n",
      "file prefix: spikeband_nt15ch1.dat\n",
      "directory prefix: spikeband\n",
      "file prefix: spikeband_nt18ch1.dat\n",
      "directory prefix: spikeband\n",
      "file prefix: spikeband_nt17ch1.dat\n",
      "directory prefix: spikeband\n",
      "file prefix: spikeband_nt29ch1.dat\n",
      "directory prefix: spikeband\n",
      "file prefix: spikeband_nt8ch1.dat\n",
      "directory prefix: spikeband\n",
      "file prefix: spikeband_nt11ch1.dat\n",
      "directory prefix: spikeband\n",
      "file prefix: spikeband_nt30ch1.dat\n",
      "directory prefix: spikeband\n",
      "file prefix: spikeband_nt13ch1.dat\n",
      "directory prefix: spikeband\n",
      "file prefix: spikeband_nt7ch1.dat\n",
      "directory prefix: spikeband\n",
      "file prefix: spikeband_nt12ch1.dat\n",
      "directory prefix: spikeband\n",
      "file prefix: spikeband_nt1ch1.dat\n",
      "directory prefix: spikeband\n",
      "file prefix: spikeband_nt14ch1.dat\n",
      "directory prefix: spikeband\n",
      "file prefix: analog_ECU_Ain2.dat\n",
      "directory prefix: analog\n",
      "file prefix: analog_Headstage_GyroX.dat\n",
      "directory prefix: analog\n",
      "file prefix: analog_ECU_Ain1.dat\n",
      "directory prefix: analog\n",
      "file prefix: analog_ECU_Ain5.dat\n",
      "directory prefix: analog\n",
      "file prefix: analog_ECU_Aout2.dat\n",
      "directory prefix: analog\n",
      "file prefix: analog_ECU_Aout4.dat\n",
      "directory prefix: analog\n",
      "file prefix: analog_Headstage_MagY.dat\n",
      "directory prefix: analog\n",
      "file prefix: analog_ECU_Aout1.dat\n",
      "directory prefix: analog\n",
      "file prefix: analog_ECU_Aout3.dat\n",
      "directory prefix: analog\n",
      "file prefix: analog_Headstage_GyroZ.dat\n",
      "directory prefix: analog\n",
      "file prefix: timestamps.dat\n",
      "directory prefix: analog\n",
      "file prefix: analog_ECU_Ain8.dat\n",
      "directory prefix: analog\n",
      "file prefix: analog_Headstage_MagZ.dat\n",
      "directory prefix: analog\n",
      "file prefix: analog_Headstage_GyroY.dat\n",
      "directory prefix: analog\n",
      "file prefix: analog_Controller_Ain1.dat\n",
      "directory prefix: analog\n",
      "file prefix: analog_ECU_Ain7.dat\n",
      "directory prefix: analog\n",
      "file prefix: analog_ECU_Ain4.dat\n",
      "directory prefix: analog\n",
      "file prefix: analog_Headstage_AccelY.dat\n",
      "directory prefix: analog\n",
      "file prefix: analog_ECU_Ain6.dat\n",
      "directory prefix: analog\n",
      "file prefix: analog_Headstage_MagX.dat\n",
      "directory prefix: analog\n",
      "file prefix: analog_ECU_Ain3.dat\n",
      "directory prefix: analog\n",
      "file prefix: analog_Headstage_AccelX.dat\n",
      "directory prefix: analog\n",
      "file prefix: analog_Headstage_AccelZ.dat\n",
      "directory prefix: analog\n",
      "file prefix: dio_ECU_Din4.dat\n",
      "directory prefix: DIO\n",
      "file prefix: dio_Controller_Din8.dat\n",
      "directory prefix: DIO\n",
      "file prefix: dio_ECU_Dout21.dat\n",
      "directory prefix: DIO\n",
      "file prefix: dio_ECU_Dout17.dat\n",
      "directory prefix: DIO\n",
      "file prefix: dio_Controller_Din2.dat\n",
      "directory prefix: DIO\n",
      "file prefix: dio_ECU_Dout14.dat\n",
      "directory prefix: DIO\n",
      "file prefix: dio_ECU_Dout26.dat\n",
      "directory prefix: DIO\n",
      "file prefix: dio_ECU_Din31.dat\n",
      "directory prefix: DIO\n",
      "file prefix: dio_ECU_Din7.dat\n",
      "directory prefix: DIO\n",
      "file prefix: dio_ECU_Dout13.dat\n",
      "directory prefix: DIO\n",
      "file prefix: dio_ECU_Din14.dat\n",
      "directory prefix: DIO\n",
      "file prefix: dio_ECU_Dout5.dat\n",
      "directory prefix: DIO\n",
      "file prefix: dio_ECU_Dout16.dat\n",
      "directory prefix: DIO\n",
      "file prefix: dio_ECU_Dout8.dat\n",
      "directory prefix: DIO\n",
      "file prefix: dio_ECU_Din22.dat\n",
      "directory prefix: DIO\n",
      "file prefix: dio_ECU_Din20.dat\n",
      "directory prefix: DIO\n",
      "file prefix: dio_ECU_Dout7.dat\n",
      "directory prefix: DIO\n",
      "file prefix: dio_ECU_Dout3.dat\n",
      "directory prefix: DIO\n",
      "file prefix: dio_Controller_Din3.dat\n",
      "directory prefix: DIO\n",
      "file prefix: dio_ECU_Dout31.dat\n",
      "directory prefix: DIO\n",
      "file prefix: dio_ECU_Din2.dat\n",
      "directory prefix: DIO\n",
      "file prefix: dio_ECU_Dout2.dat\n",
      "directory prefix: DIO\n",
      "file prefix: dio_ECU_Dout11.dat\n",
      "directory prefix: DIO\n",
      "file prefix: dio_ECU_Din11.dat\n",
      "directory prefix: DIO\n",
      "file prefix: dio_ECU_Din28.dat\n",
      "directory prefix: DIO\n",
      "file prefix: dio_ECU_Din26.dat\n",
      "directory prefix: DIO\n",
      "file prefix: dio_ECU_Din16.dat\n",
      "directory prefix: DIO\n",
      "file prefix: dio_ECU_Dout30.dat\n",
      "directory prefix: DIO\n",
      "file prefix: dio_Controller_Din1.dat\n",
      "directory prefix: DIO\n",
      "file prefix: dio_ECU_Dout32.dat\n",
      "directory prefix: DIO\n",
      "file prefix: dio_ECU_Din30.dat\n",
      "directory prefix: DIO\n",
      "file prefix: dio_Controller_Din7.dat\n",
      "directory prefix: DIO\n",
      "file prefix: dio_ECU_Din25.dat\n",
      "directory prefix: DIO\n",
      "file prefix: dio_ECU_Din21.dat\n",
      "directory prefix: DIO\n",
      "file prefix: dio_ECU_Dout22.dat\n",
      "directory prefix: DIO\n",
      "file prefix: dio_ECU_Din29.dat\n",
      "directory prefix: DIO\n",
      "file prefix: dio_Controller_Din5.dat\n",
      "directory prefix: DIO\n",
      "file prefix: dio_ECU_Din18.dat\n",
      "directory prefix: DIO\n",
      "file prefix: dio_ECU_Dout12.dat\n",
      "directory prefix: DIO\n",
      "file prefix: dio_ECU_Din5.dat\n",
      "directory prefix: DIO\n",
      "file prefix: dio_ECU_Din13.dat\n",
      "directory prefix: DIO\n",
      "file prefix: dio_ECU_Dout25.dat\n",
      "directory prefix: DIO\n",
      "file prefix: dio_ECU_Dout4.dat\n",
      "directory prefix: DIO\n",
      "file prefix: dio_ECU_Dout15.dat\n",
      "directory prefix: DIO\n",
      "file prefix: dio_ECU_Din3.dat\n",
      "directory prefix: DIO\n",
      "file prefix: dio_ECU_Dout18.dat\n",
      "directory prefix: DIO\n",
      "file prefix: dio_ECU_Dout24.dat\n",
      "directory prefix: DIO\n",
      "file prefix: dio_ECU_Din27.dat\n",
      "directory prefix: DIO\n",
      "file prefix: dio_ECU_Dout28.dat\n",
      "directory prefix: DIO\n",
      "file prefix: dio_ECU_Din23.dat\n",
      "directory prefix: DIO\n",
      "file prefix: dio_ECU_Din17.dat\n",
      "directory prefix: DIO\n",
      "file prefix: dio_ECU_Dout19.dat\n",
      "directory prefix: DIO\n",
      "file prefix: dio_ECU_Din8.dat\n",
      "directory prefix: DIO\n",
      "file prefix: dio_ECU_Dout10.dat\n",
      "directory prefix: DIO\n",
      "file prefix: dio_ECU_Din15.dat\n",
      "directory prefix: DIO\n",
      "file prefix: dio_ECU_Din32.dat\n",
      "directory prefix: DIO\n",
      "file prefix: dio_ECU_Dout29.dat\n",
      "directory prefix: DIO\n",
      "file prefix: dio_ECU_Din1.dat\n",
      "directory prefix: DIO\n",
      "file prefix: dio_ECU_Dout9.dat\n",
      "directory prefix: DIO\n",
      "file prefix: dio_ECU_Din19.dat\n",
      "directory prefix: DIO\n",
      "file prefix: dio_ECU_Din6.dat\n",
      "directory prefix: DIO\n",
      "file prefix: dio_ECU_Dout20.dat\n",
      "directory prefix: DIO\n",
      "file prefix: dio_ECU_Din9.dat\n",
      "directory prefix: DIO\n",
      "file prefix: dio_ECU_Dout6.dat\n",
      "directory prefix: DIO\n",
      "file prefix: dio_ECU_Dout23.dat\n",
      "directory prefix: DIO\n",
      "file prefix: dio_ECU_Din24.dat\n",
      "directory prefix: DIO\n",
      "file prefix: dio_ECU_Dout1.dat\n",
      "directory prefix: DIO\n",
      "file prefix: dio_Controller_Din6.dat\n",
      "directory prefix: DIO\n",
      "file prefix: dio_Controller_Din4.dat\n",
      "directory prefix: DIO\n",
      "file prefix: dio_ECU_Din12.dat\n",
      "directory prefix: DIO\n",
      "file prefix: dio_ECU_Din10.dat\n",
      "directory prefix: DIO\n",
      "file prefix: dio_ECU_Dout27.dat\n",
      "directory prefix: DIO\n",
      "file prefix: LFP_nt2ch1.dat\n",
      "directory prefix: LFP\n",
      "file prefix: LFP_nt10ch1.dat\n",
      "directory prefix: LFP\n",
      "file prefix: LFP_nt26ch1.dat\n",
      "directory prefix: LFP\n",
      "file prefix: LFP_nt31ch1.dat\n",
      "directory prefix: LFP\n",
      "file prefix: LFP_nt22ch1.dat\n",
      "directory prefix: LFP\n",
      "file prefix: LFP_nt32ch1.dat\n",
      "directory prefix: LFP\n",
      "file prefix: LFP_nt14ch1.dat\n",
      "directory prefix: LFP\n",
      "file prefix: LFP_nt27ch1.dat\n",
      "directory prefix: LFP\n",
      "file prefix: LFP_nt21ch1.dat\n",
      "directory prefix: LFP\n",
      "file prefix: LFP_nt19ch1.dat\n",
      "directory prefix: LFP\n",
      "file prefix: LFP_nt4ch1.dat\n",
      "directory prefix: LFP\n",
      "file prefix: LFP_nt12ch1.dat\n",
      "directory prefix: LFP\n",
      "file prefix: LFP_nt25ch1.dat\n",
      "directory prefix: LFP\n",
      "file prefix: LFP_nt28ch1.dat\n",
      "directory prefix: LFP\n",
      "file prefix: LFP_nt29ch1.dat\n",
      "directory prefix: LFP\n",
      "file prefix: LFP_nt24ch1.dat\n",
      "directory prefix: LFP\n",
      "file prefix: LFP_nt18ch1.dat\n",
      "directory prefix: LFP\n",
      "file prefix: LFP_nt7ch1.dat\n",
      "directory prefix: LFP\n",
      "file prefix: timestamps.dat\n",
      "directory prefix: LFP\n",
      "file prefix: LFP_nt5ch1.dat\n",
      "directory prefix: LFP\n",
      "file prefix: LFP_nt1ch1.dat\n",
      "directory prefix: LFP\n",
      "file prefix: LFP_nt15ch1.dat\n",
      "directory prefix: LFP\n",
      "file prefix: LFP_nt17ch1.dat\n",
      "directory prefix: LFP\n",
      "file prefix: LFP_nt9ch1.dat\n",
      "directory prefix: LFP\n",
      "file prefix: LFP_nt8ch1.dat\n",
      "directory prefix: LFP\n",
      "file prefix: LFP_nt6ch1.dat\n",
      "directory prefix: LFP\n"
     ]
    },
    {
     "name": "stderr",
     "output_type": "stream",
     "text": [
      "/nancy/projects/reward_competition_ephys_analysis_with_omission_and_divider_controls/results/2023_05_17_sleap_analysis/../../src/trodes/read_exported.py:138: UserWarning: Can not process /nancy/projects/reward_competition_ephys_analysis_with_omission_and_divider_controls/data/good/20221123_122652_competition_subject_6_1_and_6_4.rec/20221123_122652_competition_subject_6_1_top_3_base_3.timestampoffset/20221123_122652_competition_subject_6_1_top_3_base_3.timestampoffset.txt\n",
      "  warnings.warn(\"Can not process {}\".format(absolute_file_path))\n",
      "/nancy/projects/reward_competition_ephys_analysis_with_omission_and_divider_controls/results/2023_05_17_sleap_analysis/../../src/trodes/read_exported.py:138: UserWarning: Can not process /nancy/projects/reward_competition_ephys_analysis_with_omission_and_divider_controls/data/good/20221123_122652_competition_subject_6_1_and_6_4.rec/20221123_122652_competition_subject_6_1_top_3_base_3.mountainsort/20221123_122652_competition_subject_6_1_top_3_base_3.timestamps.mda\n",
      "  warnings.warn(\"Can not process {}\".format(absolute_file_path))\n",
      "/nancy/projects/reward_competition_ephys_analysis_with_omission_and_divider_controls/results/2023_05_17_sleap_analysis/../../src/trodes/read_exported.py:138: UserWarning: Can not process /nancy/projects/reward_competition_ephys_analysis_with_omission_and_divider_controls/data/good/20221123_122652_competition_subject_6_1_and_6_4.rec/20221123_122652_competition_subject_6_1_top_3_base_3.mountainsort/20221123_122652_competition_subject_6_1_top_3_base_3.group0.mda\n",
      "  warnings.warn(\"Can not process {}\".format(absolute_file_path))\n"
     ]
    },
    {
     "name": "stdout",
     "output_type": "stream",
     "text": [
      "file prefix: LFP_nt30ch1.dat\n",
      "directory prefix: LFP\n",
      "file prefix: LFP_nt23ch1.dat\n",
      "directory prefix: LFP\n",
      "file prefix: LFP_nt3ch1.dat\n",
      "directory prefix: LFP\n",
      "file prefix: LFP_nt20ch1.dat\n",
      "directory prefix: LFP\n",
      "file prefix: LFP_nt11ch1.dat\n",
      "directory prefix: LFP\n",
      "file prefix: LFP_nt16ch1.dat\n",
      "directory prefix: LFP\n",
      "file prefix: LFP_nt13ch1.dat\n",
      "directory prefix: LFP\n",
      "file prefix: group0.coordinates.dat\n",
      "directory prefix: mountainsort\n",
      "file prefix: group0.coordinates.dat\n",
      "directory prefix: kilosort\n",
      "file prefix: timestamps.dat\n",
      "directory prefix: kilosort\n"
     ]
    },
    {
     "name": "stderr",
     "output_type": "stream",
     "text": [
      "/nancy/projects/reward_competition_ephys_analysis_with_omission_and_divider_controls/results/2023_05_17_sleap_analysis/../../src/trodes/read_exported.py:138: UserWarning: Can not process /nancy/projects/reward_competition_ephys_analysis_with_omission_and_divider_controls/data/good/20221123_122652_competition_subject_6_1_and_6_4.rec/20221123_122652_competition_subject_6_1_top_3_base_3.kilosort/20221123_122652_competition_subject_6_1_top_3_base_3.group0.dat\n",
      "  warnings.warn(\"Can not process {}\".format(absolute_file_path))\n"
     ]
    },
    {
     "name": "stdout",
     "output_type": "stream",
     "text": [
      "file prefix: timestamps.dat\n",
      "directory prefix: time\n"
     ]
    },
    {
     "ename": "KeyError",
     "evalue": "'1.videoTimeStamps.cameraHWSync'",
     "output_type": "error",
     "traceback": [
      "\u001b[0;31m---------------------------------------------------------------------------\u001b[0m",
      "\u001b[0;31mKeyError\u001b[0m                                  Traceback (most recent call last)",
      "Cell \u001b[0;32mIn[24], line 76\u001b[0m\n\u001b[1;32m     73\u001b[0m     \u001b[38;5;28mprint\u001b[39m(e)\n\u001b[1;32m     75\u001b[0m \u001b[38;5;66;03m# Getting the dictionary that containts the timestamps for each videoframe\u001b[39;00m\n\u001b[0;32m---> 76\u001b[0m video_time_stamp_dict \u001b[38;5;241m=\u001b[39m \u001b[43mraw_data_dir_to_extracted_files\u001b[49m\u001b[43m[\u001b[49m\u001b[43mrecording_basename\u001b[49m\u001b[43m]\u001b[49m\u001b[43m[\u001b[49m\u001b[38;5;124;43m\"\u001b[39;49m\u001b[38;5;124;43mfile_to_data\u001b[39;49m\u001b[38;5;124;43m\"\u001b[39;49m\u001b[43m]\u001b[49m\u001b[43m[\u001b[49m\u001b[38;5;124;43m\"\u001b[39;49m\u001b[38;5;124;43m.\u001b[39;49m\u001b[38;5;124;43m\"\u001b[39;49m\u001b[43m]\u001b[49m\u001b[43m[\u001b[49m\u001b[38;5;124;43m\"\u001b[39;49m\u001b[38;5;124;43m1.videoTimeStamps.cameraHWSync\u001b[39;49m\u001b[38;5;124;43m\"\u001b[39;49m\u001b[43m]\u001b[49m\n\u001b[1;32m     77\u001b[0m \u001b[38;5;66;03m# Getting the timestamps for each frame of the video\u001b[39;00m\n\u001b[1;32m     78\u001b[0m raw_data_dir_to_extracted_files[recording_basename][\u001b[38;5;124m\"\u001b[39m\u001b[38;5;124mPosTimestamp\u001b[39m\u001b[38;5;124m\"\u001b[39m] \u001b[38;5;241m=\u001b[39m video_time_stamp_dict[\u001b[38;5;124m\"\u001b[39m\u001b[38;5;124mdata\u001b[39m\u001b[38;5;124m\"\u001b[39m][\u001b[38;5;124m\"\u001b[39m\u001b[38;5;124mPosTimestamp\u001b[39m\u001b[38;5;124m\"\u001b[39m]\u001b[38;5;241m.\u001b[39mastype(\u001b[38;5;28mint\u001b[39m)\n",
      "\u001b[0;31mKeyError\u001b[0m: '1.videoTimeStamps.cameraHWSync'"
     ]
    }
   ],
   "source": [
    "raw_data_dir_to_extracted_files = defaultdict(dict)\n",
    "for raw_data_file_path in raw_data_all_files:\n",
    "    # Getting the basename of the recording\n",
    "    recording_dirname = os.path.basename(raw_data_file_path)\n",
    "    recording_basename = os.path.splitext(recording_dirname)[0]\n",
    "    # Extracting the files\n",
    "    raw_data_dir_to_extracted_files[recording_basename][\"file_to_data\"] = trodes.read_exported.get_all_trodes_data_from_directory(raw_data_file_path)\n",
    "\n",
    "    # Getting all keys that have \"DIO\" in it\n",
    "    # Which is the files that have MED-PC inputs\n",
    "    DIO_directory_name = trodes.read_exported.get_key_with_substring(raw_data_dir_to_extracted_files[recording_basename][\"file_to_data\"], substring=\"DIO\")\n",
    "    raw_data_dir_to_extracted_files[recording_basename][\"DIO_directory_dict\"] = raw_data_dir_to_extracted_files[recording_basename][\"file_to_data\"][DIO_directory_name]\n",
    "    \n",
    "    # Getting the file that has the timestamps of the tone\n",
    "    raw_data_dir_to_extracted_files[recording_basename][\"tone_onset_DIN_file_name\"] = \\\n",
    "        tone_onset_DIN_file_name = trodes.read_exported.get_key_with_substring(raw_data_dir_to_extracted_files[recording_basename][\"DIO_directory_dict\"] , \\\n",
    "        substring=\"ECU_Din1.dat\", return_first=True)\n",
    "    \n",
    "    # Getting the timestamps of the tone\n",
    "    raw_data_dir_to_extracted_files[recording_basename][\"tone_onset_DIN_state_array\"] = raw_data_dir_to_extracted_files[recording_basename][\"DIO_directory_dict\"][tone_onset_DIN_file_name][\"data\"]\n",
    "    # Creating a dataframe based on tone times\n",
    "    raw_data_dir_to_extracted_files[recording_basename][\"tone_df\"] = pd.DataFrame(raw_data_dir_to_extracted_files[recording_basename][\"tone_onset_DIN_state_array\"])\n",
    "    \n",
    "    raw_data_dir_to_extracted_files[recording_basename][\"tone_df\"] = raw_data_dir_to_extracted_files[recording_basename][\"tone_df\"].add_prefix(\"tone_\")\n",
    "    \n",
    "    for col in raw_data_dir_to_extracted_files[recording_basename][\"tone_df\"].columns:\n",
    "        raw_data_dir_to_extracted_files[recording_basename][\"tone_df\"][col] = raw_data_dir_to_extracted_files[recording_basename][\"tone_df\"][col].astype(int)\n",
    "    \n",
    "    \"\"\"\n",
    "    try:\n",
    "        # Getting the file that has the box 1 port entries\n",
    "        raw_data_dir_to_extracted_files[recording_basename][\"box1_port_entries_DIN_file_name\"] = \\\n",
    "            box1_port_entries_DIN_file_name = trodes.read_exported.get_key_with_substring(DIO_directory_dict, \\\n",
    "            substring=\"ECU_Din3.dat\", return_first=True)\n",
    "        # Getting the timestamps of box 1 port entries\n",
    "        raw_data_dir_to_extracted_files[recording_basename][\"box1_port_entries_DIN_state_array\"] = DIO_directory_dict[box1_port_entries_DIN_file_name][\"data\"]\n",
    "    except Exception as e: \n",
    "        print(e)\n",
    "        \n",
    "        \n",
    "    try:\n",
    "        # Getting the file that has the box 2 port entries\n",
    "        raw_data_dir_to_extracted_files[recording_basename][\"box2_port_entries_DIN_file_name\"] = \\\n",
    "            box2_port_entries_DIN_file_name = trodes.read_exported.get_key_with_substring(DIO_directory_dict, \\\n",
    "            substring=\"ECU_Din1.dat\", return_first=True)\n",
    "        # Getting the timestamps of box 2 port entries\n",
    "        raw_data_dir_to_extracted_files[recording_basename][\"box2_port_entries_DIN_state_array\"] = DIO_directory_dict[box2_port_entries_DIN_file_name][\"data\"]\n",
    "    except Exception as e: \n",
    "        print(e)\n",
    "    \"\"\"\n",
    "\n",
    "    # Getting the timestamps of the voltage samples\n",
    "    raw_data_dir_to_extracted_files[recording_basename][\"raw_directory_dict\"] = raw_directory_dict = raw_data_dir_to_extracted_files[recording_basename][\"file_to_data\"][\"raw\"]\n",
    "    raw_data_dir_to_extracted_files[recording_basename][\"voltage_timestamp_array\"] = raw_directory_dict[\"timestamps.dat\"][\"data\"]\n",
    "    raw_data_dir_to_extracted_files[recording_basename][\"voltage_timestamp_array\"] = raw_data_dir_to_extracted_files[recording_basename][\"voltage_timestamp_array\"].astype(int)\n",
    "    \n",
    "    # Reindexing the voltage timestamps so that the first voltage sample is 0\n",
    "    raw_data_dir_to_extracted_files[recording_basename][\"tone_df\"][\"reindexed_timestamp\"] = raw_data_dir_to_extracted_files[recording_basename][\"tone_df\"][\"tone_time\"] - raw_data_dir_to_extracted_files[recording_basename][\"voltage_timestamp_array\"][0]\n",
    "    # Making all the negative values into 0\n",
    "    raw_data_dir_to_extracted_files[recording_basename][\"tone_df\"][\"reindexed_timestamp\"] = raw_data_dir_to_extracted_files[recording_basename][\"tone_df\"][\"reindexed_timestamp\"].apply(lambda x: 0 if x <= 0 else x)\n",
    "    \n",
    "    raw_data_dir_to_extracted_files[recording_basename][\"tone_df\"][\"lfp_index\"] = raw_data_dir_to_extracted_files[recording_basename][\"tone_df\"][\"reindexed_timestamp\"] // 20\n",
    "\n",
    "    \n",
    "    ### VIDEO\n",
    "    try:\n",
    "        # read video from file\n",
    "        video_file_path = glob.glob(os.path.join(raw_data_file_path, \"*.fixed.mp4\"))[0]\n",
    "        cap = cv2.VideoCapture(video_file_path)\n",
    "        # getting the fps from the video\n",
    "        raw_data_dir_to_extracted_files[recording_basename][\"fps\"] = cap.get(cv2.CAP_PROP_FPS)\n",
    "    except Exception as e: \n",
    "        print(e)\n",
    "            \n",
    "    # Getting the dictionary that containts the timestamps for each videoframe\n",
    "    video_time_stamp_dict = raw_data_dir_to_extracted_files[recording_basename][\"file_to_data\"][\".\"][\"1.videoTimeStamps.cameraHWSync\"]\n",
    "    # Getting the timestamps for each frame of the video\n",
    "    raw_data_dir_to_extracted_files[recording_basename][\"PosTimestamp\"] = video_time_stamp_dict[\"data\"][\"PosTimestamp\"].astype(int)\n",
    "    # Reindexing the video timestamps based on the reindexed voltage timestamp    \n",
    "    video_time_stamp_array = raw_data_dir_to_extracted_files[recording_basename][\"PosTimestamp\"] - raw_data_dir_to_extracted_files[recording_basename][\"voltage_timestamp_array\"][0]\n",
    "    video_time_stamp_array[video_time_stamp_array <= 0] = 0 \n",
    "    raw_data_dir_to_extracted_files[recording_basename][\"video_time_stamp_array\"] = video_time_stamp_array\n",
    "    \n",
    "    \n",
    "    raw_data_dir_to_extracted_files[recording_basename][\"tone_df\"][\"video_time_stamp\"] = \\\n",
    "        raw_data_dir_to_extracted_files[recording_basename][\"tone_df\"][\"reindexed_timestamp\"].apply(lambda x: find_closest(video_time_stamp_array, x))\n",
    "    \n",
    "    raw_data_dir_to_extracted_files[recording_basename][\"tone_df\"][\"video_frame\"] = \\\n",
    "        raw_data_dir_to_extracted_files[recording_basename][\"tone_df\"][\"video_time_stamp\"].apply(lambda x: np.where(video_time_stamp_array == x)[0][0])\n",
    "    \n",
    "    if \"fps\" in raw_data_dir_to_extracted_files[recording_basename]:\n",
    "        raw_data_dir_to_extracted_files[recording_basename][\"tone_df\"][\"video_seconds\"] = raw_data_dir_to_extracted_files[recording_basename][\"tone_df\"][\"video_frame\"] / raw_data_dir_to_extracted_files[recording_basename][\"fps\"]\n",
    "        raw_data_dir_to_extracted_files[recording_basename][\"tone_df\"][\"video_seconds\"] = raw_data_dir_to_extracted_files[recording_basename][\"tone_df\"][\"video_seconds\"].astype(int)\n",
    "        raw_data_dir_to_extracted_files[recording_basename][\"tone_df\"][\"video_time\"] = raw_data_dir_to_extracted_files[recording_basename][\"tone_df\"][\"video_seconds\"].apply(lambda x: divmod(x, 60))\n",
    "        raw_data_dir_to_extracted_files[recording_basename][\"tone_df\"][\"video_file_path\"] = video_file_path\n",
    "    \n",
    "    \n",
    "    raw_data_dir_to_extracted_files[recording_basename][\"tone_df\"][\"recording_basename\"] = recording_basename\n",
    "    raw_data_dir_to_extracted_files[recording_basename][\"tone_df\"][\"raw_data_file_path\"] = raw_data_file_path\n",
    "    raw_data_dir_to_extracted_files[recording_basename][\"tone_df\"].to_csv(\"./proc/timestamp_df/{}.tone_timestamps.csv\".format(recording_basename))"
   ]
  },
  {
   "cell_type": "code",
   "execution_count": 25,
   "id": "1be69b60",
   "metadata": {
    "scrolled": false
   },
   "outputs": [
    {
     "data": {
      "text/html": [
       "<div>\n",
       "<style scoped>\n",
       "    .dataframe tbody tr th:only-of-type {\n",
       "        vertical-align: middle;\n",
       "    }\n",
       "\n",
       "    .dataframe tbody tr th {\n",
       "        vertical-align: top;\n",
       "    }\n",
       "\n",
       "    .dataframe thead th {\n",
       "        text-align: right;\n",
       "    }\n",
       "</style>\n",
       "<table border=\"1\" class=\"dataframe\">\n",
       "  <thead>\n",
       "    <tr style=\"text-align: right;\">\n",
       "      <th></th>\n",
       "      <th>tone_time</th>\n",
       "      <th>tone_state</th>\n",
       "      <th>reindexed_timestamp</th>\n",
       "      <th>lfp_index</th>\n",
       "    </tr>\n",
       "  </thead>\n",
       "  <tbody>\n",
       "    <tr>\n",
       "      <th>0</th>\n",
       "      <td>2253424</td>\n",
       "      <td>1</td>\n",
       "      <td>0</td>\n",
       "      <td>0</td>\n",
       "    </tr>\n",
       "    <tr>\n",
       "      <th>1</th>\n",
       "      <td>2474955</td>\n",
       "      <td>0</td>\n",
       "      <td>221531</td>\n",
       "      <td>11076</td>\n",
       "    </tr>\n",
       "    <tr>\n",
       "      <th>2</th>\n",
       "      <td>3675351</td>\n",
       "      <td>1</td>\n",
       "      <td>1421927</td>\n",
       "      <td>71096</td>\n",
       "    </tr>\n",
       "    <tr>\n",
       "      <th>3</th>\n",
       "      <td>3875353</td>\n",
       "      <td>0</td>\n",
       "      <td>1621929</td>\n",
       "      <td>81096</td>\n",
       "    </tr>\n",
       "    <tr>\n",
       "      <th>4</th>\n",
       "      <td>5275349</td>\n",
       "      <td>1</td>\n",
       "      <td>3021925</td>\n",
       "      <td>151096</td>\n",
       "    </tr>\n",
       "    <tr>\n",
       "      <th>5</th>\n",
       "      <td>5475348</td>\n",
       "      <td>0</td>\n",
       "      <td>3221924</td>\n",
       "      <td>161096</td>\n",
       "    </tr>\n",
       "    <tr>\n",
       "      <th>6</th>\n",
       "      <td>7075341</td>\n",
       "      <td>1</td>\n",
       "      <td>4821917</td>\n",
       "      <td>241095</td>\n",
       "    </tr>\n",
       "    <tr>\n",
       "      <th>7</th>\n",
       "      <td>7275341</td>\n",
       "      <td>0</td>\n",
       "      <td>5021917</td>\n",
       "      <td>251095</td>\n",
       "    </tr>\n",
       "  </tbody>\n",
       "</table>\n",
       "</div>"
      ],
      "text/plain": [
       "   tone_time  tone_state  reindexed_timestamp  lfp_index\n",
       "0    2253424           1                    0          0\n",
       "1    2474955           0               221531      11076\n",
       "2    3675351           1              1421927      71096\n",
       "3    3875353           0              1621929      81096\n",
       "4    5275349           1              3021925     151096\n",
       "5    5475348           0              3221924     161096\n",
       "6    7075341           1              4821917     241095\n",
       "7    7275341           0              5021917     251095"
      ]
     },
     "execution_count": 25,
     "metadata": {},
     "output_type": "execute_result"
    }
   ],
   "source": [
    "raw_data_dir_to_extracted_files[recording_basename][\"tone_df\"]"
   ]
  },
  {
   "cell_type": "code",
   "execution_count": 27,
   "id": "664c816e",
   "metadata": {},
   "outputs": [
    {
     "data": {
      "text/plain": [
       "'20221123_122652_competition_subject_6_1_and_6_4'"
      ]
     },
     "execution_count": 27,
     "metadata": {},
     "output_type": "execute_result"
    }
   ],
   "source": [
    "recording_basename"
   ]
  },
  {
   "cell_type": "code",
   "execution_count": 26,
   "id": "50465a61",
   "metadata": {},
   "outputs": [
    {
     "ename": "ValueError",
     "evalue": "",
     "output_type": "error",
     "traceback": [
      "\u001b[0;31m---------------------------------------------------------------------------\u001b[0m",
      "\u001b[0;31mValueError\u001b[0m                                Traceback (most recent call last)",
      "Cell \u001b[0;32mIn[26], line 1\u001b[0m\n\u001b[0;32m----> 1\u001b[0m \u001b[38;5;28;01mraise\u001b[39;00m \u001b[38;5;167;01mValueError\u001b[39;00m()\n",
      "\u001b[0;31mValueError\u001b[0m: "
     ]
    }
   ],
   "source": [
    "raise ValueError()"
   ]
  },
  {
   "cell_type": "markdown",
   "id": "f44c4083",
   "metadata": {},
   "source": [
    "# Part 2: Looking over the data"
   ]
  },
  {
   "cell_type": "markdown",
   "id": "4813b680",
   "metadata": {},
   "source": [
    "## Looking over the ephys recording"
   ]
  },
  {
   "cell_type": "markdown",
   "id": "8a15e77c",
   "metadata": {},
   "source": [
    "- Getting the name of the ephys recording directory"
   ]
  },
  {
   "cell_type": "code",
   "execution_count": null,
   "id": "ae2a3563",
   "metadata": {
    "scrolled": true
   },
   "outputs": [],
   "source": [
    "raw_directory_dict = file_to_data[\"raw\"]"
   ]
  },
  {
   "cell_type": "markdown",
   "id": "41113794",
   "metadata": {},
   "source": [
    "- Getting the name of the files in the ephys recording directory"
   ]
  },
  {
   "cell_type": "code",
   "execution_count": null,
   "id": "3dba9b7c",
   "metadata": {},
   "outputs": [],
   "source": [
    "raw_directory_dict.keys()"
   ]
  },
  {
   "cell_type": "code",
   "execution_count": null,
   "id": "57f0fd1f",
   "metadata": {},
   "outputs": [],
   "source": [
    "raw_recording_fields_text = raw_directory_dict[\"raw_group0.dat\"]"
   ]
  },
  {
   "cell_type": "code",
   "execution_count": null,
   "id": "32c63bc8",
   "metadata": {},
   "outputs": [],
   "source": [
    "raw_recording_fields_text"
   ]
  },
  {
   "cell_type": "markdown",
   "id": "81fcba19",
   "metadata": {},
   "source": [
    "- Array of Voltages for each channel"
   ]
  },
  {
   "cell_type": "code",
   "execution_count": null,
   "id": "58e5e9a3",
   "metadata": {},
   "outputs": [],
   "source": [
    "voltage_value_array = raw_recording_fields_text[\"data\"]"
   ]
  },
  {
   "cell_type": "code",
   "execution_count": null,
   "id": "0463b831",
   "metadata": {},
   "outputs": [],
   "source": [
    "voltage_value_array.shape"
   ]
  },
  {
   "cell_type": "code",
   "execution_count": null,
   "id": "eafa5355",
   "metadata": {},
   "outputs": [],
   "source": [
    "voltage_value_array[0]"
   ]
  },
  {
   "cell_type": "code",
   "execution_count": null,
   "id": "65a2f80a",
   "metadata": {},
   "outputs": [],
   "source": [
    "len(voltage_value_array[0][0])"
   ]
  },
  {
   "cell_type": "code",
   "execution_count": null,
   "id": "223f5461",
   "metadata": {
    "scrolled": false
   },
   "outputs": [],
   "source": [
    "voltage_value_array[:5]"
   ]
  },
  {
   "cell_type": "markdown",
   "id": "c0ff0c21",
   "metadata": {},
   "source": [
    "- Voltage Time Stamps"
   ]
  },
  {
   "cell_type": "code",
   "execution_count": null,
   "id": "503a175c",
   "metadata": {},
   "outputs": [],
   "source": [
    "raw_directory_dict.keys()"
   ]
  },
  {
   "cell_type": "code",
   "execution_count": null,
   "id": "c819a86b",
   "metadata": {},
   "outputs": [],
   "source": [
    "voltage_timestamp_array = raw_directory_dict[\"timestamps.dat\"][\"data\"]"
   ]
  },
  {
   "cell_type": "code",
   "execution_count": null,
   "id": "41e7e2e8",
   "metadata": {},
   "outputs": [],
   "source": [
    "voltage_timestamp_array[:5]"
   ]
  },
  {
   "cell_type": "code",
   "execution_count": null,
   "id": "c7a6994f",
   "metadata": {},
   "outputs": [],
   "source": [
    "voltage_timestamp_array[-5:]"
   ]
  },
  {
   "cell_type": "code",
   "execution_count": null,
   "id": "613ba2e1",
   "metadata": {},
   "outputs": [],
   "source": []
  },
  {
   "cell_type": "code",
   "execution_count": null,
   "id": "f3e85b94",
   "metadata": {},
   "outputs": [],
   "source": [
    "voltage_timestamp_array.shape"
   ]
  },
  {
   "cell_type": "markdown",
   "id": "b522864c",
   "metadata": {},
   "source": [
    "- Converting the array to integers to be able to do calculations"
   ]
  },
  {
   "cell_type": "markdown",
   "id": "95765eb5",
   "metadata": {},
   "source": [
    "    - u4 and i2 explanation: https://www.geeksforgeeks.org/data-type-object-dtype-numpy-python/"
   ]
  },
  {
   "cell_type": "code",
   "execution_count": null,
   "id": "db4a1243",
   "metadata": {},
   "outputs": [],
   "source": [
    "voltage_timestamp_array = voltage_timestamp_array.astype(int)"
   ]
  },
  {
   "cell_type": "code",
   "execution_count": null,
   "id": "ccb6b4c1",
   "metadata": {},
   "outputs": [],
   "source": [
    "voltage_timestamp_array[:5]"
   ]
  },
  {
   "cell_type": "code",
   "execution_count": null,
   "id": "8a015c1a",
   "metadata": {},
   "outputs": [],
   "source": [
    "voltage_timestamp_array[-5:]"
   ]
  },
  {
   "cell_type": "code",
   "execution_count": null,
   "id": "1a7e86db",
   "metadata": {},
   "outputs": [],
   "source": [
    "voltage_timestamp_array.shape"
   ]
  },
  {
   "cell_type": "markdown",
   "id": "4f8f411e",
   "metadata": {},
   "source": [
    "## Looking over the video files"
   ]
  },
  {
   "cell_type": "code",
   "execution_count": null,
   "id": "bbe954df",
   "metadata": {},
   "outputs": [],
   "source": [
    "parent_directory_dict = file_to_data[\".\"]"
   ]
  },
  {
   "cell_type": "code",
   "execution_count": null,
   "id": "7ff36480",
   "metadata": {},
   "outputs": [],
   "source": [
    "video_time_stamp_dict = parent_directory_dict[\"1.videoTimeStamps.cameraHWSync\"]"
   ]
  },
  {
   "cell_type": "code",
   "execution_count": null,
   "id": "1dfb79da",
   "metadata": {
    "scrolled": false
   },
   "outputs": [],
   "source": [
    "video_time_stamp_dict"
   ]
  },
  {
   "cell_type": "code",
   "execution_count": null,
   "id": "f3e1779e",
   "metadata": {},
   "outputs": [],
   "source": [
    "video_time_stamp_dict[\"data\"]"
   ]
  },
  {
   "cell_type": "code",
   "execution_count": null,
   "id": "198b4fac",
   "metadata": {},
   "outputs": [],
   "source": [
    "video_time_stamp_dict[\"data\"][:5]"
   ]
  },
  {
   "cell_type": "code",
   "execution_count": null,
   "id": "c0edf651",
   "metadata": {},
   "outputs": [],
   "source": [
    "video_time_stamp_dict[\"data\"][-5:]"
   ]
  },
  {
   "cell_type": "code",
   "execution_count": null,
   "id": "ca847a67",
   "metadata": {},
   "outputs": [],
   "source": [
    "video_time_stamp_dict[\"data\"].shape"
   ]
  },
  {
   "cell_type": "markdown",
   "id": "553b8def",
   "metadata": {},
   "source": [
    "## Video time to Video frame"
   ]
  },
  {
   "cell_type": "markdown",
   "id": "79d2f3f5",
   "metadata": {},
   "source": [
    "### Reading in video"
   ]
  },
  {
   "cell_type": "code",
   "execution_count": null,
   "id": "a37458ea",
   "metadata": {},
   "outputs": [],
   "source": [
    "raw_data_file_path"
   ]
  },
  {
   "cell_type": "code",
   "execution_count": null,
   "id": "8e946508",
   "metadata": {},
   "outputs": [],
   "source": [
    "video_file_list = glob.glob(os.path.join(\"../../../../data/good/20221202_134600_omission_and_competition_subject_6_1_and_6_2.rec/\", \"*.mp4\"))"
   ]
  },
  {
   "cell_type": "code",
   "execution_count": null,
   "id": "30c10fd5",
   "metadata": {},
   "outputs": [],
   "source": [
    "video_file_list"
   ]
  },
  {
   "cell_type": "code",
   "execution_count": null,
   "id": "86d40d28",
   "metadata": {},
   "outputs": [],
   "source": [
    "video_file_path = video_file_list[0]"
   ]
  },
  {
   "cell_type": "code",
   "execution_count": null,
   "id": "a874dbde",
   "metadata": {},
   "outputs": [],
   "source": [
    "# read video from file\n",
    "cap = cv2.VideoCapture(video_file_path)"
   ]
  },
  {
   "cell_type": "markdown",
   "id": "d9e22832",
   "metadata": {},
   "source": [
    "- Getting the number of frames per second"
   ]
  },
  {
   "cell_type": "code",
   "execution_count": null,
   "id": "a6fea79f",
   "metadata": {},
   "outputs": [],
   "source": [
    "fps = cap.get(cv2.CAP_PROP_FPS)"
   ]
  },
  {
   "cell_type": "code",
   "execution_count": null,
   "id": "f17c8e42",
   "metadata": {},
   "outputs": [],
   "source": [
    "fps"
   ]
  },
  {
   "cell_type": "markdown",
   "id": "036eb397",
   "metadata": {},
   "source": [
    "- Total number of frames"
   ]
  },
  {
   "cell_type": "code",
   "execution_count": null,
   "id": "ea914a47",
   "metadata": {},
   "outputs": [],
   "source": [
    "total_frame_count = cap.get(cv2.CAP_PROP_FRAME_COUNT)"
   ]
  },
  {
   "cell_type": "code",
   "execution_count": null,
   "id": "9f908e11",
   "metadata": {},
   "outputs": [],
   "source": [
    "total_frame_count\n"
   ]
  },
  {
   "cell_type": "markdown",
   "id": "5d4c7a25",
   "metadata": {},
   "source": [
    "- Calculating the length of the video by dividing the total number of frames by the fps"
   ]
  },
  {
   "cell_type": "code",
   "execution_count": null,
   "id": "9a13ea28",
   "metadata": {},
   "outputs": [],
   "source": [
    "video_length = total_frame_count / fps"
   ]
  },
  {
   "cell_type": "code",
   "execution_count": null,
   "id": "ea106dc7",
   "metadata": {},
   "outputs": [],
   "source": [
    "video_length"
   ]
  },
  {
   "cell_type": "markdown",
   "id": "40304e47",
   "metadata": {},
   "source": [
    "# Part 3: Converting everything into timestamps"
   ]
  },
  {
   "cell_type": "markdown",
   "id": "8a0d9309",
   "metadata": {},
   "source": [
    "## Voltage to timestamp"
   ]
  },
  {
   "cell_type": "markdown",
   "id": "8ad248a4",
   "metadata": {},
   "source": [
    "- Use the matching index to convert between the voltage time stamp and the recording"
   ]
  },
  {
   "cell_type": "code",
   "execution_count": null,
   "id": "99fb3531",
   "metadata": {},
   "outputs": [],
   "source": [
    "voltage_index = 0"
   ]
  },
  {
   "cell_type": "code",
   "execution_count": null,
   "id": "e56cf0c6",
   "metadata": {},
   "outputs": [],
   "source": [
    "voltage_value_array[voltage_index]"
   ]
  },
  {
   "cell_type": "markdown",
   "id": "88d6e29c",
   "metadata": {},
   "source": [
    "- Getting the associated timestamp of the ephys recording"
   ]
  },
  {
   "cell_type": "code",
   "execution_count": null,
   "id": "785625cb",
   "metadata": {},
   "outputs": [],
   "source": [
    "voltage_timestamp_array[:5]"
   ]
  },
  {
   "cell_type": "code",
   "execution_count": null,
   "id": "db1c32d6",
   "metadata": {},
   "outputs": [],
   "source": [
    "voltage_timestamp_array[-5:]"
   ]
  },
  {
   "cell_type": "code",
   "execution_count": null,
   "id": "fd9af58a",
   "metadata": {},
   "outputs": [],
   "source": [
    "voltage_time_stamp = voltage_timestamp_array[voltage_index]"
   ]
  },
  {
   "cell_type": "code",
   "execution_count": null,
   "id": "27bc4a59",
   "metadata": {},
   "outputs": [],
   "source": [
    "voltage_time_stamp"
   ]
  },
  {
   "cell_type": "markdown",
   "id": "5a14bcb3",
   "metadata": {},
   "source": [
    "## Video frame to timestamp"
   ]
  },
  {
   "cell_type": "markdown",
   "id": "40bc1595",
   "metadata": {},
   "source": [
    "- Getting the time stamps of the video frames\n",
    "    - Each frame would correspond to each timestamp. Because the sample rate of videos is smaller than ephys recording, the number of video time stamps will be less than that of ephys recordings."
   ]
  },
  {
   "cell_type": "code",
   "execution_count": null,
   "id": "11da4b57",
   "metadata": {},
   "outputs": [],
   "source": [
    "video_time_stamp_dict"
   ]
  },
  {
   "cell_type": "code",
   "execution_count": null,
   "id": "0535c4c9",
   "metadata": {},
   "outputs": [],
   "source": [
    "video_time_stamp_array = np.array(video_time_stamp_dict[\"data\"])"
   ]
  },
  {
   "cell_type": "code",
   "execution_count": null,
   "id": "a045ef1a",
   "metadata": {},
   "outputs": [],
   "source": [
    "video_time_stamp_array[:5]"
   ]
  },
  {
   "cell_type": "code",
   "execution_count": null,
   "id": "e115ea93",
   "metadata": {},
   "outputs": [],
   "source": [
    "video_time_stamp_array[-5:]"
   ]
  },
  {
   "cell_type": "code",
   "execution_count": null,
   "id": "7539309b",
   "metadata": {},
   "outputs": [],
   "source": [
    "video_time_stamp_array.shape"
   ]
  },
  {
   "cell_type": "markdown",
   "id": "4a1b820a",
   "metadata": {},
   "source": [
    "- Getting only the first number in each tuple"
   ]
  },
  {
   "cell_type": "code",
   "execution_count": null,
   "id": "b8ee7854",
   "metadata": {},
   "outputs": [],
   "source": [
    "pos_timestamp_array = np.array([x[0] for x in video_time_stamp_array]) "
   ]
  },
  {
   "cell_type": "markdown",
   "id": "ead06f7a",
   "metadata": {},
   "source": [
    "- Converting to integer to do calculations"
   ]
  },
  {
   "cell_type": "code",
   "execution_count": null,
   "id": "83cac3c6",
   "metadata": {},
   "outputs": [],
   "source": [
    "pos_timestamp_array = pos_timestamp_array.astype(int)"
   ]
  },
  {
   "cell_type": "code",
   "execution_count": null,
   "id": "cc05c0ad",
   "metadata": {},
   "outputs": [],
   "source": [
    "pos_timestamp_array[:5]"
   ]
  },
  {
   "cell_type": "code",
   "execution_count": null,
   "id": "c874a0a2",
   "metadata": {},
   "outputs": [],
   "source": [
    "pos_timestamp_array[-5:]"
   ]
  },
  {
   "cell_type": "markdown",
   "id": "a11d9dae",
   "metadata": {},
   "source": [
    "# Part 4: Converting from timestamps back to everything"
   ]
  },
  {
   "cell_type": "code",
   "execution_count": null,
   "id": "658bb7bd",
   "metadata": {},
   "outputs": [],
   "source": [
    "def timestamp_to_index(current_ts, ts_array):\n",
    "    \"\"\"\n",
    "    \"\"\"\n",
    "    return np.argwhere(ts_array >= current_ts)[0][0]"
   ]
  },
  {
   "cell_type": "markdown",
   "id": "253b9966",
   "metadata": {},
   "source": [
    "## Time stamp to Voltage Value"
   ]
  },
  {
   "cell_type": "code",
   "execution_count": null,
   "id": "7643caae",
   "metadata": {
    "scrolled": true
   },
   "outputs": [],
   "source": [
    "voltage_timestamp_array"
   ]
  },
  {
   "cell_type": "code",
   "execution_count": null,
   "id": "e6bd1de7",
   "metadata": {},
   "outputs": [],
   "source": [
    "voltage_timestamp_array[0]"
   ]
  },
  {
   "cell_type": "markdown",
   "id": "3d8baa27",
   "metadata": {},
   "source": [
    "- Getting the index of the closest timestamp "
   ]
  },
  {
   "cell_type": "code",
   "execution_count": null,
   "id": "7fc3a453",
   "metadata": {},
   "outputs": [],
   "source": [
    "random_voltage_index = timestamp_to_index(current_ts=voltage_timestamp_array[0], ts_array=voltage_timestamp_array)"
   ]
  },
  {
   "cell_type": "code",
   "execution_count": null,
   "id": "54a59712",
   "metadata": {},
   "outputs": [],
   "source": [
    "random_voltage_index"
   ]
  },
  {
   "cell_type": "markdown",
   "id": "eee88278",
   "metadata": {},
   "source": [
    "- Checking if it matches to the original timestamp\n",
    "    - Should be the same, because the sampling rate of the timestamps are based on the ephys recording"
   ]
  },
  {
   "cell_type": "code",
   "execution_count": null,
   "id": "1822441f",
   "metadata": {
    "scrolled": true
   },
   "outputs": [],
   "source": [
    "voltage_timestamp_array[random_voltage_index]"
   ]
  },
  {
   "cell_type": "markdown",
   "id": "d1b237a1",
   "metadata": {},
   "source": [
    "- Getting the voltage value based on the index"
   ]
  },
  {
   "cell_type": "code",
   "execution_count": null,
   "id": "77c53752",
   "metadata": {},
   "outputs": [],
   "source": [
    "voltage_value_array[random_voltage_index]"
   ]
  },
  {
   "cell_type": "markdown",
   "id": "7b078ff8",
   "metadata": {},
   "source": [
    "## Time Stamp to Video Frame"
   ]
  },
  {
   "cell_type": "code",
   "execution_count": null,
   "id": "4429510f",
   "metadata": {},
   "outputs": [],
   "source": [
    "video_time_stamp_array"
   ]
  },
  {
   "cell_type": "code",
   "execution_count": null,
   "id": "f528eac7",
   "metadata": {},
   "outputs": [],
   "source": [
    "pos_timestamp_array"
   ]
  },
  {
   "cell_type": "markdown",
   "id": "9b49f65b",
   "metadata": {},
   "source": [
    "- Getting the index of the closest timestamp. The index corresponds to the video's frame number"
   ]
  },
  {
   "cell_type": "code",
   "execution_count": null,
   "id": "eb728faf",
   "metadata": {},
   "outputs": [],
   "source": [
    "random_video_frame = timestamp_to_index(current_ts=pos_timestamp_array[0], ts_array=pos_timestamp_array)"
   ]
  },
  {
   "cell_type": "code",
   "execution_count": null,
   "id": "afe434a4",
   "metadata": {},
   "outputs": [],
   "source": [
    "random_video_frame"
   ]
  },
  {
   "cell_type": "code",
   "execution_count": null,
   "id": "651bc7af",
   "metadata": {},
   "outputs": [],
   "source": [
    "pos_timestamp_array[random_video_frame]"
   ]
  },
  {
   "cell_type": "markdown",
   "id": "5c11546c",
   "metadata": {},
   "source": [
    "# ADDED AFTER"
   ]
  },
  {
   "cell_type": "markdown",
   "id": "c1ce31fe",
   "metadata": {},
   "source": [
    "# Part 4: Syncing everything based on timestamps"
   ]
  },
  {
   "cell_type": "markdown",
   "id": "158f7745",
   "metadata": {},
   "source": [
    "# Syncing with MED-PC"
   ]
  },
  {
   "cell_type": "markdown",
   "id": "018567ac",
   "metadata": {},
   "source": [
    "## Looking over the MED-PC Data"
   ]
  },
  {
   "cell_type": "markdown",
   "id": "8d308f54",
   "metadata": {},
   "source": [
    "- Box 1 Port Entries\n",
    "    - ECU Din3\n",
    "- Box 2 Port Entries\n",
    "    - Controller Din1\n",
    "- Box 1 Tone playing\n",
    "    - ECU Din1"
   ]
  },
  {
   "cell_type": "code",
   "execution_count": null,
   "id": "f2bedcca",
   "metadata": {},
   "outputs": [],
   "source": [
    "DIO_directory_name = trodes.read_exported.get_key_with_substring(file_to_data, substring=\"DIO\")"
   ]
  },
  {
   "cell_type": "code",
   "execution_count": null,
   "id": "f0e565ad",
   "metadata": {},
   "outputs": [],
   "source": [
    "DIO_directory_name"
   ]
  },
  {
   "cell_type": "code",
   "execution_count": null,
   "id": "b0f97bce",
   "metadata": {},
   "outputs": [],
   "source": [
    "DIO_directory_dict = file_to_data[DIO_directory_name]"
   ]
  },
  {
   "cell_type": "code",
   "execution_count": null,
   "id": "ad0de58c",
   "metadata": {},
   "outputs": [],
   "source": [
    "DIO_directory_dict.keys()"
   ]
  },
  {
   "cell_type": "markdown",
   "id": "9b056dae",
   "metadata": {},
   "source": [
    "### Tone Onset Signal"
   ]
  },
  {
   "cell_type": "code",
   "execution_count": null,
   "id": "e83a6711",
   "metadata": {},
   "outputs": [],
   "source": [
    "tone_onset_DIN_file_name = trodes.read_exported.get_key_with_substring(DIO_directory_dict, substring=\"ECU_Din1.dat\", return_first=True)"
   ]
  },
  {
   "cell_type": "code",
   "execution_count": null,
   "id": "26954044",
   "metadata": {},
   "outputs": [],
   "source": [
    "tone_onset_DIN_file_name"
   ]
  },
  {
   "cell_type": "code",
   "execution_count": null,
   "id": "abe63689",
   "metadata": {},
   "outputs": [],
   "source": [
    "tone_onset_DIN_state_array = DIO_directory_dict[tone_onset_DIN_file_name][\"data\"]"
   ]
  },
  {
   "cell_type": "code",
   "execution_count": null,
   "id": "50404e96",
   "metadata": {},
   "outputs": [],
   "source": [
    "tone_onset_DIN_state_array"
   ]
  },
  {
   "cell_type": "code",
   "execution_count": null,
   "id": "e710ff42",
   "metadata": {},
   "outputs": [],
   "source": [
    "plt.hist([tup[1] for tup in tone_onset_DIN_state_array])"
   ]
  },
  {
   "cell_type": "code",
   "execution_count": null,
   "id": "b3f107d4",
   "metadata": {},
   "outputs": [],
   "source": [
    "plt.plot([tup[0] for tup in tone_onset_DIN_state_array], [tup[1] for tup in tone_onset_DIN_state_array])\n",
    "plt.xlabel(\"Timestamp\")\n",
    "plt.ylabel(\"State\")\n",
    "plt.title(\"Din State Change against Timestamps\")"
   ]
  },
  {
   "cell_type": "markdown",
   "id": "6e212a6d",
   "metadata": {},
   "source": [
    "### Box 1 Port Entries"
   ]
  },
  {
   "cell_type": "code",
   "execution_count": null,
   "id": "deb6f593",
   "metadata": {},
   "outputs": [],
   "source": [
    "box1_port_entries_DIN_file_name = trodes.read_exported.get_key_with_substring(DIO_directory_dict, substring=\"ECU_Din3.dat\", return_first=True)"
   ]
  },
  {
   "cell_type": "code",
   "execution_count": null,
   "id": "5989fe5c",
   "metadata": {},
   "outputs": [],
   "source": [
    "box1_port_entries_DIN_file_name"
   ]
  },
  {
   "cell_type": "code",
   "execution_count": null,
   "id": "fee4fa1b",
   "metadata": {},
   "outputs": [],
   "source": [
    "box1_port_entries_DIN_state_array = DIO_directory_dict[box1_port_entries_DIN_file_name][\"data\"]"
   ]
  },
  {
   "cell_type": "code",
   "execution_count": null,
   "id": "9c7c1288",
   "metadata": {},
   "outputs": [],
   "source": [
    "box1_port_entries_DIN_state_array"
   ]
  },
  {
   "cell_type": "code",
   "execution_count": null,
   "id": "ce8d65cf",
   "metadata": {},
   "outputs": [],
   "source": [
    "plt.hist([tup[1] for tup in box1_port_entries_DIN_state_array])"
   ]
  },
  {
   "cell_type": "markdown",
   "id": "8a947d1b",
   "metadata": {},
   "source": [
    "- There is a gap in the middle when the protocol was being changed between competition or omission"
   ]
  },
  {
   "cell_type": "code",
   "execution_count": null,
   "id": "34b724d3",
   "metadata": {
    "scrolled": true
   },
   "outputs": [],
   "source": [
    "plt.plot([tup[0] for tup in box1_port_entries_DIN_state_array], [tup[1] for tup in box1_port_entries_DIN_state_array])\n",
    "plt.xlabel(\"Timestamp\")\n",
    "plt.ylabel(\"State\")\n",
    "plt.title(\"Din State Change against Timestamps\")"
   ]
  },
  {
   "cell_type": "markdown",
   "id": "b7b0e53b",
   "metadata": {},
   "source": [
    "### Box 2 Port Entries"
   ]
  },
  {
   "cell_type": "code",
   "execution_count": null,
   "id": "502d879c",
   "metadata": {},
   "outputs": [],
   "source": [
    "box2_port_entries_DIN_file_name = trodes.read_exported.get_key_with_substring(DIO_directory_dict, substring=\"dio_Controller_Din1.dat\", return_first=True)"
   ]
  },
  {
   "cell_type": "code",
   "execution_count": null,
   "id": "9da1f8b4",
   "metadata": {},
   "outputs": [],
   "source": [
    "box2_port_entries_DIN_file_name"
   ]
  },
  {
   "cell_type": "code",
   "execution_count": null,
   "id": "177fbc6a",
   "metadata": {},
   "outputs": [],
   "source": [
    "box2_port_entries_DIN_file_name = DIO_directory_dict[box2_port_entries_DIN_file_name][\"data\"]"
   ]
  },
  {
   "cell_type": "code",
   "execution_count": null,
   "id": "0f7498c1",
   "metadata": {},
   "outputs": [],
   "source": [
    "box2_port_entries_DIN_file_name"
   ]
  },
  {
   "cell_type": "code",
   "execution_count": null,
   "id": "1f20a231",
   "metadata": {},
   "outputs": [],
   "source": [
    "plt.hist([tup[1] for tup in box2_port_entries_DIN_file_name])"
   ]
  },
  {
   "cell_type": "markdown",
   "id": "9459dcea",
   "metadata": {},
   "source": [
    "- This is half the time than the previous port entries, because the mouse was moved to box 1 for half of the session"
   ]
  },
  {
   "cell_type": "code",
   "execution_count": null,
   "id": "961e32ac",
   "metadata": {
    "scrolled": true
   },
   "outputs": [],
   "source": [
    "plt.plot([tup[0] for tup in box2_port_entries_DIN_file_name], [tup[1] for tup in box2_port_entries_DIN_file_name])\n",
    "plt.xlabel(\"Timestamp\")\n",
    "plt.ylabel(\"State\")\n",
    "plt.title(\"Din State Change against Timestamps\")"
   ]
  },
  {
   "cell_type": "markdown",
   "id": "6758ace5",
   "metadata": {},
   "source": [
    "## Labeling the Tone and Port Entries"
   ]
  },
  {
   "cell_type": "markdown",
   "id": "0a8d06dc",
   "metadata": {},
   "source": [
    "# Syncing with MED-PC"
   ]
  },
  {
   "cell_type": "markdown",
   "id": "61c05c87",
   "metadata": {},
   "source": [
    "- List of when the ECU has changed signal. 1 means that the ECU Din1 signal is on, 0 means it's off."
   ]
  },
  {
   "cell_type": "code",
   "execution_count": null,
   "id": "d4a7dc67",
   "metadata": {},
   "outputs": [],
   "source": [
    "tone_onset_DIN_state_array"
   ]
  },
  {
   "cell_type": "markdown",
   "id": "1f526f4a",
   "metadata": {},
   "source": [
    "- Checking to see if 1 or 0 is when the tone plays\n",
    "    - Dividing by 20000, because we are recording at a sampling rate at 20000"
   ]
  },
  {
   "cell_type": "code",
   "execution_count": null,
   "id": "dde749ec",
   "metadata": {},
   "outputs": [],
   "source": [
    "tone_onset_DIN_state_array[0][0]"
   ]
  },
  {
   "cell_type": "code",
   "execution_count": null,
   "id": "55ed04ba",
   "metadata": {},
   "outputs": [],
   "source": [
    "tone_onset_DIN_state_array[0][1]"
   ]
  },
  {
   "cell_type": "code",
   "execution_count": null,
   "id": "d4a6bab6",
   "metadata": {},
   "outputs": [],
   "source": [
    "tone_onset_DIN_state_array[1][0]"
   ]
  },
  {
   "cell_type": "code",
   "execution_count": null,
   "id": "272fd90e",
   "metadata": {},
   "outputs": [],
   "source": [
    "tone_onset_DIN_state_array[1][1]"
   ]
  },
  {
   "cell_type": "code",
   "execution_count": null,
   "id": "2cd56556",
   "metadata": {},
   "outputs": [],
   "source": [
    "tone_onset_DIN_state_array[2][0]"
   ]
  },
  {
   "cell_type": "code",
   "execution_count": null,
   "id": "b1bf3ee1",
   "metadata": {},
   "outputs": [],
   "source": [
    "tone_onset_DIN_state_array[2][1]"
   ]
  },
  {
   "cell_type": "markdown",
   "id": "d00413be",
   "metadata": {},
   "source": [
    "- So the tone starts when the state is \"1\"\n",
    "    - This can be seen because the time from 1 to 0 is less than 60 seconds"
   ]
  },
  {
   "cell_type": "code",
   "execution_count": null,
   "id": "48e38b9b",
   "metadata": {},
   "outputs": [],
   "source": [
    "first_delay = (tone_onset_DIN_state_array[1][0] - tone_onset_DIN_state_array[0][0]) / 20000"
   ]
  },
  {
   "cell_type": "code",
   "execution_count": null,
   "id": "7b6235ff",
   "metadata": {},
   "outputs": [],
   "source": [
    "first_delay"
   ]
  },
  {
   "cell_type": "markdown",
   "id": "1de5c448",
   "metadata": {},
   "source": [
    "- Time difference for on >>> off"
   ]
  },
  {
   "cell_type": "code",
   "execution_count": null,
   "id": "6795075d",
   "metadata": {},
   "outputs": [],
   "source": [
    "(tone_onset_DIN_state_array[3][0] - tone_onset_DIN_state_array[2][0]) / 20000"
   ]
  },
  {
   "cell_type": "markdown",
   "id": "4d42f97b",
   "metadata": {},
   "source": [
    "- So the tone starts when the state is \"2\"\n",
    "    - This can be seen because the time from 0 to 1 is 60 seconds, the time for one session"
   ]
  },
  {
   "cell_type": "code",
   "execution_count": null,
   "id": "fec03959",
   "metadata": {},
   "outputs": [],
   "source": [
    "(tone_onset_DIN_state_array[2][0] - tone_onset_DIN_state_array[1][0]) / 20000"
   ]
  },
  {
   "cell_type": "markdown",
   "id": "0eafb664",
   "metadata": {},
   "source": [
    "- Getting only the times when the ECU signal was on"
   ]
  },
  {
   "cell_type": "code",
   "execution_count": null,
   "id": "d2c4e485",
   "metadata": {},
   "outputs": [],
   "source": [
    "tone_din_time = [din_time for din_time, din_state in tone_onset_DIN_state_array if din_state == 1]"
   ]
  },
  {
   "cell_type": "code",
   "execution_count": null,
   "id": "9124a2fd",
   "metadata": {},
   "outputs": [],
   "source": [
    "len(tone_din_time)"
   ]
  },
  {
   "cell_type": "code",
   "execution_count": null,
   "id": "7acea383",
   "metadata": {},
   "outputs": [],
   "source": [
    "tone_din_time[:10]"
   ]
  },
  {
   "cell_type": "markdown",
   "id": "99b5e673",
   "metadata": {},
   "source": [
    "# From DIN to Video"
   ]
  },
  {
   "cell_type": "markdown",
   "id": "d912df6b",
   "metadata": {},
   "source": [
    "- State 1 is when the MED-PC signal is being recieved. And 0 is when it is turned off. So we will get the timestamp of when it is first 1."
   ]
  },
  {
   "cell_type": "code",
   "execution_count": null,
   "id": "0ba4c5d6",
   "metadata": {},
   "outputs": [],
   "source": [
    "tone_onset_DIN_state_array"
   ]
  },
  {
   "cell_type": "code",
   "execution_count": null,
   "id": "db7a47bf",
   "metadata": {},
   "outputs": [],
   "source": [
    "tone_time_stamp = [time_state[0] for time_state in tone_onset_DIN_state_array if time_state[1]]"
   ]
  },
  {
   "cell_type": "code",
   "execution_count": null,
   "id": "d889cf6a",
   "metadata": {},
   "outputs": [],
   "source": [
    "example_tone_time_stamp = tone_time_stamp[3]"
   ]
  },
  {
   "cell_type": "code",
   "execution_count": null,
   "id": "e0b1ba5f",
   "metadata": {},
   "outputs": [],
   "source": [
    "example_tone_time_stamp"
   ]
  },
  {
   "cell_type": "markdown",
   "id": "148723da",
   "metadata": {},
   "source": [
    "- Array of the time stamp of all the frames"
   ]
  },
  {
   "cell_type": "code",
   "execution_count": null,
   "id": "268e96b1",
   "metadata": {},
   "outputs": [],
   "source": [
    "pos_timestamp_array"
   ]
  },
  {
   "cell_type": "markdown",
   "id": "1fbe7728",
   "metadata": {},
   "source": [
    "- Getting the first video time stamp that is greater than the voltage time stamp"
   ]
  },
  {
   "cell_type": "code",
   "execution_count": null,
   "id": "1ec60639",
   "metadata": {},
   "outputs": [],
   "source": [
    "current_video_frame = timestamp_to_index(current_ts=example_tone_time_stamp, ts_array=pos_timestamp_array)"
   ]
  },
  {
   "cell_type": "code",
   "execution_count": null,
   "id": "cd06980b",
   "metadata": {
    "scrolled": true
   },
   "outputs": [],
   "source": [
    "current_video_frame"
   ]
  },
  {
   "cell_type": "code",
   "execution_count": null,
   "id": "b3598b8f",
   "metadata": {},
   "outputs": [],
   "source": [
    "timestamp_to_index(current_ts=28625643, ts_array=pos_timestamp_array)"
   ]
  },
  {
   "cell_type": "markdown",
   "id": "c6c58a56",
   "metadata": {},
   "source": [
    "# Syncing up the timestamps using Pandas"
   ]
  },
  {
   "cell_type": "markdown",
   "id": "adafa131",
   "metadata": {},
   "source": [
    "## Adding the Voltage as columns"
   ]
  },
  {
   "cell_type": "code",
   "execution_count": null,
   "id": "478e0b5a",
   "metadata": {},
   "outputs": [],
   "source": [
    "voltage_timestamp_array[:5]"
   ]
  },
  {
   "cell_type": "code",
   "execution_count": null,
   "id": "7223f277",
   "metadata": {},
   "outputs": [],
   "source": [
    "voltage_timestamp_array.shape"
   ]
  },
  {
   "cell_type": "code",
   "execution_count": null,
   "id": "b31e7b98",
   "metadata": {
    "scrolled": true
   },
   "outputs": [],
   "source": [
    "voltage_value_array[:5]"
   ]
  },
  {
   "cell_type": "code",
   "execution_count": null,
   "id": "4c4d2caa",
   "metadata": {},
   "outputs": [],
   "source": [
    "voltage_value_array.shape"
   ]
  },
  {
   "cell_type": "markdown",
   "id": "7210172d",
   "metadata": {},
   "source": [
    "- Adding the voltage timestamps"
   ]
  },
  {
   "cell_type": "code",
   "execution_count": null,
   "id": "c0b74a4a",
   "metadata": {},
   "outputs": [],
   "source": [
    "ephys_dataframe = pd.DataFrame(voltage_timestamp_array, columns=[\"voltage_time_stamp\"])"
   ]
  },
  {
   "cell_type": "code",
   "execution_count": null,
   "id": "c49f894b",
   "metadata": {
    "scrolled": true
   },
   "outputs": [],
   "source": [
    "ephys_dataframe.head()"
   ]
  },
  {
   "cell_type": "markdown",
   "id": "af9c98de",
   "metadata": {},
   "source": [
    "- Adding the voltage value"
   ]
  },
  {
   "cell_type": "raw",
   "id": "6cf9c3dc",
   "metadata": {},
   "source": [
    "# This adds a lot to the dataframe, so uncomment only if necessary\n",
    "ephys_dataframe[\"voltage_value\"] = voltage_value_array.tolist()"
   ]
  },
  {
   "cell_type": "code",
   "execution_count": null,
   "id": "ca97b35f",
   "metadata": {
    "scrolled": true
   },
   "outputs": [],
   "source": [
    "ephys_dataframe.head()"
   ]
  },
  {
   "cell_type": "markdown",
   "id": "03c1db9e",
   "metadata": {},
   "source": [
    "## Adding the video data as columns"
   ]
  },
  {
   "cell_type": "markdown",
   "id": "2a62171a",
   "metadata": {},
   "source": [
    "- Creating a seperate dataframe for video data first"
   ]
  },
  {
   "cell_type": "code",
   "execution_count": null,
   "id": "ba03e7b9",
   "metadata": {},
   "outputs": [],
   "source": [
    "pos_timestamp_array[:5]"
   ]
  },
  {
   "cell_type": "code",
   "execution_count": null,
   "id": "c5c17fbf",
   "metadata": {},
   "outputs": [],
   "source": [
    "pos_timestamp_array[-5:]"
   ]
  },
  {
   "cell_type": "code",
   "execution_count": null,
   "id": "ce05e8ff",
   "metadata": {},
   "outputs": [],
   "source": [
    "video_dataframe = pd.DataFrame(pos_timestamp_array, columns=[\"PosTimestamp\"])"
   ]
  },
  {
   "cell_type": "code",
   "execution_count": null,
   "id": "041d0cac",
   "metadata": {},
   "outputs": [],
   "source": [
    "video_dataframe.head()"
   ]
  },
  {
   "cell_type": "markdown",
   "id": "15f59138",
   "metadata": {},
   "source": [
    "- Adding the frames which would just be the number in the list that the timestamps belongs to"
   ]
  },
  {
   "cell_type": "code",
   "execution_count": null,
   "id": "fb863893",
   "metadata": {
    "scrolled": true
   },
   "outputs": [],
   "source": [
    "video_dataframe.insert(0, 'frame_number', range(1, 1 + len(video_dataframe)))"
   ]
  },
  {
   "cell_type": "markdown",
   "id": "b7de1a73",
   "metadata": {},
   "source": [
    "- Calculating the time within the video by dividing the frame by the fps"
   ]
  },
  {
   "cell_type": "code",
   "execution_count": null,
   "id": "bca73f7b",
   "metadata": {},
   "outputs": [],
   "source": [
    "video_dataframe[\"video_time\"] = video_dataframe[\"frame_number\"] / fps"
   ]
  },
  {
   "cell_type": "code",
   "execution_count": null,
   "id": "58c11371",
   "metadata": {},
   "outputs": [],
   "source": [
    "video_dataframe[\"video_seconds\"] = video_dataframe[\"video_time\"].astype(int)"
   ]
  },
  {
   "cell_type": "code",
   "execution_count": null,
   "id": "926c3823",
   "metadata": {},
   "outputs": [],
   "source": [
    "video_dataframe"
   ]
  },
  {
   "cell_type": "markdown",
   "id": "2801c768",
   "metadata": {},
   "source": [
    "## Combining the ephys and video dataframe into one"
   ]
  },
  {
   "cell_type": "code",
   "execution_count": null,
   "id": "b2ebc832",
   "metadata": {},
   "outputs": [],
   "source": [
    "ephy_and_video_dataframe = pd.merge(ephys_dataframe, video_dataframe, left_on='voltage_time_stamp', right_on='PosTimestamp', how=\"left\")"
   ]
  },
  {
   "cell_type": "code",
   "execution_count": null,
   "id": "9201fbc4",
   "metadata": {},
   "outputs": [],
   "source": [
    "ephy_and_video_dataframe"
   ]
  },
  {
   "cell_type": "code",
   "execution_count": null,
   "id": "29bbcc51",
   "metadata": {},
   "outputs": [],
   "source": [
    "ephy_and_video_dataframe.columns"
   ]
  },
  {
   "cell_type": "markdown",
   "id": "182dadba",
   "metadata": {},
   "source": [
    "- There are only a small number of rows that have information for the video, because the sampling rate is much smaller. "
   ]
  },
  {
   "cell_type": "code",
   "execution_count": null,
   "id": "564ca911",
   "metadata": {},
   "outputs": [],
   "source": [
    "ephy_and_video_dataframe.dropna(subset=[\"PosTimestamp\"])"
   ]
  },
  {
   "cell_type": "markdown",
   "id": "925b2441",
   "metadata": {},
   "source": [
    "- Filling in all the blank cells with the previous rows for the video related columns into new columns. This can be used to select for all rows that correspond to something happening within the video"
   ]
  },
  {
   "cell_type": "code",
   "execution_count": null,
   "id": "e35eaa7b",
   "metadata": {},
   "outputs": [],
   "source": [
    "ephy_and_video_dataframe.columns"
   ]
  },
  {
   "cell_type": "code",
   "execution_count": null,
   "id": "6868e7f6",
   "metadata": {},
   "outputs": [],
   "source": [
    "for col in ephy_and_video_dataframe.columns:\n",
    "    if \"filled\" not in col:\n",
    "        ephy_and_video_dataframe['filled_{}'.format(col)] = ephy_and_video_dataframe[col].fillna(method='ffill')\n"
   ]
  },
  {
   "cell_type": "code",
   "execution_count": null,
   "id": "99b3848e",
   "metadata": {},
   "outputs": [],
   "source": [
    "ephy_and_video_dataframe['filled_PosTimestamp'] = ephy_and_video_dataframe['PosTimestamp'].fillna(method='ffill')\n",
    "ephy_and_video_dataframe['filled_frame_number'] = ephy_and_video_dataframe['frame_number'].fillna(method='ffill')\n",
    "ephy_and_video_dataframe['filled_video_time'] = ephy_and_video_dataframe['video_time'].fillna(method='ffill')\n",
    "ephy_and_video_dataframe['filled_video_seconds'] = ephy_and_video_dataframe['video_seconds'].fillna(method='ffill')"
   ]
  },
  {
   "cell_type": "code",
   "execution_count": null,
   "id": "e343ae63",
   "metadata": {},
   "outputs": [],
   "source": [
    "ephy_and_video_dataframe.tail()"
   ]
  },
  {
   "cell_type": "markdown",
   "id": "bc975896",
   "metadata": {},
   "source": [
    "## Adding the DIN info"
   ]
  },
  {
   "cell_type": "code",
   "execution_count": null,
   "id": "89ba5770",
   "metadata": {},
   "outputs": [],
   "source": [
    "DIN_dataframe = pd.DataFrame(tone_onset_DIN_state_array)"
   ]
  },
  {
   "cell_type": "markdown",
   "id": "dd3dac20",
   "metadata": {},
   "source": [
    "- Dropping the first two rows because that is when things start"
   ]
  },
  {
   "cell_type": "code",
   "execution_count": null,
   "id": "40e313ed",
   "metadata": {},
   "outputs": [],
   "source": [
    "DIN_dataframe = DIN_dataframe.drop([0,1]).reset_index(drop=True)"
   ]
  },
  {
   "cell_type": "code",
   "execution_count": null,
   "id": "d0d4a65c",
   "metadata": {},
   "outputs": [],
   "source": [
    "DIN_dataframe[\"trial_number\"] = DIN_dataframe[\"state\"].cumsum()"
   ]
  },
  {
   "cell_type": "code",
   "execution_count": null,
   "id": "68e16b67",
   "metadata": {},
   "outputs": [],
   "source": [
    "DIN_dataframe"
   ]
  },
  {
   "cell_type": "code",
   "execution_count": null,
   "id": "89f82716",
   "metadata": {},
   "outputs": [],
   "source": [
    "ephy_and_video_dataframe = pd.merge(ephy_and_video_dataframe, DIN_dataframe, left_on='voltage_time_stamp', right_on='time', how=\"left\")\n"
   ]
  },
  {
   "cell_type": "code",
   "execution_count": null,
   "id": "1ee80db9",
   "metadata": {},
   "outputs": [],
   "source": [
    "ephy_and_video_dataframe.head()"
   ]
  },
  {
   "cell_type": "code",
   "execution_count": null,
   "id": "19153995",
   "metadata": {},
   "outputs": [],
   "source": [
    "tone_info_dataframe = ephy_and_video_dataframe.dropna(subset=[\"time\"]).reset_index(drop=True)\n"
   ]
  },
  {
   "cell_type": "code",
   "execution_count": null,
   "id": "6e35c542",
   "metadata": {},
   "outputs": [],
   "source": [
    "tone_info_dataframe[\"voltage_index\"] = tone_info_dataframe[\"voltage_time_stamp\"] - voltage_timestamp_array[0]"
   ]
  },
  {
   "cell_type": "code",
   "execution_count": null,
   "id": "75c6de7e",
   "metadata": {},
   "outputs": [],
   "source": [
    "tone_info_dataframe = tone_info_dataframe.dropna(axis=\"columns\")\n",
    "# To remove last tone light\n",
    "tone_info_dataframe = tone_info_dataframe.iloc[0:-1]"
   ]
  },
  {
   "cell_type": "code",
   "execution_count": null,
   "id": "b2d30658",
   "metadata": {},
   "outputs": [],
   "source": [
    "tone_info_dataframe"
   ]
  },
  {
   "cell_type": "code",
   "execution_count": null,
   "id": "92705a97",
   "metadata": {},
   "outputs": [],
   "source": [
    "results_dict = {1390826: 'rewarded',\n",
    " 2990825: 'rewarded',\n",
    " 4790823: 'rewarded',\n",
    " 6390821: 'omission',\n",
    " 7890820: 'rewarded',\n",
    " 9890818: 'rewarded',\n",
    " 11790816: 'rewarded',\n",
    " 13590815: 'rewarded',\n",
    " 15190821: 'omission',\n",
    " 16990812: 'rewarded',\n",
    " 18990809: 'rewarded',\n",
    " 20790805: 'omission',\n",
    " 23190805: 'rewarded',\n",
    " 24990804: 'rewarded',\n",
    " 30949197: 'win',\n",
    " 32549196: 'win',\n",
    " 34349195: 'win',\n",
    " 35949193: 'win',\n",
    " 37449192: 'win',\n",
    " 39449187: 'win',\n",
    " 41349188: 'win',\n",
    " 43149186: 'win',\n",
    " 44749185: 'win',\n",
    " 46549183: 'win',\n",
    " 48549181: 'win',\n",
    " 50349180: 'win',\n",
    " 52749175: 'win',\n",
    " 54549173: 'win',\n",
    " 56249171: 'win',\n",
    " 58049170: 'win',\n",
    " 59949171: 'win',\n",
    " 62349168: 'win',\n",
    " 63949167: 'win'}"
   ]
  },
  {
   "cell_type": "code",
   "execution_count": null,
   "id": "a0ed9e7e",
   "metadata": {},
   "outputs": [],
   "source": [
    "tone_info_dataframe[\"trial_type\"] = tone_info_dataframe[\"voltage_index\"].map(results_dict)"
   ]
  },
  {
   "cell_type": "code",
   "execution_count": null,
   "id": "422e684c",
   "metadata": {},
   "outputs": [],
   "source": [
    "tone_info_dataframe"
   ]
  },
  {
   "cell_type": "code",
   "execution_count": null,
   "id": "633e4da5",
   "metadata": {},
   "outputs": [],
   "source": [
    "tone_info_dataframe[tone_info_dataframe[\"trial_type\"] == \"rewarded\"]"
   ]
  },
  {
   "cell_type": "code",
   "execution_count": null,
   "id": "09791035",
   "metadata": {},
   "outputs": [],
   "source": [
    "tone_info_dataframe[tone_info_dataframe[\"trial_type\"] == \"win\"]"
   ]
  },
  {
   "cell_type": "code",
   "execution_count": null,
   "id": "8e4a6b59",
   "metadata": {},
   "outputs": [],
   "source": [
    "recording_file_name = file_to_data[\"raw\"][\"raw_group0.dat\"][\"original_file\"]"
   ]
  },
  {
   "cell_type": "code",
   "execution_count": null,
   "id": "0591f143",
   "metadata": {},
   "outputs": [],
   "source": [
    "recording_base_name = os.path.splitext(recording_file_name)[0]"
   ]
  },
  {
   "cell_type": "code",
   "execution_count": null,
   "id": "4f417053",
   "metadata": {},
   "outputs": [],
   "source": [
    "recording_base_name"
   ]
  },
  {
   "cell_type": "code",
   "execution_count": null,
   "id": "617d43f0",
   "metadata": {},
   "outputs": [],
   "source": [
    "tone_info_dataframe.to_csv(\"./proc/{}.tone_timestamps.csv\".format(recording_base_name))"
   ]
  },
  {
   "cell_type": "code",
   "execution_count": null,
   "id": "28c4e59c",
   "metadata": {},
   "outputs": [],
   "source": [
    "tone_info_dataframe"
   ]
  },
  {
   "cell_type": "code",
   "execution_count": null,
   "id": "e32f8304",
   "metadata": {},
   "outputs": [],
   "source": [
    "raise ValueError()"
   ]
  },
  {
   "cell_type": "code",
   "execution_count": null,
   "id": "5a6926b8",
   "metadata": {},
   "outputs": [],
   "source": [
    "ephy_and_video_dataframe[\"filled_state\"] = ephy_and_video_dataframe[\"state\"].ffill()\n",
    "ephy_and_video_dataframe[\"filled_trial_number\"] = ephy_and_video_dataframe[\"trial_number\"].ffill()"
   ]
  },
  {
   "cell_type": "code",
   "execution_count": null,
   "id": "460fad0d",
   "metadata": {},
   "outputs": [],
   "source": [
    "ephy_and_video_dataframe.head()"
   ]
  },
  {
   "cell_type": "code",
   "execution_count": null,
   "id": "3aa5eeba",
   "metadata": {
    "scrolled": true
   },
   "outputs": [],
   "source": [
    "ephy_and_video_dataframe.tail()"
   ]
  },
  {
   "cell_type": "code",
   "execution_count": null,
   "id": "22793278",
   "metadata": {
    "scrolled": true
   },
   "outputs": [],
   "source": [
    "trial_1_df = ephy_and_video_dataframe[ephy_and_video_dataframe[\"filled_trial_number\"] == 2]"
   ]
  },
  {
   "cell_type": "code",
   "execution_count": null,
   "id": "79a2d453",
   "metadata": {
    "scrolled": true
   },
   "outputs": [],
   "source": [
    "trial_1_df.head()"
   ]
  },
  {
   "cell_type": "code",
   "execution_count": null,
   "id": "83b4e430",
   "metadata": {
    "scrolled": true
   },
   "outputs": [],
   "source": [
    "file_to_data[\"raw\"]"
   ]
  },
  {
   "cell_type": "code",
   "execution_count": null,
   "id": "51bc7e9c",
   "metadata": {},
   "outputs": [],
   "source": [
    "ephy_and_video_dataframe.to_csv(\"./proc/{}.timestamps.csv\".format(recording_base_name))"
   ]
  },
  {
   "cell_type": "code",
   "execution_count": null,
   "id": "ee8c05ec",
   "metadata": {},
   "outputs": [],
   "source": [
    "raise ValueError()"
   ]
  },
  {
   "cell_type": "code",
   "execution_count": null,
   "id": "a043053d",
   "metadata": {},
   "outputs": [],
   "source": []
  },
  {
   "cell_type": "markdown",
   "id": "0ed54349",
   "metadata": {},
   "source": [
    "- Original frame number(before light turns on)"
   ]
  },
  {
   "cell_type": "code",
   "execution_count": null,
   "id": "597e4161",
   "metadata": {},
   "outputs": [],
   "source": [
    "current_video_frame = trial_1_df[\"filled_frame_number\"].min()"
   ]
  },
  {
   "cell_type": "markdown",
   "id": "37c95f1d",
   "metadata": {},
   "source": [
    "- Corrected frame number(that has the light on)"
   ]
  },
  {
   "cell_type": "code",
   "execution_count": null,
   "id": "d4c4b4e4",
   "metadata": {},
   "outputs": [],
   "source": [
    "corrected_video_frame = current_video_frame + 2"
   ]
  },
  {
   "cell_type": "code",
   "execution_count": null,
   "id": "1a818fea",
   "metadata": {},
   "outputs": [],
   "source": [
    "cap.set(cv2.CAP_PROP_POS_FRAMES, corrected_video_frame)\n"
   ]
  },
  {
   "cell_type": "code",
   "execution_count": null,
   "id": "cd2d23af",
   "metadata": {},
   "outputs": [],
   "source": [
    "_, frame = cap.read()"
   ]
  },
  {
   "cell_type": "code",
   "execution_count": null,
   "id": "e09e38b7",
   "metadata": {},
   "outputs": [],
   "source": [
    "video_file_path"
   ]
  },
  {
   "cell_type": "code",
   "execution_count": null,
   "id": "a45fcaf0",
   "metadata": {},
   "outputs": [],
   "source": [
    "output_directory = \"./proc\""
   ]
  },
  {
   "cell_type": "code",
   "execution_count": null,
   "id": "a03c9c7e",
   "metadata": {},
   "outputs": [],
   "source": [
    "output_directory"
   ]
  },
  {
   "cell_type": "code",
   "execution_count": null,
   "id": "8570ae2a",
   "metadata": {},
   "outputs": [],
   "source": [
    "os.makedirs(output_directory, exist_ok=True)"
   ]
  },
  {
   "cell_type": "code",
   "execution_count": null,
   "id": "40c71ef0",
   "metadata": {},
   "outputs": [],
   "source": [
    "video_file_basename = os.path.basename(video_file_path)"
   ]
  },
  {
   "cell_type": "code",
   "execution_count": null,
   "id": "012bc243",
   "metadata": {},
   "outputs": [],
   "source": [
    "video_file_root = os.path.splitext(video_file_basename)[0]"
   ]
  },
  {
   "cell_type": "code",
   "execution_count": null,
   "id": "f316fef3",
   "metadata": {},
   "outputs": [],
   "source": [
    "video_file_root"
   ]
  },
  {
   "cell_type": "code",
   "execution_count": null,
   "id": "5a45aea9",
   "metadata": {
    "scrolled": true
   },
   "outputs": [],
   "source": [
    "cv2.imwrite(os.path.join(output_directory, '{}.frame_{}.png'.format(video_file_root, corrected_video_frame)), frame)"
   ]
  },
  {
   "cell_type": "raw",
   "id": "fcf0b6f2",
   "metadata": {
    "scrolled": false
   },
   "source": [
    "raise ValueError(\"\"\"Run cell after this one if you want to see the image in Jupyter Notebooks. \n",
    "Make sure that you just exit by pressing the `esc` key on the keyboard. \n",
    "DO NOT press the red X button.\"\"\")"
   ]
  },
  {
   "cell_type": "raw",
   "id": "813b1a1d",
   "metadata": {},
   "source": [
    "\n",
    "\n",
    "cv2.imshow('led_light_on', frame)\n",
    "cv2.waitKey(0)\n",
    "cv2.destroyAllWindows()"
   ]
  },
  {
   "cell_type": "markdown",
   "id": "21f426e0",
   "metadata": {},
   "source": [
    "# OTHER STUFF"
   ]
  },
  {
   "cell_type": "markdown",
   "id": "6ed8edc2",
   "metadata": {},
   "source": [
    "## Getting the specific frame"
   ]
  },
  {
   "cell_type": "code",
   "execution_count": null,
   "id": "80cc891f",
   "metadata": {},
   "outputs": [],
   "source": [
    "frame_count = int(cap.get(cv2.CAP_PROP_FRAME_COUNT))\n",
    "print('Frame count:', frame_count)"
   ]
  },
  {
   "cell_type": "markdown",
   "id": "8220550f",
   "metadata": {},
   "source": [
    "- Original frame number(before light turns on)"
   ]
  },
  {
   "cell_type": "code",
   "execution_count": null,
   "id": "737ae8aa",
   "metadata": {},
   "outputs": [],
   "source": [
    "corrected_video_frame = current_video_frame"
   ]
  },
  {
   "cell_type": "markdown",
   "id": "8aad3166",
   "metadata": {},
   "source": [
    "- Corrected frame number(that has the light on)"
   ]
  },
  {
   "cell_type": "code",
   "execution_count": null,
   "id": "fe96e457",
   "metadata": {},
   "outputs": [],
   "source": [
    "corrected_video_frame = current_video_frame + 2"
   ]
  },
  {
   "cell_type": "code",
   "execution_count": null,
   "id": "d23c15c3",
   "metadata": {},
   "outputs": [],
   "source": [
    "cap.set(cv2.CAP_PROP_POS_FRAMES, corrected_video_frame)\n"
   ]
  },
  {
   "cell_type": "code",
   "execution_count": null,
   "id": "59296bac",
   "metadata": {},
   "outputs": [],
   "source": [
    "_, frame = cap.read()"
   ]
  },
  {
   "cell_type": "code",
   "execution_count": null,
   "id": "c376585c",
   "metadata": {},
   "outputs": [],
   "source": [
    "video_file_path"
   ]
  },
  {
   "cell_type": "code",
   "execution_count": null,
   "id": "7fe7e8f1",
   "metadata": {},
   "outputs": [],
   "source": [
    "output_directory = \"./proc\""
   ]
  },
  {
   "cell_type": "code",
   "execution_count": null,
   "id": "30192113",
   "metadata": {},
   "outputs": [],
   "source": [
    "output_directory"
   ]
  },
  {
   "cell_type": "code",
   "execution_count": null,
   "id": "0dcdb353",
   "metadata": {},
   "outputs": [],
   "source": [
    "os.makedirs(output_directory, exist_ok=True)"
   ]
  },
  {
   "cell_type": "code",
   "execution_count": null,
   "id": "69708f96",
   "metadata": {},
   "outputs": [],
   "source": [
    "video_file_basename = os.path.basename(video_file_path)"
   ]
  },
  {
   "cell_type": "code",
   "execution_count": null,
   "id": "fbf5a1c9",
   "metadata": {},
   "outputs": [],
   "source": [
    "video_file_root = os.path.splitext(video_file_basename)[0]"
   ]
  },
  {
   "cell_type": "code",
   "execution_count": null,
   "id": "86cd5059",
   "metadata": {},
   "outputs": [],
   "source": [
    "video_file_root"
   ]
  },
  {
   "cell_type": "code",
   "execution_count": null,
   "id": "43ed2d34",
   "metadata": {},
   "outputs": [],
   "source": [
    "cv2.imwrite(os.path.join(output_directory, '{}.frame_{}.png'.format(video_file_root, corrected_video_frame)), frame)"
   ]
  },
  {
   "cell_type": "raw",
   "id": "8ac9e68a",
   "metadata": {
    "scrolled": false
   },
   "source": [
    "raise ValueError(\"\"\"Run cell after this one if you want to see the image in Jupyter Notebooks. \n",
    "Make sure that you just exit by pressing the `esc` key on the keyboard. \n",
    "DO NOT press the red X button.\"\"\")"
   ]
  },
  {
   "cell_type": "raw",
   "id": "10caa18d",
   "metadata": {},
   "source": [
    "\n",
    "\n",
    "cv2.imshow('led_light_on', frame)\n",
    "cv2.waitKey(0)\n",
    "cv2.destroyAllWindows()"
   ]
  },
  {
   "cell_type": "markdown",
   "id": "4d3eddef",
   "metadata": {},
   "source": [
    "- Where this video time stamp is(within the list of video time stamps), would be the frame number that corresponds to the ephys recording instance"
   ]
  },
  {
   "cell_type": "code",
   "execution_count": null,
   "id": "320a3b11",
   "metadata": {},
   "outputs": [],
   "source": [
    "current_video_seconds = corrected_video_frame / fps"
   ]
  },
  {
   "cell_type": "code",
   "execution_count": null,
   "id": "f83adf73",
   "metadata": {},
   "outputs": [],
   "source": [
    "current_video_seconds"
   ]
  },
  {
   "cell_type": "code",
   "execution_count": null,
   "id": "bc3ca39c",
   "metadata": {},
   "outputs": [],
   "source": [
    "print(\"MED-PC signal is at {}:{}\".format(int(current_video_seconds // 60), int(current_video_seconds % 60)))"
   ]
  }
 ],
 "metadata": {
  "kernelspec": {
   "display_name": "Python 3 (ipykernel)",
   "language": "python",
   "name": "python3"
  },
  "language_info": {
   "codemirror_mode": {
    "name": "ipython",
    "version": 3
   },
   "file_extension": ".py",
   "mimetype": "text/x-python",
   "name": "python",
   "nbconvert_exporter": "python",
   "pygments_lexer": "ipython3",
   "version": "3.9.16"
  }
 },
 "nbformat": 4,
 "nbformat_minor": 5
}
